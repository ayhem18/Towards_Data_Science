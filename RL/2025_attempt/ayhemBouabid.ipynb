{
  "cells": [
    {
      "cell_type": "markdown",
      "metadata": {
        "id": "VxOmU8oJZ8cw"
      },
      "source": [
        "Name: Ayhem Bouabid\n",
        "\n",
        "Email: a.bouabid@innopolis.university"
      ]
    },
    {
      "cell_type": "markdown",
      "metadata": {
        "id": "wlKIE0U37MsR"
      },
      "source": [
        "## Assignment 1: The value iteration algorithm\n",
        "\n",
        "Your task is to solve the Robot Cleaning problem using the Value Iteration algorithm.\n",
        "\n",
        "1- Based on your understanding write down the pseudo-code for Value Iteration algorithm.\n",
        "\n",
        "2- Complete the implementation for value iteration algorithm. Basically you need to only complete the `MDP.state_utility()` method, comment on your results.\n",
        "\n",
        "3- Make sure to provide your detailed explanation for the result.\n",
        "\n",
        "4- Explain in detail the results you got in comparison with the Policy Iteration algorithm in your own words based on your understanding.\n",
        "\n",
        "\n",
        "**Note:** Your grade will be based on your understanding of the algorithm and your analysis to the results. Cheating will be punished by nullifying.\n",
        "\n"
      ]
    },
    {
      "cell_type": "markdown",
      "metadata": {},
      "source": [
        "# Pseudo Code \n",
        "\n",
        "\n",
        "1. denoting the value function of each state by $V(s)$ and $V$ the array containing the value of each state, we randomly initialize $V$ (for example $V(s) = 0$ for all $s$)\n",
        "\n",
        "2. Repeat:\n",
        "    \n",
        "    $\\Delta \\leftarrow 0$ \n",
        "    \n",
        "    For each state $s$ in $S$:     \n",
        "    \n",
        "    $$ V(s) \\leftarrow \\max_{a \\in A} \\sum_{s' \\in \\mathbb{S}, r \\in \\mathbb{R}} P(s', r | s, a) \\cdot [r + \\gamma \\cdot V(s')]$$\n",
        "    \n",
        "    \n",
        "    $$\\Delta \\leftarrow \\max(\\Delta, |V(s) - V'(s)|)$$\n",
        "\n",
        "    Until $ \\Delta < \\epsilon$ ( $\\epsilon$ is a small number)\n",
        "\n",
        "where $\\sum_{s' \\in \\mathbb{S}, r \\in \\mathbb{R}}$ iterates over all possible pairs of next states and rewards in the state-space $\\mathbb{S}$ and the reward-space $\\mathbb{R}$\n",
        "\n",
        "3. Policy extraction:\n",
        "\n",
        "    For each state $s$ in $S$: \n",
        "        \n",
        "    $$\\pi(s) \\leftarrow \\arg\\max_{a \\in A} \\sum_{s' \\in \\mathbb{S}, r \\in \\mathbb{R}} P(s', r | s, a) \\cdot [r + \\gamma \\cdot V(s')]$$"
      ]
    },
    {
      "cell_type": "markdown",
      "metadata": {},
      "source": [
        "The pseudo code above is the most general form of the value iteration algorithm where it is assumed that a given state and action can lead to multiple pairs of next states and rewards and the probability of reaching the state $s'$ with a reward $r$ from $s$ by taking action $a$ is $P(s', r | s, a)$.\n",
        "\n",
        "The algorithm can be easily updated / simplified to consider simpler scenarios. For example assuming the reward does not depend on the next state and only on the current state and the action taken. \n",
        "\n",
        "The update rule can be simplified: to use only the expected reward from the current state and action pair.\n",
        "\n",
        "\n",
        "\\begin{align}\n",
        "\n",
        "V(s) &\\leftarrow \\max_{a \\in A} \\sum_{s' \\in \\mathbb{S}, r \\in \\mathbb{R}} P(s', r | s, a) \\cdot [r + \\gamma \\cdot V(s')] \\\\\n",
        "\n",
        "\\sum_{s' \\in \\mathbb{S}, r \\in \\mathbb{R}} P(s', r | s, a) \\cdot [r + \\gamma \\cdot V(s')] & = \\sum_{s' \\in \\mathbb{S}} (\\sum_{r \\in \\mathbb{R}} P(s', r | s, a) \\cdot [r + \\gamma \\cdot V(s')]) \\\\\n",
        "\n",
        "\\implies &= \\sum_{s' \\in \\mathbb{S}} (\\sum_{r \\in \\mathbb{R}} P(s', r | s, a) \\cdot r + \\gamma \\sum_{r \\in \\mathbb{R}} P(s', r | s, a) \\cdot V(s')) \\\\\n",
        "\n",
        "\\implies &= \\sum_{s' \\in \\mathbb{S}} (\\sum_{r \\in \\mathbb{R}} P(s', r | s, a) \\cdot r + \\gamma  \\cdot P(s' | s, a) \\cdot V(s')) && \\text{where $P(s' | s, a)$ is the probability of reaching $s'$ from $s$ by taking action $a$} \n",
        "\n",
        "\\\\\n",
        "\n",
        "\\implies &= \\sum_{r \\in \\mathbb{R}}(\\sum_{s' \\in \\mathbb{S}} (P(s', r | s, a) \\cdot r)) + \\gamma  \\cdot \\sum_{s' \\in \\mathbb{S}} (P(s' | s, a) \\cdot V(s')) \\\\\n",
        "\n",
        "\\implies &= \\sum_{r \\in \\mathbb{R}}((P(r | s, a) \\cdot r)) + \\gamma  \\cdot \\sum_{s' \\in \\mathbb{S}} (P(s' | s, a) \\cdot V(s'))  && \\text{where $P(r | s, a)$ is the probability of receiving reward $r$ from $s$ by taking action $a$} \\\\\n",
        "\n",
        "\\implies &= r(s, a) + \\gamma  \\cdot \\sum_{s' \\in \\mathbb{S}} (P(s' | s, a) \\cdot V(s')) && \\text{where $r(s, a)$ is the expected reward from $s$ by taking action $a$} \\\\\n",
        "\n",
        "\n",
        "\\implies V(s) &\\leftarrow \\max_{a \\in A} ~ (r(s, a) + \\gamma  \\cdot \\sum_{s' \\in \\mathbb{S}} (P(s' | s, a) \\cdot V(s'))) \n",
        "\n",
        "\\end{align}\n",
        "\n"
      ]
    },
    {
      "cell_type": "markdown",
      "metadata": {},
      "source": [
        "# Code"
      ]
    },
    {
      "cell_type": "code",
      "execution_count": 6,
      "metadata": {},
      "outputs": [],
      "source": [
        "import numpy as np\n",
        "import matplotlib.pyplot as plt\n",
        "\n",
        "import random\n",
        "random.seed(0)\n",
        "np.random.seed(0)"
      ]
    },
    {
      "cell_type": "code",
      "execution_count": 7,
      "metadata": {},
      "outputs": [],
      "source": [
        "class MDP:\n",
        "\tdef __init__(self):\n",
        "\t\t#Starting state vector\n",
        "\t\t#The agent starts from (1, 1)\n",
        "\t\tself.states = np.array([[0.0, 0.0, 0.0, 0.0],\n",
        "\t\t\t\t\t\t\t\t\t[0.0, 0.0, 0.0, 0.0],\n",
        "\t\t\t\t\t\t\t\t\t[1.0, 0.0, 0.0, 0.0]])\n",
        "\n",
        "\t\tself.rewards = np.array([-0.04, -0.04, -0.04,  +1.0,\n",
        "\t\t\t\t\t\t\t\t\t-0.04,   0.0, -0.04,  -1.0,\n",
        "\t\t\t\t\t\t\t\t\t-0.04, -0.04, -0.04, -0.04])\n",
        "\t\tself.num_states = 12\n",
        "\n",
        "\t\t# Probabilities Transition matrix loaded from file\n",
        "\t\t#(It is too big to write here)\n",
        "\t\tself.transits = np.load(\"T.npy\")\n",
        "\n",
        "\t\t#Generate the first policy randomly\n",
        "\t\t# Nan=Nothing, -1=Terminal, 0=Up, 1=Left, 2=Down, 3=Right\n",
        "\t\tself.policy = np.random.randint(0, 4, size=(12)).astype(np.float32)\n",
        "\t\tself.policy[5] = np.nan\n",
        "\t\tself.policy[3] = self.policy[7] = -1\n",
        "\n",
        "\t\t#Utility vector\n",
        "\t\tself.values = np.array([0.0, 0.0, 0.0,  0.0,\n",
        "\t\t\t\t\t\t\t\t0.0, 0.0, 0.0,  0.0,\n",
        "\t\t\t\t\t\t\t\t0.0, 0.0, 0.0,  0.0])\n",
        "\t\tself.gamma = 0.999\n",
        "\n",
        "\t\tself.epsilon = 10 ** -10 # modified for higher accuracy\n",
        "\t\tself.iteration = 0\n",
        "\t\t\n",
        "\n",
        "\tdef _state_utility_given_action(self, current_state:int, action: int) -> float:\n",
        "\t\t\"\"\"\n",
        "\t\tThis function returns the\t\t\n",
        "\t\t\"\"\"\t\t\t\n",
        "\t\t# 2. find the probabilities of reaching the next state, from state 's' and the given action\n",
        "\t\tnext_state_probs = self.transits[current_state, :, action] # [current_state, all_possible_next_states, the given action]\n",
        "\t\t\n",
        "\t\tsu = 0\n",
        "\t\tfor next_state, prob in enumerate(next_state_probs):\n",
        "\t\t\tsu += prob * (self.values[next_state])\n",
        "\n",
        "\t\treturn su.item()\n",
        "\n",
        "\tdef state_utility(self, current_state: int) -> float:\n",
        "\t\tif current_state in [3, 7] or np.isnan(self.policy[current_state]):\n",
        "\t\t\treturn self.rewards[current_state].item()\n",
        "\n",
        "\t\taction_utility_values = []\n",
        "\n",
        "\t\tfor action in range(4):\n",
        "\t\t\taction_utility_values.append(self._state_utility_given_action(current_state, action))\n",
        "\n",
        "\t\treturn self.rewards[current_state].item() + self.gamma * max(action_utility_values)\n",
        "\n",
        "\n",
        "\tdef expected_action(self):\n",
        "\t\t\"\"\"Return the expected action.\n",
        "\n",
        "\t\tIt returns an action based on the\n",
        "\t\texpected utility of doing a in state s,\n",
        "\t\taccording to T and u. This action is\n",
        "\t\tthe one that maximize the expected\n",
        "\t\tutility.\n",
        "\n",
        "\t\t@return expected action (int)\n",
        "\t\t\"\"\"\n",
        "\t\tactions = np.zeros(4)\n",
        "\t\t\n",
        "\t\tfor action in range(4):\n",
        "\t\t\t#Expected utility of doing a in state s, according to T and u.\n",
        "\t\t\tactions[action] = np.sum(np.multiply(self.values, np.dot(self.states, self.transits[:,:,action])))\n",
        "\n",
        "\t\treturn np.argmax(actions)\n",
        "\t  \n"
      ]
    },
    {
      "cell_type": "code",
      "execution_count": 8,
      "metadata": {},
      "outputs": [],
      "source": [
        "def generate_graph(utility_list):\n",
        "    \"\"\"Given a list of utility arrays (one for each iteration)\n",
        "        it generates a matplotlib graph and save it as 'output.jpg'\n",
        "    \"\"\"\n",
        "    name_list = ('(1,3)', '(2,3)', '(3,3)', '+1', '(1,2)', '#', '(3,2)', '-1', '(1,1)', '(2,1)', '(3,1)', '(4,1)')\n",
        "    color_list = ('cyan', 'teal', 'blue', 'green', 'magenta', 'black', 'yellow', 'red', 'brown', 'pink', 'gray', 'sienna')\n",
        "    counter = 0\n",
        "    index_vector = np.arange(len(utility_list))\n",
        "\n",
        "    for state in range(12):\n",
        "        state_list = list()\n",
        "\n",
        "        for utility_array in utility_list:\n",
        "            state_list.append(utility_array[state])\n",
        "\n",
        "        plt.plot(index_vector, state_list, color=color_list[state], label=name_list[state])\n",
        "        counter += 1\n",
        "\n",
        "    #Adjust the legend and the axis\n",
        "    plt.legend(loc='upper center', bbox_to_anchor=(0.5, 0.4), ncol=3, fancybox=True, shadow=True)\n",
        "    plt.ylim((-1.1, +1.1))\n",
        "    plt.xlim((1, len(utility_list)-1))\n",
        "    plt.ylabel('Utility', fontsize=15)\n",
        "    plt.xlabel('Iterations', fontsize=15)\n",
        "    plt.savefig(\"./output.jpg\", dpi=500)\n",
        "\n",
        "\n",
        "def print_policy(p, shape):\n",
        "    \"\"\"Printing utility.\n",
        "\n",
        "    Print the policy actions using symbols:\n",
        "    ^, v, <, > up, down, left, right\n",
        "    * terminal states\n",
        "    # obstacles\n",
        "    \"\"\"\n",
        "    counter = 0\n",
        "    policy_string = \"\"\n",
        "\n",
        "    for row in range(shape[0]):\n",
        "\n",
        "        for col in range(shape[1]):\n",
        "            \n",
        "            if(p[counter] == -1): policy_string += \" *  \"\n",
        "            elif(p[counter] == 0): policy_string += \" ^  \"\n",
        "            elif(p[counter] == 1): policy_string += \" <  \"\n",
        "            elif(p[counter] == 2): policy_string += \" v  \"\n",
        "            elif(p[counter] == 3): policy_string += \" >  \"\n",
        "            elif(np.isnan(p[counter])): policy_string += \" #  \"\n",
        "            counter += 1\n",
        "\n",
        "        policy_string += '\\n'\n",
        "\n",
        "    print(policy_string)"
      ]
    },
    {
      "cell_type": "code",
      "execution_count": 9,
      "metadata": {},
      "outputs": [],
      "source": [
        "mdp = MDP()\n",
        "#List containing the data for each iteation\n",
        "graph_list = list()"
      ]
    },
    {
      "cell_type": "code",
      "execution_count": 10,
      "metadata": {
        "id": "6gGsywLXVeTU"
      },
      "outputs": [
        {
          "name": "stdout",
          "output_type": "stream",
          "text": [
            "=================== FINAL RESULT ==================\n",
            "Iterations: 35\n",
            "Delta: 3.569367024169878e-14\n",
            "Gamma: 0.999\n",
            "Epsilon: 1e-10\n",
            "===================================================\n",
            "[0.80796344 0.86539911 0.91653199 1.        ]\n",
            "[ 0.75696624  0.          0.65836281 -1.        ]\n",
            "[0.69968297 0.64882108 0.60471976 0.38150431]\n",
            "===================================================\n",
            " >   >   >   *  \n",
            " ^   #   ^   *  \n",
            " ^   <   <   <  \n",
            "\n",
            "===================================================\n"
          ]
        },
        {
          "data": {
            "image/png": "[encoded data removed]",
            "text/plain": [
              "<Figure size 640x480 with 1 Axes>"
            ]
          },
          "metadata": {},
          "output_type": "display_data"
        }
      ],
      "source": [
        "while True:\n",
        "    \n",
        "    delta = 0\n",
        "    # u = mdp.values\n",
        "    u_old = mdp.values.copy()\n",
        "    mdp.iteration += 1\n",
        "    graph_list.append(u_old)\n",
        "    \n",
        "    for s in range(12):\n",
        "        mdp.states = np.zeros((1,mdp.num_states))\n",
        "        mdp.states[0,s] = 1.0\n",
        "        mdp.values[s] = mdp.state_utility(s)\n",
        "        u = mdp.values.copy()\n",
        "        delta = max(delta, np.abs(u[s] - u_old[s])) #Stopping criteria\n",
        "\n",
        "    if delta < mdp.epsilon * (1 - mdp.gamma) / mdp.gamma:\n",
        "            print(\"=================== FINAL RESULT ==================\")\n",
        "            print(\"Iterations: \" + str(mdp.iteration))\n",
        "            print(\"Delta: \" + str(delta))\n",
        "            print(\"Gamma: \" + str(mdp.gamma))\n",
        "            print(\"Epsilon: \" + str(mdp.epsilon))\n",
        "            print(\"===================================================\")\n",
        "            print(u[0:4])\n",
        "            print(u[4:8])\n",
        "            print(u[8:12])\n",
        "            print(\"===================================================\")\n",
        "\n",
        "            for ss in range(12):\n",
        "\n",
        "              if not np.isnan(mdp.policy[ss]) and not mdp.policy[ss]==-1:\n",
        "                  mdp.states = np.zeros((1,12))\n",
        "                  mdp.states[0,ss] = 1.0\n",
        "                  #2- Policy improvement\n",
        "                  a = mdp.expected_action()\n",
        "                  if a != mdp.policy[ss]: mdp.policy[ss] = a\n",
        "\n",
        "            print_policy(mdp.policy, shape=(3,4))\n",
        "            print(\"===================================================\")\n",
        "            break\n",
        "\n",
        "generate_graph(graph_list)"
      ]
    },
    {
      "cell_type": "markdown",
      "metadata": {},
      "source": [
        "# Results Explanation\n",
        "\n",
        "1. The Value Iteration algorithm converged to a policy very close to the optimal policy in only 35 iterations. The algorithm could have converged in less iterations if the epsilon was larger. (it is set to 10 ^ {-10})\n",
        "\n",
        "2. As we can see the utility values stabilized after around 10 iterations which can be explained by the simplicity of the MDP. Our MDP is simple in the sense that the reward is dependent only on the state and neither the action nor the previous state. \n",
        "\n",
        "3. The states (3, 5, 7) have the same utility values across the entire algorithm because they are terminal states: IN other words, the transition probabilities are set to 0 for all other states making the update rule: \n",
        "\n",
        "$$V(s) = r(s) ~|~ s \\in \\{3, 5, 7\\}$$\n",
        "\n"
      ]
    },
    {
      "cell_type": "markdown",
      "metadata": {},
      "source": [
        "The value iteration algorithm converges to very simile value function as the policy iteration algorithm. However, there are a few differences worthy noting: \n",
        "\n",
        "1. Policy Iteration converges is less iteations (around 5) which is expected since a single iteration consists of both policy evaluation and policy improvement: assign each state to the action with the maximum value function. Hence, each iteration is guaranteed to make a more significant progress towards the optimal policy / value function\n",
        "\n",
        "2. The value iteration converges in more iterations because each iteration uses an update based on the Ballman Optimality Equation. A single iteration is not as informed / robust as Policy iteration since there is policies are implicit.\n",
        "\n",
        "3. A single Value iteration is less computationally expensive as it iterates only once through the state space. Hence the number of iterations is not a `fair` metric for comparison and the small number of states in our given problem is not a reliable indicator of the performance."
      ]
    },
    {
      "cell_type": "markdown",
      "metadata": {},
      "source": [
        "# "
      ]
    }
  ],
  "metadata": {
    "colab": {
      "provenance": []
    },
    "kernelspec": {
      "display_name": "Python 3",
      "name": "python3"
    },
    "language_info": {
      "name": "python"
    }
  },
  "nbformat": 4,
  "nbformat_minor": 0
}
