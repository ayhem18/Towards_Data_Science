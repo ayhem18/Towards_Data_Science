{
 "cells": [
  {
   "attachments": {},
   "cell_type": "markdown",
   "metadata": {
    "id": "MlmNVM1SbiZN"
   },
   "source": [
    "# Lab 11: Feed-forward NN and RNN"
   ]
  },
  {
   "cell_type": "code",
   "execution_count": 5,
   "metadata": {
    "id": "xhNd9Z5-gaFv",
    "pycharm": {
     "is_executing": true
    }
   },
   "outputs": [
    {
     "name": "stdout",
     "output_type": "stream",
     "text": [
      "Collecting portalocker\n",
      "  Using cached portalocker-2.7.0-py2.py3-none-any.whl (15 kB)\n",
      "Requirement already satisfied: pywin32>=226 in c:\\users\\bouab\\dev\\ds_env_new\\lib\\site-packages (from portalocker) (306)\n",
      "Installing collected packages: portalocker\n",
      "Successfully installed portalocker-2.7.0\n"
     ]
    },
    {
     "name": "stderr",
     "output_type": "stream",
     "text": [
      "\n",
      "[notice] A new release of pip available: 22.3.1 -> 23.1.2\n",
      "[notice] To update, run: python.exe -m pip install --upgrade pip\n"
     ]
    }
   ],
   "source": [
    "# 1. uncomment this cell\n",
    "# 2. run this cell\n",
    "# 3. restart the kernel and comment this cell again\n",
    "\n",
    "# !pip install portalocker"
   ]
  },
  {
   "cell_type": "code",
   "execution_count": 6,
   "metadata": {
    "pycharm": {
     "is_executing": true
    }
   },
   "outputs": [],
   "source": [
    "from torchtext.datasets import WikiText2\n",
    "train_data, val_data, test_data = WikiText2()\n",
    "DATASET_SIZE = 36718 # check the documentation here: https://pytorch.org/text/stable/datasets.html#language-modeling"
   ]
  },
  {
   "cell_type": "code",
   "execution_count": 7,
   "metadata": {
    "pycharm": {
     "is_executing": true
    }
   },
   "outputs": [
    {
     "name": "stdout",
     "output_type": "stream",
     "text": [
      " \n",
      "\n",
      "########################################################################################################################################################################################################################################################################################################################################################################################################################################################################################################################################################################################################################################################################################################################################################################################################################################################################################################################################################################################################################################\n",
      " = Valkyria Chronicles III = \n",
      "\n",
      "########################################################################################################################################################################################################################################################################################################################################################################################################################################################################################################################################################################################################################################################################################################################################################################################################################################################################################################################################################################################################################################\n",
      " \n",
      "\n",
      "########################################################################################################################################################################################################################################################################################################################################################################################################################################################################################################################################################################################################################################################################################################################################################################################################################################################################################################################################################################################################################################\n",
      " Senjō no Valkyria 3 : <unk> Chronicles ( Japanese : 戦場のヴァルキュリア3 , lit . Valkyria of the Battlefield 3 ) , commonly referred to as Valkyria Chronicles III outside Japan , is a tactical role @-@ playing video game developed by Sega and Media.Vision for the PlayStation Portable . Released in January 2011 in Japan , it is the third game in the Valkyria series . <unk> the same fusion of tactical and real @-@ time gameplay as its predecessors , the story runs parallel to the first game and follows the \" Nameless \" , a penal military unit serving the nation of Gallia during the Second Europan War who perform secret black operations and are pitted against the Imperial unit \" <unk> Raven \" . \n",
      "\n",
      "########################################################################################################################################################################################################################################################################################################################################################################################################################################################################################################################################################################################################################################################################################################################################################################################################################################################################################################################################################################################################################################\n",
      " The game began development in 2010 , carrying over a large portion of the work done on Valkyria Chronicles II . While it retained the standard features of the series , it also underwent multiple adjustments , such as making the game more <unk> for series newcomers . Character designer <unk> Honjou and composer Hitoshi Sakimoto both returned from previous entries , along with Valkyria Chronicles II director Takeshi Ozawa . A large team of writers handled the script . The game 's opening theme was sung by May 'n . \n",
      "\n",
      "########################################################################################################################################################################################################################################################################################################################################################################################################################################################################################################################################################################################################################################################################################################################################################################################################################################################################################################################################################################################################################################\n",
      " It met with positive sales in Japan , and was praised by both Japanese and western critics . After release , it received downloadable content , along with an expanded edition in November of that year . It was also adapted into manga and an original video animation series . Due to low sales of Valkyria Chronicles II , Valkyria Chronicles III was not localized , but a fan translation compatible with the game 's expanded edition was released in 2014 . Media.Vision would return to the franchise with the development of Valkyria : Azure Revolution for the PlayStation 4 . \n",
      "\n",
      "########################################################################################################################################################################################################################################################################################################################################################################################################################################################################################################################################################################################################################################################################################################################################################################################################################################################################################################################################################################################################################################\n"
     ]
    }
   ],
   "source": [
    "# to better understand the object returned\n",
    "for i, x in enumerate(train_data):\n",
    "    print(x)\n",
    "    print(\"#\" * 1000)\n",
    "    if i >= 5:\n",
    "        break"
   ]
  },
  {
   "cell_type": "code",
   "execution_count": 9,
   "metadata": {
    "pycharm": {
     "is_executing": true
    }
   },
   "outputs": [
    {
     "name": "stderr",
     "output_type": "stream",
     "text": [
      "c:\\Users\\bouab\\DEV\\ds_env_new\\lib\\site-packages\\torch\\utils\\data\\datapipes\\iter\\combining.py:297: UserWarning: Some child DataPipes are not exhausted when __iter__ is called. We are resetting the buffer and each child DataPipe will read from the start again.\n",
      "  warnings.warn(\"Some child DataPipes are not exhausted when __iter__ is called. We are resetting \"\n"
     ]
    },
    {
     "name": "stdout",
     "output_type": "stream",
     "text": [
      "<unk>\n",
      "the\n",
      ",\n",
      ".\n",
      "of\n",
      "unk\n"
     ]
    }
   ],
   "source": [
    "from building_vocabulary import build_vocabulary\n",
    "vocab = build_vocabulary(train_data)\n",
    "for i, item in enumerate(vocab.get_itos()):\n",
    "    print(item)\n",
    "    if i >= 5:\n",
    "        break"
   ]
  },
  {
   "attachments": {},
   "cell_type": "markdown",
   "metadata": {
    "id": "ldpVUn_jy8QT"
   },
   "source": [
    "![image.png](data:image/png;base64,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)"
   ]
  },
  {
   "cell_type": "code",
   "execution_count": 10,
   "metadata": {
    "collapsed": false
   },
   "outputs": [
    {
     "name": "stdout",
     "output_type": "stream",
     "text": [
      "cuda\n",
      "2.0.1+cu117\n"
     ]
    }
   ],
   "source": [
    "# %reload_ext autoreload\n",
    "# %autoreload 2\n",
    "\n",
    "import FFNLM\n",
    "from FFNLM import NeuralLM, train_NLM\n",
    "import importlib\n",
    "importlib.reload(FFNLM)\n",
    "\n",
    "# language_model = NeuralLM(len(vocab))\n",
    "\n",
    "# train_NLM(language_model, vocab=vocab, train_data=train_data, train_data_size=DATASET_SIZE, epochs=20, batch_size=8)\n",
    "\n",
    "from FFNLM import DEVICE\n",
    "print(DEVICE)\n",
    "import torch\n",
    "print(torch.__version__)"
   ]
  },
  {
   "attachments": {},
   "cell_type": "markdown",
   "metadata": {
    "id": "eml7UQGbedxs"
   },
   "source": [
    "##2. Sentiment Analysis using RNN"
   ]
  },
  {
   "attachments": {},
   "cell_type": "markdown",
   "metadata": {
    "id": "IIEiTcCXgqcw"
   },
   "source": [
    "### Dataset Description\n",
    "\n",
    "[IMDb dataset](http://ai.stanford.edu/~amaas/data/sentiment/) having 50K movie reviews for natural language processing or Text analytics. This is a dataset for binary sentiment classification containing substantially more data than previous benchmark datasets. "
   ]
  },
  {
   "attachments": {},
   "cell_type": "markdown",
   "metadata": {
    "id": "LaYh5sougvNt"
   },
   "source": [
    "### Data Preprocessing\n",
    "\n",
    "[`torchtext`](https://pytorch.org/text/stable/index.html) is a package that consists of data processing utilities and popular datasets for natural language\n",
    "\n",
    "One of the main concepts of TorchText is the `Field`. To define how the data should be processed we will use `Field`. Our input data contains raw strings <br>\n",
    "The declared `TEXT` field defines how the review should be processed, and the `LABEL` field to process the sentiment. \n",
    "\n",
    "For more on `Fields`, go [here](https://github.com/pytorch/text/blob/master/torchtext/data/field.py).\n"
   ]
  },
  {
   "attachments": {},
   "cell_type": "markdown",
   "metadata": {
    "id": "_fPfn0SzhAkv"
   },
   "source": [
    "### Download the data\n",
    "The following code automatically downloads the IMDb dataset and splits it into the canonical train/test splits as `torchtext.datasets` objects. It process the data using the `Fields` we have previously defined. The IMDb dataset consists of 50,000 movie reviews, each marked as being a positive or negative review."
   ]
  },
  {
   "cell_type": "code",
   "execution_count": 1,
   "metadata": {
    "colab": {
     "base_uri": "https://localhost:8080/"
    },
    "id": "72dkCe9Dsjm7",
    "outputId": "23c9a566-59c6-4119-ccf1-9585c85d71e3"
   },
   "outputs": [
    {
     "name": "stdout",
     "output_type": "stream",
     "text": [
      "Looking in indexes: https://pypi.org/simple, https://us-python.pkg.dev/colab-wheels/public/simple/\n",
      "Collecting datasets\n",
      "  Downloading datasets-2.10.1-py3-none-any.whl (469 kB)\n",
      "\u001b[2K     \u001b[90m━━━━━━━━━━━━━━━━━━━━━━━━━━━━━━━━━━━━━━━\u001b[0m \u001b[32m469.0/469.0 KB\u001b[0m \u001b[31m8.6 MB/s\u001b[0m eta \u001b[36m0:00:00\u001b[0m\n",
      "\u001b[?25hRequirement already satisfied: tqdm>=4.62.1 in /usr/local/lib/python3.9/dist-packages (from datasets) (4.65.0)\n",
      "Requirement already satisfied: packaging in /usr/local/lib/python3.9/dist-packages (from datasets) (23.0)\n",
      "Requirement already satisfied: pyyaml>=5.1 in /usr/local/lib/python3.9/dist-packages (from datasets) (6.0)\n",
      "Requirement already satisfied: numpy>=1.17 in /usr/local/lib/python3.9/dist-packages (from datasets) (1.22.4)\n",
      "Requirement already satisfied: pandas in /usr/local/lib/python3.9/dist-packages (from datasets) (1.4.4)\n",
      "Collecting xxhash\n",
      "  Downloading xxhash-3.2.0-cp39-cp39-manylinux_2_17_x86_64.manylinux2014_x86_64.whl (212 kB)\n",
      "\u001b[2K     \u001b[90m━━━━━━━━━━━━━━━━━━━━━━━━━━━━━━━━━━━━━━━\u001b[0m \u001b[32m212.2/212.2 KB\u001b[0m \u001b[31m9.9 MB/s\u001b[0m eta \u001b[36m0:00:00\u001b[0m\n",
      "\u001b[?25hRequirement already satisfied: pyarrow>=6.0.0 in /usr/local/lib/python3.9/dist-packages (from datasets) (9.0.0)\n",
      "Collecting multiprocess\n",
      "  Downloading multiprocess-0.70.14-py39-none-any.whl (132 kB)\n",
      "\u001b[2K     \u001b[90m━━━━━━━━━━━━━━━━━━━━━━━━━━━━━━━━━━━━━━\u001b[0m \u001b[32m132.9/132.9 KB\u001b[0m \u001b[31m10.3 MB/s\u001b[0m eta \u001b[36m0:00:00\u001b[0m\n",
      "\u001b[?25hRequirement already satisfied: fsspec[http]>=2021.11.1 in /usr/local/lib/python3.9/dist-packages (from datasets) (2023.3.0)\n",
      "Requirement already satisfied: requests>=2.19.0 in /usr/local/lib/python3.9/dist-packages (from datasets) (2.27.1)\n",
      "Collecting aiohttp\n",
      "  Downloading aiohttp-3.8.4-cp39-cp39-manylinux_2_17_x86_64.manylinux2014_x86_64.whl (1.0 MB)\n",
      "\u001b[2K     \u001b[90m━━━━━━━━━━━━━━━━━━━━━━━━━━━━━━━━━━━━━━━━\u001b[0m \u001b[32m1.0/1.0 MB\u001b[0m \u001b[31m21.5 MB/s\u001b[0m eta \u001b[36m0:00:00\u001b[0m\n",
      "\u001b[?25hCollecting dill<0.3.7,>=0.3.0\n",
      "  Downloading dill-0.3.6-py3-none-any.whl (110 kB)\n",
      "\u001b[2K     \u001b[90m━━━━━━━━━━━━━━━━━━━━━━━━━━━━━━━━━━━━━━━\u001b[0m \u001b[32m110.5/110.5 KB\u001b[0m \u001b[31m5.0 MB/s\u001b[0m eta \u001b[36m0:00:00\u001b[0m\n",
      "\u001b[?25hCollecting responses<0.19\n",
      "  Downloading responses-0.18.0-py3-none-any.whl (38 kB)\n",
      "Collecting huggingface-hub<1.0.0,>=0.2.0\n",
      "  Downloading huggingface_hub-0.13.3-py3-none-any.whl (199 kB)\n",
      "\u001b[2K     \u001b[90m━━━━━━━━━━━━━━━━━━━━━━━━━━━━━━━━━━━━━━\u001b[0m \u001b[32m199.8/199.8 KB\u001b[0m \u001b[31m16.2 MB/s\u001b[0m eta \u001b[36m0:00:00\u001b[0m\n",
      "\u001b[?25hRequirement already satisfied: charset-normalizer<4.0,>=2.0 in /usr/local/lib/python3.9/dist-packages (from aiohttp->datasets) (2.0.12)\n",
      "Collecting multidict<7.0,>=4.5\n",
      "  Downloading multidict-6.0.4-cp39-cp39-manylinux_2_17_x86_64.manylinux2014_x86_64.whl (114 kB)\n",
      "\u001b[2K     \u001b[90m━━━━━━━━━━━━━━━━━━━━━━━━━━━━━━━━━━━━━━━\u001b[0m \u001b[32m114.2/114.2 KB\u001b[0m \u001b[31m3.3 MB/s\u001b[0m eta \u001b[36m0:00:00\u001b[0m\n",
      "\u001b[?25hCollecting yarl<2.0,>=1.0\n",
      "  Downloading yarl-1.8.2-cp39-cp39-manylinux_2_17_x86_64.manylinux2014_x86_64.whl (264 kB)\n",
      "\u001b[2K     \u001b[90m━━━━━━━━━━━━━━━━━━━━━━━━━━━━━━━━━━━━━━\u001b[0m \u001b[32m264.6/264.6 KB\u001b[0m \u001b[31m10.2 MB/s\u001b[0m eta \u001b[36m0:00:00\u001b[0m\n",
      "\u001b[?25hCollecting async-timeout<5.0,>=4.0.0a3\n",
      "  Downloading async_timeout-4.0.2-py3-none-any.whl (5.8 kB)\n",
      "Requirement already satisfied: attrs>=17.3.0 in /usr/local/lib/python3.9/dist-packages (from aiohttp->datasets) (22.2.0)\n",
      "Collecting frozenlist>=1.1.1\n",
      "  Downloading frozenlist-1.3.3-cp39-cp39-manylinux_2_5_x86_64.manylinux1_x86_64.manylinux_2_17_x86_64.manylinux2014_x86_64.whl (158 kB)\n",
      "\u001b[2K     \u001b[90m━━━━━━━━━━━━━━━━━━━━━━━━━━━━━━━━━━━━━━━\u001b[0m \u001b[32m158.8/158.8 KB\u001b[0m \u001b[31m6.6 MB/s\u001b[0m eta \u001b[36m0:00:00\u001b[0m\n",
      "\u001b[?25hCollecting aiosignal>=1.1.2\n",
      "  Downloading aiosignal-1.3.1-py3-none-any.whl (7.6 kB)\n",
      "Requirement already satisfied: filelock in /usr/local/lib/python3.9/dist-packages (from huggingface-hub<1.0.0,>=0.2.0->datasets) (3.10.2)\n",
      "Requirement already satisfied: typing-extensions>=3.7.4.3 in /usr/local/lib/python3.9/dist-packages (from huggingface-hub<1.0.0,>=0.2.0->datasets) (4.5.0)\n",
      "Requirement already satisfied: certifi>=2017.4.17 in /usr/local/lib/python3.9/dist-packages (from requests>=2.19.0->datasets) (2022.12.7)\n",
      "Requirement already satisfied: urllib3<1.27,>=1.21.1 in /usr/local/lib/python3.9/dist-packages (from requests>=2.19.0->datasets) (1.26.15)\n",
      "Requirement already satisfied: idna<4,>=2.5 in /usr/local/lib/python3.9/dist-packages (from requests>=2.19.0->datasets) (3.4)\n",
      "Requirement already satisfied: python-dateutil>=2.8.1 in /usr/local/lib/python3.9/dist-packages (from pandas->datasets) (2.8.2)\n",
      "Requirement already satisfied: pytz>=2020.1 in /usr/local/lib/python3.9/dist-packages (from pandas->datasets) (2022.7.1)\n",
      "Requirement already satisfied: six>=1.5 in /usr/local/lib/python3.9/dist-packages (from python-dateutil>=2.8.1->pandas->datasets) (1.16.0)\n",
      "Installing collected packages: xxhash, multidict, frozenlist, dill, async-timeout, yarl, responses, multiprocess, huggingface-hub, aiosignal, aiohttp, datasets\n",
      "Successfully installed aiohttp-3.8.4 aiosignal-1.3.1 async-timeout-4.0.2 datasets-2.10.1 dill-0.3.6 frozenlist-1.3.3 huggingface-hub-0.13.3 multidict-6.0.4 multiprocess-0.70.14 responses-0.18.0 xxhash-3.2.0 yarl-1.8.2\n"
     ]
    }
   ],
   "source": [
    "!pip install datasets"
   ]
  },
  {
   "cell_type": "code",
   "execution_count": 2,
   "metadata": {
    "colab": {
     "base_uri": "https://localhost:8080/",
     "height": 254,
     "referenced_widgets": [
      "a7e3f7f973e3412ab89ecf27af8688f8",
      "adadc2403ccb4558a634563c1012aa9e",
      "d76c91baca254e7b9d4ca5b2d89ffcf7",
      "221711686d5740cd96384963302d9991",
      "93e0845d982a462fa111b2ae6b8e1ca7",
      "0c156970efaf4c8ca92e561bbb7e3be1",
      "741399be3f764f5c962015170d22b395",
      "d986db5ab06a4013b60413ff74a2a9c5",
      "eee966cbbcc3405286172fa21a8c9998",
      "c38b3726775949039cb757ba94b368a5",
      "93ebd1e84d4e490cb43c45cfe1d6cf5c",
      "a1f5bf5f299f457e888b268e4908d13d",
      "7608eaa971d040fdbf996c1471119a23",
      "ae70ecbe829f444589944ddc22bf0e4f",
      "71b7bbaaea4847fb8d11ef125b108343",
      "4df20406603f4d73b77be23c6f690e38",
      "f639069b177549aa94a2db3b5b00b2ea",
      "bef2495e91b94fedb6c9bc9339bda0a8",
      "4a8a10f36655479ea361a7c7ead70306",
      "9c0444f03f28449da9ec6c17d46de466",
      "694d53734ad24a5e890ab11cda8600a1",
      "21e4f6afeb3b4fc19710881bbdfb064a",
      "10744d1a264d45c3a0faa5437c971964",
      "3c69b7c0b05644019829210da74fd0be",
      "348b84f225b242c398ce1ebc51b4d5b7",
      "c6e7f221025e4183aea700c3cef5f199",
      "dec73fb11dca4996922aace2aabe42bf",
      "d7250dacccf5401084054a4940b77165",
      "e68c38ee4f1144b69dbb0ab75f1a8a45",
      "aaf8a1a651aa494a8d7d797d8117e4d4",
      "7e5fa9159ea0427db2d0f761bc9ad797",
      "aa6899dd18a54106b41512065806df03",
      "e29e4ed08fdb4e9da79b52bc8d2c32e0",
      "d491cd71c6164c94b6651918daadf5c9",
      "f452fb4108734596bc821a2b689572f4",
      "504507bbe73447f5ae5ab772bad4407b",
      "a6695971e0bd4f1086caa056f8dbd251",
      "a2e710245d6c4bc7a3a0947b8616a348",
      "2f5acd17773a40f986789d68ac8f5d74",
      "f26dd0c9e67147e6bf83d3fae9737150",
      "853b470dbe024c4aac1a47726c3b088a",
      "08bdf5191b2741258acc9c9193509a9d",
      "d483672320bb421ea84ef01c8a6b845e",
      "7b8f78b6a8f84d5d8910a51e9421eb46",
      "ae7d2d07fe044a1283d9d373a225b237",
      "117196e699c3431089788627930f02c9",
      "449d491917de4e11878e87b9bf565109",
      "4ec6d5400bef4df68011fd80f91fe3ec",
      "b629b467e3144812a510e7401e5ed298",
      "f4f709e0837d49348260626801dc4d8b",
      "8db233c4bb5b4459883c34005c8ce334",
      "e534fe6d21054d69a9f0bbe526255bf0",
      "49f9f8b3e1ba44ab97b10fe2a0cd5b93",
      "676bf52cdb1e45e78365b7274b0e878a",
      "3f37d366dfd540808fd1980f8daaa48e",
      "af5e0f007fe049348e830dcac41016b7",
      "2fb729cebb734ecba986fb5de48ce654",
      "e28e96ef457c4b188c9afa38d61e2da2",
      "8292cc4cf93a46c8afcdd8b29a22b766",
      "fe5a08706d4247acb6e7f224fc3a842e",
      "019b1b33ea29419988316c8a3cc57a57",
      "a2bea11ee8114a63bd5f1608bfbf97c0",
      "83f4e44a62114a318ea56e901727dfc9",
      "8926ba1565fb49f8a9bb110d94562f1d",
      "93fd2a18f7e1416880ff9ca18d0a552b",
      "5d00a92438af474083540901829d2d98",
      "c264ae300b6242f5bc76316cd4a807a0",
      "3927e44d67634e6ba1d244ad0b6afcc5",
      "d2d5e3c122d544c9a3088150bfd0a26b",
      "8b70c5c359c846338c87d00a8632dc20",
      "268e96347948448cbe7ea3b4a15a50e1",
      "5c63f48cd91c4a30856e4ee1212532da",
      "b53d63775cd2436dbd9edb4e30634887",
      "3fef7adb6e134a97bb8a9a308e9fa6a4",
      "47231559d88146d5b320a451119a0406",
      "6beaedb2164f4cf9990fe47e5f97100d",
      "9058d4d617d14350aea9daa13dfb5fd2"
     ]
    },
    "id": "fCjFPQ4mez3O",
    "outputId": "b951c79d-c9ec-40d4-a271-ede64a5c003b"
   },
   "outputs": [
    {
     "data": {
      "application/vnd.jupyter.widget-view+json": {
       "model_id": "a7e3f7f973e3412ab89ecf27af8688f8",
       "version_major": 2,
       "version_minor": 0
      },
      "text/plain": [
       "Downloading builder script:   0%|          | 0.00/4.31k [00:00<?, ?B/s]"
      ]
     },
     "metadata": {},
     "output_type": "display_data"
    },
    {
     "data": {
      "application/vnd.jupyter.widget-view+json": {
       "model_id": "a1f5bf5f299f457e888b268e4908d13d",
       "version_major": 2,
       "version_minor": 0
      },
      "text/plain": [
       "Downloading metadata:   0%|          | 0.00/2.17k [00:00<?, ?B/s]"
      ]
     },
     "metadata": {},
     "output_type": "display_data"
    },
    {
     "data": {
      "application/vnd.jupyter.widget-view+json": {
       "model_id": "10744d1a264d45c3a0faa5437c971964",
       "version_major": 2,
       "version_minor": 0
      },
      "text/plain": [
       "Downloading readme:   0%|          | 0.00/7.59k [00:00<?, ?B/s]"
      ]
     },
     "metadata": {},
     "output_type": "display_data"
    },
    {
     "name": "stdout",
     "output_type": "stream",
     "text": [
      "Downloading and preparing dataset imdb/plain_text to /root/.cache/huggingface/datasets/imdb/plain_text/1.0.0/d613c88cf8fa3bab83b4ded3713f1f74830d1100e171db75bbddb80b3345c9c0...\n"
     ]
    },
    {
     "data": {
      "application/vnd.jupyter.widget-view+json": {
       "model_id": "d491cd71c6164c94b6651918daadf5c9",
       "version_major": 2,
       "version_minor": 0
      },
      "text/plain": [
       "Downloading data:   0%|          | 0.00/84.1M [00:00<?, ?B/s]"
      ]
     },
     "metadata": {},
     "output_type": "display_data"
    },
    {
     "data": {
      "application/vnd.jupyter.widget-view+json": {
       "model_id": "ae7d2d07fe044a1283d9d373a225b237",
       "version_major": 2,
       "version_minor": 0
      },
      "text/plain": [
       "Generating train split:   0%|          | 0/25000 [00:00<?, ? examples/s]"
      ]
     },
     "metadata": {},
     "output_type": "display_data"
    },
    {
     "data": {
      "application/vnd.jupyter.widget-view+json": {
       "model_id": "af5e0f007fe049348e830dcac41016b7",
       "version_major": 2,
       "version_minor": 0
      },
      "text/plain": [
       "Generating test split:   0%|          | 0/25000 [00:00<?, ? examples/s]"
      ]
     },
     "metadata": {},
     "output_type": "display_data"
    },
    {
     "data": {
      "application/vnd.jupyter.widget-view+json": {
       "model_id": "c264ae300b6242f5bc76316cd4a807a0",
       "version_major": 2,
       "version_minor": 0
      },
      "text/plain": [
       "Generating unsupervised split:   0%|          | 0/50000 [00:00<?, ? examples/s]"
      ]
     },
     "metadata": {},
     "output_type": "display_data"
    },
    {
     "name": "stdout",
     "output_type": "stream",
     "text": [
      "Dataset imdb downloaded and prepared to /root/.cache/huggingface/datasets/imdb/plain_text/1.0.0/d613c88cf8fa3bab83b4ded3713f1f74830d1100e171db75bbddb80b3345c9c0. Subsequent calls will reuse this data.\n"
     ]
    },
    {
     "name": "stderr",
     "output_type": "stream",
     "text": [
      "WARNING:datasets.builder:Found cached dataset imdb (/root/.cache/huggingface/datasets/imdb/plain_text/1.0.0/d613c88cf8fa3bab83b4ded3713f1f74830d1100e171db75bbddb80b3345c9c0)\n"
     ]
    }
   ],
   "source": [
    "from datasets import load_dataset\n",
    "\n",
    "\n",
    "train_iter = load_dataset(\"imdb\", split=\"train\")\n",
    "test_iter = load_dataset(\"imdb\", split=\"test\")\n",
    "DATASET_SIZE = 24999"
   ]
  },
  {
   "cell_type": "code",
   "execution_count": 3,
   "metadata": {
    "colab": {
     "base_uri": "https://localhost:8080/"
    },
    "id": "O0n9ZYdUhzb5",
    "outputId": "aa524b48-2386-4d31-d690-1a1a9cdd730f"
   },
   "outputs": [
    {
     "name": "stdout",
     "output_type": "stream",
     "text": [
      "{'text': 'I rented I AM CURIOUS-YELLOW from my video store because of all the controversy that surrounded it when it was first released in 1967. I also heard that at first it was seized by U.S. customs if it ever tried to enter this country, therefore being a fan of films considered \"controversial\" I really had to see this for myself.<br /><br />The plot is centered around a young Swedish drama student named Lena who wants to learn everything she can about life. In particular she wants to focus her attentions to making some sort of documentary on what the average Swede thought about certain political issues such as the Vietnam War and race issues in the United States. In between asking politicians and ordinary denizens of Stockholm about their opinions on politics, she has sex with her drama teacher, classmates, and married men.<br /><br />What kills me about I AM CURIOUS-YELLOW is that 40 years ago, this was considered pornographic. Really, the sex and nudity scenes are few and far between, even then it\\'s not shot like some cheaply made porno. While my countrymen mind find it shocking, in reality sex and nudity are a major staple in Swedish cinema. Even Ingmar Bergman, arguably their answer to good old boy John Ford, had sex scenes in his films.<br /><br />I do commend the filmmakers for the fact that any sex shown in the film is shown for artistic purposes rather than just to shock people and make money to be shown in pornographic theaters in America. I AM CURIOUS-YELLOW is a good film for anyone wanting to study the meat and potatoes (no pun intended) of Swedish cinema. But really, this film doesn\\'t have much of a plot.', 'label': 0}\n",
      "{'text': 'Zentropa has much in common with The Third Man, another noir-like film set among the rubble of postwar Europe. Like TTM, there is much inventive camera work. There is an innocent American who gets emotionally involved with a woman he doesn\\'t really understand, and whose naivety is all the more striking in contrast with the natives.<br /><br />But I\\'d have to say that The Third Man has a more well-crafted storyline. Zentropa is a bit disjointed in this respect. Perhaps this is intentional: it is presented as a dream/nightmare, and making it too coherent would spoil the effect. <br /><br />This movie is unrelentingly grim--\"noir\" in more than one sense; one never sees the sun shine. Grim, but intriguing, and frightening.', 'label': 1}\n"
     ]
    },
    {
     "data": {
      "text/plain": [
       "24999"
      ]
     },
     "execution_count": 3,
     "metadata": {},
     "output_type": "execute_result"
    }
   ],
   "source": [
    "labels = set()\n",
    "for i, x in enumerate(train_iter):\n",
    "    if x[\"label\"] not in labels:\n",
    "        print(x)\n",
    "        labels.add(x[\"label\"])\n",
    "i"
   ]
  },
  {
   "attachments": {},
   "cell_type": "markdown",
   "metadata": {
    "id": "BOoNEUpYhdgu"
   },
   "source": [
    "### Split data to train and test"
   ]
  },
  {
   "cell_type": "code",
   "execution_count": 4,
   "metadata": {
    "colab": {
     "base_uri": "https://localhost:8080/",
     "height": 36
    },
    "id": "TLqcWocMhqB8",
    "outputId": "143f6c10-d6d1-4cd4-f52f-34d7cb91d783"
   },
   "outputs": [
    {
     "data": {
      "text/plain": [
       "25000"
      ]
     },
     "execution_count": 4,
     "metadata": {},
     "output_type": "execute_result"
    }
   ],
   "source": [
    "import re\n",
    "\n",
    "from torchtext.data import get_tokenizer\n",
    "from torchtext.vocab import build_vocab_from_iterator\n",
    "\n",
    "\n",
    "tokenizer = get_tokenizer(\"basic_english\")\n",
    "\n",
    "\n",
    "def preprocess_sentence(s):\n",
    "    s = s.strip()\n",
    "    s = s.lower()\n",
    "    s = re.sub(r\"[^a-zA-Z.,!?]+\", \" \", s)\n",
    "    s = re.sub(r\"\\s{2,}\", \" \", s)\n",
    "    s = s.strip()\n",
    "    return s\n",
    "\n",
    "\n",
    "def build_vocab(dataset):\n",
    "    for x in dataset:\n",
    "        yield tokenizer(preprocess_sentence(x[\"text\"]))\n",
    "\n",
    "vocab = build_vocab_from_iterator(build_vocab(train_iter), max_tokens=25000, specials=[\"<UNK>\", \"<PAD>\"])\n",
    "vocab.set_default_index(vocab[\"<UNK>\"])\n",
    "\n",
    "VOCAB_SIZE = len(vocab)\n",
    "VOCAB_SIZE"
   ]
  },
  {
   "attachments": {},
   "cell_type": "markdown",
   "metadata": {
    "id": "KxWARv4cjSz_"
   },
   "source": [
    "### Dataloders / Iterators \n",
    "\n",
    "* We have done preprocessing of the raw data but we have to create batches and convert the data to tensors. For text data Pytorch provides a container called `BucketIterator` for such task.\n",
    "\n",
    "* The `BucketIterator` will return a batch of examples where each example is of a similar length, minimizing the amount of padding per example.\n",
    "\n",
    "* To put the data into the training device, its neccesary to specify the device parameter in the `BucketIterator` then Pytorch will take care of the rest. \n"
   ]
  },
  {
   "cell_type": "code",
   "execution_count": 5,
   "metadata": {
    "id": "XJR1GZezjFmg"
   },
   "outputs": [],
   "source": [
    "import torch\n",
    "\n",
    "from torch.utils.data import DataLoader\n",
    "\n",
    "batch_size = 64\n",
    "SEQUENCE_LENGTH = 100\n",
    "\n",
    "\n",
    "def text_pipeline(x): \n",
    "    return vocab(tokenizer(preprocess_sentence(x)))\n",
    "\n",
    "\n",
    "def collate_fn(batch):\n",
    "    batch_input, batch_output = [], []\n",
    "    for x in batch:\n",
    "        text_tokens_ids = text_pipeline(x[\"text\"])\n",
    "        if len(text_tokens_ids) > SEQUENCE_LENGTH:\n",
    "            text_tokens_ids = text_tokens_ids[:SEQUENCE_LENGTH]\n",
    "        elif len(text_tokens_ids) < SEQUENCE_LENGTH:\n",
    "            text_tokens_ids.extend(vocab([\"<PAD>\" for _ in range(SEQUENCE_LENGTH - len(text_tokens_ids))]))\n",
    "\n",
    "        batch_input.append(text_tokens_ids)\n",
    "        batch_output.append(x[\"label\"])\n",
    "    batch_input = torch.tensor(batch_input, dtype=torch.int)\n",
    "    batch_output = torch.tensor(batch_output, dtype=torch.float)\n",
    "    return batch_input, batch_output\n",
    "\n",
    "\n",
    "dataloader = DataLoader(train_iter, batch_size=batch_size, shuffle=True, collate_fn=collate_fn)\n",
    "test_dataloader = DataLoader(test_iter, batch_size=batch_size, shuffle=True, collate_fn=collate_fn)"
   ]
  },
  {
   "attachments": {},
   "cell_type": "markdown",
   "metadata": {
    "id": "u7rTswLxjiTe"
   },
   "source": [
    "### Build the Model\n",
    "\n",
    "The next stage is building the model that we'll eventually train and evaluate. \n",
    "\n",
    "There is a small amount of boilerplate code when creating models in PyTorch, note how our `RNN` class is a sub-class of `nn.Module` and the use of `super`.\n",
    "\n",
    "Within the `__init__` we define the _layers_ of the module. Our three layers are an _embedding_ layer, our RNN, and a _linear_ layer. All layers have their parameters initialized to random values, unless explicitly specified.\n",
    "\n",
    "\n",
    "\n",
    "![](https://github.com/bentrevett/pytorch-sentiment-analysis/blob/master/assets/sentiment7.png?raw=1)\n",
    "\n"
   ]
  },
  {
   "cell_type": "code",
   "execution_count": 6,
   "metadata": {
    "id": "XMc4i6oMjgW6"
   },
   "outputs": [],
   "source": [
    "import torch.nn as nn\n",
    "\n",
    "class RNN(nn.Module):\n",
    "    def __init__(self, input_dim, embedding_dim, hidden_dim, output_dim, n_layers=1):\n",
    "        super().__init__()\n",
    "        \n",
    "        self.embedding_layer = nn.Embedding(input_dim, embedding_dim)\n",
    "        self.rnn_cell = nn.RNN(embedding_dim, hidden_dim, n_layers)\n",
    "        self.fc_layer = nn.Linear(hidden_dim, output_dim)\n",
    "        \n",
    "    def forward(self, text):\n",
    "        \"\"\"\n",
    "        Foward pass method\n",
    "        text: sentiment text with shape [batch size, sentence length]\n",
    "        \"\"\"\n",
    "        embedded = self.embedding_layer(text.permute(1, 0))  # embedding_layer output shape  (batch size, sentence length, embedding dim]\n",
    "        output, hidden = self.rnn_cell(embedded)\n",
    "        return self.fc_layer(hidden.squeeze(0)).squeeze(1)"
   ]
  },
  {
   "cell_type": "code",
   "execution_count": 7,
   "metadata": {
    "id": "jCyRS8HBj3qj"
   },
   "outputs": [],
   "source": [
    "input_dim = VOCAB_SIZE  # input dimension is the dimension of the one-hot vectors\n",
    "embedding_dim = 128\n",
    "hidden_dim = 256  # size of the hidden states\n",
    "output_dim = 1  # for the fully connected \n",
    "\n",
    "model = RNN(input_dim, embedding_dim, hidden_dim, output_dim)"
   ]
  },
  {
   "attachments": {},
   "cell_type": "markdown",
   "metadata": {
    "id": "bJCvZEptkAL7"
   },
   "source": [
    "### Model Training\n",
    "\n",
    "Before the training process we need to specify which optimization algorithm to use, set the optimization method parameters and specify the parameters to train"
   ]
  },
  {
   "cell_type": "code",
   "execution_count": 8,
   "metadata": {
    "id": "Q0y8T0N-j7_e"
   },
   "outputs": [],
   "source": [
    "import torch.optim as optim\n",
    "\n",
    "device = torch.device('cuda' if torch.cuda.is_available() else 'cpu')\n",
    "# define loss function and optimizer\n",
    "optimizer = optim.Adam(model.parameters())\n",
    "criterion = nn.BCEWithLogitsLoss()\n",
    "\n",
    "#make model instance and send it to training device\n",
    "model = model.to(device)\n",
    "criterion = criterion.to(device)"
   ]
  },
  {
   "attachments": {},
   "cell_type": "markdown",
   "metadata": {
    "id": "OcD0TaxEkeWP"
   },
   "source": [
    "### Model perfomence measurement "
   ]
  },
  {
   "cell_type": "code",
   "execution_count": 9,
   "metadata": {
    "id": "fL4pNZc0klAv"
   },
   "outputs": [],
   "source": [
    "# accuracy_calculator which takes predicted labels and real labels\n",
    "def accuracy_calculator(preds, y):\n",
    "    \"\"\"Returns accuracy per batch\"\"\"\n",
    "    rounded_preds = torch.round(torch.sigmoid(preds)) #round predictions to the closest integer\n",
    "    correct = (rounded_preds == y).float()\n",
    "    return correct.sum() / len(correct)"
   ]
  },
  {
   "attachments": {},
   "cell_type": "markdown",
   "metadata": {
    "id": "v1KF89cbkpb5"
   },
   "source": [
    "### Model training loop definition"
   ]
  },
  {
   "cell_type": "code",
   "execution_count": 13,
   "metadata": {
    "id": "w07Q4sTgkuc0"
   },
   "outputs": [],
   "source": [
    "def train(model, dataloader, optimizer, criterion, device):\n",
    "    epoch_loss = 0\n",
    "    epoch_acc = 0\n",
    "\n",
    "    model.train()\n",
    "    \n",
    "    for text, label in dataloader:\n",
    "        text = text.to(device)\n",
    "        label = label.to(device)\n",
    "\n",
    "        # initialize optimizer\n",
    "        ...\n",
    "        # predict labels and compute loss (2 lines)\n",
    "        predictions = ...\n",
    "        loss = ...\n",
    "\n",
    "        acc = accuracy_calculator(predictions, label)\n",
    "        \n",
    "        # backpropagate loss and optimize weights (2 lines)\n",
    "        ...\n",
    "        ...\n",
    "        \n",
    "        epoch_loss += loss.item() * label.shape[0]\n",
    "        epoch_acc += acc.item() * label.shape[0]\n",
    "        \n",
    "    return epoch_loss / DATASET_SIZE, epoch_acc / DATASET_SIZE"
   ]
  },
  {
   "attachments": {},
   "cell_type": "markdown",
   "metadata": {
    "id": "M6rlBy8elIMZ"
   },
   "source": [
    "### Evaluating the model on test set"
   ]
  },
  {
   "cell_type": "code",
   "execution_count": 14,
   "metadata": {
    "id": "l0yHLUJXlGSC"
   },
   "outputs": [],
   "source": [
    "def evaluate_model(model, data_batches, criterion, device):\n",
    "    eval_loss = 0\n",
    "    eval_acc = 0\n",
    "    \n",
    "    model.eval()\n",
    "    \n",
    "    with torch.no_grad():\n",
    "        for text, label in data_batches:\n",
    "            text = text.to(device)\n",
    "            label = label.to(device)\n",
    "\n",
    "            # predict labels and compute loss (2 lines)\n",
    "            predictions = ...\n",
    "            loss = ...\n",
    "\n",
    "            acc = accuracy_calculator(predictions, label)\n",
    "            eval_loss += loss.item() * label.shape[0]\n",
    "            eval_acc += acc.item() * label.shape[0]\n",
    "    \n",
    "    return eval_loss / DATASET_SIZE, eval_acc / DATASET_SIZE"
   ]
  },
  {
   "attachments": {},
   "cell_type": "markdown",
   "metadata": {
    "id": "-s9U95i3lR9G"
   },
   "source": [
    "### Training the RNN model"
   ]
  },
  {
   "cell_type": "code",
   "execution_count": 15,
   "metadata": {
    "colab": {
     "base_uri": "https://localhost:8080/"
    },
    "id": "GX-SRSGKlYt5",
    "outputId": "f06b5097-be3a-496e-bdb2-b293b87d1072"
   },
   "outputs": [
    {
     "name": "stdout",
     "output_type": "stream",
     "text": [
      "Epoch: 1, Train [Loss:  0.699  Acc :50.94]\n",
      "Epoch: 2, Train [Loss:  0.691  Acc :53.08]\n",
      "Epoch: 3, Train [Loss:  0.683  Acc :55.77]\n",
      "Epoch: 4, Train [Loss:  0.667  Acc :59.14]\n",
      "Epoch: 5, Train [Loss:  0.667  Acc :58.44]\n",
      "Epoch: 6, Train [Loss:  0.655  Acc :61.13]\n",
      "Epoch: 7, Train [Loss:  0.629  Acc :64.20]\n",
      "Epoch: 8, Train [Loss:  0.595  Acc :67.43]\n",
      "Epoch: 9, Train [Loss:  0.558  Acc :70.58]\n",
      "Epoch: 10, Train [Loss:  0.520  Acc :73.77]\n"
     ]
    }
   ],
   "source": [
    "epochs = 10\n",
    "\n",
    "for epoch in range(epochs):\n",
    "    train_loss, train_acc = train(model, dataloader, optimizer, criterion, device)\n",
    "    print(f'Epoch: {epoch+1}, Train [Loss:  {train_loss:.3f}  Acc: {train_acc*100:.2f}]')"
   ]
  },
  {
   "attachments": {},
   "cell_type": "markdown",
   "metadata": {
    "id": "CLMWSRdYliIq"
   },
   "source": [
    "### Evaluate"
   ]
  },
  {
   "cell_type": "code",
   "execution_count": 16,
   "metadata": {
    "colab": {
     "base_uri": "https://localhost:8080/"
    },
    "id": "TKOvLH0hldJ0",
    "outputId": "9f2449ea-4bfd-4bc8-aaff-d59c73003b57"
   },
   "outputs": [
    {
     "name": "stdout",
     "output_type": "stream",
     "text": [
      "Accuracy on test data : 56.77%\n"
     ]
    }
   ],
   "source": [
    "test_loss, test_acc = evaluate_model(model, test_dataloader, criterion, device)\n",
    "print(f'Accuracy on test data: {test_acc*100:.2f}%')"
   ]
  },
  {
   "attachments": {},
   "cell_type": "markdown",
   "metadata": {
    "id": "OYkTKXf5KV2D"
   },
   "source": [
    "### Overfitting! Can you fix it? (Optional)"
   ]
  },
  {
   "attachments": {},
   "cell_type": "markdown",
   "metadata": {
    "id": "MTmp32xefu_N"
   },
   "source": [
    "## References\n",
    "\n",
    "[Simple Neural Networks and Neural Language Models](https://web.stanford.edu/~jurafsky/slp3/slides/7_NN_Apr_28_2021.pdf)\n",
    "\n",
    "[PyTorch Quickstart](https://pytorch.org/tutorials/beginner/basics/quickstart_tutorial.html)\n",
    "\n",
    "[torchtext.datasets](https://pytorch.org/text/stable/datasets.html)"
   ]
  },
  {
   "cell_type": "code",
   "execution_count": null,
   "metadata": {
    "id": "riGRbobJf2BC"
   },
   "outputs": [],
   "source": []
  }
 ],
 "metadata": {
  "accelerator": "GPU",
  "colab": {
   "provenance": []
  },
  "kernelspec": {
   "display_name": "Python 3",
   "name": "python3"
  },
  "language_info": {
   "codemirror_mode": {
    "name": "ipython",
    "version": 3
   },
   "file_extension": ".py",
   "mimetype": "text/x-python",
   "name": "python",
   "nbconvert_exporter": "python",
   "pygments_lexer": "ipython3",
   "version": "3.10.9"
  },
  "widgets": {
   "application/vnd.jupyter.widget-state+json": {
    "019b1b33ea29419988316c8a3cc57a57": {
     "model_module": "@jupyter-widgets/base",
     "model_module_version": "1.2.0",
     "model_name": "LayoutModel",
     "state": {
      "_model_module": "@jupyter-widgets/base",
      "_model_module_version": "1.2.0",
      "_model_name": "LayoutModel",
      "_view_count": null,
      "_view_module": "@jupyter-widgets/base",
      "_view_module_version": "1.2.0",
      "_view_name": "LayoutView",
      "align_content": null,
      "align_items": null,
      "align_self": null,
      "border": null,
      "bottom": null,
      "display": null,
      "flex": null,
      "flex_flow": null,
      "grid_area": null,
      "grid_auto_columns": null,
      "grid_auto_flow": null,
      "grid_auto_rows": null,
      "grid_column": null,
      "grid_gap": null,
      "grid_row": null,
      "grid_template_areas": null,
      "grid_template_columns": null,
      "grid_template_rows": null,
      "height": null,
      "justify_content": null,
      "justify_items": null,
      "left": null,
      "margin": null,
      "max_height": null,
      "max_width": null,
      "min_height": null,
      "min_width": null,
      "object_fit": null,
      "object_position": null,
      "order": null,
      "overflow": null,
      "overflow_x": null,
      "overflow_y": null,
      "padding": null,
      "right": null,
      "top": null,
      "visibility": null,
      "width": null
     }
    },
    "08bdf5191b2741258acc9c9193509a9d": {
     "model_module": "@jupyter-widgets/controls",
     "model_module_version": "1.5.0",
     "model_name": "ProgressStyleModel",
     "state": {
      "_model_module": "@jupyter-widgets/controls",
      "_model_module_version": "1.5.0",
      "_model_name": "ProgressStyleModel",
      "_view_count": null,
      "_view_module": "@jupyter-widgets/base",
      "_view_module_version": "1.2.0",
      "_view_name": "StyleView",
      "bar_color": null,
      "description_width": ""
     }
    },
    "0c156970efaf4c8ca92e561bbb7e3be1": {
     "model_module": "@jupyter-widgets/base",
     "model_module_version": "1.2.0",
     "model_name": "LayoutModel",
     "state": {
      "_model_module": "@jupyter-widgets/base",
      "_model_module_version": "1.2.0",
      "_model_name": "LayoutModel",
      "_view_count": null,
      "_view_module": "@jupyter-widgets/base",
      "_view_module_version": "1.2.0",
      "_view_name": "LayoutView",
      "align_content": null,
      "align_items": null,
      "align_self": null,
      "border": null,
      "bottom": null,
      "display": null,
      "flex": null,
      "flex_flow": null,
      "grid_area": null,
      "grid_auto_columns": null,
      "grid_auto_flow": null,
      "grid_auto_rows": null,
      "grid_column": null,
      "grid_gap": null,
      "grid_row": null,
      "grid_template_areas": null,
      "grid_template_columns": null,
      "grid_template_rows": null,
      "height": null,
      "justify_content": null,
      "justify_items": null,
      "left": null,
      "margin": null,
      "max_height": null,
      "max_width": null,
      "min_height": null,
      "min_width": null,
      "object_fit": null,
      "object_position": null,
      "order": null,
      "overflow": null,
      "overflow_x": null,
      "overflow_y": null,
      "padding": null,
      "right": null,
      "top": null,
      "visibility": null,
      "width": null
     }
    },
    "10744d1a264d45c3a0faa5437c971964": {
     "model_module": "@jupyter-widgets/controls",
     "model_module_version": "1.5.0",
     "model_name": "HBoxModel",
     "state": {
      "_dom_classes": [],
      "_model_module": "@jupyter-widgets/controls",
      "_model_module_version": "1.5.0",
      "_model_name": "HBoxModel",
      "_view_count": null,
      "_view_module": "@jupyter-widgets/controls",
      "_view_module_version": "1.5.0",
      "_view_name": "HBoxView",
      "box_style": "",
      "children": [
       "IPY_MODEL_3c69b7c0b05644019829210da74fd0be",
       "IPY_MODEL_348b84f225b242c398ce1ebc51b4d5b7",
       "IPY_MODEL_c6e7f221025e4183aea700c3cef5f199"
      ],
      "layout": "IPY_MODEL_dec73fb11dca4996922aace2aabe42bf"
     }
    },
    "117196e699c3431089788627930f02c9": {
     "model_module": "@jupyter-widgets/controls",
     "model_module_version": "1.5.0",
     "model_name": "HTMLModel",
     "state": {
      "_dom_classes": [],
      "_model_module": "@jupyter-widgets/controls",
      "_model_module_version": "1.5.0",
      "_model_name": "HTMLModel",
      "_view_count": null,
      "_view_module": "@jupyter-widgets/controls",
      "_view_module_version": "1.5.0",
      "_view_name": "HTMLView",
      "description": "",
      "description_tooltip": null,
      "layout": "IPY_MODEL_f4f709e0837d49348260626801dc4d8b",
      "placeholder": "​",
      "style": "IPY_MODEL_8db233c4bb5b4459883c34005c8ce334",
      "value": "Generating train split: 100%"
     }
    },
    "21e4f6afeb3b4fc19710881bbdfb064a": {
     "model_module": "@jupyter-widgets/controls",
     "model_module_version": "1.5.0",
     "model_name": "DescriptionStyleModel",
     "state": {
      "_model_module": "@jupyter-widgets/controls",
      "_model_module_version": "1.5.0",
      "_model_name": "DescriptionStyleModel",
      "_view_count": null,
      "_view_module": "@jupyter-widgets/base",
      "_view_module_version": "1.2.0",
      "_view_name": "StyleView",
      "description_width": ""
     }
    },
    "221711686d5740cd96384963302d9991": {
     "model_module": "@jupyter-widgets/controls",
     "model_module_version": "1.5.0",
     "model_name": "HTMLModel",
     "state": {
      "_dom_classes": [],
      "_model_module": "@jupyter-widgets/controls",
      "_model_module_version": "1.5.0",
      "_model_name": "HTMLModel",
      "_view_count": null,
      "_view_module": "@jupyter-widgets/controls",
      "_view_module_version": "1.5.0",
      "_view_name": "HTMLView",
      "description": "",
      "description_tooltip": null,
      "layout": "IPY_MODEL_c38b3726775949039cb757ba94b368a5",
      "placeholder": "​",
      "style": "IPY_MODEL_93ebd1e84d4e490cb43c45cfe1d6cf5c",
      "value": " 4.31k/4.31k [00:00&lt;00:00, 180kB/s]"
     }
    },
    "268e96347948448cbe7ea3b4a15a50e1": {
     "model_module": "@jupyter-widgets/base",
     "model_module_version": "1.2.0",
     "model_name": "LayoutModel",
     "state": {
      "_model_module": "@jupyter-widgets/base",
      "_model_module_version": "1.2.0",
      "_model_name": "LayoutModel",
      "_view_count": null,
      "_view_module": "@jupyter-widgets/base",
      "_view_module_version": "1.2.0",
      "_view_name": "LayoutView",
      "align_content": null,
      "align_items": null,
      "align_self": null,
      "border": null,
      "bottom": null,
      "display": null,
      "flex": null,
      "flex_flow": null,
      "grid_area": null,
      "grid_auto_columns": null,
      "grid_auto_flow": null,
      "grid_auto_rows": null,
      "grid_column": null,
      "grid_gap": null,
      "grid_row": null,
      "grid_template_areas": null,
      "grid_template_columns": null,
      "grid_template_rows": null,
      "height": null,
      "justify_content": null,
      "justify_items": null,
      "left": null,
      "margin": null,
      "max_height": null,
      "max_width": null,
      "min_height": null,
      "min_width": null,
      "object_fit": null,
      "object_position": null,
      "order": null,
      "overflow": null,
      "overflow_x": null,
      "overflow_y": null,
      "padding": null,
      "right": null,
      "top": null,
      "visibility": "hidden",
      "width": null
     }
    },
    "2f5acd17773a40f986789d68ac8f5d74": {
     "model_module": "@jupyter-widgets/base",
     "model_module_version": "1.2.0",
     "model_name": "LayoutModel",
     "state": {
      "_model_module": "@jupyter-widgets/base",
      "_model_module_version": "1.2.0",
      "_model_name": "LayoutModel",
      "_view_count": null,
      "_view_module": "@jupyter-widgets/base",
      "_view_module_version": "1.2.0",
      "_view_name": "LayoutView",
      "align_content": null,
      "align_items": null,
      "align_self": null,
      "border": null,
      "bottom": null,
      "display": null,
      "flex": null,
      "flex_flow": null,
      "grid_area": null,
      "grid_auto_columns": null,
      "grid_auto_flow": null,
      "grid_auto_rows": null,
      "grid_column": null,
      "grid_gap": null,
      "grid_row": null,
      "grid_template_areas": null,
      "grid_template_columns": null,
      "grid_template_rows": null,
      "height": null,
      "justify_content": null,
      "justify_items": null,
      "left": null,
      "margin": null,
      "max_height": null,
      "max_width": null,
      "min_height": null,
      "min_width": null,
      "object_fit": null,
      "object_position": null,
      "order": null,
      "overflow": null,
      "overflow_x": null,
      "overflow_y": null,
      "padding": null,
      "right": null,
      "top": null,
      "visibility": null,
      "width": null
     }
    },
    "2fb729cebb734ecba986fb5de48ce654": {
     "model_module": "@jupyter-widgets/controls",
     "model_module_version": "1.5.0",
     "model_name": "HTMLModel",
     "state": {
      "_dom_classes": [],
      "_model_module": "@jupyter-widgets/controls",
      "_model_module_version": "1.5.0",
      "_model_name": "HTMLModel",
      "_view_count": null,
      "_view_module": "@jupyter-widgets/controls",
      "_view_module_version": "1.5.0",
      "_view_name": "HTMLView",
      "description": "",
      "description_tooltip": null,
      "layout": "IPY_MODEL_019b1b33ea29419988316c8a3cc57a57",
      "placeholder": "​",
      "style": "IPY_MODEL_a2bea11ee8114a63bd5f1608bfbf97c0",
      "value": "Generating test split: 100%"
     }
    },
    "348b84f225b242c398ce1ebc51b4d5b7": {
     "model_module": "@jupyter-widgets/controls",
     "model_module_version": "1.5.0",
     "model_name": "FloatProgressModel",
     "state": {
      "_dom_classes": [],
      "_model_module": "@jupyter-widgets/controls",
      "_model_module_version": "1.5.0",
      "_model_name": "FloatProgressModel",
      "_view_count": null,
      "_view_module": "@jupyter-widgets/controls",
      "_view_module_version": "1.5.0",
      "_view_name": "ProgressView",
      "bar_style": "success",
      "description": "",
      "description_tooltip": null,
      "layout": "IPY_MODEL_aaf8a1a651aa494a8d7d797d8117e4d4",
      "max": 7590,
      "min": 0,
      "orientation": "horizontal",
      "style": "IPY_MODEL_7e5fa9159ea0427db2d0f761bc9ad797",
      "value": 7590
     }
    },
    "3927e44d67634e6ba1d244ad0b6afcc5": {
     "model_module": "@jupyter-widgets/controls",
     "model_module_version": "1.5.0",
     "model_name": "HTMLModel",
     "state": {
      "_dom_classes": [],
      "_model_module": "@jupyter-widgets/controls",
      "_model_module_version": "1.5.0",
      "_model_name": "HTMLModel",
      "_view_count": null,
      "_view_module": "@jupyter-widgets/controls",
      "_view_module_version": "1.5.0",
      "_view_name": "HTMLView",
      "description": "",
      "description_tooltip": null,
      "layout": "IPY_MODEL_5c63f48cd91c4a30856e4ee1212532da",
      "placeholder": "​",
      "style": "IPY_MODEL_b53d63775cd2436dbd9edb4e30634887",
      "value": "Generating unsupervised split: 100%"
     }
    },
    "3c69b7c0b05644019829210da74fd0be": {
     "model_module": "@jupyter-widgets/controls",
     "model_module_version": "1.5.0",
     "model_name": "HTMLModel",
     "state": {
      "_dom_classes": [],
      "_model_module": "@jupyter-widgets/controls",
      "_model_module_version": "1.5.0",
      "_model_name": "HTMLModel",
      "_view_count": null,
      "_view_module": "@jupyter-widgets/controls",
      "_view_module_version": "1.5.0",
      "_view_name": "HTMLView",
      "description": "",
      "description_tooltip": null,
      "layout": "IPY_MODEL_d7250dacccf5401084054a4940b77165",
      "placeholder": "​",
      "style": "IPY_MODEL_e68c38ee4f1144b69dbb0ab75f1a8a45",
      "value": "Downloading readme: 100%"
     }
    },
    "3f37d366dfd540808fd1980f8daaa48e": {
     "model_module": "@jupyter-widgets/controls",
     "model_module_version": "1.5.0",
     "model_name": "DescriptionStyleModel",
     "state": {
      "_model_module": "@jupyter-widgets/controls",
      "_model_module_version": "1.5.0",
      "_model_name": "DescriptionStyleModel",
      "_view_count": null,
      "_view_module": "@jupyter-widgets/base",
      "_view_module_version": "1.2.0",
      "_view_name": "StyleView",
      "description_width": ""
     }
    },
    "3fef7adb6e134a97bb8a9a308e9fa6a4": {
     "model_module": "@jupyter-widgets/base",
     "model_module_version": "1.2.0",
     "model_name": "LayoutModel",
     "state": {
      "_model_module": "@jupyter-widgets/base",
      "_model_module_version": "1.2.0",
      "_model_name": "LayoutModel",
      "_view_count": null,
      "_view_module": "@jupyter-widgets/base",
      "_view_module_version": "1.2.0",
      "_view_name": "LayoutView",
      "align_content": null,
      "align_items": null,
      "align_self": null,
      "border": null,
      "bottom": null,
      "display": null,
      "flex": null,
      "flex_flow": null,
      "grid_area": null,
      "grid_auto_columns": null,
      "grid_auto_flow": null,
      "grid_auto_rows": null,
      "grid_column": null,
      "grid_gap": null,
      "grid_row": null,
      "grid_template_areas": null,
      "grid_template_columns": null,
      "grid_template_rows": null,
      "height": null,
      "justify_content": null,
      "justify_items": null,
      "left": null,
      "margin": null,
      "max_height": null,
      "max_width": null,
      "min_height": null,
      "min_width": null,
      "object_fit": null,
      "object_position": null,
      "order": null,
      "overflow": null,
      "overflow_x": null,
      "overflow_y": null,
      "padding": null,
      "right": null,
      "top": null,
      "visibility": null,
      "width": null
     }
    },
    "449d491917de4e11878e87b9bf565109": {
     "model_module": "@jupyter-widgets/controls",
     "model_module_version": "1.5.0",
     "model_name": "FloatProgressModel",
     "state": {
      "_dom_classes": [],
      "_model_module": "@jupyter-widgets/controls",
      "_model_module_version": "1.5.0",
      "_model_name": "FloatProgressModel",
      "_view_count": null,
      "_view_module": "@jupyter-widgets/controls",
      "_view_module_version": "1.5.0",
      "_view_name": "ProgressView",
      "bar_style": "",
      "description": "",
      "description_tooltip": null,
      "layout": "IPY_MODEL_e534fe6d21054d69a9f0bbe526255bf0",
      "max": 25000,
      "min": 0,
      "orientation": "horizontal",
      "style": "IPY_MODEL_49f9f8b3e1ba44ab97b10fe2a0cd5b93",
      "value": 25000
     }
    },
    "47231559d88146d5b320a451119a0406": {
     "model_module": "@jupyter-widgets/controls",
     "model_module_version": "1.5.0",
     "model_name": "ProgressStyleModel",
     "state": {
      "_model_module": "@jupyter-widgets/controls",
      "_model_module_version": "1.5.0",
      "_model_name": "ProgressStyleModel",
      "_view_count": null,
      "_view_module": "@jupyter-widgets/base",
      "_view_module_version": "1.2.0",
      "_view_name": "StyleView",
      "bar_color": null,
      "description_width": ""
     }
    },
    "49f9f8b3e1ba44ab97b10fe2a0cd5b93": {
     "model_module": "@jupyter-widgets/controls",
     "model_module_version": "1.5.0",
     "model_name": "ProgressStyleModel",
     "state": {
      "_model_module": "@jupyter-widgets/controls",
      "_model_module_version": "1.5.0",
      "_model_name": "ProgressStyleModel",
      "_view_count": null,
      "_view_module": "@jupyter-widgets/base",
      "_view_module_version": "1.2.0",
      "_view_name": "StyleView",
      "bar_color": null,
      "description_width": ""
     }
    },
    "4a8a10f36655479ea361a7c7ead70306": {
     "model_module": "@jupyter-widgets/base",
     "model_module_version": "1.2.0",
     "model_name": "LayoutModel",
     "state": {
      "_model_module": "@jupyter-widgets/base",
      "_model_module_version": "1.2.0",
      "_model_name": "LayoutModel",
      "_view_count": null,
      "_view_module": "@jupyter-widgets/base",
      "_view_module_version": "1.2.0",
      "_view_name": "LayoutView",
      "align_content": null,
      "align_items": null,
      "align_self": null,
      "border": null,
      "bottom": null,
      "display": null,
      "flex": null,
      "flex_flow": null,
      "grid_area": null,
      "grid_auto_columns": null,
      "grid_auto_flow": null,
      "grid_auto_rows": null,
      "grid_column": null,
      "grid_gap": null,
      "grid_row": null,
      "grid_template_areas": null,
      "grid_template_columns": null,
      "grid_template_rows": null,
      "height": null,
      "justify_content": null,
      "justify_items": null,
      "left": null,
      "margin": null,
      "max_height": null,
      "max_width": null,
      "min_height": null,
      "min_width": null,
      "object_fit": null,
      "object_position": null,
      "order": null,
      "overflow": null,
      "overflow_x": null,
      "overflow_y": null,
      "padding": null,
      "right": null,
      "top": null,
      "visibility": null,
      "width": null
     }
    },
    "4df20406603f4d73b77be23c6f690e38": {
     "model_module": "@jupyter-widgets/base",
     "model_module_version": "1.2.0",
     "model_name": "LayoutModel",
     "state": {
      "_model_module": "@jupyter-widgets/base",
      "_model_module_version": "1.2.0",
      "_model_name": "LayoutModel",
      "_view_count": null,
      "_view_module": "@jupyter-widgets/base",
      "_view_module_version": "1.2.0",
      "_view_name": "LayoutView",
      "align_content": null,
      "align_items": null,
      "align_self": null,
      "border": null,
      "bottom": null,
      "display": null,
      "flex": null,
      "flex_flow": null,
      "grid_area": null,
      "grid_auto_columns": null,
      "grid_auto_flow": null,
      "grid_auto_rows": null,
      "grid_column": null,
      "grid_gap": null,
      "grid_row": null,
      "grid_template_areas": null,
      "grid_template_columns": null,
      "grid_template_rows": null,
      "height": null,
      "justify_content": null,
      "justify_items": null,
      "left": null,
      "margin": null,
      "max_height": null,
      "max_width": null,
      "min_height": null,
      "min_width": null,
      "object_fit": null,
      "object_position": null,
      "order": null,
      "overflow": null,
      "overflow_x": null,
      "overflow_y": null,
      "padding": null,
      "right": null,
      "top": null,
      "visibility": null,
      "width": null
     }
    },
    "4ec6d5400bef4df68011fd80f91fe3ec": {
     "model_module": "@jupyter-widgets/controls",
     "model_module_version": "1.5.0",
     "model_name": "HTMLModel",
     "state": {
      "_dom_classes": [],
      "_model_module": "@jupyter-widgets/controls",
      "_model_module_version": "1.5.0",
      "_model_name": "HTMLModel",
      "_view_count": null,
      "_view_module": "@jupyter-widgets/controls",
      "_view_module_version": "1.5.0",
      "_view_name": "HTMLView",
      "description": "",
      "description_tooltip": null,
      "layout": "IPY_MODEL_676bf52cdb1e45e78365b7274b0e878a",
      "placeholder": "​",
      "style": "IPY_MODEL_3f37d366dfd540808fd1980f8daaa48e",
      "value": " 25000/25000 [00:25&lt;00:00, 6714.10 examples/s]"
     }
    },
    "504507bbe73447f5ae5ab772bad4407b": {
     "model_module": "@jupyter-widgets/controls",
     "model_module_version": "1.5.0",
     "model_name": "FloatProgressModel",
     "state": {
      "_dom_classes": [],
      "_model_module": "@jupyter-widgets/controls",
      "_model_module_version": "1.5.0",
      "_model_name": "FloatProgressModel",
      "_view_count": null,
      "_view_module": "@jupyter-widgets/controls",
      "_view_module_version": "1.5.0",
      "_view_name": "ProgressView",
      "bar_style": "success",
      "description": "",
      "description_tooltip": null,
      "layout": "IPY_MODEL_853b470dbe024c4aac1a47726c3b088a",
      "max": 84125825,
      "min": 0,
      "orientation": "horizontal",
      "style": "IPY_MODEL_08bdf5191b2741258acc9c9193509a9d",
      "value": 84125825
     }
    },
    "5c63f48cd91c4a30856e4ee1212532da": {
     "model_module": "@jupyter-widgets/base",
     "model_module_version": "1.2.0",
     "model_name": "LayoutModel",
     "state": {
      "_model_module": "@jupyter-widgets/base",
      "_model_module_version": "1.2.0",
      "_model_name": "LayoutModel",
      "_view_count": null,
      "_view_module": "@jupyter-widgets/base",
      "_view_module_version": "1.2.0",
      "_view_name": "LayoutView",
      "align_content": null,
      "align_items": null,
      "align_self": null,
      "border": null,
      "bottom": null,
      "display": null,
      "flex": null,
      "flex_flow": null,
      "grid_area": null,
      "grid_auto_columns": null,
      "grid_auto_flow": null,
      "grid_auto_rows": null,
      "grid_column": null,
      "grid_gap": null,
      "grid_row": null,
      "grid_template_areas": null,
      "grid_template_columns": null,
      "grid_template_rows": null,
      "height": null,
      "justify_content": null,
      "justify_items": null,
      "left": null,
      "margin": null,
      "max_height": null,
      "max_width": null,
      "min_height": null,
      "min_width": null,
      "object_fit": null,
      "object_position": null,
      "order": null,
      "overflow": null,
      "overflow_x": null,
      "overflow_y": null,
      "padding": null,
      "right": null,
      "top": null,
      "visibility": null,
      "width": null
     }
    },
    "5d00a92438af474083540901829d2d98": {
     "model_module": "@jupyter-widgets/controls",
     "model_module_version": "1.5.0",
     "model_name": "DescriptionStyleModel",
     "state": {
      "_model_module": "@jupyter-widgets/controls",
      "_model_module_version": "1.5.0",
      "_model_name": "DescriptionStyleModel",
      "_view_count": null,
      "_view_module": "@jupyter-widgets/base",
      "_view_module_version": "1.2.0",
      "_view_name": "StyleView",
      "description_width": ""
     }
    },
    "676bf52cdb1e45e78365b7274b0e878a": {
     "model_module": "@jupyter-widgets/base",
     "model_module_version": "1.2.0",
     "model_name": "LayoutModel",
     "state": {
      "_model_module": "@jupyter-widgets/base",
      "_model_module_version": "1.2.0",
      "_model_name": "LayoutModel",
      "_view_count": null,
      "_view_module": "@jupyter-widgets/base",
      "_view_module_version": "1.2.0",
      "_view_name": "LayoutView",
      "align_content": null,
      "align_items": null,
      "align_self": null,
      "border": null,
      "bottom": null,
      "display": null,
      "flex": null,
      "flex_flow": null,
      "grid_area": null,
      "grid_auto_columns": null,
      "grid_auto_flow": null,
      "grid_auto_rows": null,
      "grid_column": null,
      "grid_gap": null,
      "grid_row": null,
      "grid_template_areas": null,
      "grid_template_columns": null,
      "grid_template_rows": null,
      "height": null,
      "justify_content": null,
      "justify_items": null,
      "left": null,
      "margin": null,
      "max_height": null,
      "max_width": null,
      "min_height": null,
      "min_width": null,
      "object_fit": null,
      "object_position": null,
      "order": null,
      "overflow": null,
      "overflow_x": null,
      "overflow_y": null,
      "padding": null,
      "right": null,
      "top": null,
      "visibility": null,
      "width": null
     }
    },
    "694d53734ad24a5e890ab11cda8600a1": {
     "model_module": "@jupyter-widgets/base",
     "model_module_version": "1.2.0",
     "model_name": "LayoutModel",
     "state": {
      "_model_module": "@jupyter-widgets/base",
      "_model_module_version": "1.2.0",
      "_model_name": "LayoutModel",
      "_view_count": null,
      "_view_module": "@jupyter-widgets/base",
      "_view_module_version": "1.2.0",
      "_view_name": "LayoutView",
      "align_content": null,
      "align_items": null,
      "align_self": null,
      "border": null,
      "bottom": null,
      "display": null,
      "flex": null,
      "flex_flow": null,
      "grid_area": null,
      "grid_auto_columns": null,
      "grid_auto_flow": null,
      "grid_auto_rows": null,
      "grid_column": null,
      "grid_gap": null,
      "grid_row": null,
      "grid_template_areas": null,
      "grid_template_columns": null,
      "grid_template_rows": null,
      "height": null,
      "justify_content": null,
      "justify_items": null,
      "left": null,
      "margin": null,
      "max_height": null,
      "max_width": null,
      "min_height": null,
      "min_width": null,
      "object_fit": null,
      "object_position": null,
      "order": null,
      "overflow": null,
      "overflow_x": null,
      "overflow_y": null,
      "padding": null,
      "right": null,
      "top": null,
      "visibility": null,
      "width": null
     }
    },
    "6beaedb2164f4cf9990fe47e5f97100d": {
     "model_module": "@jupyter-widgets/base",
     "model_module_version": "1.2.0",
     "model_name": "LayoutModel",
     "state": {
      "_model_module": "@jupyter-widgets/base",
      "_model_module_version": "1.2.0",
      "_model_name": "LayoutModel",
      "_view_count": null,
      "_view_module": "@jupyter-widgets/base",
      "_view_module_version": "1.2.0",
      "_view_name": "LayoutView",
      "align_content": null,
      "align_items": null,
      "align_self": null,
      "border": null,
      "bottom": null,
      "display": null,
      "flex": null,
      "flex_flow": null,
      "grid_area": null,
      "grid_auto_columns": null,
      "grid_auto_flow": null,
      "grid_auto_rows": null,
      "grid_column": null,
      "grid_gap": null,
      "grid_row": null,
      "grid_template_areas": null,
      "grid_template_columns": null,
      "grid_template_rows": null,
      "height": null,
      "justify_content": null,
      "justify_items": null,
      "left": null,
      "margin": null,
      "max_height": null,
      "max_width": null,
      "min_height": null,
      "min_width": null,
      "object_fit": null,
      "object_position": null,
      "order": null,
      "overflow": null,
      "overflow_x": null,
      "overflow_y": null,
      "padding": null,
      "right": null,
      "top": null,
      "visibility": null,
      "width": null
     }
    },
    "71b7bbaaea4847fb8d11ef125b108343": {
     "model_module": "@jupyter-widgets/controls",
     "model_module_version": "1.5.0",
     "model_name": "HTMLModel",
     "state": {
      "_dom_classes": [],
      "_model_module": "@jupyter-widgets/controls",
      "_model_module_version": "1.5.0",
      "_model_name": "HTMLModel",
      "_view_count": null,
      "_view_module": "@jupyter-widgets/controls",
      "_view_module_version": "1.5.0",
      "_view_name": "HTMLView",
      "description": "",
      "description_tooltip": null,
      "layout": "IPY_MODEL_694d53734ad24a5e890ab11cda8600a1",
      "placeholder": "​",
      "style": "IPY_MODEL_21e4f6afeb3b4fc19710881bbdfb064a",
      "value": " 2.17k/2.17k [00:00&lt;00:00, 108kB/s]"
     }
    },
    "741399be3f764f5c962015170d22b395": {
     "model_module": "@jupyter-widgets/controls",
     "model_module_version": "1.5.0",
     "model_name": "DescriptionStyleModel",
     "state": {
      "_model_module": "@jupyter-widgets/controls",
      "_model_module_version": "1.5.0",
      "_model_name": "DescriptionStyleModel",
      "_view_count": null,
      "_view_module": "@jupyter-widgets/base",
      "_view_module_version": "1.2.0",
      "_view_name": "StyleView",
      "description_width": ""
     }
    },
    "7608eaa971d040fdbf996c1471119a23": {
     "model_module": "@jupyter-widgets/controls",
     "model_module_version": "1.5.0",
     "model_name": "HTMLModel",
     "state": {
      "_dom_classes": [],
      "_model_module": "@jupyter-widgets/controls",
      "_model_module_version": "1.5.0",
      "_model_name": "HTMLModel",
      "_view_count": null,
      "_view_module": "@jupyter-widgets/controls",
      "_view_module_version": "1.5.0",
      "_view_name": "HTMLView",
      "description": "",
      "description_tooltip": null,
      "layout": "IPY_MODEL_f639069b177549aa94a2db3b5b00b2ea",
      "placeholder": "​",
      "style": "IPY_MODEL_bef2495e91b94fedb6c9bc9339bda0a8",
      "value": "Downloading metadata: 100%"
     }
    },
    "7b8f78b6a8f84d5d8910a51e9421eb46": {
     "model_module": "@jupyter-widgets/controls",
     "model_module_version": "1.5.0",
     "model_name": "DescriptionStyleModel",
     "state": {
      "_model_module": "@jupyter-widgets/controls",
      "_model_module_version": "1.5.0",
      "_model_name": "DescriptionStyleModel",
      "_view_count": null,
      "_view_module": "@jupyter-widgets/base",
      "_view_module_version": "1.2.0",
      "_view_name": "StyleView",
      "description_width": ""
     }
    },
    "7e5fa9159ea0427db2d0f761bc9ad797": {
     "model_module": "@jupyter-widgets/controls",
     "model_module_version": "1.5.0",
     "model_name": "ProgressStyleModel",
     "state": {
      "_model_module": "@jupyter-widgets/controls",
      "_model_module_version": "1.5.0",
      "_model_name": "ProgressStyleModel",
      "_view_count": null,
      "_view_module": "@jupyter-widgets/base",
      "_view_module_version": "1.2.0",
      "_view_name": "StyleView",
      "bar_color": null,
      "description_width": ""
     }
    },
    "8292cc4cf93a46c8afcdd8b29a22b766": {
     "model_module": "@jupyter-widgets/controls",
     "model_module_version": "1.5.0",
     "model_name": "HTMLModel",
     "state": {
      "_dom_classes": [],
      "_model_module": "@jupyter-widgets/controls",
      "_model_module_version": "1.5.0",
      "_model_name": "HTMLModel",
      "_view_count": null,
      "_view_module": "@jupyter-widgets/controls",
      "_view_module_version": "1.5.0",
      "_view_name": "HTMLView",
      "description": "",
      "description_tooltip": null,
      "layout": "IPY_MODEL_93fd2a18f7e1416880ff9ca18d0a552b",
      "placeholder": "​",
      "style": "IPY_MODEL_5d00a92438af474083540901829d2d98",
      "value": " 25000/25000 [00:19&lt;00:00, 8346.49 examples/s]"
     }
    },
    "83f4e44a62114a318ea56e901727dfc9": {
     "model_module": "@jupyter-widgets/base",
     "model_module_version": "1.2.0",
     "model_name": "LayoutModel",
     "state": {
      "_model_module": "@jupyter-widgets/base",
      "_model_module_version": "1.2.0",
      "_model_name": "LayoutModel",
      "_view_count": null,
      "_view_module": "@jupyter-widgets/base",
      "_view_module_version": "1.2.0",
      "_view_name": "LayoutView",
      "align_content": null,
      "align_items": null,
      "align_self": null,
      "border": null,
      "bottom": null,
      "display": null,
      "flex": null,
      "flex_flow": null,
      "grid_area": null,
      "grid_auto_columns": null,
      "grid_auto_flow": null,
      "grid_auto_rows": null,
      "grid_column": null,
      "grid_gap": null,
      "grid_row": null,
      "grid_template_areas": null,
      "grid_template_columns": null,
      "grid_template_rows": null,
      "height": null,
      "justify_content": null,
      "justify_items": null,
      "left": null,
      "margin": null,
      "max_height": null,
      "max_width": null,
      "min_height": null,
      "min_width": null,
      "object_fit": null,
      "object_position": null,
      "order": null,
      "overflow": null,
      "overflow_x": null,
      "overflow_y": null,
      "padding": null,
      "right": null,
      "top": null,
      "visibility": null,
      "width": null
     }
    },
    "853b470dbe024c4aac1a47726c3b088a": {
     "model_module": "@jupyter-widgets/base",
     "model_module_version": "1.2.0",
     "model_name": "LayoutModel",
     "state": {
      "_model_module": "@jupyter-widgets/base",
      "_model_module_version": "1.2.0",
      "_model_name": "LayoutModel",
      "_view_count": null,
      "_view_module": "@jupyter-widgets/base",
      "_view_module_version": "1.2.0",
      "_view_name": "LayoutView",
      "align_content": null,
      "align_items": null,
      "align_self": null,
      "border": null,
      "bottom": null,
      "display": null,
      "flex": null,
      "flex_flow": null,
      "grid_area": null,
      "grid_auto_columns": null,
      "grid_auto_flow": null,
      "grid_auto_rows": null,
      "grid_column": null,
      "grid_gap": null,
      "grid_row": null,
      "grid_template_areas": null,
      "grid_template_columns": null,
      "grid_template_rows": null,
      "height": null,
      "justify_content": null,
      "justify_items": null,
      "left": null,
      "margin": null,
      "max_height": null,
      "max_width": null,
      "min_height": null,
      "min_width": null,
      "object_fit": null,
      "object_position": null,
      "order": null,
      "overflow": null,
      "overflow_x": null,
      "overflow_y": null,
      "padding": null,
      "right": null,
      "top": null,
      "visibility": null,
      "width": null
     }
    },
    "8926ba1565fb49f8a9bb110d94562f1d": {
     "model_module": "@jupyter-widgets/controls",
     "model_module_version": "1.5.0",
     "model_name": "ProgressStyleModel",
     "state": {
      "_model_module": "@jupyter-widgets/controls",
      "_model_module_version": "1.5.0",
      "_model_name": "ProgressStyleModel",
      "_view_count": null,
      "_view_module": "@jupyter-widgets/base",
      "_view_module_version": "1.2.0",
      "_view_name": "StyleView",
      "bar_color": null,
      "description_width": ""
     }
    },
    "8b70c5c359c846338c87d00a8632dc20": {
     "model_module": "@jupyter-widgets/controls",
     "model_module_version": "1.5.0",
     "model_name": "HTMLModel",
     "state": {
      "_dom_classes": [],
      "_model_module": "@jupyter-widgets/controls",
      "_model_module_version": "1.5.0",
      "_model_name": "HTMLModel",
      "_view_count": null,
      "_view_module": "@jupyter-widgets/controls",
      "_view_module_version": "1.5.0",
      "_view_name": "HTMLView",
      "description": "",
      "description_tooltip": null,
      "layout": "IPY_MODEL_6beaedb2164f4cf9990fe47e5f97100d",
      "placeholder": "​",
      "style": "IPY_MODEL_9058d4d617d14350aea9daa13dfb5fd2",
      "value": " 50000/50000 [00:14&lt;00:00, 8689.38 examples/s]"
     }
    },
    "8db233c4bb5b4459883c34005c8ce334": {
     "model_module": "@jupyter-widgets/controls",
     "model_module_version": "1.5.0",
     "model_name": "DescriptionStyleModel",
     "state": {
      "_model_module": "@jupyter-widgets/controls",
      "_model_module_version": "1.5.0",
      "_model_name": "DescriptionStyleModel",
      "_view_count": null,
      "_view_module": "@jupyter-widgets/base",
      "_view_module_version": "1.2.0",
      "_view_name": "StyleView",
      "description_width": ""
     }
    },
    "9058d4d617d14350aea9daa13dfb5fd2": {
     "model_module": "@jupyter-widgets/controls",
     "model_module_version": "1.5.0",
     "model_name": "DescriptionStyleModel",
     "state": {
      "_model_module": "@jupyter-widgets/controls",
      "_model_module_version": "1.5.0",
      "_model_name": "DescriptionStyleModel",
      "_view_count": null,
      "_view_module": "@jupyter-widgets/base",
      "_view_module_version": "1.2.0",
      "_view_name": "StyleView",
      "description_width": ""
     }
    },
    "93e0845d982a462fa111b2ae6b8e1ca7": {
     "model_module": "@jupyter-widgets/base",
     "model_module_version": "1.2.0",
     "model_name": "LayoutModel",
     "state": {
      "_model_module": "@jupyter-widgets/base",
      "_model_module_version": "1.2.0",
      "_model_name": "LayoutModel",
      "_view_count": null,
      "_view_module": "@jupyter-widgets/base",
      "_view_module_version": "1.2.0",
      "_view_name": "LayoutView",
      "align_content": null,
      "align_items": null,
      "align_self": null,
      "border": null,
      "bottom": null,
      "display": null,
      "flex": null,
      "flex_flow": null,
      "grid_area": null,
      "grid_auto_columns": null,
      "grid_auto_flow": null,
      "grid_auto_rows": null,
      "grid_column": null,
      "grid_gap": null,
      "grid_row": null,
      "grid_template_areas": null,
      "grid_template_columns": null,
      "grid_template_rows": null,
      "height": null,
      "justify_content": null,
      "justify_items": null,
      "left": null,
      "margin": null,
      "max_height": null,
      "max_width": null,
      "min_height": null,
      "min_width": null,
      "object_fit": null,
      "object_position": null,
      "order": null,
      "overflow": null,
      "overflow_x": null,
      "overflow_y": null,
      "padding": null,
      "right": null,
      "top": null,
      "visibility": null,
      "width": null
     }
    },
    "93ebd1e84d4e490cb43c45cfe1d6cf5c": {
     "model_module": "@jupyter-widgets/controls",
     "model_module_version": "1.5.0",
     "model_name": "DescriptionStyleModel",
     "state": {
      "_model_module": "@jupyter-widgets/controls",
      "_model_module_version": "1.5.0",
      "_model_name": "DescriptionStyleModel",
      "_view_count": null,
      "_view_module": "@jupyter-widgets/base",
      "_view_module_version": "1.2.0",
      "_view_name": "StyleView",
      "description_width": ""
     }
    },
    "93fd2a18f7e1416880ff9ca18d0a552b": {
     "model_module": "@jupyter-widgets/base",
     "model_module_version": "1.2.0",
     "model_name": "LayoutModel",
     "state": {
      "_model_module": "@jupyter-widgets/base",
      "_model_module_version": "1.2.0",
      "_model_name": "LayoutModel",
      "_view_count": null,
      "_view_module": "@jupyter-widgets/base",
      "_view_module_version": "1.2.0",
      "_view_name": "LayoutView",
      "align_content": null,
      "align_items": null,
      "align_self": null,
      "border": null,
      "bottom": null,
      "display": null,
      "flex": null,
      "flex_flow": null,
      "grid_area": null,
      "grid_auto_columns": null,
      "grid_auto_flow": null,
      "grid_auto_rows": null,
      "grid_column": null,
      "grid_gap": null,
      "grid_row": null,
      "grid_template_areas": null,
      "grid_template_columns": null,
      "grid_template_rows": null,
      "height": null,
      "justify_content": null,
      "justify_items": null,
      "left": null,
      "margin": null,
      "max_height": null,
      "max_width": null,
      "min_height": null,
      "min_width": null,
      "object_fit": null,
      "object_position": null,
      "order": null,
      "overflow": null,
      "overflow_x": null,
      "overflow_y": null,
      "padding": null,
      "right": null,
      "top": null,
      "visibility": null,
      "width": null
     }
    },
    "9c0444f03f28449da9ec6c17d46de466": {
     "model_module": "@jupyter-widgets/controls",
     "model_module_version": "1.5.0",
     "model_name": "ProgressStyleModel",
     "state": {
      "_model_module": "@jupyter-widgets/controls",
      "_model_module_version": "1.5.0",
      "_model_name": "ProgressStyleModel",
      "_view_count": null,
      "_view_module": "@jupyter-widgets/base",
      "_view_module_version": "1.2.0",
      "_view_name": "StyleView",
      "bar_color": null,
      "description_width": ""
     }
    },
    "a1f5bf5f299f457e888b268e4908d13d": {
     "model_module": "@jupyter-widgets/controls",
     "model_module_version": "1.5.0",
     "model_name": "HBoxModel",
     "state": {
      "_dom_classes": [],
      "_model_module": "@jupyter-widgets/controls",
      "_model_module_version": "1.5.0",
      "_model_name": "HBoxModel",
      "_view_count": null,
      "_view_module": "@jupyter-widgets/controls",
      "_view_module_version": "1.5.0",
      "_view_name": "HBoxView",
      "box_style": "",
      "children": [
       "IPY_MODEL_7608eaa971d040fdbf996c1471119a23",
       "IPY_MODEL_ae70ecbe829f444589944ddc22bf0e4f",
       "IPY_MODEL_71b7bbaaea4847fb8d11ef125b108343"
      ],
      "layout": "IPY_MODEL_4df20406603f4d73b77be23c6f690e38"
     }
    },
    "a2bea11ee8114a63bd5f1608bfbf97c0": {
     "model_module": "@jupyter-widgets/controls",
     "model_module_version": "1.5.0",
     "model_name": "DescriptionStyleModel",
     "state": {
      "_model_module": "@jupyter-widgets/controls",
      "_model_module_version": "1.5.0",
      "_model_name": "DescriptionStyleModel",
      "_view_count": null,
      "_view_module": "@jupyter-widgets/base",
      "_view_module_version": "1.2.0",
      "_view_name": "StyleView",
      "description_width": ""
     }
    },
    "a2e710245d6c4bc7a3a0947b8616a348": {
     "model_module": "@jupyter-widgets/base",
     "model_module_version": "1.2.0",
     "model_name": "LayoutModel",
     "state": {
      "_model_module": "@jupyter-widgets/base",
      "_model_module_version": "1.2.0",
      "_model_name": "LayoutModel",
      "_view_count": null,
      "_view_module": "@jupyter-widgets/base",
      "_view_module_version": "1.2.0",
      "_view_name": "LayoutView",
      "align_content": null,
      "align_items": null,
      "align_self": null,
      "border": null,
      "bottom": null,
      "display": null,
      "flex": null,
      "flex_flow": null,
      "grid_area": null,
      "grid_auto_columns": null,
      "grid_auto_flow": null,
      "grid_auto_rows": null,
      "grid_column": null,
      "grid_gap": null,
      "grid_row": null,
      "grid_template_areas": null,
      "grid_template_columns": null,
      "grid_template_rows": null,
      "height": null,
      "justify_content": null,
      "justify_items": null,
      "left": null,
      "margin": null,
      "max_height": null,
      "max_width": null,
      "min_height": null,
      "min_width": null,
      "object_fit": null,
      "object_position": null,
      "order": null,
      "overflow": null,
      "overflow_x": null,
      "overflow_y": null,
      "padding": null,
      "right": null,
      "top": null,
      "visibility": null,
      "width": null
     }
    },
    "a6695971e0bd4f1086caa056f8dbd251": {
     "model_module": "@jupyter-widgets/controls",
     "model_module_version": "1.5.0",
     "model_name": "HTMLModel",
     "state": {
      "_dom_classes": [],
      "_model_module": "@jupyter-widgets/controls",
      "_model_module_version": "1.5.0",
      "_model_name": "HTMLModel",
      "_view_count": null,
      "_view_module": "@jupyter-widgets/controls",
      "_view_module_version": "1.5.0",
      "_view_name": "HTMLView",
      "description": "",
      "description_tooltip": null,
      "layout": "IPY_MODEL_d483672320bb421ea84ef01c8a6b845e",
      "placeholder": "​",
      "style": "IPY_MODEL_7b8f78b6a8f84d5d8910a51e9421eb46",
      "value": " 84.1M/84.1M [00:03&lt;00:00, 42.8MB/s]"
     }
    },
    "a7e3f7f973e3412ab89ecf27af8688f8": {
     "model_module": "@jupyter-widgets/controls",
     "model_module_version": "1.5.0",
     "model_name": "HBoxModel",
     "state": {
      "_dom_classes": [],
      "_model_module": "@jupyter-widgets/controls",
      "_model_module_version": "1.5.0",
      "_model_name": "HBoxModel",
      "_view_count": null,
      "_view_module": "@jupyter-widgets/controls",
      "_view_module_version": "1.5.0",
      "_view_name": "HBoxView",
      "box_style": "",
      "children": [
       "IPY_MODEL_adadc2403ccb4558a634563c1012aa9e",
       "IPY_MODEL_d76c91baca254e7b9d4ca5b2d89ffcf7",
       "IPY_MODEL_221711686d5740cd96384963302d9991"
      ],
      "layout": "IPY_MODEL_93e0845d982a462fa111b2ae6b8e1ca7"
     }
    },
    "aa6899dd18a54106b41512065806df03": {
     "model_module": "@jupyter-widgets/base",
     "model_module_version": "1.2.0",
     "model_name": "LayoutModel",
     "state": {
      "_model_module": "@jupyter-widgets/base",
      "_model_module_version": "1.2.0",
      "_model_name": "LayoutModel",
      "_view_count": null,
      "_view_module": "@jupyter-widgets/base",
      "_view_module_version": "1.2.0",
      "_view_name": "LayoutView",
      "align_content": null,
      "align_items": null,
      "align_self": null,
      "border": null,
      "bottom": null,
      "display": null,
      "flex": null,
      "flex_flow": null,
      "grid_area": null,
      "grid_auto_columns": null,
      "grid_auto_flow": null,
      "grid_auto_rows": null,
      "grid_column": null,
      "grid_gap": null,
      "grid_row": null,
      "grid_template_areas": null,
      "grid_template_columns": null,
      "grid_template_rows": null,
      "height": null,
      "justify_content": null,
      "justify_items": null,
      "left": null,
      "margin": null,
      "max_height": null,
      "max_width": null,
      "min_height": null,
      "min_width": null,
      "object_fit": null,
      "object_position": null,
      "order": null,
      "overflow": null,
      "overflow_x": null,
      "overflow_y": null,
      "padding": null,
      "right": null,
      "top": null,
      "visibility": null,
      "width": null
     }
    },
    "aaf8a1a651aa494a8d7d797d8117e4d4": {
     "model_module": "@jupyter-widgets/base",
     "model_module_version": "1.2.0",
     "model_name": "LayoutModel",
     "state": {
      "_model_module": "@jupyter-widgets/base",
      "_model_module_version": "1.2.0",
      "_model_name": "LayoutModel",
      "_view_count": null,
      "_view_module": "@jupyter-widgets/base",
      "_view_module_version": "1.2.0",
      "_view_name": "LayoutView",
      "align_content": null,
      "align_items": null,
      "align_self": null,
      "border": null,
      "bottom": null,
      "display": null,
      "flex": null,
      "flex_flow": null,
      "grid_area": null,
      "grid_auto_columns": null,
      "grid_auto_flow": null,
      "grid_auto_rows": null,
      "grid_column": null,
      "grid_gap": null,
      "grid_row": null,
      "grid_template_areas": null,
      "grid_template_columns": null,
      "grid_template_rows": null,
      "height": null,
      "justify_content": null,
      "justify_items": null,
      "left": null,
      "margin": null,
      "max_height": null,
      "max_width": null,
      "min_height": null,
      "min_width": null,
      "object_fit": null,
      "object_position": null,
      "order": null,
      "overflow": null,
      "overflow_x": null,
      "overflow_y": null,
      "padding": null,
      "right": null,
      "top": null,
      "visibility": null,
      "width": null
     }
    },
    "adadc2403ccb4558a634563c1012aa9e": {
     "model_module": "@jupyter-widgets/controls",
     "model_module_version": "1.5.0",
     "model_name": "HTMLModel",
     "state": {
      "_dom_classes": [],
      "_model_module": "@jupyter-widgets/controls",
      "_model_module_version": "1.5.0",
      "_model_name": "HTMLModel",
      "_view_count": null,
      "_view_module": "@jupyter-widgets/controls",
      "_view_module_version": "1.5.0",
      "_view_name": "HTMLView",
      "description": "",
      "description_tooltip": null,
      "layout": "IPY_MODEL_0c156970efaf4c8ca92e561bbb7e3be1",
      "placeholder": "​",
      "style": "IPY_MODEL_741399be3f764f5c962015170d22b395",
      "value": "Downloading builder script: 100%"
     }
    },
    "ae70ecbe829f444589944ddc22bf0e4f": {
     "model_module": "@jupyter-widgets/controls",
     "model_module_version": "1.5.0",
     "model_name": "FloatProgressModel",
     "state": {
      "_dom_classes": [],
      "_model_module": "@jupyter-widgets/controls",
      "_model_module_version": "1.5.0",
      "_model_name": "FloatProgressModel",
      "_view_count": null,
      "_view_module": "@jupyter-widgets/controls",
      "_view_module_version": "1.5.0",
      "_view_name": "ProgressView",
      "bar_style": "success",
      "description": "",
      "description_tooltip": null,
      "layout": "IPY_MODEL_4a8a10f36655479ea361a7c7ead70306",
      "max": 2166,
      "min": 0,
      "orientation": "horizontal",
      "style": "IPY_MODEL_9c0444f03f28449da9ec6c17d46de466",
      "value": 2166
     }
    },
    "ae7d2d07fe044a1283d9d373a225b237": {
     "model_module": "@jupyter-widgets/controls",
     "model_module_version": "1.5.0",
     "model_name": "HBoxModel",
     "state": {
      "_dom_classes": [],
      "_model_module": "@jupyter-widgets/controls",
      "_model_module_version": "1.5.0",
      "_model_name": "HBoxModel",
      "_view_count": null,
      "_view_module": "@jupyter-widgets/controls",
      "_view_module_version": "1.5.0",
      "_view_name": "HBoxView",
      "box_style": "",
      "children": [
       "IPY_MODEL_117196e699c3431089788627930f02c9",
       "IPY_MODEL_449d491917de4e11878e87b9bf565109",
       "IPY_MODEL_4ec6d5400bef4df68011fd80f91fe3ec"
      ],
      "layout": "IPY_MODEL_b629b467e3144812a510e7401e5ed298"
     }
    },
    "af5e0f007fe049348e830dcac41016b7": {
     "model_module": "@jupyter-widgets/controls",
     "model_module_version": "1.5.0",
     "model_name": "HBoxModel",
     "state": {
      "_dom_classes": [],
      "_model_module": "@jupyter-widgets/controls",
      "_model_module_version": "1.5.0",
      "_model_name": "HBoxModel",
      "_view_count": null,
      "_view_module": "@jupyter-widgets/controls",
      "_view_module_version": "1.5.0",
      "_view_name": "HBoxView",
      "box_style": "",
      "children": [
       "IPY_MODEL_2fb729cebb734ecba986fb5de48ce654",
       "IPY_MODEL_e28e96ef457c4b188c9afa38d61e2da2",
       "IPY_MODEL_8292cc4cf93a46c8afcdd8b29a22b766"
      ],
      "layout": "IPY_MODEL_fe5a08706d4247acb6e7f224fc3a842e"
     }
    },
    "b53d63775cd2436dbd9edb4e30634887": {
     "model_module": "@jupyter-widgets/controls",
     "model_module_version": "1.5.0",
     "model_name": "DescriptionStyleModel",
     "state": {
      "_model_module": "@jupyter-widgets/controls",
      "_model_module_version": "1.5.0",
      "_model_name": "DescriptionStyleModel",
      "_view_count": null,
      "_view_module": "@jupyter-widgets/base",
      "_view_module_version": "1.2.0",
      "_view_name": "StyleView",
      "description_width": ""
     }
    },
    "b629b467e3144812a510e7401e5ed298": {
     "model_module": "@jupyter-widgets/base",
     "model_module_version": "1.2.0",
     "model_name": "LayoutModel",
     "state": {
      "_model_module": "@jupyter-widgets/base",
      "_model_module_version": "1.2.0",
      "_model_name": "LayoutModel",
      "_view_count": null,
      "_view_module": "@jupyter-widgets/base",
      "_view_module_version": "1.2.0",
      "_view_name": "LayoutView",
      "align_content": null,
      "align_items": null,
      "align_self": null,
      "border": null,
      "bottom": null,
      "display": null,
      "flex": null,
      "flex_flow": null,
      "grid_area": null,
      "grid_auto_columns": null,
      "grid_auto_flow": null,
      "grid_auto_rows": null,
      "grid_column": null,
      "grid_gap": null,
      "grid_row": null,
      "grid_template_areas": null,
      "grid_template_columns": null,
      "grid_template_rows": null,
      "height": null,
      "justify_content": null,
      "justify_items": null,
      "left": null,
      "margin": null,
      "max_height": null,
      "max_width": null,
      "min_height": null,
      "min_width": null,
      "object_fit": null,
      "object_position": null,
      "order": null,
      "overflow": null,
      "overflow_x": null,
      "overflow_y": null,
      "padding": null,
      "right": null,
      "top": null,
      "visibility": "hidden",
      "width": null
     }
    },
    "bef2495e91b94fedb6c9bc9339bda0a8": {
     "model_module": "@jupyter-widgets/controls",
     "model_module_version": "1.5.0",
     "model_name": "DescriptionStyleModel",
     "state": {
      "_model_module": "@jupyter-widgets/controls",
      "_model_module_version": "1.5.0",
      "_model_name": "DescriptionStyleModel",
      "_view_count": null,
      "_view_module": "@jupyter-widgets/base",
      "_view_module_version": "1.2.0",
      "_view_name": "StyleView",
      "description_width": ""
     }
    },
    "c264ae300b6242f5bc76316cd4a807a0": {
     "model_module": "@jupyter-widgets/controls",
     "model_module_version": "1.5.0",
     "model_name": "HBoxModel",
     "state": {
      "_dom_classes": [],
      "_model_module": "@jupyter-widgets/controls",
      "_model_module_version": "1.5.0",
      "_model_name": "HBoxModel",
      "_view_count": null,
      "_view_module": "@jupyter-widgets/controls",
      "_view_module_version": "1.5.0",
      "_view_name": "HBoxView",
      "box_style": "",
      "children": [
       "IPY_MODEL_3927e44d67634e6ba1d244ad0b6afcc5",
       "IPY_MODEL_d2d5e3c122d544c9a3088150bfd0a26b",
       "IPY_MODEL_8b70c5c359c846338c87d00a8632dc20"
      ],
      "layout": "IPY_MODEL_268e96347948448cbe7ea3b4a15a50e1"
     }
    },
    "c38b3726775949039cb757ba94b368a5": {
     "model_module": "@jupyter-widgets/base",
     "model_module_version": "1.2.0",
     "model_name": "LayoutModel",
     "state": {
      "_model_module": "@jupyter-widgets/base",
      "_model_module_version": "1.2.0",
      "_model_name": "LayoutModel",
      "_view_count": null,
      "_view_module": "@jupyter-widgets/base",
      "_view_module_version": "1.2.0",
      "_view_name": "LayoutView",
      "align_content": null,
      "align_items": null,
      "align_self": null,
      "border": null,
      "bottom": null,
      "display": null,
      "flex": null,
      "flex_flow": null,
      "grid_area": null,
      "grid_auto_columns": null,
      "grid_auto_flow": null,
      "grid_auto_rows": null,
      "grid_column": null,
      "grid_gap": null,
      "grid_row": null,
      "grid_template_areas": null,
      "grid_template_columns": null,
      "grid_template_rows": null,
      "height": null,
      "justify_content": null,
      "justify_items": null,
      "left": null,
      "margin": null,
      "max_height": null,
      "max_width": null,
      "min_height": null,
      "min_width": null,
      "object_fit": null,
      "object_position": null,
      "order": null,
      "overflow": null,
      "overflow_x": null,
      "overflow_y": null,
      "padding": null,
      "right": null,
      "top": null,
      "visibility": null,
      "width": null
     }
    },
    "c6e7f221025e4183aea700c3cef5f199": {
     "model_module": "@jupyter-widgets/controls",
     "model_module_version": "1.5.0",
     "model_name": "HTMLModel",
     "state": {
      "_dom_classes": [],
      "_model_module": "@jupyter-widgets/controls",
      "_model_module_version": "1.5.0",
      "_model_name": "HTMLModel",
      "_view_count": null,
      "_view_module": "@jupyter-widgets/controls",
      "_view_module_version": "1.5.0",
      "_view_name": "HTMLView",
      "description": "",
      "description_tooltip": null,
      "layout": "IPY_MODEL_aa6899dd18a54106b41512065806df03",
      "placeholder": "​",
      "style": "IPY_MODEL_e29e4ed08fdb4e9da79b52bc8d2c32e0",
      "value": " 7.59k/7.59k [00:00&lt;00:00, 393kB/s]"
     }
    },
    "d2d5e3c122d544c9a3088150bfd0a26b": {
     "model_module": "@jupyter-widgets/controls",
     "model_module_version": "1.5.0",
     "model_name": "FloatProgressModel",
     "state": {
      "_dom_classes": [],
      "_model_module": "@jupyter-widgets/controls",
      "_model_module_version": "1.5.0",
      "_model_name": "FloatProgressModel",
      "_view_count": null,
      "_view_module": "@jupyter-widgets/controls",
      "_view_module_version": "1.5.0",
      "_view_name": "ProgressView",
      "bar_style": "",
      "description": "",
      "description_tooltip": null,
      "layout": "IPY_MODEL_3fef7adb6e134a97bb8a9a308e9fa6a4",
      "max": 50000,
      "min": 0,
      "orientation": "horizontal",
      "style": "IPY_MODEL_47231559d88146d5b320a451119a0406",
      "value": 50000
     }
    },
    "d483672320bb421ea84ef01c8a6b845e": {
     "model_module": "@jupyter-widgets/base",
     "model_module_version": "1.2.0",
     "model_name": "LayoutModel",
     "state": {
      "_model_module": "@jupyter-widgets/base",
      "_model_module_version": "1.2.0",
      "_model_name": "LayoutModel",
      "_view_count": null,
      "_view_module": "@jupyter-widgets/base",
      "_view_module_version": "1.2.0",
      "_view_name": "LayoutView",
      "align_content": null,
      "align_items": null,
      "align_self": null,
      "border": null,
      "bottom": null,
      "display": null,
      "flex": null,
      "flex_flow": null,
      "grid_area": null,
      "grid_auto_columns": null,
      "grid_auto_flow": null,
      "grid_auto_rows": null,
      "grid_column": null,
      "grid_gap": null,
      "grid_row": null,
      "grid_template_areas": null,
      "grid_template_columns": null,
      "grid_template_rows": null,
      "height": null,
      "justify_content": null,
      "justify_items": null,
      "left": null,
      "margin": null,
      "max_height": null,
      "max_width": null,
      "min_height": null,
      "min_width": null,
      "object_fit": null,
      "object_position": null,
      "order": null,
      "overflow": null,
      "overflow_x": null,
      "overflow_y": null,
      "padding": null,
      "right": null,
      "top": null,
      "visibility": null,
      "width": null
     }
    },
    "d491cd71c6164c94b6651918daadf5c9": {
     "model_module": "@jupyter-widgets/controls",
     "model_module_version": "1.5.0",
     "model_name": "HBoxModel",
     "state": {
      "_dom_classes": [],
      "_model_module": "@jupyter-widgets/controls",
      "_model_module_version": "1.5.0",
      "_model_name": "HBoxModel",
      "_view_count": null,
      "_view_module": "@jupyter-widgets/controls",
      "_view_module_version": "1.5.0",
      "_view_name": "HBoxView",
      "box_style": "",
      "children": [
       "IPY_MODEL_f452fb4108734596bc821a2b689572f4",
       "IPY_MODEL_504507bbe73447f5ae5ab772bad4407b",
       "IPY_MODEL_a6695971e0bd4f1086caa056f8dbd251"
      ],
      "layout": "IPY_MODEL_a2e710245d6c4bc7a3a0947b8616a348"
     }
    },
    "d7250dacccf5401084054a4940b77165": {
     "model_module": "@jupyter-widgets/base",
     "model_module_version": "1.2.0",
     "model_name": "LayoutModel",
     "state": {
      "_model_module": "@jupyter-widgets/base",
      "_model_module_version": "1.2.0",
      "_model_name": "LayoutModel",
      "_view_count": null,
      "_view_module": "@jupyter-widgets/base",
      "_view_module_version": "1.2.0",
      "_view_name": "LayoutView",
      "align_content": null,
      "align_items": null,
      "align_self": null,
      "border": null,
      "bottom": null,
      "display": null,
      "flex": null,
      "flex_flow": null,
      "grid_area": null,
      "grid_auto_columns": null,
      "grid_auto_flow": null,
      "grid_auto_rows": null,
      "grid_column": null,
      "grid_gap": null,
      "grid_row": null,
      "grid_template_areas": null,
      "grid_template_columns": null,
      "grid_template_rows": null,
      "height": null,
      "justify_content": null,
      "justify_items": null,
      "left": null,
      "margin": null,
      "max_height": null,
      "max_width": null,
      "min_height": null,
      "min_width": null,
      "object_fit": null,
      "object_position": null,
      "order": null,
      "overflow": null,
      "overflow_x": null,
      "overflow_y": null,
      "padding": null,
      "right": null,
      "top": null,
      "visibility": null,
      "width": null
     }
    },
    "d76c91baca254e7b9d4ca5b2d89ffcf7": {
     "model_module": "@jupyter-widgets/controls",
     "model_module_version": "1.5.0",
     "model_name": "FloatProgressModel",
     "state": {
      "_dom_classes": [],
      "_model_module": "@jupyter-widgets/controls",
      "_model_module_version": "1.5.0",
      "_model_name": "FloatProgressModel",
      "_view_count": null,
      "_view_module": "@jupyter-widgets/controls",
      "_view_module_version": "1.5.0",
      "_view_name": "ProgressView",
      "bar_style": "success",
      "description": "",
      "description_tooltip": null,
      "layout": "IPY_MODEL_d986db5ab06a4013b60413ff74a2a9c5",
      "max": 4314,
      "min": 0,
      "orientation": "horizontal",
      "style": "IPY_MODEL_eee966cbbcc3405286172fa21a8c9998",
      "value": 4314
     }
    },
    "d986db5ab06a4013b60413ff74a2a9c5": {
     "model_module": "@jupyter-widgets/base",
     "model_module_version": "1.2.0",
     "model_name": "LayoutModel",
     "state": {
      "_model_module": "@jupyter-widgets/base",
      "_model_module_version": "1.2.0",
      "_model_name": "LayoutModel",
      "_view_count": null,
      "_view_module": "@jupyter-widgets/base",
      "_view_module_version": "1.2.0",
      "_view_name": "LayoutView",
      "align_content": null,
      "align_items": null,
      "align_self": null,
      "border": null,
      "bottom": null,
      "display": null,
      "flex": null,
      "flex_flow": null,
      "grid_area": null,
      "grid_auto_columns": null,
      "grid_auto_flow": null,
      "grid_auto_rows": null,
      "grid_column": null,
      "grid_gap": null,
      "grid_row": null,
      "grid_template_areas": null,
      "grid_template_columns": null,
      "grid_template_rows": null,
      "height": null,
      "justify_content": null,
      "justify_items": null,
      "left": null,
      "margin": null,
      "max_height": null,
      "max_width": null,
      "min_height": null,
      "min_width": null,
      "object_fit": null,
      "object_position": null,
      "order": null,
      "overflow": null,
      "overflow_x": null,
      "overflow_y": null,
      "padding": null,
      "right": null,
      "top": null,
      "visibility": null,
      "width": null
     }
    },
    "dec73fb11dca4996922aace2aabe42bf": {
     "model_module": "@jupyter-widgets/base",
     "model_module_version": "1.2.0",
     "model_name": "LayoutModel",
     "state": {
      "_model_module": "@jupyter-widgets/base",
      "_model_module_version": "1.2.0",
      "_model_name": "LayoutModel",
      "_view_count": null,
      "_view_module": "@jupyter-widgets/base",
      "_view_module_version": "1.2.0",
      "_view_name": "LayoutView",
      "align_content": null,
      "align_items": null,
      "align_self": null,
      "border": null,
      "bottom": null,
      "display": null,
      "flex": null,
      "flex_flow": null,
      "grid_area": null,
      "grid_auto_columns": null,
      "grid_auto_flow": null,
      "grid_auto_rows": null,
      "grid_column": null,
      "grid_gap": null,
      "grid_row": null,
      "grid_template_areas": null,
      "grid_template_columns": null,
      "grid_template_rows": null,
      "height": null,
      "justify_content": null,
      "justify_items": null,
      "left": null,
      "margin": null,
      "max_height": null,
      "max_width": null,
      "min_height": null,
      "min_width": null,
      "object_fit": null,
      "object_position": null,
      "order": null,
      "overflow": null,
      "overflow_x": null,
      "overflow_y": null,
      "padding": null,
      "right": null,
      "top": null,
      "visibility": null,
      "width": null
     }
    },
    "e28e96ef457c4b188c9afa38d61e2da2": {
     "model_module": "@jupyter-widgets/controls",
     "model_module_version": "1.5.0",
     "model_name": "FloatProgressModel",
     "state": {
      "_dom_classes": [],
      "_model_module": "@jupyter-widgets/controls",
      "_model_module_version": "1.5.0",
      "_model_name": "FloatProgressModel",
      "_view_count": null,
      "_view_module": "@jupyter-widgets/controls",
      "_view_module_version": "1.5.0",
      "_view_name": "ProgressView",
      "bar_style": "",
      "description": "",
      "description_tooltip": null,
      "layout": "IPY_MODEL_83f4e44a62114a318ea56e901727dfc9",
      "max": 25000,
      "min": 0,
      "orientation": "horizontal",
      "style": "IPY_MODEL_8926ba1565fb49f8a9bb110d94562f1d",
      "value": 25000
     }
    },
    "e29e4ed08fdb4e9da79b52bc8d2c32e0": {
     "model_module": "@jupyter-widgets/controls",
     "model_module_version": "1.5.0",
     "model_name": "DescriptionStyleModel",
     "state": {
      "_model_module": "@jupyter-widgets/controls",
      "_model_module_version": "1.5.0",
      "_model_name": "DescriptionStyleModel",
      "_view_count": null,
      "_view_module": "@jupyter-widgets/base",
      "_view_module_version": "1.2.0",
      "_view_name": "StyleView",
      "description_width": ""
     }
    },
    "e534fe6d21054d69a9f0bbe526255bf0": {
     "model_module": "@jupyter-widgets/base",
     "model_module_version": "1.2.0",
     "model_name": "LayoutModel",
     "state": {
      "_model_module": "@jupyter-widgets/base",
      "_model_module_version": "1.2.0",
      "_model_name": "LayoutModel",
      "_view_count": null,
      "_view_module": "@jupyter-widgets/base",
      "_view_module_version": "1.2.0",
      "_view_name": "LayoutView",
      "align_content": null,
      "align_items": null,
      "align_self": null,
      "border": null,
      "bottom": null,
      "display": null,
      "flex": null,
      "flex_flow": null,
      "grid_area": null,
      "grid_auto_columns": null,
      "grid_auto_flow": null,
      "grid_auto_rows": null,
      "grid_column": null,
      "grid_gap": null,
      "grid_row": null,
      "grid_template_areas": null,
      "grid_template_columns": null,
      "grid_template_rows": null,
      "height": null,
      "justify_content": null,
      "justify_items": null,
      "left": null,
      "margin": null,
      "max_height": null,
      "max_width": null,
      "min_height": null,
      "min_width": null,
      "object_fit": null,
      "object_position": null,
      "order": null,
      "overflow": null,
      "overflow_x": null,
      "overflow_y": null,
      "padding": null,
      "right": null,
      "top": null,
      "visibility": null,
      "width": null
     }
    },
    "e68c38ee4f1144b69dbb0ab75f1a8a45": {
     "model_module": "@jupyter-widgets/controls",
     "model_module_version": "1.5.0",
     "model_name": "DescriptionStyleModel",
     "state": {
      "_model_module": "@jupyter-widgets/controls",
      "_model_module_version": "1.5.0",
      "_model_name": "DescriptionStyleModel",
      "_view_count": null,
      "_view_module": "@jupyter-widgets/base",
      "_view_module_version": "1.2.0",
      "_view_name": "StyleView",
      "description_width": ""
     }
    },
    "eee966cbbcc3405286172fa21a8c9998": {
     "model_module": "@jupyter-widgets/controls",
     "model_module_version": "1.5.0",
     "model_name": "ProgressStyleModel",
     "state": {
      "_model_module": "@jupyter-widgets/controls",
      "_model_module_version": "1.5.0",
      "_model_name": "ProgressStyleModel",
      "_view_count": null,
      "_view_module": "@jupyter-widgets/base",
      "_view_module_version": "1.2.0",
      "_view_name": "StyleView",
      "bar_color": null,
      "description_width": ""
     }
    },
    "f26dd0c9e67147e6bf83d3fae9737150": {
     "model_module": "@jupyter-widgets/controls",
     "model_module_version": "1.5.0",
     "model_name": "DescriptionStyleModel",
     "state": {
      "_model_module": "@jupyter-widgets/controls",
      "_model_module_version": "1.5.0",
      "_model_name": "DescriptionStyleModel",
      "_view_count": null,
      "_view_module": "@jupyter-widgets/base",
      "_view_module_version": "1.2.0",
      "_view_name": "StyleView",
      "description_width": ""
     }
    },
    "f452fb4108734596bc821a2b689572f4": {
     "model_module": "@jupyter-widgets/controls",
     "model_module_version": "1.5.0",
     "model_name": "HTMLModel",
     "state": {
      "_dom_classes": [],
      "_model_module": "@jupyter-widgets/controls",
      "_model_module_version": "1.5.0",
      "_model_name": "HTMLModel",
      "_view_count": null,
      "_view_module": "@jupyter-widgets/controls",
      "_view_module_version": "1.5.0",
      "_view_name": "HTMLView",
      "description": "",
      "description_tooltip": null,
      "layout": "IPY_MODEL_2f5acd17773a40f986789d68ac8f5d74",
      "placeholder": "​",
      "style": "IPY_MODEL_f26dd0c9e67147e6bf83d3fae9737150",
      "value": "Downloading data: 100%"
     }
    },
    "f4f709e0837d49348260626801dc4d8b": {
     "model_module": "@jupyter-widgets/base",
     "model_module_version": "1.2.0",
     "model_name": "LayoutModel",
     "state": {
      "_model_module": "@jupyter-widgets/base",
      "_model_module_version": "1.2.0",
      "_model_name": "LayoutModel",
      "_view_count": null,
      "_view_module": "@jupyter-widgets/base",
      "_view_module_version": "1.2.0",
      "_view_name": "LayoutView",
      "align_content": null,
      "align_items": null,
      "align_self": null,
      "border": null,
      "bottom": null,
      "display": null,
      "flex": null,
      "flex_flow": null,
      "grid_area": null,
      "grid_auto_columns": null,
      "grid_auto_flow": null,
      "grid_auto_rows": null,
      "grid_column": null,
      "grid_gap": null,
      "grid_row": null,
      "grid_template_areas": null,
      "grid_template_columns": null,
      "grid_template_rows": null,
      "height": null,
      "justify_content": null,
      "justify_items": null,
      "left": null,
      "margin": null,
      "max_height": null,
      "max_width": null,
      "min_height": null,
      "min_width": null,
      "object_fit": null,
      "object_position": null,
      "order": null,
      "overflow": null,
      "overflow_x": null,
      "overflow_y": null,
      "padding": null,
      "right": null,
      "top": null,
      "visibility": null,
      "width": null
     }
    },
    "f639069b177549aa94a2db3b5b00b2ea": {
     "model_module": "@jupyter-widgets/base",
     "model_module_version": "1.2.0",
     "model_name": "LayoutModel",
     "state": {
      "_model_module": "@jupyter-widgets/base",
      "_model_module_version": "1.2.0",
      "_model_name": "LayoutModel",
      "_view_count": null,
      "_view_module": "@jupyter-widgets/base",
      "_view_module_version": "1.2.0",
      "_view_name": "LayoutView",
      "align_content": null,
      "align_items": null,
      "align_self": null,
      "border": null,
      "bottom": null,
      "display": null,
      "flex": null,
      "flex_flow": null,
      "grid_area": null,
      "grid_auto_columns": null,
      "grid_auto_flow": null,
      "grid_auto_rows": null,
      "grid_column": null,
      "grid_gap": null,
      "grid_row": null,
      "grid_template_areas": null,
      "grid_template_columns": null,
      "grid_template_rows": null,
      "height": null,
      "justify_content": null,
      "justify_items": null,
      "left": null,
      "margin": null,
      "max_height": null,
      "max_width": null,
      "min_height": null,
      "min_width": null,
      "object_fit": null,
      "object_position": null,
      "order": null,
      "overflow": null,
      "overflow_x": null,
      "overflow_y": null,
      "padding": null,
      "right": null,
      "top": null,
      "visibility": null,
      "width": null
     }
    },
    "fe5a08706d4247acb6e7f224fc3a842e": {
     "model_module": "@jupyter-widgets/base",
     "model_module_version": "1.2.0",
     "model_name": "LayoutModel",
     "state": {
      "_model_module": "@jupyter-widgets/base",
      "_model_module_version": "1.2.0",
      "_model_name": "LayoutModel",
      "_view_count": null,
      "_view_module": "@jupyter-widgets/base",
      "_view_module_version": "1.2.0",
      "_view_name": "LayoutView",
      "align_content": null,
      "align_items": null,
      "align_self": null,
      "border": null,
      "bottom": null,
      "display": null,
      "flex": null,
      "flex_flow": null,
      "grid_area": null,
      "grid_auto_columns": null,
      "grid_auto_flow": null,
      "grid_auto_rows": null,
      "grid_column": null,
      "grid_gap": null,
      "grid_row": null,
      "grid_template_areas": null,
      "grid_template_columns": null,
      "grid_template_rows": null,
      "height": null,
      "justify_content": null,
      "justify_items": null,
      "left": null,
      "margin": null,
      "max_height": null,
      "max_width": null,
      "min_height": null,
      "min_width": null,
      "object_fit": null,
      "object_position": null,
      "order": null,
      "overflow": null,
      "overflow_x": null,
      "overflow_y": null,
      "padding": null,
      "right": null,
      "top": null,
      "visibility": "hidden",
      "width": null
     }
    }
   }
  }
 },
 "nbformat": 4,
 "nbformat_minor": 0
}
