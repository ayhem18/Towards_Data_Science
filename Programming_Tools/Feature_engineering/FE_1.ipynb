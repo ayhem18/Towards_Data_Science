{
 "cells": [
  {
   "cell_type": "markdown",
   "metadata": {},
   "source": [
    "# Feature Engineering\n",
    "Feature engineering is the art (yes art) of manually creating new features to feed to the model with the goal of boosting performance. In this notebook, I will explore (and save) a number of general and well-known techniques.\n",
    "This notebook follows two sources:\n",
    "* Kaggle [course](https://www.kaggle.com/learn/feature-engineering)\n",
    "* DataCamp [course]()"
   ]
  },
  {
   "cell_type": "markdown",
   "metadata": {},
   "source": [
    "## Baseline Model\n",
    "Before proceeding in creating new features, it is recommended to evalute the baseline, with the given initial features. A model performance's improvement reflects the usefulness of the new synthetized features."
   ]
  },
  {
   "cell_type": "markdown",
   "metadata": {},
   "source": [
    "## Mututal Information\n",
    "### Definntion\n",
    "Having a large number of features might be extremely overwhelming. Thus, the first step is to reduce the available set of features into a smaller one that might serve as a starting point to build a powerful prediction model. Later, more features can be incorporated in the process.\n",
    "Mutual Information, unlike correlation is capable of capturing any type of relationship between the target and the feature.\n"
   ]
  },
  {
   "cell_type": "markdown",
   "metadata": {},
   "source": [
    "### More details\n",
    "In simple terms, MI reflects the extent to which the knowledge of one variable (feature) reduces the uncertainty of another (target).  \n",
    "On a technical note, MI is based on information technology measurement refferred to as ***entropy***. The larger the entropy, the more uncertain the variable is, (the less correlated / tied to each other)."
   ]
  },
  {
   "cell_type": "markdown",
   "metadata": {},
   "source": [
    "### Key Notes\n",
    "There are important poitns to keep in mind:\n",
    "* Each feature is evaluated separately. In other words, a feature might quite powerful when combined with other features. Yet, it might not as significant on its own\n",
    "* A high MI score reflects a **potentially** useful feature. A transformation such as log, exponential, polynomial might be needed to take see the relationship between the target and the feature.\n",
    " "
   ]
  },
  {
   "cell_type": "markdown",
   "metadata": {},
   "source": [
    "### Applying\n",
    "The kaggle course offers a great opportunity to practice the main usage of this technique. In this subsection, the [automobile 1985](https://www.kaggle.com/datasets/toramky/automobile-dataset) dataset will be used."
   ]
  },
  {
   "cell_type": "code",
   "execution_count": 2,
   "metadata": {},
   "outputs": [],
   "source": [
    "import matplotlib.pyplot as plt\n",
    "import numpy as np\n",
    "import pandas as pd"
   ]
  },
  {
   "cell_type": "code",
   "execution_count": 5,
   "metadata": {},
   "outputs": [],
   "source": [
    "auto_ds = \"Automobile_data.csv\"\n",
    "df = pd.read_csv(auto_ds)"
   ]
  },
  {
   "cell_type": "code",
   "execution_count": null,
   "metadata": {},
   "outputs": [],
   "source": []
  },
  {
   "cell_type": "code",
   "execution_count": null,
   "metadata": {},
   "outputs": [],
   "source": []
  },
  {
   "cell_type": "code",
   "execution_count": null,
   "metadata": {},
   "outputs": [],
   "source": []
  }
 ],
 "metadata": {
  "kernelspec": {
   "display_name": "Python 3.10.4 ('ds_env')",
   "language": "python",
   "name": "python3"
  },
  "language_info": {
   "codemirror_mode": {
    "name": "ipython",
    "version": 3
   },
   "file_extension": ".py",
   "mimetype": "text/x-python",
   "name": "python",
   "nbconvert_exporter": "python",
   "pygments_lexer": "ipython3",
   "version": "3.10.4"
  },
  "orig_nbformat": 4,
  "vscode": {
   "interpreter": {
    "hash": "08488e93894ea7be7272109919d40edb52233f14daf834f5f2387122a81730e1"
   }
  }
 },
 "nbformat": 4,
 "nbformat_minor": 2
}
