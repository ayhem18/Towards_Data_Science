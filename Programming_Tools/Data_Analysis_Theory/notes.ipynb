{
 "cells": [
  {
   "attachments": {},
   "cell_type": "markdown",
   "metadata": {},
   "source": [
    "# Chapter 1: Overview\n",
    "Let's talk scales:\n",
    "* nominal scales: generally referred to as categorical, represent the presence or absence of a characteristic property. It is associated with several operations: count, frequency. The possible values of such variables are not supposed to reflect any order or ranking.\n",
    "* ordinal scales: slightly more precise than nominal scales. As the values reflect a certain order, and can be compared with a certain type of relations: **less than**, **more than**. Nevertheless, there is no certain absolute way to determine the numerical difference between the different values. Very specific techniques were deviced to address such nonmetric data. \n",
    "* metric measurements: numerical data mainly. it can be divided further into:\n",
    "    1. interval scale: does not have an absolute zero point: \n",
    "    2. ratio scale: has an absolute zero point. The ration of two values reflect the ratio between the physical measurement they represent. $50$kg is 2 times heavier / weights $2$ times more than $25$kg\n",
    "* a measurement has mainly 2 characteristics:\n",
    "    1. validity: how well does the measurement represent what it is supposed to?\n",
    "    2. reliability: reflects the measurement error\n",
    "* "
   ]
  },
  {
   "cell_type": "code",
   "execution_count": null,
   "metadata": {},
   "outputs": [],
   "source": []
  }
 ],
 "metadata": {
  "language_info": {
   "name": "python"
  },
  "orig_nbformat": 4
 },
 "nbformat": 4,
 "nbformat_minor": 2
}
