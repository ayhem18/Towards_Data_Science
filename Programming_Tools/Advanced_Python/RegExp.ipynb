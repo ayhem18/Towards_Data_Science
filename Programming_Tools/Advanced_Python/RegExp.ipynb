{
 "cells": [
  {
   "cell_type": "markdown",
   "metadata": {},
   "source": [
    "## 1. REGULAR EXPRESSIONS: the re module\n",
    "This module is used for pattern search: and regular expressions.\n",
    "### 1.1 re.match()\n",
    "re.match(w1, w2) returns true if \"w1\" can be found at the beginning of w2"
   ]
  },
  {
   "cell_type": "code",
   "execution_count": 1,
   "metadata": {},
   "outputs": [],
   "source": [
    "import random\n",
    "import string\n",
    "import re\n",
    "import numpy as np"
   ]
  },
  {
   "cell_type": "code",
   "execution_count": 2,
   "metadata": {},
   "outputs": [],
   "source": [
    "# this method returns a random string with a given length\n",
    "def random_string(str_len=10, all_lower=False, all_upper=False, characters=None):\n",
    "    assert not all_lower or not all_upper\n",
    "    \n",
    "    if characters is None:\n",
    "        characters = string.ascii_letters\n",
    "    \n",
    "    ran_str =  \"\".join([str(random.choice(characters)) for _ in range(str_len)])\n",
    "    \n",
    "    if all_lower :\n",
    "        return ran_str.lower()\n",
    "    if all_upper:\n",
    "        return ran_str.upper() \n",
    "    \n",
    "    return ran_str\n"
   ]
  },
  {
   "cell_type": "code",
   "execution_count": 3,
   "metadata": {},
   "outputs": [
    {
     "name": "stdout",
     "output_type": "stream",
     "text": [
      "False\n"
     ]
    }
   ],
   "source": [
    "print(re.match('hedge', 'hedgehog') is None) # which means \"hedgehog\" starts with \"hedge\""
   ]
  },
  {
   "cell_type": "markdown",
   "metadata": {},
   "source": [
    "### 1.2 Special characters\n",
    "#### 1.2.1 Dot character\n",
    "This character matches every character beside the new line characeters \"\\n\", \"\\r\"...\n",
    "#### 1.2.2 The ? character\n",
    "when written after a character, it means this character can be absent."
   ]
  },
  {
   "cell_type": "code",
   "execution_count": 4,
   "metadata": {},
   "outputs": [
    {
     "name": "stdout",
     "output_type": "stream",
     "text": [
      "True\n"
     ]
    }
   ],
   "source": [
    "regexp = \"ayhem .?.?\"\n",
    "\n",
    "evaluation = [(re.match(regexp, \"ayhem \" + random_string(2)) is not None) for _ in range(50)]\n",
    "print(np.array(evaluation).all()) # this evaluates to True"
   ]
  },
  {
   "attachments": {},
   "cell_type": "markdown",
   "metadata": {},
   "source": [
    "[reference](https://hyperskill.org/learn/step/9468)"
   ]
  },
  {
   "cell_type": "markdown",
   "metadata": {},
   "source": [
    "## 1.3 Escaping Characters\n",
    "### 1.3.1 Backslashes\n",
    "Sometimes we want to include the special characters in the regular expression as their actual literal meaning. We can use backslashes for this purpose. \"\\\"."
   ]
  },
  {
   "cell_type": "code",
   "execution_count": 5,
   "metadata": {},
   "outputs": [
    {
     "name": "stdout",
     "output_type": "stream",
     "text": [
      "True\n",
      "False\n",
      "False\n",
      "True\n"
     ]
    }
   ],
   "source": [
    "espaced_point = \"\\.\"\n",
    "print(re.match(espaced_point, \".\") is not None)\n",
    "print(re.match(espaced_point, \"a\") is not None)\n",
    "\n",
    "escaped_question_mark = \"\\?\"\n",
    "print(re.match(escaped_question_mark, \"\") is not None) # false\n",
    "print(re.match(escaped_question_mark, \"?\") is not None) # True"
   ]
  },
  {
   "cell_type": "markdown",
   "metadata": {},
   "source": [
    "Since having numerous \"\\\" can easily become so confusing, Python included two additional powerful features:\n",
    "1. the r prefix\n",
    "2. re.escape\n",
    "### 1.3.2 r prefix\n",
    "r'string' will simply ask Python to treat each \"\\\" literally. Thus the escape will be applied only to special characters of regex:\n",
    "* r'\\t' is indeed '\\t' not the tabulation symbol\n",
    "* r'\\\\.' denotes a usual dot and it is equivalent to '\\\\.'\n",
    "### 1.3.3 re.escape\n",
    "re.escape(string) will escape every special character and treat it literally"
   ]
  },
  {
   "cell_type": "code",
   "execution_count": 6,
   "metadata": {},
   "outputs": [
    {
     "name": "stdout",
     "output_type": "stream",
     "text": [
      "False\n"
     ]
    }
   ],
   "source": [
    "a = re.escape(\"sh.t\")\n",
    "print(re.match(a, \"shit\") is not None)"
   ]
  },
  {
   "cell_type": "markdown",
   "metadata": {},
   "source": [
    "[!reference](https://hyperskill.org/learn/step/9754) "
   ]
  },
  {
   "cell_type": "markdown",
   "metadata": {},
   "source": [
    "## 1.4 Regexp Sets and Ranges \n",
    "sets are written between two brackets \\[symbols\\]: represents any character that belongs to that set."
   ]
  },
  {
   "cell_type": "code",
   "execution_count": 7,
   "metadata": {},
   "outputs": [
    {
     "name": "stdout",
     "output_type": "stream",
     "text": [
      "True\n",
      "True\n",
      "True\n",
      "False\n"
     ]
    }
   ],
   "source": [
    "template = r'[123][456][789]'\n",
    "print(re.match(template, \"147\" ) is not None)\n",
    "print(re.match(template, \"159\" ) is not None)\n",
    "print(re.match(template, \"169\" ) is not None)\n",
    "print(re.match(template, \"139\" ) is not None)"
   ]
  },
  {
   "cell_type": "markdown",
   "metadata": {},
   "source": [
    "### 1.4.1 Escaping in sets\n",
    "Sets treat most of the special characters in their literal meaning with the exception of\n",
    "* \\: backslash\n",
    "* ]\n",
    "### 1.4.2 Ranges\n",
    "we can set a range of acceptable values inside a set:"
   ]
  },
  {
   "cell_type": "code",
   "execution_count": 8,
   "metadata": {},
   "outputs": [
    {
     "name": "stdout",
     "output_type": "stream",
     "text": [
      "9014672\n",
      "True\n",
      "True\n",
      "False\n"
     ]
    }
   ],
   "source": [
    "r1 = \"[0-9]\"\n",
    "random_num = \"\".join(e for e in random.sample(string.digits, random.randint(1, 10)))\n",
    "print(random_num)\n",
    "print(re.match(r1, random_num) is not None)\n",
    "r2 = \"[0-9][a-z]\"\n",
    "print(re.match(r2, \"0t\") is not None)\n",
    "print(re.match(r2, \"000000z\")is not None)"
   ]
  },
  {
   "cell_type": "markdown",
   "metadata": {},
   "source": [
    "### 1.4.2 Exclusion of sets\n",
    "The same range can be used to exclude a range of values, just add the symbol \"^\" before the range in the \\[\\]"
   ]
  },
  {
   "cell_type": "code",
   "execution_count": 9,
   "metadata": {},
   "outputs": [
    {
     "name": "stdout",
     "output_type": "stream",
     "text": [
      "['A', 'B', 'C', 'D']\n",
      "DBDCACD\n"
     ]
    },
    {
     "data": {
      "text/plain": [
       "['D', 'BD', 'C', 'ACD', '']"
      ]
     },
     "execution_count": 9,
     "metadata": {},
     "output_type": "execute_result"
    }
   ],
   "source": [
    "text = \"Ayhem is a great student. Ayhem is hungry for success and unexpectedly pussy. Ayhem is suffering from both poverty and drought \" + \\\n",
    "    \"so don't be like Ayhem unless you 're really mentally tought enough!!\"\n",
    "re.search(\"[aA]yhem\", text) \n",
    "re.findall(\"[a-t]{5}\", text)\n",
    "re.split(\"[a-t]{5}\", text)\n",
    "re.findall(\"[A-Z]{1}[a-z]+\", text)\n",
    "\n",
    "grades = ['A', 'B', 'C', 'D']\n",
    "print(grades)\n",
    "random_grades = random_string(str_len=random.randint(2, 15), characters=grades)\n",
    "# try to detect a decreasing trend in the grades\n",
    "print(random_grades)\n",
    "re.findall(\"[A]*[B]*[C]*[D]*\", random_grades)"
   ]
  },
  {
   "cell_type": "code",
   "execution_count": 10,
   "metadata": {},
   "outputs": [
    {
     "name": "stdout",
     "output_type": "stream",
     "text": [
      "(4,)\n",
      "(4, 1)\n",
      "(1, 4)\n",
      "(3,)\n",
      "(4,)\n"
     ]
    }
   ],
   "source": [
    "a1 = np.random.rand(4)\n",
    "a2 = np.random.rand(4, 1)\n",
    "a3 = np.array([[1, 2, 3, 4]])\n",
    "a4 = np.arange(1, 4, 1)\n",
    "a5 = np.linspace(1 ,4, 4)\n",
    "a = [a1, a2, a3, a4, a5]\n",
    "for ax in a:\n",
    "    print(ax.shape)"
   ]
  },
  {
   "cell_type": "code",
   "execution_count": 11,
   "metadata": {},
   "outputs": [
    {
     "name": "stdout",
     "output_type": "stream",
     "text": [
      "[[0.48574089 0.10345161 0.02662984 0.72234754 0.63411376 0.62489732]\n",
      " [0.98237043 0.08534778 0.05123036 0.70734413 0.83150791 0.05454003]\n",
      " [0.0958706  0.26541723 0.2202003  0.99210816 0.46997993 0.95357357]\n",
      " [0.62524305 0.0431272  0.50776207 0.3745882  0.98848912 0.44540114]\n",
      " [0.29521422 0.13368912 0.51282807 0.36253909 0.95275568 0.30383428]\n",
      " [0.91617947 0.27822312 0.77167756 0.43717709 0.11708864 0.50213237]]\n"
     ]
    }
   ],
   "source": [
    "r = np.random.rand(6,6)\n",
    "print(r)"
   ]
  },
  {
   "cell_type": "code",
   "execution_count": 12,
   "metadata": {},
   "outputs": [
    {
     "name": "stdout",
     "output_type": "stream",
     "text": [
      "[[0.2202003  0.99210816]\n",
      " [0.50776207 0.3745882 ]] \n",
      "\n",
      "[0.2202003 0.3745882]\n"
     ]
    }
   ],
   "source": [
    "print(r[2:4, 2:4], \"\\n\")\n",
    "print(r[[2,3], [2,3]])"
   ]
  },
  {
   "cell_type": "code",
   "execution_count": 13,
   "metadata": {},
   "outputs": [
    {
     "data": {
      "text/plain": [
       "5"
      ]
     },
     "execution_count": 13,
     "metadata": {},
     "output_type": "execute_result"
    }
   ],
   "source": [
    "s = 'ACAABAACAAAB'\n",
    "result = re.findall('A{1,2}', s)\n",
    "len(result)"
   ]
  },
  {
   "cell_type": "code",
   "execution_count": 14,
   "metadata": {},
   "outputs": [
    {
     "name": "stdout",
     "output_type": "stream",
     "text": [
      "Bell Kassulke\n",
      "Simon Loidl\n",
      "Elias Jovanovic\n",
      "Hakim Botros\n",
      "Emilie Lorentsen\n",
      "Jake Wood\n",
      "Fatemeh Akhtar\n",
      "Kim Weston\n",
      "Yasmin Dar\n",
      "Viswamitra Upandhye\n",
      "Killian Kaufman\n",
      "Elwood Page\n",
      "Elodie Booker\n",
      "Adnan Chen\n",
      "Hank Spinka\n",
      "Hannah Bayer\n"
     ]
    }
   ],
   "source": [
    "with open(\"utility_files/grades.txt\") as file:\n",
    "    grades = file.read()\n",
    "    # print(grades)\n",
    "    template = \"([A-Za-z]+ [A-Za-z]+)(: B)\"\n",
    "    # print(re.findall(template, grades))\n",
    "    for item in re.finditer(template, grades):\n",
    "        print(item.groups()[0])"
   ]
  },
  {
   "cell_type": "code",
   "execution_count": 15,
   "metadata": {},
   "outputs": [
    {
     "name": "stdout",
     "output_type": "stream",
     "text": [
      "True\n",
      "group(0)231.220.8.214 - - [21/Jun/2019:15:45:52 -0700] \"HEAD /systems/sexy HTTP/1.1\"\n",
      "group(1)231.220.8.214\n",
      "group(2)8.\n",
      "group(3) - \n",
      "group(4)-\n",
      "group(5) [21/Jun/2019:15:45:52 -0700] \n",
      "group(6)\"HEAD /systems/sexy HTTP/1.1\"\n",
      "[{'host': '146.204.224.152', 'user_name': 'feest6811', 'time': '21/Jun/2019:15:45:24 -0700', 'request': 'POST /incentivize HTTP/1.1'}, {'host': '197.109.77.178', 'user_name': 'kertzmann3129', 'time': '21/Jun/2019:15:45:25 -0700', 'request': 'DELETE /virtual/solutions/target/web+services HTTP/2.0'}, {'host': '156.127.178.177', 'user_name': 'okuneva5222', 'time': '21/Jun/2019:15:45:27 -0700', 'request': 'DELETE /interactive/transparent/niches/revolutionize HTTP/1.1'}, {'host': '100.32.205.59', 'user_name': 'ortiz8891', 'time': '21/Jun/2019:15:45:28 -0700', 'request': 'PATCH /architectures HTTP/1.0'}, {'host': '168.95.156.240', 'user_name': 'stark2413', 'time': '21/Jun/2019:15:45:31 -0700', 'request': 'GET /engage HTTP/2.0'}, {'host': '71.172.239.195', 'user_name': 'dooley1853', 'time': '21/Jun/2019:15:45:32 -0700', 'request': 'PUT /cutting-edge HTTP/2.0'}, {'host': '180.95.121.94', 'user_name': 'mohr6893', 'time': '21/Jun/2019:15:45:34 -0700', 'request': 'PATCH /extensible/reinvent HTTP/1.1'}, {'host': '144.23.247.108', 'user_name': 'auer7552', 'time': '21/Jun/2019:15:45:35 -0700', 'request': 'POST /extensible/infrastructures/one-to-one/enterprise HTTP/1.1'}, {'host': '2.179.103.97', 'user_name': 'lind8584', 'time': '21/Jun/2019:15:45:36 -0700', 'request': 'POST /grow/front-end/e-commerce/robust HTTP/2.0'}, {'host': '241.114.184.133', 'user_name': 'tromp8355', 'time': '21/Jun/2019:15:45:37 -0700', 'request': 'GET /redefine/orchestrate HTTP/1.0'}, {'host': '224.188.38.4', 'user_name': 'keebler1423', 'time': '21/Jun/2019:15:45:40 -0700', 'request': 'PUT /orchestrate/out-of-the-box/unleash/syndicate HTTP/1.1'}, {'host': '94.11.36.112', 'user_name': 'klein8508', 'time': '21/Jun/2019:15:45:41 -0700', 'request': 'POST /enhance/solutions/bricks-and-clicks HTTP/1.1'}, {'host': '126.196.238.197', 'user_name': 'gusikowski9864', 'time': '21/Jun/2019:15:45:45 -0700', 'request': 'DELETE /rich/reinvent HTTP/2.0'}, {'host': '103.247.168.212', 'user_name': 'medhurst2732', 'time': '21/Jun/2019:15:45:49 -0700', 'request': 'HEAD /scale/global/leverage HTTP/1.0'}, {'host': '57.86.153.68', 'user_name': 'dubuque8645', 'time': '21/Jun/2019:15:45:50 -0700', 'request': 'POST /innovative/roi/robust/systems HTTP/1.1'}, {'host': '231.220.8.214', 'user_name': 'luettgen1860', 'time': '21/Jun/2019:15:45:52 -0700', 'request': 'HEAD /systems/sexy HTTP/1.1'}, {'host': '219.133.7.154', 'user_name': 'price5585', 'time': '21/Jun/2019:15:45:53 -0700', 'request': 'GET /incubate/incubate HTTP/1.1'}, {'host': '159.252.184.44', 'user_name': 'fay7852', 'time': '21/Jun/2019:15:45:54 -0700', 'request': 'GET /convergence HTTP/2.0'}, {'host': '40.167.172.66', 'user_name': 'kshlerin3090', 'time': '21/Jun/2019:15:45:57 -0700', 'request': 'HEAD /convergence HTTP/2.0'}, {'host': '167.153.239.72', 'user_name': 'schaden8853', 'time': '21/Jun/2019:15:45:58 -0700', 'request': 'DELETE /bandwidth/reintermediate/engage HTTP/2.0'}]\n"
     ]
    }
   ],
   "source": [
    "with open (\"utility_files/logdata.txt\", \"r\") as file:\n",
    "    content = file.read()\n",
    "    # print(content)\n",
    "    template_host = \"(\\d+\\.){3}\\d+\"\n",
    "    print(re.match(template_host, \"12.3.5.345\") is not None)\n",
    "    template_space = \"( - )\"\n",
    "    template_user = \"[\\w-]+\"\n",
    "    template_date = \" \\[\\d{2}\\/[A-Za-z]{3}\\/\\d{4}:\\d{2}:\\d{2}:\\d{2} -\\d{4}\\] \"\n",
    "    template_request = '\"[A-Z]+ .+\"'\n",
    "    final_template = template_host.join([\"(\", \")\"]) + template_space + template_user.join([\"(\", \")\"]) + template_date.join([\"(\", \")\"]) + template_request.join([\"(\", \")\"])\n",
    "    # print(final_template)\n",
    "    re.findall(template_host, content)\n",
    "    \n",
    "    line = '231.220.8.214 - - [21/Jun/2019:15:45:52 -0700] \"HEAD /systems/sexy HTTP/1.1\" 201 2578'\n",
    "    res = [item for item in re.finditer(final_template, line)]\n",
    "    i = 0\n",
    "    while True:\n",
    "       try:\n",
    "            print(\"group(\" + str(i)+ \")\" + str(res[0].group(i)))\n",
    "       except: \n",
    "            break\n",
    "       i += 1\n",
    "    result = [{\"host\": item.group(1), \"user_name\": item.group(4), \"time\": item.group(5)[2:-2], \"request\": item.group(6)[1:-1]} for item in re.finditer(final_template, content)]\n",
    "    print(result[0:20])   "
   ]
  },
  {
   "cell_type": "code",
   "execution_count": null,
   "metadata": {},
   "outputs": [],
   "source": []
  }
 ],
 "metadata": {
  "kernelspec": {
   "display_name": "ds_env",
   "language": "python",
   "name": "python3"
  },
  "language_info": {
   "codemirror_mode": {
    "name": "ipython",
    "version": 3
   },
   "file_extension": ".py",
   "mimetype": "text/x-python",
   "name": "python",
   "nbconvert_exporter": "python",
   "pygments_lexer": "ipython3",
   "version": "3.9.12"
  },
  "orig_nbformat": 4,
  "vscode": {
   "interpreter": {
    "hash": "7bb0ce5cb6b092cde9f0ba713d915425207ed6ea08d3ede97530b87c251a3aee"
   }
  }
 },
 "nbformat": 4,
 "nbformat_minor": 2
}
