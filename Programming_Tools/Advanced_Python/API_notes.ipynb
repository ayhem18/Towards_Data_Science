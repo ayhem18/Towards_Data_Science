{
 "cells": [
  {
   "attachments": {},
   "cell_type": "markdown",
   "metadata": {},
   "source": [
    "# Introduction to APIs\n",
    "This notebook is created to save notes from the APIs section from the ***Python For Data Science and AI Development*** course on Coursera (as part of the ***IBM Data Engineer specialization*** on the same platform)"
   ]
  },
  {
   "attachments": {},
   "cell_type": "markdown",
   "metadata": {},
   "source": [
    "# What is an Application Programming Interface ?\n",
    "an API can be considered as a piece (pieces) of code that enable the communication between the running Python Program and other software components. Using the API requires knowning (understanding) the nature of the input and output accepted and produced respectively by the API.\n",
    "## Pandas is an API!!! and some other examples\n",
    "Well, yeah. the pandas dataframe is an instance the Python program uses to communicate with the Pandas API (which is not written in python btw...)\n"
   ]
  },
  {
   "cell_type": "code",
   "execution_count": 10,
   "metadata": {},
   "outputs": [
    {
     "name": "stdout",
     "output_type": "stream",
     "text": [
      "{'name': ['ayhem', 'ghassen', 'aziz', 'mickel', 'ivan'], 'grades': [11, 17, 15, 2, 5]}\n",
      "      name  grades\n",
      "0    ayhem      11\n",
      "1  ghassen      17\n",
      "2     aziz      15\n",
      "3   mickel       2\n",
      "4     ivan       5\n",
      "      name  grades  study_per_week\n",
      "0    ayhem      11              29\n",
      "1  ghassen      17              25\n",
      "2     aziz      15              11\n",
      "3   mickel       2               7\n",
      "4     ivan       5               2\n",
      "grades            10.0\n",
      "study_per_week    14.8\n",
      "dtype: float64\n"
     ]
    }
   ],
   "source": [
    "import pandas as pd\n",
    "import numpy as np\n",
    "# let's create a random dictionary:\n",
    "data = {\"name\": ['ayhem', 'ghassen', 'aziz', 'mickel', 'ivan',], 'grades':np.random.randint(low=0, high=21, size=(5,)).tolist()}\n",
    "print(data)\n",
    "# let's convert the dictionary to pd.DataFrame\n",
    "data = pd.DataFrame(data)\n",
    "print(data.head())\n",
    "# the data variable is an instance enabling the communication between my jupyter notebook and the pandas API.\n",
    "# let's add another another column to make it interesting\n",
    "data['study_per_week'] = np.random.randint(low=0, high=32, size=(len(data), ))\n",
    "print(data)\n",
    "# the call to data.mean() will request the API to calculate the mean of each column and return the result through another data instance.\n",
    "print(data.select_dtypes(np.number).mean())"
   ]
  },
  {
   "attachments": {},
   "cell_type": "markdown",
   "metadata": {},
   "source": [
    "Pandas is too familiar, let's boarden our horizon a bit more. What about crypto ? well CoinGecko is a great API for that. One may consider the API documenation as well as its Python Wrapper\n",
    "1. [API doc](https://www.coingecko.com/en/api/documentation)\n",
    "2. [Python Wrapper](https://github.com/man-c/pycoingecko)"
   ]
  },
  {
   "cell_type": "code",
   "execution_count": null,
   "metadata": {},
   "outputs": [],
   "source": [
    "# let's install it first \n",
    "! pip install -U pycoingecko"
   ]
  },
  {
   "cell_type": "code",
   "execution_count": 13,
   "metadata": {},
   "outputs": [
    {
     "name": "stdout",
     "output_type": "stream",
     "text": [
      "{'bitcoin': {'usd': 16814.0, 'usd_market_cap': 323983517166.8485, 'usd_24h_vol': 16903150976.904636, 'last_updated_at': 1672942556}}\n"
     ]
    }
   ],
   "source": [
    "from pycoingecko import CoinGeckoAPI \n",
    "cg = CoinGeckoAPI() # this will be the instance to communicate with the software components\n",
    "# let's set the data\n",
    "obj1 = cg.get_price(ids='bitcoin', vs_currencies='usd', include_market_cap=True, include_24hr_vol=True, include_24_change=True, include_last_updated_at=True)\n",
    "# let's \n",
    "print(obj1)\n"
   ]
  },
  {
   "attachments": {},
   "cell_type": "markdown",
   "metadata": {},
   "source": [
    "## REST APIs\n",
    "Representation State Transfer APIs are quite common when working with the WEB. They generally enable user to retrieve and submit data from and to WEB servers. The REST APIs communicate with the WEB servers by sending HTTP requests. it uses the uniform resource locator to locate resources on the WEB. The latter is built out of:\n",
    "1. Scheme: the protocol: generally either http or https \n",
    "2. the address is the web (also referred to as base URL): used to locate the cite that hosts this resource\n",
    "3. the route: the resource's location on specific web server\n",
    "\n",
    "The request message can be broken into 3 major parts:\n",
    "1. request start line: determine the type of the request as well the protocol version \n",
    "2. request header: additional information about the client sending this information\n",
    "3. request body: generally a html object with the data sent to the wer server\n",
    "\n",
    "The response message is also broken to 3 major parts:\n",
    "1. response start line: HTTP protocol's version, status code, and representative phrase\n",
    "2. response header: additional information\n",
    "3. response body: the resource requested (generally) mainly depends on request's type\n"
   ]
  },
  {
   "cell_type": "code",
   "execution_count": null,
   "metadata": {},
   "outputs": [],
   "source": [
    "# let's put the theory into practice\n"
   ]
  }
 ],
 "metadata": {
  "kernelspec": {
   "display_name": "Python 3.9.12 ('temp_venv')",
   "language": "python",
   "name": "python3"
  },
  "language_info": {
   "codemirror_mode": {
    "name": "ipython",
    "version": 3
   },
   "file_extension": ".py",
   "mimetype": "text/x-python",
   "name": "python",
   "nbconvert_exporter": "python",
   "pygments_lexer": "ipython3",
   "version": "3.9.12"
  },
  "orig_nbformat": 4,
  "vscode": {
   "interpreter": {
    "hash": "35c660b631c912057dd4c556fea62668d7a2804f8ae5c4333f1772415b9840f9"
   }
  }
 },
 "nbformat": 4,
 "nbformat_minor": 2
}
