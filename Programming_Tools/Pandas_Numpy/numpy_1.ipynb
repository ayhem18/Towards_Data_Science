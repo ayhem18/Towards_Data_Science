{
 "cells": [
  {
   "cell_type": "code",
   "execution_count": 60,
   "metadata": {},
   "outputs": [],
   "source": [
    "import pandas as pd\n",
    "import numpy as np"
   ]
  },
  {
   "cell_type": "markdown",
   "metadata": {},
   "source": [
    "## 1. Array Creation\n",
    "numpy arrays can be created out of lists, or lists of lists. numpy array are mainly used for numerical data. It assumes homogenity of the data for accelerated numerical procedures."
   ]
  },
  {
   "cell_type": "code",
   "execution_count": null,
   "metadata": {},
   "outputs": [],
   "source": [
    "a = np.array([1,2,3,4,5])\n",
    "print(a.ndim)\n",
    "print(a.shape)"
   ]
  },
  {
   "cell_type": "markdown",
   "metadata": {},
   "source": [
    "### 1.1 The shape of an array \n",
    "the shape of an array represents its dimensions, how many elements it contains.It is important to note that the 1-d array can be tricky as might be assigned a ***1-rank*** shape: (a, ). The latter is quite tricky and behaves unexpectedly and inconsistently."
   ]
  },
  {
   "cell_type": "code",
   "execution_count": null,
   "metadata": {},
   "outputs": [],
   "source": [
    "print(np.transpose(a))\n",
    "## reshape the array to rank 2 shape: (n,) to (1, n)\n",
    "b = a.reshape((1, a.shape[0]))\n",
    "print(b)\n",
    "print(np.transpose(b))"
   ]
  },
  {
   "cell_type": "code",
   "execution_count": null,
   "metadata": {},
   "outputs": [],
   "source": [
    "print(np.ones((2, 3, 4)))\n",
    "print(\"#######################\")\n",
    "print(np.zeros((1,5)))\n",
    "print(\"###################\")\n",
    "print(np.random.randn(2,2))"
   ]
  },
  {
   "cell_type": "code",
   "execution_count": null,
   "metadata": {},
   "outputs": [],
   "source": [
    "## generate a number of arrays: given starting, ending and step:\n",
    "a1 = np.arange(1,10, 2)\n",
    "a1 = a1.reshape((1, 5))\n",
    "a2 = np.array([range(1, 10, 2)])\n",
    "print(a1, a2)\n",
    "print(np.array_equal(a1, a2))"
   ]
  },
  {
   "cell_type": "markdown",
   "metadata": {},
   "source": [
    "## 2 Array opertations\n",
    "### 2.1 Some of them are element-wise\n",
    "In other words, they do not apply the operator following its mathematical definion, but more algorithmatically."
   ]
  },
  {
   "cell_type": "code",
   "execution_count": null,
   "metadata": {},
   "outputs": [],
   "source": [
    "# np.random.seed(1)\n",
    "a = np.array([[1,2,3,4,5,6]])\n",
    "b = np.random.randn(1, 6)\n",
    "## element-wise sum\n",
    "print(a + b)\n",
    "## element wise multiplication\n",
    "print(a * b)\n",
    "## make sure each element in b is different from zero\n",
    "if (b != 0).all():\n",
    "    print(a / b)\n",
    "else:\n",
    "    print(\"we cannot divide the first array by the second, as the latter has some zero elements\")\n"
   ]
  },
  {
   "cell_type": "code",
   "execution_count": null,
   "metadata": {},
   "outputs": [],
   "source": [
    "\n",
    "ferenheit = np.random.randn(1, 10) * 20\n",
    "print(ferenheit)\n",
    "celceius = (ferenheit - 32) * (5 / 9)\n",
    "print(celceius)"
   ]
  },
  {
   "cell_type": "markdown",
   "metadata": {},
   "source": [
    "### 2.2 Matrix Operations\n",
    "Operations usually like matrix inverse, matrix multiplication and transpose"
   ]
  },
  {
   "cell_type": "code",
   "execution_count": null,
   "metadata": {},
   "outputs": [],
   "source": [
    "print(a.T)\n",
    "print(a.shape)\n",
    "print(\"#####\")\n",
    "b = np.random.randn(6,2)\n",
    "print(\"####\")\n",
    "print(a @ b)\n",
    "print(\"######\")\n",
    "print(np.linalg.inv(np.random.randn(2,2) @ np.random.randn(2,2)))"
   ]
  },
  {
   "cell_type": "markdown",
   "metadata": {},
   "source": [
    "### Selection: Indexing, iterating, slicing"
   ]
  },
  {
   "cell_type": "code",
   "execution_count": null,
   "metadata": {},
   "outputs": [],
   "source": [
    "a = np.array([[1,2,3,4]])\n",
    "print(a[0][2])"
   ]
  },
  {
   "cell_type": "code",
   "execution_count": null,
   "metadata": {},
   "outputs": [],
   "source": [
    "### Another example for the difference between 1st and 2nd rank numpy arrays\n",
    "k = np.random.randint(500, 1000)\n",
    "a = np.random.randn(1, k)\n",
    "b = np.reshape(a, (k,))\n",
    "diff = np.array([a[0][i] - b[i] for i in range(k)])\n",
    "print((diff == 0).all())"
   ]
  },
  {
   "cell_type": "code",
   "execution_count": null,
   "metadata": {},
   "outputs": [],
   "source": [
    "### BOOLEAN INDEXING\n",
    "A = np.random.randn(10, 8) * 20\n",
    "greater_than_10 = (A > 10).astype(int)\n",
    "print(A * greater_than_10)\n",
    "print(A[A > 10].shape)"
   ]
  },
  {
   "cell_type": "code",
   "execution_count": null,
   "metadata": {},
   "outputs": [],
   "source": [
    "a = np.array([1,2,3,4,5,6,7])\n",
    "print(a[1:5])"
   ]
  },
  {
   "cell_type": "code",
   "execution_count": null,
   "metadata": {},
   "outputs": [],
   "source": [
    "x = np.random.randn(4,4,4) * 50 \n",
    "print(x)\n",
    "print(x[1:, 2:, 3:])"
   ]
  },
  {
   "cell_type": "code",
   "execution_count": null,
   "metadata": {},
   "outputs": [],
   "source": [
    "### differences in returned array dependent on the slicing\n",
    "data_set = np.random.rand(20, 20)\n",
    "first_col_1 = data_set[:, 0]\n",
    "print(first_col_1, first_col_1.shape)\n",
    "\n",
    "first_col_2 = data_set[:, 0:1]\n",
    "print(first_col_2, first_col_2.shape)\n"
   ]
  },
  {
   "cell_type": "code",
   "execution_count": null,
   "metadata": {},
   "outputs": [],
   "source": [
    "print(data_set[[1,4,2], [3,4,9]])"
   ]
  },
  {
   "cell_type": "code",
   "execution_count": null,
   "metadata": {},
   "outputs": [],
   "source": [
    "print(np.mean(data_set[:,0:3]))\n",
    "print(data_set[:, 0:3].mean())"
   ]
  }
 ],
 "metadata": {
  "kernelspec": {
   "display_name": "Python 3.9.7",
   "language": "python",
   "name": "python3"
  },
  "language_info": {
   "codemirror_mode": {
    "name": "ipython",
    "version": 3
   },
   "file_extension": ".py",
   "mimetype": "text/x-python",
   "name": "python",
   "nbconvert_exporter": "python",
   "pygments_lexer": "ipython3",
   "version": "3.9.7"
  },
  "orig_nbformat": 4,
  "vscode": {
   "interpreter": {
    "hash": "0e6cc62e2280f752aa7e5178eced3fb8e0cbe7333ea77893546e6db4cefb4290"
   }
  }
 },
 "nbformat": 4,
 "nbformat_minor": 2
}
