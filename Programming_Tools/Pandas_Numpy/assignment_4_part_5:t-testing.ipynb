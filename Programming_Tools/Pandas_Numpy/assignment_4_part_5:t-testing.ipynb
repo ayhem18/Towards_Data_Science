{
 "cells": [
  {
   "cell_type": "code",
   "execution_count": 25,
   "metadata": {},
   "outputs": [],
   "source": [
    "import pandas as pd\n",
    "import numpy as np\n",
    "from scipy import stats \n",
    "from scipy.stats import ttest_ind\n",
    "from scipy.stats import ttest_rel"
   ]
  },
  {
   "cell_type": "code",
   "execution_count": 26,
   "metadata": {},
   "outputs": [
    {
     "name": "stdout",
     "output_type": "stream",
     "text": [
      "                      area  win_loss_ratio_x       pop_x  win_loss_ratio_y  \\\n",
      "0                   Boston          0.670732   4794447.0          0.714286   \n",
      "1                  Chicago          0.329268   9512999.0          0.458333   \n",
      "2        Dallas–Fort Worth          0.292683   7233323.0          0.567568   \n",
      "3                   Denver          0.560976   2853077.0          0.589041   \n",
      "4                  Detroit          0.475610   4297617.0          0.434783   \n",
      "5              Los Angeles          0.469512  13310447.0          0.622895   \n",
      "6    Miami–Fort Lauderdale          0.536585   6066387.0          0.594595   \n",
      "7   Minneapolis–Saint Paul          0.573171   3551036.0          0.633803   \n",
      "8            New York City          0.347561  20153634.0          0.518201   \n",
      "9             Philadelphia          0.634146   6070500.0          0.617647   \n",
      "10                 Phoenix          0.256098   4661537.0          0.414286   \n",
      "11  San Francisco Bay Area          0.707317   6657982.0          0.625000   \n",
      "12                 Toronto          0.719512   5928040.0          0.653333   \n",
      "13        Washington, D.C.          0.524390   6131977.0          0.653333   \n",
      "\n",
      "         pop_y  \n",
      "0    4794447.0  \n",
      "1    9512999.0  \n",
      "2    7233323.0  \n",
      "3    2853077.0  \n",
      "4    4297617.0  \n",
      "5   13310447.0  \n",
      "6    6066387.0  \n",
      "7    3551036.0  \n",
      "8   20153634.0  \n",
      "9    6070500.0  \n",
      "10   4661537.0  \n",
      "11   6657982.0  \n",
      "12   5928040.0  \n",
      "13   6131977.0  \n"
     ]
    },
    {
     "data": {
      "text/plain": [
       "0.022297049643438753"
      ]
     },
     "execution_count": 26,
     "metadata": {},
     "output_type": "execute_result"
    }
   ],
   "source": [
    "# first let's load the data frames in question: \n",
    "\n",
    "nba = pd.read_csv(\"nba_final.csv\")\n",
    "nfl = pd.read_csv(\"nfl_final.csv\")\n",
    "mlb = pd.read_csv(\"mlb_final.csv\")\n",
    "nhl = pd.read_csv(\"nhl_final.csv\")\n",
    "merge = pd.merge(nba, nhl, how='inner', on='area')\n",
    "print(merge)\n",
    "\n",
    "ttest_rel(merge['win_loss_ratio_x'], merge['win_loss_ratio_y'])[1]\n"
   ]
  },
  {
   "cell_type": "code",
   "execution_count": 27,
   "metadata": {},
   "outputs": [
    {
     "name": "stdout",
     "output_type": "stream",
     "text": [
      "          NFL       NBA       NHL       MLB\n",
      "NFL       NaN  0.941792  0.030883  0.802069\n",
      "NBA  0.941792       NaN  0.022297  0.950540\n",
      "NHL  0.030883  0.022297       NaN  0.000708\n",
      "MLB  0.802069  0.950540  0.000708       NaN\n"
     ]
    }
   ],
   "source": [
    "dic = {\"NFL\": nfl, \"NBA\": nba, \"NHL\":nhl, \"MLB\": mlb } \n",
    "p_values = []\n",
    "for key1, value1 in dic.items():\n",
    "    lst = []\n",
    "    for key2, value2 in dic.items():\n",
    "        if key1 != key2:\n",
    "            merge = pd.merge(value1, value2, how='inner', on='area')\n",
    "            lst.append(ttest_rel(merge['win_loss_ratio_x'], merge['win_loss_ratio_y'])[1])\n",
    "        else:\n",
    "            lst.append(np.nan)\n",
    "        \n",
    "    p_values.append(lst)\n",
    "\n",
    "p_values = pd.DataFrame(p_values, columns=dic.keys(), index=dic.keys()) \n",
    "print(p_values )\n"
   ]
  },
  {
   "cell_type": "code",
   "execution_count": 23,
   "metadata": {},
   "outputs": [
    {
     "name": "stdout",
     "output_type": "stream",
     "text": [
      "     NFL  NBA  NHL  MLB\n",
      "NFL   29   19   17   22\n",
      "NBA   19   28   14   18\n",
      "NHL   17   14   28   17\n",
      "MLB   22   18   17   26\n"
     ]
    }
   ],
   "source": [
    "dic = {\"NFL\": nfl, \"NBA\": nba, \"NHL\":nhl, \"MLB\": mlb } \n",
    "p_values = []\n",
    "for key1, value1 in dic.items():\n",
    "    lst = []\n",
    "    for key2, value2 in dic.items():\n",
    "        merge = pd.merge(value1, value2, how='inner', on='area')\n",
    "        lst.append(len(merge['win_loss_ratio_x']))\n",
    "    \n",
    "    p_values.append(lst)\n",
    "\n",
    "p_values = pd.DataFrame(p_values, columns=dic.keys(), index=dic.keys()) \n",
    "print(p_values )"
   ]
  },
  {
   "cell_type": "code",
   "execution_count": null,
   "metadata": {},
   "outputs": [],
   "source": []
  }
 ],
 "metadata": {
  "kernelspec": {
   "display_name": "Python 3.10.4 ('ds_env')",
   "language": "python",
   "name": "python3"
  },
  "language_info": {
   "codemirror_mode": {
    "name": "ipython",
    "version": 3
   },
   "file_extension": ".py",
   "mimetype": "text/x-python",
   "name": "python",
   "nbconvert_exporter": "python",
   "pygments_lexer": "ipython3",
   "version": "3.10.4"
  },
  "orig_nbformat": 4,
  "vscode": {
   "interpreter": {
    "hash": "08488e93894ea7be7272109919d40edb52233f14daf834f5f2387122a81730e1"
   }
  }
 },
 "nbformat": 4,
 "nbformat_minor": 2
}
