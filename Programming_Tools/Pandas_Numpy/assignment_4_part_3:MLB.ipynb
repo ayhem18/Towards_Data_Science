{
 "cells": [
  {
   "cell_type": "code",
   "execution_count": 40,
   "metadata": {},
   "outputs": [],
   "source": [
    "import pandas as pd\n",
    "import numpy as np\n",
    "# import scipy.stats as stats\n",
    "import re"
   ]
  },
  {
   "cell_type": "code",
   "execution_count": 41,
   "metadata": {},
   "outputs": [],
   "source": [
    "year = 2018"
   ]
  },
  {
   "cell_type": "code",
   "execution_count": 42,
   "metadata": {},
   "outputs": [
    {
     "name": "stdout",
     "output_type": "stream",
     "text": [
      "                      area       pop              mlb\n",
      "0            New York City  20153634      yankeesmets\n",
      "1              Los Angeles  13310447    dodgersangels\n",
      "2   San Francisco Bay Area   6657982  giantsathletics\n",
      "3                  Chicago   9512999    cubswhite sox\n",
      "4        Dallas–Fort Worth   7233323          rangers\n",
      "5         Washington, D.C.   6131977        nationals\n",
      "6             Philadelphia   6070500         phillies\n",
      "7                   Boston   4794447          red sox\n",
      "8   Minneapolis–Saint Paul   3551036            twins\n",
      "9                   Denver   2853077          rockies\n",
      "10   Miami–Fort Lauderdale   6066387          marlins\n",
      "11                 Phoenix   4661537     diamondbacks\n",
      "12                 Detroit   4297617           tigers\n",
      "13                 Toronto   5928040        blue jays\n",
      "14                 Houston   6772470           astros\n",
      "15                 Atlanta   5789700           braves\n",
      "16          Tampa Bay Area   3032171             rays\n",
      "17              Pittsburgh   2342299          pirates\n",
      "18               Cleveland   2055612          indians\n",
      "19                 Seattle   3798902         mariners\n",
      "20              Cincinnati   2165139             reds\n",
      "21             Kansas City   2104509           royals\n",
      "22               St. Louis   2807002        cardinals\n",
      "23               Baltimore   2798886          orioles\n",
      "27               Milwaukee   1572482          brewers\n",
      "40               San Diego   3317749           padres\n"
     ]
    }
   ],
   "source": [
    "cities = pd.read_csv(\"cities.csv\")\n",
    "cities_mlb = cities.loc[:, ['area', 'pop', 'mlb']]\n",
    "\n",
    "def clean_team_name(name):\n",
    "    # remove anything written between brackets [] \n",
    "    name_1 = re.sub('\\[.*\\]', \"\", name)\n",
    "    # convert to lower case and remove indenting spaces\n",
    "    return name_1.lower().strip()\n",
    "\n",
    "cities_mlb['mlb'] = cities_mlb['mlb'].apply(clean_team_name)\n",
    "# removing non-ascii characters\n",
    "cities_mlb['mlb'] = cities_mlb['mlb'].apply(lambda x: re.sub(\"[^\\x00-\\xFF]\", \"\", x)) \n",
    "# final cleaning step\n",
    "cities_mlb['mlb'] = cities_mlb['mlb'].apply(lambda x: re.sub(\"[^(A-Z)(a-z)\\d\\s]\", \"\", x))\n",
    "\n",
    "# at this point cities with no mlb team are assigned the empty string in the \"mlb\" column\n",
    "# keep the cities with mlb teams\n",
    "cities_mlb = cities_mlb[cities_mlb['mlb'] != ''] \n",
    "print(cities_mlb)\n",
    "# set the index to a numerical series from 0 to the size of the dataframe\n",
    "custom_index = pd.Index(range(len(cities_mlb)))\n",
    "cities_mlb = cities_mlb.set_index(custom_index)\n"
   ]
  },
  {
   "cell_type": "code",
   "execution_count": 43,
   "metadata": {},
   "outputs": [
    {
     "name": "stdout",
     "output_type": "stream",
     "text": [
      "                      area              mlb  \\\n",
      "0            New York City      yankeesmets   \n",
      "1              Los Angeles    dodgersangels   \n",
      "2   San Francisco Bay Area  giantsathletics   \n",
      "3                  Chicago    cubswhite sox   \n",
      "4        Dallas–Fort Worth          rangers   \n",
      "5         Washington, D.C.        nationals   \n",
      "6             Philadelphia         phillies   \n",
      "7                   Boston          red sox   \n",
      "8   Minneapolis–Saint Paul            twins   \n",
      "9                   Denver          rockies   \n",
      "10   Miami–Fort Lauderdale          marlins   \n",
      "11                 Phoenix     diamondbacks   \n",
      "12                 Detroit           tigers   \n",
      "13                 Toronto        blue jays   \n",
      "14                 Houston           astros   \n",
      "15                 Atlanta           braves   \n",
      "16          Tampa Bay Area             rays   \n",
      "17              Pittsburgh          pirates   \n",
      "18               Cleveland          indians   \n",
      "19                 Seattle         mariners   \n",
      "20              Cincinnati             reds   \n",
      "21             Kansas City           royals   \n",
      "22               St. Louis        cardinals   \n",
      "23               Baltimore          orioles   \n",
      "24               Milwaukee          brewers   \n",
      "25               San Diego           padres   \n",
      "\n",
      "                             area_team  \n",
      "0               newyorkcityyankeesmets  \n",
      "1              losangelesdodgersangels  \n",
      "2   sanfranciscobayareagiantsathletics  \n",
      "3                  chicagocubswhitesox  \n",
      "4              dallas–fortworthrangers  \n",
      "5             washington,d.c.nationals  \n",
      "6                 philadelphiaphillies  \n",
      "7                         bostonredsox  \n",
      "8           minneapolis–saintpaultwins  \n",
      "9                        denverrockies  \n",
      "10         miami–fortlauderdalemarlins  \n",
      "11                 phoenixdiamondbacks  \n",
      "12                       detroittigers  \n",
      "13                     torontobluejays  \n",
      "14                       houstonastros  \n",
      "15                       atlantabraves  \n",
      "16                    tampabayarearays  \n",
      "17                   pittsburghpirates  \n",
      "18                    clevelandindians  \n",
      "19                     seattlemariners  \n",
      "20                      cincinnatireds  \n",
      "21                    kansascityroyals  \n",
      "22                   st.louiscardinals  \n",
      "23                    baltimoreorioles  \n",
      "24                    milwaukeebrewers  \n",
      "25                      sandiegopadres  \n"
     ]
    }
   ],
   "source": [
    "# in order to map each team with its area, a new column should be added \n",
    "# that groups both the area/city name as well as the team's name\n",
    "\n",
    "def area_team(row):\n",
    "    area_no_space = re.sub(\"\\s\", \"\", row['area']).strip().lower()\n",
    "    team_no_space = re.sub(\"\\s\", \"\", row['mlb']).strip().lower()\n",
    "    return area_no_space + team_no_space\n",
    "\n",
    "cities_mlb['area_team'] = cities_mlb.apply(area_team, axis=1)\n",
    "print(cities_mlb.loc[:, [\"area\",  \"mlb\", \"area_team\"]])"
   ]
  },
  {
   "cell_type": "code",
   "execution_count": 44,
   "metadata": {},
   "outputs": [
    {
     "name": "stdout",
     "output_type": "stream",
     "text": [
      "Index(['team', 'W', 'L', 'W-L%', 'GB', 'year', 'League'], dtype='object')\n"
     ]
    }
   ],
   "source": [
    "mlb_org = pd.read_csv(\"utility_files/mlb.csv\")\n",
    "mlb = mlb_org[mlb_org['year'] == year]\n",
    "print(mlb.columns)"
   ]
  },
  {
   "cell_type": "code",
   "execution_count": 45,
   "metadata": {},
   "outputs": [
    {
     "name": "stdout",
     "output_type": "stream",
     "text": [
      "0            Boston Red Sox\n",
      "1          New York Yankees\n",
      "2            Tampa Bay Rays\n",
      "3         Toronto Blue Jays\n",
      "4         Baltimore Orioles\n",
      "5         Cleveland Indians\n",
      "6           Minnesota Twins\n",
      "7            Detroit Tigers\n",
      "8         Chicago White Sox\n",
      "9        Kansas City Royals\n",
      "10           Houston Astros\n",
      "11        Oakland Athletics\n",
      "12         Seattle Mariners\n",
      "13       Los Angeles Angels\n",
      "14            Texas Rangers\n",
      "15           Atlanta Braves\n",
      "16     Washington Nationals\n",
      "17    Philadelphia Phillies\n",
      "18            New York Mets\n",
      "19            Miami Marlins\n",
      "20        Milwaukee Brewers\n",
      "21             Chicago Cubs\n",
      "22      St. Louis Cardinals\n",
      "23       Pittsburgh Pirates\n",
      "24          Cincinnati Reds\n",
      "25      Los Angeles Dodgers\n",
      "26         Colorado Rockies\n",
      "27     Arizona Diamondbacks\n",
      "28     San Francisco Giants\n",
      "29         San Diego Padres\n",
      "Name: team, dtype: object\n"
     ]
    }
   ],
   "source": [
    "cols = [\"team\", \"W\", \"L\"]\n",
    "mlb = mlb.loc[:, cols]\n",
    "print(mlb['team'])"
   ]
  },
  {
   "cell_type": "code",
   "execution_count": 46,
   "metadata": {},
   "outputs": [
    {
     "name": "stdout",
     "output_type": "stream",
     "text": [
      "                     team    W    L             area_team\n",
      "0          Boston Red Sox  108   54          bostonredsox\n",
      "1        New York Yankees  100   62        newyorkyankees\n",
      "2          Tampa Bay Rays   90   72          tampabayrays\n",
      "3       Toronto Blue Jays   73   89       torontobluejays\n",
      "4       Baltimore Orioles   47  115      baltimoreorioles\n",
      "5       Cleveland Indians   91   71      clevelandindians\n",
      "6         Minnesota Twins   78   84        minnesotatwins\n",
      "7          Detroit Tigers   64   98         detroittigers\n",
      "8       Chicago White Sox   62  100       chicagowhitesox\n",
      "9      Kansas City Royals   58  104      kansascityroyals\n",
      "10         Houston Astros  103   59         houstonastros\n",
      "11      Oakland Athletics   97   65      oaklandathletics\n",
      "12       Seattle Mariners   89   73       seattlemariners\n",
      "13     Los Angeles Angels   80   82      losangelesangels\n",
      "14          Texas Rangers   67   95          texasrangers\n",
      "15         Atlanta Braves   90   72         atlantabraves\n",
      "16   Washington Nationals   82   80   washingtonnationals\n",
      "17  Philadelphia Phillies   80   82  philadelphiaphillies\n",
      "18          New York Mets   77   85           newyorkmets\n",
      "19          Miami Marlins   63   98          miamimarlins\n",
      "20      Milwaukee Brewers   96   67      milwaukeebrewers\n",
      "21           Chicago Cubs   95   68           chicagocubs\n",
      "22    St. Louis Cardinals   88   74     st.louiscardinals\n",
      "23     Pittsburgh Pirates   82   79     pittsburghpirates\n",
      "24        Cincinnati Reds   67   95        cincinnatireds\n",
      "25    Los Angeles Dodgers   92   71     losangelesdodgers\n",
      "26       Colorado Rockies   91   72       coloradorockies\n",
      "27   Arizona Diamondbacks   82   80   arizonadiamondbacks\n",
      "28   San Francisco Giants   73   89    sanfranciscogiants\n",
      "29       San Diego Padres   66   96        sandiegopadres\n"
     ]
    }
   ],
   "source": [
    "# time to add the area_team name column to the mlb DataFrame\n",
    "mlb['area_team'] = mlb['team'].apply(lambda x: re.sub(\"\\s\",\"\", x).strip().lower())\n",
    "print(mlb)"
   ]
  },
  {
   "cell_type": "code",
   "execution_count": 47,
   "metadata": {},
   "outputs": [
    {
     "name": "stdout",
     "output_type": "stream",
     "text": [
      "                      area                   team\n",
      "0            New York City                    NaN\n",
      "1              Los Angeles                    NaN\n",
      "2   San Francisco Bay Area                    NaN\n",
      "3                  Chicago                    NaN\n",
      "4        Dallas–Fort Worth                    NaN\n",
      "5         Washington, D.C.                    NaN\n",
      "6             Philadelphia  Philadelphia Phillies\n",
      "7                   Boston         Boston Red Sox\n",
      "8   Minneapolis–Saint Paul                    NaN\n",
      "9                   Denver                    NaN\n",
      "10   Miami–Fort Lauderdale                    NaN\n",
      "11                 Phoenix                    NaN\n",
      "12                 Detroit         Detroit Tigers\n",
      "13                 Toronto      Toronto Blue Jays\n",
      "14                 Houston         Houston Astros\n",
      "15                 Atlanta         Atlanta Braves\n",
      "16          Tampa Bay Area                    NaN\n",
      "17              Pittsburgh     Pittsburgh Pirates\n",
      "18               Cleveland      Cleveland Indians\n",
      "19                 Seattle       Seattle Mariners\n",
      "20              Cincinnati        Cincinnati Reds\n",
      "21             Kansas City     Kansas City Royals\n",
      "22               St. Louis    St. Louis Cardinals\n",
      "23               Baltimore      Baltimore Orioles\n",
      "24               Milwaukee      Milwaukee Brewers\n",
      "25               San Diego       San Diego Padres\n"
     ]
    }
   ],
   "source": [
    "# having the area_team column  in common between the two DataFrames we can merge them\n",
    "\n",
    "merge_areas = pd.merge(cities_mlb, mlb, how ='left',on=['area_team'])\n",
    "print(merge_areas.loc[:, [\"area\", \"team\"]])"
   ]
  },
  {
   "cell_type": "code",
   "execution_count": 48,
   "metadata": {},
   "outputs": [
    {
     "name": "stdout",
     "output_type": "stream",
     "text": [
      "                      area                   team\n",
      "0            New York City                    NaN\n",
      "1              Los Angeles                    NaN\n",
      "2   San Francisco Bay Area                    NaN\n",
      "3                  Chicago                    NaN\n",
      "4        Dallas–Fort Worth                    NaN\n",
      "5         Washington, D.C.                    NaN\n",
      "6             Philadelphia  Philadelphia Phillies\n",
      "7                   Boston         Boston Red Sox\n",
      "8   Minneapolis–Saint Paul                    NaN\n",
      "9                   Denver                    NaN\n",
      "10   Miami–Fort Lauderdale                    NaN\n",
      "11                 Phoenix                    NaN\n",
      "12                 Detroit         Detroit Tigers\n",
      "13                 Toronto      Toronto Blue Jays\n",
      "14                 Houston         Houston Astros\n",
      "15                 Atlanta         Atlanta Braves\n",
      "16          Tampa Bay Area                    NaN\n",
      "17              Pittsburgh     Pittsburgh Pirates\n",
      "18               Cleveland      Cleveland Indians\n",
      "19                 Seattle       Seattle Mariners\n",
      "20              Cincinnati        Cincinnati Reds\n",
      "21             Kansas City     Kansas City Royals\n",
      "22               St. Louis    St. Louis Cardinals\n",
      "23               Baltimore      Baltimore Orioles\n",
      "24               Milwaukee      Milwaukee Brewers\n",
      "25               San Diego       San Diego Padres\n"
     ]
    }
   ],
   "source": [
    "\n",
    "merge_areas = pd.merge(cities_mlb, mlb, how ='left',on=['area_team'])\n",
    "print(merge_areas.loc[:, [\"area\", \"team\"]])"
   ]
  },
  {
   "cell_type": "code",
   "execution_count": 49,
   "metadata": {},
   "outputs": [
    {
     "name": "stdout",
     "output_type": "stream",
     "text": [
      "                     team          area             area_team\n",
      "0          Boston Red Sox        Boston          bostonredsox\n",
      "1        New York Yankees           NaN        newyorkyankees\n",
      "2          Tampa Bay Rays           NaN          tampabayrays\n",
      "3       Toronto Blue Jays       Toronto       torontobluejays\n",
      "4       Baltimore Orioles     Baltimore      baltimoreorioles\n",
      "5       Cleveland Indians     Cleveland      clevelandindians\n",
      "6         Minnesota Twins           NaN        minnesotatwins\n",
      "7          Detroit Tigers       Detroit         detroittigers\n",
      "8       Chicago White Sox           NaN       chicagowhitesox\n",
      "9      Kansas City Royals   Kansas City      kansascityroyals\n",
      "10         Houston Astros       Houston         houstonastros\n",
      "11      Oakland Athletics           NaN      oaklandathletics\n",
      "12       Seattle Mariners       Seattle       seattlemariners\n",
      "13     Los Angeles Angels           NaN      losangelesangels\n",
      "14          Texas Rangers           NaN          texasrangers\n",
      "15         Atlanta Braves       Atlanta         atlantabraves\n",
      "16   Washington Nationals           NaN   washingtonnationals\n",
      "17  Philadelphia Phillies  Philadelphia  philadelphiaphillies\n",
      "18          New York Mets           NaN           newyorkmets\n",
      "19          Miami Marlins           NaN          miamimarlins\n",
      "20      Milwaukee Brewers     Milwaukee      milwaukeebrewers\n",
      "21           Chicago Cubs           NaN           chicagocubs\n",
      "22    St. Louis Cardinals     St. Louis     st.louiscardinals\n",
      "23     Pittsburgh Pirates    Pittsburgh     pittsburghpirates\n",
      "24        Cincinnati Reds    Cincinnati        cincinnatireds\n",
      "25    Los Angeles Dodgers           NaN     losangelesdodgers\n",
      "26       Colorado Rockies           NaN       coloradorockies\n",
      "27   Arizona Diamondbacks           NaN   arizonadiamondbacks\n",
      "28   San Francisco Giants           NaN    sanfranciscogiants\n",
      "29       San Diego Padres     San Diego        sandiegopadres\n"
     ]
    }
   ],
   "source": [
    "merge_teams = pd.merge(mlb, cities_mlb, how='left', on=['area_team'])\n",
    "print(merge_teams.loc[:, [\"team\", \"area\",\"area_team\"]])"
   ]
  },
  {
   "cell_type": "code",
   "execution_count": 50,
   "metadata": {},
   "outputs": [
    {
     "name": "stdout",
     "output_type": "stream",
     "text": [
      "                    team    W    L            area_team area  pop  mlb\n",
      "1       New York Yankees  100   62       newyorkyankees  NaN  NaN  NaN\n",
      "2         Tampa Bay Rays   90   72         tampabayrays  NaN  NaN  NaN\n",
      "6        Minnesota Twins   78   84       minnesotatwins  NaN  NaN  NaN\n",
      "8      Chicago White Sox   62  100      chicagowhitesox  NaN  NaN  NaN\n",
      "11     Oakland Athletics   97   65     oaklandathletics  NaN  NaN  NaN\n",
      "13    Los Angeles Angels   80   82     losangelesangels  NaN  NaN  NaN\n",
      "14         Texas Rangers   67   95         texasrangers  NaN  NaN  NaN\n",
      "16  Washington Nationals   82   80  washingtonnationals  NaN  NaN  NaN\n",
      "18         New York Mets   77   85          newyorkmets  NaN  NaN  NaN\n",
      "19         Miami Marlins   63   98         miamimarlins  NaN  NaN  NaN\n",
      "21          Chicago Cubs   95   68          chicagocubs  NaN  NaN  NaN\n",
      "25   Los Angeles Dodgers   92   71    losangelesdodgers  NaN  NaN  NaN\n",
      "26      Colorado Rockies   91   72      coloradorockies  NaN  NaN  NaN\n",
      "27  Arizona Diamondbacks   82   80  arizonadiamondbacks  NaN  NaN  NaN\n",
      "28  San Francisco Giants   73   89   sanfranciscogiants  NaN  NaN  NaN\n"
     ]
    }
   ],
   "source": [
    "teams_no_clear_area = merge_teams[merge_teams['area'].isna()]\n",
    "print(teams_no_clear_area)"
   ]
  },
  {
   "cell_type": "code",
   "execution_count": 51,
   "metadata": {},
   "outputs": [],
   "source": [
    "areas_no_clear_team = merge_areas[merge_areas[\"team\"].isna()]"
   ]
  },
  {
   "cell_type": "code",
   "execution_count": 52,
   "metadata": {},
   "outputs": [
    {
     "name": "stdout",
     "output_type": "stream",
     "text": [
      "           team_no_area                        area_no_name\n",
      "0        newyorkyankees              newyorkcityyankeesmets\n",
      "1          tampabayrays             losangelesdodgersangels\n",
      "2        minnesotatwins  sanfranciscobayareagiantsathletics\n",
      "3       chicagowhitesox                 chicagocubswhitesox\n",
      "4      oaklandathletics             dallas–fortworthrangers\n",
      "5      losangelesangels            washington,d.c.nationals\n",
      "6          texasrangers          minneapolis–saintpaultwins\n",
      "7   washingtonnationals                       denverrockies\n",
      "8           newyorkmets         miami–fortlauderdalemarlins\n",
      "9          miamimarlins                 phoenixdiamondbacks\n",
      "10          chicagocubs                    tampabayarearays\n",
      "11    losangelesdodgers                                 NaN\n",
      "12      coloradorockies                                 NaN\n",
      "13  arizonadiamondbacks                                 NaN\n",
      "14   sanfranciscogiants                                 NaN\n"
     ]
    }
   ],
   "source": [
    "# the teams left out with no clear area name are to be processed manually\n",
    "# first let's consider the possibility of a mapping between the column [area_team] in the mlb DF\n",
    "# and the column [area_team] in the mlb_cities DF\n",
    "\n",
    "area_team_no_match_mlb_DF = teams_no_clear_area.set_index(pd.Index(range(len(teams_no_clear_area))))['area_team']\n",
    "area_team_no_match_cities_mlb_DF = areas_no_clear_team.set_index(pd.Index(range(len(areas_no_clear_team))))['area_team']\n",
    "\n",
    "no_match = pd.DataFrame({\"team_no_area\": area_team_no_match_mlb_DF, \"area_no_name\": area_team_no_match_cities_mlb_DF})\n",
    "print(no_match)"
   ]
  },
  {
   "cell_type": "code",
   "execution_count": 53,
   "metadata": {},
   "outputs": [
    {
     "name": "stdout",
     "output_type": "stream",
     "text": [
      "                      area                   team             area_team\n",
      "0                   Boston         Boston Red Sox          bostonredsox\n",
      "1            New York City       New York Yankees        newyorkyankees\n",
      "2           Tampa Bay Area         Tampa Bay Rays          tampabayrays\n",
      "3                  Toronto      Toronto Blue Jays       torontobluejays\n",
      "4                Baltimore      Baltimore Orioles      baltimoreorioles\n",
      "5                Cleveland      Cleveland Indians      clevelandindians\n",
      "6   Minneapolis–Saint Paul        Minnesota Twins        minnesotatwins\n",
      "7                  Detroit         Detroit Tigers         detroittigers\n",
      "8                  Chicago      Chicago White Sox       chicagowhitesox\n",
      "9              Kansas City     Kansas City Royals      kansascityroyals\n",
      "10                 Houston         Houston Astros         houstonastros\n",
      "11                     NaN      Oakland Athletics      oaklandathletics\n",
      "12                 Seattle       Seattle Mariners       seattlemariners\n",
      "13                     NaN     Los Angeles Angels      losangelesangels\n",
      "14       Dallas–Fort Worth          Texas Rangers          texasrangers\n",
      "15                 Atlanta         Atlanta Braves         atlantabraves\n",
      "16        Washington, D.C.   Washington Nationals   washingtonnationals\n",
      "17            Philadelphia  Philadelphia Phillies  philadelphiaphillies\n",
      "18                     NaN          New York Mets           newyorkmets\n",
      "19   Miami–Fort Lauderdale          Miami Marlins          miamimarlins\n",
      "20               Milwaukee      Milwaukee Brewers      milwaukeebrewers\n",
      "21                     NaN           Chicago Cubs           chicagocubs\n",
      "22               St. Louis    St. Louis Cardinals     st.louiscardinals\n",
      "23              Pittsburgh     Pittsburgh Pirates     pittsburghpirates\n",
      "24              Cincinnati        Cincinnati Reds        cincinnatireds\n",
      "25             Los Angeles    Los Angeles Dodgers     losangelesdodgers\n",
      "26                  Denver       Colorado Rockies       coloradorockies\n",
      "27                 Phoenix   Arizona Diamondbacks   arizonadiamondbacks\n",
      "28  San Francisco Bay Area   San Francisco Giants    sanfranciscogiants\n",
      "29               San Diego       San Diego Padres        sandiegopadres\n"
     ]
    }
   ],
   "source": [
    "# the last dataframe made it easy to see the mapping betweent the two columns\n",
    "# the following dictionary reflects the mapping\n",
    "\n",
    "mapping = {\"newyorkcityyankeesmets\": \"newyorkyankees\", \"losangelesdodgersangels\": \"losangelesdodgers\", \"sanfranciscobayareagiantsathletics\":\"sanfranciscogiants\"\n",
    ", 'chicagocubswhitesox': \"chicagowhitesox\", \"washington,d.c.nationals\": \"washingtonnationals\", \"minneapolis–saintpaultwins\": \"minnesotatwins\"\n",
    ", \"denverrockies\": \"coloradorockies\", \"miami–fortlauderdalemarlins\": \"miamimarlins\", \"phoenixdiamondbacks\": \"arizonadiamondbacks\", \n",
    "\"tampabayarearays\": \"tampabayrays\", \"dallas–fortworthrangers\":\"texasrangers\"}\n",
    "\n",
    "# the next step is to map the old area_team names in the cities_mlb DF to their respective mapped value  \n",
    "\n",
    "cities_mlb['area_team'] = cities_mlb['area_team'].apply(lambda x: mapping[x].strip() if x in mapping else x)\n",
    "\n",
    "merge_teams = pd.merge(mlb, cities_mlb, how='left', on=['area_team'])\n",
    "print(merge_teams.loc[: , ['area', 'team', 'area_team']])"
   ]
  },
  {
   "cell_type": "code",
   "execution_count": 54,
   "metadata": {},
   "outputs": [
    {
     "name": "stdout",
     "output_type": "stream",
     "text": [
      "LEFT OUT TEAMS\n",
      "11     Oakland Athletics\n",
      "13    Los Angeles Angels\n",
      "18         New York Mets\n",
      "21          Chicago Cubs\n",
      "Name: team, dtype: object\n",
      "\n",
      "AREAS:\n",
      "0              New York City\n",
      "1                Los Angeles\n",
      "2     San Francisco Bay Area\n",
      "3                    Chicago\n",
      "4          Dallas–Fort Worth\n",
      "5           Washington, D.C.\n",
      "6               Philadelphia\n",
      "7                     Boston\n",
      "8     Minneapolis–Saint Paul\n",
      "9                     Denver\n",
      "10     Miami–Fort Lauderdale\n",
      "11                   Phoenix\n",
      "12                   Detroit\n",
      "13                   Toronto\n",
      "14                   Houston\n",
      "15                   Atlanta\n",
      "16            Tampa Bay Area\n",
      "17                Pittsburgh\n",
      "18                 Cleveland\n",
      "19                   Seattle\n",
      "20                Cincinnati\n",
      "21               Kansas City\n",
      "22                 St. Louis\n",
      "23                 Baltimore\n",
      "24                 Milwaukee\n",
      "25                 San Diego\n",
      "Name: area, dtype: object\n"
     ]
    }
   ],
   "source": [
    "# as expected there are 3 teams with no associated area, the next stop now is to associate these teams with one\n",
    "# of areas provided. This task requires more human understanding of the data and a little bit of research\n",
    "\n",
    "print(\"LEFT OUT TEAMS\")\n",
    "print(merge_teams[merge_teams['area'].isna()]['team'])\n",
    "print()\n",
    "\n",
    "print(\"AREAS:\")\n",
    "print(cities_mlb['area'])\n"
   ]
  },
  {
   "cell_type": "code",
   "execution_count": 55,
   "metadata": {},
   "outputs": [
    {
     "name": "stdout",
     "output_type": "stream",
     "text": [
      "                      area                   team             area_team\n",
      "0                   Boston         Boston Red Sox          bostonredsox\n",
      "1            New York City       New York Yankees        newyorkyankees\n",
      "2           Tampa Bay Area         Tampa Bay Rays          tampabayrays\n",
      "3                  Toronto      Toronto Blue Jays       torontobluejays\n",
      "4                Baltimore      Baltimore Orioles      baltimoreorioles\n",
      "5                Cleveland      Cleveland Indians      clevelandindians\n",
      "6   Minneapolis–Saint Paul        Minnesota Twins        minnesotatwins\n",
      "7                  Detroit         Detroit Tigers         detroittigers\n",
      "8                  Chicago      Chicago White Sox       chicagowhitesox\n",
      "9              Kansas City     Kansas City Royals      kansascityroyals\n",
      "10                 Houston         Houston Astros         houstonastros\n",
      "11  San Francisco Bay Area      Oakland Athletics      oaklandathletics\n",
      "12                 Seattle       Seattle Mariners       seattlemariners\n",
      "13             Los Angeles     Los Angeles Angels      losangelesangels\n",
      "14       Dallas–Fort Worth          Texas Rangers          texasrangers\n",
      "15                 Atlanta         Atlanta Braves         atlantabraves\n",
      "16        Washington, D.C.   Washington Nationals   washingtonnationals\n",
      "17            Philadelphia  Philadelphia Phillies  philadelphiaphillies\n",
      "18           New York City          New York Mets           newyorkmets\n",
      "19   Miami–Fort Lauderdale          Miami Marlins          miamimarlins\n",
      "20               Milwaukee      Milwaukee Brewers      milwaukeebrewers\n",
      "21                 Chicago           Chicago Cubs           chicagocubs\n",
      "22               St. Louis    St. Louis Cardinals     st.louiscardinals\n",
      "23              Pittsburgh     Pittsburgh Pirates     pittsburghpirates\n",
      "24              Cincinnati        Cincinnati Reds        cincinnatireds\n",
      "25             Los Angeles    Los Angeles Dodgers     losangelesdodgers\n",
      "26                  Denver       Colorado Rockies       coloradorockies\n",
      "27                 Phoenix   Arizona Diamondbacks   arizonadiamondbacks\n",
      "28  San Francisco Bay Area   San Francisco Giants    sanfranciscogiants\n",
      "29               San Diego       San Diego Padres        sandiegopadres\n"
     ]
    }
   ],
   "source": [
    "team_area = {\"Oakland Athletics\": \"San Francisco Bay Area\", \"Los Angeles Angels\": \"Los Angeles\", \"New York Mets\": \"New York City\", \"Chicago Cubs\": \"Chicago\"}\n",
    "\n",
    "def set_areas(row):\n",
    "    if row['team'] in team_area:\n",
    "        row['area'] = team_area[row['team']]\n",
    "    return row\n",
    "merge_teams = merge_teams.apply(set_areas, axis=1)\n",
    "print(merge_teams.loc[: , ['area', 'team', 'area_team']])\n"
   ]
  },
  {
   "cell_type": "code",
   "execution_count": 56,
   "metadata": {},
   "outputs": [
    {
     "name": "stdout",
     "output_type": "stream",
     "text": [
      "                        win_loss_ratio         pop\n",
      "area                                              \n",
      "Atlanta                       0.555556   5789700.0\n",
      "Baltimore                     0.290123   2798886.0\n",
      "Boston                        0.666667   4794447.0\n",
      "Chicago                       0.482769   9512999.0\n",
      "Cincinnati                    0.413580   2165139.0\n",
      "Cleveland                     0.561728   2055612.0\n",
      "Dallas–Fort Worth             0.413580   7233323.0\n",
      "Denver                        0.558282   2853077.0\n",
      "Detroit                       0.395062   4297617.0\n",
      "Houston                       0.635802   6772470.0\n",
      "Kansas City                   0.358025   2104509.0\n",
      "Los Angeles                   0.529122  13310447.0\n",
      "Miami–Fort Lauderdale         0.391304   6066387.0\n",
      "Milwaukee                     0.588957   1572482.0\n",
      "Minneapolis–Saint Paul        0.481481   3551036.0\n",
      "New York City                 0.546296  20153634.0\n",
      "Philadelphia                  0.493827   6070500.0\n",
      "Phoenix                       0.506173   4661537.0\n",
      "Pittsburgh                    0.509317   2342299.0\n",
      "San Diego                     0.407407   3317749.0\n",
      "San Francisco Bay Area        0.524691   6657982.0\n",
      "Seattle                       0.549383   3798902.0\n",
      "St. Louis                     0.543210   2807002.0\n",
      "Tampa Bay Area                0.555556   3032171.0\n",
      "Toronto                       0.450617   5928040.0\n",
      "Washington, D.C.              0.506173   6131977.0\n"
     ]
    }
   ],
   "source": [
    "final_df = merge_teams.loc[:, ['area', 'team', 'W', 'L', 'pop']]\n",
    "final_df['win_loss_ratio'] = final_df['W'].astype(float) / (final_df['W'].astype(float) + final_df['L'].astype(float))\n",
    "final_df = final_df.loc[:, ['area', 'win_loss_ratio', 'pop']]\n",
    "# print(final_df)\n",
    "\n",
    "final_df = final_df.set_index('area').astype(float).groupby('area').agg({\"win_loss_ratio\":'mean', 'pop':'mean'})\n",
    "print(final_df)"
   ]
  },
  {
   "cell_type": "code",
   "execution_count": 57,
   "metadata": {},
   "outputs": [
    {
     "name": "stdout",
     "output_type": "stream",
     "text": [
      "                win_loss_ratio       pop\n",
      "win_loss_ratio        1.000000  0.150277\n",
      "pop                   0.150277  1.000000\n"
     ]
    }
   ],
   "source": [
    "print(final_df.corr())"
   ]
  },
  {
   "cell_type": "code",
   "execution_count": 58,
   "metadata": {},
   "outputs": [],
   "source": [
    "final_df.to_csv(\"/home/ayhem18/Ayhem18/DEV/Data_science/Towards_Data_science/Programming_Tools/Pandas_Numpy/mlb_final.csv\")"
   ]
  },
  {
   "cell_type": "code",
   "execution_count": null,
   "metadata": {},
   "outputs": [],
   "source": []
  }
 ],
 "metadata": {
  "kernelspec": {
   "display_name": "Python 3.10.4 ('ds_env')",
   "language": "python",
   "name": "python3"
  },
  "language_info": {
   "codemirror_mode": {
    "name": "ipython",
    "version": 3
   },
   "file_extension": ".py",
   "mimetype": "text/x-python",
   "name": "python",
   "nbconvert_exporter": "python",
   "pygments_lexer": "ipython3",
   "version": "3.10.4"
  },
  "orig_nbformat": 4,
  "vscode": {
   "interpreter": {
    "hash": "08488e93894ea7be7272109919d40edb52233f14daf834f5f2387122a81730e1"
   }
  }
 },
 "nbformat": 4,
 "nbformat_minor": 2
}
