{
 "cells": [
  {
   "cell_type": "code",
   "execution_count": 1,
   "metadata": {},
   "outputs": [],
   "source": [
    "import pandas as pd\n",
    "import numpy as np\n",
    "# import scipy.stats as stats\n",
    "import re"
   ]
  },
  {
   "cell_type": "code",
   "execution_count": 2,
   "metadata": {},
   "outputs": [],
   "source": [
    "year = 2018"
   ]
  },
  {
   "cell_type": "code",
   "execution_count": 3,
   "metadata": {},
   "outputs": [
    {
     "name": "stdout",
     "output_type": "stream",
     "text": [
      "0       GiantsJets[note 1]\n",
      "1     RamsChargers[note 4]\n",
      "2     49ersRaiders[note 6]\n",
      "3            Bears[note 8]\n",
      "4                  Cowboys\n",
      "5                 Redskins\n",
      "6                   Eagles\n",
      "7        Patriots[note 14]\n",
      "8                  Vikings\n",
      "9                  Broncos\n",
      "10                Dolphins\n",
      "11               Cardinals\n",
      "12                   Lions\n",
      "13             — [note 22]\n",
      "14         Texans[note 24]\n",
      "15                 Falcons\n",
      "16              Buccaneers\n",
      "17                Steelers\n",
      "18         Browns[note 29]\n",
      "19                Seahawks\n",
      "20                 Bengals\n",
      "21                  Chiefs\n",
      "22               [note 40]\n",
      "23         Ravens[note 45]\n",
      "24                Panthers\n",
      "25                   Colts\n",
      "26                  Titans\n",
      "27               [note 53]\n",
      "28                  Saints\n",
      "29          Bills[note 56]\n",
      "30                       —\n",
      "31                       —\n",
      "32                       —\n",
      "33                       —\n",
      "34                       —\n",
      "35                       —\n",
      "36                       —\n",
      "37                       —\n",
      "38                       —\n",
      "39                       —\n",
      "40               [note 62]\n",
      "41               [note 64]\n",
      "42                       —\n",
      "43                [note 6]\n",
      "44                 Jaguars\n",
      "45                       —\n",
      "46               [note 69]\n",
      "47                       —\n",
      "48                 Packers\n",
      "49                       —\n",
      "50                       —\n",
      "Name: nfl, dtype: object\n"
     ]
    }
   ],
   "source": [
    "cities = pd.read_csv(\"cities.csv\")\n",
    "cities_nfl = cities.loc[:, ['area', 'pop', 'nfl']]\n",
    "print(cities_nfl['nfl'])"
   ]
  },
  {
   "cell_type": "code",
   "execution_count": 4,
   "metadata": {},
   "outputs": [
    {
     "name": "stdout",
     "output_type": "stream",
     "text": [
      "                      area       pop           nfl\n",
      "0            New York City  20153634    giantsjets\n",
      "1              Los Angeles  13310447  ramschargers\n",
      "2   San Francisco Bay Area   6657982  49ersraiders\n",
      "3                  Chicago   9512999         bears\n",
      "4        Dallas–Fort Worth   7233323       cowboys\n",
      "5         Washington, D.C.   6131977      redskins\n",
      "6             Philadelphia   6070500        eagles\n",
      "7                   Boston   4794447      patriots\n",
      "8   Minneapolis–Saint Paul   3551036       vikings\n",
      "9                   Denver   2853077       broncos\n",
      "10   Miami–Fort Lauderdale   6066387      dolphins\n",
      "11                 Phoenix   4661537     cardinals\n",
      "12                 Detroit   4297617         lions\n",
      "14                 Houston   6772470        texans\n",
      "15                 Atlanta   5789700       falcons\n",
      "16          Tampa Bay Area   3032171    buccaneers\n",
      "17              Pittsburgh   2342299      steelers\n",
      "18               Cleveland   2055612        browns\n",
      "19                 Seattle   3798902      seahawks\n",
      "20              Cincinnati   2165139       bengals\n",
      "21             Kansas City   2104509        chiefs\n",
      "23               Baltimore   2798886        ravens\n",
      "24               Charlotte   2474314      panthers\n",
      "25            Indianapolis   2004230         colts\n",
      "26               Nashville   1865298        titans\n",
      "28             New Orleans   1268883        saints\n",
      "29                 Buffalo   1132804         bills\n",
      "44            Jacksonville   1478212       jaguars\n",
      "48               Green Bay    318236       packers\n"
     ]
    }
   ],
   "source": [
    "def clean_team_name(name):\n",
    "    # remove anything written between brackets [] \n",
    "    name_1 = re.sub('\\[.*\\]', \"\", name)\n",
    "    # convert to lower case and remove indenting spaces\n",
    "    return name_1.lower().strip()\n",
    "\n",
    "cities_nfl['nfl'] = cities_nfl['nfl'].apply(clean_team_name)\n",
    "# removing non-ascii characters\n",
    "cities_nfl['nfl'] = cities_nfl['nfl'].apply(lambda x: re.sub(\"[^\\x00-\\xFF]\", \"\", x)) \n",
    "# final cleaning step\n",
    "cities_nfl['nfl'] = cities_nfl['nfl'].apply(lambda x: re.sub(\"[^(A-Z)(a-z)\\d\\s]\", \"\", x))\n",
    "\n",
    "# at this point cities with no nfl team are assigned the empty string in the \"nfl\" column\n",
    "# keep the cities with nfl teams\n",
    "cities_nfl = cities_nfl[cities_nfl['nfl'] != ''] \n",
    "print(cities_nfl)\n",
    "# set the index to a numerical series from 0 to the size of the dataframe\n",
    "custom_index = pd.Index(range(len(cities_nfl)))\n",
    "cities_nfl = cities_nfl.set_index(custom_index)\n",
    "\n"
   ]
  },
  {
   "cell_type": "code",
   "execution_count": 5,
   "metadata": {},
   "outputs": [],
   "source": [
    "# in order to map each team with its area, a new column should be added \n",
    "# that groups both the area/city name as well as the team's name\n",
    "\n",
    "def area_team(row):\n",
    "    area_no_space = re.sub(\"\\s\", \"\", row['area']).strip().lower()\n",
    "    team_no_space = re.sub(\"\\s\", \"\", row['nfl']).strip().lower()\n",
    "    return area_no_space + team_no_space\n",
    "\n",
    "cities_nfl['area_team'] = cities_nfl.apply(area_team, axis=1)\n"
   ]
  },
  {
   "cell_type": "code",
   "execution_count": 6,
   "metadata": {},
   "outputs": [],
   "source": [
    "nfl_org = pd.read_csv(\"utility_files/nfl.csv\")\n",
    "nfl = nfl_org[nfl_org['year'] == year]\n"
   ]
  },
  {
   "cell_type": "code",
   "execution_count": 7,
   "metadata": {},
   "outputs": [
    {
     "name": "stdout",
     "output_type": "stream",
     "text": [
      "0                  AFC East\n",
      "1     New England Patriots*\n",
      "2            Miami Dolphins\n",
      "3             Buffalo Bills\n",
      "4             New York Jets\n",
      "5                 AFC North\n",
      "6         Baltimore Ravens*\n",
      "7       Pittsburgh Steelers\n",
      "8          Cleveland Browns\n",
      "9        Cincinnati Bengals\n",
      "10                AFC South\n",
      "11          Houston Texans*\n",
      "12      Indianapolis Colts+\n",
      "13         Tennessee Titans\n",
      "14     Jacksonville Jaguars\n",
      "15                 AFC West\n",
      "16      Kansas City Chiefs*\n",
      "17    Los Angeles Chargers+\n",
      "18           Denver Broncos\n",
      "19          Oakland Raiders\n",
      "20                 NFC East\n",
      "21          Dallas Cowboys*\n",
      "22     Philadelphia Eagles+\n",
      "23      Washington Redskins\n",
      "24          New York Giants\n",
      "25                NFC North\n",
      "26           Chicago Bears*\n",
      "27        Minnesota Vikings\n",
      "28        Green Bay Packers\n",
      "29            Detroit Lions\n",
      "30                NFC South\n",
      "31      New Orleans Saints*\n",
      "32        Carolina Panthers\n",
      "33          Atlanta Falcons\n",
      "34     Tampa Bay Buccaneers\n",
      "35                 NFC West\n",
      "36        Los Angeles Rams*\n",
      "37        Seattle Seahawks+\n",
      "38      San Francisco 49ers\n",
      "39        Arizona Cardinals\n",
      "Name: team, dtype: object\n"
     ]
    }
   ],
   "source": [
    "cols = [\"team\", \"W\", \"L\"]\n",
    "nfl = nfl.loc[:, cols]\n",
    "print(nfl['team'])"
   ]
  },
  {
   "cell_type": "code",
   "execution_count": 8,
   "metadata": {},
   "outputs": [
    {
     "name": "stdout",
     "output_type": "stream",
     "text": [
      "                    team   W   L\n",
      "0   new england patriots  11   5\n",
      "1         miami dolphins   7   9\n",
      "2          buffalo bills   6  10\n",
      "3          new york jets   4  12\n",
      "4       baltimore ravens  10   6\n",
      "5    pittsburgh steelers   9   6\n",
      "6       cleveland browns   7   8\n",
      "7     cincinnati bengals   6  10\n",
      "8         houston texans  11   5\n",
      "9     indianapolis colts  10   6\n",
      "10      tennessee titans   9   7\n",
      "11  jacksonville jaguars   5  11\n",
      "12    kansas city chiefs  12   4\n",
      "13  los angeles chargers  12   4\n",
      "14        denver broncos   6  10\n",
      "15       oakland raiders   4  12\n",
      "16        dallas cowboys  10   6\n",
      "17   philadelphia eagles   9   7\n",
      "18   washington redskins   7   9\n",
      "19       new york giants   5  11\n",
      "20         chicago bears  12   4\n",
      "21     minnesota vikings   8   7\n",
      "22     green bay packers   6   9\n",
      "23         detroit lions   6  10\n",
      "24    new orleans saints  13   3\n",
      "25     carolina panthers   7   9\n",
      "26       atlanta falcons   7   9\n",
      "27  tampa bay buccaneers   5  11\n",
      "28      los angeles rams  13   3\n",
      "29      seattle seahawks  10   6\n",
      "30   san francisco 49ers   4  12\n",
      "31     arizona cardinals   3  13\n"
     ]
    }
   ],
   "source": [
    "def clean_team_name_nfl(name):\n",
    "    name_1 = re.sub(\"\\(.*\\)\", \"\", name).strip().lower()\n",
    "    return re.sub(\"[^(A-z)(a-z)\\d\\s]\", \"\", name_1).strip().lower()\n",
    "\n",
    "# addressing problem 1\n",
    "nfl['team'] = nfl['team'].apply(clean_team_name_nfl)\n",
    "\n",
    "nfl = nfl[~(nfl['team'].str.contains(\"afc\") | nfl['team'].str.contains(\"nfc\"))]\n",
    "\n",
    "# setting a custom index\n",
    "nfl = nfl.set_index(pd.Index(range(len(nfl))))\n",
    "print(nfl)\n"
   ]
  },
  {
   "cell_type": "code",
   "execution_count": 9,
   "metadata": {},
   "outputs": [],
   "source": [
    "# time to add the area_team name column to the nfl DataFrame\n",
    "nfl['area_team'] = nfl['team'].apply(lambda x: re.sub(\"\\s\",\"\", x).strip().lower())\n"
   ]
  },
  {
   "cell_type": "code",
   "execution_count": 10,
   "metadata": {},
   "outputs": [],
   "source": [
    "merge_areas = pd.merge(cities_nfl, nfl, how ='left',on=['area_team'])"
   ]
  },
  {
   "cell_type": "code",
   "execution_count": 11,
   "metadata": {},
   "outputs": [],
   "source": [
    "merge_teams = pd.merge(nfl, cities_nfl, how='left', on=['area_team'])\n"
   ]
  },
  {
   "cell_type": "code",
   "execution_count": 12,
   "metadata": {},
   "outputs": [],
   "source": [
    "teams_no_clear_area = merge_teams[merge_teams['area'].isna()]\n",
    "areas_no_clear_team = merge_areas[merge_areas[\"team\"].isna()]"
   ]
  },
  {
   "cell_type": "code",
   "execution_count": 13,
   "metadata": {},
   "outputs": [
    {
     "name": "stdout",
     "output_type": "stream",
     "text": [
      "          team_no_area                     area_no_name\n",
      "0   newenglandpatriots            newyorkcitygiantsjets\n",
      "1        miamidolphins           losangelesramschargers\n",
      "2          newyorkjets  sanfranciscobayarea49ersraiders\n",
      "3      tennesseetitans          dallas–fortworthcowboys\n",
      "4   losangeleschargers          washington,d.c.redskins\n",
      "5       oaklandraiders                   bostonpatriots\n",
      "6        dallascowboys     minneapolis–saintpaulvikings\n",
      "7   washingtonredskins     miami–fortlauderdaledolphins\n",
      "8        newyorkgiants                 phoenixcardinals\n",
      "9     minnesotavikings           tampabayareabuccaneers\n",
      "10    carolinapanthers                charlottepanthers\n",
      "11  tampabaybuccaneers                  nashvilletitans\n",
      "12      losangelesrams                              NaN\n",
      "13   sanfrancisco49ers                              NaN\n",
      "14    arizonacardinals                              NaN\n"
     ]
    }
   ],
   "source": [
    "# the teams left out with no clear area name are to be processed manually\n",
    "# first let's consider the possibility of a mapping between the column [area_team] in the nfl DF\n",
    "# and the column [area_team] in the nfl_cities DF\n",
    "\n",
    "area_team_no_match_nfl_DF = teams_no_clear_area.set_index(pd.Index(range(len(teams_no_clear_area))))['area_team']\n",
    "area_team_no_match_cities_nfl_DF = areas_no_clear_team.set_index(pd.Index(range(len(areas_no_clear_team))))['area_team']\n",
    "\n",
    "no_match = pd.DataFrame({\"team_no_area\": area_team_no_match_nfl_DF, \"area_no_name\": area_team_no_match_cities_nfl_DF})\n",
    "print(no_match)"
   ]
  },
  {
   "cell_type": "code",
   "execution_count": 14,
   "metadata": {},
   "outputs": [
    {
     "name": "stdout",
     "output_type": "stream",
     "text": [
      "                      area                  team            area_team\n",
      "0                   Boston  new england patriots   newenglandpatriots\n",
      "1    Miami–Fort Lauderdale        miami dolphins        miamidolphins\n",
      "2                  Buffalo         buffalo bills         buffalobills\n",
      "3            New York City         new york jets          newyorkjets\n",
      "4                Baltimore      baltimore ravens      baltimoreravens\n",
      "5               Pittsburgh   pittsburgh steelers   pittsburghsteelers\n",
      "6                Cleveland      cleveland browns      clevelandbrowns\n",
      "7               Cincinnati    cincinnati bengals    cincinnatibengals\n",
      "8                  Houston        houston texans        houstontexans\n",
      "9             Indianapolis    indianapolis colts    indianapoliscolts\n",
      "10               Nashville      tennessee titans      tennesseetitans\n",
      "11            Jacksonville  jacksonville jaguars  jacksonvillejaguars\n",
      "12             Kansas City    kansas city chiefs     kansascitychiefs\n",
      "13                     NaN  los angeles chargers   losangeleschargers\n",
      "14                  Denver        denver broncos        denverbroncos\n",
      "15                     NaN       oakland raiders       oaklandraiders\n",
      "16       Dallas–Fort Worth        dallas cowboys        dallascowboys\n",
      "17            Philadelphia   philadelphia eagles   philadelphiaeagles\n",
      "18        Washington, D.C.   washington redskins   washingtonredskins\n",
      "19                     NaN       new york giants        newyorkgiants\n",
      "20                 Chicago         chicago bears         chicagobears\n",
      "21  Minneapolis–Saint Paul     minnesota vikings     minnesotavikings\n",
      "22               Green Bay     green bay packers      greenbaypackers\n",
      "23                 Detroit         detroit lions         detroitlions\n",
      "24             New Orleans    new orleans saints     neworleanssaints\n",
      "25               Charlotte     carolina panthers     carolinapanthers\n",
      "26                 Atlanta       atlanta falcons       atlantafalcons\n",
      "27          Tampa Bay Area  tampa bay buccaneers   tampabaybuccaneers\n",
      "28             Los Angeles      los angeles rams       losangelesrams\n",
      "29                 Seattle      seattle seahawks      seattleseahawks\n",
      "30  San Francisco Bay Area   san francisco 49ers    sanfrancisco49ers\n",
      "31                 Phoenix     arizona cardinals     arizonacardinals\n"
     ]
    }
   ],
   "source": [
    "# the last dataframe made it easy to see the mapping betweent the two columns\n",
    "# the following dictionary reflects the mapping\n",
    "\n",
    "mapping = {\"newyorkcitygiantsjets\": \"newyorkjets\", \"losangelesramschargers\": \"losangelesrams\", \"sanfranciscobayarea49ersraiders\":\"sanfrancisco49ers\"\n",
    ", 'dallas–fortworthcowboys': \"dallascowboys\", \"washington,d.c.redskins\": \"washingtonredskins\", \"bostonpatriots\": \"newenglandpatriots\"\n",
    ", \"minneapolis–saintpaulvikings\": \"minnesotavikings\", \"miami–fortlauderdaledolphins\": \"miamidolphins\", \"phoenixcardinals\": \"arizonacardinals\"\n",
    ", \"tampabayareabuccaneers\": \"tampabaybuccaneers\", \"charlottepanthers\": \"carolinapanthers\", \"nashvilletitans\": \"tennesseetitans\"}\n",
    "# the next step is to map the old area_team names in the cities_nfl DF to their respective mapped value  \n",
    "\n",
    "cities_nfl['area_team'] = cities_nfl['area_team'].apply(lambda x: mapping[x].strip() if x in mapping else x)\n",
    "\n",
    "merge_teams = pd.merge(nfl, cities_nfl, how='left', on=['area_team'])\n",
    "print(merge_teams.loc[: , ['area', 'team', 'area_team']])"
   ]
  },
  {
   "cell_type": "code",
   "execution_count": 15,
   "metadata": {},
   "outputs": [
    {
     "name": "stdout",
     "output_type": "stream",
     "text": [
      "LEFT OUT TEAMS\n",
      "13    los angeles chargers\n",
      "15         oakland raiders\n",
      "19         new york giants\n",
      "Name: team, dtype: object\n",
      "\n",
      "AREAS:\n",
      "0              New York City\n",
      "1                Los Angeles\n",
      "2     San Francisco Bay Area\n",
      "3                    Chicago\n",
      "4          Dallas–Fort Worth\n",
      "5           Washington, D.C.\n",
      "6               Philadelphia\n",
      "7                     Boston\n",
      "8     Minneapolis–Saint Paul\n",
      "9                     Denver\n",
      "10     Miami–Fort Lauderdale\n",
      "11                   Phoenix\n",
      "12                   Detroit\n",
      "13                   Houston\n",
      "14                   Atlanta\n",
      "15            Tampa Bay Area\n",
      "16                Pittsburgh\n",
      "17                 Cleveland\n",
      "18                   Seattle\n",
      "19                Cincinnati\n",
      "20               Kansas City\n",
      "21                 Baltimore\n",
      "22                 Charlotte\n",
      "23              Indianapolis\n",
      "24                 Nashville\n",
      "25               New Orleans\n",
      "26                   Buffalo\n",
      "27              Jacksonville\n",
      "28                 Green Bay\n",
      "Name: area, dtype: object\n"
     ]
    }
   ],
   "source": [
    "# as expected there are 3 teams with no associated area, the next stop now is to associate these teams with one\n",
    "# of areas provided. This task requires more human understanding of the data and a little bit of research\n",
    "\n",
    "print(\"LEFT OUT TEAMS\")\n",
    "print(merge_teams[merge_teams['area'].isna()]['team'])\n",
    "print()\n",
    "print(\"AREAS:\")\n",
    "print(cities_nfl['area'])\n"
   ]
  },
  {
   "cell_type": "code",
   "execution_count": 16,
   "metadata": {},
   "outputs": [
    {
     "name": "stdout",
     "output_type": "stream",
     "text": [
      "                      area                  team            area_team\n",
      "0                   Boston  new england patriots   newenglandpatriots\n",
      "1    Miami–Fort Lauderdale        miami dolphins        miamidolphins\n",
      "2                  Buffalo         buffalo bills         buffalobills\n",
      "3            New York City         new york jets          newyorkjets\n",
      "4                Baltimore      baltimore ravens      baltimoreravens\n",
      "5               Pittsburgh   pittsburgh steelers   pittsburghsteelers\n",
      "6                Cleveland      cleveland browns      clevelandbrowns\n",
      "7               Cincinnati    cincinnati bengals    cincinnatibengals\n",
      "8                  Houston        houston texans        houstontexans\n",
      "9             Indianapolis    indianapolis colts    indianapoliscolts\n",
      "10               Nashville      tennessee titans      tennesseetitans\n",
      "11            Jacksonville  jacksonville jaguars  jacksonvillejaguars\n",
      "12             Kansas City    kansas city chiefs     kansascitychiefs\n",
      "13             Los Angeles  los angeles chargers   losangeleschargers\n",
      "14                  Denver        denver broncos        denverbroncos\n",
      "15  San Francisco Bay Area       oakland raiders       oaklandraiders\n",
      "16       Dallas–Fort Worth        dallas cowboys        dallascowboys\n",
      "17            Philadelphia   philadelphia eagles   philadelphiaeagles\n",
      "18        Washington, D.C.   washington redskins   washingtonredskins\n",
      "19           New York City       new york giants        newyorkgiants\n",
      "20                 Chicago         chicago bears         chicagobears\n",
      "21  Minneapolis–Saint Paul     minnesota vikings     minnesotavikings\n",
      "22               Green Bay     green bay packers      greenbaypackers\n",
      "23                 Detroit         detroit lions         detroitlions\n",
      "24             New Orleans    new orleans saints     neworleanssaints\n",
      "25               Charlotte     carolina panthers     carolinapanthers\n",
      "26                 Atlanta       atlanta falcons       atlantafalcons\n",
      "27          Tampa Bay Area  tampa bay buccaneers   tampabaybuccaneers\n",
      "28             Los Angeles      los angeles rams       losangelesrams\n",
      "29                 Seattle      seattle seahawks      seattleseahawks\n",
      "30  San Francisco Bay Area   san francisco 49ers    sanfrancisco49ers\n",
      "31                 Phoenix     arizona cardinals     arizonacardinals\n"
     ]
    }
   ],
   "source": [
    "team_area = {\"los angeles chargers\": \"Los Angeles\", \"oakland raiders\": \"San Francisco Bay Area\", \"new york giants\": \"New York City\"}\n",
    "\n",
    "\n",
    "def set_areas(row):\n",
    "    if row['team'] in team_area:\n",
    "        row['area'] = team_area[row['team']]\n",
    "    return row\n",
    "merge_teams = merge_teams.apply(set_areas, axis=1)\n",
    "\n",
    "print(merge_teams.loc[: , ['area', 'team', 'area_team']])\n",
    "\n"
   ]
  },
  {
   "cell_type": "code",
   "execution_count": 17,
   "metadata": {},
   "outputs": [
    {
     "name": "stdout",
     "output_type": "stream",
     "text": [
      "                        win_loss_ratio         pop\n",
      "area                                              \n",
      "Atlanta                       0.437500   5789700.0\n",
      "Baltimore                     0.625000   2798886.0\n",
      "Boston                        0.687500   4794447.0\n",
      "Buffalo                       0.375000   1132804.0\n",
      "Charlotte                     0.437500   2474314.0\n",
      "Chicago                       0.750000   9512999.0\n",
      "Cincinnati                    0.375000   2165139.0\n",
      "Cleveland                     0.466667   2055612.0\n",
      "Dallas–Fort Worth             0.625000   7233323.0\n",
      "Denver                        0.375000   2853077.0\n",
      "Detroit                       0.375000   4297617.0\n",
      "Green Bay                     0.400000    318236.0\n",
      "Houston                       0.687500   6772470.0\n",
      "Indianapolis                  0.625000   2004230.0\n",
      "Jacksonville                  0.312500   1478212.0\n",
      "Kansas City                   0.750000   2104509.0\n",
      "Los Angeles                   0.781250  13310447.0\n",
      "Miami–Fort Lauderdale         0.437500   6066387.0\n",
      "Minneapolis–Saint Paul        0.533333   3551036.0\n",
      "Nashville                     0.562500   1865298.0\n",
      "New Orleans                   0.812500   1268883.0\n",
      "New York City                 0.281250  20153634.0\n",
      "Philadelphia                  0.562500   6070500.0\n",
      "Phoenix                       0.187500   4661537.0\n",
      "Pittsburgh                    0.600000   2342299.0\n",
      "San Francisco Bay Area        0.250000   6657982.0\n",
      "Seattle                       0.625000   3798902.0\n",
      "Tampa Bay Area                0.312500   3032171.0\n",
      "Washington, D.C.              0.437500   6131977.0\n"
     ]
    }
   ],
   "source": [
    "final_df = merge_teams.loc[:, ['area', 'team', 'W', 'L', 'pop']]\n",
    "final_df['win_loss_ratio'] = final_df['W'].astype(float) / (final_df['W'].astype(float) + final_df['L'].astype(float))\n",
    "final_df = final_df.loc[:, ['area', 'win_loss_ratio', 'pop']]\n",
    "# print(final_df)\n",
    "\n",
    "final_df = final_df.set_index('area').astype(float).groupby('area').agg({\"win_loss_ratio\":'mean', 'pop':'mean'})\n",
    "print(final_df)"
   ]
  },
  {
   "cell_type": "code",
   "execution_count": 18,
   "metadata": {},
   "outputs": [
    {
     "name": "stdout",
     "output_type": "stream",
     "text": [
      "                win_loss_ratio       pop\n",
      "win_loss_ratio        1.000000  0.004922\n",
      "pop                   0.004922  1.000000\n"
     ]
    }
   ],
   "source": [
    "print(final_df.corr())"
   ]
  },
  {
   "cell_type": "code",
   "execution_count": 20,
   "metadata": {},
   "outputs": [],
   "source": [
    "final_df.to_csv(\"/home/ayhem18/Ayhem18/DEV/Data_science/Towards_Data_science/Programming_Tools/Pandas_Numpy/nfl_final.csv\")"
   ]
  },
  {
   "cell_type": "code",
   "execution_count": null,
   "metadata": {},
   "outputs": [],
   "source": []
  }
 ],
 "metadata": {
  "kernelspec": {
   "display_name": "Python 3.10.4 ('ds_env')",
   "language": "python",
   "name": "python3"
  },
  "language_info": {
   "codemirror_mode": {
    "name": "ipython",
    "version": 3
   },
   "file_extension": ".py",
   "mimetype": "text/x-python",
   "name": "python",
   "nbconvert_exporter": "python",
   "pygments_lexer": "ipython3",
   "version": "3.10.4"
  },
  "orig_nbformat": 4,
  "vscode": {
   "interpreter": {
    "hash": "08488e93894ea7be7272109919d40edb52233f14daf834f5f2387122a81730e1"
   }
  }
 },
 "nbformat": 4,
 "nbformat_minor": 2
}
