{
 "cells": [
  {
   "cell_type": "code",
   "execution_count": null,
   "metadata": {},
   "outputs": [],
   "source": [
    "import pandas as pd\n",
    "import numpy as np\n",
    "import re"
   ]
  },
  {
   "cell_type": "code",
   "execution_count": 107,
   "metadata": {},
   "outputs": [],
   "source": [
    "Energy = pd.read_excel(\"utility_files/energy.xls\", header=None)\n",
    "# get rid of unnecessary columns and rows\n",
    "Energy = Energy.iloc[18: 245, 2:]\n",
    "# print(Energy)\n",
    "\n",
    "# let's set the column names\n",
    "col_names = ['Country', 'Energy Supply', 'Energy Supply per Capita', \"% Renewable\"]\n",
    "Energy.columns = col_names\n",
    "# Energy = Energy.reset_index() \n",
    "# convert Energy supplies to gigajoules\n",
    "# print(Energy[\"Energy Supply\"])\n",
    "es = \"Energy Supply\"\n",
    "\n",
    "Energy[es] = Energy[es].apply(lambda x: x * 10 ** 6) ## convert each value to gigajoules\n",
    "# print(Energy[es])\n",
    "\n",
    "# rename certain countries\n",
    "names_dic = {\"Republic of Korea\": \"South Korea\",\n",
    "\"United States of America\": \"United States\",\n",
    "\"United Kingdom of Great Britain and Northern Ireland\": \"United Kingdom\",\n",
    "\"China, Hong Kong Special Administrative Region\": \"Hong Kong\"}\n",
    "\n",
    "\n",
    "\n",
    "def new_name(name):\n",
    "    # first make sure all the names are free of numbers and parentheses\n",
    "    name_1 = re.sub(\"\\d+\", \"\", name) # remove any numbers in the country's name\n",
    "    name_2 = re.sub(r\"\\(.*\\)\", \"\", name_1) # remove any letters written in between parentheses\n",
    "    \n",
    "    if name_2 in names_dic:\n",
    "        return names_dic[name_2]\n",
    "    \n",
    "    return name_2.strip()\n",
    "\n",
    "# test_names = [\"Bolivia (Plurinational State of)\", \"Netherlands12\", \"Portugal13\", \"Sint Maarten (Dutch part)\",\n",
    "#  \"United Kingdom of Great Britain and Northern Ireland19\", \"United States of America20\"]\n",
    "# for t in test_names:\n",
    "#     print(new_name(t))\n",
    "\n",
    "cn = \"Country\"\n",
    "Energy[cn] = Energy[cn].apply(new_name)\n",
    "# for name in Energy[cn]:\n",
    "#     print(name)\n",
    "\n",
    "Energy = Energy.set_index(cn)\n",
    "\n",
    "country_list = ['Australia', 'Bolivia', 'China', 'Hong Kong', 'China, Macao Special Administrative Region', 'Denmark', 'Falkland Islands', 'France', 'Greenland', 'Indonesia', 'Iran', 'Italy', 'Japan', 'Kuwait', 'Micronesia', 'Netherlands', 'Portugal', 'South Korea', 'Saudi Arabia', 'Serbia', 'Sint Maarten', 'Spain', 'Switzerland', 'Ukraine', 'United Kingdom', 'United States', 'Venezuela']\n",
    "\n",
    "for i in range(len(country_list)):\n",
    "    if country_list[i] not in Energy.index.values.tolist():\n",
    "        print(country_list[i])"
   ]
  },
  {
   "cell_type": "code",
   "execution_count": null,
   "metadata": {},
   "outputs": [],
   "source": [
    "GDP = pd.read_csv(\"utility_files/world_bank.csv\", header=None, skiprows=range(4)) # skip the header as well as the first 4 rows\n",
    "# print(GDP.head())\n",
    "GDP.columns = GDP.iloc[0, :].tolist() \n",
    "# print(GDP.columns)\n",
    "GDP = GDP.rename(columns={\"Country Name\": \"Country\"})\n",
    "# print(GDP)\n",
    "# print(GDP.columns[0])\n",
    "# convert all the years from the form xxxx.0 to xxxx (for later use)\n",
    "GDP.columns = [re.sub(\"\\.0\", \"\", str(col)) for col in GDP.columns]\n",
    "print(GDP.columns)\n",
    "name_mapper = {\"Korea, Rep.\": \"South Korea\", \n",
    "\"Iran, Islamic Rep.\": \"Iran\",\n",
    "\"Hong Kong SAR, China\": \"Hong Kong\"}\n",
    "cn = \"Country\"\n",
    "GDP[cn] = GDP[cn].apply(lambda x: name_mapper[x] if x in name_mapper else x)\n",
    "GDP = GDP.set_index(cn)\n",
    "\n"
   ]
  },
  {
   "cell_type": "code",
   "execution_count": null,
   "metadata": {},
   "outputs": [],
   "source": [
    "# load the Sciamgo Journal and Country Rank data for Energy Engineering and Power Technology data to the ScimEm dataframe\n",
    "ScimEn = pd.read_excel(\"utility_files/scimagojr-3.xlsx\") # this file does not demand any preprocessing\n",
    "print(ScimEn.head())\n",
    "ScimEn = ScimEn.set_index(\"Country\")\n"
   ]
  },
  {
   "cell_type": "code",
   "execution_count": 92,
   "metadata": {},
   "outputs": [
    {
     "name": "stdout",
     "output_type": "stream",
     "text": [
      "Index(['China', 'United States', 'Japan', 'United Kingdom',\n",
      "       'Russian Federation', 'Canada', 'Germany', 'India', 'France',\n",
      "       'South Korea',\n",
      "       ...\n",
      "       'Burundi', 'Liberia', 'Togo', 'American Samoa', 'Gibraltar', 'Maldives',\n",
      "       'Belize', 'Palau', 'Guyana', 'Mauritania'],\n",
      "      dtype='object', name='Country', length=161)\n"
     ]
    }
   ],
   "source": [
    "# now we will need to join the datasets,\n",
    "# we will use only the last 10 years of the GPD dataset\n",
    "# only the first 15 countries in the ScimEn dataset\n",
    "# top_n = 15\n",
    "# ScimEn = ScimEn.iloc[:top_n, :]\n",
    "# print(ScimEn)\n",
    "\n",
    "GDP = GDP.loc[:, [str(i) for i in range(2006, 2016)]]\n",
    "\n",
    "df = pd.merge(ScimEn, Energy, how='inner', left_index=True, right_index=True)\n",
    "df = pd.merge(df, GDP, how='inner', left_index=True, right_index=True)\n",
    "# df.drop(columns='index', inplace=True)\n",
    "# print(df.index)\n",
    "print(df.index)\n"
   ]
  },
  {
   "cell_type": "code",
   "execution_count": 108,
   "metadata": {},
   "outputs": [
    {
     "name": "stdout",
     "output_type": "stream",
     "text": [
      "227\n",
      "265\n",
      "191\n",
      "Index(['Zimbabwe', 'Senegal', 'El Salvador', 'Fiji', 'Jamaica', 'Mauritius',\n",
      "       'Mozambique', 'Nicaragua', 'Myanmar', 'Tajikistan'],\n",
      "      dtype='object', name='Country')\n",
      "165\n",
      "186\n",
      "159\n"
     ]
    }
   ],
   "source": [
    "# let's try to compute how many rows were lost in the merging procedure.\n",
    "# Let's denote the Energy data set as E, the GDP data set as G and The journal dataset as J:\n",
    "# to compute all the elements different from the intersection of the 3 dataset:\n",
    "# |E| + |G| + |J| - |E union J| - |G union J| - |E union G| + |E union J Union G|\n",
    "J_union_E = pd.merge(ScimEn, Energy, how='inner', left_index=True, right_index=True)\n",
    "J_union_G = pd.merge(ScimEn, GDP, how='inner', left_index=True, right_index=True)\n",
    "E_union_G = pd.merge(Energy, GDP, how='inner', left_index=True, right_index=True)\n",
    "print(len(Energy))\n",
    "print(len(GDP))\n",
    "print(len(ScimEn))\n",
    "print((J_union_E).index[110:120])\n",
    "print(len(J_union_G))\n",
    "print(len(E_union_G))\n",
    "\n",
    "print(len(Energy) + len(GDP) + len(ScimEn) - len(J_union_E) - len(J_union_G) - len(E_union_G)) \n"
   ]
  },
  {
   "cell_type": "code",
   "execution_count": null,
   "metadata": {},
   "outputs": [],
   "source": [
    "# we need the top 15 countries when it comes to GDP\n",
    "df_c = df.copy()\n",
    "top_GDP = df_c.loc[:, [str(i) for i in range(2006, 2016)]].apply(np.mean, axis=1).sort_values(ascending=False)\n",
    "print(top_GDP)"
   ]
  },
  {
   "cell_type": "code",
   "execution_count": null,
   "metadata": {},
   "outputs": [],
   "source": [
    "# we need to see by how much the GDP of the 6th country changed over the last 10 years\n",
    "country_name = top_GDP.index[0]\n",
    "print(country_name)"
   ]
  },
  {
   "cell_type": "code",
   "execution_count": null,
   "metadata": {},
   "outputs": [],
   "source": [
    "print(df.columns)\n",
    "# print(df)\n",
    "df = df.iloc[:15,:]"
   ]
  },
  {
   "cell_type": "code",
   "execution_count": null,
   "metadata": {},
   "outputs": [],
   "source": [
    "print(GDP.loc[country_name, \"2015\"] - GDP.loc[country_name, \"2006\"])"
   ]
  },
  {
   "cell_type": "code",
   "execution_count": null,
   "metadata": {},
   "outputs": [],
   "source": [
    "print(df[\"% Renewable\"])\n",
    "max_renewable_index = np.argmax(df[\"% Renewable\"])\n",
    "ans = (str(df.index[max_renewable_index]), df[\"% Renewable\"][max_renewable_index])\n",
    "print(ans)\n",
    "print(type(ans[0]))"
   ]
  },
  {
   "cell_type": "code",
   "execution_count": null,
   "metadata": {},
   "outputs": [],
   "source": [
    "df1 = df.copy()\n",
    "df1[\"self_cit_ratio\"] = df1[\"Self-citations\"] / df1[\"Citations\"]\n",
    "max_self_citation = np.argmax(df1[\"self_cit_ratio\"])\n",
    "print(max_self_citation)\n",
    "tup = (df1.index[max_self_citation], df1[\"self_cit_ratio\"][max_self_citation])\n",
    "print(type(tup))\n",
    "print(df1[\"self_cit_ratio\"])\n",
    "print(tup)"
   ]
  },
  {
   "cell_type": "code",
   "execution_count": null,
   "metadata": {},
   "outputs": [],
   "source": [
    "df1 = df.copy()\n",
    "df1[\"Pop\"] = df1[\"Energy Supply\"] / df1[\"Energy Supply per Capita\"]\n",
    "pop_sorted = df1[\"Pop\"].sort_values(ascending=False)\n",
    "print(pop_sorted)\n",
    "print(pop_sorted.index[2])"
   ]
  },
  {
   "cell_type": "code",
   "execution_count": null,
   "metadata": {},
   "outputs": [],
   "source": [
    "df1 = df.copy()\n",
    "df1['PopEst'] = df1['Energy Supply'] / df1['Energy Supply per Capita']\n",
    "df1['Citable docs per Capita'] = df1['Citable documents'] / df1['PopEst']\n",
    "df1 = df1.loc[:, [\"Energy Supply per Capita\", \"Citable docs per Capita\"]]\n",
    "df1 = df1.astype(float)\n",
    "print(df1.corr(method ='pearson').loc[\"Energy Supply per Capita\", \"Citable docs per Capita\"])\n",
    "\n"
   ]
  },
  {
   "cell_type": "code",
   "execution_count": null,
   "metadata": {},
   "outputs": [],
   "source": [
    "df1 = df.copy()\n",
    "renew = \"% Renewable\"\n",
    "median = df1[renew].median()\n",
    "median_renew = (df1[renew] >= median).astype(int)\n",
    "print(median_renew)"
   ]
  },
  {
   "cell_type": "code",
   "execution_count": null,
   "metadata": {},
   "outputs": [],
   "source": [
    "ContinentDict  = {'China':'Asia', \n",
    "                  'United States':'North America', \n",
    "                  'Japan':'Asia', \n",
    "                  'United Kingdom':'Europe', \n",
    "                  'Russian Federation':'Europe', \n",
    "                  'Canada':'North America', \n",
    "                  'Germany':'Europe', \n",
    "                  'India':'Asia',\n",
    "                  'France':'Europe', \n",
    "                  'South Korea':'Asia', \n",
    "                  'Italy':'Europe', \n",
    "                  'Spain':'Europe', \n",
    "                  'Iran':'Asia',\n",
    "                  'Australia':'Australia', \n",
    "                  'Brazil':'South America'} "
   ]
  },
  {
   "cell_type": "code",
   "execution_count": null,
   "metadata": {},
   "outputs": [],
   "source": [
    "funcs_list = [pd.Series.count, pd.Series.sum, np.mean, np.std]\n",
    "df1 = df1.copy()\n",
    "df1['PopEst'] = df1['Energy Supply'] / df1['Energy Supply per Capita']\n",
    "continents = df1.loc[:, [\"PopEst\"]].groupby(lambda x: ContinentDict[x]).agg({\"PopEst\":  funcs_list})\n",
    "continents = continents.loc[:,\"PopEst\"]\n",
    "continents.columns = ['size', 'sum', 'mean', 'std']\n",
    "print(continents.columns)\n",
    "print(continents.index)\n",
    "print(continents)\n"
   ]
  },
  {
   "cell_type": "code",
   "execution_count": null,
   "metadata": {},
   "outputs": [],
   "source": [
    "df1 = df.iloc[:15, :].copy()\n",
    "df1 =df1.reset_index()\n",
    "df1[\"Continent\"] = df1[\"Country\"].apply(lambda x: ContinentDict[x])\n",
    "bins_name = \"% Renewable bins\" \n",
    "df1[bins_name] = pd.cut(df1[renew], 5)\n",
    "# df1 = df1.set_index(\"Country\")\n",
    "df1 = df1.loc[:, [bins_name, \"Continent\", \"Country\"]]\n",
    "#print(df1)\n",
    "df1 = df1.rename(columns={bins_name:\"% Renewable\"})\n",
    "c = \"Continent\"\n",
    "r = \"% Renewable\"\n",
    "df1 = df1.groupby([c, r]).agg({\"Country\": pd.Series.count}).dropna()\n",
    "print(type(df1[\"Country\"]))\n",
    "# print(df1)"
   ]
  },
  {
   "cell_type": "code",
   "execution_count": null,
   "metadata": {},
   "outputs": [],
   "source": [
    "def seperate_num_string_comma(num_string):\n",
    "    parts = num_string.split(\".\")\n",
    "    # take into account non-decimal numbers\n",
    "    bef_dec = (parts[1] if len(parts) >= 2 else \"\")\n",
    "    aft_dec = parts[0]\n",
    "    # revert the non-decimal part\n",
    "    aft_dec = aft_dec[::-1]\n",
    "    # add the commas\n",
    "    aft_dec_comma = [aft_dec[i] + \",\" if (i > 0 and i%3 == 0) else aft_dec[i] for i in range(len(aft_dec))]\n",
    "    # revert the non-decimal part after adding commas\n",
    "    aft_dec_comma = aft_dec_comma[::-1]\n",
    "    return \"\".join(aft_dec_comma) + (\".\" + bef_dec if len(parts) >= 2 else \"\")\n",
    "\n",
    "\n",
    "# for _ in range(50):\n",
    "#     x = np.random.randint(1000, 10 ** 8)\n",
    "#     print(x)\n",
    "#     print(seperate_num_string_comma(str(x)))\n",
    "\n",
    "# for _ in range(25):\n",
    "#     x = np.random.rand() * 10 ** 9\n",
    "#     print(x)\n",
    "#     print(seperate_num_string_comma(str(x)))\n",
    "#     print(\"###################################\")\n"
   ]
  },
  {
   "cell_type": "code",
   "execution_count": null,
   "metadata": {},
   "outputs": [],
   "source": [
    "df1 = df.copy()\n",
    "df1[\"Pop\"] = df1[\"Energy Supply\"] / df1[\"Energy Supply per Capita\"]\n",
    "print(df1[\"Pop\"].apply(lambda x: seperate_num_string_comma(str(x))))"
   ]
  },
  {
   "cell_type": "code",
   "execution_count": null,
   "metadata": {},
   "outputs": [],
   "source": []
  }
 ],
 "metadata": {
  "kernelspec": {
   "display_name": "Python 3.10.4 ('ds_env')",
   "language": "python",
   "name": "python3"
  },
  "language_info": {
   "codemirror_mode": {
    "name": "ipython",
    "version": 3
   },
   "file_extension": ".py",
   "mimetype": "text/x-python",
   "name": "python",
   "nbconvert_exporter": "python",
   "pygments_lexer": "ipython3",
   "version": "3.10.4"
  },
  "orig_nbformat": 4,
  "vscode": {
   "interpreter": {
    "hash": "08488e93894ea7be7272109919d40edb52233f14daf834f5f2387122a81730e1"
   }
  }
 },
 "nbformat": 4,
 "nbformat_minor": 2
}
