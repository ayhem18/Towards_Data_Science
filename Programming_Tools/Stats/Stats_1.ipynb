{
 "cells": [
  {
   "cell_type": "markdown",
   "metadata": {},
   "source": [
    "# Statistics\n",
    "In this notebook we will consider an introduction to statistics in Python.\n",
    "## Hypothesis testing"
   ]
  },
  {
   "cell_type": "code",
   "execution_count": null,
   "metadata": {},
   "outputs": [],
   "source": [
    "import numpy as np\n",
    "import pandas as pd\n",
    "from scipy import stats"
   ]
  },
  {
   "cell_type": "code",
   "execution_count": null,
   "metadata": {},
   "outputs": [],
   "source": [
    "df = pd.read_csv(\"utility_files/grades.csv\")\n",
    "print(df.head())"
   ]
  },
  {
   "cell_type": "code",
   "execution_count": null,
   "metadata": {},
   "outputs": [],
   "source": [
    "# we will divide the dataset into two categories: those submitted the first assignment before the end of December: early finishers \n",
    "# and those who finished a time after\n",
    "\n",
    "# first let's rename the dictionary for easier manipulation later on\n",
    "rename_dic = {}\n",
    "\n",
    "for i in range(1, 7):\n",
    "    rename_dic[\"assignment\"+str(i)+\"_submission\"] = \"ass\"+str(i)+\"s\"\n",
    "    rename_dic[\"assignment\"+str(i)+\"_grade\"] = \"ass\"+str(i)+\"g\"\n",
    "\n",
    "rename_dic[\"student_id\"] = \"id\"\n",
    "df = df.rename(columns=rename_dic)\n",
    "print(df.head())"
   ]
  },
  {
   "cell_type": "code",
   "execution_count": 12,
   "metadata": {},
   "outputs": [
    {
     "name": "stdout",
     "output_type": "stream",
     "text": [
      "(1259, 13)\n",
      "(1056, 13)\n",
      "True\n"
     ]
    }
   ],
   "source": [
    "# let's start dividing\n",
    "early_finishers = df[pd.to_datetime(df[\"ass1s\"]) < '2016']\n",
    "late_finishers = df[pd.to_datetime(df['ass1s']) >= '2016']\n",
    "print(early_finishers.shape)\n",
    "print(late_finishers.shape)\n",
    "late_finishers_2 = df[~ df.index.isin(early_finishers.index)]\n",
    "print(late_finishers_2.equals(late_finishers))"
   ]
  },
  {
   "cell_type": "code",
   "execution_count": 14,
   "metadata": {},
   "outputs": [
    {
     "name": "stdout",
     "output_type": "stream",
     "text": [
      "74.94728457024304\n",
      "74.0450648477065\n"
     ]
    }
   ],
   "source": [
    "# consider the mean grade of the first category students\n",
    "print(early_finishers['ass1g'].mean())\n",
    "print(late_finishers['ass1g'].mean())"
   ]
  },
  {
   "cell_type": "code",
   "execution_count": 15,
   "metadata": {},
   "outputs": [
    {
     "data": {
      "text/plain": [
       "Ttest_indResult(statistic=1.3223540853721596, pvalue=0.18618101101713855)"
      ]
     },
     "execution_count": 15,
     "metadata": {},
     "output_type": "execute_result"
    }
   ],
   "source": [
    "# the question is the following: do the two sets have the same distribution ? we can approach this question using student t-test \n",
    "# the null hypothesis: the two random variables: early_finishers and late_finishers are the same\n",
    "# Now we need to define a treshhold that reflects how much chance we are willing to accept when drawing conclusions\n",
    "\n",
    "from scipy.stats import ttest_ind\n",
    "\n",
    "# let's run the test with the 1st assignment's results\n",
    "ttest_ind(early_finishers['ass1g'], late_finishers['ass1g'])\n"
   ]
  },
  {
   "cell_type": "code",
   "execution_count": null,
   "metadata": {},
   "outputs": [],
   "source": [
    "# the value p: is our confidence that the null hypothesis is wrong (well quite a simplified explanation).\n",
    "# if pvalue is less than alpha, then we can say that there is enough statistical difference to reject the null hypothesis which is our case\n",
    "# the two random variables are different\n"
   ]
  }
 ],
 "metadata": {
  "kernelspec": {
   "display_name": "Python 3.10.4 ('ds_env')",
   "language": "python",
   "name": "python3"
  },
  "language_info": {
   "codemirror_mode": {
    "name": "ipython",
    "version": 3
   },
   "file_extension": ".py",
   "mimetype": "text/x-python",
   "name": "python",
   "nbconvert_exporter": "python",
   "pygments_lexer": "ipython3",
   "version": "3.10.4"
  },
  "orig_nbformat": 4,
  "vscode": {
   "interpreter": {
    "hash": "08488e93894ea7be7272109919d40edb52233f14daf834f5f2387122a81730e1"
   }
  }
 },
 "nbformat": 4,
 "nbformat_minor": 2
}
