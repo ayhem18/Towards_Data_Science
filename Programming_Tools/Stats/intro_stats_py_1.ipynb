{
 "cells": [
  {
   "cell_type": "markdown",
   "metadata": {},
   "source": [
    "# Statistics In python\n",
    "This notebook is created as for note-taking and experimenting with the ***Introduction to statistics In Python*** course delivered by [Datacamp](https://app.datacamp.com/learn/courses/introduction-to-statistics-in-python)."
   ]
  },
  {
   "cell_type": "code",
   "execution_count": 5,
   "metadata": {},
   "outputs": [],
   "source": [
    "# imports\n",
    "import pandas as pd\n",
    "import numpy as np\n",
    "import matplotlib.pyplot as plt"
   ]
  },
  {
   "cell_type": "markdown",
   "metadata": {},
   "source": [
    "## 1st Chapter: Summary statistics\n",
    "In this chapter we consider the most basic statistical funtions that would give a general, (maybe simple) idea about the data of interest.\n",
    "Statistics can be divided into main categories:\n",
    "* descriptive statistics: with the main aim of describing and summarizing the data. No generalization or conclusions are generally conceived\n",
    "* inferential statistics: using a sample of data to make inferences (hypothesis) about large populations"
   ]
  },
  {
   "cell_type": "markdown",
   "metadata": {},
   "source": [
    "### Measures of center\n",
    "Data is called skewed if it shifter towards either the left or the right. In other words, the skewer a function is, the less symmetric it is. Among the first steps in analysis data, is understanding the center of the data. There is a number of statistics that might represent this idea:\n",
    "* mean (average): the sum of all values divided by the total count of values\n",
    "* median: the middle value that divides the distribution into two halves\n",
    "* mode: the most frequent value\n",
    " "
   ]
  },
  {
   "cell_type": "code",
   "execution_count": 6,
   "metadata": {},
   "outputs": [],
   "source": [
    "# let's experiment with the following dataset\n",
    "food_consumption_link = \"https://assets.datacamp.com/production/repositories/5786/datasets/49f6356966016c70a9f63a0474942675377bdcf2/food_consumption.csv\"\n",
    "f_c = pd.read_csv(food_consumption_link)"
   ]
  },
  {
   "cell_type": "code",
   "execution_count": 7,
   "metadata": {},
   "outputs": [
    {
     "data": {
      "image/png": "[encoded data removed]",
      "text/plain": [
       "<Figure size 640x480 with 1 Axes>"
      ]
     },
     "metadata": {},
     "output_type": "display_data"
    }
   ],
   "source": [
    "# a great way to plot any column in a data frame is as follows:\n",
    "# let's consider the co2_emission for rice consumption\n",
    "rice_con = f_c[f_c['food_category'] == 'rice']\n",
    "rice_con['co2_emission'].hist()\n",
    "plt.show()"
   ]
  },
  {
   "cell_type": "code",
   "execution_count": 8,
   "metadata": {},
   "outputs": [],
   "source": [
    "# such plot (curves) are labeled as right skewed (the large number of counts is on the left). For skewed (left or right), \n",
    "# median is most likely a better measurement of the center of the data\n"
   ]
  },
  {
   "cell_type": "markdown",
   "metadata": {},
   "source": [
    "### Measures of spread\n",
    "As its name indicates, spread in this context refers to how close / far the data points are from each other. There is a number of measures:\n",
    "* variance: $\\begin{align} \\sum_{i=1}^{n} \\frac{(x_i - \\bar{x})^2}{n - 1} \n",
    "\\end{align}$ \n",
    "It roughly speaking calculates the average square distance of any point from the data mean.\n",
    "* standard deviation: the square root of the variance, more intuitive as it is not in measurement unit squared\n",
    "* Mean absolute deviation: calculated as follows:\n",
    "$\\begin{align} \\sum_{i=1}^{n} \\frac{|x_i - \\bar{x}|}{n - 1} \n",
    "\\end{align}$\n",
    "\n",
    "The  variance is preferred to Mean absolute deviation as it penalizes larger distances more significantly than smaller ones. It is the same \n",
    "analogy between ***Mean Squarred Error*** and ***Mean Absolute Error***  \n",
    "\n",
    "Quantiles or percentiles can be considered bins where the each bin contains the same number of elements. A specific type of quantiles is quite popular: ***Quartiles*** where the data is divided into $4$ groups: [0, 0.25, 0.5, 0.75, 1].\n"
   ]
  },
  {
   "cell_type": "markdown",
   "metadata": {},
   "source": [
    "#### Quartiles\n",
    "The procedure of calculating quartiles takes the following steps:\n",
    "1. calculating the median: also referred to as $Q2$\n",
    "2. calculating $Q1$ and $Q3$ denoted respetively as the first and third quantiles. They are determined as the values taken by $25%$ of the data larger and smaller than the median\n",
    "3. defining the IQR (inter-quantile-range) as $Q3 - Q1$, we calculate the extremums as:\n",
    "    * max = Q3 + 1.5 * IQR\n",
    "    * min = Q1 - 1.5 * IQR\n",
    "\n",
    "Data larger than the max or smaller than the min are considered outliers."
   ]
  },
  {
   "cell_type": "markdown",
   "metadata": {},
   "source": [
    "## Chapter 2: Probability aspects in Python\n",
    "We first consider two different types of experiements. Assuming we have $n$ (or infinitely many) outcomes. If we repeat the experiment and a certain outcome:\n",
    "1. cannot occur another time after its first occurence: ***without replacement***\n",
    "2. can occur multiple times: ***with replacement*** \n",
    "\n",
    "\n",
    "The law of large numbers indicates: the larger the size of the sample is, the closer the mean will be to the expected value, or also referred to as the theoretical mean.\n"
   ]
  },
  {
   "cell_type": "code",
   "execution_count": null,
   "metadata": {},
   "outputs": [],
   "source": [
    "# the following code simulates sampling without replacement\n",
    "seed_val = 3 # to ensure reproducibility\n",
    "np.random.seed(seed_val)\n",
    "f_c.sample(5, replace=False) # the replace argument when set to True will perform sampling with replacement\n"
   ]
  },
  {
   "cell_type": "markdown",
   "metadata": {},
   "source": [
    "## Distributions\n",
    "There are mainly two types of distributions:\n",
    "1. Continuous distribution where values range over real continous numbers. Such experiments are associated with \n",
    "    * uniform distribution\n",
    "    * normal distribution\n",
    "    * exponential distribution\n",
    "\n",
    "2. Discrete distribution where value range over discrete values:\n",
    "    * binominal\n",
    "    * Poisson\n"
   ]
  },
  {
   "cell_type": "code",
   "execution_count": 10,
   "metadata": {},
   "outputs": [],
   "source": [
    "## uniform distribution\n",
    "from scipy.stats import uniform\n",
    "# the probability of having a value less than x given min and max bounds\n",
    "min = 0\n",
    "max = 20\n",
    "\n",
    "x = np.random.randint(min, max)\n",
    "prob = uniform.cdf(x, min, max)\n",
    "\n",
    "# generating values according to the uniform distribution\n",
    "num_values = 1000\n",
    "values = uniform.rvs(min, max, size=num_values)"
   ]
  },
  {
   "cell_type": "code",
   "execution_count": null,
   "metadata": {},
   "outputs": [],
   "source": [
    "from scipy.stats import binom \n",
    "# generate a sequence of values\n",
    "num_coins = 10\n",
    "prob_head = 0.5\n",
    "num_times = 10\n",
    "seq = binom.rvs(num_coins, prob_head, size=num_times) # returns the number of success in each flip\n",
    "# calculate the probability of having less than x heads out of n flips\n",
    "n_flips = 10\n",
    "x = 5\n",
    "prob_less_x = binom.cdf(x, n_flips, prob_head)\n",
    "\n",
    "prob_x = binom.pmf(x, n_flips, prob_head)"
   ]
  },
  {
   "cell_type": "code",
   "execution_count": 11,
   "metadata": {},
   "outputs": [],
   "source": [
    "# normal distribution\n",
    "from scipy.stats import norm\n",
    "# consider the probability of having a value less than x\n",
    "bound, mean, var = 50, 60, 4\n",
    "prob = norm.cdf(bound, mean, var)\n",
    "# generate a sequence of values satisfying the normal distribution\n",
    "size = 50\n",
    "seq = norm.rvs(mean, var, size=50)\n",
    "\n",
    "# find the value y for which the probability of having values larger than y is per\n",
    "per = 0.9\n",
    "y = norm.ppf(per, mean, var) # a value generated by this distribution has per (chance) of being larger than y\n"
   ]
  },
  {
   "cell_type": "markdown",
   "metadata": {},
   "source": [
    "### Central Limit Theorem\n",
    "This theorem is the reason behind the popularity and most importantly significance of normal distribution. All distributions, discrete or continous, for an infinite number $n$ of samples behave exactly like a normal distribution.  \n",
    "The CLT applies only in case of random and independent samples.\n",
    "\n",
    "#### The statistical applications\n",
    "let's first consider the notion of sampling distributions. Let's consider the following experiement, at each iteration, we calculate a statistics of the sample, taken. Then we consider the distribution of this statistics. \n",
    "Such distributions are referred to as ***Sampling distributions***. For large number of samples, sampling distributions will get closer and closer to the normal distribution. In case of unknown distribution, or limited resources, the characteristics of a random variable can be approximated by calculating the sampling distributions for a large number of iterations."
   ]
  },
  {
   "cell_type": "code",
   "execution_count": 16,
   "metadata": {},
   "outputs": [],
   "source": [
    "# the Poisson distribution chracterized by the mean\n",
    "from scipy.stats import poisson\n",
    "pois_mean  = 2\n",
    "\n",
    "# the probability of having a value less than x with pois_mean\n",
    "x = np.random.randint(2, 5)\n",
    "less_than_x = poisson.cdf(x, pois_mean)\n",
    "# the probability of having exactly x\n",
    "\n",
    "exactly_x = poisson.pmf(x, pois_mean)\n",
    "seq_pois = poisson.rvs(pois_mean, size=100)"
   ]
  },
  {
   "cell_type": "markdown",
   "metadata": {},
   "source": [
    "### Correlation\n",
    "Correlation is one way to express the relationship between two variables numerically. It is a mathematical tool that ranges from $1$ to $-1$. Values (generally) starting from $\\approx 0.75$ (in absolute value)represent quite a strong relationship between two variables. Values closer to $0$ denote that the relationship is less than less significant. The direction is reprented by the sign.  \n",
    "It is important to keep in mind that the correlation is mainly linear. For non-linear relationships, this measurement can be highly misleading.\n",
    "Thus, certain transformations might be necessary to reveal how related two variables actually are. Among the most popular:\n",
    "* $\\log x$ transformation\n",
    "* square root: $\\sqrt x$ transformation\n",
    "* reciprocal: $\\frac{1}{x}$ transformation\n",
    "* a combination of those applied either to one or both variables"
   ]
  },
  {
   "cell_type": "markdown",
   "metadata": {},
   "source": [
    "#### why transformations ?\n",
    "certain statistical tools are built on the assumption that variables are linearly correlated (or close)\n",
    "\n",
    "#### Correlation != causation\n",
    "It might be tempting to confuse both. If $x$ and $y$ are correlated, it does not necessarily mean that one causes the other. Such conclusions should refer to domain expertise before being made public. One important reason, is confounding which can be broadly described as follows:\n",
    "1. x is associated with y \n",
    "2. y (scientifically proven) to cause z\n",
    "3. the trap is to actually say that $x$ causes with $z$, even though both correlate significantly. $y$ is said to be the ***confounder***"
   ]
  },
  {
   "cell_type": "code",
   "execution_count": null,
   "metadata": {},
   "outputs": [],
   "source": [
    "\n"
   ]
  },
  {
   "cell_type": "code",
   "execution_count": null,
   "metadata": {},
   "outputs": [],
   "source": []
  }
 ],
 "metadata": {
  "kernelspec": {
   "display_name": "Python 3.10.4 ('ds_env')",
   "language": "python",
   "name": "python3"
  },
  "language_info": {
   "codemirror_mode": {
    "name": "ipython",
    "version": 3
   },
   "file_extension": ".py",
   "mimetype": "text/x-python",
   "name": "python",
   "nbconvert_exporter": "python",
   "pygments_lexer": "ipython3",
   "version": "3.10.4"
  },
  "orig_nbformat": 4,
  "vscode": {
   "interpreter": {
    "hash": "006414dea9a04848ce797b510a25f3f28ac8668e3d3244e777242cca6bed477f"
   }
  }
 },
 "nbformat": 4,
 "nbformat_minor": 2
}
