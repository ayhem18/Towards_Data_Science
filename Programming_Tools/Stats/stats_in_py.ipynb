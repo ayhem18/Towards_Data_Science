{
 "cells": [
  {
   "attachments": {},
   "cell_type": "markdown",
   "metadata": {},
   "source": [
    "# Overview\n",
    "This notebook is created to save notes on the **Statistics with Python specialization** on Coursera. The latter is an introduction to applying the statistical concepts with code."
   ]
  },
  {
   "attachments": {},
   "cell_type": "markdown",
   "metadata": {},
   "source": [
    "# visualization principles"
   ]
  },
  {
   "attachments": {},
   "cell_type": "markdown",
   "metadata": {},
   "source": [
    "* As for discrete values, the visualization should be either: 1. a pie chart or a bar chart. The bar chart is more customizable so it might be preferrable to go with this one\n",
    "* As for numerical data which is defined as any data on which we can apply mathematical operations, a data visualization should provide information on $4$ main aspects of data: \n",
    "    1. Shape: literally how does the data look: which is usually mathematically expressed as ***statistical distribution***: bell shape (normal distribution), left/right skewed, symmetric\n",
    "    2. center: a value describing the center of data: generally the mean or the median. The relation between these two values generally determines the shape of the data.\n",
    "    3. spread: the values the data take: range, IQR, standard deviation and variance.\n",
    "    4. outliers: data points significantly different from the rest of the data points\n",
    "* A histogram would be quite useful in this regard."
   ]
  },
  {
   "attachments": {},
   "cell_type": "markdown",
   "metadata": {},
   "source": [
    "* Let's talk normal distribution, assuming data is normal distribution (not too shubby for an assumption by the way) with a mean value of $\\mu$ and standard deviation (referred to from now on as ***std***) of $\\sigma$, then we have the following:\n",
    "1. one standard deviation unit, would cover $68\\%$ of the values.\n",
    "2. 2 std units would cover $95\\%$ of the values.\n",
    "3. 3 std units would cover a majority of $99.7\\%$ of the values.\n",
    "The emperical rule introduces a very practicat, yet justified, metric of how ***unusual*** a certain value is: the the $std-score$ (or for normal distribution: the $z$ score):\n",
    "$\n",
    "\\begin{align}\n",
    "\\frac{x - \\mu}{\\sigma}\n",
    "\\end{align}\n",
    "$"
   ]
  },
  {
   "attachments": {},
   "cell_type": "markdown",
   "metadata": {},
   "source": [
    "# Multivariate analysis: scretching the surface\n",
    "when considering multi-variate analysis of categorical data, it is important to consider the Conditional distribution. In other words   :\n",
    "Assuming we have the feature $f_1$ that can be viewed as a random variable $X_1$, as well as another feature $f_2$. To better understand the effect of feature $f_1$ on $f_2$, the conditional random variable should be considered: $Y = X_1 | X_2$. More concretely, assuming $X_2$ has values $x_{21}, x_{22}, x_{23}, x_{24}...$ Then each of the conditional random variables:\n",
    "$\n",
    "\\begin{align} \n",
    "Y_i = X_1 | X_{2i}\n",
    "\\end{align}\n",
    "$\n",
    "should be computed. Afterwards, it is possible to determine whether a certain value of $X_2$ is statistically significant.\n"
   ]
  },
  {
   "cell_type": "code",
   "execution_count": null,
   "metadata": {},
   "outputs": [],
   "source": []
  },
  {
   "cell_type": "code",
   "execution_count": null,
   "metadata": {},
   "outputs": [],
   "source": []
  },
  {
   "cell_type": "code",
   "execution_count": null,
   "metadata": {},
   "outputs": [],
   "source": []
  }
 ],
 "metadata": {
  "kernelspec": {
   "display_name": "Python 3.9.12 ('ds_env')",
   "language": "python",
   "name": "python3"
  },
  "language_info": {
   "name": "python",
   "version": "3.9.12"
  },
  "orig_nbformat": 4,
  "vscode": {
   "interpreter": {
    "hash": "7bb0ce5cb6b092cde9f0ba713d915425207ed6ea08d3ede97530b87c251a3aee"
   }
  }
 },
 "nbformat": 4,
 "nbformat_minor": 2
}
