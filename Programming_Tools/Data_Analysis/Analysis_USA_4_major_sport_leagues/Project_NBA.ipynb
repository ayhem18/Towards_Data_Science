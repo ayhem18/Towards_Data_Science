{
 "cells": [
  {
   "cell_type": "markdown",
   "metadata": {},
   "source": [
    "## Overview\n",
    "This notebook is part of a data analysis task (mini-project) to asnwer the following question:  \n",
    "\n",
    "what is the win/loss ratio's correlation with the population of the city it is in? are these correlations different between the four major leagues ?\n",
    "* NHL: Hockey league\n",
    "* NBA: Basketball league\n",
    "* MLB: Baseball League\n",
    "* NFL: Football (Americal football) League\n",
    "This notebook considerers the National Basketball League."
   ]
  },
  {
   "cell_type": "code",
   "execution_count": 1,
   "metadata": {},
   "outputs": [],
   "source": [
    "import pandas as pd\n",
    "import numpy as np\n",
    "import re\n",
    "import os\n",
    "import cleaning_data as c\n",
    "year = 2018\n",
    "from cleaning_data import cities_original_path, cities_clean_path, nbl_path, final_nbl_path"
   ]
  },
  {
   "cell_type": "code",
   "execution_count": 2,
   "metadata": {},
   "outputs": [],
   "source": [
    "# cities_original_path = \"utility_files/wiki_data.html\"\n",
    "# cities_clean_path = \"utility_files/cities.csv\" \n",
    "# nbl_path = \"utility_files/nbl.csv\"\n",
    "# final_nbl_path = \"nbl_final.csv\""
   ]
  },
  {
   "cell_type": "code",
   "execution_count": 3,
   "metadata": {},
   "outputs": [],
   "source": [
    "# load the clean cities dataset\n",
    "if not os.path.exists(cities_clean_path):\n",
    "    c.clean_city_data(cities_original_path, cities_clean_path)\n"
   ]
  },
  {
   "cell_type": "markdown",
   "metadata": {},
   "source": [
    "### Load and clean (the NBL-related parts) the cities dataset "
   ]
  },
  {
   "cell_type": "code",
   "execution_count": 4,
   "metadata": {},
   "outputs": [
    {
     "name": "stdout",
     "output_type": "stream",
     "text": [
      "                      area       pop             nba\n",
      "0            New York City  20153634      knicksnets\n",
      "1              Los Angeles  13310447  lakersclippers\n",
      "2   San Francisco Bay Area   6657982        warriors\n",
      "3                  Chicago   9512999           bulls\n",
      "4        Dallas–Fort Worth   7233323       mavericks\n",
      "5         Washington, D.C.   6131977         wizards\n",
      "6             Philadelphia   6070500           76ers\n",
      "7                   Boston   4794447         celtics\n",
      "8   Minneapolis–Saint Paul   3551036    timberwolves\n",
      "9                   Denver   2853077         nuggets\n",
      "10   Miami–Fort Lauderdale   6066387            heat\n",
      "11                 Phoenix   4661537            suns\n",
      "12                 Detroit   4297617         pistons\n",
      "13                 Toronto   5928040         raptors\n",
      "14                 Houston   6772470         rockets\n",
      "15                 Atlanta   5789700           hawks\n",
      "18               Cleveland   2055612       cavaliers\n",
      "24               Charlotte   2474314         hornets\n",
      "25            Indianapolis   2004230          pacers\n",
      "27               Milwaukee   1572482           bucks\n",
      "28             New Orleans   1268883        pelicans\n",
      "32                 Orlando   2441257           magic\n",
      "33                Portland   2424955   trail blazers\n",
      "38          Salt Lake City   1186187            jazz\n",
      "41             San Antonio   2429609           spurs\n",
      "42              Sacramento   2296418           kings\n",
      "45           Oklahoma City   1373211         thunder\n",
      "46                 Memphis   1342842       grizzlies\n",
      "\n",
      "after indexing\n",
      "################################################################################\n",
      "                      area       pop             nba\n",
      "0            New York City  20153634      knicksnets\n",
      "1              Los Angeles  13310447  lakersclippers\n",
      "2   San Francisco Bay Area   6657982        warriors\n",
      "3                  Chicago   9512999           bulls\n",
      "4        Dallas–Fort Worth   7233323       mavericks\n",
      "5         Washington, D.C.   6131977         wizards\n",
      "6             Philadelphia   6070500           76ers\n",
      "7                   Boston   4794447         celtics\n",
      "8   Minneapolis–Saint Paul   3551036    timberwolves\n",
      "9                   Denver   2853077         nuggets\n",
      "10   Miami–Fort Lauderdale   6066387            heat\n",
      "11                 Phoenix   4661537            suns\n",
      "12                 Detroit   4297617         pistons\n",
      "13                 Toronto   5928040         raptors\n",
      "14                 Houston   6772470         rockets\n",
      "15                 Atlanta   5789700           hawks\n",
      "16               Cleveland   2055612       cavaliers\n",
      "17               Charlotte   2474314         hornets\n",
      "18            Indianapolis   2004230          pacers\n",
      "19               Milwaukee   1572482           bucks\n",
      "20             New Orleans   1268883        pelicans\n",
      "21                 Orlando   2441257           magic\n",
      "22                Portland   2424955   trail blazers\n",
      "23          Salt Lake City   1186187            jazz\n",
      "24             San Antonio   2429609           spurs\n",
      "25              Sacramento   2296418           kings\n",
      "26           Oklahoma City   1373211         thunder\n",
      "27                 Memphis   1342842       grizzlies\n"
     ]
    }
   ],
   "source": [
    "cities = pd.read_csv(cities_clean_path)\n",
    "cities_nba = cities.loc[:, ['area', 'pop', 'nba']]\n",
    "\n",
    "def clean_team_name(name):\n",
    "    # remove anything written between brackets [] \n",
    "    name_1 = re.sub('\\[.*\\]', \"\", name)\n",
    "    # convert to lower case and remove indenting spaces\n",
    "    return name_1.lower().strip()\n",
    "\n",
    "cities_nba['nba'] = cities_nba['nba'].apply(clean_team_name)\n",
    "# removing non-ascii characters\n",
    "cities_nba['nba'] = cities_nba['nba'].apply(lambda x: re.sub(\"[^\\x00-\\xFF]\", \"\", x)) \n",
    "# final cleaning step\n",
    "cities_nba['nba'] = cities_nba['nba'].apply(lambda x: re.sub(\"[^(A-Z)(a-z)\\d\\s]\", \"\", x))\n",
    "\n",
    "# at this point cities with no nba team are assigned the empty string in the \"nba\" column\n",
    "# keep the cities with nba teams\n",
    "cities_nba = cities_nba[cities_nba['nba'] != ''] \n",
    "print(cities_nba)\n",
    "# set the index to a numerical series from 0 to the size of the dataframe\n",
    "custom_index = pd.Index(range(len(cities_nba)))\n",
    "cities_nba = cities_nba.set_index(custom_index)\n",
    "\n",
    "## after indexing\n",
    "print()\n",
    "print(\"after indexing\")\n",
    "print(\"##\" * 40)\n",
    "\n",
    "print(cities_nba)"
   ]
  },
  {
   "cell_type": "code",
   "execution_count": 5,
   "metadata": {},
   "outputs": [
    {
     "name": "stdout",
     "output_type": "stream",
     "text": [
      "                      area             nba                          area_team\n",
      "0            New York City      knicksnets              newyorkcityknicksnets\n",
      "1              Los Angeles  lakersclippers           losangeleslakersclippers\n",
      "2   San Francisco Bay Area        warriors        sanfranciscobayareawarriors\n",
      "3                  Chicago           bulls                       chicagobulls\n",
      "4        Dallas–Fort Worth       mavericks          dallas–fortworthmavericks\n",
      "5         Washington, D.C.         wizards             washington,d.c.wizards\n",
      "6             Philadelphia           76ers                  philadelphia76ers\n",
      "7                   Boston         celtics                      bostonceltics\n",
      "8   Minneapolis–Saint Paul    timberwolves  minneapolis–saintpaultimberwolves\n",
      "9                   Denver         nuggets                      denvernuggets\n",
      "10   Miami–Fort Lauderdale            heat           miami–fortlauderdaleheat\n",
      "11                 Phoenix            suns                        phoenixsuns\n",
      "12                 Detroit         pistons                     detroitpistons\n",
      "13                 Toronto         raptors                     torontoraptors\n",
      "14                 Houston         rockets                     houstonrockets\n",
      "15                 Atlanta           hawks                       atlantahawks\n",
      "16               Cleveland       cavaliers                 clevelandcavaliers\n",
      "17               Charlotte         hornets                   charlottehornets\n",
      "18            Indianapolis          pacers                 indianapolispacers\n",
      "19               Milwaukee           bucks                     milwaukeebucks\n",
      "20             New Orleans        pelicans                 neworleanspelicans\n",
      "21                 Orlando           magic                       orlandomagic\n",
      "22                Portland   trail blazers               portlandtrailblazers\n",
      "23          Salt Lake City            jazz                   saltlakecityjazz\n",
      "24             San Antonio           spurs                    sanantoniospurs\n",
      "25              Sacramento           kings                    sacramentokings\n",
      "26           Oklahoma City         thunder                oklahomacitythunder\n",
      "27                 Memphis       grizzlies                   memphisgrizzlies\n"
     ]
    }
   ],
   "source": [
    "# in order to map each team with its area, a new column should be added \n",
    "# that groups both the area/city name as well as the team's name\n",
    "\n",
    "def area_team(row):\n",
    "    area_no_space = re.sub(\"\\s\", \"\", row['area']).strip().lower()\n",
    "    team_no_space = re.sub(\"\\s\", \"\", row['nba']).strip().lower()\n",
    "    return area_no_space + team_no_space\n",
    "\n",
    "cities_nba['area_team'] = cities_nba.apply(area_team, axis=1)\n",
    "print(cities_nba.loc[:, [\"area\",  \"nba\", \"area_team\"]])"
   ]
  },
  {
   "cell_type": "markdown",
   "metadata": {},
   "source": [
    "### Clean and explore the NBA dataset"
   ]
  },
  {
   "cell_type": "code",
   "execution_count": 6,
   "metadata": {},
   "outputs": [
    {
     "name": "stdout",
     "output_type": "stream",
     "text": [
      "Index(['team', 'W', 'L', 'W/L%', 'GB', 'PS/G', 'PA/G', 'SRS', 'year',\n",
      "       'League'],\n",
      "      dtype='object')\n"
     ]
    }
   ],
   "source": [
    "# it is time to consider the nba DataFrame\n",
    "nba_org = pd.read_csv(\"utility_files/nba.csv\")\n",
    "nba = nba_org[nba_org['year'] == year]\n",
    "print(nba.columns)"
   ]
  },
  {
   "cell_type": "code",
   "execution_count": 7,
   "metadata": {},
   "outputs": [
    {
     "name": "stdout",
     "output_type": "stream",
     "text": [
      "0            Toronto Raptors* (1)\n",
      "1             Boston Celtics* (2)\n",
      "2         Philadelphia 76ers* (3)\n",
      "3        Cleveland Cavaliers* (4)\n",
      "4             Indiana Pacers* (5)\n",
      "5                 Miami Heat* (6)\n",
      "6            Milwaukee Bucks* (7)\n",
      "7         Washington Wizards* (8)\n",
      "8             Detroit Pistons (9)\n",
      "9          Charlotte Hornets (10)\n",
      "10           New York Knicks (11)\n",
      "11             Brooklyn Nets (12)\n",
      "12             Chicago Bulls (13)\n",
      "13             Orlando Magic (14)\n",
      "14             Atlanta Hawks (15)\n",
      "15           Houston Rockets* (1)\n",
      "16     Golden State Warriors* (2)\n",
      "17    Portland Trail Blazers* (3)\n",
      "18     Oklahoma City Thunder* (4)\n",
      "19                 Utah Jazz* (5)\n",
      "20      New Orleans Pelicans* (6)\n",
      "21         San Antonio Spurs* (7)\n",
      "22    Minnesota Timberwolves* (8)\n",
      "23             Denver Nuggets (9)\n",
      "24      Los Angeles Clippers (10)\n",
      "25        Los Angeles Lakers (11)\n",
      "26          Sacramento Kings (12)\n",
      "27          Dallas Mavericks (13)\n",
      "28         Memphis Grizzlies (14)\n",
      "29              Phoenix Suns (15)\n",
      "Name: team, dtype: object\n"
     ]
    }
   ],
   "source": [
    "cols = [\"team\", \"W\", \"L\"]\n",
    "nba = nba.loc[:, cols]\n",
    "print(nba['team'])"
   ]
  },
  {
   "cell_type": "code",
   "execution_count": 8,
   "metadata": {},
   "outputs": [
    {
     "name": "stdout",
     "output_type": "stream",
     "text": [
      "                      team   W   L\n",
      "0          toronto raptors  59  23\n",
      "1           boston celtics  55  27\n",
      "2       philadelphia 76ers  52  30\n",
      "3      cleveland cavaliers  50  32\n",
      "4           indiana pacers  48  34\n",
      "5               miami heat  44  38\n",
      "6          milwaukee bucks  44  38\n",
      "7       washington wizards  43  39\n",
      "8          detroit pistons  39  43\n",
      "9        charlotte hornets  36  46\n",
      "10         new york knicks  29  53\n",
      "11           brooklyn nets  28  54\n",
      "12           chicago bulls  27  55\n",
      "13           orlando magic  25  57\n",
      "14           atlanta hawks  24  58\n",
      "15         houston rockets  65  17\n",
      "16   golden state warriors  58  24\n",
      "17  portland trail blazers  49  33\n",
      "18   oklahoma city thunder  48  34\n",
      "19               utah jazz  48  34\n",
      "20    new orleans pelicans  48  34\n",
      "21       san antonio spurs  47  35\n",
      "22  minnesota timberwolves  47  35\n",
      "23          denver nuggets  46  36\n",
      "24    los angeles clippers  42  40\n",
      "25      los angeles lakers  35  47\n",
      "26        sacramento kings  27  55\n",
      "27        dallas mavericks  24  58\n",
      "28       memphis grizzlies  22  60\n",
      "29            phoenix suns  21  61\n"
     ]
    }
   ],
   "source": [
    "# at first glance we can detect at least 2 main issues with the team column:\n",
    "# 1. the need for reformatting the names\n",
    "# 2. removing the rows declaring the teams' divisions\n",
    "\n",
    "def clean_team_name_nba(name):\n",
    "    name_1 = re.sub(\"\\(.*\\)\", \"\", name).strip().lower()\n",
    "    return re.sub(\"[^(A-z)(a-z)\\d\\s]\", \"\", name_1).strip().lower()\n",
    "\n",
    "# addressing problem 1\n",
    "nba['team'] = nba['team'].apply(clean_team_name_nba)\n",
    "\n",
    "# setting a custom index\n",
    "nba = nba.set_index(pd.Index(range(len(nba))))\n",
    "print(nba)\n"
   ]
  },
  {
   "cell_type": "markdown",
   "metadata": {},
   "source": [
    "### Merge the Cities and NBL datasets\n",
    "I am associating each NBL team with its area (if the area is included in the cities dataset)"
   ]
  },
  {
   "cell_type": "code",
   "execution_count": 9,
   "metadata": {},
   "outputs": [
    {
     "name": "stdout",
     "output_type": "stream",
     "text": [
      "                      team   W   L              area_team\n",
      "0          toronto raptors  59  23         torontoraptors\n",
      "1           boston celtics  55  27          bostonceltics\n",
      "2       philadelphia 76ers  52  30      philadelphia76ers\n",
      "3      cleveland cavaliers  50  32     clevelandcavaliers\n",
      "4           indiana pacers  48  34          indianapacers\n",
      "5               miami heat  44  38              miamiheat\n",
      "6          milwaukee bucks  44  38         milwaukeebucks\n",
      "7       washington wizards  43  39      washingtonwizards\n",
      "8          detroit pistons  39  43         detroitpistons\n",
      "9        charlotte hornets  36  46       charlottehornets\n",
      "10         new york knicks  29  53          newyorkknicks\n",
      "11           brooklyn nets  28  54           brooklynnets\n",
      "12           chicago bulls  27  55           chicagobulls\n",
      "13           orlando magic  25  57           orlandomagic\n",
      "14           atlanta hawks  24  58           atlantahawks\n",
      "15         houston rockets  65  17         houstonrockets\n",
      "16   golden state warriors  58  24    goldenstatewarriors\n",
      "17  portland trail blazers  49  33   portlandtrailblazers\n",
      "18   oklahoma city thunder  48  34    oklahomacitythunder\n",
      "19               utah jazz  48  34               utahjazz\n",
      "20    new orleans pelicans  48  34     neworleanspelicans\n",
      "21       san antonio spurs  47  35        sanantoniospurs\n",
      "22  minnesota timberwolves  47  35  minnesotatimberwolves\n",
      "23          denver nuggets  46  36          denvernuggets\n",
      "24    los angeles clippers  42  40     losangelesclippers\n",
      "25      los angeles lakers  35  47       losangeleslakers\n",
      "26        sacramento kings  27  55        sacramentokings\n",
      "27        dallas mavericks  24  58        dallasmavericks\n",
      "28       memphis grizzlies  22  60       memphisgrizzlies\n",
      "29            phoenix suns  21  61            phoenixsuns\n"
     ]
    }
   ],
   "source": [
    "# time to add the area_team name column to the nba DataFrame\n",
    "nba['area_team'] = nba['team'].apply(lambda x: re.sub(\"\\s\",\"\", x).strip().lower())\n",
    "print(nba)"
   ]
  },
  {
   "cell_type": "code",
   "execution_count": 10,
   "metadata": {},
   "outputs": [
    {
     "name": "stdout",
     "output_type": "stream",
     "text": [
      "                      area                    team\n",
      "0            New York City                     NaN\n",
      "1              Los Angeles                     NaN\n",
      "2   San Francisco Bay Area                     NaN\n",
      "3                  Chicago           chicago bulls\n",
      "4        Dallas–Fort Worth                     NaN\n",
      "5         Washington, D.C.                     NaN\n",
      "6             Philadelphia      philadelphia 76ers\n",
      "7                   Boston          boston celtics\n",
      "8   Minneapolis–Saint Paul                     NaN\n",
      "9                   Denver          denver nuggets\n",
      "10   Miami–Fort Lauderdale                     NaN\n",
      "11                 Phoenix            phoenix suns\n",
      "12                 Detroit         detroit pistons\n",
      "13                 Toronto         toronto raptors\n",
      "14                 Houston         houston rockets\n",
      "15                 Atlanta           atlanta hawks\n",
      "16               Cleveland     cleveland cavaliers\n",
      "17               Charlotte       charlotte hornets\n",
      "18            Indianapolis                     NaN\n",
      "19               Milwaukee         milwaukee bucks\n",
      "20             New Orleans    new orleans pelicans\n",
      "21                 Orlando           orlando magic\n",
      "22                Portland  portland trail blazers\n",
      "23          Salt Lake City                     NaN\n",
      "24             San Antonio       san antonio spurs\n",
      "25              Sacramento        sacramento kings\n",
      "26           Oklahoma City   oklahoma city thunder\n",
      "27                 Memphis       memphis grizzlies\n"
     ]
    }
   ],
   "source": [
    "# having the area_team column  in common between the two DataFrames we can merge them\n",
    "\n",
    "merge_areas = pd.merge(cities_nba, nba, how ='left',on=['area_team'])\n",
    "print(merge_areas.loc[:, [\"area\", \"team\"]])"
   ]
  },
  {
   "cell_type": "code",
   "execution_count": 11,
   "metadata": {},
   "outputs": [
    {
     "name": "stdout",
     "output_type": "stream",
     "text": [
      "                      team           area              area_team\n",
      "0          toronto raptors        Toronto         torontoraptors\n",
      "1           boston celtics         Boston          bostonceltics\n",
      "2       philadelphia 76ers   Philadelphia      philadelphia76ers\n",
      "3      cleveland cavaliers      Cleveland     clevelandcavaliers\n",
      "4           indiana pacers            NaN          indianapacers\n",
      "5               miami heat            NaN              miamiheat\n",
      "6          milwaukee bucks      Milwaukee         milwaukeebucks\n",
      "7       washington wizards            NaN      washingtonwizards\n",
      "8          detroit pistons        Detroit         detroitpistons\n",
      "9        charlotte hornets      Charlotte       charlottehornets\n",
      "10         new york knicks            NaN          newyorkknicks\n",
      "11           brooklyn nets            NaN           brooklynnets\n",
      "12           chicago bulls        Chicago           chicagobulls\n",
      "13           orlando magic        Orlando           orlandomagic\n",
      "14           atlanta hawks        Atlanta           atlantahawks\n",
      "15         houston rockets        Houston         houstonrockets\n",
      "16   golden state warriors            NaN    goldenstatewarriors\n",
      "17  portland trail blazers       Portland   portlandtrailblazers\n",
      "18   oklahoma city thunder  Oklahoma City    oklahomacitythunder\n",
      "19               utah jazz            NaN               utahjazz\n",
      "20    new orleans pelicans    New Orleans     neworleanspelicans\n",
      "21       san antonio spurs    San Antonio        sanantoniospurs\n",
      "22  minnesota timberwolves            NaN  minnesotatimberwolves\n",
      "23          denver nuggets         Denver          denvernuggets\n",
      "24    los angeles clippers            NaN     losangelesclippers\n",
      "25      los angeles lakers            NaN       losangeleslakers\n",
      "26        sacramento kings     Sacramento        sacramentokings\n",
      "27        dallas mavericks            NaN        dallasmavericks\n",
      "28       memphis grizzlies        Memphis       memphisgrizzlies\n",
      "29            phoenix suns        Phoenix            phoenixsuns\n"
     ]
    }
   ],
   "source": [
    "merge_teams = pd.merge(nba, cities_nba, how='left', on=['area_team'])\n",
    "print(merge_teams.loc[:, [\"team\", \"area\",\"area_team\"]])"
   ]
  },
  {
   "cell_type": "code",
   "execution_count": 12,
   "metadata": {},
   "outputs": [
    {
     "name": "stdout",
     "output_type": "stream",
     "text": [
      "                      team   W   L              area_team area  pop  nba\n",
      "4           indiana pacers  48  34          indianapacers  NaN  NaN  NaN\n",
      "5               miami heat  44  38              miamiheat  NaN  NaN  NaN\n",
      "7       washington wizards  43  39      washingtonwizards  NaN  NaN  NaN\n",
      "10         new york knicks  29  53          newyorkknicks  NaN  NaN  NaN\n",
      "11           brooklyn nets  28  54           brooklynnets  NaN  NaN  NaN\n",
      "16   golden state warriors  58  24    goldenstatewarriors  NaN  NaN  NaN\n",
      "19               utah jazz  48  34               utahjazz  NaN  NaN  NaN\n",
      "22  minnesota timberwolves  47  35  minnesotatimberwolves  NaN  NaN  NaN\n",
      "24    los angeles clippers  42  40     losangelesclippers  NaN  NaN  NaN\n",
      "25      los angeles lakers  35  47       losangeleslakers  NaN  NaN  NaN\n",
      "27        dallas mavericks  24  58        dallasmavericks  NaN  NaN  NaN\n"
     ]
    }
   ],
   "source": [
    "teams_no_clear_area = merge_teams[merge_teams['area'].isna()]\n",
    "print(teams_no_clear_area)"
   ]
  },
  {
   "cell_type": "code",
   "execution_count": 13,
   "metadata": {},
   "outputs": [],
   "source": [
    "areas_no_clear_team = merge_areas[merge_areas[\"team\"].isna()]"
   ]
  },
  {
   "cell_type": "markdown",
   "metadata": {},
   "source": [
    "### Processing the no-matches manually\n",
    "As the area_team can have different value depeding on the dataframe, certain teams end up with no match in the merged dataframe. Some of those teams can be associated easily by manual visual inspection, while other might require further search"
   ]
  },
  {
   "cell_type": "code",
   "execution_count": 14,
   "metadata": {},
   "outputs": [
    {
     "name": "stdout",
     "output_type": "stream",
     "text": [
      "             team_no_area                       area_no_name\n",
      "0           indianapacers              newyorkcityknicksnets\n",
      "1               miamiheat           losangeleslakersclippers\n",
      "2       washingtonwizards        sanfranciscobayareawarriors\n",
      "3           newyorkknicks          dallas–fortworthmavericks\n",
      "4            brooklynnets             washington,d.c.wizards\n",
      "5     goldenstatewarriors  minneapolis–saintpaultimberwolves\n",
      "6                utahjazz           miami–fortlauderdaleheat\n",
      "7   minnesotatimberwolves                 indianapolispacers\n",
      "8      losangelesclippers                   saltlakecityjazz\n",
      "9        losangeleslakers                                NaN\n",
      "10        dallasmavericks                                NaN\n"
     ]
    }
   ],
   "source": [
    "# the teams left out with no clear area name are to be processed manually\n",
    "# first let's consider the possibility of a mapping between the column [area_team] in the nba DF\n",
    "# and the column [area_team] in the nba_cities DF\n",
    "\n",
    "area_team_no_match_nba_DF = teams_no_clear_area.set_index(pd.Index(range(len(teams_no_clear_area))))['area_team']\n",
    "area_team_no_match_cities_nba_DF = areas_no_clear_team.set_index(pd.Index(range(len(areas_no_clear_team))))['area_team']\n",
    "\n",
    "no_match = pd.DataFrame({\"team_no_area\": area_team_no_match_nba_DF, \"area_no_name\": area_team_no_match_cities_nba_DF})\n",
    "print(no_match)"
   ]
  },
  {
   "cell_type": "code",
   "execution_count": 15,
   "metadata": {},
   "outputs": [
    {
     "name": "stdout",
     "output_type": "stream",
     "text": [
      "                      area                    team              area_team\n",
      "0                  Toronto         toronto raptors         torontoraptors\n",
      "1                   Boston          boston celtics          bostonceltics\n",
      "2             Philadelphia      philadelphia 76ers      philadelphia76ers\n",
      "3                Cleveland     cleveland cavaliers     clevelandcavaliers\n",
      "4             Indianapolis          indiana pacers          indianapacers\n",
      "5    Miami–Fort Lauderdale              miami heat              miamiheat\n",
      "6                Milwaukee         milwaukee bucks         milwaukeebucks\n",
      "7         Washington, D.C.      washington wizards      washingtonwizards\n",
      "8                  Detroit         detroit pistons         detroitpistons\n",
      "9                Charlotte       charlotte hornets       charlottehornets\n",
      "10           New York City         new york knicks          newyorkknicks\n",
      "11                     NaN           brooklyn nets           brooklynnets\n",
      "12                 Chicago           chicago bulls           chicagobulls\n",
      "13                 Orlando           orlando magic           orlandomagic\n",
      "14                 Atlanta           atlanta hawks           atlantahawks\n",
      "15                 Houston         houston rockets         houstonrockets\n",
      "16  San Francisco Bay Area   golden state warriors    goldenstatewarriors\n",
      "17                Portland  portland trail blazers   portlandtrailblazers\n",
      "18           Oklahoma City   oklahoma city thunder    oklahomacitythunder\n",
      "19          Salt Lake City               utah jazz               utahjazz\n",
      "20             New Orleans    new orleans pelicans     neworleanspelicans\n",
      "21             San Antonio       san antonio spurs        sanantoniospurs\n",
      "22  Minneapolis–Saint Paul  minnesota timberwolves  minnesotatimberwolves\n",
      "23                  Denver          denver nuggets          denvernuggets\n",
      "24                     NaN    los angeles clippers     losangelesclippers\n",
      "25             Los Angeles      los angeles lakers       losangeleslakers\n",
      "26              Sacramento        sacramento kings        sacramentokings\n",
      "27       Dallas–Fort Worth        dallas mavericks        dallasmavericks\n",
      "28                 Memphis       memphis grizzlies       memphisgrizzlies\n",
      "29                 Phoenix            phoenix suns            phoenixsuns\n"
     ]
    }
   ],
   "source": [
    "# the last dataframe made it easy to see the mapping betweent the two columns\n",
    "# the following dictionary reflects the mapping\n",
    "\n",
    "mapping = {\"newyorkcityknicksnets\": \"newyorkknicks\", \"losangeleslakersclippers\": \"losangeleslakers\", \"sanfranciscobayareawarriors\":\"goldenstatewarriors\"\n",
    ", 'dallas–fortworthmavericks': \"dallasmavericks\", \"washington,d.c.wizards\": \"washingtonwizards\", \"minneapolis–saintpaultimberwolves\": \"minnesotatimberwolves\"\n",
    ", \"miami–fortlauderdaleheat\": \"miamiheat\", \"indianapolispacers\": \"indianapacers\", \"saltlakecityjazz\": \"utahjazz\"}\n",
    "# the next step is to map the old area_team names in the cities_nba DF to their respective mapped value  \n",
    "\n",
    "cities_nba['area_team'] = cities_nba['area_team'].apply(lambda x: mapping[x].strip() if x in mapping else x)\n",
    "\n",
    "merge_teams = pd.merge(nba, cities_nba, how='left', on=['area_team'])\n",
    "print(merge_teams.loc[: , ['area', 'team', 'area_team']])"
   ]
  },
  {
   "cell_type": "code",
   "execution_count": 16,
   "metadata": {},
   "outputs": [
    {
     "name": "stdout",
     "output_type": "stream",
     "text": [
      "LEFT OUT TEAMS\n",
      "11           brooklyn nets\n",
      "24    los angeles clippers\n",
      "Name: team, dtype: object\n",
      "\n",
      "AREAS:\n",
      "0              New York City\n",
      "1                Los Angeles\n",
      "2     San Francisco Bay Area\n",
      "3                    Chicago\n",
      "4          Dallas–Fort Worth\n",
      "5           Washington, D.C.\n",
      "6               Philadelphia\n",
      "7                     Boston\n",
      "8     Minneapolis–Saint Paul\n",
      "9                     Denver\n",
      "10     Miami–Fort Lauderdale\n",
      "11                   Phoenix\n",
      "12                   Detroit\n",
      "13                   Toronto\n",
      "14                   Houston\n",
      "15                   Atlanta\n",
      "16                 Cleveland\n",
      "17                 Charlotte\n",
      "18              Indianapolis\n",
      "19                 Milwaukee\n",
      "20               New Orleans\n",
      "21                   Orlando\n",
      "22                  Portland\n",
      "23            Salt Lake City\n",
      "24               San Antonio\n",
      "25                Sacramento\n",
      "26             Oklahoma City\n",
      "27                   Memphis\n",
      "Name: area, dtype: object\n"
     ]
    }
   ],
   "source": [
    "print(\"LEFT OUT TEAMS\")\n",
    "print(merge_teams[merge_teams['area'].isna()]['team'])\n",
    "print()\n",
    "print(\"AREAS:\")\n",
    "print(cities_nba['area'])"
   ]
  },
  {
   "cell_type": "code",
   "execution_count": 17,
   "metadata": {},
   "outputs": [
    {
     "name": "stdout",
     "output_type": "stream",
     "text": [
      "                      area                    team              area_team\n",
      "0                  Toronto         toronto raptors         torontoraptors\n",
      "1                   Boston          boston celtics          bostonceltics\n",
      "2             Philadelphia      philadelphia 76ers      philadelphia76ers\n",
      "3                Cleveland     cleveland cavaliers     clevelandcavaliers\n",
      "4             Indianapolis          indiana pacers          indianapacers\n",
      "5    Miami–Fort Lauderdale              miami heat              miamiheat\n",
      "6                Milwaukee         milwaukee bucks         milwaukeebucks\n",
      "7         Washington, D.C.      washington wizards      washingtonwizards\n",
      "8                  Detroit         detroit pistons         detroitpistons\n",
      "9                Charlotte       charlotte hornets       charlottehornets\n",
      "10           New York City         new york knicks          newyorkknicks\n",
      "11           New York City           brooklyn nets           brooklynnets\n",
      "12                 Chicago           chicago bulls           chicagobulls\n",
      "13                 Orlando           orlando magic           orlandomagic\n",
      "14                 Atlanta           atlanta hawks           atlantahawks\n",
      "15                 Houston         houston rockets         houstonrockets\n",
      "16  San Francisco Bay Area   golden state warriors    goldenstatewarriors\n",
      "17                Portland  portland trail blazers   portlandtrailblazers\n",
      "18           Oklahoma City   oklahoma city thunder    oklahomacitythunder\n",
      "19          Salt Lake City               utah jazz               utahjazz\n",
      "20             New Orleans    new orleans pelicans     neworleanspelicans\n",
      "21             San Antonio       san antonio spurs        sanantoniospurs\n",
      "22  Minneapolis–Saint Paul  minnesota timberwolves  minnesotatimberwolves\n",
      "23                  Denver          denver nuggets          denvernuggets\n",
      "24             Los Angeles    los angeles clippers     losangelesclippers\n",
      "25             Los Angeles      los angeles lakers       losangeleslakers\n",
      "26              Sacramento        sacramento kings        sacramentokings\n",
      "27       Dallas–Fort Worth        dallas mavericks        dallasmavericks\n",
      "28                 Memphis       memphis grizzlies       memphisgrizzlies\n",
      "29                 Phoenix            phoenix suns            phoenixsuns\n"
     ]
    }
   ],
   "source": [
    "team_area = {\"brooklyn nets\": \"New York City\", \"los angeles clippers\": \"Los Angeles\"}\n",
    "\n",
    "def set_areas(row):\n",
    "    if row['team'] in team_area:\n",
    "        row['area'] = team_area[row['team']]\n",
    "    return row\n",
    "merge_teams = merge_teams.apply(set_areas, axis=1)\n",
    "\n",
    "print(merge_teams.loc[: , ['area', 'team', 'area_team']])"
   ]
  },
  {
   "cell_type": "markdown",
   "metadata": {},
   "source": [
    "### Merge done: Time for statistics"
   ]
  },
  {
   "cell_type": "code",
   "execution_count": 18,
   "metadata": {},
   "outputs": [
    {
     "name": "stdout",
     "output_type": "stream",
     "text": [
      "                        win_loss_ratio         pop\n",
      "area                                              \n",
      "Atlanta                       0.292683   5789700.0\n",
      "Boston                        0.670732   4794447.0\n",
      "Charlotte                     0.439024   2474314.0\n",
      "Chicago                       0.329268   9512999.0\n",
      "Cleveland                     0.609756   2055612.0\n",
      "Dallas–Fort Worth             0.292683   7233323.0\n",
      "Denver                        0.560976   2853077.0\n",
      "Detroit                       0.475610   4297617.0\n",
      "Houston                       0.792683   6772470.0\n",
      "Indianapolis                  0.585366   2004230.0\n",
      "Los Angeles                   0.469512  13310447.0\n",
      "Memphis                       0.268293   1342842.0\n",
      "Miami–Fort Lauderdale         0.536585   6066387.0\n",
      "Milwaukee                     0.536585   1572482.0\n",
      "Minneapolis–Saint Paul        0.573171   3551036.0\n",
      "New Orleans                   0.585366   1268883.0\n",
      "New York City                 0.347561  20153634.0\n",
      "Oklahoma City                 0.585366   1373211.0\n",
      "Orlando                       0.304878   2441257.0\n",
      "Philadelphia                  0.634146   6070500.0\n",
      "Phoenix                       0.256098   4661537.0\n",
      "Portland                      0.597561   2424955.0\n",
      "Sacramento                    0.329268   2296418.0\n",
      "Salt Lake City                0.585366   1186187.0\n",
      "San Antonio                   0.573171   2429609.0\n",
      "San Francisco Bay Area        0.707317   6657982.0\n",
      "Toronto                       0.719512   5928040.0\n",
      "Washington, D.C.              0.524390   6131977.0\n"
     ]
    }
   ],
   "source": [
    "final_df = merge_teams.loc[:, ['area', 'team', 'W', 'L', 'pop']]\n",
    "final_df['win_loss_ratio'] = final_df['W'].astype(float) / (final_df['W'].astype(float) + final_df['L'].astype(float))\n",
    "final_df = final_df.loc[:, ['area', 'win_loss_ratio', 'pop']]\n",
    "# print(final_df)\n",
    "\n",
    "final_df = final_df.set_index('area').astype(float).groupby('area').agg({\"win_loss_ratio\":'mean', 'pop':'mean'})\n",
    "print(final_df)"
   ]
  },
  {
   "cell_type": "code",
   "execution_count": 19,
   "metadata": {},
   "outputs": [
    {
     "name": "stdout",
     "output_type": "stream",
     "text": [
      "                win_loss_ratio       pop\n",
      "win_loss_ratio        1.000000 -0.176572\n",
      "pop                  -0.176572  1.000000\n"
     ]
    }
   ],
   "source": [
    "print(final_df.corr())"
   ]
  },
  {
   "cell_type": "code",
   "execution_count": 20,
   "metadata": {},
   "outputs": [],
   "source": [
    "final_df.to_csv(final_nbl_path)"
   ]
  }
 ],
 "metadata": {
  "kernelspec": {
   "display_name": "Python 3.10.4 ('ds_env')",
   "language": "python",
   "name": "python3"
  },
  "language_info": {
   "codemirror_mode": {
    "name": "ipython",
    "version": 3
   },
   "file_extension": ".py",
   "mimetype": "text/x-python",
   "name": "python",
   "nbconvert_exporter": "python",
   "pygments_lexer": "ipython3",
   "version": "3.10.4"
  },
  "orig_nbformat": 4,
  "vscode": {
   "interpreter": {
    "hash": "006414dea9a04848ce797b510a25f3f28ac8668e3d3244e777242cca6bed477f"
   }
  }
 },
 "nbformat": 4,
 "nbformat_minor": 2
}
