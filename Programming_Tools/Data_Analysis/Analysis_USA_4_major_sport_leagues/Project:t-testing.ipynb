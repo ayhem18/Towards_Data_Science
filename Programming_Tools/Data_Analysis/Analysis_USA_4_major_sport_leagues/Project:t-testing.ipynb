{
 "cells": [
  {
   "cell_type": "markdown",
   "metadata": {},
   "source": [
    "## Overview\n",
    "This notebook is part of a data analysis task (mini-project) to asnwer the following question:\n",
    "Is a city population correlated with its team performance in the 4 American national Leagues(for year 2018):\n",
    "* NHL: Hockey league\n",
    "* nbl: Basketball league\n",
    "* MLB: Baseball League\n",
    "* NFL: Football (Americal football) League  \n",
    "\n",
    "This notebook puts everything together to answer our intial question using statistical tests"
   ]
  },
  {
   "cell_type": "markdown",
   "metadata": {},
   "source": [
    "## Load the data and compute the statistical tests"
   ]
  },
  {
   "cell_type": "code",
   "execution_count": 1,
   "metadata": {},
   "outputs": [],
   "source": [
    "import pandas as pd\n",
    "import numpy as np\n",
    "from scipy import stats \n",
    "from scipy.stats import ttest_ind\n",
    "from scipy.stats import ttest_rel\n",
    "\n",
    "from cleaning_data import final_nfl_path, final_mlb_path, final_nbl_path, final_nhl_path"
   ]
  },
  {
   "cell_type": "code",
   "execution_count": 2,
   "metadata": {},
   "outputs": [
    {
     "name": "stdout",
     "output_type": "stream",
     "text": [
      "                      area  win_loss_ratio_x       pop_x  win_loss_ratio_y  \\\n",
      "0                   Boston          0.670732   4794447.0          0.714286   \n",
      "1                  Chicago          0.329268   9512999.0          0.458333   \n",
      "2        Dallas–Fort Worth          0.292683   7233323.0          0.567568   \n",
      "3                   Denver          0.560976   2853077.0          0.589041   \n",
      "4                  Detroit          0.475610   4297617.0          0.434783   \n",
      "5              Los Angeles          0.469512  13310447.0          0.622895   \n",
      "6    Miami–Fort Lauderdale          0.536585   6066387.0          0.594595   \n",
      "7   Minneapolis–Saint Paul          0.573171   3551036.0          0.633803   \n",
      "8            New York City          0.347561  20153634.0          0.518201   \n",
      "9             Philadelphia          0.634146   6070500.0          0.617647   \n",
      "10                 Phoenix          0.256098   4661537.0          0.414286   \n",
      "11  San Francisco Bay Area          0.707317   6657982.0          0.625000   \n",
      "12                 Toronto          0.719512   5928040.0          0.653333   \n",
      "13        Washington, D.C.          0.524390   6131977.0          0.653333   \n",
      "\n",
      "         pop_y  \n",
      "0    4794447.0  \n",
      "1    9512999.0  \n",
      "2    7233323.0  \n",
      "3    2853077.0  \n",
      "4    4297617.0  \n",
      "5   13310447.0  \n",
      "6    6066387.0  \n",
      "7    3551036.0  \n",
      "8   20153634.0  \n",
      "9    6070500.0  \n",
      "10   4661537.0  \n",
      "11   6657982.0  \n",
      "12   5928040.0  \n",
      "13   6131977.0  \n"
     ]
    },
    {
     "data": {
      "text/plain": [
       "0.022297049643438753"
      ]
     },
     "execution_count": 2,
     "metadata": {},
     "output_type": "execute_result"
    }
   ],
   "source": [
    "# first let's load the data frames in question: \n",
    "\n",
    "nbl = pd.read_csv(final_nbl_path)\n",
    "nfl = pd.read_csv(final_nfl_path)\n",
    "mlb = pd.read_csv(final_mlb_path)\n",
    "nhl = pd.read_csv(final_nhl_path)\n",
    "merge = pd.merge(nbl, nhl, how='inner', on='area')\n",
    "print(merge)\n",
    "\n",
    "ttest_rel(merge['win_loss_ratio_x'], merge['win_loss_ratio_y'])[1]\n"
   ]
  },
  {
   "cell_type": "markdown",
   "metadata": {},
   "source": [
    "## Reaching the final step \n",
    "Among the main goals of this analysis was to test the following assumption: (hypothesis):\n",
    "\n",
    "Given that an area has two sports teams in different sports, those teams will perform the same within their respective sports. I explored this assumption with a series of paired t-tests between all pairs of sports. Are there any sports where we can reject the null hypothesis?(average values where a sport has multiple teams in one region) "
   ]
  },
  {
   "cell_type": "code",
   "execution_count": 3,
   "metadata": {},
   "outputs": [
    {
     "name": "stdout",
     "output_type": "stream",
     "text": [
      "          NFL       nbl       NHL       MLB\n",
      "NFL       NaN  0.941792  0.030883  0.802069\n",
      "nbl  0.941792       NaN  0.022297  0.950540\n",
      "NHL  0.030883  0.022297       NaN  0.000708\n",
      "MLB  0.802069  0.950540  0.000708       NaN\n"
     ]
    }
   ],
   "source": [
    "dic = {\"NFL\": nfl, \"nbl\": nbl, \"NHL\":nhl, \"MLB\": mlb } \n",
    "p_values = []\n",
    "for key1, value1 in dic.items():\n",
    "    lst = []\n",
    "    for key2, value2 in dic.items():\n",
    "        if key1 != key2:\n",
    "            merge = pd.merge(value1, value2, how='inner', on='area')\n",
    "            lst.append(ttest_rel(merge['win_loss_ratio_x'], merge['win_loss_ratio_y'])[1])\n",
    "        else:\n",
    "            lst.append(np.nan)\n",
    "        \n",
    "    p_values.append(lst)\n",
    "\n",
    "p_values = pd.DataFrame(p_values, columns=dic.keys(), index=dic.keys()) \n",
    "print(p_values )\n"
   ]
  },
  {
   "cell_type": "markdown",
   "metadata": {},
   "source": [
    "## Conclusion\n",
    "The p_values array can finally help us answer the question, assuming we are looking for 95\\% confidence interval, it is safe to assume that:\n",
    "* For the same area, there is no guarantee that NFL and NHL team will perform the same (win_loss ratio) \n",
    "* Given the same area, it is likely that NBA and MLB teams will perform similarly (p_value larger than 0.95 which statistically significant)"
   ]
  }
 ],
 "metadata": {
  "kernelspec": {
   "display_name": "Python 3.10.4 ('ds_env')",
   "language": "python",
   "name": "python3"
  },
  "language_info": {
   "codemirror_mode": {
    "name": "ipython",
    "version": 3
   },
   "file_extension": ".py",
   "mimetype": "text/x-python",
   "name": "python",
   "nbconvert_exporter": "python",
   "pygments_lexer": "ipython3",
   "version": "3.10.4"
  },
  "orig_nbformat": 4,
  "vscode": {
   "interpreter": {
    "hash": "006414dea9a04848ce797b510a25f3f28ac8668e3d3244e777242cca6bed477f"
   }
  }
 },
 "nbformat": 4,
 "nbformat_minor": 2
}
