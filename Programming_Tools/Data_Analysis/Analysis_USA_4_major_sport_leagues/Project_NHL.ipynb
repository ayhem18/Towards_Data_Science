{
 "cells": [
  {
   "cell_type": "markdown",
   "metadata": {},
   "source": [
    "## Overview\n",
    "This notebook is part of a data analysis task (mini-project) to asnwer the following question:\n",
    "what is the win/loss ratio's correlation with the population of the city it is in? are these correlations different between the four major leagues ?\n",
    "Is a city population correlated with its team performance in the 4 American national Leagues(for year 2018):\n",
    "* NHL: Hockey league\n",
    "* NBA: Basketball league\n",
    "* MLB: Baseball League\n",
    "* NFL: Football (Americal football) League\n",
    "This notebook considerers the National Hockey League."
   ]
  },
  {
   "cell_type": "markdown",
   "metadata": {},
   "source": [
    "## Preliminary work: Imports and Loading the data"
   ]
  },
  {
   "cell_type": "code",
   "execution_count": 1,
   "metadata": {},
   "outputs": [],
   "source": [
    "import pandas as pd\n",
    "import numpy as np\n",
    "import re\n",
    "import os\n",
    "import cleaning_data as c\n",
    "year = 2018\n",
    "from cleaning_data import cities_original_path, cities_clean_path, nhl_path, final_nhl_path "
   ]
  },
  {
   "cell_type": "code",
   "execution_count": 2,
   "metadata": {},
   "outputs": [],
   "source": [
    "# cities_original_path = \"utility_files/wiki_data.html\"\n",
    "# cities_clean_path = \"utility_files/cities.csv\" \n",
    "# nhl_path = \"utility_files/nhl.csv\"\n",
    "# final_nhl_path = \"nhl_final.csv\""
   ]
  },
  {
   "cell_type": "code",
   "execution_count": 3,
   "metadata": {},
   "outputs": [],
   "source": [
    "# load the clean cities dataset\n",
    "if not os.path.exists(cities_clean_path):\n",
    "    c.clean_city_data(cities_original_path, cities_clean_path)\n"
   ]
  },
  {
   "cell_type": "code",
   "execution_count": 4,
   "metadata": {},
   "outputs": [],
   "source": [
    "# the original data frame\n",
    "nhl_df_org = pd.read_csv(nhl_path)\n",
    "cities = pd.read_csv(cities_clean_path)"
   ]
  },
  {
   "cell_type": "code",
   "execution_count": 5,
   "metadata": {},
   "outputs": [
    {
     "name": "stdout",
     "output_type": "stream",
     "text": [
      "0     RangersIslandersDevils[note 3]\n",
      "1                         KingsDucks\n",
      "2                     Sharks[note 7]\n",
      "3                         Blackhawks\n",
      "4                              Stars\n",
      "5                           Capitals\n",
      "6                    Flyers[note 13]\n",
      "7                             Bruins\n",
      "8                      Wild[note 16]\n",
      "9                 Avalanche[note 18]\n",
      "10                          Panthers\n",
      "11                           Coyotes\n",
      "12                         Red Wings\n",
      "13                       Maple Leafs\n",
      "14                                 —\n",
      "15                         [note 25]\n",
      "16                         Lightning\n",
      "17                 Penguins[note 28]\n",
      "18                         [note 32]\n",
      "19                         [note 34]\n",
      "20                                 —\n",
      "21                         [note 39]\n",
      "22                    Blues[note 43]\n",
      "23                                 —\n",
      "24                                 —\n",
      "25                                 —\n",
      "26                         Predators\n",
      "27                                 —\n",
      "28                                 —\n",
      "29                            Sabres\n",
      "30                         Canadiens\n",
      "31                           Canucks\n",
      "32                                 —\n",
      "33                                 —\n",
      "34                      Blue Jackets\n",
      "35                            Flames\n",
      "36                          Senators\n",
      "37                            Oilers\n",
      "38                                 —\n",
      "39                     Jets[note 61]\n",
      "40                                 —\n",
      "41                                 —\n",
      "42                                 —\n",
      "43                    Golden Knights\n",
      "44                                 —\n",
      "45                                 —\n",
      "46                                 —\n",
      "47                        Hurricanes\n",
      "48                                 —\n",
      "49                         [note 71]\n",
      "50                                 —\n",
      "Name: nhl, dtype: object\n"
     ]
    }
   ],
   "source": [
    "print(cities['nhl'])\n",
    "\n",
    "# as we can see the teams' names require additional preprocessing to remove unnecessary characters\n",
    "# cities_nhl is a dataframe that contain the information related solely to the nhl sport and cities\n",
    "nhl_cols = ['area', 'pop', 'nhl']\n",
    "cities_nhl = cities.copy().loc[:, nhl_cols]"
   ]
  },
  {
   "cell_type": "markdown",
   "metadata": {},
   "source": [
    "## Cleaning the team names \n",
    "The cities dataframes contain information about the NHL teams associated with each area. The names tend to include unnecessary filler characters that should be removed for further manipulation"
   ]
  },
  {
   "cell_type": "code",
   "execution_count": 6,
   "metadata": {},
   "outputs": [
    {
     "name": "stdout",
     "output_type": "stream",
     "text": [
      "                      area       pop                     nhl\n",
      "0            New York City  20153634  rangersislandersdevils\n",
      "1              Los Angeles  13310447              kingsducks\n",
      "2   San Francisco Bay Area   6657982                  sharks\n",
      "3                  Chicago   9512999              blackhawks\n",
      "4        Dallas–Fort Worth   7233323                   stars\n",
      "5         Washington, D.C.   6131977                capitals\n",
      "6             Philadelphia   6070500                  flyers\n",
      "7                   Boston   4794447                  bruins\n",
      "8   Minneapolis–Saint Paul   3551036                    wild\n",
      "9                   Denver   2853077               avalanche\n",
      "10   Miami–Fort Lauderdale   6066387                panthers\n",
      "11                 Phoenix   4661537                 coyotes\n",
      "12                 Detroit   4297617               red wings\n",
      "13                 Toronto   5928040             maple leafs\n",
      "16          Tampa Bay Area   3032171               lightning\n",
      "17              Pittsburgh   2342299                penguins\n",
      "22               St. Louis   2807002                   blues\n",
      "26               Nashville   1865298               predators\n",
      "29                 Buffalo   1132804                  sabres\n",
      "30                Montreal   4098927               canadiens\n",
      "31               Vancouver   2463431                 canucks\n",
      "34                Columbus   2041520            blue jackets\n",
      "35                 Calgary   1392609                  flames\n",
      "36                  Ottawa   1323783                senators\n",
      "37                Edmonton   1321426                  oilers\n",
      "39                Winnipeg    778489                    jets\n",
      "43               Las Vegas   2155664          golden knights\n",
      "47                 Raleigh   1302946              hurricanes\n",
      "after indexing\n",
      "################################################################################\n",
      "                      area       pop                     nhl\n",
      "0            New York City  20153634  rangersislandersdevils\n",
      "1              Los Angeles  13310447              kingsducks\n",
      "2   San Francisco Bay Area   6657982                  sharks\n",
      "3                  Chicago   9512999              blackhawks\n",
      "4        Dallas–Fort Worth   7233323                   stars\n",
      "5         Washington, D.C.   6131977                capitals\n",
      "6             Philadelphia   6070500                  flyers\n",
      "7                   Boston   4794447                  bruins\n",
      "8   Minneapolis–Saint Paul   3551036                    wild\n",
      "9                   Denver   2853077               avalanche\n",
      "10   Miami–Fort Lauderdale   6066387                panthers\n",
      "11                 Phoenix   4661537                 coyotes\n",
      "12                 Detroit   4297617               red wings\n",
      "13                 Toronto   5928040             maple leafs\n",
      "14          Tampa Bay Area   3032171               lightning\n",
      "15              Pittsburgh   2342299                penguins\n",
      "16               St. Louis   2807002                   blues\n",
      "17               Nashville   1865298               predators\n",
      "18                 Buffalo   1132804                  sabres\n",
      "19                Montreal   4098927               canadiens\n",
      "20               Vancouver   2463431                 canucks\n",
      "21                Columbus   2041520            blue jackets\n",
      "22                 Calgary   1392609                  flames\n",
      "23                  Ottawa   1323783                senators\n",
      "24                Edmonton   1321426                  oilers\n",
      "25                Winnipeg    778489                    jets\n",
      "26               Las Vegas   2155664          golden knights\n",
      "27                 Raleigh   1302946              hurricanes\n"
     ]
    }
   ],
   "source": [
    "def clean_team_name(name):\n",
    "    # remove anything written between brackets [] \n",
    "    name_1 = re.sub('\\[.*\\]', \"\", name)\n",
    "    # convert to lower case and remove indenting spaces\n",
    "    return name_1.lower().strip()\n",
    "\n",
    "cities_nhl['nhl'] = cities_nhl['nhl'].apply(clean_team_name)\n",
    "# removing non-ascii characters\n",
    "cities_nhl['nhl'] = cities_nhl['nhl'].apply(lambda x: re.sub(\"[^\\x00-\\xFF]\", \"\", x)) \n",
    "# final cleaning step\n",
    "cities_nhl['nhl'] = cities_nhl['nhl'].apply(lambda x: re.sub(\"[^(A-Z)(a-z)\\d\\s]\", \"\", x))\n",
    "\n",
    "# at this point cities with no nhl team are assigned the empty string in the \"nhl\" column\n",
    "# keep the cities with nhl teams\n",
    "cities_nhl = cities_nhl[cities_nhl['nhl'] != ''] \n",
    "print(cities_nhl)\n",
    "# set the index to a numerical series from 0 to the size of the dataframe\n",
    "custom_index = pd.Index(range(len(cities_nhl)))\n",
    "cities_nhl = cities_nhl.set_index(custom_index)\n",
    "\n",
    "## after indexing\n",
    "\n",
    "print(\"after indexing\")\n",
    "print(\"##\" * 40)\n",
    "\n",
    "print(cities_nhl)"
   ]
  },
  {
   "cell_type": "code",
   "execution_count": 7,
   "metadata": {},
   "outputs": [
    {
     "name": "stdout",
     "output_type": "stream",
     "text": [
      "                      area                     nhl  \\\n",
      "0            New York City  rangersislandersdevils   \n",
      "1              Los Angeles              kingsducks   \n",
      "2   San Francisco Bay Area                  sharks   \n",
      "3                  Chicago              blackhawks   \n",
      "4        Dallas–Fort Worth                   stars   \n",
      "5         Washington, D.C.                capitals   \n",
      "6             Philadelphia                  flyers   \n",
      "7                   Boston                  bruins   \n",
      "8   Minneapolis–Saint Paul                    wild   \n",
      "9                   Denver               avalanche   \n",
      "10   Miami–Fort Lauderdale                panthers   \n",
      "11                 Phoenix                 coyotes   \n",
      "12                 Detroit               red wings   \n",
      "13                 Toronto             maple leafs   \n",
      "14          Tampa Bay Area               lightning   \n",
      "15              Pittsburgh                penguins   \n",
      "16               St. Louis                   blues   \n",
      "17               Nashville               predators   \n",
      "18                 Buffalo                  sabres   \n",
      "19                Montreal               canadiens   \n",
      "20               Vancouver                 canucks   \n",
      "21                Columbus            blue jackets   \n",
      "22                 Calgary                  flames   \n",
      "23                  Ottawa                senators   \n",
      "24                Edmonton                  oilers   \n",
      "25                Winnipeg                    jets   \n",
      "26               Las Vegas          golden knights   \n",
      "27                 Raleigh              hurricanes   \n",
      "\n",
      "                            area_team  \n",
      "0   newyorkcityrangersislandersdevils  \n",
      "1                losangeleskingsducks  \n",
      "2           sanfranciscobayareasharks  \n",
      "3                   chicagoblackhawks  \n",
      "4               dallas–fortworthstars  \n",
      "5             washington,d.c.capitals  \n",
      "6                  philadelphiaflyers  \n",
      "7                        bostonbruins  \n",
      "8           minneapolis–saintpaulwild  \n",
      "9                     denveravalanche  \n",
      "10       miami–fortlauderdalepanthers  \n",
      "11                     phoenixcoyotes  \n",
      "12                    detroitredwings  \n",
      "13                  torontomapleleafs  \n",
      "14              tampabayarealightning  \n",
      "15                 pittsburghpenguins  \n",
      "16                      st.louisblues  \n",
      "17                 nashvillepredators  \n",
      "18                      buffalosabres  \n",
      "19                  montrealcanadiens  \n",
      "20                   vancouvercanucks  \n",
      "21                columbusbluejackets  \n",
      "22                      calgaryflames  \n",
      "23                     ottawasenators  \n",
      "24                     edmontonoilers  \n",
      "25                       winnipegjets  \n",
      "26              lasvegasgoldenknights  \n",
      "27                  raleighhurricanes  \n"
     ]
    }
   ],
   "source": [
    "# in order to map each team with its area, a new column should be added \n",
    "# that groups both the area/city name as well as the team's name\n",
    "\n",
    "def area_team(row):\n",
    "    area_no_space = re.sub(\"\\s\", \"\", row['area']).strip().lower()\n",
    "    team_no_space = re.sub(\"\\s\", \"\", row['nhl']).strip().lower()\n",
    "    return area_no_space + team_no_space\n",
    "\n",
    "cities_nhl['area_team'] = cities_nhl.apply(area_team, axis=1)\n",
    "print(cities_nhl.loc[:, [\"area\",  \"nhl\", \"area_team\"]])"
   ]
  },
  {
   "cell_type": "markdown",
   "metadata": {},
   "source": [
    "## Clean the NHL data\n",
    "We will know consider the NHL teams' data (the data is provided independently from areas in this dataframe)"
   ]
  },
  {
   "cell_type": "code",
   "execution_count": 8,
   "metadata": {},
   "outputs": [
    {
     "name": "stdout",
     "output_type": "stream",
     "text": [
      "Index(['team', 'GP', 'W', 'L', 'OL', 'PTS', 'PTS%', 'GF', 'GA', 'SRS', 'SOS',\n",
      "       'RPt%', 'ROW', 'year', 'League'],\n",
      "      dtype='object')\n"
     ]
    }
   ],
   "source": [
    "# it is time to consider the nhl DataFrame\n",
    "nhl_org = pd.read_csv(\"utility_files/nhl.csv\")\n",
    "nhl = nhl_org[nhl_org['year'] == year]\n",
    "print(nhl.columns)"
   ]
  },
  {
   "cell_type": "code",
   "execution_count": 9,
   "metadata": {},
   "outputs": [
    {
     "name": "stdout",
     "output_type": "stream",
     "text": [
      "0          Atlantic Division\n",
      "1       Tampa Bay Lightning*\n",
      "2             Boston Bruins*\n",
      "3       Toronto Maple Leafs*\n",
      "4           Florida Panthers\n",
      "5          Detroit Red Wings\n",
      "6         Montreal Canadiens\n",
      "7            Ottawa Senators\n",
      "8             Buffalo Sabres\n",
      "9      Metropolitan Division\n",
      "10      Washington Capitals*\n",
      "11      Pittsburgh Penguins*\n",
      "12      Philadelphia Flyers*\n",
      "13    Columbus Blue Jackets*\n",
      "14        New Jersey Devils*\n",
      "15       Carolina Hurricanes\n",
      "16        New York Islanders\n",
      "17          New York Rangers\n",
      "18          Central Division\n",
      "19      Nashville Predators*\n",
      "20            Winnipeg Jets*\n",
      "21           Minnesota Wild*\n",
      "22       Colorado Avalanche*\n",
      "23           St. Louis Blues\n",
      "24              Dallas Stars\n",
      "25        Chicago Blackhawks\n",
      "26          Pacific Division\n",
      "27     Vegas Golden Knights*\n",
      "28            Anaheim Ducks*\n",
      "29          San Jose Sharks*\n",
      "30        Los Angeles Kings*\n",
      "31            Calgary Flames\n",
      "32           Edmonton Oilers\n",
      "33         Vancouver Canucks\n",
      "34           Arizona Coyotes\n",
      "Name: team, dtype: object\n"
     ]
    }
   ],
   "source": [
    "# among the columns we are only interested in the team, win (W) and loss (L) columns\n",
    "cols = [\"team\", \"W\", \"L\"]\n",
    "nhl = nhl.loc[:, cols]\n",
    "print(nhl['team'])\n"
   ]
  },
  {
   "cell_type": "code",
   "execution_count": 10,
   "metadata": {},
   "outputs": [
    {
     "name": "stdout",
     "output_type": "stream",
     "text": [
      "                     team   W   L\n",
      "0     tampa bay lightning  54  23\n",
      "1           boston bruins  50  20\n",
      "2     toronto maple leafs  49  26\n",
      "3        florida panthers  44  30\n",
      "4       detroit red wings  30  39\n",
      "5      montreal canadiens  29  40\n",
      "6         ottawa senators  28  43\n",
      "7          buffalo sabres  25  45\n",
      "8     washington capitals  49  26\n",
      "9     pittsburgh penguins  47  29\n",
      "10    philadelphia flyers  42  26\n",
      "11  columbus blue jackets  45  30\n",
      "12      new jersey devils  44  29\n",
      "13    carolina hurricanes  36  35\n",
      "14     new york islanders  35  37\n",
      "15       new york rangers  34  39\n",
      "16    nashville predators  53  18\n",
      "17          winnipeg jets  52  20\n",
      "18         minnesota wild  45  26\n",
      "19     colorado avalanche  43  30\n",
      "20         st louis blues  44  32\n",
      "21           dallas stars  42  32\n",
      "22     chicago blackhawks  33  39\n",
      "23   vegas golden knights  51  24\n",
      "24          anaheim ducks  44  25\n",
      "25        san jose sharks  45  27\n",
      "26      los angeles kings  45  29\n",
      "27         calgary flames  37  35\n",
      "28        edmonton oilers  36  40\n",
      "29      vancouver canucks  31  40\n",
      "30        arizona coyotes  29  41\n"
     ]
    }
   ],
   "source": [
    "# at first glance we can detect at least 2 main issues with the team column:\n",
    "# 1. the need for reformatting the names\n",
    "# 2. removing the rows declaring the teams' divisions\n",
    "\n",
    "def clean_team_name_nhl(name):\n",
    "    return re.sub(\"[^(A-z)(a-z)\\d\\s]\", \"\", name).strip().lower()\n",
    "\n",
    "# addressing problem 1\n",
    "nhl['team'] = nhl['team'].apply(clean_team_name_nhl)\n",
    "\n",
    "# addressing problem 2\n",
    "nhl = nhl[~nhl['team'].str.contains(\"division\")]\n",
    "\n",
    "# setting a custom index\n",
    "nhl_custom_index = pd.Index(range(len(nhl)))\n",
    "\n",
    "nhl = nhl.set_index(nhl_custom_index)\n",
    "\n",
    "print(nhl)"
   ]
  },
  {
   "cell_type": "code",
   "execution_count": 11,
   "metadata": {},
   "outputs": [
    {
     "name": "stdout",
     "output_type": "stream",
     "text": [
      "                     team   W   L            area_team\n",
      "0     tampa bay lightning  54  23    tampabaylightning\n",
      "1           boston bruins  50  20         bostonbruins\n",
      "2     toronto maple leafs  49  26    torontomapleleafs\n",
      "3        florida panthers  44  30      floridapanthers\n",
      "4       detroit red wings  30  39      detroitredwings\n",
      "5      montreal canadiens  29  40    montrealcanadiens\n",
      "6         ottawa senators  28  43       ottawasenators\n",
      "7          buffalo sabres  25  45        buffalosabres\n",
      "8     washington capitals  49  26   washingtoncapitals\n",
      "9     pittsburgh penguins  47  29   pittsburghpenguins\n",
      "10    philadelphia flyers  42  26   philadelphiaflyers\n",
      "11  columbus blue jackets  45  30  columbusbluejackets\n",
      "12      new jersey devils  44  29      newjerseydevils\n",
      "13    carolina hurricanes  36  35   carolinahurricanes\n",
      "14     new york islanders  35  37     newyorkislanders\n",
      "15       new york rangers  34  39       newyorkrangers\n",
      "16    nashville predators  53  18   nashvillepredators\n",
      "17          winnipeg jets  52  20         winnipegjets\n",
      "18         minnesota wild  45  26        minnesotawild\n",
      "19     colorado avalanche  43  30    coloradoavalanche\n",
      "20         st louis blues  44  32         stlouisblues\n",
      "21           dallas stars  42  32          dallasstars\n",
      "22     chicago blackhawks  33  39    chicagoblackhawks\n",
      "23   vegas golden knights  51  24   vegasgoldenknights\n",
      "24          anaheim ducks  44  25         anaheimducks\n",
      "25        san jose sharks  45  27        sanjosesharks\n",
      "26      los angeles kings  45  29      losangeleskings\n",
      "27         calgary flames  37  35        calgaryflames\n",
      "28        edmonton oilers  36  40       edmontonoilers\n",
      "29      vancouver canucks  31  40     vancouvercanucks\n",
      "30        arizona coyotes  29  41       arizonacoyotes\n"
     ]
    }
   ],
   "source": [
    "# time to add the area_team name column to the nhl DataFrame\n",
    "nhl['area_team'] = nhl['team'].apply(lambda x: re.sub(\"\\s\",\"\", x).strip().lower())\n",
    "print(nhl)"
   ]
  },
  {
   "cell_type": "markdown",
   "metadata": {},
   "source": [
    "## Map Areas and Teams\n",
    "The objective is to map every team in the nhl dataframe to an area/city in the cities_nhl dataframe.  \n",
    "\n",
    "The first step is to merge the two dataframes on the area_team column: As the area_team column is designed to represent the combination of a team and its area, this step should associate most of NHL teams with their respective areas.  \n",
    "\n",
    "The rest should be processed separately."
   ]
  },
  {
   "cell_type": "code",
   "execution_count": 12,
   "metadata": {},
   "outputs": [
    {
     "name": "stdout",
     "output_type": "stream",
     "text": [
      "                      area                   team\n",
      "0            New York City                    NaN\n",
      "1              Los Angeles                    NaN\n",
      "2   San Francisco Bay Area                    NaN\n",
      "3                  Chicago     chicago blackhawks\n",
      "4        Dallas–Fort Worth                    NaN\n",
      "5         Washington, D.C.                    NaN\n",
      "6             Philadelphia    philadelphia flyers\n",
      "7                   Boston          boston bruins\n",
      "8   Minneapolis–Saint Paul                    NaN\n",
      "9                   Denver                    NaN\n",
      "10   Miami–Fort Lauderdale                    NaN\n",
      "11                 Phoenix                    NaN\n",
      "12                 Detroit      detroit red wings\n",
      "13                 Toronto    toronto maple leafs\n",
      "14          Tampa Bay Area                    NaN\n",
      "15              Pittsburgh    pittsburgh penguins\n",
      "16               St. Louis                    NaN\n",
      "17               Nashville    nashville predators\n",
      "18                 Buffalo         buffalo sabres\n",
      "19                Montreal     montreal canadiens\n",
      "20               Vancouver      vancouver canucks\n",
      "21                Columbus  columbus blue jackets\n",
      "22                 Calgary         calgary flames\n",
      "23                  Ottawa        ottawa senators\n",
      "24                Edmonton        edmonton oilers\n",
      "25                Winnipeg          winnipeg jets\n",
      "26               Las Vegas                    NaN\n",
      "27                 Raleigh                    NaN\n"
     ]
    }
   ],
   "source": [
    "# having the area_team column  in common between the two DataFrames we can merge them\n",
    "\n",
    "merge_areas = pd.merge(cities_nhl, nhl, how ='left',on=['area_team'])\n",
    "print(merge_areas.loc[:, [\"area\", \"team\"]])"
   ]
  },
  {
   "cell_type": "code",
   "execution_count": 13,
   "metadata": {},
   "outputs": [
    {
     "name": "stdout",
     "output_type": "stream",
     "text": [
      "                     team          area            area_team\n",
      "0     tampa bay lightning           NaN    tampabaylightning\n",
      "1           boston bruins        Boston         bostonbruins\n",
      "2     toronto maple leafs       Toronto    torontomapleleafs\n",
      "3        florida panthers           NaN      floridapanthers\n",
      "4       detroit red wings       Detroit      detroitredwings\n",
      "5      montreal canadiens      Montreal    montrealcanadiens\n",
      "6         ottawa senators        Ottawa       ottawasenators\n",
      "7          buffalo sabres       Buffalo        buffalosabres\n",
      "8     washington capitals           NaN   washingtoncapitals\n",
      "9     pittsburgh penguins    Pittsburgh   pittsburghpenguins\n",
      "10    philadelphia flyers  Philadelphia   philadelphiaflyers\n",
      "11  columbus blue jackets      Columbus  columbusbluejackets\n",
      "12      new jersey devils           NaN      newjerseydevils\n",
      "13    carolina hurricanes           NaN   carolinahurricanes\n",
      "14     new york islanders           NaN     newyorkislanders\n",
      "15       new york rangers           NaN       newyorkrangers\n",
      "16    nashville predators     Nashville   nashvillepredators\n",
      "17          winnipeg jets      Winnipeg         winnipegjets\n",
      "18         minnesota wild           NaN        minnesotawild\n",
      "19     colorado avalanche           NaN    coloradoavalanche\n",
      "20         st louis blues           NaN         stlouisblues\n",
      "21           dallas stars           NaN          dallasstars\n",
      "22     chicago blackhawks       Chicago    chicagoblackhawks\n",
      "23   vegas golden knights           NaN   vegasgoldenknights\n",
      "24          anaheim ducks           NaN         anaheimducks\n",
      "25        san jose sharks           NaN        sanjosesharks\n",
      "26      los angeles kings           NaN      losangeleskings\n",
      "27         calgary flames       Calgary        calgaryflames\n",
      "28        edmonton oilers      Edmonton       edmontonoilers\n",
      "29      vancouver canucks     Vancouver     vancouvercanucks\n",
      "30        arizona coyotes           NaN       arizonacoyotes\n"
     ]
    }
   ],
   "source": [
    "merge_teams = pd.merge(nhl, cities_nhl, how='left', on=['area_team'])\n",
    "print(merge_teams.loc[:, [\"team\", \"area\",\"area_team\"]])"
   ]
  },
  {
   "cell_type": "markdown",
   "metadata": {},
   "source": [
    "### Teams without a match in area_team column\n",
    "Due to the different versions of certain team names, certain teams do not match their cities in the cities dataset. However, this association can be easily inferred by investigating manually the area_team column.\n",
    "\n",
    "The two versions of this column (Generally) share an inner word, syllabe..."
   ]
  },
  {
   "cell_type": "code",
   "execution_count": 14,
   "metadata": {},
   "outputs": [
    {
     "name": "stdout",
     "output_type": "stream",
     "text": [
      "                    team   W   L           area_team area  pop  nhl\n",
      "0    tampa bay lightning  54  23   tampabaylightning  NaN  NaN  NaN\n",
      "3       florida panthers  44  30     floridapanthers  NaN  NaN  NaN\n",
      "8    washington capitals  49  26  washingtoncapitals  NaN  NaN  NaN\n",
      "12     new jersey devils  44  29     newjerseydevils  NaN  NaN  NaN\n",
      "13   carolina hurricanes  36  35  carolinahurricanes  NaN  NaN  NaN\n",
      "14    new york islanders  35  37    newyorkislanders  NaN  NaN  NaN\n",
      "15      new york rangers  34  39      newyorkrangers  NaN  NaN  NaN\n",
      "18        minnesota wild  45  26       minnesotawild  NaN  NaN  NaN\n",
      "19    colorado avalanche  43  30   coloradoavalanche  NaN  NaN  NaN\n",
      "20        st louis blues  44  32        stlouisblues  NaN  NaN  NaN\n",
      "21          dallas stars  42  32         dallasstars  NaN  NaN  NaN\n",
      "23  vegas golden knights  51  24  vegasgoldenknights  NaN  NaN  NaN\n",
      "24         anaheim ducks  44  25        anaheimducks  NaN  NaN  NaN\n",
      "25       san jose sharks  45  27       sanjosesharks  NaN  NaN  NaN\n",
      "26     los angeles kings  45  29     losangeleskings  NaN  NaN  NaN\n",
      "30       arizona coyotes  29  41      arizonacoyotes  NaN  NaN  NaN\n"
     ]
    }
   ],
   "source": [
    "teams_no_clear_area = merge_teams[merge_teams['area'].isna()]\n",
    "print(teams_no_clear_area)"
   ]
  },
  {
   "cell_type": "code",
   "execution_count": 15,
   "metadata": {},
   "outputs": [],
   "source": [
    "areas_no_clear_team = merge_areas[merge_areas[\"team\"].isna()]"
   ]
  },
  {
   "cell_type": "code",
   "execution_count": 16,
   "metadata": {},
   "outputs": [
    {
     "name": "stdout",
     "output_type": "stream",
     "text": [
      "          team_no_area                       area_no_name\n",
      "0    tampabaylightning  newyorkcityrangersislandersdevils\n",
      "1      floridapanthers               losangeleskingsducks\n",
      "2   washingtoncapitals          sanfranciscobayareasharks\n",
      "3      newjerseydevils              dallas–fortworthstars\n",
      "4   carolinahurricanes            washington,d.c.capitals\n",
      "5     newyorkislanders          minneapolis–saintpaulwild\n",
      "6       newyorkrangers                    denveravalanche\n",
      "7        minnesotawild       miami–fortlauderdalepanthers\n",
      "8    coloradoavalanche                     phoenixcoyotes\n",
      "9         stlouisblues              tampabayarealightning\n",
      "10         dallasstars                      st.louisblues\n",
      "11  vegasgoldenknights              lasvegasgoldenknights\n",
      "12        anaheimducks                  raleighhurricanes\n",
      "13       sanjosesharks                                NaN\n",
      "14     losangeleskings                                NaN\n",
      "15      arizonacoyotes                                NaN\n"
     ]
    }
   ],
   "source": [
    "# the teams left out with no clear area name are to be processed manually\n",
    "# first let's consider the possibility of a mapping between the column [area_team] in the nhl DF\n",
    "# and the column [area_team] in the nhl_cities DF\n",
    "\n",
    "area_team_no_match_nhl_DF = teams_no_clear_area.set_index(pd.Index(range(len(teams_no_clear_area))))['area_team']\n",
    "area_team_no_match_cities_nhl_DF = areas_no_clear_team.set_index(pd.Index(range(len(areas_no_clear_team))))['area_team']\n",
    "\n",
    "no_match = pd.DataFrame({\"team_no_area\": area_team_no_match_nhl_DF, \"area_no_name\": area_team_no_match_cities_nhl_DF})\n",
    "print(no_match)"
   ]
  },
  {
   "cell_type": "code",
   "execution_count": 17,
   "metadata": {},
   "outputs": [
    {
     "name": "stdout",
     "output_type": "stream",
     "text": [
      "                      area                   team            area_team\n",
      "0           Tampa Bay Area    tampa bay lightning    tampabaylightning\n",
      "1                   Boston          boston bruins         bostonbruins\n",
      "2                  Toronto    toronto maple leafs    torontomapleleafs\n",
      "3    Miami–Fort Lauderdale       florida panthers      floridapanthers\n",
      "4                  Detroit      detroit red wings      detroitredwings\n",
      "5                 Montreal     montreal canadiens    montrealcanadiens\n",
      "6                   Ottawa        ottawa senators       ottawasenators\n",
      "7                  Buffalo         buffalo sabres        buffalosabres\n",
      "8         Washington, D.C.    washington capitals   washingtoncapitals\n",
      "9               Pittsburgh    pittsburgh penguins   pittsburghpenguins\n",
      "10            Philadelphia    philadelphia flyers   philadelphiaflyers\n",
      "11                Columbus  columbus blue jackets  columbusbluejackets\n",
      "12                     NaN      new jersey devils      newjerseydevils\n",
      "13                 Raleigh    carolina hurricanes   carolinahurricanes\n",
      "14           New York City     new york islanders     newyorkislanders\n",
      "15                     NaN       new york rangers       newyorkrangers\n",
      "16               Nashville    nashville predators   nashvillepredators\n",
      "17                Winnipeg          winnipeg jets         winnipegjets\n",
      "18  Minneapolis–Saint Paul         minnesota wild        minnesotawild\n",
      "19                  Denver     colorado avalanche    coloradoavalanche\n",
      "20               St. Louis         st louis blues         stlouisblues\n",
      "21       Dallas–Fort Worth           dallas stars          dallasstars\n",
      "22                 Chicago     chicago blackhawks    chicagoblackhawks\n",
      "23               Las Vegas   vegas golden knights   vegasgoldenknights\n",
      "24                     NaN          anaheim ducks         anaheimducks\n",
      "25  San Francisco Bay Area        san jose sharks        sanjosesharks\n",
      "26             Los Angeles      los angeles kings      losangeleskings\n",
      "27                 Calgary         calgary flames        calgaryflames\n",
      "28                Edmonton        edmonton oilers       edmontonoilers\n",
      "29               Vancouver      vancouver canucks     vancouvercanucks\n",
      "30                 Phoenix        arizona coyotes       arizonacoyotes\n"
     ]
    }
   ],
   "source": [
    "# the last dataframe made it easy to see the mapping between the two columns\n",
    "# the following dictionary reflects the mapping\n",
    "\n",
    "mapping = {\"newyorkcityrangersislandersdevils\": \"newyorkislanders\", \"losangeleskingsducks\": \"losangeleskings\", \"dallas–fortworthstars\":\"dallasstars\"\n",
    ", 'washington,d.c.capitals': \"washingtoncapitals\", \"minneapolis–saintpaulwild\": \"minnesotawild\", \"denveravalanche\": \"coloradoavalanche\"\n",
    ", \"miami–fortlauderdalepanthers\": \"floridapanthers\", \"tampabayarealightning\": \"tampabaylightning\", \"st.louisblues\": \"stlouisblues\"\n",
    ", \"lasvegasgoldenknights\": \"vegasgoldenknights\", \"phoenixcoyotes\": \"arizonacoyotes\", \"raleighhurricanes\": \"carolinahurricanes\", \"sanfranciscobayareasharks\": \"sanjosesharks\"}\n",
    "\n",
    "# the next step is to map the old area_team names in the cities_nhl DF to their respective mapped value  \n",
    "\n",
    "cities_nhl['area_team'] = cities_nhl['area_team'].apply(lambda x: mapping[x].strip() if x in mapping else x)\n",
    "\n",
    "merge_teams = pd.merge(nhl, cities_nhl, how='left', on=['area_team'])\n",
    "print(merge_teams.loc[: , ['area', 'team', 'area_team']])"
   ]
  },
  {
   "cell_type": "markdown",
   "metadata": {},
   "source": [
    "### Teams with no area indication in their names\n",
    "This type of team is the trickiest and associating it with its region requires a human understanding of the data as well research the problem outside the scope of Jupyter Notebooks"
   ]
  },
  {
   "cell_type": "code",
   "execution_count": 18,
   "metadata": {},
   "outputs": [
    {
     "name": "stdout",
     "output_type": "stream",
     "text": [
      "LEFT OUT TEAMS\n",
      "12    new jersey devils\n",
      "15     new york rangers\n",
      "24        anaheim ducks\n",
      "Name: team, dtype: object\n",
      "\n",
      "AREAS:\n",
      "0              New York City\n",
      "1                Los Angeles\n",
      "2     San Francisco Bay Area\n",
      "3                    Chicago\n",
      "4          Dallas–Fort Worth\n",
      "5           Washington, D.C.\n",
      "6               Philadelphia\n",
      "7                     Boston\n",
      "8     Minneapolis–Saint Paul\n",
      "9                     Denver\n",
      "10     Miami–Fort Lauderdale\n",
      "11                   Phoenix\n",
      "12                   Detroit\n",
      "13                   Toronto\n",
      "14            Tampa Bay Area\n",
      "15                Pittsburgh\n",
      "16                 St. Louis\n",
      "17                 Nashville\n",
      "18                   Buffalo\n",
      "19                  Montreal\n",
      "20                 Vancouver\n",
      "21                  Columbus\n",
      "22                   Calgary\n",
      "23                    Ottawa\n",
      "24                  Edmonton\n",
      "25                  Winnipeg\n",
      "26                 Las Vegas\n",
      "27                   Raleigh\n",
      "Name: area, dtype: object\n"
     ]
    }
   ],
   "source": [
    "# as expected there are 3 teams with no associated area, the next stop now is to associate these teams with one\n",
    "# of areas provided. This task requires more human understanding of the data and a little bit of research\n",
    "\n",
    "print(\"LEFT OUT TEAMS\")\n",
    "print(merge_teams[merge_teams['area'].isna()]['team'])\n",
    "print()\n",
    "print(\"AREAS:\")\n",
    "print(cities_nhl['area'])"
   ]
  },
  {
   "cell_type": "markdown",
   "metadata": {},
   "source": [
    "#### Research Results\n",
    "According to the following [link](https://en.wikipedia.org/wiki/New_Jersey_Devils), the ***new jersey devils*** can be assigned to the ***New York City***. The ***new york rangers*** are also assigned to the same area. As for ***anaheim ducks***, it belongs to the ***Los Angelos*** area according to the following links:\n",
    "* [link1](https://en.wikipedia.org/wiki/Anaheim_Ducks#:~:text=Anaheim%20Ducks%20The%20Anaheim%20Ducks%20are%20a%20professional,and%20play%20their%20home%20games%20at%20Honda%20Center.)\n",
    "* [link2](https://en.wikipedia.org/wiki/Anaheim,_California)"
   ]
  },
  {
   "cell_type": "code",
   "execution_count": 19,
   "metadata": {},
   "outputs": [
    {
     "name": "stdout",
     "output_type": "stream",
     "text": [
      "                      area                   team            area_team\n",
      "0           Tampa Bay Area    tampa bay lightning    tampabaylightning\n",
      "1                   Boston          boston bruins         bostonbruins\n",
      "2                  Toronto    toronto maple leafs    torontomapleleafs\n",
      "3    Miami–Fort Lauderdale       florida panthers      floridapanthers\n",
      "4                  Detroit      detroit red wings      detroitredwings\n",
      "5                 Montreal     montreal canadiens    montrealcanadiens\n",
      "6                   Ottawa        ottawa senators       ottawasenators\n",
      "7                  Buffalo         buffalo sabres        buffalosabres\n",
      "8         Washington, D.C.    washington capitals   washingtoncapitals\n",
      "9               Pittsburgh    pittsburgh penguins   pittsburghpenguins\n",
      "10            Philadelphia    philadelphia flyers   philadelphiaflyers\n",
      "11                Columbus  columbus blue jackets  columbusbluejackets\n",
      "12           New York City      new jersey devils      newjerseydevils\n",
      "13                 Raleigh    carolina hurricanes   carolinahurricanes\n",
      "14           New York City     new york islanders     newyorkislanders\n",
      "15           New York City       new york rangers       newyorkrangers\n",
      "16               Nashville    nashville predators   nashvillepredators\n",
      "17                Winnipeg          winnipeg jets         winnipegjets\n",
      "18  Minneapolis–Saint Paul         minnesota wild        minnesotawild\n",
      "19                  Denver     colorado avalanche    coloradoavalanche\n",
      "20               St. Louis         st louis blues         stlouisblues\n",
      "21       Dallas–Fort Worth           dallas stars          dallasstars\n",
      "22                 Chicago     chicago blackhawks    chicagoblackhawks\n",
      "23               Las Vegas   vegas golden knights   vegasgoldenknights\n",
      "24             Los Angeles          anaheim ducks         anaheimducks\n",
      "25  San Francisco Bay Area        san jose sharks        sanjosesharks\n",
      "26             Los Angeles      los angeles kings      losangeleskings\n",
      "27                 Calgary         calgary flames        calgaryflames\n",
      "28                Edmonton        edmonton oilers       edmontonoilers\n",
      "29               Vancouver      vancouver canucks     vancouvercanucks\n",
      "30                 Phoenix        arizona coyotes       arizonacoyotes\n"
     ]
    }
   ],
   "source": [
    "team_area = {\"new jersey devils\": \"New York City\", \"new york rangers\": \"New York City\", \"anaheim ducks\": \"Los Angeles\"}\n",
    "\n",
    "def set_areas(row):\n",
    "    if row['team'] in team_area:\n",
    "        row['area'] = team_area[row['team']]\n",
    "    return row\n",
    "merge_teams = merge_teams.apply(set_areas, axis=1)\n",
    "\n",
    "print(merge_teams.loc[: , ['area', 'team', 'area_team']])"
   ]
  },
  {
   "cell_type": "markdown",
   "metadata": {},
   "source": [
    "## Final Step\n",
    "As the dataframe is cleaned, merged and filled with the necessary values, we can proceed to the final step which is\n",
    "computing the win-loss ration for each team, then group the team by the area and consider the correlation between the win-loss values and the area's population"
   ]
  },
  {
   "cell_type": "code",
   "execution_count": 20,
   "metadata": {},
   "outputs": [
    {
     "name": "stdout",
     "output_type": "stream",
     "text": [
      "                        win_loss_ratio         pop\n",
      "area                                              \n",
      "Boston                        0.714286   4794447.0\n",
      "Buffalo                       0.357143   1132804.0\n",
      "Calgary                       0.513889   1392609.0\n",
      "Chicago                       0.458333   9512999.0\n",
      "Columbus                      0.600000   2041520.0\n",
      "Dallas–Fort Worth             0.567568   7233323.0\n",
      "Denver                        0.589041   2853077.0\n",
      "Detroit                       0.434783   4297617.0\n",
      "Edmonton                      0.473684   1321426.0\n",
      "Las Vegas                     0.680000   2155664.0\n",
      "Los Angeles                   0.622895  13310447.0\n",
      "Miami–Fort Lauderdale         0.594595   6066387.0\n",
      "Minneapolis–Saint Paul        0.633803   3551036.0\n",
      "Montreal                      0.420290   4098927.0\n",
      "Nashville                     0.746479   1865298.0\n",
      "New York City                 0.518201  20153634.0\n",
      "Ottawa                        0.394366   1323783.0\n",
      "Philadelphia                  0.617647   6070500.0\n",
      "Phoenix                       0.414286   4661537.0\n",
      "Pittsburgh                    0.618421   2342299.0\n",
      "Raleigh                       0.507042   1302946.0\n",
      "San Francisco Bay Area        0.625000   6657982.0\n",
      "St. Louis                     0.578947   2807002.0\n",
      "Tampa Bay Area                0.701299   3032171.0\n",
      "Toronto                       0.653333   5928040.0\n",
      "Vancouver                     0.436620   2463431.0\n",
      "Washington, D.C.              0.653333   6131977.0\n",
      "Winnipeg                      0.722222    778489.0\n"
     ]
    }
   ],
   "source": [
    "final_df = merge_teams.loc[:, ['area', 'team', 'W', 'L', 'pop']]\n",
    "final_df['win_loss_ratio'] = final_df['W'].astype(float) / (final_df['W'].astype(float) + final_df['L'].astype(float))\n",
    "final_df = final_df.loc[:, ['area', 'win_loss_ratio', 'pop']]\n",
    "# print(final_df)\n",
    "\n",
    "final_df = final_df.set_index('area').astype(float).groupby('area').agg({\"win_loss_ratio\":'mean', 'pop':'mean'})\n",
    "print(final_df)"
   ]
  },
  {
   "cell_type": "code",
   "execution_count": 21,
   "metadata": {},
   "outputs": [
    {
     "name": "stdout",
     "output_type": "stream",
     "text": [
      "                win_loss_ratio       pop\n",
      "win_loss_ratio        1.000000  0.012486\n",
      "pop                   0.012486  1.000000\n"
     ]
    }
   ],
   "source": [
    "print(final_df.corr())"
   ]
  },
  {
   "cell_type": "code",
   "execution_count": 22,
   "metadata": {},
   "outputs": [],
   "source": [
    "final_df.to_csv(final_nhl_path)"
   ]
  }
 ],
 "metadata": {
  "kernelspec": {
   "display_name": "Python 3.10.6 64-bit",
   "language": "python",
   "name": "python3"
  },
  "language_info": {
   "codemirror_mode": {
    "name": "ipython",
    "version": 3
   },
   "file_extension": ".py",
   "mimetype": "text/x-python",
   "name": "python",
   "nbconvert_exporter": "python",
   "pygments_lexer": "ipython3",
   "version": "3.10.6"
  },
  "orig_nbformat": 4,
  "vscode": {
   "interpreter": {
    "hash": "916dbcbb3f70747c44a77c7bcd40155683ae19c65e1c03b4aa3499c5328201f1"
   }
  }
 },
 "nbformat": 4,
 "nbformat_minor": 2
}
