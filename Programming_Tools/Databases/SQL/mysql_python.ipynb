{
 "cells": [
  {
   "attachments": {},
   "cell_type": "markdown",
   "metadata": {},
   "source": [
    "# SQL AND Python \n",
    "This notebook is created to save and apply the techniques to connect to MySQL database through Python.\n",
    "The notes are taken from the incredible [online Tutorial](https://www.mysqltutorial.org/python-mysql/) "
   ]
  },
  {
   "attachments": {},
   "cell_type": "markdown",
   "metadata": {},
   "source": [
    "## connect to a database\n",
    "[first tutorial](https://www.mysqltutorial.org/getting-started-mysql-python-connector/) "
   ]
  },
  {
   "cell_type": "code",
   "execution_count": 2,
   "metadata": {},
   "outputs": [
    {
     "name": "stdout",
     "output_type": "stream",
     "text": [
      "Requirement already satisfied: mysql-connector-python in c:\\users\\user\\ab\\temp_venv\\lib\\site-packages (8.0.31)\n",
      "Requirement already satisfied: protobuf<=3.20.1,>=3.11.0 in c:\\users\\user\\ab\\temp_venv\\lib\\site-packages (from mysql-connector-python) (3.20.1)\n"
     ]
    }
   ],
   "source": [
    "# let's first install the mysql connector\n",
    "! pip install mysql-connector-python"
   ]
  },
  {
   "cell_type": "code",
   "execution_count": 3,
   "metadata": {},
   "outputs": [
    {
     "data": {
      "text/plain": [
       "<mysql.connector.connection_cext.CMySQLConnection at 0x1dac8316eb0>"
      ]
     },
     "execution_count": 3,
     "metadata": {},
     "output_type": "execute_result"
    }
   ],
   "source": [
    "# now let's connect\n",
    "from mysql import connector\n",
    "\n",
    "# on example of connection: \n",
    "connector.connect(host='localhost', database='sql_zoo', user='ayhem_vscode', password='Imadeyoumy97*')"
   ]
  },
  {
   "attachments": {},
   "cell_type": "markdown",
   "metadata": {},
   "source": [
    "The 2nd [tutorial](https://www.mysqltutorial.org/python-connecting-mysql-databases/) provides a SQL script to create 3 different tables for illustration and practice purposes."
   ]
  },
  {
   "cell_type": "code",
   "execution_count": 4,
   "metadata": {},
   "outputs": [
    {
     "name": "stdout",
     "output_type": "stream",
     "text": [
      "Done!\n"
     ]
    }
   ],
   "source": [
    "# importing required modules\n",
    "import os\n",
    "import random\n",
    "from zipfile import ZipFile\n",
    "# current directory\n",
    "CURRENT_DIR = os.getcwd() \n",
    "file_name = \"python_mysql.zip\"\n",
    "file_name_no_zip = \"mysql_python\"\n",
    "loc = os.path.join(CURRENT_DIR, file_name)\n",
    "# opening the zip file in READ mode\n",
    "\n",
    "if not os.path.isdir(os.path.join(CURRENT_DIR, file_name_no_zip)):\n",
    "    with ZipFile(loc, 'r') as zip_ref:\n",
    "        zip_ref.extractall()\n",
    "        print('Done!')"
   ]
  },
  {
   "attachments": {},
   "cell_type": "markdown",
   "metadata": {},
   "source": [
    "The following commands (throug the command line) can be used to create the new database\n",
    "1. mysql -u root -p\n",
    "2. type the user name as well as the password\n",
    "3. create database python_mysql; \n",
    "4. use python_mysql\n",
    "5. source **absolute_file_path** \n",
    "6. to double-check: show tables; (displays the tables in the current database)"
   ]
  },
  {
   "cell_type": "code",
   "execution_count": 6,
   "metadata": {},
   "outputs": [
    {
     "name": "stdout",
     "output_type": "stream",
     "text": [
      "the connection is established!!\n"
     ]
    }
   ],
   "source": [
    "from mysql.connector import Error\n",
    "\n",
    "# let's wrap the connection procedure in a function\n",
    "def connect(host='localhost', database='python_mysql', user='ayhem_vscode', password='Imadeyoumy97*'):\n",
    "    with connector.connect(host=host, database=database, user=user, password=password) as connection:\n",
    "        try:\n",
    "            if connection.is_connected():\n",
    "                print(\"the connection is established!!\")             \n",
    "        except Error as e:\n",
    "            print(e)\n",
    "    return connection\n",
    "\n",
    "conn = connect()"
   ]
  },
  {
   "cell_type": "code",
   "execution_count": 21,
   "metadata": {},
   "outputs": [],
   "source": [
    "from configparser import ConfigParser\n",
    "# hardcoding the credential is not as safe and is error-prone.\n",
    "# One more reliable way it to used configuration files\n",
    "def read_db_config(config_file_path: str, section:str='mysql') -> dict:\n",
    "    \"\"\"\n",
    "    This function reads configuration file, parse the credentials and return them in a dictionary-like object.\n",
    "    : param config_file_path: the path to the configuration file\n",
    "    : param section: the section to consider from the configuration file\n",
    "    : return  a dictionary with the connection's parameters\n",
    "    \"\"\"\n",
    "    # initialize a parser object\n",
    "    parser = ConfigParser()\n",
    "    parser.read(config_file_path)\n",
    "    \n",
    "    # check if the section set in the argument is indeed in the configuration file (read by the parser)\n",
    "    try:\n",
    "        if parser.has_section(section):\n",
    "            # extract the items \n",
    "            items = parser.items(section)\n",
    "            # convert them to a dict\n",
    "            return dict((item[0], item[1]) for item in items)\n",
    "\n",
    "    except Error as e:\n",
    "        print(e)\n",
    "\n",
    "    # the reuslt will be of None type in case the section is not present in the configuration file\n",
    "    \n",
    "\n",
    "# let's see how the function works\n",
    "# let's have a function that creates a configuration file given hard-coded credentials\n",
    "def write_db_config(host: str, database: str, user: str, password:str, config_file_path:str=None, section:str='mysql'):\n",
    "    if config_file_path is None:\n",
    "        config_file_path = os.path.join(os.getcwd(), f'{user}_host_database')\n",
    "    \n",
    "    # let's first check if the file ends with the appropriate extension and add if necessary\n",
    "    if not config_file_path.endswith('.ini'):\n",
    "        config_file_path += '.ini'\n",
    "\n",
    "    params = {\"host\": host, \"database\":database, \"user\": user, \"password\": password}\n",
    "    # create the file\n",
    "    with open(config_file_path, 'w') as f:\n",
    "        f.write(f'[{section}]\\n')\n",
    "        for param, param_value in params.items():\n",
    "            f.write(f'{param}= {param_value}\\n')\n",
    "    return config_file_path\n",
    "\n",
    "from mysql.connector import MySQLConnection\n",
    "\n",
    "# let's introduce a function that will connect via config files\n",
    "def connect_config(config_file_path, section='mysql'):\n",
    "    # extract the credential from the configuration file\n",
    "    db_config = read_db_config(config_file_path, section=section)\n",
    "    try:    \n",
    "        with MySQLConnection(**db_config) as conn:\n",
    "            if conn.is_connected():\n",
    "                print('Connection established.')\n",
    "            else:\n",
    "                print('Connection failed.')\n",
    "\n",
    "        return conn\n",
    "    except Error as e:\n",
    "        print(e)"
   ]
  },
  {
   "cell_type": "code",
   "execution_count": 24,
   "metadata": {},
   "outputs": [
    {
     "name": "stdout",
     "output_type": "stream",
     "text": [
      "Connection established.\n"
     ]
    }
   ],
   "source": [
    "# let's the functions to test\n",
    "\n",
    "config_file_name = write_db_config(host='localhost', database='python_mysql', user='ayhem_vscode', password='Imadeyoumy97*')\n",
    "connection = connect_config(config_file_name)\n"
   ]
  }
 ],
 "metadata": {
  "kernelspec": {
   "display_name": "Python 3.9.12 ('temp_venv')",
   "language": "python",
   "name": "python3"
  },
  "language_info": {
   "codemirror_mode": {
    "name": "ipython",
    "version": 3
   },
   "file_extension": ".py",
   "mimetype": "text/x-python",
   "name": "python",
   "nbconvert_exporter": "python",
   "pygments_lexer": "ipython3",
   "version": "3.9.12"
  },
  "orig_nbformat": 4,
  "vscode": {
   "interpreter": {
    "hash": "35c660b631c912057dd4c556fea62668d7a2804f8ae5c4333f1772415b9840f9"
   }
  }
 },
 "nbformat": 4,
 "nbformat_minor": 2
}
