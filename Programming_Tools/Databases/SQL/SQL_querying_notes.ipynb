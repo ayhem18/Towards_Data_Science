{
 "cells": [
  {
   "cell_type": "markdown",
   "metadata": {},
   "source": [
    "# Overview\n",
    "This notebook is the first notebook in a the SQL series where I document and track my progress learning SQL."
   ]
  },
  {
   "attachments": {},
   "cell_type": "markdown",
   "metadata": {},
   "source": [
    "## Basics\n",
    "### Select ++ \n",
    "* for a database db, one can store the results of a query as follows: CREATE VIEW view_name AS QUERY;\n",
    "* The result can be further accessed as follows: SELECT * FROM view_name;\n",
    "* Count(field_name) from db: returns the number of records containing a value in that field\n",
    "* Count(DISTINCT field_name) from db: returns the number of records containing a value in that field\n",
    "* SELECT COUNT(field) as alias from db:\n",
    "if the name of a field contains spaces it should be enclosed in \"\". for example, \"release year\"\n",
    "* KEEP in mind the difference between single and double quotes: \n",
    "    1. \"\" are used to refer to database objects usually: tables, columns or even functions (When the function name is a reserved keyword)\n",
    "    2. '' are used of string literals: they are evaluated as they are\n"
   ]
  },
  {
   "attachments": {},
   "cell_type": "markdown",
   "metadata": {},
   "source": [
    "### Filtering: where\n",
    "* SELECT col_names from table_name where condition  \n",
    "* Conditions can use arithmetic operators such as '=' for equa, and <> for not equal.\n",
    "* WHERE col <= a and col >= b  $\\iff$ WHERE col between a AND b \n",
    "* We can use the following to filter text data:\n",
    "    1. _ matches a single character, % match any number of characters.\n",
    "* We can use ***IN*** (list of values seperated by ','): works as IN in the python language.\n",
    "* the **LINK** logical operator is case-sensitive. The case non-sensitive version is the logical operator **ILIKE**\n",
    "\n",
    "\n",
    "\n",
    "#### NULL\n",
    "Databases are related to Data and NO data without missing values: Here are some key points:\n",
    "\n",
    "1. COUNT(*): includes missing values\n",
    "2. COUNT(field) will return only the rows where the field in question is not NULL \n",
    "3. IS (NOT) NULL can be used to filter values.\n",
    "\n",
    "#### Aggregating Functions\n",
    "SQL offers additional tools to better understand the data. AVG(col_name), MIN(col_name), MAX(col_name), SUM(col_name), COUNT(col_name)\n",
    "apply statistics on the column in question. Filtering can be used as well.   \n",
    "* AVG and SUM work only on numerical data type while the rest work also on non-numerical data.\n",
    "* columns created using aggregating functions or arithmetic operatations: +, -, /, * must be aliased for further use.\n"
   ]
  },
  {
   "attachments": {},
   "cell_type": "markdown",
   "metadata": {},
   "source": [
    "### Sorting\n",
    "Sorting is quite important for many tasks:\n",
    "* ORDER BY AT THEN END: ORDER BY col1 ASC/DESC, col2 ASC /DESC, ...\n",
    "### Aggregating : aggregate functions\n",
    "* COUNT function returns the number of non-null values in a certain column.\n",
    "* COUNT(*) / COUNT(1) can be used to evaluate the number of rows in a table\n",
    "* SUM treats nulls are $0$ 's\n",
    "* MIN and MAX functions work for any table of data that supports sorting.\n",
    "* One important remark about the ***AVG*** function is that it ignores null values completely: in other words, the following two queries will return the exact same results:  \n",
    "SELECT AVG(column) FROM TABLE;  \n",
    "SELECT AVG(column) FROM TABLE where column NOT NULL;"
   ]
  },
  {
   "attachments": {},
   "cell_type": "markdown",
   "metadata": {},
   "source": [
    "\n",
    "### Aggregating: Group BY\n",
    "* I would like to think of **GROUP BY** as follows: this command creates a number of temporary tables internally where each table have a unique value of the column (or combination of columns) used to group. \n",
    "* Having this in mind, the query can return any of the fields used for grouping, or the result of an aggregating function applied over the values of the other fields in each temporary table. \n",
    "* IF a filtering condition is set on a result of aggregate function, it requires the use of the keyword HAVING.\n",
    "* THIS is mainly explained by the order of execution as FROM, WHERE, GROUP BY, HAVING: so WHERE is called before the groups are created and thus no filtering based on the results of aggregation can be made.\n",
    "\n",
    "* The following question poses itself: how to filter the aggregated results. Well the **WHERE** clause would not work here. This is why we use its equivalent clause **HAVING**. The latter can filter the results by two means:\n",
    "    1. operators on one of the columns used for grouing as they are integrated in the internal temporary tables\n",
    "    2. operators on an aggregate functions on any column \n",
    "     \n",
    "These limitations are imposed due to the same reasons explained above with the SELECT statement."
   ]
  },
  {
   "attachments": {},
   "cell_type": "markdown",
   "metadata": {},
   "source": [
    "### Case statement\n",
    "* The case statement is quite a powerful tool as it can be used in very creative ways.\n",
    "* The case's statement can be found through this [link](https://mode.com/sql-tutorial/sql-case/) \n",
    "\n",
    "### Distinct\n",
    "* Well the **DISTINCT** keyword is usually associated with aggregation.\n",
    "* SELECT DISTINCT col_1, col_2 ..., col_n FROM table: returns each unique value in the table in a separate row. \n",
    "* THE SELECT DISTINCT col_1, DISTINCT col_2 does not compile when the number of distinct values in the two columns differ. (which makes sense as SQL works only with non-ragged tables)\n",
    "* The main application of DISTINCT is with the COUNT clause: getting the number of unique values per groups.\n",
    "* It is important to note that DISTINCT will sort the data internally (simple DSA knowledge), thus it slows the query's performance significantly.\n",
    "\n",
    "* ***FINAL NOTE***: the combination of aggregate functions and usual columns requires the use of the ***GROUP BY*** clause."
   ]
  },
  {
   "attachments": {},
   "cell_type": "markdown",
   "metadata": {},
   "source": [
    "## JOINING TABLES"
   ]
  },
  {
   "attachments": {},
   "cell_type": "markdown",
   "metadata": {},
   "source": [
    "* Joining tables is used to create larger tables out of other existent tables:   \n",
    "SELECT table.common\\_field, table.common\\_field, field\\_1, field\\_2  \n",
    "FROM table1  \n",
    "inner JOIN  table\\_2  \n",
    "ON table\\_field = table\\_field AND table\\_field\\_1 = table\\_field\\_2\n",
    "\n",
    "* if the field we are joining on is common between tables we can use the expression: ***USING(common\\_field)***\n",
    "* if all columns froms a certain table are needed then they can be selected as follows, table_name.*"
   ]
  },
  {
   "cell_type": "markdown",
   "metadata": {},
   "source": [
    "* Inner join receives two tables and creates a new table with only the rows that share common values for the chosen fields.\n",
    "* LEFT join receives two tables and creates a new table with the original rows of the left table and the columsn of the right table. Fields with common chosen fields will have non-null values while the others will have null-values.\n",
    "* "
   ]
  },
  {
   "attachments": {},
   "cell_type": "markdown",
   "metadata": {},
   "source": [
    "* filtering during joining tables can be done either with **ON** statement or **WHERE**. The two options are not equivalent though\n",
    "* the **ON** filtering condition is applied only on the table associated with the JOIN clause. On the other hand, The **WHERE** filtering condition is applied on the resulting table. The first option might lead to performance gains as **joining** is more costly than **filtering**.\n"
   ]
  },
  {
   "attachments": {},
   "cell_type": "markdown",
   "metadata": {},
   "source": [
    "## Appending Tables\n",
    "Joining tables work with columns (vertically). Nevertheless, SQL users would probably to manipulate their tables horizontally, row-wise. **UNION** and **UNION ALL** will do the trick:  \n",
    "\n",
    "SELECT STATEMENT 1  \n",
    "UNION /  UNION ALL  \n",
    "SELECT STATEMENT 2  \n",
    "\n",
    "TWO TABLES CAN BE JOINED if they satisfy two condititions:  \n",
    "1. they have the same number of columns\n",
    "2. they have the same data types in respective columns  \n",
    "\n",
    "The difference between **UNION** and **UNION ALL** is that the latter will keep duplicate rows present in the first table. **UNION** will keep only the unique rows."
   ]
  },
  {
   "attachments": {},
   "cell_type": "markdown",
   "metadata": {},
   "source": [
    "## Sub-queries\n",
    "* we can use subqueries in different scenarios. The simplest is probably with the **FROM** clause.\n",
    "* each subquery should have its own alias, wrapped between parentheses\n",
    "* subqueries might be the most efficient and probably the only way to solve certain problems such as aggregation in multiple stages. This is greatly explained by the [MODE tutorial](https://mode.com/sql-tutorial/sql-sub-queries/)\n",
    "* subqueries with the FROM clause has no restrictions\n",
    "* subqueries with the WHERE and most logical operators must be one-cell value. The ***IN*** operator can use multiple values (either rows or columns)\n",
    "* subqueries with logical operators should not be associated with an alias as they are treated either as  single value or a set of values."
   ]
  },
  {
   "attachments": {},
   "cell_type": "markdown",
   "metadata": {},
   "source": [
    "## window functions\n",
    "so let's start with a definition (a surprisingly expressive one!!). SO as Postgre's documentation states, a window function is a functionality that carries out the same type of calculations as aggregate functions while having the rows separated instead of being meshed into a single output as the aggregate functions do.  \n",
    "Let's delve into more details while adding some more examples."
   ]
  },
  {
   "cell_type": "code",
   "execution_count": 1,
   "metadata": {},
   "outputs": [
    {
     "name": "stdout",
     "output_type": "stream",
     "text": [
      "Connection established.\n"
     ]
    }
   ],
   "source": [
    "# let's first import the sql connection utilities written on a different python file\n",
    "from mysql_python import connect_config\n",
    "from mysql_python import write_db_config\n",
    "\n",
    "\n",
    "config_file_path = write_db_config(host=\"localhost\",database='sql_zoo', user='ayhem_vscode', password='Imadeyoumy97*')\n",
    "connection = connect_config(config_file_path)"
   ]
  },
  {
   "cell_type": "code",
   "execution_count": null,
   "metadata": {},
   "outputs": [],
   "source": [
    "! pip install pymysql"
   ]
  },
  {
   "cell_type": "code",
   "execution_count": 13,
   "metadata": {},
   "outputs": [
    {
     "name": "stdout",
     "output_type": "stream",
     "text": [
      "Requirement already satisfied: sqlalchemy in c:\\users\\user\\ab\\temp_venv\\lib\\site-packages (1.3.24)\n",
      "Collecting mysqlclient\n",
      "  Downloading mysqlclient-2.1.1-cp39-cp39-win_amd64.whl (178 kB)\n",
      "     ------------------------------------ 178.5/178.5 kB 978.4 kB/s eta 0:00:00\n",
      "Installing collected packages: mysqlclient\n",
      "Successfully installed mysqlclient-2.1.1\n"
     ]
    }
   ],
   "source": [
    "! pip install sqlalchemy\n",
    "# also know as MySQLdb\n",
    "! pip install mysqlclient "
   ]
  },
  {
   "cell_type": "code",
   "execution_count": 18,
   "metadata": {},
   "outputs": [
    {
     "data": {
      "text/html": [
       "<div>\n",
       "<style scoped>\n",
       "    .dataframe tbody tr th:only-of-type {\n",
       "        vertical-align: middle;\n",
       "    }\n",
       "\n",
       "    .dataframe tbody tr th {\n",
       "        vertical-align: top;\n",
       "    }\n",
       "\n",
       "    .dataframe thead th {\n",
       "        text-align: right;\n",
       "    }\n",
       "</style>\n",
       "<table border=\"1\" class=\"dataframe\">\n",
       "  <thead>\n",
       "    <tr style=\"text-align: right;\">\n",
       "      <th></th>\n",
       "      <th>id</th>\n",
       "      <th>name</th>\n",
       "      <th>SALARY</th>\n",
       "      <th>DEPARTMENTID</th>\n",
       "    </tr>\n",
       "  </thead>\n",
       "  <tbody>\n",
       "    <tr>\n",
       "      <th>0</th>\n",
       "      <td>1</td>\n",
       "      <td>a</td>\n",
       "      <td>40</td>\n",
       "      <td>1</td>\n",
       "    </tr>\n",
       "    <tr>\n",
       "      <th>1</th>\n",
       "      <td>2</td>\n",
       "      <td>b</td>\n",
       "      <td>45</td>\n",
       "      <td>1</td>\n",
       "    </tr>\n",
       "    <tr>\n",
       "      <th>2</th>\n",
       "      <td>3</td>\n",
       "      <td>c</td>\n",
       "      <td>50</td>\n",
       "      <td>1</td>\n",
       "    </tr>\n",
       "    <tr>\n",
       "      <th>3</th>\n",
       "      <td>4</td>\n",
       "      <td>d</td>\n",
       "      <td>50</td>\n",
       "      <td>1</td>\n",
       "    </tr>\n",
       "    <tr>\n",
       "      <th>4</th>\n",
       "      <td>5</td>\n",
       "      <td>da</td>\n",
       "      <td>60</td>\n",
       "      <td>1</td>\n",
       "    </tr>\n",
       "    <tr>\n",
       "      <th>5</th>\n",
       "      <td>6</td>\n",
       "      <td>ds</td>\n",
       "      <td>60</td>\n",
       "      <td>1</td>\n",
       "    </tr>\n",
       "    <tr>\n",
       "      <th>6</th>\n",
       "      <td>7</td>\n",
       "      <td>dc</td>\n",
       "      <td>85</td>\n",
       "      <td>1</td>\n",
       "    </tr>\n",
       "    <tr>\n",
       "      <th>7</th>\n",
       "      <td>8</td>\n",
       "      <td>de</td>\n",
       "      <td>90</td>\n",
       "      <td>1</td>\n",
       "    </tr>\n",
       "    <tr>\n",
       "      <th>8</th>\n",
       "      <td>9</td>\n",
       "      <td>x</td>\n",
       "      <td>60</td>\n",
       "      <td>2</td>\n",
       "    </tr>\n",
       "    <tr>\n",
       "      <th>9</th>\n",
       "      <td>10</td>\n",
       "      <td>x1</td>\n",
       "      <td>65</td>\n",
       "      <td>2</td>\n",
       "    </tr>\n",
       "  </tbody>\n",
       "</table>\n",
       "</div>"
      ],
      "text/plain": [
       "   id name  SALARY  DEPARTMENTID\n",
       "0   1    a      40             1\n",
       "1   2    b      45             1\n",
       "2   3    c      50             1\n",
       "3   4    d      50             1\n",
       "4   5   da      60             1\n",
       "5   6   ds      60             1\n",
       "6   7   dc      85             1\n",
       "7   8   de      90             1\n",
       "8   9    x      60             2\n",
       "9  10   x1      65             2"
      ]
     },
     "execution_count": 18,
     "metadata": {},
     "output_type": "execute_result"
    }
   ],
   "source": [
    "import pandas as pd\n",
    "from mysql_python import read_db_config\n",
    "from sqlalchemy import create_engine\n",
    "\n",
    "config_dict = read_db_config(\"ayhem_vscode_localhost_sql_zoo.ini\")\n",
    "\n",
    "url = f\"mysql://{config_dict['user']}:{config_dict['password']}@{config_dict['host']}/{config_dict['database']}\"\n",
    "connection = create_engine(url, echo=False).connect()\n",
    "\n",
    "# let's try out our new connection\n",
    "pd.read_sql_query(\"SELECT * FROM employee LIMIT 10\", con=connection)\n"
   ]
  },
  {
   "cell_type": "code",
   "execution_count": null,
   "metadata": {},
   "outputs": [],
   "source": [
    "# here is a usual group by  SQL statement\n",
    "q1 = pd.read_sql_query(\"SELECT departmentid, AVG(salary) FROM employee GROUP BY DEPARTMENTID;\", con=connection)\n",
    "print(q1)\n",
    "# neverthess here the same query with windowns functions\n",
    "q2 = pd.read_sql_query(\"SELECT departmentid, name, salary, AVG(salary) OVER (PARTITION BY departmentid) as average_salary FROM employee;\", con=connection)\n",
    "print(q2)\n",
    "# the 2nd query shows that the same calculations are conducted without grouping all the rows with common field value into a single row.\n",
    "# these are the window functions at their most basic form\n"
   ]
  },
  {
   "attachments": {},
   "cell_type": "markdown",
   "metadata": {},
   "source": [
    "* The general syntax of a window function:  \n",
    "\n",
    "SELECT fileds, function_name(expression) OVER (  \n",
    "\\[partition definition\\]  \n",
    "\\[order_definition \\]  \n",
    "\\[frame definition\\]  \n",
    ")  \n",
    "* the parentheses of the OVER clause are mandatory regardless of its inner components\n",
    "* the partition clause breaks the table into parts. The partition function is performed over these chuncks of rows and re-initialized at the start of each one.\n",
    "* the order clause determines the rows' order within each partition. Multiple keys can be used to set an order for the rows as all window functions support the order. Nevertheless, it makes sense to use the latter only for order-sensitive functions.\n",
    "*  "
   ]
  },
  {
   "attachments": {},
   "cell_type": "markdown",
   "metadata": {},
   "source": [
    "## More functions \n",
    "* casting to different data types in mysql: [link](https://www.w3schools.com/sql/func_mysql_cast.asp)\n",
    "* "
   ]
  }
 ],
 "metadata": {
  "kernelspec": {
   "display_name": "Python 3.9.12 ('temp_venv')",
   "language": "python",
   "name": "python3"
  },
  "language_info": {
   "codemirror_mode": {
    "name": "ipython",
    "version": 3
   },
   "file_extension": ".py",
   "mimetype": "text/x-python",
   "name": "python",
   "nbconvert_exporter": "python",
   "pygments_lexer": "ipython3",
   "version": "3.9.12"
  },
  "orig_nbformat": 4,
  "vscode": {
   "interpreter": {
    "hash": "35c660b631c912057dd4c556fea62668d7a2804f8ae5c4333f1772415b9840f9"
   }
  }
 },
 "nbformat": 4,
 "nbformat_minor": 2
}
