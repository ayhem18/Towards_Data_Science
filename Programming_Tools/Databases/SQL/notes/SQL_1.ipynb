{
 "cells": [
  {
   "cell_type": "markdown",
   "metadata": {},
   "source": [
    "# Overview\n",
    "This notebook is the first notebook in a the SQL series where I document and track my progress learning SQL."
   ]
  },
  {
   "cell_type": "markdown",
   "metadata": {},
   "source": [
    "## Basics\n",
    "### Select ++ \n",
    "* for a database db, one can store the results of a query as follows: CREATE VIEW view_name AS QUERY;\n",
    "* The result can be further accessed as follows: SELECT * FROM view_name;\n",
    "* Count(field_name) from db: returns the number of records containing a value in that field\n",
    "* Count(DISTINCT field_name) from db: returns the number of records containing a value in that field\n",
    "* SELECT COUNT(field) as alias from db:\n",
    "if the name of a field contains spaces it should be enclosed in \"\". for example, \"release year\""
   ]
  },
  {
   "cell_type": "markdown",
   "metadata": {},
   "source": [
    "### Filtering: where\n",
    "* SELECT col_names from table_name where condition  \n",
    "* Conditions can use arithmetic operators such as '=' for equa, and <> for not equal.\n",
    "* WHERE col <= a and col >= b  $\\iff$ WHERE col between a AND b \n",
    "* We can use the following to filter text data:\n",
    "    1. _ matches a single character, % match any number of characters.\n",
    "* We can use IN (list of values seperated by ','): works as IN in the python language.\n",
    "\n",
    "#### NULL\n",
    "Databases are related to Data and NO data without missing values: Here are some key points:\n",
    "\n",
    "1. COUNT(*): includes missing values\n",
    "2. COUNT(field) will return only the rows where the field in question is not NULL \n",
    "3. IS (NOT) NULL can be used to filter values.\n",
    "\n",
    "#### Aggregating Functions\n",
    "SQL offers additional tools to better understand the data. AVG(col_name), MIN(col_name), MAX(col_name), SUM(col_name), COUNT(col_name)\n",
    "apply statistics on the column in question. Filtering can be used as well.   \n",
    "* AVG and SUM work only on numerical data type while the rest work also on non-numerical data.\n",
    "* columns created using aggregating functions or arithmetic operatations: +, -, /, * must be aliased for further use.\n"
   ]
  },
  {
   "cell_type": "markdown",
   "metadata": {},
   "source": [
    "### Sorting\n",
    "Sorting is quite important for many tasks:\n",
    "* ORDER BY AT THEN END: ORDER BY col1 ASC/DESC, col2 ASC /DESC, ...\n",
    "\n",
    "### Aggregating: Group BY\n",
    "* The group by groups the data by a certain number of fields. Any field that is not used for grouping should be assigned an aggregation function\n",
    "* IF a filtering condition is set on a result of aggregate function, it requires the use of the keyword HAVING.\n",
    "* THIS is mainly explained by the order of execution as FROM, WHERE, GROUP BY, HAVING: so WHERE is called before the groups are created and thus no filtering based on the results of aggregation can be made."
   ]
  },
  {
   "cell_type": "markdown",
   "metadata": {},
   "source": [
    "# JOINING TABLES"
   ]
  },
  {
   "cell_type": "markdown",
   "metadata": {},
   "source": [
    "* Joining tables is used to create larger tables out of other existent tables:   \n",
    "SELECT table.common\\_field, table.common\\_field, field\\_1, field\\_2  \n",
    "FROM table1  \n",
    "inner JOIN  table\\_2  \n",
    "ON table\\_field = table\\_field AND table\\_field\\_1 = table\\_field\\_2\n",
    "\n",
    "* if the field we are joining on is common between tables we can use the expression: ***USING(common\\_field)***\n"
   ]
  },
  {
   "cell_type": "markdown",
   "metadata": {},
   "source": [
    "* Inner join receives two tables and creates a new table with only the rows that share common values for the chosen fields.\n",
    "* LEFT join receives two tables and creates a new table with the original rows of the left table and the columsn of the right table. Fields with common chosen fields will have non-null values while the others will have null-values.\n",
    "* "
   ]
  }
 ],
 "metadata": {
  "kernelspec": {
   "display_name": "Python 3.10.4 ('conda_ds_env')",
   "language": "python",
   "name": "python3"
  },
  "language_info": {
   "name": "python",
   "version": "3.10.4"
  },
  "orig_nbformat": 4,
  "vscode": {
   "interpreter": {
    "hash": "e595ca51820d52e9aa292ed5e6aea8cb54d58198616f7383c650dd0ac3477d37"
   }
  }
 },
 "nbformat": 4,
 "nbformat_minor": 2
}
