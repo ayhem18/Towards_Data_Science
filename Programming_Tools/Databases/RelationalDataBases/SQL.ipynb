{
 "cells": [
  {
   "attachments": {},
   "cell_type": "markdown",
   "metadata": {},
   "source": [
    "# SQL For Data Science with Python\n",
    "This jupyter notebook is created to save notes for the ***SQL For Data science*** course in the ***IBM data Engineering specialization*** offered on Coursera."
   ]
  },
  {
   "cell_type": "code",
   "execution_count": 1,
   "metadata": {},
   "outputs": [
    {
     "name": "stdout",
     "output_type": "stream",
     "text": [
      "mama please save me !!\n"
     ]
    }
   ],
   "source": [
    "print(\"mama please save me !!\")"
   ]
  }
 ],
 "metadata": {
  "kernelspec": {
   "display_name": "Python 3.9.12 ('temp_venv')",
   "language": "python",
   "name": "python3"
  },
  "language_info": {
   "codemirror_mode": {
    "name": "ipython",
    "version": 3
   },
   "file_extension": ".py",
   "mimetype": "text/x-python",
   "name": "python",
   "nbconvert_exporter": "python",
   "pygments_lexer": "ipython3",
   "version": "3.9.12"
  },
  "orig_nbformat": 4,
  "vscode": {
   "interpreter": {
    "hash": "35c660b631c912057dd4c556fea62668d7a2804f8ae5c4333f1772415b9840f9"
   }
  }
 },
 "nbformat": 4,
 "nbformat_minor": 2
}
