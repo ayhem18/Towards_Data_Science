{
 "cells": [
  {
   "attachments": {},
   "cell_type": "markdown",
   "metadata": {},
   "source": [
    "# Python AND MySQL\n",
    "This notebook is created to save and apply the techniques used to connect to a MySQL database through PYTHON programming language.\n",
    "The notebook is created by follwoing the incredible tutorial offered by [MySQLTutorial site](https://www.mysqltutorial.org/python-mysql/)"
   ]
  },
  {
   "cell_type": "code",
   "execution_count": null,
   "metadata": {},
   "outputs": [],
   "source": []
  }
 ],
 "metadata": {
  "language_info": {
   "name": "python"
  },
  "orig_nbformat": 4
 },
 "nbformat": 4,
 "nbformat_minor": 2
}
