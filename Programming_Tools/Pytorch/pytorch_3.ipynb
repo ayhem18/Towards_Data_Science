{
 "cells": [
  {
   "attachments": {},
   "cell_type": "markdown",
   "metadata": {},
   "source": [
    "# Overview\n",
    "This notebook is the 3rd notebook in my Pytorch Learning journey. I am following the [ZeroToMastery Pytorch course](https://www.learnpytorch.io/02_pytorch_classification/).\n",
    "This notebook will focus on Computer vision basics"
   ]
  },
  {
   "cell_type": "code",
   "execution_count": 2,
   "metadata": {},
   "outputs": [],
   "source": [
    "# imports first\n",
    "import torch\n",
    "from torch import nn\n",
    "\n",
    "import torchvision\n",
    "from torchvision import datasets\n",
    "from torchvision.transforms import ToTensor\n",
    "\n",
    "import matplotlib.pyplot as  plt\n",
    "\n",
    "RANDOM_SEED = 69"
   ]
  },
  {
   "cell_type": "code",
   "execution_count": 3,
   "metadata": {},
   "outputs": [
    {
     "name": "stderr",
     "output_type": "stream",
     "text": [
      "c:\\Users\\bouab\\DEV\\ds_env\\lib\\site-packages\\torchvision\\datasets\\mnist.py:498: UserWarning: The given NumPy array is not writeable, and PyTorch does not support non-writeable tensors. This means you can write to the underlying (supposedly non-writeable) NumPy array using the tensor. You may want to copy the array to protect its data or make it writeable before converting it to a tensor. This type of warning will be suppressed for the rest of this program. (Triggered internally at  ..\\torch\\csrc\\utils\\tensor_numpy.cpp:180.)\n",
      "  return torch.from_numpy(parsed.astype(m[2], copy=False)).view(*s)\n"
     ]
    }
   ],
   "source": [
    "# let's get ourselves some data\n",
    "import os \n",
    "\n",
    "root_path = os.path.join(os.getcwd(), 'pytorch_data')\n",
    "\n",
    "if not os.path.isdir(root_path):\n",
    "    os.mkdir(root_path)\n",
    "\n",
    "# let's download the data to the corresponding directory\n",
    "\n",
    "train_data = datasets.FashionMNIST(root=root_path, \n",
    "                    train=True, # the train data\n",
    "                    download=True, # download the data locally\n",
    "                    transform=ToTensor() # transform the image data to tensors\n",
    "                    )\n",
    "\n",
    "test_data = datasets.FashionMNIST(root=root_path, train=False, download=True, transform=ToTensor())\n",
    "\n"
   ]
  },
  {
   "cell_type": "code",
   "execution_count": 4,
   "metadata": {},
   "outputs": [
    {
     "name": "stdout",
     "output_type": "stream",
     "text": [
      "['T-shirt/top', 'Trouser', 'Pullover', 'Dress', 'Coat', 'Sandal', 'Shirt', 'Sneaker', 'Bag', 'Ankle boot']\n"
     ]
    }
   ],
   "source": [
    "# now we have our data stored locally, cool isn't ???\n",
    "print(train_data.classes)"
   ]
  },
  {
   "cell_type": "code",
   "execution_count": 5,
   "metadata": {},
   "outputs": [
    {
     "name": "stdout",
     "output_type": "stream",
     "text": [
      "torch.Size([1, 28, 28])\n"
     ]
    },
    {
     "data": {
      "text/plain": [
       "Text(0.5, 1.0, '9')"
      ]
     },
     "execution_count": 5,
     "metadata": {},
     "output_type": "execute_result"
    },
    {
     "data": {
      "image/png": "[encoded data removed]",
      "text/plain": [
       "<Figure size 640x480 with 1 Axes>"
      ]
     },
     "metadata": {},
     "output_type": "display_data"
    }
   ],
   "source": [
    "image, lable = train_data[0]\n",
    "print(image.shape)\n",
    "plt.imshow(image.squeeze())\n",
    "plt.title(lable)"
   ]
  },
  {
   "cell_type": "code",
   "execution_count": 6,
   "metadata": {},
   "outputs": [],
   "source": [
    "# well for computational efficiency reasons, we use Data Loaders\n",
    "from torch.utils.data import DataLoader\n",
    "\n",
    "BATCH_SIZE  = 256 # the training dataset has around 60k observations: a larger batch-size wouldn't hurt.\n",
    "\n",
    "train_loader = DataLoader(train_data, batch_size=BATCH_SIZE, shuffle=True)\n",
    "test_loader = DataLoader(test_data, \n",
    "                batch_size=BATCH_SIZE, \n",
    "                shuffle=False # not necessary to shuffle testing data\n",
    "                )\n"
   ]
  },
  {
   "attachments": {},
   "cell_type": "markdown",
   "metadata": {},
   "source": [
    "Images can have different shapes but most importanly shape's order: Channels, Height, Width or Height, Width, Channels. The latter order is considered best practice by Pytorch developers."
   ]
  },
  {
   "cell_type": "code",
   "execution_count": 7,
   "metadata": {},
   "outputs": [],
   "source": [
    "# let's try to build a baseline model\n",
    "from torch import nn\n",
    "\n",
    "class BaselineModel(nn.Module):\n",
    "    def __init__(self, input_shape: tuple[int, int], num_classes:int, hidden_units: list[int]):\n",
    "        # call the super class constructor\n",
    "        super().__init__()\n",
    "\n",
    "        self.num_classes = num_classes\n",
    "        self.input_shape = input_shape\n",
    "        # make sure if only a single integer was passed then, it is converted to a list with one element\n",
    "        if isinstance(hidden_units, int):\n",
    "            hidden_units = [hidden_units]\n",
    "\n",
    "        # first thing it to add the flattening layer and the first hidden layer as\n",
    "        layers = [nn.Flatten(), nn.Linear(in_features=input_shape[0] * input_shape[1], out_features=hidden_units[0])] \n",
    "        # add hidden layers\n",
    "        layers.extend([nn.Linear(in_features=hidden_units[i - 1], out_features=hidden_units[i]) for i in range(1, len(hidden_units))])\n",
    "        # time to add the last layer\n",
    "        layers.append(nn.Linear(in_features=hidden_units[-1], out_features=(1 if num_classes <= 2 else num_classes)))\n",
    "\n",
    "        self.layers = nn.Sequential(*layers)\n",
    "    \n",
    "    def forward(self, x):\n",
    "        return self.layers(x)\n"
   ]
  },
  {
   "cell_type": "code",
   "execution_count": 8,
   "metadata": {},
   "outputs": [
    {
     "name": "stdout",
     "output_type": "stream",
     "text": [
      "torch.Size([28, 28])\n"
     ]
    }
   ],
   "source": [
    "image, lable = train_data[0]\n",
    "INPUT_SHAPE = image.squeeze().shape\n",
    "print(INPUT_SHAPE)"
   ]
  },
  {
   "cell_type": "code",
   "execution_count": 9,
   "metadata": {},
   "outputs": [
    {
     "name": "stdout",
     "output_type": "stream",
     "text": [
      "BaselineModel(\n",
      "  (layers): Sequential(\n",
      "    (0): Flatten(start_dim=1, end_dim=-1)\n",
      "    (1): Linear(in_features=784, out_features=10, bias=True)\n",
      "    (2): Linear(in_features=10, out_features=10, bias=True)\n",
      "    (3): Linear(in_features=10, out_features=10, bias=True)\n",
      "  )\n",
      ")\n"
     ]
    }
   ],
   "source": [
    "model_0 = BaselineModel(input_shape=INPUT_SHAPE, num_classes=len(train_data.classes), hidden_units=[10, 10])\n",
    "print(model_0)"
   ]
  },
  {
   "cell_type": "code",
   "execution_count": 10,
   "metadata": {},
   "outputs": [],
   "source": [
    "loss_function = nn.CrossEntropyLoss()\n",
    "optimizer = torch.optim.Adam(params=model_0.parameters(), lr=0.09)"
   ]
  },
  {
   "cell_type": "code",
   "execution_count": 11,
   "metadata": {},
   "outputs": [
    {
     "name": "stdout",
     "output_type": "stream",
     "text": [
      "The training loss after epoch 1: 0.9897425770759583\n",
      "The training loss after epoch 2: 0.5097190141677856\n",
      "The training loss after epoch 3: 0.49029970169067383\n",
      "The training loss after epoch 4: 0.4799225926399231\n",
      "The training loss after epoch 5: 0.5353366136550903\n"
     ]
    },
    {
     "ename": "ImportError",
     "evalue": "cannot import name 'accuray_fn' from 'helper_functions' (c:\\Users\\bouab\\DEV\\Towards_Data_Science\\Programming_Tools\\Pytorch\\helper_functions.py)",
     "output_type": "error",
     "traceback": [
      "\u001b[1;31m---------------------------------------------------------------------------\u001b[0m",
      "\u001b[1;31mImportError\u001b[0m                               Traceback (most recent call last)",
      "Cell \u001b[1;32mIn[11], line 34\u001b[0m\n\u001b[0;32m     31\u001b[0m \u001b[39m# first set the model to the evaluation mode\u001b[39;00m\n\u001b[0;32m     32\u001b[0m model_0\u001b[39m.\u001b[39meval()\n\u001b[1;32m---> 34\u001b[0m \u001b[39mfrom\u001b[39;00m \u001b[39mhelper_functions\u001b[39;00m \u001b[39mimport\u001b[39;00m accuray_fn \n\u001b[0;32m     36\u001b[0m \u001b[39mwith\u001b[39;00m torch\u001b[39m.\u001b[39minference_mode():\n\u001b[0;32m     37\u001b[0m     \u001b[39mfor\u001b[39;00m X, y \u001b[39min\u001b[39;00m test_loader:\n",
      "\u001b[1;31mImportError\u001b[0m: cannot import name 'accuray_fn' from 'helper_functions' (c:\\Users\\bouab\\DEV\\Towards_Data_Science\\Programming_Tools\\Pytorch\\helper_functions.py)"
     ]
    }
   ],
   "source": [
    "import torch\n",
    "torch.manual_seed(69)\n",
    "EPOCHS = 5\n",
    "\n",
    "# TRAINING LOOP\n",
    "for e in range(1, EPOCHS + 1):\n",
    "    # first define a variable to store the model's loss\n",
    "    train_loss = 0\n",
    "    for batch_number, (X, y) in enumerate(train_loader):\n",
    "        # first set the model to the train mode\n",
    "        model_0.train() \n",
    "        # forward pass\n",
    "        y_logits = model_0(X)\n",
    "        # consider the predictions\n",
    "        y_preds = y_logits.argmax(dim=-1)\n",
    "        # calculate the loss with the logits\n",
    "        batch_train_loss = loss_function(y_logits, y)\n",
    "        # add the loss to the train loss\n",
    "        train_loss += batch_train_loss  \n",
    "        # apply the optimizer rubberish\n",
    "        optimizer.zero_grad()\n",
    "        batch_train_loss.backward()\n",
    "        optimizer.step()\n",
    "    # make sure to consider the average loss over all batches    \n",
    "    train_loss /= len(train_loader)\n",
    "    print(f\"The training loss after epoch {e}: {train_loss}\")\n"
   ]
  },
  {
   "cell_type": "code",
   "execution_count": 13,
   "metadata": {},
   "outputs": [],
   "source": [
    "\n",
    "# TESTING LOOP\n",
    "# let's consider the\n",
    "test_loss, test_acc = 0, 0\n",
    "# first set the model to the evaluation mode\n",
    "model_0.eval()\n",
    "\n",
    "from helper_functions import accuracy_fn \n",
    "\n",
    "with torch.inference_mode():\n",
    "    for X, y in test_loader:\n",
    "        test_logits = model_0(X)\n",
    "        # let's calculate the loss\n",
    "        test_loss += loss_function(test_logits, y)\n",
    "        # calculate the metric\n",
    "        test_acc += accuracy_fn(y, test_logits.argmax(dim=-1))\n",
    "    # at the end don't forget to average over the number of batches\n",
    "    test_loss /= len(test_loader)\n",
    "    test_acc /= len(test_loader)\n",
    "   \n"
   ]
  },
  {
   "cell_type": "code",
   "execution_count": 15,
   "metadata": {},
   "outputs": [
    {
     "name": "stdout",
     "output_type": "stream",
     "text": [
      "0.5507522821426392\n",
      "81.30859375\n"
     ]
    }
   ],
   "source": [
    "print(test_loss.item())\n",
    "print(test_acc)"
   ]
  },
  {
   "attachments": {},
   "cell_type": "markdown",
   "metadata": {},
   "source": [
    "## CNNS"
   ]
  },
  {
   "cell_type": "code",
   "execution_count": 50,
   "metadata": {},
   "outputs": [],
   "source": [
    "def dimensions_after_convolution(dims: tuple[int, int], kernel_size:tuple[int, int], padding:tuple[int, int], stride:int):\n",
    "    k1, k2 = kernel_size\n",
    "    p1, p2 = padding\n",
    "    d1, d2 = dims\n",
    "    s1, s2 = stride\n",
    "    return (int((d1 + 2 * p1 - k1) / s1) + 1, int((d2 + 2 * p2 - k2) / s2) + 1)\n",
    "\n",
    "def dimensions_after_pooling(dims: tuple[int, int], kernel_size:tuple[int, int], stride:int):\n",
    "    d1, d2 = dims\n",
    "    k1, k2 = kernel_size\n",
    "    s1, s2 = stride\n",
    "    return (int((d1 - k1)/ s1) + 1, int((d2 - k2 / s2)) + 1)    "
   ]
  },
  {
   "cell_type": "code",
   "execution_count": 51,
   "metadata": {},
   "outputs": [],
   "source": [
    "# our model was purely linear with a large number of parameters\n",
    "# let's build a convolutional neural network CNN for short\n",
    "\n",
    "# the following architecture is copied from \n",
    "# https://poloclub.github.io/cnn-explainer/\n",
    "\n",
    "class CNN(nn.Module):\n",
    "\n",
    "\n",
    "    def __init__(self, input_shape: torch.Size, output_channels: int, num_classes: int):\n",
    "        super().__init__()\n",
    "        \n",
    "        # these values are needed to determine the final shape passed to the fully connected layers\n",
    "        input_c, input_h, input_w= input_shape\n",
    "\n",
    "        self.block_1 = nn.Sequential(\n",
    "            nn.Conv2d(in_channels=input_c, \n",
    "                      out_channels=output_channels, \n",
    "                      kernel_size=3,\n",
    "                      stride=1,\n",
    "                      padding=1 # add only one pad\n",
    "                      ),  \n",
    "            nn.ReLU(),\n",
    "            nn.Conv2d(in_channels=input_c, \n",
    "                      out_channels = output_channels, \n",
    "                      kernel_size=3,\n",
    "                      stride=1,\n",
    "                      padding=1\n",
    "                      ),\n",
    "            nn.ReLU(), \n",
    "            nn.MaxPool2d(kernel_size=2, stride=1)\n",
    "        )\n",
    "        # let's calculate the width and height after passing through the first \n",
    "        for layer in self.block_1:\n",
    "            if isinstance(layer, nn.Conv2d):\n",
    "                input_h, input_w =  dimensions_after_convolution((input_h, input_w), kernel_size=layer.kernel_size, stride=layer.stride, padding=layer.padding)\n",
    "\n",
    "        self.block_2 = nn.Sequential(\n",
    "            nn.Conv2d(output_channels, output_channels, 3, stride=1, padding=1), \n",
    "            nn.ReLU(), \n",
    "            nn.Conv2d(output_channels, output_channels, 3, stride=1, padding=1), \n",
    "            nn.ReLU(), \n",
    "            nn.MaxPool2d(2)\n",
    "        )\n",
    "\n",
    "        # apply the same principle with the second block\n",
    "        for layer in self.block_2:\n",
    "            if isinstance(layer, nn.Conv2d):\n",
    "                input_h, input_w =  dimensions_after_convolution((input_h, input_w), kernel_size=layer.kernel_size, stride=layer.stride, padding=layer.padding)\n",
    "        \n",
    "        # now we are ready for for the fully conneted part\n",
    "        self.fully_connected = nn.Sequential(\n",
    "            nn.Flatten(), # flatten the multi-dimensional data into a single vector\n",
    "            nn.Linear(in_features=input_h * input_w * output_channels, out_features= 1 if num_classes <= 2 else num_classes) \n",
    "        )\n",
    "    \n",
    "    def forward(self, x):\n",
    "        x1 = self.block_1(x)\n",
    "        x2 = self.block_2(x1)    \n",
    "        return self.fully_connected(x2)\n",
    "    "
   ]
  },
  {
   "cell_type": "code",
   "execution_count": 52,
   "metadata": {},
   "outputs": [],
   "source": [
    "cnn = CNN(input_shape=(1, 28, 28), output_channels=3, num_classes=10)"
   ]
  }
 ],
 "metadata": {
  "kernelspec": {
   "display_name": "Python 3.9.12 ('ds_env')",
   "language": "python",
   "name": "python3"
  },
  "language_info": {
   "codemirror_mode": {
    "name": "ipython",
    "version": 3
   },
   "file_extension": ".py",
   "mimetype": "text/x-python",
   "name": "python",
   "nbconvert_exporter": "python",
   "pygments_lexer": "ipython3",
   "version": "3.9.12"
  },
  "orig_nbformat": 4,
  "vscode": {
   "interpreter": {
    "hash": "7bb0ce5cb6b092cde9f0ba713d915425207ed6ea08d3ede97530b87c251a3aee"
   }
  }
 },
 "nbformat": 4,
 "nbformat_minor": 2
}
