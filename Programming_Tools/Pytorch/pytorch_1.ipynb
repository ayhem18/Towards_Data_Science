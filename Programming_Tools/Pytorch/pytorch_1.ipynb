{
 "cells": [
  {
   "attachments": {},
   "cell_type": "markdown",
   "metadata": {},
   "source": [
    "# Overview\n",
    "This notebook was created to save and track my Pytorch learning Journey. This notebook is likely to have multiple sequels as this Pytorch is quite a complex and sophisticated framework"
   ]
  },
  {
   "attachments": {},
   "cell_type": "markdown",
   "metadata": {},
   "source": [
    "# Fundamentals"
   ]
  },
  {
   "attachments": {},
   "cell_type": "markdown",
   "metadata": {},
   "source": [
    "install CUDA on your local machine if a GPU is available. Don't forget to google cuda is still not available!!!"
   ]
  },
  {
   "cell_type": "code",
   "execution_count": 16,
   "metadata": {},
   "outputs": [
    {
     "data": {
      "text/plain": [
       "True"
      ]
     },
     "execution_count": 16,
     "metadata": {},
     "output_type": "execute_result"
    }
   ],
   "source": [
    "import torch\n",
    "torch.cuda.is_available()"
   ]
  },
  {
   "attachments": {},
   "cell_type": "markdown",
   "metadata": {},
   "source": [
    "## tensors"
   ]
  },
  {
   "attachments": {},
   "cell_type": "markdown",
   "metadata": {},
   "source": [
    "starting with some theory ? what is a tensor ?  \n",
    "Well, first assuming the existence of a basis of $n$ vectors. then a tensor of rank $m$ is a quantity that is defined by $n^m$ components. Generally this quantity represents a phenomena that can be mathematically modeled by $m$ different vectors. Each component represents a scalar associated with a combination among the possible combinations of choosing $n$ directions (from the basis vectors) $m$ times with repetition.  \n",
    "HERE IS  A GREAT [REFERENCE](https://www.youtube.com/watch?v=f5liqUk0ZTw)  \n",
    "resources:  \n",
    "1. [torch.tensor](https://pytorch.org/docs/stable/tensors.html)\n",
    "2. [ZTM course](https://www.learnpytorch.io/00_pytorch_fundamentals/)"
   ]
  },
  {
   "attachments": {},
   "cell_type": "markdown",
   "metadata": {},
   "source": [
    "Nevertheless, let's get more acquainted with tensors in ***Pytorch***   \n",
    "1. a scalar is a tensor of dimension $0$\n",
    "2. a vector is a tensor of dimension $1$\n",
    "3. a matrix is a tensor of dimension $2$\n",
    "4. an image is a tensor of dimension $3$"
   ]
  },
  {
   "cell_type": "code",
   "execution_count": 17,
   "metadata": {},
   "outputs": [
    {
     "name": "stdout",
     "output_type": "stream",
     "text": [
      "torch.Size([2, 3, 3])\n",
      "3\n",
      "tensor([[0.6509, 0.1139, 0.0489, 0.0838],\n",
      "        [0.9171, 0.0033, 0.7360, 0.3477],\n",
      "        [0.3440, 0.5092, 0.4530, 0.8549]])\n",
      "tensor([[[0.4281, 0.5576, 0.1108, 0.0435],\n",
      "         [0.9447, 0.1223, 0.6497, 0.8519],\n",
      "         [0.1029, 0.1419, 0.1922, 0.9509]],\n",
      "\n",
      "        [[0.6581, 0.5660, 0.5143, 0.1832],\n",
      "         [0.9761, 0.0814, 0.0212, 0.2574],\n",
      "         [0.9625, 0.7300, 0.7563, 0.7645]]])\n"
     ]
    }
   ],
   "source": [
    "# Tensor\n",
    "t = torch.tensor([[[1, 2, 3],\n",
    "                        [3, 6, 9],\n",
    "                        [2, 4, 5]], \n",
    "                [[1, 2, 3], \n",
    "                 [1, 1, 1],\n",
    "                  [2,2,2]]])\n",
    "\n",
    "print(t.shape)\n",
    "print(t.ndim)\n",
    "\n",
    "# creating tensors is not usually done manuallym\n",
    "# here is some good tensor-creation methos\n",
    "t1 = torch.rand(size=(3, 4))\n",
    "t2 = torch.rand(size=(2, 3, 4))\n",
    "\n",
    "print(t1)\n",
    "print(t2)\n"
   ]
  },
  {
   "cell_type": "code",
   "execution_count": 18,
   "metadata": {},
   "outputs": [
    {
     "name": "stdout",
     "output_type": "stream",
     "text": [
      "shape of tensor: torch.Size([2, 2, 2])\n",
      "data type of tensor: torch.float32\n",
      "the device where the tensor is stored: cpu\n"
     ]
    }
   ],
   "source": [
    "ones1 = torch.ones(size=(3, 1))\n",
    "ones2 = torch.ones(size=(3, 2))\n",
    "# print(ones1, ones2, sep='\\n')\n",
    "\n",
    "# let's create some tensor and extract its characteristics\n",
    "t = torch.rand(size=(2, 2, 2))\n",
    "print(f\"shape of tensor: {t.shape}\")\n",
    "print(f\"data type of tensor: {t.dtype}\")\n",
    "print(f\"the device where the tensor is stored: {t.device}\")"
   ]
  },
  {
   "attachments": {},
   "cell_type": "markdown",
   "metadata": {},
   "source": [
    "Most of runtime errors would probably be cause by a mismatch of ones of these fields."
   ]
  },
  {
   "cell_type": "code",
   "execution_count": 20,
   "metadata": {},
   "outputs": [
    {
     "name": "stdout",
     "output_type": "stream",
     "text": [
      "tensor([[2., 2.],\n",
      "        [2., 2.],\n",
      "        [2., 2.]])\n",
      "tensor([[9., 9.],\n",
      "        [9., 9.],\n",
      "        [9., 9.]])\n"
     ]
    }
   ],
   "source": [
    "# as for operations with matrices, they are the same as in python, numpy\n",
    "print(ones1 + ones2) # broadcasting works here\n",
    "print((ones1 + 1) * (ones2 + 3.5)) # should have a (3, 2) with 9.0 for each value"
   ]
  },
  {
   "cell_type": "code",
   "execution_count": 23,
   "metadata": {},
   "outputs": [
    {
     "name": "stdout",
     "output_type": "stream",
     "text": [
      "torch.Size([])\n",
      "0\n"
     ]
    }
   ],
   "source": [
    "s = torch.tensor(1)\n",
    "print(s.shape)\n",
    "print(s.ndim)"
   ]
  }
 ],
 "metadata": {
  "kernelspec": {
   "display_name": "Python 3.9.12 ('ds_env')",
   "language": "python",
   "name": "python3"
  },
  "language_info": {
   "codemirror_mode": {
    "name": "ipython",
    "version": 3
   },
   "file_extension": ".py",
   "mimetype": "text/x-python",
   "name": "python",
   "nbconvert_exporter": "python",
   "pygments_lexer": "ipython3",
   "version": "3.9.12"
  },
  "orig_nbformat": 4,
  "vscode": {
   "interpreter": {
    "hash": "7bb0ce5cb6b092cde9f0ba713d915425207ed6ea08d3ede97530b87c251a3aee"
   }
  }
 },
 "nbformat": 4,
 "nbformat_minor": 2
}
