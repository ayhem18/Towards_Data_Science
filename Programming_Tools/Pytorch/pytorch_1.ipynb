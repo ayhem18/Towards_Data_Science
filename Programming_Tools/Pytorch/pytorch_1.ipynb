{
 "cells": [
  {
   "attachments": {},
   "cell_type": "markdown",
   "metadata": {},
   "source": [
    "# Overview\n",
    "This notebook was created to save and track my Pytorch learning Journey. This notebook is likely to have multiple sequels as this Pytorch is quite a complex and sophisticated framework"
   ]
  },
  {
   "attachments": {},
   "cell_type": "markdown",
   "metadata": {},
   "source": [
    "# Fundamentals"
   ]
  },
  {
   "attachments": {},
   "cell_type": "markdown",
   "metadata": {},
   "source": [
    "install CUDA on your local machine if a GPU is available. Don't forget to google cuda is still not available!!!"
   ]
  },
  {
   "cell_type": "code",
   "execution_count": 1,
   "metadata": {},
   "outputs": [
    {
     "data": {
      "text/plain": [
       "True"
      ]
     },
     "execution_count": 1,
     "metadata": {},
     "output_type": "execute_result"
    }
   ],
   "source": [
    "import torch\n",
    "torch.cuda.is_available()"
   ]
  },
  {
   "attachments": {},
   "cell_type": "markdown",
   "metadata": {},
   "source": [
    "## tensors"
   ]
  },
  {
   "attachments": {},
   "cell_type": "markdown",
   "metadata": {},
   "source": [
    "starting with some theory ? what is a tensor ?  \n",
    "Well, first assuming the existence of a basis of $n$ vectors. then a tensor of rank $m$ is a quantity that is defined by $n^m$ components. Generally this quantity represents a phenomena that can be mathematically modeled by $m$ different vectors. Each component represents a scalar associated with a combination among the possible combinations of choosing $n$ directions (from the basis vectors) $m$ times with repetition.  \n",
    "HERE IS  A GREAT [REFERENCE](https://www.youtube.com/watch?v=f5liqUk0ZTw)  \n",
    "resources:  \n",
    "1. [torch.tensor](https://pytorch.org/docs/stable/tensors.html)\n",
    "2. [ZTM course](https://www.learnpytorch.io/00_pytorch_fundamentals/)"
   ]
  },
  {
   "attachments": {},
   "cell_type": "markdown",
   "metadata": {},
   "source": [
    "Nevertheless, let's get more acquainted with tensors in ***Pytorch***   \n",
    "1. a scalar is a tensor of dimension $0$\n",
    "2. a vector is a tensor of dimension $1$\n",
    "3. a matrix is a tensor of dimension $2$\n",
    "4. an image is a tensor of dimension $3$"
   ]
  },
  {
   "cell_type": "code",
   "execution_count": 2,
   "metadata": {},
   "outputs": [
    {
     "name": "stdout",
     "output_type": "stream",
     "text": [
      "torch.Size([2, 3, 3])\n",
      "3\n",
      "tensor([[0.3052, 0.8864, 0.3885, 0.8860],\n",
      "        [0.0616, 0.7759, 0.0038, 0.0209],\n",
      "        [0.8047, 0.3166, 0.4789, 0.9957]])\n",
      "tensor([[[0.7744, 0.9943, 0.4669, 0.1222],\n",
      "         [0.6708, 0.0639, 0.7935, 0.1164],\n",
      "         [0.1316, 0.6393, 0.9622, 0.5932]],\n",
      "\n",
      "        [[0.7057, 0.4395, 0.3135, 0.0034],\n",
      "         [0.8677, 0.2202, 0.4763, 0.0312],\n",
      "         [0.9878, 0.6242, 0.2862, 0.7329]]])\n"
     ]
    }
   ],
   "source": [
    "# Tensor\n",
    "t = torch.tensor([[[1, 2, 3],\n",
    "                        [3, 6, 9],\n",
    "                        [2, 4, 5]], \n",
    "                [[1, 2, 3], \n",
    "                 [1, 1, 1],\n",
    "                  [2,2,2]]])\n",
    "\n",
    "print(t.shape)\n",
    "print(t.ndim)\n",
    "\n",
    "# creating tensors is not usually done manuallym\n",
    "# here is some good tensor-creation methos\n",
    "t1 = torch.rand(size=(3, 4))\n",
    "t2 = torch.rand(size=(2, 3, 4))\n",
    "\n",
    "print(t1)\n",
    "print(t2)\n"
   ]
  },
  {
   "cell_type": "code",
   "execution_count": 3,
   "metadata": {},
   "outputs": [
    {
     "name": "stdout",
     "output_type": "stream",
     "text": [
      "shape of tensor: torch.Size([2, 2, 2])\n",
      "data type of tensor: torch.float32\n",
      "the device where the tensor is stored: cpu\n"
     ]
    }
   ],
   "source": [
    "ones1 = torch.ones(size=(3, 1))\n",
    "ones2 = torch.ones(size=(3, 2))\n",
    "# print(ones1, ones2, sep='\\n')\n",
    "\n",
    "# let's create some tensor and extract its characteristics\n",
    "t = torch.rand(size=(2, 2, 2))\n",
    "print(f\"shape of tensor: {t.shape}\")\n",
    "print(f\"data type of tensor: {t.dtype}\")\n",
    "print(f\"the device where the tensor is stored: {t.device}\")"
   ]
  },
  {
   "attachments": {},
   "cell_type": "markdown",
   "metadata": {},
   "source": [
    "Most of runtime errors would probably be cause by a mismatch of ones of these fields."
   ]
  },
  {
   "cell_type": "code",
   "execution_count": 4,
   "metadata": {},
   "outputs": [
    {
     "name": "stdout",
     "output_type": "stream",
     "text": [
      "tensor([[2., 2.],\n",
      "        [2., 2.],\n",
      "        [2., 2.]])\n",
      "tensor([[9., 9.],\n",
      "        [9., 9.],\n",
      "        [9., 9.]])\n"
     ]
    }
   ],
   "source": [
    "# as for operations with matrices, they are the same as in python, numpy\n",
    "print(ones1 + ones2) # broadcasting works here\n",
    "print((ones1 + 1) * (ones2 + 3.5)) # should have a (3, 2) with 9.0 for each value"
   ]
  },
  {
   "cell_type": "code",
   "execution_count": 5,
   "metadata": {},
   "outputs": [
    {
     "name": "stdout",
     "output_type": "stream",
     "text": [
      "torch.Size([2, 1])\n",
      "tensor([[ 1.3018,  1.0225,  0.3850, -0.6118],\n",
      "        [ 0.0595,  1.6494, -0.4485,  1.2031],\n",
      "        [ 1.3379,  0.1720,  0.8320, -0.1241]])\n"
     ]
    }
   ],
   "source": [
    "# as for the matrix multiplication (not the element wise one)\n",
    "# we should a built-in function where the result depends hugely on the arguments' dimensions\n",
    "# in other words if the result of the multiplication is mathematically a vector, then the object will have only 1 dimension, if it is a scalar then it will be 0-dimensional\n",
    "print(torch.mm(ones2.T, ones1).size()) # this will be 2 * 1 matrix: or a 2-dimensional vector\n",
    "# if the data type is a problem, then we can convert it easily\n",
    "t = torch.randn(size=(3, 4), dtype=torch.float16)\n",
    "t = t.type(torch.float32)\n",
    "print(t)"
   ]
  },
  {
   "cell_type": "code",
   "execution_count": 6,
   "metadata": {},
   "outputs": [
    {
     "name": "stdout",
     "output_type": "stream",
     "text": [
      "tensor([[ 1.,  2.,  3.],\n",
      "        [-1.,  3.,  4.]])\n",
      "tensor([[[ 1.,  2.],\n",
      "         [ 3., -1.],\n",
      "         [ 3.,  4.]]])\n"
     ]
    }
   ],
   "source": [
    "# dealing with shapes\n",
    "# be mindful of views are they copied by reference\n",
    "t = torch.tensor([[1, 2, 3], [2, 3, 4]], dtype=torch.float32)\n",
    "t_v = t.view(1, 3, 2)\n",
    "\n",
    "# changing a view affects the original tensor\n",
    "t_v[0, 1, 1] = -1\n",
    "# let's see the change reflected on 't' \n",
    "print(t, t_v, sep='\\n')"
   ]
  },
  {
   "cell_type": "code",
   "execution_count": 7,
   "metadata": {},
   "outputs": [
    {
     "name": "stdout",
     "output_type": "stream",
     "text": [
      "tensor([[ 1.,  2.],\n",
      "        [ 3., -1.],\n",
      "        [ 3.,  4.]])\n"
     ]
    }
   ],
   "source": [
    "# fed up with dimensions of value 1: squeeze() is ur best friend\n",
    "squeezed_t = t_v.squeeze()\n",
    "print(squeezed_t)\n",
    "# with squeezing comes unsqueezing: adding another dimension of value 1: the dimension should be specified\n"
   ]
  },
  {
   "attachments": {},
   "cell_type": "markdown",
   "metadata": {},
   "source": [
    "# Workflow Fundamentals\n",
    "Working with ML and DL has a general outline:\n",
    "1. Preparing data: the raw data can be of any format. This steps converts it to numerical tensors\n",
    "2. Building a model: creating a model to fit the data\n",
    "3. Train the model: let the model understand the patterns in the data\n",
    "4. inference: use the patterns discoved by the model to make predictions\n",
    "5. saving the model\n",
    "6. Combining the results of the previous steps"
   ]
  },
  {
   "attachments": {},
   "cell_type": "markdown",
   "metadata": {},
   "source": [
    "## Building the model (and preparing the data...)"
   ]
  },
  {
   "cell_type": "code",
   "execution_count": 8,
   "metadata": {},
   "outputs": [],
   "source": [
    "# let's start small with a simple linear regression problem\n",
    "from torch import nn\n",
    "import matplotlib.pyplot as plt"
   ]
  },
  {
   "cell_type": "code",
   "execution_count": 9,
   "metadata": {},
   "outputs": [],
   "source": [
    "# let's get our line\n",
    "w , b = 0.8, 2.5\n",
    "x = torch.linspace(0, 100, 2001)\n",
    "y = (w * x + b).unsqueeze(dim=1)\n",
    "\n",
    "train_size = int(0.8 * torch.numel(x))\n",
    "\n",
    "# train\n",
    "x_train = x[:train_size]\n",
    "y_train = y[:train_size]\n",
    "# test\n",
    "x_test = x[train_size:]\n",
    "y_test = y[train_size:]"
   ]
  },
  {
   "cell_type": "code",
   "execution_count": 10,
   "metadata": {},
   "outputs": [],
   "source": [
    "def plot_data(x_train, y_train, x_test, y_test, y_pred=None):\n",
    "    plt.figure(figsize=(10, 7))\n",
    "    plt.scatter(x_train, y_train, label='train data', c='b', marker='*', )\n",
    "    plt.scatter(x_test, y_test, label='test data', c='r', marker='+')\n",
    "    if y_pred is not None:\n",
    "        plt.scatter(x_test, y_pred, label='predictions', c='g', marker='o')\n",
    "    plt.legend()\n",
    "    plt.show()\n",
    "    "
   ]
  },
  {
   "cell_type": "code",
   "execution_count": 11,
   "metadata": {},
   "outputs": [],
   "source": [
    "# creating the famous linear regression model\n",
    " \n",
    "class LinearRegressionModel1(nn.Module):\n",
    "    def __init__(self):\n",
    "        # call the super's class initialization function\n",
    "        super().__init__()\n",
    "        #the random value assigned to the parameter represents an initial value that can be updated thanks to requires_grad argument\n",
    "        self.weights = nn.Parameter(torch.randn(1, dtype=torch.float), requires_grad=True) \n",
    "\n",
    "        # the bias parameter\n",
    "        self.bias = nn.Parameter(torch.randn(1, dtype=torch.float), requires_grad=True)\n",
    "\n",
    "    # the forward function defines how the parameters are used: the final value is produced\n",
    "    def forward(self, x: torch.Tensor) -> torch.Tensor:\n",
    "        return x * self.weights + self.bias"
   ]
  },
  {
   "attachments": {},
   "cell_type": "markdown",
   "metadata": {},
   "source": [
    "Let's talk about the modules needed here:\n",
    "1. torch.nn: so mainly contains all the computational blocks needed for our models\n",
    "2. torch.nn.Parameter: models that represents tensors of learnable parameters\n",
    "3. torch.nn.Module: the parent class of all neural networks implementations: requires a concrete implementation of the forward() function\n",
    "4. torch.optim: inlcudes all the optimization algorithms "
   ]
  },
  {
   "cell_type": "code",
   "execution_count": 12,
   "metadata": {},
   "outputs": [
    {
     "name": "stdout",
     "output_type": "stream",
     "text": [
      "OrderedDict([('weights', tensor([-0.5259])), ('bias', tensor([-2.6043]))])\n"
     ]
    }
   ],
   "source": [
    "# let's see the model in action\n",
    "torch.manual_seed(69)\n",
    "m = LinearRegressionModel1()\n",
    "list(m.parameters())\n",
    "\n",
    "print(m.state_dict())\n",
    "\n",
    "#  the parameters were set to random values\n",
    "# time to make some predictions (with random parameters, cool , isn't??)\n",
    "\n",
    "with torch.inference_mode():\n",
    "    y_preds = m(x_test)"
   ]
  },
  {
   "attachments": {},
   "cell_type": "markdown",
   "metadata": {},
   "source": [
    "Older Pytorch code would use the torch.no_grad(), the latter is replaced by a safer and probably faster inference_mode() functionality."
   ]
  },
  {
   "cell_type": "code",
   "execution_count": 13,
   "metadata": {},
   "outputs": [
    {
     "name": "stdout",
     "output_type": "stream",
     "text": [
      "tensor([-44.6755, -44.7018, -44.7281, -44.7544, -44.7807, -44.8070, -44.8333,\n",
      "        -44.8596, -44.8859, -44.9122, -44.9385, -44.9648, -44.9911, -45.0173,\n",
      "        -45.0436, -45.0699, -45.0962, -45.1225, -45.1488, -45.1751, -45.2014,\n",
      "        -45.2277, -45.2540, -45.2803, -45.3066, -45.3329, -45.3592, -45.3855,\n",
      "        -45.4118, -45.4381, -45.4644, -45.4906, -45.5169, -45.5432, -45.5695,\n",
      "        -45.5958, -45.6221, -45.6484, -45.6747, -45.7010, -45.7273, -45.7536,\n",
      "        -45.7799, -45.8062, -45.8325, -45.8588, -45.8851, -45.9114, -45.9377,\n",
      "        -45.9640, -45.9902, -46.0165, -46.0428, -46.0691, -46.0954, -46.1217,\n",
      "        -46.1480, -46.1743, -46.2006, -46.2269, -46.2532, -46.2795, -46.3058,\n",
      "        -46.3321, -46.3584, -46.3847, -46.4109, -46.4372, -46.4635, -46.4898,\n",
      "        -46.5161, -46.5424, -46.5687, -46.5950, -46.6213, -46.6476, -46.6739,\n",
      "        -46.7002, -46.7265, -46.7528, -46.7791, -46.8054, -46.8317, -46.8580,\n",
      "        -46.8843, -46.9106, -46.9368, -46.9631, -46.9894, -47.0157, -47.0420,\n",
      "        -47.0683, -47.0946, -47.1209, -47.1472, -47.1735, -47.1998, -47.2261,\n",
      "        -47.2524, -47.2787, -47.3050, -47.3313, -47.3576, -47.3839, -47.4101,\n",
      "        -47.4364, -47.4627, -47.4890, -47.5153, -47.5416, -47.5679, -47.5942,\n",
      "        -47.6205, -47.6468, -47.6731, -47.6994, -47.7257, -47.7520, -47.7783,\n",
      "        -47.8046, -47.8309, -47.8572, -47.8834, -47.9097, -47.9360, -47.9623,\n",
      "        -47.9886, -48.0149, -48.0412, -48.0675, -48.0938, -48.1201, -48.1464,\n",
      "        -48.1727, -48.1990, -48.2253, -48.2516, -48.2779, -48.3042, -48.3305,\n",
      "        -48.3568, -48.3830, -48.4093, -48.4356, -48.4619, -48.4882, -48.5145,\n",
      "        -48.5408, -48.5671, -48.5934, -48.6197, -48.6460, -48.6723, -48.6986,\n",
      "        -48.7249, -48.7512, -48.7775, -48.8038, -48.8301, -48.8563, -48.8826,\n",
      "        -48.9089, -48.9352, -48.9615, -48.9878, -49.0141, -49.0404, -49.0667,\n",
      "        -49.0930, -49.1193, -49.1456, -49.1719, -49.1982, -49.2245, -49.2508,\n",
      "        -49.2771, -49.3034, -49.3297, -49.3559, -49.3822, -49.4085, -49.4348,\n",
      "        -49.4611, -49.4874, -49.5137, -49.5400, -49.5663, -49.5926, -49.6189,\n",
      "        -49.6452, -49.6715, -49.6978, -49.7241, -49.7504, -49.7766, -49.8029,\n",
      "        -49.8292, -49.8555, -49.8818, -49.9081, -49.9344, -49.9607, -49.9870,\n",
      "        -50.0133, -50.0396, -50.0659, -50.0922, -50.1185, -50.1448, -50.1711,\n",
      "        -50.1974, -50.2237, -50.2500, -50.2763, -50.3026, -50.3288, -50.3551,\n",
      "        -50.3814, -50.4077, -50.4340, -50.4603, -50.4866, -50.5129, -50.5392,\n",
      "        -50.5655, -50.5918, -50.6181, -50.6444, -50.6707, -50.6970, -50.7233,\n",
      "        -50.7495, -50.7758, -50.8021, -50.8284, -50.8547, -50.8810, -50.9073,\n",
      "        -50.9336, -50.9599, -50.9862, -51.0125, -51.0388, -51.0651, -51.0914,\n",
      "        -51.1177, -51.1440, -51.1703, -51.1966, -51.2229, -51.2491, -51.2754,\n",
      "        -51.3017, -51.3280, -51.3543, -51.3806, -51.4069, -51.4332, -51.4595,\n",
      "        -51.4858, -51.5121, -51.5384, -51.5647, -51.5910, -51.6173, -51.6436,\n",
      "        -51.6699, -51.6962, -51.7225, -51.7487, -51.7750, -51.8013, -51.8276,\n",
      "        -51.8539, -51.8802, -51.9065, -51.9328, -51.9591, -51.9854, -52.0117,\n",
      "        -52.0380, -52.0643, -52.0906, -52.1169, -52.1432, -52.1695, -52.1958,\n",
      "        -52.2220, -52.2483, -52.2746, -52.3009, -52.3272, -52.3535, -52.3798,\n",
      "        -52.4061, -52.4324, -52.4587, -52.4850, -52.5113, -52.5376, -52.5639,\n",
      "        -52.5902, -52.6165, -52.6428, -52.6691, -52.6954, -52.7216, -52.7479,\n",
      "        -52.7742, -52.8005, -52.8268, -52.8531, -52.8794, -52.9057, -52.9320,\n",
      "        -52.9583, -52.9846, -53.0109, -53.0372, -53.0635, -53.0898, -53.1161,\n",
      "        -53.1424, -53.1686, -53.1949, -53.2212, -53.2475, -53.2738, -53.3001,\n",
      "        -53.3264, -53.3527, -53.3790, -53.4053, -53.4316, -53.4579, -53.4842,\n",
      "        -53.5105, -53.5368, -53.5631, -53.5894, -53.6157, -53.6420, -53.6683,\n",
      "        -53.6945, -53.7208, -53.7471, -53.7734, -53.7997, -53.8260, -53.8523,\n",
      "        -53.8786, -53.9049, -53.9312, -53.9575, -53.9838, -54.0101, -54.0364,\n",
      "        -54.0627, -54.0890, -54.1152, -54.1415, -54.1678, -54.1941, -54.2204,\n",
      "        -54.2467, -54.2730, -54.2993, -54.3256, -54.3519, -54.3782, -54.4045,\n",
      "        -54.4308, -54.4571, -54.4834, -54.5097, -54.5360, -54.5623, -54.5886,\n",
      "        -54.6148, -54.6411, -54.6674, -54.6937, -54.7200, -54.7463, -54.7726,\n",
      "        -54.7989, -54.8252, -54.8515, -54.8778, -54.9041, -54.9304, -54.9567,\n",
      "        -54.9830, -55.0093, -55.0356, -55.0619, -55.0882, -55.1144, -55.1407,\n",
      "        -55.1670, -55.1933])\n"
     ]
    },
    {
     "data": {
      "image/png": "[encoded data removed]",
      "text/plain": [
       "<Figure size 1000x700 with 1 Axes>"
      ]
     },
     "metadata": {},
     "output_type": "display_data"
    }
   ],
   "source": [
    "print(y_preds)\n",
    "# let's see out predictions in action (in visualization actually xD)\n",
    "plot_data(x_train, y_train, x_test, y_test, y_pred=y_preds)\n",
    "# YOU CAN NOW SEE THE POWER OF RANDOM GUESSING"
   ]
  },
  {
   "attachments": {},
   "cell_type": "markdown",
   "metadata": {},
   "source": [
    "## Train model\n",
    "After seeing the magic of random guessing, it is time for our model to get its hands (hands ??) dirty with the data (see it is a figure of speech). We will need the following:\n",
    "1. loss function: determines how far our model's current estimations\n",
    "2. Optimizer: an algorithm that can use the errors, the actual labels to find the optimal parameters"
   ]
  },
  {
   "cell_type": "code",
   "execution_count": 14,
   "metadata": {},
   "outputs": [],
   "source": [
    "# choosing the right optimizer as well as hyperparameter tuning are not that a big of a deal in all honesty (well the more theory one has, the better in this regard)\n",
    "# let's create some training loops: remember the LinearRegressionModel class, let's make it for real now\n",
    "\n",
    "class LinearRegressionModel(nn.Module):\n",
    "    def __init__(self, loss_function=None, optimizer=None, epochs:int=20, epochs_per_log:int=5):\n",
    "        # first call the super class' __init__ method\n",
    "        super().__init__()        \n",
    "\n",
    "        # set the epochs' parameters        \n",
    "        self.epochs = epochs # the number of epochs in the training loop\n",
    "        self.epochs_per_log = epochs_per_log # how often should the error be displayed\n",
    "        \n",
    "        # initialize the weight(s) and bias with random values: they are scalars\n",
    "        self.weight = nn.Parameter(torch.randn(1, dtype=torch.float), requires_grad=True)\n",
    "        self.bias = nn.Parameter(torch.randn(1, dtype=torch.float), requires_grad=True)\n",
    "\n",
    "\n",
    "        # !!!! KEEP IN MIND THE OPTIMIZER SHOULD BE DEFINED AFTER THE PARAMETERS' DEFINITION\n",
    "\n",
    "        # first set the loss function and the optimizer \n",
    "        self.loss_function = nn.MSELoss() if loss_function is None else loss_function# set to the default parameters\n",
    "        self.optimizer = torch.optim.Adam(self.parameters()) if optimizer is None else optimizer(self.parameters())\n",
    "\n",
    "        # create attributes to save the model's training progress and results\n",
    "        self.train_ls = []\n",
    "        self.test_ls = []\n",
    "\n",
    "\n",
    "    # don't forget to implement the forward function \n",
    "    def forward(self, x: torch.tensor) -> torch.tensor:\n",
    "        # is the input to our computation\n",
    "        return self.weight * x + self.bias\n",
    "    \n",
    "    def test_model(self, X_test, Y_test, return_test_ls=False):\n",
    "        # we calculate the results on the test data\n",
    "        # put the model into evaluation mode\n",
    "        self.eval()\n",
    "        \n",
    "        with torch.inference_mode(): \n",
    "            # predict the results with the current parameters\n",
    "            y_pred_test = self(X_test)\n",
    "            # before calculating the loss, it is crucial to verify the test's predictions are of the same shape as the target values \n",
    "            if y_pred_test.size() != Y_test.size(): \n",
    "                y_pred_test = torch.unsqueeze(y_pred_test, dim=1) # supposedly the difference is due ot have an extra dimension of length of 1 in one of the tensors\n",
    "\n",
    "            assert y_pred_test.size() == Y_test.size()\n",
    "            \n",
    "            # calculate the test loss       \n",
    "            test_loss = self.loss_function(y_pred_test, Y_test)\n",
    "        \n",
    "        if return_test_ls: \n",
    "            return y_pred_test, test_loss\n",
    "\n",
    "        return y_pred_test\n",
    "\n",
    "    # let's add a decent training_loop\n",
    "    def train_model(self, X_train, Y_train, X_test=None, Y_test=None):\n",
    "        # clear the list of previous losses\n",
    "        self.test_ls.clear()\n",
    "        self.train_ls.clear()        \n",
    "        \n",
    "        for epo in range(self.epochs):\n",
    "            # set the model to the train state\n",
    "            ## !!!! BEAWARE \n",
    "            \n",
    "            self.train()\n",
    "            # perform a forward pass: calculate the predictions with the current parameters\n",
    "            y_pred_current = self(X_train)\n",
    "\n",
    "            # making sure the predictions and the target variables are of the same shape\n",
    "            if y_pred_current.size() != Y_train.size(): \n",
    "                y_pred_current = torch.unsqueeze(y_pred_current, dim=1)\n",
    "\n",
    "            assert y_pred_current.size() == Y_train.size()\n",
    "\n",
    "            # calculate the loss of the current predictions\n",
    "            current_loss = self.loss_function(y_pred_current, Y_train)\n",
    "            # set the optimizer to zero grad\n",
    "            self.optimizer.zero_grad()\n",
    "            # loss backward\n",
    "            current_loss.backward()\n",
    "            # update the parameters\n",
    "            self.optimizer.step()\n",
    "\n",
    "            if X_test is not None and Y_test is not None:\n",
    "                t_preds, test_loss = self.test_model(X_test, Y_test, return_test_ls=True)\n",
    "                if epo % self.epochs_per_log == 0:\n",
    "                    self.train_ls.append(current_loss.detach().numpy())\n",
    "                    self.test_ls.append(test_loss.detach().numpy())\n",
    "                    print(f\"The train loss after {epo} epochs is: {self.train_ls[-1]}\\nThe test loss after {epo} epochs is: {self.test_ls[-1]}\")\n",
    "                    print()\n",
    "        "
   ]
  },
  {
   "cell_type": "code",
   "execution_count": 15,
   "metadata": {},
   "outputs": [
    {
     "name": "stdout",
     "output_type": "stream",
     "text": [
      "The train loss after 0 epochs is: 4572.9150390625\n",
      "The test loss after 0 epochs is: 17231.439453125\n",
      "\n",
      "The train loss after 5 epochs is: 4541.166015625\n",
      "The test loss after 5 epochs is: 17111.966796875\n",
      "\n",
      "The train loss after 10 epochs is: 4509.53759765625\n",
      "The test loss after 10 epochs is: 16992.953125\n",
      "\n",
      "The train loss after 15 epochs is: 4478.0390625\n",
      "The test loss after 15 epochs is: 16874.431640625\n",
      "\n"
     ]
    }
   ],
   "source": [
    "# let's see how our model works\n",
    "lr = LinearRegressionModel()\n",
    "\n",
    "lr.train_model(x_train, y_train, x_test, y_test)"
   ]
  },
  {
   "cell_type": "code",
   "execution_count": 16,
   "metadata": {},
   "outputs": [
    {
     "name": "stdout",
     "output_type": "stream",
     "text": [
      "The train loss after 0 epochs is: 58.37435531616211\n",
      "The test loss after 0 epochs is: 127.29713439941406\n",
      "\n",
      "The train loss after 20 epochs is: 57.55486297607422\n",
      "The test loss after 20 epochs is: 125.47716522216797\n",
      "\n",
      "The train loss after 40 epochs is: 56.735374450683594\n",
      "The test loss after 40 epochs is: 123.65718841552734\n",
      "\n",
      "The train loss after 60 epochs is: 55.915889739990234\n",
      "The test loss after 60 epochs is: 121.83721160888672\n",
      "\n",
      "The train loss after 80 epochs is: 55.096397399902344\n",
      "The test loss after 80 epochs is: 120.01724243164062\n",
      "\n",
      "The train loss after 100 epochs is: 54.276912689208984\n",
      "The test loss after 100 epochs is: 118.19727325439453\n",
      "\n",
      "The train loss after 120 epochs is: 53.457420349121094\n",
      "The test loss after 120 epochs is: 116.37728881835938\n",
      "\n",
      "The train loss after 140 epochs is: 52.6379280090332\n",
      "The test loss after 140 epochs is: 114.55731964111328\n",
      "\n",
      "The train loss after 160 epochs is: 51.81844711303711\n",
      "The test loss after 160 epochs is: 112.73733520507812\n",
      "\n",
      "The train loss after 180 epochs is: 50.99895095825195\n",
      "The test loss after 180 epochs is: 110.9173583984375\n",
      "\n"
     ]
    }
   ],
   "source": [
    "# hmmm, mixed feelings I guess... let's add some more epochs as well as a slightly different loss function\n",
    "\n",
    "lr = LinearRegressionModel(loss_function=nn.L1Loss(), epochs=200, epochs_per_log=20)\n",
    "lr.train_model(x_train, y_train, x_test, y_test)\n",
    "\n",
    "predictions = lr.test_model(x_test, y_test)"
   ]
  },
  {
   "cell_type": "code",
   "execution_count": 17,
   "metadata": {},
   "outputs": [
    {
     "data": {
      "image/png": "[encoded data removed]",
      "text/plain": [
       "<Figure size 1000x700 with 1 Axes>"
      ]
     },
     "metadata": {},
     "output_type": "display_data"
    }
   ],
   "source": [
    "plot_data(x_train, y_train, x_test, y_test, y_pred=predictions)"
   ]
  },
  {
   "attachments": {},
   "cell_type": "markdown",
   "metadata": {},
   "source": [
    "## Saving a model\n",
    "Well, it is evident that models cannot be trained every now and then to make predictions mainly when the model is large enough that training could take significant amounts of time. That's where ***saving a model*** comes to the rescue."
   ]
  },
  {
   "cell_type": "code",
   "execution_count": 21,
   "metadata": {},
   "outputs": [],
   "source": [
    "import os\n",
    "# saving is done as follows:\n",
    "# let's first\n",
    "\n",
    "file_path = os.path.join(os.getcwd(), 'lr_pytorch.pth')\n",
    "torch.save(obj=lr.state_dict(), f=file_path)\n"
   ]
  },
  {
   "cell_type": "code",
   "execution_count": 22,
   "metadata": {},
   "outputs": [
    {
     "data": {
      "text/plain": [
       "<All keys matched successfully>"
      ]
     },
     "execution_count": 22,
     "metadata": {},
     "output_type": "execute_result"
    }
   ],
   "source": [
    "# let's load the saved model\n",
    "lr_loaded = LinearRegressionModel()\n",
    "lr_loaded.load_state_dict(torch.load(f=file_path))"
   ]
  },
  {
   "cell_type": "code",
   "execution_count": 24,
   "metadata": {},
   "outputs": [
    {
     "name": "stdout",
     "output_type": "stream",
     "text": [
      "True\n"
     ]
    }
   ],
   "source": [
    "pred = lr_loaded.test_model(x_test, y_test)\n",
    "print(all(pred == predictions)) "
   ]
  }
 ],
 "metadata": {
  "kernelspec": {
   "display_name": "Python 3.9.12 ('ds_env')",
   "language": "python",
   "name": "python3"
  },
  "language_info": {
   "codemirror_mode": {
    "name": "ipython",
    "version": 3
   },
   "file_extension": ".py",
   "mimetype": "text/x-python",
   "name": "python",
   "nbconvert_exporter": "python",
   "pygments_lexer": "ipython3",
   "version": "3.9.12"
  },
  "orig_nbformat": 4,
  "vscode": {
   "interpreter": {
    "hash": "7bb0ce5cb6b092cde9f0ba713d915425207ed6ea08d3ede97530b87c251a3aee"
   }
  }
 },
 "nbformat": 4,
 "nbformat_minor": 2
}
