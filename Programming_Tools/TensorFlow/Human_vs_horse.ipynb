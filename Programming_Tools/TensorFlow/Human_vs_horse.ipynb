{
 "cells": [
  {
   "cell_type": "code",
   "execution_count": null,
   "metadata": {},
   "outputs": [],
   "source": [
    "import numpy as np \n",
    "import tensorflow as tf\n",
    "import tensorflow.keras.layers as tfl"
   ]
  },
  {
   "cell_type": "markdown",
   "metadata": {},
   "source": [
    "## Building a Human vs Horse classifier\n",
    "The data set used here is downloaded from this [site](https://laurencemoroney.com/datasets.html#horses-or-humans-dataset)"
   ]
  },
  {
   "cell_type": "code",
   "execution_count": null,
   "metadata": {},
   "outputs": [],
   "source": [
    "import zipfile\n",
    "main_directory = \"utility_files/human_vs_horse/\"\n",
    "\n",
    "train_zip = \"/\".join([main_directory, \"horse-or-human.zip\"])\n",
    "validation_zip = \"/\".join([main_directory, \"validation-horse-or-human.zip\"])\n"
   ]
  },
  {
   "cell_type": "code",
   "execution_count": null,
   "metadata": {},
   "outputs": [],
   "source": [
    "# unzip the trainin data set\n",
    "zip_ref = zipfile.ZipFile(train_zip, 'r')\n",
    "zip_ref.extractall(main_directory + '/train')\n",
    "zip_ref.close()\n"
   ]
  },
  {
   "cell_type": "code",
   "execution_count": null,
   "metadata": {},
   "outputs": [],
   "source": [
    "# unzip the validation data set\n",
    "zip_ref = zipfile.ZipFile(validation_zip, 'r')\n",
    "zip_ref.extractall(main_directory + '/test')\n",
    "zip_ref.close()\n"
   ]
  },
  {
   "cell_type": "code",
   "execution_count": null,
   "metadata": {},
   "outputs": [],
   "source": [
    "# let's create a directory object to refer to\n",
    "import os\n",
    "human = \"humans\"\n",
    "horse = \"horses\"\n",
    "train_dir_human = os.path.join(\"/\".join([main_directory, \"train\", human]))\n",
    "train_dir_horse = os.path.join(\"/\".join([main_directory, \"train\", horse]))\n",
    "test_dir_human = os.path.join(\"/\".join([main_directory, \"test\", human]))\n",
    "test_dir_horse = os.path.join(\"/\".join([main_directory, \"test\", horse]))"
   ]
  },
  {
   "cell_type": "code",
   "execution_count": null,
   "metadata": {},
   "outputs": [],
   "source": [
    "train_horse_names = os.listdir(train_dir_horse)\n",
    "print(train_horse_names[:10])\n",
    "\n",
    "tra = os.listdir(train_dir_human)\n",
    "print(tra[:10])\n",
    "\n",
    "## remove the zipped files\n",
    "# os.remove(main_directory + \"horse-or-human.zip\")\n",
    "# os.remove(main_directory + \"validation-horse-or-human.zip\")"
   ]
  },
  {
   "cell_type": "code",
   "execution_count": null,
   "metadata": {},
   "outputs": [],
   "source": [
    "# this cell will contain all the significant variables\n",
    "img_size = (300, 300)"
   ]
  },
  {
   "cell_type": "code",
   "execution_count": null,
   "metadata": {},
   "outputs": [],
   "source": [
    "from tensorflow.keras.preprocessing.image import ImageDataGenerator\n",
    "\n",
    "# All images will be rescaled by 1./255\n",
    "train_datagen = ImageDataGenerator(rescale=1/255)\n",
    "\n",
    "# Flow training images in batches of 128 using train_datagen generator\n",
    "train_generator = train_datagen.flow_from_directory(\n",
    "        main_directory + \"train\",  # This is the source directory for training images\n",
    "        target_size=img_size,  # All images will be resized to 300x300\n",
    "        batch_size=128,\n",
    "        # Since we use binary_crossentropy loss, we need binary labels\n",
    "        class_mode='binary')"
   ]
  },
  {
   "cell_type": "code",
   "execution_count": null,
   "metadata": {},
   "outputs": [],
   "source": [
    "# the model to be trained is the same as the one in the \"fashion_classification_CNN.ipynb\" notebook\n",
    "\n",
    "def cnn_fashion_model(input_shape=(28, 28, 1), num_classes=10):\n",
    "    # define the input\n",
    "    inputs = tf.keras.Input(shape=input_shape)\n",
    "    # relu activation is used extensively:\n",
    "    relu = tfl.ReLU()\n",
    "    # 2D convolutional layer\n",
    "    f1 = 16\n",
    "    size1  = (3, 3)\n",
    "    conv1 = tfl.Conv2D(filters=f1, kernel_size=size1, strides=(2, 2), padding='same')\n",
    "    \n",
    "    pool1 = tfl.MaxPool2D((2, 2))\n",
    "    f2 = 32\n",
    "    conv2 = tfl.Conv2D(filters=f2, kernel_size=size1, strides=(1, 1), padding='same')\n",
    "    \n",
    "    # normalize the input on the the channels axis\n",
    "    batnor = tfl.BatchNormalization(axis=-1)\n",
    "    size2 = (3, 3)\n",
    "    f3 = 64\n",
    "    conv3 = tfl.Conv2D(filters=f3, kernel_size=size2, strides=(2, 2), padding='same')\n",
    "\n",
    "    f4 = 64\n",
    "    conv4 = tfl.Conv2D(filters=f4, kernel_size=size2, strides=(1, 1), padding='same')\n",
    "\n",
    "    pool2 = tfl.MaxPool2D((2, 2))\n",
    "\n",
    "    # the neural network should be as follows:\n",
    "    # con1 * 2 -> conv2 *2 -> pool1 -> conv3 * 2 -> conv4 * 2 -> pool2 -> fully connected1 -> fullyconnected2 -> softmax\n",
    "    x = conv1(inputs)\n",
    "    x = relu(x)\n",
    "\n",
    "    x = conv2(inputs)\n",
    "    x = relu(x)\n",
    "\n",
    "    x = batnor(x)\n",
    "    x = pool1(x)\n",
    "    \n",
    "    x = conv3(x)\n",
    "    x = relu(x)\n",
    "\n",
    "    x = conv4(x)\n",
    "    x = relu(x)\n",
    "\n",
    "    x = batnor(x)\n",
    "    x = pool2(x)\n",
    "\n",
    "    flatten = tfl.Flatten() \n",
    "    fc1 = tfl.Dense(128, activation='relu')\n",
    "    fc2 = tfl.Dense(128, activation='relu')\n",
    "    if num_classes == 2:\n",
    "        fc3 = tfl.Dense(1 , activation='sigmoid')\n",
    "    else:\n",
    "        fc3 = tfl.Dense(num_classes, activation='softmax')\n",
    "    x = flatten(x)\n",
    "    x = fc1(x)\n",
    "    x = fc2(x)\n",
    "    outputs = fc3(x)\n",
    "    \n",
    "    model = tf.keras.Model(inputs=inputs, outputs=outputs)\n",
    "    return model"
   ]
  },
  {
   "cell_type": "code",
   "execution_count": null,
   "metadata": {},
   "outputs": [],
   "source": [
    "our_model = cnn_fashion_model(input_shape=(*img_size, 3), num_classes=2)\n",
    "\n",
    "from tensorflow.keras.optimizers import RMSprop\n",
    "\n",
    "optimizer = RMSprop(learning_rate=0.001)\n",
    "loss = tf.keras.losses.BinaryCrossentropy()\n",
    "metrics = ['accuracy']\n",
    "our_model.compile(optimizer=optimizer, loss=loss, metrics=metrics)"
   ]
  },
  {
   "cell_type": "code",
   "execution_count": null,
   "metadata": {},
   "outputs": [],
   "source": [
    "history = our_model.fit(\n",
    "      train_generator, # set the generator as a stream of data\n",
    "      steps_per_epoch=8,  \n",
    "      epochs=15,\n",
    "      verbose=1)\n",
    "      "
   ]
  },
  {
   "cell_type": "code",
   "execution_count": null,
   "metadata": {},
   "outputs": [],
   "source": [
    "\n",
    "# All images will be rescaled by 1./255\n",
    "test_data_gen = ImageDataGenerator(rescale=1/255)\n",
    "\n",
    "# Flow training images in batches of 128 using train_datagen generator\n",
    "test_gen = test_data_gen.flow_from_directory(\n",
    "        main_directory + \"test\",  # This is the source directory for the test images\n",
    "        target_size=img_size,  # All images will be resized to 300x300\n",
    "        batch_size=128,\n",
    "        # Since we use binary_crossentropy loss, we need binary labels\n",
    "        class_mode='binary')"
   ]
  },
  {
   "cell_type": "code",
   "execution_count": null,
   "metadata": {},
   "outputs": [],
   "source": [
    "history = our_model.fit(\n",
    "      train_generator, # set the generator as a stream of data\n",
    "      steps_per_epoch=8,  \n",
    "      epochs=15,\n",
    "      verbose=1,\n",
    "      validation_data = test_gen,\n",
    "      validation_steps=8\n",
    "      )\n"
   ]
  },
  {
   "cell_type": "code",
   "execution_count": null,
   "metadata": {},
   "outputs": [],
   "source": []
  }
 ],
 "metadata": {
  "kernelspec": {
   "display_name": "Python 3.10.4 ('conda_ds_env')",
   "language": "python",
   "name": "python3"
  },
  "language_info": {
   "codemirror_mode": {
    "name": "ipython",
    "version": 3
   },
   "file_extension": ".py",
   "mimetype": "text/x-python",
   "name": "python",
   "nbconvert_exporter": "python",
   "pygments_lexer": "ipython3",
   "version": "3.10.4"
  },
  "orig_nbformat": 4,
  "vscode": {
   "interpreter": {
    "hash": "e595ca51820d52e9aa292ed5e6aea8cb54d58198616f7383c650dd0ac3477d37"
   }
  }
 },
 "nbformat": 4,
 "nbformat_minor": 2
}
