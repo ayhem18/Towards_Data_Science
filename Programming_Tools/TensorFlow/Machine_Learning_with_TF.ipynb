{
 "cells": [
  {
   "cell_type": "code",
   "execution_count": null,
   "metadata": {
    "collapsed": true,
    "pycharm": {
     "is_executing": true,
     "name": "#%%\n"
    }
   },
   "outputs": [],
   "source": [
    "import numpy as np\n",
    "import pandas as pd\n",
    "import tensorflow as tf"
   ]
  },
  {
   "cell_type": "code",
   "execution_count": null,
   "metadata": {
    "collapsed": false,
    "pycharm": {
     "name": "#%%\n"
    }
   },
   "outputs": [],
   "source": [
    "# loading the data set to work on\n",
    "train_set = pd.read_csv(\"https://storage.googleapis.com/tf-datasets/titanic/train.csv\") # training data set\n",
    "test_set = pd.read_csv(\"https://storage.googleapis.com/tf-datasets/titanic/eval.csv\") # test data set\n",
    "y_train = train_set.pop(\"survived\")\n",
    "y_test = test_set.pop(\"survived\")"
   ]
  },
  {
   "cell_type": "code",
   "execution_count": null,
   "metadata": {
    "collapsed": false,
    "pycharm": {
     "is_executing": true,
     "name": "#%%\n"
    }
   },
   "outputs": [],
   "source": [
    "# analysing the training data and preprocessing it\n",
    "print(train_set.head(3))"
   ]
  },
  {
   "cell_type": "code",
   "execution_count": null,
   "metadata": {
    "collapsed": false,
    "pycharm": {
     "is_executing": true,
     "name": "#%%\n"
    }
   },
   "outputs": [],
   "source": [
    "# starting with the \"sex's column\". m\" and \"female\" to \"f\" for easier manipulation.\n",
    "gender_mapper = {\"male\": \"-1\", \"female\": \"1\", \"m\": -1, \"f\": \"1\"}\n",
    "sex_par = 'sex'\n",
    "# set \"male\" to \"m\" and \"female\" to \"f\"\n",
    "train_set.loc[:, sex_par] = [gender_mapper[gen] if gen in gender_mapper else gen for gen in train_set[sex_par]]\n",
    "print(train_set.sex.unique())\n",
    "print(train_set.head(10))"
   ]
  },
  {
   "cell_type": "code",
   "execution_count": null,
   "metadata": {
    "collapsed": false,
    "pycharm": {
     "is_executing": true,
     "name": "#%%\n"
    }
   },
   "outputs": [],
   "source": [
    "# we consider the class attribute\n",
    "# set every class to lower case to ensure every class is converted correctly\n",
    "cls = \"class\"\n",
    "train_set.loc[:, cls] = [cls.lower() for cls in train_set[cls]]\n",
    "unique_classes = np.unique(np.array(train_set[\"class\"]))\n",
    "print(unique_classes)\n",
    "class_mapper = {\"first\": 1, \"second\": 2, \"third\": 3}\n",
    "train_set.loc[:, cls] = [class_mapper[c] if c in class_mapper else c for c in train_set[cls]]\n",
    "print(train_set.head(10))"
   ]
  },
  {
   "cell_type": "code",
   "execution_count": null,
   "metadata": {
    "collapsed": false,
    "pycharm": {
     "is_executing": true,
     "name": "#%%\n"
    }
   },
   "outputs": [],
   "source": [
    "# consider the deck attribute\n",
    "deck = \"deck\"\n",
    "unique_decks = train_set.deck.unique()\n",
    "print(unique_decks)"
   ]
  },
  {
   "cell_type": "code",
   "execution_count": null,
   "metadata": {
    "collapsed": false,
    "pycharm": {
     "is_executing": true,
     "name": "#%%\n"
    }
   },
   "outputs": [],
   "source": [
    "missing_threshold = 0.5\n",
    "print(train_set.deck.value_counts())"
   ]
  },
  {
   "cell_type": "code",
   "execution_count": null,
   "metadata": {
    "collapsed": false,
    "pycharm": {
     "is_executing": true,
     "name": "#%%\n"
    }
   },
   "outputs": [],
   "source": [
    "print(pd.concat([train_set, y_train], axis=1).groupby(\"sex\").mean().survived)\n",
    "print(pd.concat([train_set, y_train], axis=1).groupby(\"sex\").survived.mean())\n"
   ]
  },
  {
   "cell_type": "code",
   "execution_count": null,
   "metadata": {
    "collapsed": false,
    "pycharm": {
     "name": "#%%\n"
    }
   },
   "outputs": [],
   "source": [
    "# data processing using TensorFlow\n",
    "print(train_set.n_siblings_spouses.unique())"
   ]
  }
 ],
 "metadata": {
  "kernelspec": {
   "display_name": "Python 3.10.4 ('ds_env')",
   "language": "python",
   "name": "python3"
  },
  "language_info": {
   "codemirror_mode": {
    "name": "ipython",
    "version": 3
   },
   "file_extension": ".py",
   "mimetype": "text/x-python",
   "name": "python",
   "nbconvert_exporter": "python",
   "pygments_lexer": "ipython3",
   "version": "3.10.4"
  },
  "vscode": {
   "interpreter": {
    "hash": "08488e93894ea7be7272109919d40edb52233f14daf834f5f2387122a81730e1"
   }
  }
 },
 "nbformat": 4,
 "nbformat_minor": 0
}
