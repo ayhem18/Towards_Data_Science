{
 "cells": [
  {
   "cell_type": "code",
   "execution_count": null,
   "metadata": {},
   "outputs": [],
   "source": [
    "import numpy as np\n",
    "import matplotlib.pyplot as plt\n",
    "import tensorflow as tf\n",
    "import tensorflow.keras.layers as tfl"
   ]
  },
  {
   "cell_type": "markdown",
   "metadata": {},
   "source": [
    "## Personalized Convolutional Network\n",
    "### First Attempt: a slightly complicated NN"
   ]
  },
  {
   "cell_type": "code",
   "execution_count": null,
   "metadata": {},
   "outputs": [],
   "source": [
    "# import the data set from tensorflow\n",
    "fashion_mnist = tf.keras.datasets.fashion_mnist\n",
    "(X_train, y_train), (X_test, y_test) = fashion_mnist.load_data() \n",
    "# the data has already been explored before.\n",
    "# let's consider making a powerful classifier with convolutional neural networks."
   ]
  },
  {
   "cell_type": "code",
   "execution_count": null,
   "metadata": {},
   "outputs": [],
   "source": [
    "def cnn_fashion_model(input_shape=(28, 28, 1), num_classes=10):\n",
    "    # define the input\n",
    "    inputs = tf.keras.Input(shape=input_shape)\n",
    "    # relu activation is used extensively:\n",
    "    relu = tfl.ReLU()\n",
    "    # 2D convolutional layer\n",
    "    f1 = 16\n",
    "    size1  = (3, 3)\n",
    "    conv1 = tfl.Conv2D(filters=f1, kernel_size=size1, strides=(2, 2), padding='same')\n",
    "    \n",
    "    pool1 = tfl.MaxPool2D((2, 2))\n",
    "    f2 = 32\n",
    "    conv2 = tfl.Conv2D(filters=f2, kernel_size=size1, strides=(1, 1), padding='same')\n",
    "    \n",
    "    # normalize the input on the the channels axis\n",
    "    batnor = tfl.BatchNormalization(axis=3)\n",
    "    size2 = (3, 3)\n",
    "    f3 = 64\n",
    "    conv3 = tfl.Conv2D(filters=f3, kernel_size=size2, strides=(2, 2), padding='same')\n",
    "\n",
    "    f4 = 64\n",
    "    conv4 = tfl.Conv2D(filters=f4, kernel_size=size2, strides=(1, 1), padding='same')\n",
    "\n",
    "    pool2 = tfl.MaxPool2D((2, 2))\n",
    "\n",
    "    # the neural network should be as follows:\n",
    "    # con1 * 2 -> conv2 *2 -> pool1 -> conv3 * 2 -> conv4 * 2 -> pool2 -> fully connected1 -> fullyconnected2 -> softmax\n",
    "    x = conv1(inputs)\n",
    "    x = relu(x)\n",
    "\n",
    "    x = conv2(inputs)\n",
    "    x = relu(x)\n",
    "\n",
    "\n",
    "    x = tfl.BatchNormalization(axis=3)(x)\n",
    "    x = pool1(x)\n",
    "    \n",
    "    x = conv3(x)\n",
    "    x = relu(x)\n",
    "\n",
    "    x = conv4(x)\n",
    "    x = relu(x)\n",
    "\n",
    "    x = tfl.BatchNormalization(axis=3)(x)\n",
    "    x = pool2(x)\n",
    "\n",
    "    flatten = tfl.Flatten() \n",
    "    fc1 = tfl.Dense(128, activation='relu')\n",
    "    fc2 = tfl.Dense(128, activation='relu')\n",
    "    fc3 = tfl.Dense(num_classes, activation='softmax')\n",
    "\n",
    "    x = flatten(x)\n",
    "    x = fc1(x)\n",
    "    x = fc2(x)\n",
    "    outputs = fc3(x)\n",
    "    \n",
    "    model = tf.keras.Model(inputs=inputs, outputs=outputs)\n",
    "    return model"
   ]
  },
  {
   "cell_type": "code",
   "execution_count": null,
   "metadata": {},
   "outputs": [],
   "source": [
    "model = cnn_fashion_model()\n",
    "print(model.summary())"
   ]
  },
  {
   "cell_type": "code",
   "execution_count": null,
   "metadata": {},
   "outputs": [],
   "source": [
    "optimizer = tf.keras.optimizers.Adam(learning_rate = 0.002)\n",
    "metrics = ['accuracy']\n",
    "loss = tf.keras.losses.SparseCategoricalCrossentropy(from_logits=False)\n",
    "\n",
    "model.compile(optimizer=optimizer, metrics=metrics, loss=loss)"
   ]
  },
  {
   "cell_type": "code",
   "execution_count": null,
   "metadata": {},
   "outputs": [],
   "source": [
    "model.fit(X_train, y_train, epochs=12)\n",
    "model.evaluate(X_test, y_test, verbose=2)"
   ]
  },
  {
   "cell_type": "code",
   "execution_count": null,
   "metadata": {},
   "outputs": [],
   "source": [
    "def reshape_and_normalize(images):\n",
    "    \n",
    "    new_shape = list(images.shape)\n",
    "    new_shape.append(1)\n",
    "    new_shape = tuple(new_shape)\n",
    "    # Reshape the images to add an extra dimension\n",
    "    \n",
    "    images = images.reshape(new_shape)\n",
    "    \n",
    "    maximum_value = np.max(images[0])\n",
    "    # Normalize pixel values\n",
    "    images = images / maximum_value\n",
    "    \n",
    "    ### END CODE HERE\n",
    "\n",
    "    return images"
   ]
  },
  {
   "cell_type": "code",
   "execution_count": null,
   "metadata": {},
   "outputs": [],
   "source": [
    "from tensorflow.keras.datasets import mnist\n",
    "(X_train, y_train), (X_test, y_test) = mnist.load_data()"
   ]
  },
  {
   "cell_type": "code",
   "execution_count": null,
   "metadata": {},
   "outputs": [],
   "source": [
    "X_train = reshape_and_normalize(X_train)\n",
    "y_train = reshape_and_normalize(y_train)\n",
    "X_test = reshape_and_normalize(X_test)\n",
    "y_test = reshape_and_normalize(y_test)"
   ]
  },
  {
   "cell_type": "code",
   "execution_count": null,
   "metadata": {},
   "outputs": [],
   "source": [
    "class myCallback(tf.keras.callbacks.Callback):\n",
    "    def __init__(self, threshhold=0.995):\n",
    "        self.threshhold = threshhold\n",
    "\n",
    "    def on_epoch_end(self, epoch, logs={}): # this method checks the model's status at the end of each epoch\n",
    "        if (logs.get('accuracy') >= self.threshhold):\n",
    "            print(\"Reached {}% accuracy so cancelling training!\".format(str(self.threshhold)))\n",
    "            self.model.stop_training=True\n",
    "\n"
   ]
  },
  {
   "cell_type": "code",
   "execution_count": null,
   "metadata": {},
   "outputs": [],
   "source": [
    "def convolutional_model(num_classes=10):\n",
    "    # this architecture consists of one convolutional layer and some fully connected layers\n",
    "    model = tf.keras.Sequential([\n",
    "        tfl.Conv2D(filters=32, kernel_size=(3, 3), strides=(1, 1), padding='valid'), \n",
    "        tfl.MaxPool2D((2, 2)),\n",
    "        tfl.Conv2D(filters=64, kernel_size, strides=(1, 1), padding='valid'),\n",
    "        tfl.MaxPool2D((2, 2)),\n",
    "        tfl.Conv2D(filters=128, kernel_size=(3, 3), strides=(2, 2), padding='valid')\n",
    "        tfl.MaxPool2d((2, 2))\n",
    "        tfl.Flatten(),\n",
    "        tfl.Dense(128, activation='relu'),\n",
    "        tfl.Dense(num_classes if num_classes > 2 else 1, activation='softmax' if numclasses > 2 else \"sigmoid\")\n",
    "    ])\n",
    "    model.compile(optimizer='adam', \n",
    "                  loss='sparse_categorical_crossentropy' if num_classes > 2 else \"binary_categorical_crossentropy\", \n",
    "                  metrics=['accuracy']) \n",
    "        \n",
    "    return model\n"
   ]
  },
  {
   "cell_type": "code",
   "execution_count": null,
   "metadata": {},
   "outputs": [],
   "source": [
    "model = cnn_fashion_model()\n",
    "optimizer = tf.keras.optimizers.Adam(learning_rate = 0.002)\n",
    "metrics = ['accuracy']\n",
    "loss = tf.keras.losses.SparseCategoricalCrossentropy(from_logits=False)\n",
    "\n",
    "model.compile(optimizer=optimizer, metrics=metrics, loss=loss)\n",
    "# Instantiate the callback class\n",
    "callbacks = myCallback()\n",
    "\n",
    "# Train your model (this can take up to 5 minutes)\n",
    "history = model.fit(X_train, y_train, epochs=10, callbacks=[callbacks])"
   ]
  },
  {
   "cell_type": "code",
   "execution_count": null,
   "metadata": {},
   "outputs": [],
   "source": [
    "model.evaluate(X_test, y_test)\n"
   ]
  },
  {
   "cell_type": "code",
   "execution_count": null,
   "metadata": {},
   "outputs": [],
   "source": []
  }
 ],
 "metadata": {
  "kernelspec": {
   "display_name": "Python 3.10.4 ('ds_env')",
   "language": "python",
   "name": "python3"
  },
  "language_info": {
   "codemirror_mode": {
    "name": "ipython",
    "version": 3
   },
   "file_extension": ".py",
   "mimetype": "text/x-python",
   "name": "python",
   "nbconvert_exporter": "python",
   "pygments_lexer": "ipython3",
   "version": "3.10.4"
  },
  "orig_nbformat": 4,
  "vscode": {
   "interpreter": {
    "hash": "08488e93894ea7be7272109919d40edb52233f14daf834f5f2387122a81730e1"
   }
  }
 },
 "nbformat": 4,
 "nbformat_minor": 2
}
