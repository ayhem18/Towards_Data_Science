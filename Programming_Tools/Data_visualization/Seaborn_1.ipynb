{
 "cells": [
  {
   "cell_type": "markdown",
   "metadata": {},
   "source": [
    "# Introduction to Data Visualization in SeaBorn\n",
    "This notebook servers as a reference to the most basic concepts, best practices and tricks for data visualization. The content of this notebook is inspired by the ***Introduction to Data Visualization With Seaborn*** By [datacamp](https://app.datacamp.com/learn/courses/introduction-to-data-visualization-with-seaborn)"
   ]
  },
  {
   "cell_type": "code",
   "execution_count": null,
   "metadata": {},
   "outputs": [],
   "source": [
    "import numpy as np \n",
    "import pandas as pd\n",
    "import seaborn as sns\n",
    "import matplotlib.pyplot as plt"
   ]
  },
  {
   "cell_type": "code",
   "execution_count": null,
   "metadata": {},
   "outputs": [],
   "source": [
    "## first plot: scatter plot\n",
    "\n",
    "height = np.linspace(150, 200, 26)\n",
    "weight = np.linspace(45, 185, 26) + np.array([0.5 * np.random.randint(-1, 2) for _ in range(26)]) # adding some noise\n",
    "\n",
    "sns.scatterplot(y=weight, x=height)\n"
   ]
  },
  {
   "cell_type": "markdown",
   "metadata": {},
   "source": [
    "## Searborn With Pandas.DataFrame\n",
    "It might be worthy to consider the [documentation](https://seaborn.pydata.org/generated/seaborn.countplot.html) for more details"
   ]
  },
  {
   "cell_type": "code",
   "execution_count": null,
   "metadata": {},
   "outputs": [],
   "source": [
    "# count plot with a pandas dataframe\n",
    "# the main idea is as\n",
    "food_consumption_link = \"https://assets.datacamp.com/production/repositories/5786/datasets/49f6356966016c70a9f63a0474942675377bdcf2/food_consumption.csv\"\n",
    "df = pd.read_csv(food_consumption_link).drop(\"Unnamed: 0\", axis=1)\n",
    "print(df.head())\n",
    "# we can find the number of occurences of each food category\n",
    "\n",
    "sns.countplot(x='food_category', data=df)\n",
    "plt.show()\n",
    "sns.scatterplot(x='consumption', data=df)\n",
    "plt.show()"
   ]
  },
  {
   "cell_type": "code",
   "execution_count": null,
   "metadata": {},
   "outputs": [],
   "source": [
    "# let's load the tips dataset from seaborn library\n",
    "tips_df = sns.load_dataset('tips')\n",
    "print(tips_df.head())\n",
    "\n",
    "# the hue colors can be used as html tag colors: \n",
    "sns.scatterplot(data=tips_df, x='total_bill', y='tip', hue='sex', hue_order=['Female', \"Male\"], palette={\"Female\": 'blue', 'Male':'red'})\n",
    "plt.show()"
   ]
  },
  {
   "cell_type": "markdown",
   "metadata": {},
   "source": [
    "One can use this link as a reference for [html colors](https://www.computerhope.com/htmcolor.htm#:~:text=HTML%20color%20codes%20are%20hexadecimal%20triplets%20representing%20the,and%20all%20are%20visible%20on%20a%2024-bit%20display.)"
   ]
  },
  {
   "cell_type": "code",
   "execution_count": null,
   "metadata": {},
   "outputs": [],
   "source": [
    "# even though the hue paramater in the plotting functions might provide additional insight. It is not powerful enough to see the whole image\n",
    "# mainly when it comes to subgroups. For a better idea, it might be good to use the relplot: plotting relational plot \n",
    "\n",
    "students_data_link = \"https://assets.datacamp.com/production/repositories/3996/datasets/61e08004fef1a1b02b62620e3cd2533834239c90/student-alcohol-consumption.csv\"\n",
    "\n",
    "students_df = pd.read_csv(students_data_link)\n",
    "\n",
    "# Adjust further to add subplots based on family support\n",
    "sns.relplot(x=\"G1\", y=\"G3\", \n",
    "            data=students_df,\n",
    "            kind=\"scatter\", \n",
    "            col=\"schoolsup\",\n",
    "            col_order=[\"yes\", \"no\"],\n",
    "            row = 'famsup', \n",
    "            row_order = ['yes', 'no'])\n",
    "\n",
    "# Show plot\n",
    "plt.show()"
   ]
  },
  {
   "cell_type": "markdown",
   "metadata": {},
   "source": [
    "Thanks to this visualization, we can state that the final grade correlates with the midterm grade regardless with the suported received by the student."
   ]
  },
  {
   "cell_type": "code",
   "execution_count": null,
   "metadata": {},
   "outputs": [],
   "source": [
    "# Import Matplotlib and Seaborn\n",
    "import matplotlib.pyplot as plt\n",
    "import seaborn as sns\n",
    "\n",
    "mpg = pd.read_csv(\"https://assets.datacamp.com/production/repositories/3996/datasets/e0b285b89bdbfbbe8d81123e64727ff150d544e0/mpg.csv\")\n",
    "\n",
    "# Create scatter plot of horsepower vs. mpg\n",
    "sns.relplot(x=\"horsepower\", y=\"mpg\", \n",
    "            data=mpg, kind=\"scatter\", \n",
    "            size=\"cylinders\", hue='cylinders') # this changes the size of the points according to the values of the argument \"size\"\n",
    "\n",
    "# Show plot\n",
    "plt.show()"
   ]
  },
  {
   "cell_type": "markdown",
   "metadata": {},
   "source": [
    "This plot shows that cars with larger horsepower are generally associated with larger cylinders and tend to consume less fuel."
   ]
  },
  {
   "cell_type": "markdown",
   "metadata": {},
   "source": [
    "Line Plots are quite convenient to track a certain value's variation in respect to another range of values (mainly time)."
   ]
  },
  {
   "cell_type": "code",
   "execution_count": null,
   "metadata": {},
   "outputs": [],
   "source": [
    "# let's consider the cars dataset\n",
    "mpg = mpg.rename(columns={\"model_year\":\"year\"})\n",
    "\n",
    "\n",
    "# we will plot the evaluation of mpg with respect to the year column. \n",
    "# we can see that the year column has repeated values, thus, seaborn internally considers a statistical value, aggregates and calculates \n",
    "# a 95% confidence interval for that statistical value, the default is mean\n",
    "\n",
    "sns.relplot(data=mpg, x='year', y='acceleration', kind='line')"
   ]
  },
  {
   "cell_type": "code",
   "execution_count": null,
   "metadata": {},
   "outputs": [],
   "source": [
    "# let's choose a different statistical value for the statistical value say standard deviation\n",
    "\n",
    "sns.relplot(data=mpg, x='year', y='acceleration', kind='line', ci='sd')"
   ]
  },
  {
   "cell_type": "code",
   "execution_count": null,
   "metadata": {},
   "outputs": [],
   "source": [
    "# let's add some customization, if the column acceleration is associated with different value of another column, we can plot the variation\n",
    "# with respect to the subgroups as follows:\n",
    "sns.relplot(data=mpg, x='year', y='acceleration', kind='line', style='origin', hue='origin')\n",
    "# I think the shaded part here is more distracting than actually useful, let's eliminate for the moment\n",
    "sns.relplot(data=mpg, x='year', y='acceleration', kind='line', style='origin', hue='origin', ci=None)\n"
   ]
  },
  {
   "cell_type": "code",
   "execution_count": null,
   "metadata": {},
   "outputs": [],
   "source": [
    "# sometimes this dashed lines are not so appealing, we might want to add the actual data points for references\n",
    "sns.relplot(data=mpg, x='year', y='acceleration', kind='line', style='origin', hue='origin', ci=None, dashes=False, markers=True)\n"
   ]
  },
  {
   "cell_type": "markdown",
   "metadata": {},
   "source": [
    "## Data visualization with categorical columns, variables\n",
    "Seaborn offers great visualizations specific for categorical values"
   ]
  },
  {
   "cell_type": "code",
   "execution_count": null,
   "metadata": {},
   "outputs": [],
   "source": [
    "# the catplot function can be considered the equivalent fo relplot for categorical variables\n",
    "# let's consider data collected for surveys\n",
    "\n",
    "sur_data_link = \"https://assets.datacamp.com/production/repositories/3996/datasets/ab13162732ae9ca1a9a27e2efd3da923ed6a4e7b/young-people-survey-responses.csv\"\n",
    "survey_data = pd.read_csv(sur_data_link)\n",
    "\n",
    "# let's consider some count plots\n",
    "\n",
    "sns.catplot(kind='count', data=survey_data, x='Internet usage')\n",
    "plt.show() \n",
    "\n",
    "# this was vertical, let's try it horizontally\n",
    "\n",
    "sns.catplot(kind='count', data=survey_data, y='Internet usage')\n",
    "plt.show() \n"
   ]
  },
  {
   "cell_type": "code",
   "execution_count": null,
   "metadata": {},
   "outputs": [],
   "source": [
    "# let's check some bar plots\n",
    "\n",
    "category_order = [\"<2 hours\", \n",
    "                  \"2 to 5 hours\", \n",
    "                  \"5 to 10 hours\", \n",
    "                  \">10 hours\"]\n",
    "\n",
    "# Turn off the confidence intervals\n",
    "sns.catplot(x=\"study_time\", y=\"G3\",\n",
    "            data=students_df,\n",
    "            kind=\"bar\",\n",
    "            order=category_order, ci=None)\n",
    "\n",
    "# Show plot\n",
    "plt.show()"
   ]
  },
  {
   "cell_type": "markdown",
   "metadata": {},
   "source": [
    "### box plots\n",
    "Box plots are so powerful as they summarize the main distribution of a quantitative variable."
   ]
  },
  {
   "cell_type": "code",
   "execution_count": 42,
   "metadata": {},
   "outputs": [
    {
     "data": {
      "image/png": "[encoded data removed]",
      "text/plain": [
       "<Figure size 592.125x500 with 1 Axes>"
      ]
     },
     "metadata": {},
     "output_type": "display_data"
    }
   ],
   "source": [
    "# Create a box plot with subgroups and omit the outliers \n",
    "# we choose x as categorical variables to see how the value y varies with respect to the values of x.\n",
    "# the hue argument considers the subgroups offered by that parameter\n",
    "sns.catplot(kind='box', data=students_df, x='internet', y='G3', hue='location', sym='')\n",
    "# Show plot\n",
    "plt.show()"
   ]
  }
 ],
 "metadata": {
  "kernelspec": {
   "display_name": "Python 3.10.4 ('ds_env')",
   "language": "python",
   "name": "python3"
  },
  "language_info": {
   "codemirror_mode": {
    "name": "ipython",
    "version": 3
   },
   "file_extension": ".py",
   "mimetype": "text/x-python",
   "name": "python",
   "nbconvert_exporter": "python",
   "pygments_lexer": "ipython3",
   "version": "3.10.4"
  },
  "orig_nbformat": 4,
  "vscode": {
   "interpreter": {
    "hash": "006414dea9a04848ce797b510a25f3f28ac8668e3d3244e777242cca6bed477f"
   }
  }
 },
 "nbformat": 4,
 "nbformat_minor": 2
}
