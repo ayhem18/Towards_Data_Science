{
 "cells": [
  {
   "attachments": {},
   "cell_type": "markdown",
   "metadata": {},
   "source": [
    "# Overview\n",
    "This notebook is created to save my notes as I progress throughout the different parts of the ***EXCEL SKILLS FOR BUSINESS*** specialization on Coursera: 1st course."
   ]
  },
  {
   "attachments": {},
   "cell_type": "markdown",
   "metadata": {},
   "source": [
    "## Viewing\n",
    "* always check Freeze Panes option. it works like magic.\n",
    "* ctr  + f6 to switch between different workbooks (keeping it in excel without moving to other programs on the computer) \n",
    "* check this link for easier size manipulation: [link](https://www.causal.app/excel-shortcuts/excel-shortcut-to-expand-all-columns)\n",
    "* dealing with EXCEL converting everything to dates might not be pleasant. here is a [turnaround](https://support.microsoft.com/en-us/office/stop-automatically-changing-numbers-to-dates-452bd2db-cc96-47d1-81e4-72cec11c4ed8)\n",
    "* the shortcut for double clicking is **f2**\n",
    "\n",
    "## copying and automating data entry\n",
    "* make sure to take full advantage of the fill handle capabilities of excel: mainly the different options available.\n",
    "\n",
    "## calculations and stuff\n",
    "* one creating a simple function with excel, the user sets a range of values. The function would look similar to this: SUM(B3:B9). Using the fill in options would command\n",
    "excel to automatically sum the values in the cells in the next row. However, that might not always be the desired output as some calculations are based on a constant value located on a certain cell: say $J5$.  \n",
    "To calculate a certain function based on the constant value in cell $J5$, we should refer to it within the expression as follows: \n",
    "$\\$ cell \\$$"
   ]
  },
  {
   "attachments": {},
   "cell_type": "markdown",
   "metadata": {},
   "source": [
    "## formatting\n",
    "make sure to check the following:  \n",
    "1. font, colors (background and font)\n",
    "2. alignment, merge and wrap text tools + rotation tools\n",
    "3. format painter to the rescue when it comes to generalize the same format over different cells (easy shit). This shit works for not only one cell but any set of cells\n",
    "4. Excel's Themes are a great tool to gurantee consistent colors and formatting across the entire workbook. Nevertheless, it must be clear that the THEMES's toolkit is independent from the other parts of Excel."
   ]
  },
  {
   "attachments": {},
   "cell_type": "markdown",
   "metadata": {},
   "source": [
    "* make sure to remember searching using the search utilities provided by excel.\n",
    "* sorting tools in excel can extend on several levels (keep that in mind)"
   ]
  }
 ],
 "metadata": {
  "kernelspec": {
   "display_name": "ds_env",
   "language": "python",
   "name": "python3"
  },
  "language_info": {
   "name": "python",
   "version": "3.9.12 (tags/v3.9.12:b28265d, Mar 23 2022, 23:52:46) [MSC v.1929 64 bit (AMD64)]"
  },
  "orig_nbformat": 4,
  "vscode": {
   "interpreter": {
    "hash": "7bb0ce5cb6b092cde9f0ba713d915425207ed6ea08d3ede97530b87c251a3aee"
   }
  }
 },
 "nbformat": 4,
 "nbformat_minor": 2
}
