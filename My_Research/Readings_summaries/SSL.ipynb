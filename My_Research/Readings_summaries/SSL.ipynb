{
 "cells": [
  {
   "cell_type": "markdown",
   "metadata": {},
   "source": [
    "# Overview\n",
    "This notebook is created to save notes from my readings on Semi/Self Supervised Learning"
   ]
  },
  {
   "cell_type": "markdown",
   "metadata": {},
   "source": [
    "# Pseudo Labeling\n",
    "* [link](https://www.researchgate.net/profile/Dong-Hyun-Lee/publication/280581078_Pseudo-Label_The_Simple_and_Efficient_Semi-Supervised_Learning_Method_for_Deep_Neural_Networks/links/55bc4ada08ae092e9660b776/Pseudo-Label-The-Simple-and-Efficient-Semi-Supervised-Learning-Method-for-Deep-Neural-Networks.pdf)\n",
    "\n",
    "* This paper introduces the semi-supervised training setting to me.\n",
    "* This tiny papers trains a neural network using both labeled and unlabeled data by minimizing the following loss function:\n",
    "    $$L = \\frac{1}{n} \\sum_{m=1}^n \\sum_{i=1}^C L(y_i^m f_i^m) + \\alpha(t) \\cdot \\frac{1}{n^{'}} \\sum_{m=1}^{n^{'}} \\sum_{i=1}^C L(y^{'m}_i, f^{'m}_i)$$\n",
    "\n",
    "* This loss is somehow equivalent to cross entropy regularization, as the $y^{'m}_i$ is the most probable label at the given iteration.\n",
    "* choosing the proper scheduling $\\alpha(t)$ is crucial to take advantage of the unlabeled data without disrupting the training with the labeled one.\n",
    "\n",
    "* The paper above explains that increasing $\\alpha(t)$ mitigates the erros at the early training stages."
   ]
  },
  {
   "cell_type": "markdown",
   "metadata": {},
   "source": [
    "# Deep Cluster\n",
    "* [link](https://arxiv.org/pdf/1807.05520.pdf)\n",
    "* [explanation](https://www.youtube.com/watch?v=4MqFR_hHmUE)\n",
    "* This paper introduces clustering into the self-supervised learning picture.\n",
    "\n",
    "* The paper builds on top of a key observation: Training a head classifier on top of a randomly initialized convolutional neural network reaches an accuray of $12\\%$ which is huge relatively to the expected probability of a random classifier: $\\frac{1}{1000} = 0.1$ The latter is an emperical evidence of the extreme discriminative power of convolutional layers. \n",
    "\n",
    "* The general idea is quite simple: iterative training\n",
    "1. Given a feature extractor with fixed weights $\\theta$, we find the cluster centroids as well as assign a cluster (and thus a label) for each sample.\n",
    "2. Given these pseudo labels, we train the classification head and the entire network with backpropagation."
   ]
  },
  {
   "cell_type": "markdown",
   "metadata": {},
   "source": [
    "# Data Augmentation for SSL\n",
    "## Mixup\n",
    "* [paper](https://arxiv.org/pdf/1710.09412.pdf)\n",
    "* The main contribution is to augment the data linearly: Assuming we have $y_i, y_j$ as one-hot encoded labels, $x_i, x_j$ samples, then we can create a new virtual/augmented samples:\n",
    "\n",
    "\\begin{cases}\n",
    "\\hat{x} = \\lambda \\cdot x_i (1 - \\lambda) \\cdot x_j\\\\\n",
    "\\hat{y} = \\lambda \\cdot y_i (1 - \\lambda) \\cdot y_j\n",
    "\\end{cases}\n",
    "\n",
    "* The method is simple and computationally inexpensive\n",
    "* More importantly, the technique was designed with the following in mind:\n",
    "    1. separate the training sample linearly\n",
    "    2. reduce the undersirable oscilliations when predecting outside the training examples."
   ]
  },
  {
   "cell_type": "markdown",
   "metadata": {},
   "source": [
    "## MixMatch\n",
    "* [paper](https://arxiv.org/pdf/1905.02249.pdf)\n",
    "* This paper combines several dominant ideas in the data augmentation aspect of SSL:\n",
    "    1. Consistency regularization: the class distribution of unlabeled data must be robust against several data augmentation. Assuming $Augment(x)$ is a stochastic augmentation process:\n",
    "        $$||p_{model}(y|Augment(x), \\theta) - p_{model}(y|Augment(x), \\theta) ||_2$$\n",
    "    2. entropy minimization which aims to maximize the model's confidence on unlabeled data predictions. It can mathematically expressed:\n",
    "    $$\\sum_{i=1}^{K} p_i \\cdot \\log(p_i)$$ \n",
    "    where $p_i$ is the predition score corresponding to the $i$-th class out of the $K$ classes \n",
    "    \n",
    "    3. traditional regularization: minimizing the model's complexity and preventing the model from memorizing the exact sample, label pairs\n",
    "* Given a batch of labeled data $X$, a batch of unlabeled Data $U$, \n",
    "    1. create augmented version of both batches **$X^{'}$** and **$U^{'}$**\n",
    "    2. calculate the cross entropy on **$X^{'}$** when\n",
    "    3. apply consistency regularization on **$U^{'}$**\n",
    "\n",
    "* "
   ]
  },
  {
   "cell_type": "markdown",
   "metadata": {},
   "source": [
    "## ReMixMatch\n"
   ]
  }
 ],
 "metadata": {
  "language_info": {
   "name": "python"
  },
  "orig_nbformat": 4
 },
 "nbformat": 4,
 "nbformat_minor": 2
}
