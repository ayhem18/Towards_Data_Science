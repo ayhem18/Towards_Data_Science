{
 "cells": [
  {
   "cell_type": "markdown",
   "metadata": {},
   "source": [
    "# Logistic Regression\n",
    "## 1. Notation\n",
    "The following notation is to be used for the rest of the notebook:\n",
    "* m: the size of the training data size\n",
    "* n: the number of features per training sample\n",
    "* $x^{(i)}$ the $i$-th training sample: a vector of shape $(n * 1)$\n",
    "* $y^{(i)}$ the $i$-th label associated to $x^{(i)}$ \n",
    "* X is the training dataset and expressed as the $(n * m)$ matrix\n",
    "\n",
    "$\\begin{equation}\n",
    "X = \\begin{bmatrix} x^{(1)} && x^{(i)} && .. && .. && x^{(m)}\\end{bmatrix}\n",
    "\\end{equation}$\n",
    "* Y represents the lables, generally expressed as the $(1 * m)$ matrix\n",
    "$\\begin{equation}\n",
    "X = \\begin{bmatrix} y^{(1)} && y^{(i)} && .. && .. && y^{(m)}\\end{bmatrix}\n",
    "\\end{equation}$\n",
    "* w represents the weights/parameters to be computed.\n",
    "* b represents the bias unit, which was previously denoted as $\\theta_0$ and associated with the constant extra feature $x_0=1$"
   ]
  },
  {
   "cell_type": "markdown",
   "metadata": {},
   "source": [
    "## 2. Technical Details\n",
    "The main ideas of the algorithm are adressed in the following [notebook](https://github.com/ayhem18/Towards_Data_science/blob/master/Machine_Learning/logistic_regression/logistic_regression.ipynb)"
   ]
  },
  {
   "cell_type": "markdown",
   "metadata": {},
   "source": [
    "## 3. Implementation\n",
    "This is a simple implementation of a custom Logistic regression model.\n",
    "\n",
    "### 3.1 Sigmoid function's implementation"
   ]
  },
  {
   "cell_type": "code",
   "execution_count": 1,
   "metadata": {},
   "outputs": [],
   "source": [
    "## importing necessary libraries\n",
    "import numpy as np\n",
    "import copy "
   ]
  },
  {
   "cell_type": "code",
   "execution_count": null,
   "metadata": {},
   "outputs": [],
   "source": [
    "def sigmoid(x):\n",
    "    \"\"\"\n",
    "    Compute the sigmoid of x\n",
    "\n",
    "    Arguments:\n",
    "    x -- A scalar or a numpy array of any shape\n",
    "\n",
    "    Return:\n",
    "    sigmoid(x)\n",
    "    \"\"\"\n",
    "    return 1 / (1 + np.exp(-x))"
   ]
  },
  {
   "cell_type": "code",
   "execution_count": null,
   "metadata": {},
   "outputs": [],
   "source": [
    "def initialize_with_zeros(n_features):\n",
    "    \"\"\"\n",
    "    This function creates a vector of zeros of shape (n_features, 1) for w and initializes b to 0.\n",
    "    \n",
    "    Argument:\n",
    "    n_features: number of features for the training examples\n",
    "    \n",
    "    Returns:\n",
    "    w -- initialized vector of shape (n_features, 1)\n",
    "    b -- initialized scalar (corresponds to the bias) of type float\n",
    "    \"\"\"\n",
    "      \n",
    "    w = np.zeros((n_features, 1))\n",
    "    b = 0.0\n",
    "\n",
    "    return w, b"
   ]
  },
  {
   "cell_type": "markdown",
   "metadata": {},
   "source": [
    "### 3.2 Output and gradients\n",
    "Given the matrix $X$, it is necessary to compute:\n",
    "$\\begin{equation}\n",
    "A = \\sigma(w^T X + b) = \\begin{bmatrix} a^{(1)} && a^{(2)} && .. && .. && a^{(m)}\\end{bmatrix}\n",
    "\\end{equation}$\n",
    "as well as the cost function:\n",
    "$\\begin{equation}\n",
    "J(w, b) = -\\frac{1}{m} \\cdot \\sum _{i=1}^{m} [y ^ {(i)} \\cdot \\log(a^{(i)}) + (1 - y^{(i)}) \\cdot \\log(1 - a^{(i)})]\n",
    "\\end{equation}$\n",
    "Using an optimization algorithm would require calculating the gradients:\n",
    "\n",
    "$\\begin{equation}\n",
    "\\begin{aligned}\n",
    "\\frac{\\delta J}{\\delta w} = \\frac{1}{m} X(A - Y) ^ T \\\\ \n",
    "\\frac{\\delta J}{\\delta b} = \\frac{1}{m} \\sum_{i=1}^{m} (a^{(i)} - y^{(i)})\n",
    "\\end{aligned}\n",
    "\\end{equation}$\n",
    "\n"
   ]
  },
  {
   "cell_type": "code",
   "execution_count": null,
   "metadata": {},
   "outputs": [],
   "source": [
    "def cost_gradient(w, b, X, Y):\n",
    "    m = X.shape[1]\n",
    "\n",
    "    A = sigmoid(np.dot(w.T, X) + b)\n",
    "    # cost will store an (1, m) np array where cost[i] = (a^{(i)} - y^{(i)}) \n",
    "    cost = - (np.dot(np.log(A), Y.T) + np.dot(np.log(1 - A), 1 - Y.T)) / m\n",
    "    \n",
    "    dw = np.dot(X, (A-Y).T) / m\n",
    "    db = np.sum(A - Y) / m\n",
    "    # convert the cost into a scalar value\n",
    "    cost = np.squeeze(np.array(cost))\n",
    "\n",
    "    return cost, dw, db"
   ]
  },
  {
   "cell_type": "code",
   "execution_count": null,
   "metadata": {},
   "outputs": [],
   "source": [
    "def optimize(w, b, X, Y, num_iterations=200, learning_rate=0.008, print_cost=False, cost_print_cycle=50):\n",
    "    \"\"\"\n",
    "    This function \n",
    "    Arguments:\n",
    "    w -- weights, a numpy array of size n_features\n",
    "    b -- bias, a scalar\n",
    "    X -- data of shape (n_features, m)\n",
    "    Y -- true \"label\" vector (containing 0 if negative, 1 if positive), of shape (1, number of examples)\n",
    "    num_iterations -- number of iterations of the optimization loop\n",
    "    learning_rate -- learning rate of the gradient descent update rule\n",
    "    print_cost -- True to print the loss every cost_print_cycle times\n",
    "    \n",
    "    Returns:\n",
    "    parameters -- list with weights w and bias b\n",
    "    grads -- list with derivative of the cost function with respect to w and then to b\n",
    "    costs_history -- list of all the costs computed during the optimization: can be used for plotting learning curve.\n",
    "    \n",
    "    \"\"\"\n",
    "    \n",
    "    w = copy.deepcopy(w)\n",
    "    b = copy.deepcopy(b)\n",
    "    \n",
    "    costs_history = []\n",
    "    \n",
    "    for i in range(num_iterations):\n",
    "    \n",
    "        grads, cost = cost_gradient(w, b, X, Y)\n",
    "        \n",
    "        dw = grads[0]\n",
    "        db = grads[1]\n",
    "        \n",
    "        w = w -learning_rate * dw\n",
    "        b = b - learning_rate * db\n",
    "        \n",
    "        if i % cost_print_cycle == 0:\n",
    "            costs_history.append(cost)\n",
    "        \n",
    "            # Print the cost every 100 training iterations\n",
    "            if print_cost:\n",
    "                print (\"Cost after iteration {}: {}\".format(str(i), str(cost)))\n",
    "    \n",
    "    parameters = [w, b]\n",
    "    grads = [dw, db]\n",
    "\n",
    "    return parameters, grads, costs_history"
   ]
  },
  {
   "cell_type": "markdown",
   "metadata": {},
   "source": [
    "### 3.4 Classification\n",
    "As Logistic regression tackes a classification problem, The final output should be either $1$ or $0$. Given a certain treshhold $t$, (reflecting the seriousness of consequences of different error types) the classification would be:\n",
    "$\\begin{aligned}\n",
    "y = \\begin{equation}\n",
    "    \\begin{cases}\n",
    "      1 , ~ \\hat{y} > t \\\\\n",
    "      0 , ~ otherwise\n",
    "    \\end{cases}\n",
    "\\end{equation}\n",
    "\\end{aligned}$"
   ]
  },
  {
   "cell_type": "code",
   "execution_count": null,
   "metadata": {},
   "outputs": [],
   "source": [
    "def predict(w, b, X, threshhold=0.5):\n",
    "    '''\n",
    "    Predict whether the label is 0 or 1 using learned logistic regression parameters (w, b)\n",
    "    \n",
    "    Arguments:\n",
    "    w -- weights, a numpy array of size (n_features, 1)\n",
    "    b -- bias, a scalar\n",
    "    X -- data of size (n_features, m)\n",
    "    \n",
    "    Returns:\n",
    "    Y_prediction -- a numpy array (vector) containing all predictions (0/1) for the examples in X\n",
    "    '''\n",
    "    \n",
    "    # making sure weights are a not a first rank numpy array of shape (n_features,) \n",
    "    w = w.reshape(X.shape[0], 1)\n",
    "    \n",
    "    # compute the probabilities with the learned parameters\n",
    "    A = sigmoid(np.dot(w.T, X) + b)\n",
    "    \n",
    "    # using a logical array A > threshhold\n",
    "    return A > threshhold\n",
    "    "
   ]
  }
 ],
 "metadata": {
  "kernelspec": {
   "display_name": "Python 3.10.6 64-bit",
   "language": "python",
   "name": "python3"
  },
  "language_info": {
   "codemirror_mode": {
    "name": "ipython",
    "version": 3
   },
   "file_extension": ".py",
   "mimetype": "text/x-python",
   "name": "python",
   "nbconvert_exporter": "python",
   "pygments_lexer": "ipython3",
   "version": "3.10.6"
  },
  "orig_nbformat": 4,
  "vscode": {
   "interpreter": {
    "hash": "916dbcbb3f70747c44a77c7bcd40155683ae19c65e1c03b4aa3499c5328201f1"
   }
  }
 },
 "nbformat": 4,
 "nbformat_minor": 2
}
