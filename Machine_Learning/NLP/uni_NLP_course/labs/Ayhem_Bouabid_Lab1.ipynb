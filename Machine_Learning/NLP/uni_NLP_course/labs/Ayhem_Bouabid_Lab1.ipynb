{
  "cells": [
    {
      "cell_type": "markdown",
      "metadata": {
        "id": "zptEmTA4e49S"
      },
      "source": [
        "# Natural Language Processing. Lab 1\n",
        "**Professor**: Vladimir Ivanov\n",
        "\n",
        "**Teaching Assistant**: Aidar Valeev\n",
        "\n",
        "**Labs**:\n",
        "- Wednesdays, 16:10 - 17:40\n",
        "- Mondays, 16:10 - 17:40\n",
        "- you can visit either one\n",
        "\n",
        "**Deadline**: Tuesday, 31 January 2023, 11:59 PM\n",
        "\n",
        "**Grading**:\n",
        "- Solve any two tasks to get full lab point.\n",
        "- Solve 3 or 4 tasks for extra 0.5 or 1 bonus point, respectively.\n",
        "- Labs are part of Lab participation, one lab weighs ~0.5% of the course total."
      ]
    },
    {
      "cell_type": "markdown",
      "metadata": {
        "id": "xLTldrN-vmIP"
      },
      "source": [
        "## Task 1\n",
        "Write a python program that does the following :\n",
        "1. retrieve content of a wikipedia page on a topic of your choice - english \n",
        "  - raw text or html format - is up to you\n",
        "  - you can copy paste manually\n",
        "2. retrieve content of a wikipedia page on a topic of your choice - language of your choice (i.e russian, french) (optional)\n",
        "3. preprocess the data \n",
        "  - any transformations that you need to accomplish 4th part\n",
        "4. print \n",
        "  - distinct words statatistics\n",
        "  - number of chapters\n",
        "  - number of sentences\n",
        "  - number of numerical values\n",
        "  - number of entities with links (optional)"
      ]
    },
    {
      "cell_type": "code",
      "execution_count": 69,
      "metadata": {},
      "outputs": [
        {
          "name": "stdout",
          "output_type": "stream",
          "text": [
            "Requirement already satisfied: wikipedia in c:\\users\\bouab\\dev\\ds_env\\lib\\site-packages (1.4.0)\n",
            "Requirement already satisfied: beautifulsoup4 in c:\\users\\bouab\\dev\\ds_env\\lib\\site-packages (from wikipedia) (4.11.1)\n",
            "Requirement already satisfied: requests<3.0.0,>=2.0.0 in c:\\users\\bouab\\dev\\ds_env\\lib\\site-packages (from wikipedia) (2.28.2)\n",
            "Requirement already satisfied: charset-normalizer<4,>=2 in c:\\users\\bouab\\dev\\ds_env\\lib\\site-packages (from requests<3.0.0,>=2.0.0->wikipedia) (3.0.1)\n",
            "Requirement already satisfied: certifi>=2017.4.17 in c:\\users\\bouab\\dev\\ds_env\\lib\\site-packages (from requests<3.0.0,>=2.0.0->wikipedia) (2022.12.7)\n",
            "Requirement already satisfied: idna<4,>=2.5 in c:\\users\\bouab\\dev\\ds_env\\lib\\site-packages (from requests<3.0.0,>=2.0.0->wikipedia) (3.4)\n",
            "Requirement already satisfied: urllib3<1.27,>=1.21.1 in c:\\users\\bouab\\dev\\ds_env\\lib\\site-packages (from requests<3.0.0,>=2.0.0->wikipedia) (1.26.14)\n",
            "Requirement already satisfied: soupsieve>1.2 in c:\\users\\bouab\\dev\\ds_env\\lib\\site-packages (from beautifulsoup4->wikipedia) (2.3.2.post1)\n"
          ]
        }
      ],
      "source": [
        "! pip install wikipedia"
      ]
    },
    {
      "cell_type": "code",
      "execution_count": 70,
      "metadata": {},
      "outputs": [
        {
          "name": "stderr",
          "output_type": "stream",
          "text": [
            "[nltk_data] Downloading package punkt to\n",
            "[nltk_data]     C:\\Users\\bouab\\AppData\\Roaming\\nltk_data...\n",
            "[nltk_data]   Package punkt is already up-to-date!\n"
          ]
        },
        {
          "data": {
            "text/plain": [
              "True"
            ]
          },
          "execution_count": 70,
          "metadata": {},
          "output_type": "execute_result"
        }
      ],
      "source": [
        "from urllib.request import urlopen\n",
        "from bs4 import BeautifulSoup\n",
        "import re\n",
        "\n",
        "import nltk\n",
        "from nltk.stem import PorterStemmer\n",
        "nltk.download('punkt')"
      ]
    },
    {
      "cell_type": "code",
      "execution_count": 71,
      "metadata": {
        "id": "bTndZ9m0vjZd"
      },
      "outputs": [
        {
          "name": "stdout",
          "output_type": "stream",
          "text": [
            "Number of chapters : 130\n",
            "     Pages for logged out editors learn more  Etymology   History Russia (Russian: Россия, Rossiya, ), or the Russian Federation, is a transcontinental country spanning Eastern Europe and Northern Asia. It is the largest country in the world, with its internationally recognised territory covering 17,098,246 square kilometres (6,601,670 sq mi), and encompassing one-eighth of Earth's inhabitable landmass. Russia extends across eleven time zones and shares land boundaries with fourteen countries. It is the world's ninth-most populous country and Europe's most populous country, with a population of over 147 million people. The country's capital and largest city is Moscow. Saint Petersburg is Russia's cultural centre and second-largest city. Other major urban areas include Novosibirsk, Yekaterinburg, Nizhny Novgorod, and Kazan.  Early history The East Slavs emerged as a recognisable group in Europe between the 3rd and 8th centuries CE. The first East Slavic state, Kievan Rus', arose in the \n"
          ]
        }
      ],
      "source": [
        "source = urlopen('https://en.wikipedia.org/wiki/Russia').read()\n",
        "\n",
        "# Make a soup \n",
        "soup = BeautifulSoup(source)\n",
        "\n",
        "# extract the number of chapters\n",
        "print(\"Number of chapters :\", len(soup.find_all('p')))\n",
        "\n",
        "# extract paragraphs\n",
        "paras = [str(p.text) for p in soup.find_all('p')]\n",
        "\n",
        "# extract heads\n",
        "heads = [str(h.text) for h in soup.find_all('span', attrs={'mw-headline'})]\n",
        "\n",
        "# insert a new line between each pair of headers and paragraphs\n",
        "text = \"\\n\".join([val for pair in zip(paras, heads) for val in pair])\n",
        "\n",
        "# remove all the characters from HTML code\n",
        "text = re.sub(r\"\\[.*?\\]+\", '', text)\n",
        "\n",
        "# reduce the different \n",
        "text = re.sub(r'\\s', ' ', text)\n",
        "\n",
        "text = text[:100000] # limit the text to 100000 characters\n",
        "\n",
        "print(text[:1000])"
      ]
    },
    {
      "cell_type": "code",
      "execution_count": 72,
      "metadata": {},
      "outputs": [
        {
          "name": "stdout",
          "output_type": "stream",
          "text": [
            "the count of words:  5774\n",
            "{'page': 1, 'for': 18, 'log': 1, 'out': 5, 'editor': 1, 'learn': 1, 'more': 3, 'etymolog': 1, 'histori': 5, 'russia': 61, 'russian': 63, 'россия': 1, 'rossiya': 1, 'or': 4, 'the': 538, 'feder': 5, 'is': 10, 'transcontinent': 1, 'countri': 22, 'span': 2, 'eastern': 11, 'europ': 13, 'and': 188, 'northern': 5, 'asia': 3, 'it': 38, 'largest': 8, 'in': 167, 'world': 21, 'with': 27, 'intern': 6, 'recognis': 3, 'territori': 7, 'cover': 1, 'squar': 1, 'kilometr': 1, 'sq': 1, 'mi': 1, 'encompass': 1, 'of': 235, 'earth': 2, 'inhabit': 2, 'landmass': 1, 'extend': 4, 'across': 5, 'eleven': 1, 'time': 5, 'zone': 1, 'share': 1, 'land': 5, 'boundari': 2, 'fourteen': 2, 'popul': 9, 'most': 8, 'over': 11, 'million': 16, 'peopl': 6, 'capit': 6, 'citi': 5, 'moscow': 14, 'saint': 2, 'petersburg': 2, 'cultur': 5, 'centr': 3, 'other': 6, 'major': 8, 'urban': 1, 'area': 2, 'includ': 10, 'novosibirsk': 1, 'yekaterinburg': 2, 'nizhni': 1, 'novgorod': 9, 'kazan': 2, 'earli': 14, 'east': 13, 'slav': 4, 'emerg': 4, 'as': 38, 'group': 3, 'between': 9, 'centuri': 26, 'ce': 3, 'first': 22, 'slavic': 5, 'state': 27, 'kievan': 10, 'ru': 31, 'aros': 1, 'adopt': 2, 'orthodox': 3, 'christian': 2, 'from': 34, 'byzantin': 4, 'empir': 7, 'ultim': 6, 'disintegr': 2, 'grand': 7, 'duchi': 5, 'grow': 1, 'to': 92, 'becom': 4, 'tsardom': 3, 'by': 49, 'had': 5, 'vastli': 1, 'expand': 2, 'through': 7, 'conquest': 2, 'annex': 8, 'effort': 2, 'explor': 4, 'develop': 3, 'into': 14, 'which': 30, 'remain': 2, 'howev': 6, 'revolut': 7, 'monarch': 1, 'rule': 16, 'wa': 50, 'abolish': 1, 'replac': 2, 'constitut': 7, 'socialist': 4, 'follow': 6, 'civil': 8, 'war': 42, 'sfsr': 6, 'establish': 6, 'soviet': 42, 'union': 25, 'three': 2, 'republ': 10, 'within': 4, 'princip': 4, 'constitu': 3, 'at': 14, 'expens': 2, 'live': 5, 'underw': 1, 'rapid': 3, 'industri': 3, 'later': 11, 'play': 1, 'decis': 3, 'role': 1, 'alli': 6, 'ii': 14, 'lead': 5, 'on': 19, 'front': 3, 'onset': 1, 'cold': 5, 'compet': 1, 'unit': 10, 'global': 4, 'ideolog': 1, 'influenc': 6, 'era': 3, 'saw': 6, 'some': 5, 'signific': 3, 'technolog': 2, 'achiev': 1, 'satellit': 3, 'human': 9, 'expedit': 3, 'outer': 1, 'space': 3, 'dissolut': 3, 'independ': 3, 'new': 6, 'ha': 8, 'sinc': 2, 'been': 6, 'govern': 15, 'turn': 1, 'polit': 12, 'system': 2, 'domin': 4, 'vladimir': 5, 'putin': 6, 'under': 8, 'whom': 1, 'experienc': 1, 'democrat': 3, 'backslid': 1, 'shift': 3, 'toward': 3, 'authoritarian': 2, 'involv': 1, 'militarili': 1, 'number': 2, 'conflict': 3, 'unrecognis': 1, 'crimea': 2, 'neighbour': 1, 'ukrain': 6, 'four': 3, 'region': 4, 'dure': 16, 'an': 12, 'ongo': 1, 'invas': 5, 'rank': 3, 'place': 5, 'low': 1, 'measur': 1, 'right': 2, 'freedom': 2, 'press': 1, 'also': 5, 'high': 6, 'level': 1, 'perceiv': 1, 'corrupt': 4, 'worldwid': 1, 'economi': 10, 'stand': 1, 'nomin': 1, 'gdp': 3, 'ppp': 1, 'miner': 1, 'energi': 2, 'sourc': 2, 'are': 3, 'figur': 1, 'oil': 2, 'product': 2, 'natur': 1, 'ga': 1, 'possess': 1, 'stockpil': 1, 'nuclear': 2, 'weapon': 1, 'militari': 7, 'expenditur': 1, 'perman': 1, 'member': 5, 'nation': 2, 'secur': 3, 'council': 3, 'sco': 1, 'bric': 1, 'apec': 1, 'osc': 1, 'wto': 1, 'ci': 1, 'csto': 1, 'eaeu': 1, 'home': 2, 'unesco': 1, 'heritag': 1, 'site': 1, 'name': 7, 'come': 4, 'mediev': 4, 'latin': 2, 'primarili': 2, 'modern': 4, 'historiographi': 1, 'thi': 6, 'usual': 1, 'denot': 1, 'after': 11, 'itself': 3, 'who': 9, 'were': 24, 'orgin': 1, 'nors': 1, 'merchant': 2, 'warrior': 1, 'reloc': 1, 'baltic': 6, 'sea': 7, 'settl': 3, 'found': 5, 'kiev': 9, 'anoth': 5, 'ruthenia': 1, 'imperi': 4, 'current': 1, 'россияcode': 1, 'promot': 8, 'code': 10, 'rossiyacod': 1, 'greek': 4, 'ρωσσία': 1, 'rossía': 1, 'spell': 1, 'ρωσίαcode': 1, 'ell': 2, 'el': 2, 'rosíacod': 1, 'pronounc': 1, 'came': 3, 'use': 1, 'though': 1, 'still': 2, 'often': 1, 'refer': 4, 'until': 3, 'end': 8, 'there': 2, 'two': 7, 'word': 1, 'translat': 1, 'english': 1, 'русскиеcode': 1, 'russkiyecod': 1, 'ethnic': 3, 'россиянеcode': 1, 'rossiyanecod': 1, 'citizen': 3, 'regardless': 1, 'settlement': 2, 'date': 4, 'back': 6, 'oldowan': 1, 'period': 8, 'lower': 1, 'paleolith': 1, 'about': 4, 'year': 13, 'ago': 8, 'repres': 2, 'homo': 1, 'erectu': 1, 'migrat': 3, 'taman': 1, 'peninsula': 2, 'southern': 3, 'flint': 1, 'tool': 1, 'old': 1, 'have': 1, 'discov': 3, 'north': 5, 'caucasu': 4, 'radiocarbon': 1, 'specimen': 2, 'denisova': 1, 'cave': 3, 'altai': 1, 'mountain': 2, 'estim': 1, 'oldest': 1, 'denisovan': 2, 'fossil': 1, 'denni': 1, 'archaic': 1, 'hybrid': 1, 'that': 8, 'half': 4, 'neanderth': 2, 'latter': 3, 'last': 6, 'surviv': 1, 'mezmaiskaya': 1, 'trace': 2, 'western': 8, 'siberia': 5, 'discoveri': 1, 'concentr': 1, 'anatom': 1, 'least': 3, 'sungir': 1, 'reach': 5, 'arctic': 1, 'mamontovaya': 1, 'kurya': 1, 'kurgan': 1, 'hypothesi': 1, 'urheimat': 1, 'stepp': 5, 'spread': 1, 'yamnaya': 1, 'ancestri': 1, 'languag': 3, 'larg': 7, 'part': 9, 'eurasia': 1, 'nomad': 2, 'pastor': 1, 'begin': 1, 'chalcolith': 1, 'remnant': 1, 'these': 3, 'such': 3, 'ipatovo': 1, 'sintashta': 1, 'arkaim': 1, 'pazyryk': 1, 'bear': 1, 'earliest': 1, 'known': 8, 'hors': 1, 'warfar': 2, 'genet': 1, 'makeup': 1, 'speaker': 1, 'ural': 2, 'famili': 2, 'shape': 1, 'began': 3, 'classic': 2, 'antiqu': 1, 'scythia': 1, 'late': 3, 'bce': 1, 'ancient': 2, 'trader': 1, 'brought': 3, 'trade': 5, 'emporium': 1, 'tanai': 1, 'phanagoria': 1, 'gothic': 1, 'kingdom': 6, 'oium': 1, 'exist': 1, 'overrun': 1, 'hun': 2, 'bosporan': 1, 'hellenist': 1, 'politi': 1, 'succeed': 1, 'coloni': 1, 'overwhelm': 1, 'led': 15, 'warlik': 1, 'tribe': 3, 'eurasian': 1, 'avar': 1, 'khazar': 3, 'turkic': 1, 'origin': 1, 'south': 4, 'past': 1, 'volga': 2, 'river': 4, 'basin': 1, 'west': 1, 'far': 1, 'kyiv': 1, 'dnieper': 2, 'them': 2, 'pecheneg': 1, 'creat': 2, 'confederaci': 1, 'subsequ': 3, 'taken': 1, 'cuman': 1, 'kipchak': 1, 'ancestor': 1, 'among': 1, 'separ': 1, 'appear': 1, 'northeastern': 1, 'gradual': 4, 'wave': 1, 'one': 5, 'move': 3, 'suzdal': 1, 'murom': 1, 'polotsk': 1, 'rostov': 1, 'onward': 2, 'bulk': 1, 'slowli': 1, 'but': 6, 'peac': 2, 'assimil': 1, 'nativ': 1, 'finnic': 1, 'geographi': 1, 'coincid': 1, 'arriv': 1, 'varangian': 2, 'vike': 1, 'ventur': 2, 'along': 8, 'waterway': 1, 'black': 2, 'caspian': 1, 'accord': 3, 'primari': 1, 'chronicl': 1, 'rurik': 4, 'elect': 7, 'ruler': 2, 'hi': 12, 'successor': 4, 'oleg': 1, 'conquer': 2, 'previous': 1, 'pay': 3, 'tribut': 2, 'son': 6, 'igor': 2, 'sviatoslav': 1, 'subdu': 1, 'all': 7, 'local': 3, 'destroy': 2, 'khagan': 1, 'launch': 5, 'sever': 1, 'byzantium': 2, 'persia': 1, 'climat': 2, 'becam': 10, 'prosper': 3, 'reign': 6, 'great': 9, 'yaroslav': 1, 'wise': 1, 'golden': 3, 'age': 5, 'accept': 2, 'creation': 3, 'written': 1, 'legal': 2, 'russkaya': 1, 'pravda': 1, 'feudal': 2, 'decentralis': 2, 'mark': 2, 'constant': 1, 'dynasti': 3, 'collect': 3, 'wane': 1, 'benefit': 1, 'lost': 1, 'fragment': 1, 'differ': 1, 'princ': 4, 'andrey': 1, 'bogolyubski': 1, 'sack': 2, 'made': 5, 'base': 1, 'power': 15, 'be': 4, 'biodivers': 1, 'alexand': 6, 'nevski': 1, 'novgorodian': 1, 'repel': 1, 'invad': 8, 'swede': 1, 'battl': 7, 'neva': 1, 'well': 4, 'german': 4, 'crusad': 1, 'ice': 1, 'final': 3, 'fell': 1, 'mongol': 2, 'result': 4, 'death': 9, 'tatar': 3, 'form': 4, 'hord': 2, 'next': 2, 'onli': 2, 'escap': 1, 'occup': 1, 'agre': 1, 'would': 1, 'absorb': 2, 'lithuania': 2, 'poland': 3, 'while': 7, 'continu': 5, 'northeast': 2, 'tradit': 1, 'adapt': 1, 'autocrat': 1, 'divis': 1, 'destruct': 2, 'eventu': 7, 'rise': 6, 'initi': 1, 'domain': 1, 'their': 3, 'conniv': 1, 'assert': 1, 'forc': 10, 'gather': 1, 'when': 3, 'seat': 1, 'metropolitan': 1, 'church': 1, 'increas': 3, 'rival': 4, 'chief': 1, 'fur': 2, 'easternmost': 1, 'port': 1, 'hanseat': 1, 'leagu': 1, 'foreign': 3, 'relat': 1, 'dmitri': 3, 'donskoy': 1, 'armi': 10, 'inflict': 1, 'mileston': 1, 'defeat': 7, 'kulikovo': 1, 'parent': 1, 'surround': 1, 'formerli': 1, 'strong': 2, 'tver': 1, 'ivan': 5, 'iii': 5, 'threw': 1, 'off': 1, 'control': 5, 'consolid': 2, 'whole': 1, 'dominion': 1, 'take': 3, 'titl': 1, 'duke': 2, 'fall': 1, 'constantinopl': 1, 'claim': 3, 'success': 3, 'legaci': 1, 'roman': 1, 'marri': 1, 'sophia': 1, 'palaiologina': 1, 'niec': 1, 'emperor': 2, 'constantin': 1, 'xi': 1, 'eagl': 1, 'own': 1, 'vasili': 1, 'complet': 2, 'task': 1, 'few': 1, 'third': 1, 'rome': 1, 'idea': 3, 'iv': 1, 'terribl': 1, 'offici': 2, 'crown': 1, 'tsar': 4, 'promulg': 1, 'law': 1, 'sudebnik': 1, 'bodi': 2, 'zemski': 2, 'sobor': 2, 'revamp': 1, 'curb': 1, 'clergi': 1, 'reorganis': 1, 'long': 2, 'nearli': 1, 'doubl': 1, 'alreadi': 1, 'khanat': 3, 'astrakhan': 1, 'sibir': 1, 'southwestern': 1, 'weaken': 2, 'unsuccess': 2, 'livonian': 1, 'against': 6, 'coalit': 3, 'commonwealth': 3, 'sweden': 3, 'access': 2, 'coast': 2, 'crimean': 3, 'thoroughli': 1, 'crucial': 1, 'molodi': 1, 'combin': 3, 'disastr': 2, 'famin': 4, 'pretend': 1, 'intervent': 2, 'troubl': 1, 'advantag': 1, 'occupi': 4, 'pole': 1, 'retreat': 1, 'volunt': 1, 'corp': 1, 'kuzma': 1, 'minin': 1, 'pozharski': 1, 'romanov': 1, 'acced': 1, 'throne': 1, 'start': 4, 'recoveri': 1, 'crisi': 7, 'transport': 1, 'growth': 1, 'cossack': 1, 'ukrainian': 2, 'leader': 5, 'bohdan': 1, 'khmelnytski': 1, 'offer': 2, 'protect': 1, 'alexi': 1, 'whose': 1, 'split': 1, 'leav': 1, 'colonis': 2, 'vast': 3, 'hunt': 1, 'valuabl': 1, 'ivori': 1, 'push': 1, 'eastward': 1, 'siberian': 1, 'rout': 1, 'chukchi': 1, 'amur': 1, 'pacif': 1, 'ocean': 1, 'semyon': 1, 'dezhnyov': 1, 'european': 7, 'navig': 1, 'bere': 1, 'strait': 1, 'agricultur': 4, 'fisheri': 1, 'peter': 5, 'proclaim': 2, 'throughout': 3, 'sweep': 1, 'reform': 7, 'daughter': 1, 'elizabeth': 2, 'particip': 2, 'seven': 1, 'troop': 2, 'overran': 1, 'prussia': 2, 'berlin': 2, 'upon': 1, 'return': 1, 'scienc': 1, 'catherin': 4, 'presid': 6, 'enlighten': 1, 'she': 1, 'make': 1, 'ottoman': 3, 'advanc': 1, 'dissolv': 2, 'victori': 2, 'qajar': 1, 'iran': 1, 'her': 1, 'paul': 1, 'unstabl': 1, 'focus': 1, 'predominantli': 1, 'domest': 1, 'issu': 1, 'short': 3, 'strategi': 1, 'wrest': 1, 'finland': 2, 'bessarabia': 1, 'america': 1, 'alaska': 1, 'circumnavig': 1, 'contin': 1, 'antarctica': 1, 'napoleon': 4, 'join': 2, 'allianc': 2, 'variou': 2, 'fought': 3, 'franc': 1, 'french': 1, 'height': 1, 'fail': 1, 'miser': 1, 'obstin': 1, 'resist': 1, 'bitterli': 1, 'winter': 2, 'armé': 1, 'face': 1, 'utter': 1, 'mikhail': 2, 'kutuzov': 1, 'michael': 1, 'andrea': 1, 'barclay': 1, 'de': 1, 'tolli': 1, 'oust': 3, 'drove': 1, 'sixth': 1, 'enter': 4, 'pari': 1, 'deleg': 1, 'congress': 1, 'vienna': 1, 'defin': 1, 'map': 1, 'tourism': 1, 'offic': 1, 'pursu': 1, 'liber': 4, 'attempt': 3, 'curtail': 1, 'abort': 1, 'decembrist': 1, 'revolt': 1, 'conserv': 1, 'nichola': 4, 'zenith': 1, 'disrupt': 1, 'enact': 2, 'chang': 5, 'emancip': 1, 'spur': 1, 'industrialis': 2, 'modernis': 1, 'much': 1, 'balkan': 1, 'aftermath': 2, 'britain': 1, 'collud': 1, 'afghanistan': 3, 'neighbor': 2, 'central': 5, 'rivalri': 1, 'game': 1, 'demograph': 1, 'movement': 4, 'assassin': 1, 'revolutionari': 1, 'terrorist': 2, 'less': 1, 'trigger': 1, 'failur': 2, 'humili': 1, 'upris': 1, 'put': 1, 'down': 1, 'conced': 1, 'grant': 1, 'speech': 1, 'assembl': 3, 'legalis': 1, 'parti': 5, 'legisl': 1, 'duma': 1, 'respons': 2, 'declar': 4, 'serbia': 1, 'multipl': 1, 'isol': 1, 'tripl': 1, 'entent': 1, 'brusilov': 1, 'offens': 1, 'almost': 1, 'public': 1, 'distrust': 1, 'regim': 1, 'deepen': 1, 'cost': 1, 'casualti': 2, 'rumor': 1, 'treason': 1, 'carri': 3, 'act': 1, 'abdic': 1, 'he': 2, 'imprison': 1, 'execut': 3, 'monarchi': 1, 'shaki': 1, 'provision': 4, 'septemb': 2, 'januari': 1, 'thu': 2, 'ratifi': 1, 'day': 1, 'committe': 1, 'religion': 1, 'altern': 1, 'petrograd': 1, 'wield': 1, 'worker': 1, 'peasant': 1, 'call': 1, 'author': 1, 'aggrav': 1, 'instead': 2, 'resolv': 1, 'octob': 1, 'bolshevik': 4, 'lenin': 3, 'overthrew': 1, 'gave': 1, 'full': 1, 'broke': 1, 'white': 4, 'red': 5, 'sign': 1, 'treati': 1, 'conclud': 1, 'hostil': 1, 'bolshevist': 1, 'surrend': 2, 'host': 1, 'roughli': 1, 'coal': 1, 'mine': 1, 'educ': 1, 'support': 2, 'meantim': 1, 'both': 2, 'campaign': 1, 'deport': 2, 'each': 1, 'respect': 1, 'terror': 2, 'violent': 2, 'infrastructur': 2, 'heavili': 1, 'damag': 1, 'mani': 4, 'perish': 1, 'mostli': 1, 'civilian': 5, 'émigré': 1, 'up': 2, 'five': 1, 'victim': 1, 'health': 1, 'decemb': 3, 'aid': 1, 'singl': 1, 'byelorussian': 1, 'transcaucasian': 1, 'border': 1, 'size': 1, 'entir': 1, 'econom': 5, 'troika': 1, 'design': 2, 'charg': 1, 'joseph': 1, 'stalin': 6, 'gener': 2, 'secretari': 1, 'communist': 3, 'manag': 1, 'suppress': 1, 'opposit': 3, 'faction': 1, 'hand': 2, 'dictat': 1, 'leon': 1, 'trotski': 1, 'main': 1, 'propon': 1, 'exil': 2, 'social': 3, 'line': 2, 'struggl': 2, 'culmin': 2, 'purg': 1, 'leadership': 1, 'command': 1, 'rural': 1, 'collectivis': 1, 'sent': 1, 'penal': 1, 'labor': 2, 'camp': 2, 'convict': 1, 'suspect': 1, 'real': 1, 'remot': 1, 'transit': 1, 'disorganis': 1, 'harsh': 1, 'polici': 4, 'drought': 1, 'kill': 3, 'costli': 1, 'transform': 2, 'agrarian': 1, 'powerhous': 1, 'holiday': 1, 'secret': 1, 'protocol': 1, 'pact': 2, 'nazi': 2, 'germani': 3, 'romania': 1, 'june': 2, 'open': 2, 'theater': 1, 'art': 1, 'architectur': 1, 'captur': 2, 'deliber': 1, 'starv': 1, 'otherwis': 1, 'pow': 1, 'hunger': 1, 'plan': 1, 'sought': 2, 'fulfil': 1, 'generalplan': 1, 'ost': 1, 'although': 1, 'wehrmacht': 1, 'consider': 1, 'attack': 2, 'halt': 1, 'dealt': 1, 'stalingrad': 1, 'then': 2, 'kursk': 1, 'summer': 1, 'sieg': 1, 'leningrad': 1, 'fulli': 1, 'blockad': 1, 'finnish': 1, 'suffer': 2, 'starvat': 1, 'than': 1, 'never': 1, 'steamrol': 1, 'may': 2, 'august': 3, 'manchuria': 1, 'japanes': 1, 'contribut': 1, 'japan': 1, 'music': 1, 'patriot': 1, 'china': 1, 'consid': 1, 'big': 1, 'policemen': 1, 'foundat': 1, 'account': 1, 'massiv': 1, 'devast': 1, 'caus': 3, 'sacrific': 1, 'superpow': 1, 'literatur': 1, 'philosophi': 1, 'austria': 1, 'potsdam': 1, 'confer': 1, 'depend': 1, 'instal': 1, 'bloc': 1, 'second': 3, 'warsaw': 1, 'nato': 1, 'nikita': 1, 'khrushchev': 3, 'denounc': 1, 'releas': 1, 'prison': 1, 'gulag': 1, 'easement': 1, 'repress': 1, 'thaw': 1, 'same': 1, 'tension': 2, 'peak': 1, 'clash': 1, 'deploy': 1, 'jupit': 1, 'missil': 2, 'turkey': 1, 'cuba': 1, 'cuisin': 1, 'artifici': 1, 'sputnik': 1, 'cosmonaut': 1, 'yuri': 1, 'gagarin': 1, 'orbit': 1, 'aboard': 1, 'vostok': 1, 'man': 1, 'spacecraft': 1, 'april': 1, 'ensu': 1, 'leonid': 1, 'brezhnev': 1, 'stagnat': 2, 'kosygin': 1, 'aim': 2, 'partial': 1, 'withdraw': 1, 'due': 1, 'persist': 1, 'guerrilla': 2, 'lack': 1, 'mass': 1, 'media': 1, 'cinema': 1, 'gorbachev': 3, 'introduc': 2, 'glasnost': 1, 'perestroika': 1, 'restructur': 1, 'democratis': 1, 'nationalist': 1, 'separatist': 5, 'prior': 1, 'went': 1, 'sport': 1, 'turmoil': 1, 'boil': 1, 'chose': 1, 'seced': 1, 'march': 1, 'referendum': 2, 'held': 2, 'vote': 1, 'favour': 1, 'renew': 1, 'bori': 1, 'yeltsin': 4, 'directli': 1, 'coup': 1, 'direct': 1, 'preserv': 1, 'contemporari': 1, 'see': 1, 'collaps': 2, 'deep': 1, 'prolong': 1, 'depress': 2, 'privatis': 2, 'market': 1, 'liberalis': 1, 'undertaken': 1, 'radic': 1, 'shock': 1, 'therapi': 1, 'enterpris': 1, 'agenc': 1, 'individu': 1, 'insid': 1, 'connect': 1, 'infam': 1, 'oligarch': 1, 'newli': 1, 'rich': 1, 'billion': 1, 'cash': 1, 'asset': 1, 'outsid': 1, 'enorm': 2, 'flight': 2, 'birth': 1, 'rate': 2, 'plummet': 1, 'skyrocket': 1, 'plung': 1, 'poverti': 1, 'extrem': 2, 'crimin': 1, 'gang': 1, 'organis': 1, 'crime': 1, 'rose': 1, 'significantli': 3, 'note': 1, 'parliament': 1, 'approv': 1, 'give': 1, 'plagu': 1, 'arm': 1, 'skirmish': 1, 'islamist': 1, 'insurrect': 1, 'chechen': 4, 'intermitt': 1, 'rebel': 1, 'thousand': 1, 'assum': 1, 'extern': 2, 'debt': 2, 'consum': 1, 'price': 2, 'elimin': 1, 'inflat': 1, 'devalu': 1, 'roubl': 1, 'budget': 1, 'deficit': 1, 'coupl': 1, 'inabl': 1, 'financi': 1, 'further': 2, 'declin': 1, 'unexpectedli': 1, 'resign': 1, 'post': 2, 'recent': 1, 'appoint': 1, 'prime': 2, 'minist': 2, 'chosen': 1, 'won': 2, 'presidenti': 2, 'insurg': 1, 'term': 3, 'invest': 1, 'standard': 1, 'improv': 1, 'stabil': 1, 'took': 2, 'medvedev': 1, 'hold': 1, 'onto': 1, 'despit': 1, 'limit': 1, 'describ': 1, 'tandemocraci': 1, 'read': 1, 'diplomat': 1, 'georgia': 2, 'link': 1}\n"
          ]
        }
      ],
      "source": [
        "# use nltk tokenizer for the tokenizing the text\n",
        "words = nltk.tokenize.word_tokenize(text)\n",
        "# 4.3 number of words\n",
        "print(\"the count of words: \", len(words)) \n",
        "## stem words\n",
        "stemmer = PorterStemmer()\n",
        "stemmed_words = ([stemmer.stem(w) for w in words])\n",
        "\n",
        "# 4.1 statistics for distinct words (stemmed ones)\n",
        "fdist1 = nltk.FreqDist(stemmed_words)\n",
        "filtered_word_freq = dict((word, freq) for word, freq in fdist1.items() if word.isalpha() and len(word) > 1)\n",
        "print(filtered_word_freq)"
      ]
    },
    {
      "cell_type": "markdown",
      "metadata": {
        "id": "Q-iN1Xgnv4Vq"
      },
      "source": [
        "## Task 2\n",
        "\n",
        "Write a python program that does the following :\n",
        "1. Retrieve data from sklearn --> (from sklearn.datasets import fetch_20newsgroups)\n",
        "2. Preprocess the data \n",
        "3. Do classification using any classical machine learning method\n",
        "  - TfidfVectorizer from sklearn might be a good choice"
      ]
    },
    {
      "cell_type": "code",
      "execution_count": 73,
      "metadata": {
        "id": "O8dX2rrLwOPT"
      },
      "outputs": [],
      "source": [
        "# first retrieve data from sklearn \n",
        "from sklearn.datasets import fetch_20newsgroups\n",
        "# define the categories to be used\n",
        "categories = ['alt.atheism','comp.graphics', 'sci.med']\n",
        "# extract the\n",
        "train = fetch_20newsgroups(subset='train', categories=categories, shuffle=True, random_state=11)"
      ]
    },
    {
      "cell_type": "code",
      "execution_count": 74,
      "metadata": {},
      "outputs": [
        {
          "name": "stdout",
          "output_type": "stream",
          "text": [
            "counts: (1658, 30277)\n",
            "frequencies: (1658, 30277)\n"
          ]
        }
      ],
      "source": [
        "# let's first the tokenization mechanisms provided by scikit-learn\n",
        "from sklearn.feature_extraction.text import CountVectorizer\n",
        "count_vec = CountVectorizer()\n",
        "train_counts = count_vec.fit_transform(train.data)\n",
        "print(f\"counts: {train_counts.shape}\")\n",
        "\n",
        "# let's convert the counts to frequencies using tfidf transformer\n",
        "from sklearn.feature_extraction.text import TfidfTransformer\n",
        "transformer = TfidfTransformer()\n",
        "train_freq = transformer.fit_transform(train_counts) \n",
        "print(f\"frequencies: {train_freq.shape}\")"
      ]
    },
    {
      "cell_type": "code",
      "execution_count": 75,
      "metadata": {},
      "outputs": [
        {
          "data": {
            "text/html": [
              "<style>#sk-container-id-3 {color: black;background-color: white;}#sk-container-id-3 pre{padding: 0;}#sk-container-id-3 div.sk-toggleable {background-color: white;}#sk-container-id-3 label.sk-toggleable__label {cursor: pointer;display: block;width: 100%;margin-bottom: 0;padding: 0.3em;box-sizing: border-box;text-align: center;}#sk-container-id-3 label.sk-toggleable__label-arrow:before {content: \"▸\";float: left;margin-right: 0.25em;color: #696969;}#sk-container-id-3 label.sk-toggleable__label-arrow:hover:before {color: black;}#sk-container-id-3 div.sk-estimator:hover label.sk-toggleable__label-arrow:before {color: black;}#sk-container-id-3 div.sk-toggleable__content {max-height: 0;max-width: 0;overflow: hidden;text-align: left;background-color: #f0f8ff;}#sk-container-id-3 div.sk-toggleable__content pre {margin: 0.2em;color: black;border-radius: 0.25em;background-color: #f0f8ff;}#sk-container-id-3 input.sk-toggleable__control:checked~div.sk-toggleable__content {max-height: 200px;max-width: 100%;overflow: auto;}#sk-container-id-3 input.sk-toggleable__control:checked~label.sk-toggleable__label-arrow:before {content: \"▾\";}#sk-container-id-3 div.sk-estimator input.sk-toggleable__control:checked~label.sk-toggleable__label {background-color: #d4ebff;}#sk-container-id-3 div.sk-label input.sk-toggleable__control:checked~label.sk-toggleable__label {background-color: #d4ebff;}#sk-container-id-3 input.sk-hidden--visually {border: 0;clip: rect(1px 1px 1px 1px);clip: rect(1px, 1px, 1px, 1px);height: 1px;margin: -1px;overflow: hidden;padding: 0;position: absolute;width: 1px;}#sk-container-id-3 div.sk-estimator {font-family: monospace;background-color: #f0f8ff;border: 1px dotted black;border-radius: 0.25em;box-sizing: border-box;margin-bottom: 0.5em;}#sk-container-id-3 div.sk-estimator:hover {background-color: #d4ebff;}#sk-container-id-3 div.sk-parallel-item::after {content: \"\";width: 100%;border-bottom: 1px solid gray;flex-grow: 1;}#sk-container-id-3 div.sk-label:hover label.sk-toggleable__label {background-color: #d4ebff;}#sk-container-id-3 div.sk-serial::before {content: \"\";position: absolute;border-left: 1px solid gray;box-sizing: border-box;top: 0;bottom: 0;left: 50%;z-index: 0;}#sk-container-id-3 div.sk-serial {display: flex;flex-direction: column;align-items: center;background-color: white;padding-right: 0.2em;padding-left: 0.2em;position: relative;}#sk-container-id-3 div.sk-item {position: relative;z-index: 1;}#sk-container-id-3 div.sk-parallel {display: flex;align-items: stretch;justify-content: center;background-color: white;position: relative;}#sk-container-id-3 div.sk-item::before, #sk-container-id-3 div.sk-parallel-item::before {content: \"\";position: absolute;border-left: 1px solid gray;box-sizing: border-box;top: 0;bottom: 0;left: 50%;z-index: -1;}#sk-container-id-3 div.sk-parallel-item {display: flex;flex-direction: column;z-index: 1;position: relative;background-color: white;}#sk-container-id-3 div.sk-parallel-item:first-child::after {align-self: flex-end;width: 50%;}#sk-container-id-3 div.sk-parallel-item:last-child::after {align-self: flex-start;width: 50%;}#sk-container-id-3 div.sk-parallel-item:only-child::after {width: 0;}#sk-container-id-3 div.sk-dashed-wrapped {border: 1px dashed gray;margin: 0 0.4em 0.5em 0.4em;box-sizing: border-box;padding-bottom: 0.4em;background-color: white;}#sk-container-id-3 div.sk-label label {font-family: monospace;font-weight: bold;display: inline-block;line-height: 1.2em;}#sk-container-id-3 div.sk-label-container {text-align: center;}#sk-container-id-3 div.sk-container {/* jupyter's `normalize.less` sets `[hidden] { display: none; }` but bootstrap.min.css set `[hidden] { display: none !important; }` so we also need the `!important` here to be able to override the default hidden behavior on the sphinx rendered scikit-learn.org. See: https://github.com/scikit-learn/scikit-learn/issues/21755 */display: inline-block !important;position: relative;}#sk-container-id-3 div.sk-text-repr-fallback {display: none;}</style><div id=\"sk-container-id-3\" class=\"sk-top-container\"><div class=\"sk-text-repr-fallback\"><pre>Pipeline(steps=[(&#x27;count&#x27;, CountVectorizer()), (&#x27;tfidf&#x27;, TfidfTransformer()),\n",
              "                (&#x27;classifier&#x27;, LogisticRegression())])</pre><b>In a Jupyter environment, please rerun this cell to show the HTML representation or trust the notebook. <br />On GitHub, the HTML representation is unable to render, please try loading this page with nbviewer.org.</b></div><div class=\"sk-container\" hidden><div class=\"sk-item sk-dashed-wrapped\"><div class=\"sk-label-container\"><div class=\"sk-label sk-toggleable\"><input class=\"sk-toggleable__control sk-hidden--visually\" id=\"sk-estimator-id-9\" type=\"checkbox\" ><label for=\"sk-estimator-id-9\" class=\"sk-toggleable__label sk-toggleable__label-arrow\">Pipeline</label><div class=\"sk-toggleable__content\"><pre>Pipeline(steps=[(&#x27;count&#x27;, CountVectorizer()), (&#x27;tfidf&#x27;, TfidfTransformer()),\n",
              "                (&#x27;classifier&#x27;, LogisticRegression())])</pre></div></div></div><div class=\"sk-serial\"><div class=\"sk-item\"><div class=\"sk-estimator sk-toggleable\"><input class=\"sk-toggleable__control sk-hidden--visually\" id=\"sk-estimator-id-10\" type=\"checkbox\" ><label for=\"sk-estimator-id-10\" class=\"sk-toggleable__label sk-toggleable__label-arrow\">CountVectorizer</label><div class=\"sk-toggleable__content\"><pre>CountVectorizer()</pre></div></div></div><div class=\"sk-item\"><div class=\"sk-estimator sk-toggleable\"><input class=\"sk-toggleable__control sk-hidden--visually\" id=\"sk-estimator-id-11\" type=\"checkbox\" ><label for=\"sk-estimator-id-11\" class=\"sk-toggleable__label sk-toggleable__label-arrow\">TfidfTransformer</label><div class=\"sk-toggleable__content\"><pre>TfidfTransformer()</pre></div></div></div><div class=\"sk-item\"><div class=\"sk-estimator sk-toggleable\"><input class=\"sk-toggleable__control sk-hidden--visually\" id=\"sk-estimator-id-12\" type=\"checkbox\" ><label for=\"sk-estimator-id-12\" class=\"sk-toggleable__label sk-toggleable__label-arrow\">LogisticRegression</label><div class=\"sk-toggleable__content\"><pre>LogisticRegression()</pre></div></div></div></div></div></div></div>"
            ],
            "text/plain": [
              "Pipeline(steps=[('count', CountVectorizer()), ('tfidf', TfidfTransformer()),\n",
              "                ('classifier', LogisticRegression())])"
            ]
          },
          "execution_count": 75,
          "metadata": {},
          "output_type": "execute_result"
        }
      ],
      "source": [
        "# let's put everything into a pipeline as it is easier to work with\n",
        "from sklearn.pipeline import Pipeline\n",
        "from sklearn.linear_model import LogisticRegression\n",
        "\n",
        "text_clf = Pipeline([('count', CountVectorizer()), \n",
        "        ('tfidf', TfidfTransformer()),\n",
        "        ('classifier', LogisticRegression())])\n",
        "text_clf.fit(train.data, train.target)\n"
      ]
    },
    {
      "cell_type": "code",
      "execution_count": 76,
      "metadata": {},
      "outputs": [
        {
          "name": "stdout",
          "output_type": "stream",
          "text": [
            "balanced accuracy for the current pipeline on the test data is: 0.913\n"
          ]
        }
      ],
      "source": [
        "# time to test the pipeline\n",
        "from sklearn.metrics import balanced_accuracy_score\n",
        "# first import test dataset\n",
        "test = fetch_20newsgroups(subset='test', categories=categories, shuffle=True, random_state=11)\n",
        "pred = text_clf.predict(test.data)\n",
        "\n",
        "print(f\"balanced accuracy for the current pipeline on the test data is: {round(balanced_accuracy_score(test.target, pred), 3)}\")"
      ]
    },
    {
      "cell_type": "markdown",
      "metadata": {
        "id": "p7ucTXjvhHIn"
      },
      "source": [
        "## Task 3\n",
        "\n",
        "Write a python program that does the following :\n",
        "1. Preprocess the given data\n",
        "2. Find entities in the data using regular expressions: dates, names, locations\n",
        "3. Anonymise the names of US presidents\n",
        "4. Highlight the locations\n",
        "5. Sort by dates"
      ]
    },
    {
      "cell_type": "code",
      "execution_count": 77,
      "metadata": {
        "id": "hWgOrMS0EATE"
      },
      "outputs": [],
      "source": [
        "TEXT = [\n",
        "    \"Barack Obama was the 44th president of the US and he followed George W. Bush and was followed by Donald Trump in 2017\",\n",
        "    \"As a young man, George H.W. Bush served in World War II as a fighter pilot. In 1944, he was shot down and had to parachute to safety.\",\n",
        "    \"Before he was president, George W. Bush was a cheerleader, a fraternity brother, an oilman, an owner of a professional baseball team, and a governor. After leaving office in 2009, Bush learned to paint.\",\n",
        "    \"Here's something else you probably didn't know about John Adams: He died on the Fourth of July. And he wasn't the only commander in chief to do so. In fact, three of the nation's five founding fathers—Adams, Thomas Jefferson, and James Monroe—died on Independence Day. Adams and Jefferson even passed on the same exact day: July 4, 1826, which happened to be the 50th anniversary of the adoption of the Declaration of Independence.\",\n",
        "    \"At 6 feet 4 inches tall, Abraham Lincoln and Lyndon B. Johnson were America's tallest presidents. But what about America's shortest president? That distinction goes to founding father James Madison (1809-1817), who, at 5 feet 4 inches tall, was a full foot shorter than his tallest peers.\",\n",
        "    \"That changed, however, in October 1860, when Lincoln received a letter from an 11-year-old girl named Grace Bedell. 'If you will let your whiskers grow I will try and get [my brothers] to vote for you,' Bedell wrote to Lincoln. 'You would look a great deal better for your face is so thin. All the ladies like whiskers and they would tease their husbands to vote for you and then you would be president.'\",\n",
        "    \"Richard Nixon was hardly the first president who liked to unwind by rolling a few strikes. Harry S. Truman also enjoyed bowling, and opened the first White House bowling alley in 1947. \",\n",
        "    \"If you had to bet on which U.S. president was the biggest movie fan, you'd probably put your money on America's actor-turned-president, Ronald Reagan (1981-1989). And that would be a great guess. Reagan reportedly watched 363 movies during his two terms in office.\",\n",
        "    \"Thomas Jefferson offered to sell his personal library when the Library of Congress was burned by the British during the War of 1812. He sold them 6487 books from his own collection, the largest in America at the time.\",\n",
        "    \"Born in New York in 1782, Martin Van Buren was the first president to have been born after the American Revolution, technically making him the first American-born president.\",\n",
        "\n",
        "    \"Benjamin Harrison had a tight-knit family and loved to amuse and dote on his grandchildren. He put up the first recorded White House Christmas tree in 1889, and was known to put on the Santa suit for entertainment.\",\n",
        "    \"A 16-year-old Bill Clinton managed to shake hands with President John F. Kennedy at a Boys Nation event in 1963. This would take place just four months before Kennedy's assassination.\",\n",
        "    \"In 1993—two years before he became the governor of Texas—George W. Bush ran the Houston marathon, finishing with a time of 3:44:52. He is the only president to have ever run a marathon.\",\n",
        "]"
      ]
    },
    {
      "cell_type": "code",
      "execution_count": 78,
      "metadata": {},
      "outputs": [
        {
          "data": {
            "text/plain": [
              "'Every day learning a new thing.'"
            ]
          },
          "execution_count": 78,
          "metadata": {},
          "output_type": "execute_result"
        }
      ],
      "source": [
        "import re\n",
        "import copy\n",
        "from string import punctuation\n",
        "\n",
        "def preprocess(text):\n",
        "    new_text = re.sub(r'[^\\w\\s\\.]', '', text)\n",
        "    new_text = re.sub(r'\\s+', ' ', new_text)\n",
        "    \n",
        "    return new_text\n",
        "\n",
        "preprocess(\"Every ### da%y learn,,,ing a new th!!ing.\")"
      ]
    },
    {
      "cell_type": "code",
      "execution_count": 79,
      "metadata": {},
      "outputs": [
        {
          "name": "stdout",
          "output_type": "stream",
          "text": [
            "(US|America|White House|Library of Congress|Texas|New York|Houston)\n"
          ]
        }
      ],
      "source": [
        "import re\n",
        "# let's create a regex for names made out of at least 2 components\n",
        "# regex_name_atleast_2_words = r'([A-Z]+[a-z]* [A-Z]+[a-z]*\\. [A-Z]+[a-z]*)| ([A-Z]+[a-z]* ){1,}([A-Z]+[a-z]*)'\n",
        "regex_name_with_point = r'([A-Z]+[a-z]* [A-Z]+[a-z]*\\. [A-Z]+[a-z]*)'\n",
        "regex_name_2_words = \"[A-Z]+[a-z]* [A-Z]+[a-z]*\"\n",
        "regex_name_at_least_3_words = \"([A-Z]+[a-z]* ){2,}([A-Z]+[a-z]*)\"\n",
        "\n",
        "locations = [\"US\", \"America\", \"White House\", \"Library of Congress\", \"Texas\", \"New York\", 'Houston']\n",
        "\n",
        "locations_regex = \"(\" + \"|\".join(locations) + \")\"\n",
        "\n",
        "print(locations_regex)\n"
      ]
    },
    {
      "cell_type": "code",
      "execution_count": 80,
      "metadata": {
        "id": "uh9i4JE4hJx0"
      },
      "outputs": [
        {
          "name": "stdout",
          "output_type": "stream",
          "text": [
            "['Barack Obama', 'Donald Trump', 'George H', 'John Adams', 'James Monroe', 'Lyndon B. Johnson', 'Abraham Lincoln', 'Lyndon B', 'James Madison', 'Grace Bedell', 'Richard Nixon', 'Harry S. Truman', 'Ronald Reagan', 'Thomas Jefferson', 'Van Buren', 'Martin Van', 'Benjamin Harrison', 'President John', 'John F. Kennedy', 'Bill Clinton', 'George W. Bush']\n"
          ]
        }
      ],
      "source": [
        "names = []\n",
        "for s in TEXT:\n",
        "    n1 = set(re.findall(regex_name_2_words, s))\n",
        "    n2 = set(re.findall(regex_name_at_least_3_words, s))\n",
        "    n3 = set(re.findall(regex_name_with_point, s))\n",
        "\n",
        "    n1 = set([\"\".join(group) for group in n1])   \n",
        "    n2 = set([\"\".join(group) for group in n2])\n",
        "    n3 = set([\"\".join(group) for group in n3])\n",
        "    \n",
        "    n3.update(n1)\n",
        "    n3.update(n2)\n",
        "    \n",
        "    names.extend(list(n3))\n",
        "    # let's further improve the results : if one element in a substring of another then, remove it\n",
        "    copy_names = names.copy()\n",
        "    for i1 in range(len(names)):\n",
        "        for  i2 in range(i1 + 1, len(names)):\n",
        "            if names[i1] in names[i2]:\n",
        "                copy_names.remove(names[i1])\n",
        "                break\n",
        "\n",
        "# filter some results manually\n",
        "filtered = ['War II', 'World War', 'Independence Day', 'New York', 'American Revolution', 'White House', 'House Christmas', 'Boys Nation', 'Independence Day. Adams']\n",
        "\n",
        "final_names = [name for name in copy_names if name not in filtered]\n",
        "\n",
        "print(final_names)\n"
      ]
    },
    {
      "cell_type": "code",
      "execution_count": 81,
      "metadata": {},
      "outputs": [
        {
          "name": "stdout",
          "output_type": "stream",
          "text": [
            "Barack Obama was the 44th president of the US and he followed George W. Bush and was followed by Donald Trump in 2017\n",
            "after transformation\n",
            "************ was the 44th president of the US and he followed ************** and was followed by ************ in 2017\n",
            "As a young man, George H.W. Bush served in World War II as a fighter pilot. In 1944, he was shot down and had to parachute to safety.\n",
            "after transformation\n",
            "As a young man, ********.W. Bush served in World War II as a fighter pilot. In 1944, he was shot down and had to parachute to safety.\n",
            "Before he was president, George W. Bush was a cheerleader, a fraternity brother, an oilman, an owner of a professional baseball team, and a governor. After leaving office in 2009, Bush learned to paint.\n",
            "after transformation\n",
            "Before he was president, ************** was a cheerleader, a fraternity brother, an oilman, an owner of a professional baseball team, and a governor. After leaving office in 2009, Bush learned to paint.\n",
            "Here's something else you probably didn't know about John Adams: He died on the Fourth of July. And he wasn't the only commander in chief to do so. In fact, three of the nation's five founding fathers—Adams, Thomas Jefferson, and James Monroe—died on Independence Day. Adams and Jefferson even passed on the same exact day: July 4, 1826, which happened to be the 50th anniversary of the adoption of the Declaration of Independence.\n",
            "after transformation\n",
            "Here's something else you probably didn't know about **********: He died on the Fourth of July. And he wasn't the only commander in chief to do so. In fact, three of the nation's five founding fathers—Adams, ****************, and ************—died on Independence Day. Adams and Jefferson even passed on the same exact day: July 4, 1826, which happened to be the 50th anniversary of the adoption of the Declaration of Independence.\n",
            "At 6 feet 4 inches tall, Abraham Lincoln and Lyndon B. Johnson were America's tallest presidents. But what about America's shortest president? That distinction goes to founding father James Madison (1809-1817), who, at 5 feet 4 inches tall, was a full foot shorter than his tallest peers.\n",
            "after transformation\n",
            "At 6 feet 4 inches tall, *************** and ***************** were America's tallest presidents. But what about America's shortest president? That distinction goes to founding father ************* (1809-1817), who, at 5 feet 4 inches tall, was a full foot shorter than his tallest peers.\n",
            "That changed, however, in October 1860, when Lincoln received a letter from an 11-year-old girl named Grace Bedell. 'If you will let your whiskers grow I will try and get [my brothers] to vote for you,' Bedell wrote to Lincoln. 'You would look a great deal better for your face is so thin. All the ladies like whiskers and they would tease their husbands to vote for you and then you would be president.'\n",
            "after transformation\n",
            "That changed, however, in October 1860, when Lincoln received a letter from an 11-year-old girl named ************. 'If you will let your whiskers grow I will try and get [my brothers] to vote for you,' Bedell wrote to Lincoln. 'You would look a great deal better for your face is so thin. All the ladies like whiskers and they would tease their husbands to vote for you and then you would be president.'\n",
            "Richard Nixon was hardly the first president who liked to unwind by rolling a few strikes. Harry S. Truman also enjoyed bowling, and opened the first White House bowling alley in 1947. \n",
            "after transformation\n",
            "************* was hardly the first president who liked to unwind by rolling a few strikes. *************** also enjoyed bowling, and opened the first White House bowling alley in 1947. \n",
            "If you had to bet on which U.S. president was the biggest movie fan, you'd probably put your money on America's actor-turned-president, Ronald Reagan (1981-1989). And that would be a great guess. Reagan reportedly watched 363 movies during his two terms in office.\n",
            "after transformation\n",
            "If you had to bet on which U.S. president was the biggest movie fan, you'd probably put your money on America's actor-turned-president, ************* (1981-1989). And that would be a great guess. Reagan reportedly watched 363 movies during his two terms in office.\n",
            "Thomas Jefferson offered to sell his personal library when the Library of Congress was burned by the British during the War of 1812. He sold them 6487 books from his own collection, the largest in America at the time.\n",
            "after transformation\n",
            "**************** offered to sell his personal library when the Library of Congress was burned by the British during the War of 1812. He sold them 6487 books from his own collection, the largest in America at the time.\n",
            "Born in New York in 1782, Martin Van Buren was the first president to have been born after the American Revolution, technically making him the first American-born president.\n",
            "after transformation\n",
            "Born in New York in 1782, Martin ********* was the first president to have been born after the American Revolution, technically making him the first American-born president.\n",
            "Benjamin Harrison had a tight-knit family and loved to amuse and dote on his grandchildren. He put up the first recorded White House Christmas tree in 1889, and was known to put on the Santa suit for entertainment.\n",
            "after transformation\n",
            "***************** had a tight-knit family and loved to amuse and dote on his grandchildren. He put up the first recorded White House Christmas tree in 1889, and was known to put on the Santa suit for entertainment.\n",
            "A 16-year-old Bill Clinton managed to shake hands with President John F. Kennedy at a Boys Nation event in 1963. This would take place just four months before Kennedy's assassination.\n",
            "after transformation\n",
            "A 16-year-old ************ managed to shake hands with ************** F. Kennedy at a Boys Nation event in 1963. This would take place just four months before Kennedy's assassination.\n",
            "In 1993—two years before he became the governor of Texas—George W. Bush ran the Houston marathon, finishing with a time of 3:44:52. He is the only president to have ever run a marathon.\n",
            "after transformation\n",
            "In 1993—two years before he became the governor of Texas—************** ran the Houston marathon, finishing with a time of 3:44:52. He is the only president to have ever run a marathon.\n"
          ]
        }
      ],
      "source": [
        "for s in TEXT:\n",
        "    print(s)\n",
        "    for n in final_names:\n",
        "        s = s.replace(n, \"*\" * len(n))\n",
        "\n",
        "    print(\"after transformation\")\n",
        "    print(s)\n"
      ]
    },
    {
      "cell_type": "code",
      "execution_count": 82,
      "metadata": {},
      "outputs": [
        {
          "name": "stdout",
          "output_type": "stream",
          "text": [
            "['America', 'Library of Congress', 'White House', 'US', 'Houston', 'New York', 'Texas']\n"
          ]
        }
      ],
      "source": [
        "# let's check the locations\n",
        "locations  = [ ]\n",
        "for s in TEXT:\n",
        "    locations.extend(re.findall(locations_regex, s))\n",
        "print(list(set(locations)))"
      ]
    },
    {
      "attachments": {},
      "cell_type": "markdown",
      "metadata": {
        "id": "qWy26ZEfpeRk"
      },
      "source": [
        "## Task 4\n",
        "\n",
        "Write a python program that does the following :\n",
        "1. Preprocess the data from Task 3\n",
        "2. Find entities in the data using [Gazetteers](https://gatenlp.readthedocs.io/en/latest/gazetteers/) from gatenlp: dates, names, locations\n",
        "3. Anonymise the names of US presidents\n",
        "4. Highlight the locations\n",
        "5. Sort by dates\n"
      ]
    },
    {
      "cell_type": "code",
      "execution_count": 83,
      "metadata": {},
      "outputs": [
        {
          "name": "stdout",
          "output_type": "stream",
          "text": [
            "Requirement already satisfied: spacy in c:\\users\\bouab\\dev\\ds_env\\lib\\site-packages (3.5.0)\n",
            "Requirement already satisfied: langcodes<4.0.0,>=3.2.0 in c:\\users\\bouab\\dev\\ds_env\\lib\\site-packages (from spacy) (3.3.0)\n",
            "Requirement already satisfied: setuptools in c:\\users\\bouab\\dev\\ds_env\\lib\\site-packages (from spacy) (66.1.1)\n",
            "Requirement already satisfied: pathy>=0.10.0 in c:\\users\\bouab\\dev\\ds_env\\lib\\site-packages (from spacy) (0.10.1)\n",
            "Requirement already satisfied: preshed<3.1.0,>=3.0.2 in c:\\users\\bouab\\dev\\ds_env\\lib\\site-packages (from spacy) (3.0.8)\n",
            "Requirement already satisfied: jinja2 in c:\\users\\bouab\\dev\\ds_env\\lib\\site-packages (from spacy) (3.1.2)\n",
            "Requirement already satisfied: srsly<3.0.0,>=2.4.3 in c:\\users\\bouab\\dev\\ds_env\\lib\\site-packages (from spacy) (2.4.5)\n",
            "Requirement already satisfied: numpy>=1.15.0 in c:\\users\\bouab\\dev\\ds_env\\lib\\site-packages (from spacy) (1.24.1)\n",
            "Requirement already satisfied: requests<3.0.0,>=2.13.0 in c:\\users\\bouab\\dev\\ds_env\\lib\\site-packages (from spacy) (2.28.2)\n",
            "Requirement already satisfied: tqdm<5.0.0,>=4.38.0 in c:\\users\\bouab\\dev\\ds_env\\lib\\site-packages (from spacy) (4.64.1)\n",
            "Requirement already satisfied: typer<0.8.0,>=0.3.0 in c:\\users\\bouab\\dev\\ds_env\\lib\\site-packages (from spacy) (0.7.0)\n",
            "Requirement already satisfied: murmurhash<1.1.0,>=0.28.0 in c:\\users\\bouab\\dev\\ds_env\\lib\\site-packages (from spacy) (1.0.9)\n",
            "Requirement already satisfied: pydantic!=1.8,!=1.8.1,<1.11.0,>=1.7.4 in c:\\users\\bouab\\dev\\ds_env\\lib\\site-packages (from spacy) (1.10.4)\n",
            "Requirement already satisfied: thinc<8.2.0,>=8.1.0 in c:\\users\\bouab\\dev\\ds_env\\lib\\site-packages (from spacy) (8.1.7)\n",
            "Requirement already satisfied: cymem<2.1.0,>=2.0.2 in c:\\users\\bouab\\dev\\ds_env\\lib\\site-packages (from spacy) (2.0.7)\n",
            "Requirement already satisfied: spacy-legacy<3.1.0,>=3.0.11 in c:\\users\\bouab\\dev\\ds_env\\lib\\site-packages (from spacy) (3.0.12)\n",
            "Requirement already satisfied: catalogue<2.1.0,>=2.0.6 in c:\\users\\bouab\\dev\\ds_env\\lib\\site-packages (from spacy) (2.0.8)\n",
            "Requirement already satisfied: wasabi<1.2.0,>=0.9.1 in c:\\users\\bouab\\dev\\ds_env\\lib\\site-packages (from spacy) (1.1.1)\n",
            "Requirement already satisfied: smart-open<7.0.0,>=5.2.1 in c:\\users\\bouab\\dev\\ds_env\\lib\\site-packages (from spacy) (6.3.0)\n",
            "Requirement already satisfied: spacy-loggers<2.0.0,>=1.0.0 in c:\\users\\bouab\\dev\\ds_env\\lib\\site-packages (from spacy) (1.0.4)\n",
            "Requirement already satisfied: packaging>=20.0 in c:\\users\\bouab\\dev\\ds_env\\lib\\site-packages (from spacy) (23.0)\n",
            "Requirement already satisfied: typing-extensions>=4.2.0 in c:\\users\\bouab\\dev\\ds_env\\lib\\site-packages (from pydantic!=1.8,!=1.8.1,<1.11.0,>=1.7.4->spacy) (4.4.0)\n",
            "Requirement already satisfied: idna<4,>=2.5 in c:\\users\\bouab\\dev\\ds_env\\lib\\site-packages (from requests<3.0.0,>=2.13.0->spacy) (3.4)\n",
            "Requirement already satisfied: urllib3<1.27,>=1.21.1 in c:\\users\\bouab\\dev\\ds_env\\lib\\site-packages (from requests<3.0.0,>=2.13.0->spacy) (1.26.14)\n",
            "Requirement already satisfied: certifi>=2017.4.17 in c:\\users\\bouab\\dev\\ds_env\\lib\\site-packages (from requests<3.0.0,>=2.13.0->spacy) (2022.12.7)\n",
            "Requirement already satisfied: charset-normalizer<4,>=2 in c:\\users\\bouab\\dev\\ds_env\\lib\\site-packages (from requests<3.0.0,>=2.13.0->spacy) (3.0.1)\n",
            "Requirement already satisfied: confection<1.0.0,>=0.0.1 in c:\\users\\bouab\\dev\\ds_env\\lib\\site-packages (from thinc<8.2.0,>=8.1.0->spacy) (0.0.4)\n",
            "Requirement already satisfied: blis<0.8.0,>=0.7.8 in c:\\users\\bouab\\dev\\ds_env\\lib\\site-packages (from thinc<8.2.0,>=8.1.0->spacy) (0.7.9)\n",
            "Requirement already satisfied: colorama in c:\\users\\bouab\\dev\\ds_env\\lib\\site-packages (from tqdm<5.0.0,>=4.38.0->spacy) (0.4.6)\n",
            "Requirement already satisfied: click<9.0.0,>=7.1.1 in c:\\users\\bouab\\dev\\ds_env\\lib\\site-packages (from typer<0.8.0,>=0.3.0->spacy) (8.1.3)\n",
            "Requirement already satisfied: MarkupSafe>=2.0 in c:\\users\\bouab\\dev\\ds_env\\lib\\site-packages (from jinja2->spacy) (2.1.2)\n",
            "Collecting en-core-web-sm==3.5.0\n",
            "  Downloading https://github.com/explosion/spacy-models/releases/download/en_core_web_sm-3.5.0/en_core_web_sm-3.5.0-py3-none-any.whl (12.8 MB)\n",
            "     --------------------------------------- 12.8/12.8 MB 13.3 MB/s eta 0:00:00\n",
            "Requirement already satisfied: spacy<3.6.0,>=3.5.0 in c:\\users\\bouab\\dev\\ds_env\\lib\\site-packages (from en-core-web-sm==3.5.0) (3.5.0)\n",
            "Requirement already satisfied: setuptools in c:\\users\\bouab\\dev\\ds_env\\lib\\site-packages (from spacy<3.6.0,>=3.5.0->en-core-web-sm==3.5.0) (66.1.1)\n",
            "Requirement already satisfied: tqdm<5.0.0,>=4.38.0 in c:\\users\\bouab\\dev\\ds_env\\lib\\site-packages (from spacy<3.6.0,>=3.5.0->en-core-web-sm==3.5.0) (4.64.1)\n",
            "Requirement already satisfied: requests<3.0.0,>=2.13.0 in c:\\users\\bouab\\dev\\ds_env\\lib\\site-packages (from spacy<3.6.0,>=3.5.0->en-core-web-sm==3.5.0) (2.28.2)\n",
            "Requirement already satisfied: cymem<2.1.0,>=2.0.2 in c:\\users\\bouab\\dev\\ds_env\\lib\\site-packages (from spacy<3.6.0,>=3.5.0->en-core-web-sm==3.5.0) (2.0.7)\n",
            "Requirement already satisfied: srsly<3.0.0,>=2.4.3 in c:\\users\\bouab\\dev\\ds_env\\lib\\site-packages (from spacy<3.6.0,>=3.5.0->en-core-web-sm==3.5.0) (2.4.5)\n",
            "Requirement already satisfied: jinja2 in c:\\users\\bouab\\dev\\ds_env\\lib\\site-packages (from spacy<3.6.0,>=3.5.0->en-core-web-sm==3.5.0) (3.1.2)\n",
            "Requirement already satisfied: smart-open<7.0.0,>=5.2.1 in c:\\users\\bouab\\dev\\ds_env\\lib\\site-packages (from spacy<3.6.0,>=3.5.0->en-core-web-sm==3.5.0) (6.3.0)\n",
            "Requirement already satisfied: spacy-loggers<2.0.0,>=1.0.0 in c:\\users\\bouab\\dev\\ds_env\\lib\\site-packages (from spacy<3.6.0,>=3.5.0->en-core-web-sm==3.5.0) (1.0.4)\n",
            "Requirement already satisfied: murmurhash<1.1.0,>=0.28.0 in c:\\users\\bouab\\dev\\ds_env\\lib\\site-packages (from spacy<3.6.0,>=3.5.0->en-core-web-sm==3.5.0) (1.0.9)\n",
            "Requirement already satisfied: pathy>=0.10.0 in c:\\users\\bouab\\dev\\ds_env\\lib\\site-packages (from spacy<3.6.0,>=3.5.0->en-core-web-sm==3.5.0) (0.10.1)\n",
            "Requirement already satisfied: numpy>=1.15.0 in c:\\users\\bouab\\dev\\ds_env\\lib\\site-packages (from spacy<3.6.0,>=3.5.0->en-core-web-sm==3.5.0) (1.24.1)\n",
            "Requirement already satisfied: wasabi<1.2.0,>=0.9.1 in c:\\users\\bouab\\dev\\ds_env\\lib\\site-packages (from spacy<3.6.0,>=3.5.0->en-core-web-sm==3.5.0) (1.1.1)\n",
            "Requirement already satisfied: packaging>=20.0 in c:\\users\\bouab\\dev\\ds_env\\lib\\site-packages (from spacy<3.6.0,>=3.5.0->en-core-web-sm==3.5.0) (23.0)\n",
            "Requirement already satisfied: preshed<3.1.0,>=3.0.2 in c:\\users\\bouab\\dev\\ds_env\\lib\\site-packages (from spacy<3.6.0,>=3.5.0->en-core-web-sm==3.5.0) (3.0.8)\n",
            "Requirement already satisfied: typer<0.8.0,>=0.3.0 in c:\\users\\bouab\\dev\\ds_env\\lib\\site-packages (from spacy<3.6.0,>=3.5.0->en-core-web-sm==3.5.0) (0.7.0)\n",
            "Requirement already satisfied: catalogue<2.1.0,>=2.0.6 in c:\\users\\bouab\\dev\\ds_env\\lib\\site-packages (from spacy<3.6.0,>=3.5.0->en-core-web-sm==3.5.0) (2.0.8)\n",
            "Requirement already satisfied: pydantic!=1.8,!=1.8.1,<1.11.0,>=1.7.4 in c:\\users\\bouab\\dev\\ds_env\\lib\\site-packages (from spacy<3.6.0,>=3.5.0->en-core-web-sm==3.5.0) (1.10.4)\n",
            "Requirement already satisfied: langcodes<4.0.0,>=3.2.0 in c:\\users\\bouab\\dev\\ds_env\\lib\\site-packages (from spacy<3.6.0,>=3.5.0->en-core-web-sm==3.5.0) (3.3.0)\n",
            "Requirement already satisfied: thinc<8.2.0,>=8.1.0 in c:\\users\\bouab\\dev\\ds_env\\lib\\site-packages (from spacy<3.6.0,>=3.5.0->en-core-web-sm==3.5.0) (8.1.7)\n",
            "Requirement already satisfied: spacy-legacy<3.1.0,>=3.0.11 in c:\\users\\bouab\\dev\\ds_env\\lib\\site-packages (from spacy<3.6.0,>=3.5.0->en-core-web-sm==3.5.0) (3.0.12)\n",
            "Requirement already satisfied: typing-extensions>=4.2.0 in c:\\users\\bouab\\dev\\ds_env\\lib\\site-packages (from pydantic!=1.8,!=1.8.1,<1.11.0,>=1.7.4->spacy<3.6.0,>=3.5.0->en-core-web-sm==3.5.0) (4.4.0)\n",
            "Requirement already satisfied: charset-normalizer<4,>=2 in c:\\users\\bouab\\dev\\ds_env\\lib\\site-packages (from requests<3.0.0,>=2.13.0->spacy<3.6.0,>=3.5.0->en-core-web-sm==3.5.0) (3.0.1)\n",
            "Requirement already satisfied: urllib3<1.27,>=1.21.1 in c:\\users\\bouab\\dev\\ds_env\\lib\\site-packages (from requests<3.0.0,>=2.13.0->spacy<3.6.0,>=3.5.0->en-core-web-sm==3.5.0) (1.26.14)\n",
            "Requirement already satisfied: idna<4,>=2.5 in c:\\users\\bouab\\dev\\ds_env\\lib\\site-packages (from requests<3.0.0,>=2.13.0->spacy<3.6.0,>=3.5.0->en-core-web-sm==3.5.0) (3.4)\n",
            "Requirement already satisfied: certifi>=2017.4.17 in c:\\users\\bouab\\dev\\ds_env\\lib\\site-packages (from requests<3.0.0,>=2.13.0->spacy<3.6.0,>=3.5.0->en-core-web-sm==3.5.0) (2022.12.7)\n",
            "Requirement already satisfied: confection<1.0.0,>=0.0.1 in c:\\users\\bouab\\dev\\ds_env\\lib\\site-packages (from thinc<8.2.0,>=8.1.0->spacy<3.6.0,>=3.5.0->en-core-web-sm==3.5.0) (0.0.4)\n",
            "Requirement already satisfied: blis<0.8.0,>=0.7.8 in c:\\users\\bouab\\dev\\ds_env\\lib\\site-packages (from thinc<8.2.0,>=8.1.0->spacy<3.6.0,>=3.5.0->en-core-web-sm==3.5.0) (0.7.9)\n",
            "Requirement already satisfied: colorama in c:\\users\\bouab\\dev\\ds_env\\lib\\site-packages (from tqdm<5.0.0,>=4.38.0->spacy<3.6.0,>=3.5.0->en-core-web-sm==3.5.0) (0.4.6)\n",
            "Requirement already satisfied: click<9.0.0,>=7.1.1 in c:\\users\\bouab\\dev\\ds_env\\lib\\site-packages (from typer<0.8.0,>=0.3.0->spacy<3.6.0,>=3.5.0->en-core-web-sm==3.5.0) (8.1.3)\n",
            "Requirement already satisfied: MarkupSafe>=2.0 in c:\\users\\bouab\\dev\\ds_env\\lib\\site-packages (from jinja2->spacy<3.6.0,>=3.5.0->en-core-web-sm==3.5.0) (2.1.2)\n",
            "\u001b[38;5;2m✔ Download and installation successful\u001b[0m\n",
            "You can now load the package via spacy.load('en_core_web_sm')\n"
          ]
        }
      ],
      "source": [
        "! pip install spacy\n",
        "! python -m spacy download en_core_web_sm"
      ]
    },
    {
      "cell_type": "code",
      "execution_count": 84,
      "metadata": {
        "id": "ds_tRbtTJm5e"
      },
      "outputs": [],
      "source": [
        "import spacy\n",
        "nlp = spacy.load(\"en_core_web_sm\")\n",
        "\n",
        "def extract_features(text):\n",
        "    global nlp\n",
        "    doc = nlp(text)\n",
        "    ns = [pt.text for pt in doc.ents if pt.label_ == 'PERSON']\n",
        "    locs = [pt.text for pt in doc.ents if pt.label_ == 'GPE']\n",
        "\n",
        "    return ns, locs \n",
        "\n",
        "names = []\n",
        "locations = []  \n",
        "for s in TEXT:\n",
        "    ns, locs = extract_features(s)\n",
        "    names.extend(ns)\n",
        "    locations.extend(locs)"
      ]
    },
    {
      "cell_type": "code",
      "execution_count": 85,
      "metadata": {},
      "outputs": [
        {
          "name": "stdout",
          "output_type": "stream",
          "text": [
            "Barack Obama was the 44th president of the US and he followed George W. Bush and was followed by Donald Trump in 2017\n",
            "after transformation\n",
            "************ was the 44th president of the US and he followed ************** and was followed by ************ in 2017\n",
            "As a young man, George H.W. Bush served in World War II as a fighter pilot. In 1944, he was shot down and had to parachute to safety.\n",
            "after transformation\n",
            "As a young man, **************** served in World War II as a fighter pilot. In 1944, he was shot down and had to parachute to safety.\n",
            "Before he was president, George W. Bush was a cheerleader, a fraternity brother, an oilman, an owner of a professional baseball team, and a governor. After leaving office in 2009, Bush learned to paint.\n",
            "after transformation\n",
            "Before he was president, ************** was a cheerleader, a fraternity brother, an oilman, an owner of a professional baseball team, and a governor. After leaving office in 2009, **** learned to paint.\n",
            "Here's something else you probably didn't know about John Adams: He died on the Fourth of July. And he wasn't the only commander in chief to do so. In fact, three of the nation's five founding fathers—Adams, Thomas Jefferson, and James Monroe—died on Independence Day. Adams and Jefferson even passed on the same exact day: July 4, 1826, which happened to be the 50th anniversary of the adoption of the Declaration of Independence.\n",
            "after transformation\n",
            "Here's something else you probably didn't know about **********: He died on the Fourth of July. And he wasn't the only commander in chief to do so. In fact, three of the nation's five founding fathers—Adams, ****************, and ************—died on Independence Day. Adams and ********* even passed on the same exact day: July 4, 1826, which happened to be the 50th anniversary of the adoption of the Declaration of Independence.\n",
            "At 6 feet 4 inches tall, Abraham Lincoln and Lyndon B. Johnson were America's tallest presidents. But what about America's shortest president? That distinction goes to founding father James Madison (1809-1817), who, at 5 feet 4 inches tall, was a full foot shorter than his tallest peers.\n",
            "after transformation\n",
            "At 6 feet 4 inches tall, *************** and ***************** were America's tallest presidents. But what about America's shortest president? That distinction goes to founding father ************* (1809-1817), who, at 5 feet 4 inches tall, was a full foot shorter than his tallest peers.\n",
            "That changed, however, in October 1860, when Lincoln received a letter from an 11-year-old girl named Grace Bedell. 'If you will let your whiskers grow I will try and get [my brothers] to vote for you,' Bedell wrote to Lincoln. 'You would look a great deal better for your face is so thin. All the ladies like whiskers and they would tease their husbands to vote for you and then you would be president.'\n",
            "after transformation\n",
            "That changed, however, in October 1860, when Lincoln received a letter from an 11-year-old girl named ************. 'If you will let your whiskers grow I will try and get [my brothers] to vote for you,' ****** wrote to Lincoln. 'You would look a great deal better for your face is so thin. All the ladies like whiskers and they would tease their husbands to vote for you and then you would be president.'\n",
            "Richard Nixon was hardly the first president who liked to unwind by rolling a few strikes. Harry S. Truman also enjoyed bowling, and opened the first White House bowling alley in 1947. \n",
            "after transformation\n",
            "************* was hardly the first president who liked to unwind by rolling a few strikes. *************** also enjoyed bowling, and opened the first White House bowling alley in 1947. \n",
            "If you had to bet on which U.S. president was the biggest movie fan, you'd probably put your money on America's actor-turned-president, Ronald Reagan (1981-1989). And that would be a great guess. Reagan reportedly watched 363 movies during his two terms in office.\n",
            "after transformation\n",
            "If you had to bet on which U.S. president was the biggest movie fan, you'd probably put your money on America's actor-turned-president, ************* (1981-1989). And that would be a great guess. ****** reportedly watched 363 movies during his two terms in office.\n",
            "Thomas Jefferson offered to sell his personal library when the Library of Congress was burned by the British during the War of 1812. He sold them 6487 books from his own collection, the largest in America at the time.\n",
            "after transformation\n",
            "**************** offered to sell his personal library when the Library of Congress was burned by the British during the War of 1812. He sold them 6487 books from his own collection, the largest in America at the time.\n",
            "Born in New York in 1782, Martin Van Buren was the first president to have been born after the American Revolution, technically making him the first American-born president.\n",
            "after transformation\n",
            "Born in New York in 1782, **************** was the first president to have been born after the American Revolution, technically making him the first American-born president.\n",
            "Benjamin Harrison had a tight-knit family and loved to amuse and dote on his grandchildren. He put up the first recorded White House Christmas tree in 1889, and was known to put on the Santa suit for entertainment.\n",
            "after transformation\n",
            "***************** had a tight-knit family and loved to amuse and dote on his grandchildren. He put up the first recorded White House Christmas tree in 1889, and was known to put on the Santa suit for entertainment.\n",
            "A 16-year-old Bill Clinton managed to shake hands with President John F. Kennedy at a Boys Nation event in 1963. This would take place just four months before Kennedy's assassination.\n",
            "after transformation\n",
            "A 16-year-old ************ managed to shake hands with President *************** at a Boys Nation event in 1963. This would take place just four months before *******'s assassination.\n",
            "In 1993—two years before he became the governor of Texas—George W. Bush ran the Houston marathon, finishing with a time of 3:44:52. He is the only president to have ever run a marathon.\n",
            "after transformation\n",
            "In 1993—two years before he became the governor of Texas—************** ran the Houston marathon, finishing with a time of 3:44:52. He is the only president to have ever run a marathon.\n"
          ]
        }
      ],
      "source": [
        "\n",
        "# the library might sometimes confuse the name of location with a name of a person. It is out time to intervene\n",
        "# let's first define the set of locations\n",
        "\n",
        "true_locations = ['America', 'Library of Congress', 'White House', 'US', 'New York', 'Texas', 'Houston']\n",
        "\n",
        "names = [n for n in names if n not in true_locations]\n",
        "\n",
        "from copy import copy\n",
        "\n",
        "def anonymise(sentence, to_replace, char='#'):\n",
        "    s = copy(sentence)\n",
        "    for n in to_replace:\n",
        "        s = s.replace(n, \"*\" * len(n))\n",
        "    return s\n",
        "\n",
        "for s in TEXT:\n",
        "    print(s)\n",
        "    print(\"after transformation\")\n",
        "    print(anonymise(s, names))\n"
      ]
    },
    {
      "cell_type": "code",
      "execution_count": 86,
      "metadata": {},
      "outputs": [
        {
          "name": "stdout",
          "output_type": "stream",
          "text": [
            "['US', 'America', 'America', 'U.S.', 'America', 'America', 'New York', 'Texas', 'Houston']\n",
            "['2017', '1944', '2009', 'the same exact day', 'July 4, 1826', '1809-1817', 'October 1860', '11-year-old', '1947', '1981-1989', '1782', 'Christmas', '1889', '16-year-old', '1963', 'just four months', '1993', 'two years', '3:44:52']\n",
            "\n",
            "dates filtered and sorted\n",
            "\n",
            "['1782', '1809-1817', 'July 4, 1826', 'October 1860', '1889', '1944', '1947', '1963', '1981-1989', '1993', '2009', '2017']\n"
          ]
        }
      ],
      "source": [
        "def retrieve_date(text):\n",
        "    global nlp\n",
        "    doc = nlp(text)\n",
        "    dates = [pt.text for pt in doc.ents if pt.label_ == 'DATE']\n",
        "\n",
        "    return dates\n",
        "\n",
        "dates = []\n",
        "for s in TEXT:\n",
        "    dates.extend(retrieve_date(s))\n",
        "print(dates)\n",
        "# let's filter the results further\n",
        "# we will consider only dates that have year components: and consider only the year components out of these dates\n",
        "\n",
        "final_dates = [d for d in dates if re.findall(r'\\d{4}', d)]\n",
        "\n",
        "\n",
        "# the actual years (dates) present in the text: sorted\n",
        "print(\"\\ndates filtered and sorted\\n\")\n",
        "print(sorted(final_dates, key=lambda x: re.findall(r'\\d{4}', x)[0]))"
      ]
    }
  ],
  "metadata": {
    "colab": {
      "provenance": []
    },
    "kernelspec": {
      "display_name": "Python 3.9.12 ('ds_env')",
      "language": "python",
      "name": "python3"
    },
    "language_info": {
      "codemirror_mode": {
        "name": "ipython",
        "version": 3
      },
      "file_extension": ".py",
      "mimetype": "text/x-python",
      "name": "python",
      "nbconvert_exporter": "python",
      "pygments_lexer": "ipython3",
      "version": "3.9.12"
    },
    "vscode": {
      "interpreter": {
        "hash": "7bb0ce5cb6b092cde9f0ba713d915425207ed6ea08d3ede97530b87c251a3aee"
      }
    }
  },
  "nbformat": 4,
  "nbformat_minor": 0
}
