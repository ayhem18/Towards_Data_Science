{
 "cells": [
  {
   "cell_type": "markdown",
   "metadata": {},
   "source": [
    "# 4. Features preprocessing\n",
    "In any dataset, features do not necessarily vary within the same range of values. For example, considering a dataset of home prices, the size (in meters squared) might varies within the range in [0, 400] while the number of bedrooms varies within range [1, 15]. There is no reason to believe that a larger value should have a larger corresponding parameter. In addition, having features with significantly different range of values might be slow down numerical optimization algorithms.Thus some preprocessing might reveal necessary\n",
    "## 4.1 Feature scaling\n",
    "a feature is mapped to the range [0, 1] (or [-1, 1]) where $x_{i~new} = \\frac{x_{i~old}}{max(x)}$. Not all features need to be scaled as certain ranges such as [-3, 3] and [$-\\frac{1}{3}$, $\\frac{1}{3}$] are not much different. However, larger ranges might need to be scaled.\n",
    "\n",
    "## 4.2 Mean Normalization\n",
    "it is possible to replace every feature $x_i$ (apart from $x_0$ as $x_0 = 1$) to $\\frac{x_i - \\mu_i}{max(x)}$ where $\\mu_i = \\frac{max(x) - min(x)}{2}$\n",
    "\n",
    "## 4.3 Feature Scaling and Mean Normalization\n",
    "Additionally we can consider $x_i = \\frac{x_i - \\bar x}{max(x) - min(x)}$ where $\\bar x$ is the mean value.\n",
    "## 4.4 Variance Normalization\n",
    "To make sure the variance is set to $1$, the features $x_i$ might be transposed to $\\frac{x_i - \\mu_i}{\\sigma_i ^ 2}$ with\n",
    "$\\begin{equation} \\begin{aligned}\n",
    "\\mu_i = \\frac{1}{m} \\sum_{j=1}^{m} x_i^{(j)} \\\\\n",
    "\\sigma_i ^ 2 = \\frac{1}{m} \\sum_{j=1}^{m} (x_i ^{(j)}) ^ {2}\n",
    "\\end{aligned}\\end{equation}$\n"
   ]
  }
 ],
 "metadata": {
  "language_info": {
   "name": "python"
  },
  "orig_nbformat": 4
 },
 "nbformat": 4,
 "nbformat_minor": 2
}
