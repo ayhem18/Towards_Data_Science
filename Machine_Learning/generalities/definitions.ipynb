{
 "cells": [
  {
   "cell_type": "markdown",
   "metadata": {},
   "source": [
    "## Machine Learning\n",
    " \n",
    "### Old definition by Arthur Samuel\n",
    "Machine Learning: a field of study that focuses on the providing computers the ability to learn without being explicitly programmed.\n",
    "\n",
    "### More Recent Definition by Tom Mitchell \n",
    "For a learning-problem P, the program is said to learn from Experience **E** with respect to some task **T** and some preformance measure **P** if its performance on **T** , as measured by **P** improves with **E**.\n",
    "\n",
    "### Supervised Learning\n",
    "#### Informal\n",
    "An algorithm falls in the category of supervised learning if the provided data set is labeled. In other words each data is associated with\n",
    "a value or a right answer. The algorithm is expected to predict these values for new values. More formally, the labels/values are referred\n",
    "to as ***features***. \n",
    "#### Regression VS classification\n",
    "if the features represent a finite set of values. They the problem is a *classification* problem. \n",
    "On the other hand, if the features are numerical values that do not fall in a finite predetermined set of values, then the problem is\n",
    "a *regression* problem\n",
    "\n",
    "\n",
    "### Unsupervised Learning\n",
    "An algorithm falls in the category of unsupervised learning if the provided data set lacks a clear, predefined structure. The algorithm is expected to classify, group, structure the data. Among the main unsupervised learning algorithms, we can find clustering algorithms."
   ]
  }
 ],
 "metadata": {
  "interpreter": {
   "hash": "0e6cc62e2280f752aa7e5178eced3fb8e0cbe7333ea77893546e6db4cefb4290"
  },
  "kernelspec": {
   "display_name": "Python 3.9.7",
   "language": "python",
   "name": "python3"
  },
  "language_info": {
   "name": "python",
   "version": "3.9.7"
  },
  "orig_nbformat": 4
 },
 "nbformat": 4,
 "nbformat_minor": 2
}
