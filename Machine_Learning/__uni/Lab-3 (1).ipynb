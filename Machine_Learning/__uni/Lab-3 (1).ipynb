{
 "cells": [
  {
   "cell_type": "markdown",
   "id": "expired-contribution",
   "metadata": {
    "pycharm": {
     "name": "#%% md\n"
    }
   },
   "source": [
    "## Week 3 : Logistic Regression \n",
    "```\n",
    "- Machine Learning, Innopolis University (Fall semester 2024)\n",
    "- Instructors: Adil Khan & Gcinizwe Dlamini\n",
    "```\n",
    "<hr>\n",
    "\n",
    "\n",
    "```\n",
    "Lab Plan\n",
    "1. Recap on Logistic Regression\n",
    "2. Data for Classification Task\n",
    "3. Classification task evaluation metrics\n",
    "4. Dealing with data imbalance (self practice)\n",
    "```\n",
    "\n",
    "<hr>"
   ]
  },
  {
   "cell_type": "code",
   "execution_count": 1,
   "id": "d3c98809",
   "metadata": {
    "collapsed": false,
    "jupyter": {
     "outputs_hidden": false
    },
    "pycharm": {
     "name": "#%%\n"
    }
   },
   "outputs": [
    {
     "data": {
      "text/html": [
       "<style>.container { width:100% !important; }</style>"
      ],
      "text/plain": [
       "<IPython.core.display.HTML object>"
      ]
     },
     "metadata": {},
     "output_type": "display_data"
    }
   ],
   "source": [
    "from IPython.display import display, HTML\n",
    "display(HTML(\"<style>.container { width:100% !important; }</style>\"))"
   ]
  },
  {
   "cell_type": "markdown",
   "id": "1a9b8e7f",
   "metadata": {
    "collapsed": false,
    "jupyter": {
     "outputs_hidden": false
    },
    "pycharm": {
     "name": "#%% md\n"
    }
   },
   "source": [
    "## Import libraries"
   ]
  },
  {
   "cell_type": "code",
   "execution_count": 1,
   "id": "b82fe49b",
   "metadata": {
    "collapsed": false,
    "jupyter": {
     "outputs_hidden": false
    },
    "pycharm": {
     "name": "#%%\n"
    }
   },
   "outputs": [],
   "source": [
    "import numpy as np\n",
    "import pandas as pd\n",
    "import matplotlib.pyplot as plt\n",
    "%matplotlib inline"
   ]
  },
  {
   "cell_type": "markdown",
   "id": "aee801d6",
   "metadata": {},
   "source": [
    "## 1. The Sigmoid fucnction\n",
    "\n",
    "$$\\sigma(x) = \\frac{1}{1 + e^{-x}} = \\frac{e^{x}}{e^{x} + 1}$$\n",
    "* **Domain**: \\($-∞, +∞$\\)\n",
    "* **Range**: $(0, +1)$\n",
    "* **Derivative**: $σ'(x) = \\sigma(x)(1 - \\sigma(x))$"
   ]
  },
  {
   "cell_type": "code",
   "execution_count": null,
   "id": "8c9e3e07",
   "metadata": {},
   "outputs": [],
   "source": [
    "x = np.arange(-10, 10, 0.01)\n",
    "\n",
    "def plot(b0, b1):\n",
    "    p = np.exp(b0 + b1 * x) / (1 + np.exp(b0 + b1 * x))\n",
    "    label = \"b0 = {}, b1 = {}\".format(b0, b1)\n",
    "    plt.plot(x, p, label=label)\n",
    "\n",
    "plot(0,1)\n",
    "plot(0,2)\n",
    "plot(0,3)\n",
    "plot(5,1)\n",
    "plt.legend()\n",
    "plt.title('Sigmoid function')\n",
    "plt.show()"
   ]
  },
  {
   "cell_type": "markdown",
   "id": "f4422120",
   "metadata": {
    "collapsed": false,
    "jupyter": {
     "outputs_hidden": false
    },
    "pycharm": {
     "name": "#%% md\n"
    }
   },
   "source": [
    "## 2. Data for Classification Task\n",
    "\n",
    "* How is data for regression different from classification task different? \n",
    "\n",
    "Covid-19 Dataset collected is from March 2020 - November 2021. The target/goal is to predict the disease based on the patient state. \n",
    "\n",
    "<strong>Target Feature: Corona Result.</strong>\n",
    "\n",
    "<strong>Task:</strong> apply the tools of machine learning to predict which patients got infected by Covid-19."
   ]
  },
  {
   "cell_type": "markdown",
   "id": "d12b2941",
   "metadata": {
    "collapsed": false,
    "jupyter": {
     "outputs_hidden": false
    },
    "pycharm": {
     "name": "#%% md\n"
    }
   },
   "source": [
    "## 3. Load Data"
   ]
  },
  {
   "cell_type": "code",
   "execution_count": 2,
   "id": "e985e894",
   "metadata": {
    "collapsed": false,
    "jupyter": {
     "outputs_hidden": false
    },
    "pycharm": {
     "name": "#%%\n"
    }
   },
   "outputs": [
    {
     "data": {
      "text/html": [
       "<div>\n",
       "<style scoped>\n",
       "    .dataframe tbody tr th:only-of-type {\n",
       "        vertical-align: middle;\n",
       "    }\n",
       "\n",
       "    .dataframe tbody tr th {\n",
       "        vertical-align: top;\n",
       "    }\n",
       "\n",
       "    .dataframe thead th {\n",
       "        text-align: right;\n",
       "    }\n",
       "</style>\n",
       "<table border=\"1\" class=\"dataframe\">\n",
       "  <thead>\n",
       "    <tr style=\"text-align: right;\">\n",
       "      <th></th>\n",
       "      <th>test_date</th>\n",
       "      <th>cough</th>\n",
       "      <th>fever</th>\n",
       "      <th>sore_throat</th>\n",
       "      <th>shortness_of_breath</th>\n",
       "      <th>head_ache</th>\n",
       "      <th>corona_result</th>\n",
       "      <th>age_60_and_above</th>\n",
       "      <th>gender</th>\n",
       "      <th>test_indication</th>\n",
       "      <th>age</th>\n",
       "    </tr>\n",
       "  </thead>\n",
       "  <tbody>\n",
       "    <tr>\n",
       "      <th>0</th>\n",
       "      <td>2021-02-12</td>\n",
       "      <td>0</td>\n",
       "      <td>0</td>\n",
       "      <td>0</td>\n",
       "      <td>0</td>\n",
       "      <td>0</td>\n",
       "      <td>Positive</td>\n",
       "      <td>No</td>\n",
       "      <td>male</td>\n",
       "      <td>Other</td>\n",
       "      <td>51</td>\n",
       "    </tr>\n",
       "    <tr>\n",
       "      <th>1</th>\n",
       "      <td>2020-10-14</td>\n",
       "      <td>0</td>\n",
       "      <td>0</td>\n",
       "      <td>0</td>\n",
       "      <td>0</td>\n",
       "      <td>0</td>\n",
       "      <td>Positive</td>\n",
       "      <td>No</td>\n",
       "      <td>male</td>\n",
       "      <td>Other</td>\n",
       "      <td>47</td>\n",
       "    </tr>\n",
       "    <tr>\n",
       "      <th>2</th>\n",
       "      <td>2021-02-22</td>\n",
       "      <td>0</td>\n",
       "      <td>0</td>\n",
       "      <td>0</td>\n",
       "      <td>0</td>\n",
       "      <td>0</td>\n",
       "      <td>Positive</td>\n",
       "      <td>No</td>\n",
       "      <td>female</td>\n",
       "      <td>Contact with confirmed</td>\n",
       "      <td>35</td>\n",
       "    </tr>\n",
       "    <tr>\n",
       "      <th>3</th>\n",
       "      <td>2021-03-06</td>\n",
       "      <td>1</td>\n",
       "      <td>0</td>\n",
       "      <td>0</td>\n",
       "      <td>0</td>\n",
       "      <td>1</td>\n",
       "      <td>Positive</td>\n",
       "      <td>No</td>\n",
       "      <td>female</td>\n",
       "      <td>Contact with confirmed</td>\n",
       "      <td>37</td>\n",
       "    </tr>\n",
       "    <tr>\n",
       "      <th>4</th>\n",
       "      <td>2021-09-24</td>\n",
       "      <td>0</td>\n",
       "      <td>0</td>\n",
       "      <td>0</td>\n",
       "      <td>0</td>\n",
       "      <td>0</td>\n",
       "      <td>Positive</td>\n",
       "      <td>No</td>\n",
       "      <td>female</td>\n",
       "      <td>Contact with confirmed</td>\n",
       "      <td>51</td>\n",
       "    </tr>\n",
       "  </tbody>\n",
       "</table>\n",
       "</div>"
      ],
      "text/plain": [
       "   test_date  cough  fever  sore_throat  shortness_of_breath  head_ache  \\\n",
       "0 2021-02-12      0      0            0                    0          0   \n",
       "1 2020-10-14      0      0            0                    0          0   \n",
       "2 2021-02-22      0      0            0                    0          0   \n",
       "3 2021-03-06      1      0            0                    0          1   \n",
       "4 2021-09-24      0      0            0                    0          0   \n",
       "\n",
       "  corona_result age_60_and_above  gender         test_indication  age  \n",
       "0      Positive               No    male                   Other   51  \n",
       "1      Positive               No    male                   Other   47  \n",
       "2      Positive               No  female  Contact with confirmed   35  \n",
       "3      Positive               No  female  Contact with confirmed   37  \n",
       "4      Positive               No  female  Contact with confirmed   51  "
      ]
     },
     "execution_count": 2,
     "metadata": {},
     "output_type": "execute_result"
    }
   ],
   "source": [
    "from sqlalchemy import create_engine, text\n",
    "\n",
    "session_engine = create_engine('sqlite:///ml-labs-data.db')\n",
    "\n",
    "with session_engine.connect() as conn: \n",
    "    covid19_df = pd.read_sql_query(text('SELECT * FROM covid19_lab_sample'), con=conn, parse_dates=['test_date']) \n",
    "    \n",
    "covid19_df.drop('index', axis=1, inplace=True)\n",
    "covid19_df.head()"
   ]
  },
  {
   "cell_type": "code",
   "execution_count": null,
   "id": "ca5677c7",
   "metadata": {},
   "outputs": [],
   "source": [
    "\n",
    "with session_engine.connect() as conn: \n",
    "    covid19_df = pd.read_sql_query(text('SELECT * FROM covid19_lab_sample'), con=conn, parse_dates=['test_date']) \n",
    "    \n",
    "covid19_df.drop('index', axis=1, inplace=True)\n",
    "covid19_df.head()"
   ]
  },
  {
   "cell_type": "code",
   "execution_count": 3,
   "id": "43216d32-4953-4612-a4c9-e284ab89e44c",
   "metadata": {},
   "outputs": [
    {
     "name": "stdout",
     "output_type": "stream",
     "text": [
      "<class 'pandas.core.frame.DataFrame'>\n",
      "RangeIndex: 2000 entries, 0 to 1999\n",
      "Data columns (total 11 columns):\n",
      " #   Column               Non-Null Count  Dtype         \n",
      "---  ------               --------------  -----         \n",
      " 0   test_date            2000 non-null   datetime64[ns]\n",
      " 1   cough                2000 non-null   int64         \n",
      " 2   fever                2000 non-null   int64         \n",
      " 3   sore_throat          2000 non-null   int64         \n",
      " 4   shortness_of_breath  2000 non-null   int64         \n",
      " 5   head_ache            2000 non-null   int64         \n",
      " 6   corona_result        2000 non-null   object        \n",
      " 7   age_60_and_above     2000 non-null   object        \n",
      " 8   gender               2000 non-null   object        \n",
      " 9   test_indication      1781 non-null   object        \n",
      " 10  age                  2000 non-null   int64         \n",
      "dtypes: datetime64[ns](1), int64(6), object(4)\n",
      "memory usage: 172.0+ KB\n"
     ]
    }
   ],
   "source": [
    "covid19_df.info()"
   ]
  },
  {
   "cell_type": "markdown",
   "id": "817931bc",
   "metadata": {
    "collapsed": false,
    "jupyter": {
     "outputs_hidden": false
    },
    "pycharm": {
     "name": "#%% md\n"
    }
   },
   "source": [
    "## 3.1 Exploratory data analysis (EDA)\n",
    "\n",
    "An approach of analyzing data sets to summarize their main characteristics, often using statistical graphics and other data visualization methods (i.e matplotlib, distribution plot ..)<br> \n",
    "Today we are going to try a tool called [ydata-profiling](https://github.com/ydataai/ydata-profiling). It can be easily be installed with:\n",
    "1. pip: `pip3 install ydata-profiling`  \n",
    "1. conda: `conda install -c conda-forge ydata-profiling\n",
    "`\n",
    "\n",
    "**Note:** All that is done by pandas profilling can be easily be achieved with pandas, matplotlib and numpy"
   ]
  },
  {
   "cell_type": "code",
   "execution_count": 4,
   "id": "3e1869a1",
   "metadata": {
    "collapsed": false,
    "jupyter": {
     "outputs_hidden": false
    },
    "pycharm": {
     "name": "#%%\n"
    }
   },
   "outputs": [],
   "source": [
    "import ydata_profiling\n",
    "\n",
    "# Create the data profile report\n",
    "profileReport = ydata_profiling.profile_report.ProfileReport(covid19_df)"
   ]
  },
  {
   "cell_type": "code",
   "execution_count": 5,
   "id": "b57a09fb",
   "metadata": {
    "collapsed": false,
    "jupyter": {
     "outputs_hidden": false
    },
    "pycharm": {
     "name": "#%%\n"
    }
   },
   "outputs": [],
   "source": [
    "# profileReport.to_file('covid_profile.html')"
   ]
  },
  {
   "cell_type": "markdown",
   "id": "fc7e7a1a",
   "metadata": {
    "collapsed": false,
    "jupyter": {
     "outputs_hidden": false
    },
    "pycharm": {
     "name": "#%% md\n"
    }
   },
   "source": [
    "## 3.2 Data preprocessing\n",
    "1. How to deal with missing values? \n",
    "1. How to deal with categorical data? \n",
    "1. Is data scaling needed? \n",
    "\n",
    "<span style=\"color:red\">TASK: Split data to train and test</span> <br>\n",
    "<span style=\"color:red\">TASK: Impute missing values</span> <br>\n",
    "<span style=\"color:red\">TASK: Encode categorical features</span> <br>\n",
    "<span style=\"color:red\">TASK: Use min-max scaler for feature scaling </span> <br>"
   ]
  },
  {
   "cell_type": "code",
   "execution_count": null,
   "id": "fde1e211",
   "metadata": {},
   "outputs": [],
   "source": [
    "# !pip install category-encoders"
   ]
  },
  {
   "cell_type": "code",
   "execution_count": 6,
   "id": "addcdecc",
   "metadata": {
    "collapsed": false,
    "jupyter": {
     "outputs_hidden": false
    },
    "pycharm": {
     "name": "#%%\n"
    }
   },
   "outputs": [],
   "source": [
    "from sklearn.impute import SimpleImputer\n",
    "from category_encoders import OneHotEncoder\n",
    "from sklearn.preprocessing import MinMaxScaler\n",
    "from sklearn.model_selection import train_test_split\n",
    "\n",
    "#Select features \n",
    "covid19_df.drop(['test_date'], axis = 1, inplace=True)\n",
    "\n",
    "# Encode the target label \n",
    "target_encoding = {'Negative':0, 'Positive':1}\n",
    "covid19_df['corona_result'] = covid19_df['corona_result'].apply(lambda x : target_encoding.get(x))\n",
    "\n",
    "# Split data to train and test\n",
    "x_train, x_test, y_train, y_test =  None\n",
    "\n",
    "# imputing missing values\n",
    "imputer = None\n",
    "x_train = None\n",
    "x_test = None"
   ]
  },
  {
   "cell_type": "code",
   "execution_count": 7,
   "id": "cdf8c30c",
   "metadata": {
    "collapsed": false,
    "jupyter": {
     "outputs_hidden": false
    },
    "pycharm": {
     "name": "#%%\n"
    }
   },
   "outputs": [],
   "source": [
    "# encode categorical features\n",
    "features_to_encode = ['test_indication', 'age_60_and_above', 'gender']\n",
    "encoder = None\n",
    "\n",
    "x_train = None\n",
    "x_test = None\n",
    "\n",
    "# TODO: feature scaling using MinMaxScaler\n",
    "scaler = None"
   ]
  },
  {
   "cell_type": "code",
   "execution_count": 8,
   "id": "27bbcd66",
   "metadata": {
    "collapsed": false,
    "jupyter": {
     "outputs_hidden": false
    },
    "pycharm": {
     "name": "#%%\n"
    }
   },
   "outputs": [
    {
     "data": {
      "text/plain": [
       "Index(['cough', 'fever', 'sore_throat', 'shortness_of_breath', 'head_ache',\n",
       "       'age_60_and_above_1', 'age_60_and_above_2', 'gender_1', 'gender_2',\n",
       "       'test_indication_1', 'test_indication_2', 'test_indication_3', 'age'],\n",
       "      dtype='object')"
      ]
     },
     "execution_count": 8,
     "metadata": {},
     "output_type": "execute_result"
    }
   ],
   "source": [
    "x_train.columns"
   ]
  },
  {
   "cell_type": "markdown",
   "id": "622f0ccc",
   "metadata": {
    "collapsed": false,
    "jupyter": {
     "outputs_hidden": false
    },
    "pycharm": {
     "name": "#%% md\n"
    }
   },
   "source": [
    "## 4 Build, Train and Test Model\n",
    "\n",
    "Now we are ready to see Logistic Regression in practice.\n",
    "\n",
    "<span style=\"color:red\">Task : Fit Logistic Regression  </span> <br>\n",
    "<span style=\"color:red\">Task : Output Accuracy, Precision, and Recall scores on test set </span>"
   ]
  },
  {
   "cell_type": "code",
   "execution_count": 9,
   "id": "24708bfd",
   "metadata": {
    "collapsed": false,
    "jupyter": {
     "outputs_hidden": false
    },
    "pycharm": {
     "name": "#%%\n"
    }
   },
   "outputs": [
    {
     "name": "stdout",
     "output_type": "stream",
     "text": [
      "Testing accuracy = 0.7675\n",
      "Testing precision = 0.8796992481203008\n",
      "Testing recall = 0.6030927835051546\n"
     ]
    }
   ],
   "source": [
    "from sklearn.linear_model import LogisticRegression\n",
    "from sklearn import metrics\n",
    "# fit Logistic Regression\n",
    "clf = LogisticRegression(random_state=0).fit(x_train, y_train)\n",
    "y_test_pred = clf.predict(x_test)\n",
    "\n",
    "# calculate metrics\n",
    "print('Testing accuracy = {}'.format(metrics.accuracy_score(y_test, y_test_pred)))\n",
    "print('Testing precision = {}'.format(metrics.precision_score(y_test, y_test_pred)))\n",
    "print('Testing recall = {}'.format(metrics.recall_score(y_test, y_test_pred)))"
   ]
  },
  {
   "cell_type": "markdown",
   "id": "888ddafd",
   "metadata": {
    "collapsed": false,
    "jupyter": {
     "outputs_hidden": false
    },
    "pycharm": {
     "name": "#%% md\n"
    }
   },
   "source": [
    "## 5. Prediction Results Interpretation & Model perfomence Measurement\n",
    "\n",
    "1. looking at Logistic Regression Coefficients\n",
    "2. Prediction threshold\n",
    "\n",
    "### Task : \n",
    "1. Calculate Accuracy, Precision, and Recall values for each of the given threshold values and plot them."
   ]
  },
  {
   "cell_type": "code",
   "execution_count": 10,
   "id": "dd037421",
   "metadata": {
    "collapsed": false,
    "jupyter": {
     "outputs_hidden": false
    },
    "pycharm": {
     "name": "#%%\n"
    }
   },
   "outputs": [
    {
     "name": "stdout",
     "output_type": "stream",
     "text": [
      "----Logistic Regression Coefficients----\n",
      "('cough', 0.9347118492358091)\n",
      "('fever', 1.6254742532789883)\n",
      "('sore_throat', 0.8597372727261392)\n",
      "('shortness_of_breath', 0.9532819351499485)\n",
      "('head_ache', 1.567674223168812)\n",
      "('age_60_and_above_1', -0.028758039441280202)\n",
      "('age_60_and_above_2', 0.02823172308808364)\n",
      "('gender_1', -0.04628930947760511)\n",
      "('gender_2', 0.0457629931244079)\n",
      "('test_indication_1', -0.898687172996906)\n",
      "('test_indication_2', 1.347857631992916)\n",
      "('test_indication_3', -0.44969677534920877)\n",
      "('age', -0.17166288807713725)\n"
     ]
    }
   ],
   "source": [
    "# Logistic Regression Coefficients\n",
    "print(\"----Logistic Regression Coefficients----\")\n",
    "print(*[a for a in zip(list(x_train.columns), clf.coef_[0])], sep='\\n')"
   ]
  },
  {
   "cell_type": "code",
   "execution_count": 11,
   "id": "bcd89b09",
   "metadata": {
    "collapsed": false,
    "jupyter": {
     "outputs_hidden": false
    },
    "pycharm": {
     "name": "#%%\n"
    }
   },
   "outputs": [
    {
     "data": {
      "image/png": "[encoded data removed]",
      "text/plain": [
       "<Figure size 432x288 with 1 Axes>"
      ]
     },
     "metadata": {
      "needs_background": "light"
     },
     "output_type": "display_data"
    }
   ],
   "source": [
    "# TODO: calculate metrics for each threshold above and plot the result as below.\n",
    "thresholds = [0.1,0.2,0.3,0.4,0.5,0.6,0.7,0.8,0.9]\n",
    "pred_proba = clf.predict_proba(x_test)\n",
    "\n",
    "results = [[],[],[]]\n",
    "for i in thresholds:\n",
    "    y_test_pred_thr = np.where(pred_proba[:, 1] > i, 1, 0)\n",
    "    results[0].append(None) # accuracy \n",
    "    results[1].append(None) # precision\n",
    "    results[2].append(None) # recall\n",
    "    \n",
    "plt.plot(thresholds, results[0], label = 'accuracy')   \n",
    "plt.plot(thresholds, results[1], label = 'precision')   \n",
    "plt.plot(thresholds, results[2], label = 'recall')\n",
    "plt.title('Threshold Selection')\n",
    "plt.xlabel('threshold')\n",
    "plt.ylabel('score')\n",
    "plt.legend()\n",
    "plt.grid()"
   ]
  },
  {
   "cell_type": "markdown",
   "id": "e1009c5c",
   "metadata": {
    "collapsed": false,
    "jupyter": {
     "outputs_hidden": false
    },
    "pycharm": {
     "name": "#%% md\n"
    }
   },
   "source": [
    "# Confusion matrix\n",
    "\n",
    "1. Why one may need confusion matrix? \n",
    "2. What new information does it show? <br><br>\n",
    "\n",
    "<table><tr><td>\n",
    "<img align='center' src='https://static.packt-cdn.com/products/9781838555078/graphics/C13314_06_05.jpg' style='width: 350px;'>\n",
    "</td><td>\n",
    "<img src='https://scikit-learn.org/stable/_images/sphx_glr_plot_confusion_matrix_002.png' style='width: 400px;'></td></tr></table>\n",
    "<br>\n",
    "\n",
    "\n",
    "<span style=\"color:red\">Task: Implement a confussion matrix method from scratch using python list and numpy</span>"
   ]
  },
  {
   "cell_type": "code",
   "execution_count": 12,
   "id": "cd81e2ae",
   "metadata": {
    "collapsed": false,
    "jupyter": {
     "outputs_hidden": false
    },
    "pycharm": {
     "name": "#%%\n"
    }
   },
   "outputs": [],
   "source": [
    "def calc_confusion_matrix(true_labels, pred_labels):\n",
    "    \"\"\"Compute confusion matrix to evaluate the accuracy of a classification\n",
    "    \n",
    "    Parameters\n",
    "    ----------\n",
    "    true_labels : array-like of shape (n_samples,)\n",
    "        Ground truth (correct) target values.\n",
    "    pred_labels : array-like of shape (n_samples,)\n",
    "        Estimated targets as returned by a classifier.\n",
    "    \"\"\"\n",
    "    return None"
   ]
  },
  {
   "cell_type": "code",
   "execution_count": 15,
   "id": "a63f0ed3",
   "metadata": {
    "collapsed": false,
    "jupyter": {
     "outputs_hidden": false
    },
    "pycharm": {
     "name": "#%%\n"
    }
   },
   "outputs": [
    {
     "name": "stdout",
     "output_type": "stream",
     "text": [
      "Confusion Matrix for Test 1\n",
      "[[2 0 0]\n",
      " [0 0 1]\n",
      " [1 0 2]]\n",
      "Confusion Matrix for Covid-19:\n",
      " [[190  16]\n",
      " [ 77 117]] \n",
      "\n"
     ]
    }
   ],
   "source": [
    "## computing confusion matrix\n",
    "y_true = [2, 0, 2, 2, 0, 1]\n",
    "y_pred = [0, 0, 2, 2, 0, 2]\n",
    "print(\"Confusion Matrix for Test 1\")\n",
    "print(calc_confusion_matrix(y_true, y_pred))\n",
    "\n",
    "covid_test_cm = calc_confusion_matrix(y_test, clf.predict(x_test))\n",
    "print('Confusion Matrix for Covid-19:\\n', covid_test_cm, '\\n')"
   ]
  },
  {
   "cell_type": "markdown",
   "id": "13f4b12a",
   "metadata": {
    "collapsed": false,
    "jupyter": {
     "outputs_hidden": false
    },
    "pycharm": {
     "name": "#%% md\n"
    }
   },
   "source": [
    "## <center>Self-Practice  Task</center>\n",
    "\n",
    "* Using `covid19_self_practice` table dataset given to you.\n",
    "    1. Split the data to train and test set (80% training). \n",
    "    1. Fill missing values\n",
    "    1. Encode categorical features\n",
    "    1. Create new features from the existing features\n",
    "    1. Train a logistic regression model that will predict if a person is infected by COvid-19 `(corona_result)`.\n",
    "    1. Select the optimal prediction threshold\n",
    "    1. Calculate Accuracy, Precision, and Recall values for each of the given threshold values and plot them. "
   ]
  },
  {
   "cell_type": "code",
   "execution_count": null,
   "id": "e105912a",
   "metadata": {
    "pycharm": {
     "name": "#%%\n"
    }
   },
   "outputs": [],
   "source": []
  }
 ],
 "metadata": {
  "kernelspec": {
   "display_name": "Python 3 (ipykernel)",
   "language": "python",
   "name": "python3"
  },
  "language_info": {
   "codemirror_mode": {
    "name": "ipython",
    "version": 3
   },
   "file_extension": ".py",
   "mimetype": "text/x-python",
   "name": "python",
   "nbconvert_exporter": "python",
   "pygments_lexer": "ipython3",
   "version": "3.9.17"
  }
 },
 "nbformat": 4,
 "nbformat_minor": 5
}
