{
  "cells": [
    {
      "cell_type": "markdown",
      "metadata": {
        "collapsed": true,
        "id": "w79b4QXDSQg7"
      },
      "source": [
        "# Week 6 : Artificial neural network in PyTorch\n",
        "```\n",
        "- Machine Learning, Innopolis University (Fall semester 2024)\n",
        "- Instructors: Adil Khan & Gcinizwe Dlamini\n",
        "```\n",
        "<hr>\n",
        "\n",
        "In this lab, you will practice simple deep learning model in Pytorch.\n",
        "```\n",
        "Lab Plan\n",
        "1. Theoretical issues with ANNs\n",
        "2. Deep learning frameworks\n",
        "3. Introduction to Pytorch : Linear Regression with Pytorch\n",
        "3. Simple ANN model for classification\n",
        "4. Training ANNs\n",
        "```\n",
        "\n",
        "<hr>\n"
      ]
    },
    {
      "cell_type": "markdown",
      "metadata": {
        "id": "d8rjVZMsSQg9"
      },
      "source": [
        "## 1. Theoretical issues\n",
        "Ordinary fully connected neural nets consists of Dense layers, activations, and output layer.\n",
        "\n",
        "1. What's the difference between deep learning and normal machine learning?\n",
        "2. How does a neural network with no hidden layers and one output neuron compare to a logistic/linear regression?\n",
        "3. Can the perceptron find a non-linear decision boundary?\n",
        "4. In multi-hidden layers network, what's the need of non-linear activation function?\n",
        "5. Is random weight assignment better than assigning same weights to the units in the hidden layer.\n",
        "---"
      ]
    },
    {
      "cell_type": "markdown",
      "metadata": {
        "id": "O78V5hblSQg-"
      },
      "source": [
        "## 2. Deep learning framework : PyTorch\n",
        "\n",
        "Getting started with Pytorch"
      ]
    },
    {
      "cell_type": "markdown",
      "metadata": {
        "collapsed": false,
        "id": "chXCKNSYSQg-"
      },
      "source": [
        "## 2.1 Linear Regression with Numpy"
      ]
    },
    {
      "cell_type": "code",
      "execution_count": 2,
      "metadata": {
        "id": "eOPVFJo-SQg_"
      },
      "outputs": [],
      "source": [
        "import numpy as np\n",
        "import pandas as pd\n",
        "from matplotlib import pyplot as plt\n",
        "from sqlalchemy import create_engine, text"
      ]
    },
    {
      "cell_type": "code",
      "execution_count": 3,
      "metadata": {
        "id": "qu3YB4HXnbHz"
      },
      "outputs": [],
      "source": [
        "QUERY = \"\"\"\n",
        "select\n",
        "    order_history.order_id,\n",
        "    order_history.STATUS_ID,\n",
        "    start_prepare.VALUE start_prepare_time,\n",
        "    order_ready.VALUE order_ready_time,\n",
        "    sale_basket.store_id,\n",
        "    sale_basket.product_id\n",
        "from order_history\n",
        "inner join main.order_props_value order_ready on order_history.order_id = order_ready.order_id and order_ready.ORDER_PROPS_ID = 95\n",
        "inner join main.order_props_value start_prepare on order_history.order_id = start_prepare.order_id and start_prepare.ORDER_PROPS_ID = 97\n",
        "inner join order_busket AS sale_basket ON sale_basket.order_id = order_history.order_id\n",
        "where sale_basket.store_id = 5863\n",
        "\"\"\"\n",
        "\n",
        "\n",
        "session_engine = create_engine('sqlite:///mlAssignmentOne.db')\n",
        "\n",
        "with session_engine.connect() as conn:\n",
        "    assignment_data = pd.read_sql_query(sql=text(QUERY), con=conn)\n",
        "\n",
        "for column in ['order_ready_time','start_prepare_time']:\n",
        "  assignment_data[column] = pd.to_datetime(assignment_data[column], errors=\"coerce\")\n",
        "\n",
        "\n",
        "assignment_data.dropna(axis=0, inplace=True)\n",
        "assignment_data.sort_values(by='start_prepare_time', inplace=True)\n",
        "assignment_data[\"prep_time\"] = (assignment_data.order_ready_time - assignment_data.start_prepare_time).dt.seconds // 60"
      ]
    },
    {
      "cell_type": "code",
      "execution_count": 4,
      "metadata": {
        "id": "rDLIR82HSQg_"
      },
      "outputs": [],
      "source": [
        "def generate_data(size=100, train_ratio=0.8, data_type='random'):\n",
        "  indices = np.arange(size)\n",
        "  if data_type == 'random':\n",
        "    # Generate random x values and corresponding y values with added noise\n",
        "    x = np.random.rand(size, 1)\n",
        "    y = 3 + 2.5 * x + 0.1 * np.random.randn(size, 1)\n",
        "\n",
        "    # Shuffle the indices to randomize the data\n",
        "    np.random.shuffle(indices)\n",
        "\n",
        "  else:\n",
        "    tot_items = assignment_data.groupby(\"order_id\").apply(lambda x: len(x)).reset_index().rename(columns={0: 'tot_items'})\n",
        "    prep_time = assignment_data.drop_duplicates(subset=['order_id'])[['order_id', 'prep_time']]\n",
        "    data = pd.merge(left=tot_items, right=prep_time, on='order_id').drop('order_id', axis=1).reset_index(drop=True)\n",
        "    x = data['tot_items'].values[:size]\n",
        "    y = data['prep_time'].values[:size]\n",
        "  # Split the indices based on the train-validation ratio\n",
        "  split_idx = int(size * train_ratio)\n",
        "  train_indices = indices[:split_idx]\n",
        "  val_indices = indices[split_idx:]\n",
        "\n",
        "  # Generate train and validation datasets\n",
        "  x_train, y_train = x[train_indices], y[train_indices]\n",
        "  x_val, y_val = x[val_indices], y[val_indices]\n",
        "\n",
        "  return x_train, y_train, x_val, y_val"
      ]
    },
    {
      "cell_type": "markdown",
      "metadata": {
        "collapsed": false,
        "id": "7-QM0a1ISQhA"
      },
      "source": [
        "## Generate Dataset"
      ]
    },
    {
      "cell_type": "code",
      "execution_count": 5,
      "metadata": {
        "colab": {
          "base_uri": "https://localhost:8080/",
          "height": 542
        },
        "id": "h9zQ7Gj5bRzb",
        "outputId": "92e189bf-168f-4262-a5ec-85c2d63c7e18"
      },
      "outputs": [
        {
          "data": {
            "image/png": "[encoded data removed]",
            "text/plain": [
              "<Figure size 800x600 with 1 Axes>"
            ]
          },
          "metadata": {},
          "output_type": "display_data"
        }
      ],
      "source": [
        "import numpy as np\n",
        "from sklearn.linear_model import LinearRegression\n",
        "from sklearn.metrics import mean_squared_error\n",
        "\n",
        "# Generate data\n",
        "x_train, y_train, x_val, y_val = generate_data(data_type='random')\n",
        "\n",
        "# Reshape x_train for sklearn\n",
        "x_train_reshaped = x_train.reshape(-1, 1)\n",
        "\n",
        "# Fit the linear regression model\n",
        "model = LinearRegression()\n",
        "model.fit(x_train_reshaped, y_train)\n",
        "\n",
        "# Make predictions\n",
        "y_pred = model.predict(x_train_reshaped)\n",
        "\n",
        "# Calculate Mean Squared Error (MSE)\n",
        "mse = mean_squared_error(y_train, y_pred)\n",
        "\n",
        "# Create a DataFrame for easier plotting\n",
        "data = {\n",
        "    'X Values': x_train.flatten(),  # Flatten in case it's a 2D array\n",
        "    'Y Values': y_train.flatten(),   # Flatten in case it's a 2D array\n",
        "    'Predicted Values': y_pred.flatten()\n",
        "}\n",
        "\n",
        "# Create the scatter plot for training data\n",
        "plt.figure(figsize=(8, 6))\n",
        "plt.scatter(data['X Values'], data['Y Values'], color='blue', alpha=0.7)\n",
        "plt.title(f'Training Data with Linear Regression Prediction (MSE: {mse:.4f})')\n",
        "plt.xlabel('X Values')\n",
        "plt.ylabel('Y Values')\n",
        "\n",
        "# Add model predictions as a line\n",
        "plt.scatter(data['X Values'], data['Predicted Values'], color='red', linewidth=2, label='Linear Regression Prediction')\n",
        "\n",
        "# Show the plot\n",
        "plt.show()\n"
      ]
    },
    {
      "cell_type": "markdown",
      "metadata": {
        "collapsed": false,
        "id": "Fnh0_Fs_SQhA"
      },
      "source": [
        "## Gradient Descent algorithm\n",
        "\n",
        "Gradient descent consist of 3 basic steps :\n",
        "\n",
        "1. **Compute the Loss**\n",
        "\n",
        "$$ \\hat{y} = a + bx + \\epsilon $$\n",
        "\n",
        "$$ \\text{MSE} = \\frac{1}{N} \\sum_{i} (y_i - \\hat{y}_i)^2 $$\n",
        "\n",
        "$$ \\text{MSE} = \\frac{1}{N} \\sum_{i} (y_i - a - bx_i)^2 $$\n",
        "\n",
        "2. **Compute the Gradients** : A gradient is a partial derivative. Using the chain rule the final expression came to be :\n",
        "\n",
        "$$\\frac{\\partial \\text{MSE}}{\\partial a} = \\frac{\\partial \\text{MSE}}{\\partial \\hat{y}} * \\frac{\\partial \\hat{y}}{\\partial a} = -2 * \\frac{1}{N} \\sum_{i} (y_i - \\hat{y}_i)$$\n",
        "\n",
        "$$\\frac{\\partial \\text{MSE}}{\\partial b} = \\frac{\\partial \\text{MSE}}{\\partial \\hat{y}} * \\frac{\\partial \\hat{y}}{\\partial b} = -2 * \\frac{1}{N} \\sum_{i} x_i(y_i - \\hat{y}_i)$$\n",
        "\n",
        "3. **Update the Parameters**\n",
        "\n",
        "$$a = a - \\alpha \\frac{\\partial \\text{MSE}}{\\partial a}$$\n",
        "\n",
        "$$b = b - \\alpha \\frac{\\partial \\text{MSE}}{\\partial b}$$\n",
        "\n",
        "4. Repeat step 1 to 3 till convergence is reached"
      ]
    },
    {
      "cell_type": "markdown",
      "metadata": {
        "collapsed": false,
        "id": "UefqgdguSQhA"
      },
      "source": [
        "## Linear Regression model training"
      ]
    },
    {
      "cell_type": "code",
      "execution_count": 6,
      "metadata": {
        "colab": {
          "base_uri": "https://localhost:8080/"
        },
        "id": "ZIWtQHocSQhB",
        "outputId": "714b1e5a-db24-454f-baef-ba044df57e56"
      },
      "outputs": [
        {
          "name": "stdout",
          "output_type": "stream",
          "text": [
            "Initial values of [a, b]: [-0.7428, -0.2753]\n",
            "Epoch 0: Loss = 25.471987\n",
            "Epoch 10: Loss = 0.313039\n",
            "Epoch 20: Loss = 0.201082\n",
            "Epoch 30: Loss = 0.256821\n",
            "Epoch 40: Loss = 0.330506\n",
            "Epoch 50: Loss = 0.426281\n",
            "Epoch 60: Loss = 0.550758\n",
            "Epoch 70: Loss = 0.712537\n",
            "Epoch 80: Loss = 0.922798\n",
            "Epoch 90: Loss = 1.196070\n",
            "Final values of [a, b]: [6.8515, 0.3909]\n"
          ]
        }
      ],
      "source": [
        "# Initialize parameters \"a\" and \"b\" randomly\n",
        "a = np.random.randn(1)\n",
        "b = np.random.randn(1)\n",
        "\n",
        "print(f\"Initial values of [a, b]: [{a[0]:.4f}, {b[0]:.4f}]\")\n",
        "\n",
        "learning_rate = 1e-1  # Learning rate\n",
        "n_epochs = 100  # Number of iterations\n",
        "\n",
        "for epoch in range(n_epochs):\n",
        "    # Step 1: Compute predicted values (y_hat)\n",
        "    y_hat = a * x_train + b\n",
        "\n",
        "    # Step 2: Compute error and Mean Squared Error (MSE) Loss\n",
        "    error = y_hat - y_train\n",
        "    loss = (1 / len(x_train)) * np.sum(error**2)\n",
        "\n",
        "    # Step 3: Compute gradients for parameters \"a\" and \"b\"\n",
        "    a_grad = (2 / len(x_train)) * np.sum(error)\n",
        "    b_grad = (2 / len(x_train)) * np.sum(x_train * error)\n",
        "\n",
        "    # Step 4: Update parameters using the gradients and learning rate\n",
        "    a -= learning_rate * a_grad\n",
        "    b -= learning_rate * b_grad\n",
        "\n",
        "    # Optional: Print loss every 100 epochs\n",
        "    if epoch % 10 == 0:\n",
        "        print(f\"Epoch {epoch}: Loss = {loss:.6f}\")\n",
        "\n",
        "# Final values of parameters after training\n",
        "print(f\"Final values of [a, b]: [{a[0]:.4f}, {b[0]:.4f}]\")"
      ]
    },
    {
      "cell_type": "markdown",
      "metadata": {
        "collapsed": false,
        "id": "Ro6CEFWVSQhB"
      },
      "source": [
        "## Pytorch basics\n",
        "\n",
        "### Tensors\n",
        "\n",
        "* How to create a Tensor\n",
        "* Operations on tensors\n",
        "* Data types for Tensors### Create a Tensor\n",
        "\n",
        "Create tensors from Numpy then see what operations can be applied.\n",
        "**Note:** By default a tensor resides in cpu but can be sent to the GPU for fatser computations"
      ]
    },
    {
      "cell_type": "code",
      "execution_count": 7,
      "metadata": {
        "colab": {
          "base_uri": "https://localhost:8080/"
        },
        "id": "I1LvaUbhSQhB",
        "outputId": "9e50df13-68f1-46d4-edc9-c2e67bdace80"
      },
      "outputs": [
        {
          "name": "stdout",
          "output_type": "stream",
          "text": [
            "Original type: <class 'numpy.ndarray'>\n",
            "Tensor type: torch.FloatTensor, Device: cpu\n"
          ]
        }
      ],
      "source": [
        "import torch\n",
        "\n",
        "# Check device (GPU or CPU)\n",
        "device = torch.device('cuda' if torch.cuda.is_available() else 'cpu')\n",
        "\n",
        "# Convert numpy arrays to tensors and move to the selected device\n",
        "x_train_tensor = torch.from_numpy(x_train).float().to(device)\n",
        "y_train_tensor = torch.from_numpy(y_train).float().to(device)\n",
        "\n",
        "# Print type and device information\n",
        "print(f\"Original type: {type(x_train)}\")\n",
        "print(f\"Tensor type: {x_train_tensor.type()}, Device: {x_train_tensor.device}\")"
      ]
    },
    {
      "cell_type": "markdown",
      "metadata": {
        "collapsed": false,
        "id": "7L-egjQgSQhB"
      },
      "source": [
        "## Linear Regression (Numpy -> PyTorch)"
      ]
    },
    {
      "cell_type": "code",
      "execution_count": 8,
      "metadata": {
        "colab": {
          "base_uri": "https://localhost:8080/"
        },
        "id": "U975l4rwSQhC",
        "outputId": "7592adbb-1244-4367-ffd6-5ea418cbc0da"
      },
      "outputs": [
        {
          "name": "stdout",
          "output_type": "stream",
          "text": [
            "Epoch 0: Loss = 17.765614\n",
            "Epoch 10: Loss = 0.150698\n",
            "Epoch 20: Loss = 0.087423\n",
            "Epoch 30: Loss = 0.071624\n",
            "Epoch 40: Loss = 0.059155\n",
            "Epoch 50: Loss = 0.049248\n",
            "Epoch 60: Loss = 0.041375\n",
            "Epoch 70: Loss = 0.035119\n",
            "Epoch 80: Loss = 0.030147\n",
            "Epoch 90: Loss = 0.026197\n",
            "Final values of [a, b]: [3.2508, 2.0174]\n"
          ]
        }
      ],
      "source": [
        "import torch\n",
        "\n",
        "# Initialize parameters \"a\" and \"b\" on the correct device\n",
        "a = torch.randn(1, device=device, requires_grad=False)\n",
        "b = torch.randn(1, device=device, requires_grad=False)\n",
        "\n",
        "# Convert numpy arrays to tensors and move to the selected device\n",
        "x_train_tensor = torch.from_numpy(x_train).float().to(device)\n",
        "y_train_tensor = torch.from_numpy(y_train).float().to(device)\n",
        "\n",
        "learning_rate = 1e-1  # Learning rate\n",
        "n_epochs = 100  # Number of iterations\n",
        "\n",
        "for epoch in range(n_epochs):\n",
        "    # Step 1: Compute predicted values (yhat)\n",
        "    yhat = a + b * x_train_tensor\n",
        "\n",
        "    # Step 2: Compute error and MSE loss\n",
        "    error = y_train_tensor - yhat\n",
        "    loss = torch.mean(error**2)\n",
        "\n",
        "    # Step 3: Compute gradients (partial derivatives for \"a\" and \"b\")\n",
        "    a_grad = -(2 / len(x_train_tensor)) * torch.sum(error)\n",
        "    b_grad = -(2 / len(x_train_tensor)) * torch.sum(x_train_tensor * error)\n",
        "\n",
        "    # Step 4: Update parameters using gradients and learning rate\n",
        "    a -= learning_rate * a_grad\n",
        "    b -= learning_rate * b_grad\n",
        "\n",
        "    # Optional: Print loss every 10 epochs\n",
        "    if epoch % 10 == 0:\n",
        "        print(f\"Epoch {epoch}: Loss = {loss.item():.6f}\")\n",
        "\n",
        "# Print final values of \"a\" and \"b\"\n",
        "print(f\"Final values of [a, b]: [{a.item():.4f}, {b.item():.4f}]\")"
      ]
    },
    {
      "cell_type": "markdown",
      "metadata": {
        "id": "xtOJk2nmSQhC"
      },
      "source": [
        "### 2.1 Feed Forward Neural Network\n",
        "An artificial neural network wherein connections between the nodes do not form a cycle.\n",
        "<!--![alt text](https://upload.wikimedia.org/wikipedia/en/5/54/Feed_forward_neural_net.gif)\n",
        "![](https://upload.wikimedia.org/wikipedia/commons/thumb/e/e4/Artificial_neural_network.svg/2294px-Artificial_neural_network.svg.png)-->\n",
        "\n",
        "<div>\n",
        "<img src=\"https://upload.wikimedia.org/wikipedia/commons/thumb/e/e4/Artificial_neural_network.svg/2294px-Artificial_neural_network.svg.png\" width=\"1000\"/>\n",
        "</div>\n",
        "\n",
        "\n",
        "### Model Design in Pytorch\n",
        "we have three simple parts that we need to build:\n",
        "1. Data Loading process.\n",
        "2. Model building.\n",
        "3. the training loops.\n",
        "\n",
        "<strong>Data Loading</strong>\n",
        "\n",
        "Data Loading in pytorch is very easy and broken into 3 steps:\n",
        "1. Data Source\n",
        "2. Data Transformations\n",
        "3. Data Loader\n",
        "\n",
        "\n",
        "\n",
        "## 3. Loading data\n",
        "\n",
        "Pytorch uses data loading utility which is called `DataLoader` that supports:\n",
        "automatic batching, transformation, single- and multi-process data loading and more.."
      ]
    },
    {
      "cell_type": "code",
      "execution_count": 9,
      "metadata": {
        "colab": {
          "base_uri": "https://localhost:8080/"
        },
        "id": "yQXvRx06SQhC",
        "outputId": "96d3d413-68da-42a7-871e-641ec6bfdfba"
      },
      "outputs": [
        {
          "name": "stdout",
          "output_type": "stream",
          "text": [
            "Downloading http://yann.lecun.com/exdb/mnist/train-images-idx3-ubyte.gz\n",
            "Failed to download (trying next):\n",
            "HTTP Error 403: Forbidden\n",
            "\n",
            "Downloading https://ossci-datasets.s3.amazonaws.com/mnist/train-images-idx3-ubyte.gz\n",
            "Downloading https://ossci-datasets.s3.amazonaws.com/mnist/train-images-idx3-ubyte.gz to ./data\\MNIST\\raw\\train-images-idx3-ubyte.gz\n"
          ]
        },
        {
          "name": "stderr",
          "output_type": "stream",
          "text": [
            "100%|██████████| 9912422/9912422 [00:06<00:00, 1473395.23it/s]\n"
          ]
        },
        {
          "name": "stdout",
          "output_type": "stream",
          "text": [
            "Extracting ./data\\MNIST\\raw\\train-images-idx3-ubyte.gz to ./data\\MNIST\\raw\n",
            "\n",
            "Downloading http://yann.lecun.com/exdb/mnist/train-labels-idx1-ubyte.gz\n",
            "Failed to download (trying next):\n",
            "HTTP Error 403: Forbidden\n",
            "\n",
            "Downloading https://ossci-datasets.s3.amazonaws.com/mnist/train-labels-idx1-ubyte.gz\n",
            "Downloading https://ossci-datasets.s3.amazonaws.com/mnist/train-labels-idx1-ubyte.gz to ./data\\MNIST\\raw\\train-labels-idx1-ubyte.gz\n"
          ]
        },
        {
          "name": "stderr",
          "output_type": "stream",
          "text": [
            "100%|██████████| 28881/28881 [00:00<00:00, 157072.66it/s]\n"
          ]
        },
        {
          "name": "stdout",
          "output_type": "stream",
          "text": [
            "Extracting ./data\\MNIST\\raw\\train-labels-idx1-ubyte.gz to ./data\\MNIST\\raw\n",
            "\n",
            "Downloading http://yann.lecun.com/exdb/mnist/t10k-images-idx3-ubyte.gz\n",
            "Failed to download (trying next):\n",
            "HTTP Error 403: Forbidden\n",
            "\n",
            "Downloading https://ossci-datasets.s3.amazonaws.com/mnist/t10k-images-idx3-ubyte.gz\n",
            "Downloading https://ossci-datasets.s3.amazonaws.com/mnist/t10k-images-idx3-ubyte.gz to ./data\\MNIST\\raw\\t10k-images-idx3-ubyte.gz\n"
          ]
        },
        {
          "name": "stderr",
          "output_type": "stream",
          "text": [
            "100%|██████████| 1648877/1648877 [00:02<00:00, 693108.29it/s] \n"
          ]
        },
        {
          "name": "stdout",
          "output_type": "stream",
          "text": [
            "Extracting ./data\\MNIST\\raw\\t10k-images-idx3-ubyte.gz to ./data\\MNIST\\raw\n",
            "\n",
            "Downloading http://yann.lecun.com/exdb/mnist/t10k-labels-idx1-ubyte.gz\n",
            "Failed to download (trying next):\n",
            "HTTP Error 403: Forbidden\n",
            "\n",
            "Downloading https://ossci-datasets.s3.amazonaws.com/mnist/t10k-labels-idx1-ubyte.gz\n",
            "Downloading https://ossci-datasets.s3.amazonaws.com/mnist/t10k-labels-idx1-ubyte.gz to ./data\\MNIST\\raw\\t10k-labels-idx1-ubyte.gz\n"
          ]
        },
        {
          "name": "stderr",
          "output_type": "stream",
          "text": [
            "100%|██████████| 4542/4542 [00:00<00:00, 8807456.67it/s]"
          ]
        },
        {
          "name": "stdout",
          "output_type": "stream",
          "text": [
            "Extracting ./data\\MNIST\\raw\\t10k-labels-idx1-ubyte.gz to ./data\\MNIST\\raw\n",
            "\n",
            "Training data: 60000 samples\n",
            "Test data: 10000 samples\n"
          ]
        },
        {
          "name": "stderr",
          "output_type": "stream",
          "text": [
            "\n"
          ]
        }
      ],
      "source": [
        "import torch\n",
        "from torchvision import datasets, transforms\n",
        "from torch.utils.data import DataLoader\n",
        "\n",
        "# Set batch sizes\n",
        "batch_size = 32\n",
        "test_batch_size = 100\n",
        "\n",
        "# Define data transformations: convert to tensor and normalize\n",
        "data_transforms = transforms.Compose([\n",
        "    transforms.ToTensor(),\n",
        "    transforms.Normalize((0.1307,), (0.3081,))  # Normalize with mean and std of MNIST dataset\n",
        "])\n",
        "\n",
        "# Download and load the MNIST dataset\n",
        "train_dataset = datasets.MNIST(root='./data', train=True, download=True, transform=data_transforms)\n",
        "test_dataset = datasets.MNIST(root='./data', train=False, download=True, transform=data_transforms)\n",
        "\n",
        "# Create DataLoader for training and testing datasets\n",
        "train_loader = DataLoader(dataset=train_dataset, batch_size=batch_size, shuffle=True, num_workers=2, pin_memory=True)\n",
        "test_loader = DataLoader(dataset=test_dataset, batch_size=test_batch_size, shuffle=False, num_workers=2, pin_memory=True)\n",
        "\n",
        "# Print to verify data loading\n",
        "print(f\"Training data: {len(train_loader.dataset)} samples\")\n",
        "print(f\"Test data: {len(test_loader.dataset)} samples\")"
      ]
    },
    {
      "cell_type": "code",
      "execution_count": 10,
      "metadata": {
        "colab": {
          "base_uri": "https://localhost:8080/",
          "height": 447
        },
        "id": "dvN-j_kVSQhC",
        "outputId": "8dd94cf6-8185-4b91-8e6b-b3c391bcb212"
      },
      "outputs": [
        {
          "data": {
            "text/plain": [
              "<matplotlib.image.AxesImage at 0x20f1ce87810>"
            ]
          },
          "execution_count": 10,
          "metadata": {},
          "output_type": "execute_result"
        },
        {
          "data": {
            "image/png": "[encoded data removed]",
            "text/plain": [
              "<Figure size 640x480 with 1 Axes>"
            ]
          },
          "metadata": {},
          "output_type": "display_data"
        }
      ],
      "source": [
        "import matplotlib.pyplot as plt\n",
        "images, labels = next(iter(train_loader))\n",
        "plt.imshow(images[0].reshape(28,28), cmap=\"gray\")"
      ]
    },
    {
      "cell_type": "markdown",
      "metadata": {
        "id": "SaurDv-USQhD"
      },
      "source": [
        "## 4. Model building\n",
        "1. Defining components: <br/>\n",
        "This step is done in the constructor, where you will define the layers that will be used accordingly in the next step.\n",
        "2. Network flow: <br/>\n",
        "This step is done in the forward function. Where you will get the input batch as an argument then you will use the defined layers in the previous step to define the flow of the network then you will return the output batch.\n",
        "\n",
        "\n",
        "Pytorch is a dynamic framework, where you can use primitive python keywords with it.\n",
        "You can use if and while statements. Also, it can accepts and returns more than one batch."
      ]
    },
    {
      "cell_type": "code",
      "execution_count": 11,
      "metadata": {
        "id": "BEe-D8JBfmGi"
      },
      "outputs": [],
      "source": [
        "import torch\n",
        "import torch.nn as nn\n",
        "import torch.nn.functional as F\n",
        "\n",
        "class Net(nn.Module):\n",
        "    def __init__(self):\n",
        "        super(Net, self).__init__()\n",
        "        self.fc1 = nn.Linear(28 * 28, 500)  # First hidden layer\n",
        "        self.fc2 = nn.Linear(500, 250)       # Second hidden layer\n",
        "        self.fc3 = nn.Linear(250, 100)       # Third hidden layer\n",
        "        self.fc4 = nn.Linear(100, 10)        # Output layer (10 classes)\n",
        "        self.dropout = nn.Dropout(0.5)       # Dropout layer for regularization\n",
        "\n",
        "    def forward(self, x):\n",
        "        # Flatten the input\n",
        "        x = x.view(-1, 28 * 28)\n",
        "        # Pass through the first layer and apply ReLU activation\n",
        "        x = F.relu(self.fc1(x))\n",
        "        # Apply dropout\n",
        "        x = self.dropout(x)\n",
        "        # Pass through the second layer and apply ReLU activation\n",
        "        x = F.relu(self.fc2(x))\n",
        "        # Apply dropout\n",
        "        x = self.dropout(x)\n",
        "        # Pass through the third layer and apply ReLU activation\n",
        "        x = F.relu(self.fc3(x))\n",
        "        # Pass through the output layer with log softmax\n",
        "        x = F.log_softmax(self.fc4(x), dim=1)\n",
        "        return x\n",
        "\n",
        "# Check for CUDA availability\n",
        "use_cuda = torch.cuda.is_available()\n",
        "device = torch.device(\"cuda\" if use_cuda else \"cpu\")\n",
        "model = Net().to(device)"
      ]
    },
    {
      "cell_type": "markdown",
      "metadata": {
        "id": "V0ebnqOTSQhD"
      },
      "source": [
        "## 5. Training loops\n",
        "After that we should define the loops over tha batches and run the training on."
      ]
    },
    {
      "cell_type": "code",
      "execution_count": 12,
      "metadata": {
        "id": "W7az4Y97SQhD"
      },
      "outputs": [],
      "source": [
        "# Define training params\n",
        "epochs = 5\n",
        "lr = 0.01\n",
        "momentum = 0.5"
      ]
    },
    {
      "cell_type": "markdown",
      "metadata": {
        "id": "Es_XmwAKSQhD"
      },
      "source": [
        "## 5.1 Define the training procedure"
      ]
    },
    {
      "cell_type": "code",
      "execution_count": 13,
      "metadata": {
        "id": "NjZYYf4jSQhE"
      },
      "outputs": [],
      "source": [
        "import torch\n",
        "\n",
        "def train(model, device, train_loader, optimizer, epoch, criterion=torch.nn.functional.nll_loss):\n",
        "    model.train()  # Set model to training mode\n",
        "    total_loss = 0  # To track total loss for the epoch\n",
        "\n",
        "    for batch_idx, (data, target) in enumerate(train_loader):\n",
        "        # Move data and targets to the specified device (CPU/GPU)\n",
        "        data, target = data.to(device), target.to(device)\n",
        "\n",
        "        # Reset gradients from the previous iteration\n",
        "        optimizer.zero_grad()\n",
        "\n",
        "        # Forward pass: Compute model predictions\n",
        "        output = model(data)\n",
        "\n",
        "        # Compute loss\n",
        "        loss = criterion(output, target)\n",
        "\n",
        "        # Backward pass: Compute gradients\n",
        "        loss.backward()\n",
        "\n",
        "        # Update model parameters\n",
        "        optimizer.step()\n",
        "\n",
        "        # Accumulate loss for the entire epoch\n",
        "        total_loss += loss.item()\n",
        "\n",
        "    # Print average loss for the epoch\n",
        "    avg_loss = total_loss / len(train_loader)\n",
        "    print(f'====> Epoch: {epoch} Average Training loss: {avg_loss:.6f}')\n"
      ]
    },
    {
      "cell_type": "markdown",
      "metadata": {
        "id": "qcMvMbgISQhE"
      },
      "source": [
        "## 5.2 Define the evaluation procedure"
      ]
    },
    {
      "cell_type": "code",
      "execution_count": 14,
      "metadata": {
        "id": "b0Bs_xI9SQhE"
      },
      "outputs": [],
      "source": [
        "def test(model, device, test_loader):\n",
        "    model.eval()  # Set the model to evaluation mode\n",
        "    test_loss = 0\n",
        "    correct = 0\n",
        "\n",
        "    with torch.no_grad():  # Disable gradient calculation for testing\n",
        "        for data, target in test_loader:\n",
        "            # Move the data and target tensors to the specified device (CPU or GPU)\n",
        "            data, target = data.to(device), target.to(device)\n",
        "\n",
        "            # Get the model's output predictions\n",
        "            output = model(data)\n",
        "\n",
        "            # Compute the loss using negative log likelihood\n",
        "            test_loss += F.nll_loss(output, target, reduction='sum').item()  # Sum up batch loss\n",
        "\n",
        "            # Get the index of the max log-probability for predicted classes\n",
        "            pred = output.argmax(dim=1, keepdim=True)\n",
        "\n",
        "            # Count the number of correct predictions\n",
        "            correct += pred.eq(target.view_as(pred)).sum().item()\n",
        "\n",
        "    # Average loss across the entire test dataset\n",
        "    test_loss /= len(test_loader.dataset)\n",
        "\n",
        "    # Print the average loss and accuracy\n",
        "    print('Test set: Average loss: {:.4f}, Accuracy: {}/{} ({:.0f}%)\\n'.format(\n",
        "        test_loss, correct, len(test_loader.dataset),\n",
        "        100. * correct / len(test_loader.dataset)))\n"
      ]
    },
    {
      "cell_type": "markdown",
      "metadata": {
        "id": "r6Jeqm6nSQhE"
      },
      "source": [
        "## 5.3 Training Model"
      ]
    },
    {
      "cell_type": "code",
      "execution_count": 15,
      "metadata": {
        "colab": {
          "base_uri": "https://localhost:8080/"
        },
        "id": "Rd__6EACSQhE",
        "outputId": "46e1b5f2-b7f7-4642-d14a-68ceacd13966"
      },
      "outputs": [
        {
          "name": "stdout",
          "output_type": "stream",
          "text": [
            "====> Epoch: 1 Average Training loss: 0.679574\n",
            "Test set: Average loss: 0.2240, Accuracy: 9313/10000 (93%)\n",
            "\n",
            "====> Epoch: 2 Average Training loss: 0.251996\n",
            "Test set: Average loss: 0.1407, Accuracy: 9577/10000 (96%)\n",
            "\n",
            "====> Epoch: 3 Average Training loss: 0.189255\n",
            "Test set: Average loss: 0.1100, Accuracy: 9657/10000 (97%)\n",
            "\n",
            "====> Epoch: 4 Average Training loss: 0.152239\n",
            "Test set: Average loss: 0.1006, Accuracy: 9703/10000 (97%)\n",
            "\n",
            "====> Epoch: 5 Average Training loss: 0.131750\n",
            "Test set: Average loss: 0.0837, Accuracy: 9752/10000 (98%)\n",
            "\n"
          ]
        }
      ],
      "source": [
        "import torch.optim as optim\n",
        "\n",
        "optimizer = optim.SGD(model.parameters(), lr=lr, momentum=momentum)\n",
        "\n",
        "for epoch in range(1, epochs + 1):\n",
        "    train(model, device, train_loader, optimizer, epoch)\n",
        "    test(model, device, test_loader)"
      ]
    },
    {
      "cell_type": "markdown",
      "metadata": {
        "id": "fRhqpK_tSQhE"
      },
      "source": [
        "## 6. Save model"
      ]
    },
    {
      "cell_type": "code",
      "execution_count": 16,
      "metadata": {
        "colab": {
          "base_uri": "https://localhost:8080/"
        },
        "id": "CDE7eguTSQhE",
        "outputId": "fa9f8f9f-0ae9-4056-a956-5688e73d31b6"
      },
      "outputs": [
        {
          "name": "stdout",
          "output_type": "stream",
          "text": [
            "Model saved to model.pth\n"
          ]
        }
      ],
      "source": [
        "model_save_path = 'model.pth'  # Specify the filename for saving the model\n",
        "torch.save(model.state_dict(), model_save_path)  # Save the model's state dict\n",
        "print(f'Model saved to {model_save_path}')"
      ]
    },
    {
      "cell_type": "markdown",
      "metadata": {
        "id": "FI_BfhqRSQhE"
      },
      "source": [
        "## <center>Self-practice <center>\n",
        "\n",
        "Using Dataset from assignment 1\n",
        "1. Define, train and evaluate an ANN for Regression and Classification\n",
        "1. Plot the loss and accuracy of the model for each training iteration\n",
        "    \n",
        "ANN should be implemented in PyTorch"
      ]
    },
    {
      "cell_type": "code",
      "execution_count": 12,
      "metadata": {
        "id": "WlzbkhaJSQhE"
      },
      "outputs": [
        {
          "name": "stdout",
          "output_type": "stream",
          "text": [
            "Epoch [1/50], Training Loss: 78.7205, Validation Loss: 69.0017\n",
            "Epoch [2/50], Training Loss: 70.2105, Validation Loss: 68.9138\n",
            "Epoch [3/50], Training Loss: 69.2528, Validation Loss: 68.3798\n",
            "Epoch [4/50], Training Loss: 68.5009, Validation Loss: 69.0455\n",
            "Epoch [5/50], Training Loss: 67.8980, Validation Loss: 68.3381\n",
            "Epoch [6/50], Training Loss: 67.2341, Validation Loss: 67.4306\n",
            "Epoch [7/50], Training Loss: 66.7167, Validation Loss: 67.0131\n",
            "Epoch [8/50], Training Loss: 66.1022, Validation Loss: 67.2477\n",
            "Epoch [9/50], Training Loss: 65.5990, Validation Loss: 67.2862\n",
            "Epoch [10/50], Training Loss: 65.1541, Validation Loss: 67.3914\n",
            "Epoch [11/50], Training Loss: 64.6287, Validation Loss: 66.9408\n",
            "Epoch [12/50], Training Loss: 64.0567, Validation Loss: 67.3046\n",
            "Epoch [13/50], Training Loss: 63.5955, Validation Loss: 67.4504\n",
            "Epoch [14/50], Training Loss: 62.9766, Validation Loss: 67.7993\n",
            "Epoch [15/50], Training Loss: 62.4938, Validation Loss: 67.9738\n",
            "Epoch [16/50], Training Loss: 60.7541, Validation Loss: 68.7999\n",
            "Early stopping triggered.\n"
          ]
        },
        {
          "data": {
            "image/png": "[encoded data removed]",
            "text/plain": [
              "<Figure size 800x600 with 1 Axes>"
            ]
          },
          "metadata": {},
          "output_type": "display_data"
        },
        {
          "name": "stdout",
          "output_type": "stream",
          "text": [
            "Evaluation Metrics for Regression:\n",
            "Mean Absolute Error (MAE): 5.9679\n",
            "Mean Squared Error (MSE): 66.4409\n"
          ]
        }
      ],
      "source": [
        "import pandas as pd\n",
        "import torch\n",
        "import torch.nn as nn\n",
        "import torch.optim as optim\n",
        "from torch.utils.data import DataLoader, TensorDataset, random_split\n",
        "\n",
        "X_train = pd.read_csv('reg_train.csv', index_col=0)\n",
        "y_train = pd.read_csv('target_train.csv', index_col=0)\n",
        "X_test = pd.read_csv('reg_test.csv', index_col=0)\n",
        "y_test = pd.read_csv('target_test.csv', index_col=0)\n",
        "\n",
        "class RegressionNN(nn.Module):\n",
        "    def __init__(self, input_dim):\n",
        "        super(RegressionNN, self).__init__()\n",
        "        self.network = nn.Sequential(\n",
        "            nn.Linear(input_dim, 128),\n",
        "            nn.ReLU(),\n",
        "            nn.Linear(128, 64),\n",
        "            nn.ReLU(),\n",
        "            nn.Linear(64, 32),\n",
        "            nn.ReLU(),\n",
        "            nn.Linear(32, 1)\n",
        "        )\n",
        "\n",
        "    def forward(self, x):\n",
        "        return self.network(x)\n",
        "    \n",
        "def data_prep(X_train, y_train, batch_size=64, test_split=0.2):\n",
        "    X_tensor = torch.tensor(X_train.values, dtype=torch.float32)\n",
        "    y_tensor = torch.tensor(y_train.values, dtype=torch.float32).view(-1, 1)\n",
        "    dataset = TensorDataset(X_tensor, y_tensor)\n",
        "\n",
        "    val_size = int(len(dataset) * test_split)\n",
        "    train_size = len(dataset) - val_size\n",
        "    train_dataset, val_dataset = random_split(dataset, [train_size, val_size])\n",
        "\n",
        "    train_dataloader = DataLoader(train_dataset, batch_size=batch_size, shuffle=True)\n",
        "    val_dataloader = DataLoader(val_dataset, batch_size=batch_size, shuffle=True)\n",
        "\n",
        "    return train_dataloader, val_dataloader\n",
        "\n",
        "class EarlyStopping:\n",
        "    def __init__(self, patience=5, delta=0):\n",
        "        self.patience = patience\n",
        "        self.delta = delta\n",
        "        self.best_loss = None\n",
        "        self.counter = 0\n",
        "        self.early_stop = False\n",
        "\n",
        "    def __call__(self, val_loss):\n",
        "        if self.best_loss is None:\n",
        "            self.best_loss = val_loss\n",
        "        elif val_loss > self.best_loss + self.delta:\n",
        "            self.counter += 1\n",
        "            if self.counter >= self.patience:\n",
        "                self.early_stop = True\n",
        "        else:\n",
        "            self.best_loss = val_loss\n",
        "            self.counter = 0\n",
        "\n",
        "def train_regression_model(model, train_dataloader, val_dataloader, num_epochs=50, learning_rate=0.001, patience=5):\n",
        "    criterion = nn.MSELoss()\n",
        "    optimizer = optim.Adam(model.parameters(), lr=learning_rate)\n",
        "    scheduler = optim.lr_scheduler.ReduceLROnPlateau(optimizer, 'min', patience=3, factor=0.5)\n",
        "    early_stopping = EarlyStopping(patience=patience)\n",
        "\n",
        "    best_model = None\n",
        "    best_val_loss = float('inf')\n",
        "\n",
        "    train_losses, val_losses = [], []\n",
        "\n",
        "    for epoch in range(num_epochs):\n",
        "        model.train()\n",
        "        running_loss = 0.0\n",
        "        for X_batch, y_batch in train_dataloader:\n",
        "            optimizer.zero_grad()\n",
        "            y_pred = model(X_batch)\n",
        "            loss = criterion(y_pred, y_batch)\n",
        "            loss.backward()\n",
        "            optimizer.step()\n",
        "            running_loss += loss.item() * X_batch.size(0)\n",
        "\n",
        "        train_loss = running_loss / len(train_dataloader.dataset)\n",
        "\n",
        "        model.eval()\n",
        "        val_loss = 0.0\n",
        "        with torch.no_grad():\n",
        "            for X_val, y_val in val_dataloader:\n",
        "                y_pred = model(X_val)\n",
        "                val_loss += criterion(y_pred, y_val).item() * X_val.size(0)\n",
        "            val_loss /= len(val_dataloader.dataset)\n",
        "\n",
        "        train_losses.append(train_loss)\n",
        "        val_losses.append(val_loss)\n",
        "\n",
        "        print(f\"Epoch [{epoch+1}/{num_epochs}], Training Loss: {train_loss:.4f}, Validation Loss: {val_loss:.4f}\")\n",
        "\n",
        "        early_stopping(val_loss)\n",
        "        scheduler.step(val_loss)\n",
        "\n",
        "        if val_loss < best_val_loss:\n",
        "            best_val_loss = val_loss\n",
        "            best_model = model.state_dict()\n",
        "\n",
        "        if early_stopping.early_stop:\n",
        "            print(\"Early stopping triggered.\")\n",
        "            break\n",
        "\n",
        "    model.load_state_dict(best_model)\n",
        "    plot_loss(train_losses, val_losses)\n",
        "\n",
        "def plot_loss(train_losses, val_losses):\n",
        "    epochs = range(1, len(train_losses) + 1)\n",
        "\n",
        "    plt.figure(figsize=(8, 6))\n",
        "    plt.plot(epochs, train_losses, label=\"Training Loss\")\n",
        "    plt.plot(epochs, val_losses, label=\"Validation Loss\")\n",
        "    plt.xlabel(\"Epochs\")\n",
        "    plt.ylabel(\"Loss\")\n",
        "    plt.legend()\n",
        "    plt.show()\n",
        "\n",
        "input_dim = len(X_train.columns)\n",
        "regression_model = RegressionNN(input_dim)\n",
        "train_dataloader, val_dataloader = data_prep(X_train, y_train)\n",
        "train_regression_model(regression_model, train_dataloader, val_dataloader)\n",
        "\n",
        "def evaluate_regression_model(model, X_test, y_test):\n",
        "    model.eval()\n",
        "    X_tensor = torch.tensor(X_test.values, dtype=torch.float32)\n",
        "    y_tensor = torch.tensor(y_test.values, dtype=torch.float32).view(-1, 1)\n",
        "\n",
        "    with torch.no_grad():\n",
        "        y_pred = model(X_tensor)\n",
        "        mse = nn.MSELoss()(y_pred, y_tensor).item()\n",
        "        mae = nn.L1Loss()(y_pred, y_tensor).item()\n",
        "        print(f\"Evaluation Metrics for Regression:\")\n",
        "        print(f\"Mean Absolute Error (MAE): {mae:.4f}\")\n",
        "        print(f\"Mean Squared Error (MSE): {mse:.4f}\")\n",
        "\n",
        "evaluate_regression_model(model, X_test, y_test)"
      ]
    },
    {
      "cell_type": "markdown",
      "metadata": {},
      "source": [
        "The neural network regression model shows moderate predictive performance, as indicated by the MAE of 5.97. However, the MSE of 66.44 suggests that there may be some large errors or outliers that are influencing the model’s overall performance, indicating that the model might not be consistently making accurate predictions.\n",
        "\n",
        "The model's training shows a steady decrease in training loss, indicating that it is learning well from the training data. However, the validation loss begins to plateau and even slightly increase after a few epochs, signaling potential overfitting—where the model continues to improve on the training data but fails to generalize to unseen data. Early stopping was triggered at epoch 16 to prevent further overfitting, as the validation loss had not improved for several consecutive epochs. This suggests that the model fits the training data well but struggles with generalization, and further tuning such as regularization or learning rate adjustments may help improve its performance on the validation set."
      ]
    },
    {
      "cell_type": "code",
      "execution_count": 11,
      "metadata": {},
      "outputs": [
        {
          "name": "stdout",
          "output_type": "stream",
          "text": [
            "Epoch [1/50], Training Loss: 0.6778, Validation Loss: 0.6734, Training Accuracy: 0.5719, Validation Accuracy: 0.5847\n",
            "Epoch [2/50], Training Loss: 0.6747, Validation Loss: 0.6726, Training Accuracy: 0.5808, Validation Accuracy: 0.5837\n",
            "Epoch [3/50], Training Loss: 0.6741, Validation Loss: 0.6733, Training Accuracy: 0.5810, Validation Accuracy: 0.5838\n",
            "Epoch [4/50], Training Loss: 0.6737, Validation Loss: 0.6728, Training Accuracy: 0.5838, Validation Accuracy: 0.5841\n",
            "Epoch [5/50], Training Loss: 0.6735, Validation Loss: 0.6728, Training Accuracy: 0.5832, Validation Accuracy: 0.5848\n",
            "Epoch [6/50], Training Loss: 0.6731, Validation Loss: 0.6719, Training Accuracy: 0.5838, Validation Accuracy: 0.5854\n",
            "Epoch [7/50], Training Loss: 0.6727, Validation Loss: 0.6723, Training Accuracy: 0.5848, Validation Accuracy: 0.5849\n",
            "Epoch [8/50], Training Loss: 0.6727, Validation Loss: 0.6719, Training Accuracy: 0.5849, Validation Accuracy: 0.5868\n",
            "Epoch [9/50], Training Loss: 0.6726, Validation Loss: 0.6723, Training Accuracy: 0.5845, Validation Accuracy: 0.5829\n",
            "Epoch [10/50], Training Loss: 0.6724, Validation Loss: 0.6724, Training Accuracy: 0.5853, Validation Accuracy: 0.5858\n",
            "Epoch [11/50], Training Loss: 0.6714, Validation Loss: 0.6717, Training Accuracy: 0.5873, Validation Accuracy: 0.5849\n",
            "Epoch [12/50], Training Loss: 0.6712, Validation Loss: 0.6717, Training Accuracy: 0.5877, Validation Accuracy: 0.5872\n",
            "Epoch [13/50], Training Loss: 0.6711, Validation Loss: 0.6721, Training Accuracy: 0.5866, Validation Accuracy: 0.5851\n",
            "Epoch [14/50], Training Loss: 0.6709, Validation Loss: 0.6722, Training Accuracy: 0.5876, Validation Accuracy: 0.5847\n",
            "Epoch [15/50], Training Loss: 0.6708, Validation Loss: 0.6716, Training Accuracy: 0.5876, Validation Accuracy: 0.5856\n",
            "Epoch [16/50], Training Loss: 0.6705, Validation Loss: 0.6724, Training Accuracy: 0.5879, Validation Accuracy: 0.5832\n",
            "Epoch [17/50], Training Loss: 0.6705, Validation Loss: 0.6722, Training Accuracy: 0.5887, Validation Accuracy: 0.5847\n",
            "Epoch [18/50], Training Loss: 0.6703, Validation Loss: 0.6716, Training Accuracy: 0.5882, Validation Accuracy: 0.5863\n",
            "Epoch [19/50], Training Loss: 0.6701, Validation Loss: 0.6735, Training Accuracy: 0.5883, Validation Accuracy: 0.5825\n",
            "Epoch [20/50], Training Loss: 0.6693, Validation Loss: 0.6718, Training Accuracy: 0.5896, Validation Accuracy: 0.5856\n",
            "Early stopping triggered.\n"
          ]
        },
        {
          "data": {
            "image/png": "[encoded data removed]",
            "text/plain": [
              "<Figure size 1200x500 with 2 Axes>"
            ]
          },
          "metadata": {},
          "output_type": "display_data"
        },
        {
          "name": "stdout",
          "output_type": "stream",
          "text": [
            "Evaluation Metrics for Classification:\n",
            "Accuracy: 0.5866\n",
            "Precision: 0.5827\n",
            "Recall: 0.5866\n",
            "F1-score: 0.5755\n",
            "ROC-AUC: 0.6055\n"
          ]
        }
      ],
      "source": [
        "from sklearn import metrics\n",
        "import numpy as np\n",
        "from matplotlib import pyplot as plt\n",
        "\n",
        "X_train = pd.read_csv('x_train.csv', index_col=0)\n",
        "y_train = pd.read_csv('y_train.csv', index_col=0)\n",
        "X_test = pd.read_csv('x_test.csv', index_col=0)\n",
        "y_test = pd.read_csv('y_text.csv', index_col=0)\n",
        "\n",
        "class ClassificationNN(nn.Module):\n",
        "    def __init__(self, input_dim, num_classes):\n",
        "        super(ClassificationNN, self).__init__()\n",
        "        self.network = nn.Sequential(\n",
        "            nn.Linear(input_dim, 128),\n",
        "            nn.ReLU(),\n",
        "            nn.Linear(128, 64),\n",
        "            nn.ReLU(),\n",
        "            nn.Linear(64, 32),\n",
        "            nn.ReLU(),\n",
        "            nn.Linear(32, num_classes)\n",
        "        )\n",
        "\n",
        "    def forward(self, x):\n",
        "        return self.network(x)\n",
        "    \n",
        "def data_prep_classification(X_train, y_train, batch_size=64, test_split=0.2):\n",
        "    X_tensor = torch.tensor(X_train.values, dtype=torch.float32)\n",
        "    y_tensor = torch.tensor(y_train.values, dtype=torch.long).view(-1)\n",
        "    dataset = TensorDataset(X_tensor, y_tensor)\n",
        "\n",
        "    val_size = int(len(dataset) * test_split)\n",
        "    train_size = len(dataset) - val_size\n",
        "    train_dataset, val_dataset = random_split(dataset, [train_size, val_size])\n",
        "\n",
        "    train_dataloader = DataLoader(train_dataset, batch_size=batch_size, shuffle=True)\n",
        "    val_dataloader = DataLoader(val_dataset, batch_size=batch_size, shuffle=True)\n",
        "\n",
        "    return train_dataloader, val_dataloader\n",
        "\n",
        "def train_classification_model(model, train_dataloader, val_dataloader, num_epochs=50, learning_rate=0.001, patience=5):\n",
        "    criterion = nn.CrossEntropyLoss()\n",
        "    optimizer = optim.Adam(model.parameters(), lr=learning_rate)\n",
        "    scheduler = optim.lr_scheduler.ReduceLROnPlateau(optimizer, 'min', patience=3, factor=0.5)\n",
        "    early_stopping = EarlyStopping(patience=patience)\n",
        "\n",
        "    best_model = None\n",
        "    best_val_loss = float('inf')\n",
        "    train_losses, val_losses = [], []\n",
        "    train_accuracies, val_accuracies = [], []\n",
        "\n",
        "    for epoch in range(num_epochs):\n",
        "        model.train()\n",
        "        running_loss = 0.0\n",
        "        correct = 0\n",
        "        total = 0\n",
        "        for X_batch, y_batch in train_dataloader:\n",
        "            optimizer.zero_grad()\n",
        "            y_pred = model(X_batch)\n",
        "            loss = criterion(y_pred, y_batch)\n",
        "            loss.backward()\n",
        "            optimizer.step()\n",
        "            running_loss += loss.item() * X_batch.size(0)\n",
        "            _, predicted = torch.max(y_pred, 1)\n",
        "            total += y_batch.size(0)\n",
        "            correct += (predicted == y_batch).sum().item()\n",
        "\n",
        "        train_loss = running_loss / len(train_dataloader.dataset)\n",
        "        train_accuracy = correct / total\n",
        "\n",
        "        model.eval()\n",
        "        val_loss = 0.0\n",
        "        correct_val = 0\n",
        "        total_val = 0\n",
        "        with torch.no_grad():\n",
        "            for X_val, y_val in val_dataloader:\n",
        "                y_pred = model(X_val)\n",
        "                val_loss += criterion(y_pred, y_val).item() * X_val.size(0)\n",
        "                _, predicted_val = torch.max(y_pred, 1)\n",
        "                total_val += y_val.size(0)\n",
        "                correct_val += (predicted_val == y_val).sum().item()\n",
        "\n",
        "        val_loss /= len(val_dataloader.dataset)\n",
        "        val_accuracy = correct_val / total_val\n",
        "        train_losses.append(train_loss)\n",
        "        val_losses.append(val_loss)\n",
        "        train_accuracies.append(train_accuracy)\n",
        "        val_accuracies.append(val_accuracy)\n",
        "\n",
        "        print(f\"Epoch [{epoch+1}/{num_epochs}], Training Loss: {train_loss:.4f}, Validation Loss: {val_loss:.4f}, Training Accuracy: {train_accuracy:.4f}, Validation Accuracy: {val_accuracy:.4f}\")\n",
        "\n",
        "        early_stopping(val_loss)\n",
        "        scheduler.step(val_loss)\n",
        "\n",
        "        if val_loss < best_val_loss:\n",
        "            best_val_loss = val_loss\n",
        "            best_model = model.state_dict()\n",
        "\n",
        "        if early_stopping.early_stop:\n",
        "            print(\"Early stopping triggered.\")\n",
        "            break\n",
        "\n",
        "    model.load_state_dict(best_model)\n",
        "    plot_metrics(train_losses, val_losses, train_accuracies, val_accuracies)\n",
        "\n",
        "def plot_metrics(train_losses, val_losses, train_accuracies, val_accuracies):\n",
        "    epochs = range(1, len(train_losses) + 1)\n",
        "\n",
        "    plt.figure(figsize=(12, 5))\n",
        "    plt.subplot(1, 2, 1)\n",
        "    plt.plot(epochs, train_losses, label=\"Training Loss\")\n",
        "    plt.plot(epochs, val_losses, label=\"Validation Loss\")\n",
        "    plt.xlabel(\"Epochs\")\n",
        "    plt.ylabel(\"Loss\")\n",
        "    plt.legend()\n",
        "\n",
        "    plt.subplot(1, 2, 2)\n",
        "    plt.plot(epochs, train_accuracies, label=\"Training Accuracy\")\n",
        "    plt.plot(epochs, val_accuracies, label=\"Validation Accuracy\")\n",
        "    plt.xlabel(\"Epochs\")\n",
        "    plt.ylabel(\"Accuracy\")\n",
        "    plt.legend()\n",
        "\n",
        "    plt.show()\n",
        "\n",
        "input_dim = len(X_train.columns)\n",
        "num_classes = len(y_train[y_train.columns[0]].unique())\n",
        "classification_model = ClassificationNN(input_dim, num_classes)\n",
        "train_dataloader, val_dataloader = data_prep_classification(X_train, y_train)\n",
        "train_classification_model(classification_model, train_dataloader, val_dataloader)\n",
        "\n",
        "def evaluate_classification_model(model, X_test, y_test):\n",
        "    model.eval()\n",
        "    X_tensor = torch.tensor(X_test.values, dtype=torch.float32)\n",
        "    y_tensor = torch.tensor(y_test.values, dtype=torch.long).view(-1)\n",
        "\n",
        "    with torch.no_grad():\n",
        "        y_pred = model(X_tensor)\n",
        "        _, predicted = torch.max(y_pred, 1)\n",
        "\n",
        "    y_pred_np = predicted.cpu().numpy()\n",
        "    y_test_np = y_tensor.cpu().numpy()\n",
        "\n",
        "    accuracy = metrics.accuracy_score(y_test_np, y_pred_np)\n",
        "    precision = metrics.precision_score(y_test_np, y_pred_np, average='weighted')\n",
        "    recall = metrics.recall_score(y_test_np, y_pred_np, average='weighted')\n",
        "    f1 = metrics.f1_score(y_test_np, y_pred_np, average='weighted')\n",
        "\n",
        "    y_prob_np = torch.softmax(y_pred, dim=1).cpu().numpy()\n",
        "    if len(np.unique(y_test_np)) > 2:\n",
        "        auc_roc = metrics.roc_auc_score(y_test_np, y_prob_np, multi_class='ovr', average='weighted')\n",
        "    else:\n",
        "        auc_roc = metrics.roc_auc_score(y_test_np, y_prob_np[:, 1])\n",
        "\n",
        "    print(f\"Evaluation Metrics for Classification:\")\n",
        "    print(f\"Accuracy: {accuracy:.4f}\")\n",
        "    print(f\"Precision: {precision:.4f}\")\n",
        "    print(f\"Recall: {recall:.4f}\")\n",
        "    print(f\"F1-score: {f1:.4f}\")\n",
        "    print(f\"ROC-AUC: {auc_roc:.4f}\")\n",
        "\n",
        "evaluate_classification_model(classification_model, X_test, y_test)\n"
      ]
    },
    {
      "cell_type": "markdown",
      "metadata": {},
      "source": [
        "The model demonstrates moderate performance with an accuracy of 58.66%, a balanced precision and recall around 58%, and an F1-score of 57.55%, indicating that it is only slightly better than random guessing. While the model shows some learning during training, early stopping was appropriately triggered to prevent overfitting as the validation loss began to increase. However, the low ROC-AUC of 0.6055 suggests weak discriminatory power, highlighting the need for improvements, potentially through more complex models, better data preprocessing, or hyperparameter tuning.\n",
        "\n",
        "During the training process, both the training loss and validation loss showed a gradual decrease over the first few epochs, indicating that the model was learning and improving its performance. Early on, the training accuracy rose from 57.19% in the first epoch to 58.96% by the 20th epoch, while the validation accuracy similarly fluctuated around 58.3% to 58.7%, showing slight improvement but generally plateauing after the first several epochs. Around Epoch 11, the validation loss started to fluctuate and no longer showed consistent improvement, a sign that the model might be overfitting to the training data. From Epoch 19 onward, the validation loss began to increase, and early stopping was triggered after Epoch 20 to prevent further overfitting. Overall, while the model's training loss continued to decrease slightly, the validation loss plateaued, suggesting that the model had reached its learning capacity with the current setup."
      ]
    }
  ],
  "metadata": {
    "accelerator": "GPU",
    "colab": {
      "gpuType": "T4",
      "provenance": []
    },
    "kernelspec": {
      "display_name": "Python 3",
      "name": "python3"
    },
    "language_info": {
      "codemirror_mode": {
        "name": "ipython",
        "version": 3
      },
      "file_extension": ".py",
      "mimetype": "text/x-python",
      "name": "python",
      "nbconvert_exporter": "python",
      "pygments_lexer": "ipython3",
      "version": "3.11.2"
    }
  },
  "nbformat": 4,
  "nbformat_minor": 0
}
