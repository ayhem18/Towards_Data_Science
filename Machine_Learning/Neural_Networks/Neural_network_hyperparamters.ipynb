{
 "cells": [
  {
   "cell_type": "markdown",
   "metadata": {},
   "source": [
    "# Improving a Neural Net: Hyperparameters Tuning\n",
    "## 1. Train, dev, test sets\n",
    "### 1.1 Neural Net: Hyperparameters:\n",
    "For a Neural network, there are certain values that affect the performance, yet do not change during the model's training:\n",
    "1. number of hidden layers\n",
    "2. number of units in each layer\n",
    "3. activation functions\n",
    "4. learning rate\n",
    "5. convergence criteria\n",
    "### 1.2 distribution\n",
    "For relatively small $m \\leq 10000$, a suitable divison's rule of thumb would be: $60\\%$, $20\\%$ and $20\\%$ for train, dev (CV) and test sets respectively. Yet, as the main goal of dev set is to determine the most efficient combination of hyperparameters, there is no need for a large training set. Hence, a suggested distribution when $m \\approx 10 ^ 6$ or larger is: $98\\%$, $1\\%$ and $1\\%$.\n",
    "Additionally, it is of extreme importance to have all data sets with the same distribution, or the same quality, speaking more informally."
   ]
  },
  {
   "cell_type": "markdown",
   "metadata": {},
   "source": [
    "## 2. Bias and Variance\n",
    "### 2.1  Recall:\n",
    "The following [notebook](https://github.com/ayhem18/Towards_Data_science/blob/master/Machine_Learning/generalities/evaluating_ML_algorithm.ipynb) provides a basic introduction to the notions of ***bias*** and ***variance*** along with additional general tools such as ***learning curves***.\n",
    "### 2.2 Bias and Variance for Neural Net:\n",
    "A Neural Net's low performance can be tackled as follows: \n",
    "1. Consider the high bias possibility (poor performance of training dataset): if it is the case, then:\n",
    "    * bigger network: larger number of hidden units per layer\n",
    "    * deeper network: larger number of hidden layers\n",
    "    * consider a different Neural network architechture\n",
    "2. Consider the high Variance possibility (high performance with train set and poor one with CV set):\n",
    "    * more training data \n",
    "    * regularization\n",
    "    * consider a different Neural network architechture"
   ]
  },
  {
   "cell_type": "markdown",
   "metadata": {},
   "source": [
    "### 2.3 Regularization methods\n",
    "#### 2.3.1 L2 method\n",
    "This method is discussed in the following [notebook](https://github.com/ayhem18/Towards_Data_science/blob/master/Machine_Learning/generalities/evaluating_ML_algorithm.ipynb)\n",
    "#### 2.3.2 DropOut method\n",
    "The main idea is to eliminate certain hidden units in every layer with a certain probability. More formally, assigning $0$ to certain hidden units with a propability $p$. $p$ can vary from one layer to another. Such procedure decreases the weighs as well as distributes them along the different units in that layer.\n",
    "The procedure can be expressed as follows for a say the layer $l$:\n",
    "1. dl = (np.random.rand(al.shape) $< p$): creates a boolean array refleting the inequalities\n",
    "2. al = dl * al (assigning the value $0$ to every hidden unit corresponding to a value larger than $p$ in dl)\n",
    "3. a3 /= p\n",
    "\n",
    "As for the last step, on average (1 - p) of the elements will be set to $0$. Thus, the expected value of all units will be multiplied by $p$. To have the original expected value, we need to divide by $p$"
   ]
  },
  {
   "cell_type": "markdown",
   "metadata": {},
   "source": [
    "#### 2.3.3 Early Stopping\n",
    "This method is slightly different from the previously mentioned techniques as it tackles both training the model and overfitting. \n",
    "Assuming the model is not underfitting the train dataset, then the cost function over training data $J_t$ and dev data $J_d$ with respect to number of iterations can have similar graphs:"
   ]
  },
  {
   "cell_type": "code",
   "execution_count": 31,
   "metadata": {},
   "outputs": [
    {
     "name": "stdout",
     "output_type": "stream",
     "text": [
      "[ 2.30258509  1.93507413  1.66692336 ... -4.38091568 -4.38147131\n",
      " -4.38202663]\n",
      "[ 2.67138538  2.30428414  2.03654355 ... -1.66866358 -1.66620602\n",
      " -1.66374481]\n"
     ]
    },
    {
     "data": {
      "image/png": "[encoded data removed]",
      "text/plain": [
       "<Figure size 432x288 with 1 Axes>"
      ]
     },
     "metadata": {
      "needs_background": "light"
     },
     "output_type": "display_data"
    }
   ],
   "source": [
    "import matplotlib.pyplot as plt\n",
    "import numpy as np\n",
    "\n",
    "# 200 linearly spaced numbers\n",
    "\n",
    "x = np.linspace(1, 800,1800)\n",
    "# x.reshape((1, x.shape[0]))\n",
    "# the sigmoid function\n",
    "J_t = - np.log(x / 10)\n",
    "stopping_point = 400\n",
    "J_d = - np.log(x / 10) + np.exp(np.fmax((x - stopping_point) / stopping_point, np.array([-1])))\n",
    "print(J_t)\n",
    "print(J_d)\n",
    "\n",
    "fig, ax = plt.subplots()\n",
    "ax.set_ylim(-5, 3)\n",
    "ax.plot(x, J_t , 'b', label='J_t')\n",
    "ax.plot(x, J_d , 'r', label='J_d')\n",
    "leg = ax.legend();"
   ]
  },
  {
   "cell_type": "markdown",
   "metadata": {},
   "source": [
    "Ps: The functions are chosen for their similarities to the graphs of the actual $J_t$ and $J_d$ functions. No mathematical justification.\n",
    "\n",
    "The main idea is to choose the value where the difference between the two error functions is neither too small nor too large. Such a method might not be optimal as it tries to solve two different issues simultaneously."
   ]
  },
  {
   "cell_type": "markdown",
   "metadata": {},
   "source": [
    "## 3. Initialization to solve vanishing and exploding gradients\n",
    "For deep Neural networks, it is quite possible for the weights to increase and decrease exponentially. Therefore, it slows significantly the learning algorithm. Such a situation can be partially addressed with a careful random initilization:\n",
    "Consider the following single neuron: \n",
    "\n",
    "![single neuron](https://github.com/ayhem18/Towards_Data_science/blob/master/Machine_Learning/Neural_Networks/single_neuron.png?raw=true)\n",
    "\n",
    "$\\begin{equation}\n",
    "z = w_1 \\cdot x_1 + w_2 \\cdot x_2 ... + w_n\\cdot x_n \n",
    "\\end{equation}$\n",
    "for large values of $n$, it is preferrable for $w_i$ to be small enough not to make $z$ explode and not too small to make it vanish.\n",
    "Thus, variance should be set to \n",
    "$\\begin{equation}\\sigma ^ 2 = \\frac{c}{n}\\end{equation}$\n",
    "where $c$ depends on the activation function associated with the hidden layer. \n",
    "* for Relu, c = 2\n",
    "* for tanh, c = 1\n",
    "\n",
    "The final initialization would be\n",
    "$\\begin{equation}W^{([l])} = np.random.rand(shape) * \\sqrt(\\frac{c}{n^{[l - 1]}})\\end{equation}$"
   ]
  },
  {
   "cell_type": "markdown",
   "metadata": {},
   "source": [
    "## 4 Hyperparameters Tuning \n",
    "### 4.1 Methadology\n",
    "Previously, Deep learning practitioners used grid methadology. For $n$ hyperparameters, the engineer in question, would prepare $n$ sets of values. $[a_{11}, a_{12}...a_{1m}]$ where each set reprents possible values for a specific hyperparameter. The engineer experiments with all the combinations.\n",
    "\n",
    "Such approach might no longer be optimal due to the increased number of parameters and the difference in their importance. Alternatively, It is recommended to try random values within the predefined ranges (not sets) for each of the hyperparameters"
   ]
  },
  {
   "cell_type": "markdown",
   "metadata": {},
   "source": [
    "#### 4.1.1 Coarse to fine\n",
    "Assuming a number of combinations proved to be more efficient than others, it might be worth the time to reduce the search space and retry the same proceedure in the region that acheived satisfying results."
   ]
  },
  {
   "cell_type": "markdown",
   "metadata": {},
   "source": [
    "#### 4.1.1 Scaling hyperparameters\n",
    "It is note worthy that not all hyperparameters vary within the same range. Some vary from [0.0001 ... 1]. Others from [2..100]. A random linear distribution would be perfectly fine on the second range. Yet, it is not the case for the second one.\n",
    "\n",
    "Hyperparameters in ranges like [0.0001 ... 1] tend to be very insensitive towards end points. In other words even differences estimated in the vecenity of $10^{-4}$ can significantly affect the algorithm's performace. When using a linear random distribution: $10\\%$ of the values would assigned to the range [0.0001 ... 0.001] while the remaining $90 \\%$ would be distributed on the rest of the interval. This is might be harmful for the application taking into consideration that both ranges are of equivalent importance. A more adequate appoach on ranges $[10^{-a} ... 10^{-b}]$ is to consider the random variable $x$ distributed on $[b, a]$ and then consider the values $10 ^ {-x}$ for the hyperparameters. "
   ]
  }
 ],
 "metadata": {
  "kernelspec": {
   "display_name": "Python 3.10.4 ('ds_env')",
   "language": "python",
   "name": "python3"
  },
  "language_info": {
   "codemirror_mode": {
    "name": "ipython",
    "version": 3
   },
   "file_extension": ".py",
   "mimetype": "text/x-python",
   "name": "python",
   "nbconvert_exporter": "python",
   "pygments_lexer": "ipython3",
   "version": "3.10.4"
  },
  "orig_nbformat": 4,
  "vscode": {
   "interpreter": {
    "hash": "08488e93894ea7be7272109919d40edb52233f14daf834f5f2387122a81730e1"
   }
  }
 },
 "nbformat": 4,
 "nbformat_minor": 2
}
