{
 "cells": [
  {
   "attachments": {},
   "cell_type": "markdown",
   "metadata": {},
   "source": [
    "# Neural Networks: Learning\n",
    "\n",
    "## 1. Notation and number of output units\n",
    "Neural Networks are widely used to solve classification problems. For binary classification, the number of output units is equal to $1$. For multiclass classification with $K$ classes, there are $K$ output units. We consider the following notation:\n",
    "\n",
    "* L = total number of layers in the network\n",
    "* $s_{l}$ number of units (excluding the bias unit) in layer $l$\n",
    "* K = number of output units/classes.\n",
    "\n",
    "## 2. Cost function: \n",
    "### 2.1 Logistic Regression as starting point\n",
    "We recall the final regularized form of the cost function for Logistic Regression:\n",
    "$\\begin{align}\n",
    "    J(\\theta) = -\\frac{1}{m} \\cdot \\sum _{i=1}^{m} [y ^ {(i)} \\cdot \\log(h_{\\theta} (x)) + (1 - y) \\cdot \\log(1 - h_{\\theta} (x))] + \\frac{\\lambda}{2m} \\sum_{j=1}^{n} \\theta_j ^ 2 \n",
    "\\end{align}$\n",
    "\n",
    "For neural network, there might be several output units. We denote $h_{\\Theta}(x)_j$ as the hypothesis resulting in the $j$-th output unit. The final forms is as follows:\n",
    "\n",
    "$\\begin{align}\n",
    "    J(\\theta) = -\\frac{1}{m} \\cdot \\sum _{i=1}^{m}\n",
    "    \\sum_{k=1}^{K} [y_k ^ {(i)} \\cdot \\log(h_{\\Theta}(x)_k) + (1 - y_k ^ {(i)}) \\cdot \\log(1 - h_{\\Theta}(x)_k)] + \\frac{\\lambda}{2m} \\sum_{l=1}^{L-1} \\sum_{i=1}^{s_l} \\sum_{j=1}^{s_{l+1}} (\\Theta_{j,i}^{(l)})^2\n",
    "\\end{align}$\n",
    "\n",
    "where $y_k$ is the boolean array $y == k$, for which $y(i) == 1 \\iff y(i) == k$\n",
    "\n",
    "* The first nested summation calculates the logistic regression cost function fo each of the output units.\n",
    "*  To better understand the second nested summation, we recall that the matrix $\\Theta^{(i)}$ is the matrix mapping the values of layer $i$ to the layer $i + 1$. Thus the first summation iterates through all the $L - 1$ mapping matrices.\n",
    "* Additionally, $\\Theta^{(i)}$ is of dimensions $s_{i + 1} * (s_{i} + 1)$ Therefore, two inners sums, calculate the element-wise square $\\Theta^{(i)}$ without considering the terms corresponding to the bias unit.\n",
    "* Let's consider the example of this ***ANN*** and the mapping matrix displayed just below it in the section 2.2: [link](https://github.com/ayhem18/Towards_Data_science/blob/master/Machine_Learning/Neural_Networks/Presentation/summary.ipynb) :\n",
    "\n",
    "The inner sum corresponding to this matrix will be: \n",
    "$\\begin{align}\n",
    "(\\Theta_{11}^{(1)})^2 + (\\Theta_{12}^{(1)})^2 + (\\Theta_{13}^{(1)})^2 +\n",
    "(\\Theta_{21}^{(1)})^2 + (\\Theta_{22}^{(1)})^2 + (\\Theta_{23}^{(1)})^2 +\n",
    "(\\Theta_{31}^{(1)})^2 + (\\Theta_{32}^{(1)})^2 + (\\Theta_{31}^{(1)})^2\n",
    "\\end{align}$\n"
   ]
  },
  {
   "cell_type": "markdown",
   "metadata": {},
   "source": [
    "### 2.2 Optimizing the cost function\n",
    "#### 2.2.1 Forward Propagation\n",
    "It is necessary to distinguish between two notations: $a$ and $z$. We have: \n",
    "* $a^{(1)} = x$ where $x$ are the input features.\n",
    "* $z^{(2)} = \\Theta^{(1)} \\cdot a^{(1)}$\n",
    "* $a^{(2)} = g(z^{(2)})$ while adding the bias unit $a^{(2)}_0 = 1$\n",
    "\n",
    "More generally: \n",
    "* $z^{(i)} = \\Theta^{(i - 1)} \\cdot a^{(i - 1)}$ \n",
    "\n",
    "and\n",
    "* $a^{(i)} = g(z^{(i)})$ with the addition of the bias unit $a^{(i)}_0 = 1$\n",
    "\n",
    "Considering a single training example $(x, y)$ where $x$ is a features vector and $y$ is the classification's result. We apply the process described above to obtain $a^{(L)} = h_{\\Theta}(x)$"
   ]
  },
  {
   "attachments": {},
   "cell_type": "markdown",
   "metadata": {},
   "source": [
    "### 2.3 Back Propagation\n",
    "#### 2.3.1 Error Vectors\n",
    "we introduce the term $\\delta_j^{(l)}$ as the *error* of node $j$ in layer $l$. More generally, $\\delta^{(l)}$ is the vector:\n",
    "$\\begin{align} \\begin{bmatrix}\n",
    "\\delta_1^{(1)}\\\\\n",
    "\\delta_2^{(l)}\\\\\n",
    ".. \\\\\n",
    ".. \\\\\n",
    "\\delta_{s_l}^{(l)}\\end{bmatrix}\n",
    "\\end{align}$ \n",
    "\n",
    "The mathematical relation between $\\delta^{(i)}$ and $\\delta^{(i - 1)}$ can be expressed as follows: \n",
    "\n",
    "$\\begin{align}\n",
    "\\delta^{(L)} &= a^{(L)} - y \\\\\n",
    "\\delta^{(i - 1)} &= (\\Theta^{(i - 1)})^{T} \\cdot \\delta^{(i)} .* (a^{(i - 1)} * (a^{(i - 1)} - 1))\n",
    "\\end{align}$\n",
    "\n",
    "where .* represents the element-wise multiplication operator. It is important to note that $\\delta_j^{(l)}$ is not considered as no error is associated with the input features."
   ]
  },
  {
   "cell_type": "markdown",
   "metadata": {},
   "source": [
    "#### 2.3.2 Back Propagation algorithm\n",
    "considering a training data set: ${(x^{(1)}, y^{(1)}), (x^{(2)}, y^{(2)}),... ,(x^{(m)}, y^{(m)})}$ \n",
    "The algorithm can be modeled through this piece of [pseudo-code](https://github.com/ayhem18/Towards_Data_science/blob/master/Machine_Learning/Neural_Networks/learning/Back_Propagation_algo.pdf)\n"
   ]
  },
  {
   "cell_type": "markdown",
   "metadata": {},
   "source": [
    "## 3. Additional Notes\n",
    "### 3.1 Activation functions"
   ]
  },
  {
   "cell_type": "code",
   "execution_count": null,
   "metadata": {},
   "outputs": [],
   "source": [
    "import matplotlib.pyplot as plt\n",
    "import numpy as np\n",
    "\n",
    "def plot_function(x, y):\n",
    "    # setting the plot parameters \n",
    "    fig = plt.figure()\n",
    "    ax = fig.add_subplot(1, 1, 1)\n",
    "    ax.spines['left'].set_position('center')\n",
    "    ax.spines['bottom'].set_position('center')\n",
    "    ax.spines['right'].set_color('none')\n",
    "    ax.spines['top'].set_color('none')\n",
    "    ax.xaxis.set_ticks_position('bottom')\n",
    "    ax.yaxis.set_ticks_position('left')\n",
    "\n",
    "    plt.plot(x, y, 'r')\n",
    "    plt.show()"
   ]
  },
  {
   "attachments": {},
   "cell_type": "markdown",
   "metadata": {},
   "source": [
    "There are several used activation functions:\n",
    "1. Sigmoid function: $\\begin{align} \\frac{1}{1 + e ^{-x}}\\end{align}$"
   ]
  },
  {
   "cell_type": "code",
   "execution_count": 12,
   "metadata": {},
   "outputs": [
    {
     "data": {
      "image/png": "[encoded data removed]",
      "text/plain": [
       "<Figure size 432x288 with 1 Axes>"
      ]
     },
     "metadata": {
      "needs_background": "light"
     },
     "output_type": "display_data"
    }
   ],
   "source": [
    "# 200 linearly spaced numbers\n",
    "x = np.linspace(-5, 5, 200)\n",
    "\n",
    "# the sigmoid function\n",
    "y = 1 / (1 + np.exp(-x))\n",
    "\n",
    "plot_function(x, y)\n"
   ]
  },
  {
   "attachments": {},
   "cell_type": "markdown",
   "metadata": {},
   "source": [
    "2. hyperbolic tangeant function: $\\begin{align}~tanh(x) = \\frac{e^{-x} - e^{x}}{e^{-x} + e^{x}}\\end{align}$"
   ]
  },
  {
   "cell_type": "code",
   "execution_count": 13,
   "metadata": {},
   "outputs": [
    {
     "data": {
      "image/png": "[encoded data removed]",
      "text/plain": [
       "<Figure size 432x288 with 1 Axes>"
      ]
     },
     "metadata": {
      "needs_background": "light"
     },
     "output_type": "display_data"
    }
   ],
   "source": [
    "y = (np.exp(x) - np.exp(-x)) / (np.exp(x) + np.exp(-x))\n",
    "plot_function(x, y)"
   ]
  },
  {
   "attachments": {},
   "cell_type": "markdown",
   "metadata": {},
   "source": [
    "3. Rectified Linear Unit: ReLu function: $~\\begin{align} max(x, 0)\\end{align}$"
   ]
  },
  {
   "cell_type": "code",
   "execution_count": 14,
   "metadata": {},
   "outputs": [
    {
     "data": {
      "image/png": "[encoded data removed]",
      "text/plain": [
       "<Figure size 432x288 with 1 Axes>"
      ]
     },
     "metadata": {
      "needs_background": "light"
     },
     "output_type": "display_data"
    }
   ],
   "source": [
    "y = (x >= 0) * x\n",
    "plot_function(x, y)"
   ]
  },
  {
   "attachments": {},
   "cell_type": "markdown",
   "metadata": {},
   "source": [
    "4. Leaky ReLU function: $\\begin{align} max(\\alpha x, x)\\end{align}$ where $\\alpha < 1$"
   ]
  },
  {
   "cell_type": "code",
   "execution_count": 19,
   "metadata": {},
   "outputs": [
    {
     "data": {
      "image/png": "[encoded data removed]",
      "text/plain": [
       "<Figure size 432x288 with 1 Axes>"
      ]
     },
     "metadata": {
      "needs_background": "light"
     },
     "output_type": "display_data"
    }
   ],
   "source": [
    "x = np.linspace(-1, 1, 100)\n",
    "alpha = 0.02\n",
    "alpha_x = alpha * x\n",
    "y = (alpha_x <= x) * x + (alpha_x >= x) * alpha_x \n",
    "plot_function(y, x) "
   ]
  },
  {
   "cell_type": "markdown",
   "metadata": {},
   "source": [
    "Only ***ReLu*** and ***sigmoid*** functions can be used for the output layer to keep the output in the range $[0, ~1]$. Yet, for hidden layers, sigmoid function is no longer widely used as it slows the learning speed significantly. \n",
    "\n",
    "The activation should be non-linear. Otherwise the final output (regarldess of the number of hidden units) would be a linear combination of the input vector. "
   ]
  }
 ],
 "metadata": {
  "kernelspec": {
   "display_name": "Python 3.9.12 ('ds_env')",
   "language": "python",
   "name": "python3"
  },
  "language_info": {
   "codemirror_mode": {
    "name": "ipython",
    "version": 3
   },
   "file_extension": ".py",
   "mimetype": "text/x-python",
   "name": "python",
   "nbconvert_exporter": "python",
   "pygments_lexer": "ipython3",
   "version": "3.9.12"
  },
  "orig_nbformat": 4,
  "vscode": {
   "interpreter": {
    "hash": "7bb0ce5cb6b092cde9f0ba713d915425207ed6ea08d3ede97530b87c251a3aee"
   }
  }
 },
 "nbformat": 4,
 "nbformat_minor": 2
}
