{
 "cells": [
  {
   "cell_type": "markdown",
   "metadata": {},
   "source": [
    "# Structuring Deep Learning Projects\n",
    "## 1. Orthogonalization\n",
    "The main idea behind this principle is is to address different issues seperately. the general path would be as follows:\n",
    "\n",
    "1. Make sure the algorithm performs well on training set\n",
    "    * Different architechture: bigger, smaller network\n",
    "    * more efficient optimization algorithms\n",
    "2. Make sure the algorithm performs well on the dev/cross-validation set:\n",
    "    * regularization: L2, dropout methods\n",
    "3. Make sure the algorithm generalizes well on the test set:\n",
    "    * Have a larger dev set\n",
    "    * larger / more diverse training set\n",
    "4. The system performs as intended when deployed to the real world:\n",
    "    * the cost function does not fit the problem in hand\n",
    "    * changing the dev and test set might help\n",
    "\n",
    "According to the ***Orthogonalization*** Principle using the ***early stop*** tuning method is no recommended as it solves a couple of issues simultaneously: fitting the dev set and not overfitting the training set"
   ]
  },
  {
   "cell_type": "markdown",
   "metadata": {},
   "source": [
    "## 2 Evaluation\n",
    "### 2.1 Single Number Evaluation\n",
    "The main idea is to use (or derive) a formula that adequately reflects the performance of the system in question: whether it is average, linear combination...\n",
    "### 2.2 Types of Metrics\n",
    "There might be several metrics (say $N$) to consider, having several possible model variants, usually the problem can be reduced to as follows: \n",
    "* 1 Optimizing Metric: the more performance, the better\n",
    "* N - 1 Satisficing Metrics (mix between satisfying and sacrificing): The model should achieve a certain minial treshhold, otherwise it won't be further considered. However, beyond that threshhold, difference in performance does not matter\n",
    "\n",
    "#### Example:\n",
    "Assuming the performance is assessed with accuracy, or F1 metric and the response time is important. In this case, accuracy is the **Optimizing** metric and response time is the **Satisficing** metric. A model that achieves $99\\%$ accuracy taking $2$ seconds is not a suitable candidate when the response time threshhold is $100$ ms. Between a model achieving $95$ accuracy in an average of $100$ms and another with $93$ in $50$ ms, the formal should be chosen."
   ]
  },
  {
   "cell_type": "markdown",
   "metadata": {},
   "source": [
    "## 3. Train-Dev-Test sets\n",
    "### 3,1 Dev VS Test sets\n",
    "It is important to understand that most of the ML/DL teams' work is to improve a model's performance on the dev set.(hyperparameter tuning mainly). For this reason, it is of major importance to have Dev and Test sets with the same distribution, or more specifically, have both dev and test sets include data for all types of classes that the model might predict on. \n",
    "#### Example\n",
    "If a team is working on a system predicting whether a medium income class individual is able to repay their loan, you cannot expect the product to perform even moderately when tested on test set of low income class set.The Dev set should have included both medium and low (and potentially high) if the model was expected at a certain point to predict such individuals' behaviors."
   ]
  },
  {
   "cell_type": "markdown",
   "metadata": {},
   "source": [
    "## 4. Human-Level Performance\n",
    "### 4.1 Why compare ?\n",
    "When working on a machine learning model on a specific task, the model's performance can generally be plotted as follows: "
   ]
  },
  {
   "cell_type": "code",
   "execution_count": 1,
   "metadata": {},
   "outputs": [
    {
     "data": {
      "image/png": "[encoded data removed]",
      "text/plain": [
       "<Figure size 432x288 with 1 Axes>"
      ]
     },
     "metadata": {
      "needs_background": "light"
     },
     "output_type": "display_data"
    }
   ],
   "source": [
    "import numpy as np\n",
    "import matplotlib.pyplot as plt\n",
    "K = 5\n",
    "x = np.linspace(0, 5, 100)\n",
    "model_y = (K + 1) / (1 + np.exp(-x))\n",
    "human_y = [K for _ in x ]\n",
    "bayes_y = [K + 1 for _ in x]\n",
    "\n",
    "\n",
    "fig, ax = plt.subplots()\n",
    "ax.plot(x, model_y, '-b', label='model performance')\n",
    "ax.plot(x, human_y, '--r', label='human performance')\n",
    "ax.plot(x, bayes_y, label='bayes error')\n",
    "ax.set_xlabel(\"Time\")\n",
    "ax.set_ylabel(\"Performance\")\n",
    "leg = ax.legend();"
   ]
  },
  {
   "cell_type": "markdown",
   "metadata": {},
   "source": [
    "The model's performance surpasses human performance relatively fast. Yet, it starts evolving remarkably slower after hitting that threshhold. There are two main reasons:\n",
    "1. The human performance in a number of tasks is quite close to optimal bayes performance.\n",
    "2. There are more techniques avaible to improve the model in the first stage:\n",
    "* Get labeled data from humans\n",
    "* gain insight from human experts\n",
    "* better analysis of bias/variance\n",
    "\n",
    "## 4.2 Bias and human\n",
    "One subtle, yet important, detail is the following: the performance on the training set is determined in relation to the Bayes error. In a good number of tasks such as computer vision, the Bayes error is estimated as the human error. This analysis holds when both train and dev sets are of the same distribution.\n",
    "### 4.2.1 Example\n",
    "Consider two systems each performing on two different tasks with the same results:\n",
    "* Train error: $8 \\%$\n",
    "* DEV error: $10 \\%$\n",
    "\n",
    "The first problem is associated with a $7.5 \\%$ Bayes error, while the second is associated with $1 \\%$ The first problem's results indicates that the model has low-bias (slightly less performant than a human), while the second problem's results indicates that the model is high bias.\n",
    "Thus the bias level is mainly determined by the difference between the model's training error and the Bayes error."
   ]
  },
  {
   "cell_type": "markdown",
   "metadata": {},
   "source": [
    "### 4.2.2 Human Level Performance\n",
    "The human level performance severs as an adequate approximation for the Bayes error. Yet, there can be several human-level performance values depending on which category of humans in performing the task. With high bias models, the choice does not differ much. However, as the model improves, the choice's importance increases. It mainly depends on the model's purpose and target users.\n",
    "#### Example\n",
    "Suppose there are several possible estimations for human-level performances for translation:\n",
    "* typical languistics student $2 \\%$\n",
    "* typical translator: $1 \\%$\n",
    "* Experienced (high tier) translator: $0.5 \\%$\n",
    "* Team of elite translator: $0.25\\%$  \n",
    "It is known that the Bayes error is less or equal to $0.25\\%$. However, the choice for human-level performance is situation-dependent. consider the following scenarios:\n",
    "1. \n",
    "    * Train Error: $8\\%$\n",
    "    * Dev Error: $9\\%$\n",
    "    * => it is clear that the avoidable bias is quite large and bias reduction techniques should be used\n",
    "2. \n",
    "    * Train Error: $3\\%$\n",
    "    * Dev Error: $7\\%$\n",
    "    * => Regardless of the human-level estimation, the variance is too large $4\\%$ which means that variance should be addressed. (then bias might be reduced for better overall performance)\n",
    "\n",
    "3. \n",
    "    * Train Error: $1\\%$\n",
    "    * Dev Error: $1.2\\%$\n",
    "    * => It is clear that either $0.5 \\%$ or $0.25 \\%$ should be used as human-level estimation (if futher improvement is wanted).\n",
    "\n",
    "4. as soon as the model performs better than the best human-level estimation, the typical error analysis is no longer exclusive. Thus, it might be worth experimenting to find an even better human-level estimation, or assume that the model is indeed overfitting. \n",
    "    \n"
   ]
  },
  {
   "cell_type": "markdown",
   "metadata": {},
   "source": [
    "## 5 Error analysis\n",
    "### 5.1 Categorizing errors\n",
    "Assuming we have a DL system with a $10\\%$ error for example. It is clear that the system is still high-bias. One systematic approaches is the following:  \n",
    "Consider the Dev set manually and divide the wrongly labeled samples into catagories (it might take a couple of iterations to notice the patterns). The percentage of samples in each category can determine the team next direction.\n",
    "#### Example\n",
    "For a cat dection system, we can find a couple of categories: dogs (fluffy ones), big cats (lions, tigers..), social media fitlers...  \n",
    "A reasonalbe decision is to choose the category with the largest percentage and try to improve the system's performance on that category: adding new features, maybe using ensemble learning with another model trainind to recognize that category's objects."
   ]
  },
  {
   "cell_type": "markdown",
   "metadata": {},
   "source": [
    "### 5.2 Uncorrectly Labeled data\n",
    "Certain errors might not be due to the model, but to wrong labels associated with data. To determine whether fixing such labels is worthwhile depends on the overall contribution of this mistake.  \n",
    "In other words, the same error analysis procedure mentioned above should be conducted. If the percentage of error due to mislabeled data is significant, then correcting labels is a wise decision. Otherwise, it might be delayed to a later stage. If labels' correction revealed worthwhile, it should include all samples (both correctly and uncorrectly classified by the model) in both test and dev sets."
   ]
  },
  {
   "cell_type": "markdown",
   "metadata": {},
   "source": [
    "## 6 Train-Dev-Test datasets\n",
    "### 6.1 Distributions\n",
    "In addition to the 2 datasets mentioned above, we consider the production data(set): the type of data the system will be working on once deployed. It is extremely important to have both ***DEV***, ***TEST*** and ***Production*** of the same distribution, or more imformally of the same source\n",
    "* (for images: bluriness, professional/amateur, resolution...) \n",
    "* (for audio clips: type of background noise, anomalies: stuttering, kids talking, thick accent...).  \n",
    "Certain techniques can be used to address differet distribution between training and other sets\n",
    "### 6.2 Bias Variance analysis with different distributions\n",
    "The analysis mentioned above might not be exclusive as there are two sources for the difference in error rate between train and dev sets:\n",
    "1. Predecting on new data\n",
    "2. The data on DEV set is from different distribution: the model is little or no trained at this type of data\n",
    "Thus, it is necessary to study the effect of each cause, by adding a $4$-th portion of the data as the training-dev set. This set is similar to the training set distribution wise. Yet, it should be unseed to the model. At Each iteration, 3 errors are present:\n",
    "* training error\n",
    "* training-dev error\n",
    "* dev error\n",
    "If the training-dev error represents a significant portion of the difference between training and dev error, then The model is of ***high variance*** and proper techniques should be used. Otherwise, The system is facing a ***data mismatch*** problem.7\n",
    "### 6.3 Addressing Data Mismatch\n",
    "No systematic, predefined techniques were conceived to address this issue. Yet, certain guidelines do exist.\n",
    "1. Conduct comparison between DEV and Training datasets\n",
    "2. Use such insight to synthesize data similar to the DEV set. \n",
    "#### Note\n",
    "When synthesizing data, it might be beneficial to try to diversify the synthetic data as the model might overfit to one type of data. For instance: Assuming a cat classification system struggles to recognize a rare type of cats. The DEV set is not large enough. It is worth considering that creating new data using only one type of detortion might mislead the model. It is more promising to create artificial data where the modifications include as many aspects as possible.\n"
   ]
  },
  {
   "cell_type": "markdown",
   "metadata": {},
   "source": [
    "## 7 Transfer Learning\n",
    "### 7.1 Main idea\n",
    "Transfer leaning is amont the most powerful ideas in DL and ML in general. It mainly using knowledge(or some parts of it) learnt from one problem to solve another.\n",
    "### 7.2 Technical implementation\n",
    "Assuming a Neural Network was implemented to solve problem A. Depending on much data is avaible for problem B, these are the options:\n",
    "1. Replacing the last layer and the last mapping matrix with randomized values and train only the additional matrix: few data for task B\n",
    "2. Replacing the last layer and the last mapping  matrix with randomized values and train the whole NN: reasonably large data for task B\n",
    "3. Either 1 or 2 but adding a number of layers before the ouput layer.\n",
    "### 7.3 Favorable Circumstances\n",
    "Transfer learning is fruitful provided: \n",
    "1. Tasks A and B have the same input format (images, audio clips...)\n",
    "2. Task A has significantly more data than task B \n",
    "3. The early low-level features constructed by the NN in task A can be useful for task B: The problem can be a spefic subset of task A such as:\n",
    "    * Moving from general speech recognition to recognizing key / trigger words\n",
    "    * Moving from image classification to radiological diagnosis: x-ray images."
   ]
  },
  {
   "cell_type": "markdown",
   "metadata": {},
   "source": [
    "## 8 Multi-Task Learning\n",
    "### 8.1 Main Idea\n",
    "Unlike transfer learning, mutli-task learning is learning in parallel from different problems. in other words, assuming $n$ tasks, the input is no longer uni-dimensional, but $n$ dimensional where each target can have from $0$ to $n$ labels. \n",
    "### 8.2 Technical Details\n",
    "assuming a loss function for a uni-dimensional target $L(y^{(i)}, \\hat{y}^{(i)})$ The general cost function is: \n",
    "$ \\begin{align}\n",
    "    J(\\theta, X, Y) = \\sum_{i=1}^{m} (\\sum_{j=1}^{n} L(y_j^{(i)}, \\hat{y}_j^{(i)})) \n",
    "\\end{align}$\n",
    "A more subtle detail is that the algorithm would still perform well even with imcompletely labeled data: Make sure the summation include only labeled samples\n",
    "### 8.3 Favorable circumstances\n",
    "It makes sense to use this technique provided:\n",
    "* trying to solve numerous tasks that can benefit from shared low-level features: faster and less expensive training\n",
    "* usually small amount of data allocated to each tasks: multi-task learning use all this data for every task: potential performance boost\n",
    "* resources are enough to train significantly large neural networks\n",
    "\n"
   ]
  },
  {
   "cell_type": "code",
   "execution_count": null,
   "metadata": {},
   "outputs": [],
   "source": []
  },
  {
   "cell_type": "markdown",
   "metadata": {},
   "source": []
  }
 ],
 "metadata": {
  "kernelspec": {
   "display_name": "Python 3.10.4 ('ds_env')",
   "language": "python",
   "name": "python3"
  },
  "language_info": {
   "codemirror_mode": {
    "name": "ipython",
    "version": 3
   },
   "file_extension": ".py",
   "mimetype": "text/x-python",
   "name": "python",
   "nbconvert_exporter": "python",
   "pygments_lexer": "ipython3",
   "version": "3.10.4"
  },
  "orig_nbformat": 4,
  "vscode": {
   "interpreter": {
    "hash": "08488e93894ea7be7272109919d40edb52233f14daf834f5f2387122a81730e1"
   }
  }
 },
 "nbformat": 4,
 "nbformat_minor": 2
}
