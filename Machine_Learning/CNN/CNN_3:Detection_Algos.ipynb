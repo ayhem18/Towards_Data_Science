{
 "cells": [
  {
   "cell_type": "markdown",
   "metadata": {},
   "source": [
    "Among the main applications of the Computer Vision field, is object:\n",
    "* classification\n",
    "* localization\n",
    "* detection \n",
    "Classification was discussed in previous Jupyter notebooks with different convolutions models. In this Notebook, we will consider Localization and detection problems"
   ]
  },
  {
   "cell_type": "markdown",
   "metadata": {},
   "source": [
    "## Localization\n",
    "Assuming we have $N$ types of object to detect. Then we consider $N + 1$ labels, where the first $N$ represent the $N$ types of objects while the last one is pseudo class representing none of the previous classes. The training data set should be proprocessed to contain images with only one of the classes in question. The labels vectors would be created as follows: \n",
    "$\\begin{align} \n",
    "\\begin{bmatrix}\n",
    "p_c \\\\\n",
    "b_x \\\\\n",
    "b_y \\\\\n",
    "b_h \\\\\n",
    "b_w \\\\\n",
    "c_1 \\\\\n",
    ".. \\\\\n",
    ".. \\\\\n",
    "c_N\n",
    "\\end{bmatrix}\n",
    "\\end{align}$\n",
    "where the object should be bound by a box. Therefore, $b_x$ and $b_y$ represent the coordinates of the center of this box while $b_h$ and $b_w$ represent the height and width respectively. The dimensions should be expressed by numerical values in the range $[0, 1]$ representing the percentage with the respect to the dimension of the image.    \n",
    "$C_i$ is assigned $1$ for the $i$ -th class and $0$ for different classes or probabilites of belonging to each class (depending on the implementation).  \n",
    "As for the loss function there are a number of options: \n",
    "1. Mean squared Error: $(\\hat{y} - y) ^ T \\cdot (\\hat{y} - y)$ for $y$ where $y_0 = 1$ and $(\\hat{y}_1 - y_1) ^ 2$ otherwise\n",
    "2. Logistic Loss"
   ]
  },
  {
   "cell_type": "markdown",
   "metadata": {},
   "source": [
    "### Landmark Detection\n",
    "it might be a powerful idea to train the model to detect certain special features such as the corner of the eyes, or the nose in certain pictures. Then, given labeled images with the positions of theses features indicates, Neural networks can both classify and detect these landmarks."
   ]
  },
  {
   "cell_type": "markdown",
   "metadata": {},
   "source": [
    "### Sliding Windows technique \n",
    "Sliding Windows is one of the first techniques used to detect an object's presence in a picture. First, train a Neural network to detect the object in question. The first data set is usually centered arouond the object. In other words, A car detection system would be first fed a large number of pictures with a car covering the vast majority of the picture.  \n",
    "The second step is to consider a small box and slide each one of them on the training data set.  At each slide/iteration, the box crops an image that is fed to the original neural network.  \n",
    "The process is repeated a number of times with different box sizes: hopefully sucessfully detect the object's presence.\n",
    "#### Evaluation\n",
    "This technique uses a quasi exhaustive search. Thus, the chances are pretty high, the model would output the correct label.  \n",
    "Obviously the slide value represent an important hyperparameter. As values too small lead to better performance while making the algorithm unacceptably slow while values too large might significantly hurt the performance."
   ]
  },
  {
   "cell_type": "markdown",
   "metadata": {},
   "source": []
  },
  {
   "cell_type": "markdown",
   "metadata": {},
   "source": []
  },
  {
   "cell_type": "markdown",
   "metadata": {},
   "source": []
  }
 ],
 "metadata": {
  "kernelspec": {
   "display_name": "Python 3.10.4 ('ds_env')",
   "language": "python",
   "name": "python3"
  },
  "language_info": {
   "codemirror_mode": {
    "name": "ipython",
    "version": 3
   },
   "file_extension": ".py",
   "mimetype": "text/x-python",
   "name": "python",
   "nbconvert_exporter": "python",
   "pygments_lexer": "ipython3",
   "version": "3.10.4"
  },
  "orig_nbformat": 4,
  "vscode": {
   "interpreter": {
    "hash": "08488e93894ea7be7272109919d40edb52233f14daf834f5f2387122a81730e1"
   }
  }
 },
 "nbformat": 4,
 "nbformat_minor": 2
}
