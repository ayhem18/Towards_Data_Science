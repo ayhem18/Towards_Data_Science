{
 "cells": [
  {
   "cell_type": "markdown",
   "metadata": {},
   "source": [
    "# Anomaly Detection systems\n",
    "## 1. Problem Statement\n",
    "Given a dataset $x^{(1)}, x^{(2)},.., x^{(m)}$, Anomaly detection is a machine learning algorithm capable of detecting examples that significantly differ from the ***normal*** examples. Fraud detection, manufacturing, data centers monotiring are few examples among the applications of such algorithms. \\\n",
    "The main idea is to devise a function $p(x)$ where $x$ is a vector of features considered. The classification would be as follows:\n",
    "$\\begin{aligned}\n",
    "classification = \\begin{equation}\n",
    "    \\begin{cases}\n",
    "      anomaly , ~ p(x) \\leq \\epsilon_1 \\\\\n",
    "      normal , ~ otherwise\n",
    "    \\end{cases}\n",
    "\\end{equation}\n",
    "\\end{aligned}$\n",
    "where $\\epsilon_1$ is the upper bound (for normal classification) and $\\epsilon_2$ is the lower bound."
   ]
  },
  {
   "cell_type": "markdown",
   "metadata": {},
   "source": [
    "\n",
    "## 2. Density Estimation\n",
    "### 2.1 Gaussian Normal Distribution\n",
    "A random variable $X$ is nomrally distributed with mean $\\mu$ and standard deviation $\\sigma$, alsot denoted as $X$ ~ $N(\\mu, \\sigma ^ 2)$ when the density function of $X$ satisfies the following equation:\n",
    "$\\begin{aligned}\n",
    "f_X(t) = \\frac{1}{\\sqrt{2 \\pi} \\sigma} \\cdot exp (- \\frac{(t - \\mu)^ 2}{2\\sigma ^ 2})\n",
    "\\end{aligned}$  \n",
    "where $\\mu$ is $E(X)$ also referred to as the mean, or the expected value, and $\\sigma^2$ is $Var(X)$ which is the variance. The following two plots represent the effect of changing the value of $\\mu$ and $\\sigma$"
   ]
  },
  {
   "cell_type": "code",
   "execution_count": 6,
   "metadata": {},
   "outputs": [
    {
     "data": {
      "image/png": "[encoded data removed]",
      "text/plain": [
       "<Figure size 432x288 with 1 Axes>"
      ]
     },
     "metadata": {
      "needs_background": "light"
     },
     "output_type": "display_data"
    }
   ],
   "source": [
    "import matplotlib.pyplot as plt\n",
    "import numpy as np\n",
    "\n",
    "# 100 linearly spaced numbers\n",
    "x = np.linspace(-5, 5, 100)\n",
    "\n",
    "fig, ax = plt.subplots()\n",
    "\n",
    "sigma_squared = 1\n",
    "for mu in [-3, -1, 1, 3]:\n",
    "    y = np.exp(- ((x-mu) ** 2)/ (2 * sigma_squared))\n",
    "    ax.plot(x, y, label='\\u03BC' + \" \" + str(mu))\n",
    "\n",
    "ax.spines['left'].set_position('center')\n",
    "ax.spines['bottom'].set_position('zero')\n",
    "ax.spines['right'].set_color('none')\n",
    "ax.spines['top'].set_color('none')\n",
    "ax.xaxis.set_ticks_position('bottom')\n",
    "ax.yaxis.set_ticks_position('left')\n",
    "\n",
    "ax.axis('equal')\n",
    "leg = ax.legend();"
   ]
  },
  {
   "cell_type": "code",
   "execution_count": 10,
   "metadata": {},
   "outputs": [
    {
     "data": {
      "image/png": "[encoded data removed]",
      "text/plain": [
       "<Figure size 432x288 with 1 Axes>"
      ]
     },
     "metadata": {
      "needs_background": "light"
     },
     "output_type": "display_data"
    }
   ],
   "source": [
    "# 100 linearly spaced numbers\n",
    "x = np.linspace(-5, 7, 100)\n",
    "\n",
    "fig, ax = plt.subplots()\n",
    "\n",
    "mu = 1\n",
    "for sigma_squared in [0.25, 0.5, 2, 4]:\n",
    "    y = np.exp(- ((x-mu) ** 2)/ (2 * sigma_squared))\n",
    "    ax.plot(x, y, label='\\u03C3' + \"^2= \" + str(sigma_squared))\n",
    "\n",
    "ax.spines['left'].set_position('center')\n",
    "ax.spines['bottom'].set_position('zero')\n",
    "ax.spines['right'].set_color('none')\n",
    "ax.spines['top'].set_color('none')\n",
    "ax.xaxis.set_ticks_position('bottom')\n",
    "ax.yaxis.set_ticks_position('left')\n",
    "\n",
    "ax.axis('equal')\n",
    "leg = ax.legend();"
   ]
  },
  {
   "cell_type": "markdown",
   "metadata": {},
   "source": [
    "### 2.2 Mathematical properties of Gaussian distribution\n",
    "The [Central limit theorem](https://sphweb.bumc.bu.edu/otlt/mph-modules/bs/bs704_probability/BS704_Probability12.html#:~:text=The%20central%20limit%20theorem%20states,will%20be%20approximately%20normally%20distributed.) makes the Gaussian distribution an extremely powerful tool in probability theory and statistics. Given a sample data $x^{(1)}, x^{(2)},... x^{(m)}$ with $m$ large enough $X$ can be modeled as a gaussian distribution with \n",
    "$\\begin{aligned} \\begin{equation}\n",
    "    \\begin{cases}\n",
    "        \\mu = \\frac{1}{m} \\sum_{i=1}^{m} x^{(i)} \\\\\n",
    "        \\sigma ^ 2= \\frac{1}{m - 1} \\sum_{i=1}^{m} (x^{(i)} - \\mu) ^ 2\n",
    "    \\end{cases}\n",
    "\\end{equation} \\end{aligned}$\n",
    "The fraction $\\frac{1}{m-1}$ is chosen so that $\\frac{1}{m - 1} \\sum_{i=1}^{m} (x^{(i)} - \\mu) ^ 2$ is an unbiased estimator. On practice, it might be replaced with $\\frac{1}{m}$"
   ]
  },
  {
   "cell_type": "markdown",
   "metadata": {},
   "source": [
    "### 2.3 Final form\n",
    "Consider a features vector $x^{(i)} \\in \\mathbb{R} ^ {n}$ and a dataset $x^{(1)}, x^{(2)},... x^{(m)}$. We can assume each of the features as an independent random variable $X_j$ and given $m$ large enough, the following assumption holds:\n",
    "$\\begin{aligned} \n",
    "X_j \\sim N(\\mu_j, \\sigma_j ^ 2)\n",
    "\\end{aligned}$\n",
    "Where $\\mu_j = \\frac{1}{m} \\sum_{i=1}^{m} x^{(i)}_j $ and $\\sigma_j ^ 2  = \\frac{1}{m - 1} \\sum_{i=1}^{m} (x^{(i)}_j - \\mu_j) ^ 2$\n",
    "Given these two assumptions, We can devise the density function of the vector $\\vec{x}$\n",
    "\n",
    "$\\begin{aligned}\n",
    "P(\\vec{x}) = \\prod_{i=1}^{n} P(x_j, \\mu_j, \\sigma^2_j)\n",
    "\\end{aligned}$"
   ]
  },
  {
   "cell_type": "markdown",
   "metadata": {},
   "source": [
    "## 3. Building an Anomaly Detection System\n",
    "### 3.1 training data\n",
    "Assuming we have $m$ normal (non-anamolous) samples and $k$ anamolous samples, where $m$ is significantly larger than $n$. The recommended approach is as follows:\n",
    "* consider $\\frac{m}{2}$ non-anamolous samples to devise the density function.\n",
    "* consider $\\frac{m}{4}$ non-anamolous samples and $\\frac{n}{2}$ anamolous samples as cross validation set\n",
    "* consider the rest of the samples (both types) as a test set.\n",
    "\n",
    "The parameter tuning, should be based on the results of the cross validation set. It is crucial to consider the skewed nature of the data during the performace evaluation.\n",
    "### 3.2 Features choice\n",
    "To improve the algorithm's performance, it is preferrable to have the training data distribution as close to the normal distribution as possible. Therefore, certain transformation might reveal necessary, applying logarithmic or polynomial would possibly reshape the data's distribution.\\\n",
    "Additionally, the density function $p(\\vec x)$ should output large values for normal examples, and small ones for anomalous examples. Performance-wise, the most challenging problem is having $p(\\vec x)$ comparable for both positive and negative examples. The recommended approach is to consider the anomalous and devise a certain feature that reflects the anomaly. \n"
   ]
  },
  {
   "cell_type": "markdown",
   "metadata": {},
   "source": [
    "## 4. Anomaly Detection VS Supervised Learning\n",
    "Due to the nature of data, the supervised learning might represent itself as a potential solution for our use-case. Yet, there are certain circumstances that determine which \n",
    "1. Anomaly Detection\n",
    "* very small number of positive examples (anomolous samples)\n",
    "* significanly larger number of negative examples\n",
    "* many types of anomalies that are hard to learn out of the low number of positive examples\n",
    "* future anomalies might be significanlty different from the ones presented in the dataset\n",
    "* fraud detection, manufacturing, monotoring machines in data centers\n",
    "\n",
    "2. Supervised Learning\n",
    "* Large number of both positive and negative examples\n",
    "* enough positive examples to successfully predict future anomalies\n",
    "* Email spam classification, weather prediction, diseases classification"
   ]
  },
  {
   "cell_type": "markdown",
   "metadata": {},
   "source": [
    "## 5. Extending the Anomaly Detection\n",
    "### 5.1 The basic model limitations\n",
    "Even though the initial model reaches an acceptable efficiency, it might fail to detect certain anomalous correlations between different features. Alternatively, let's assume that a normal range(considered seperately) for $x_1$ is $R_1 = [a_1, b_1]$ while the $x_2$'s normal range is $R_2 = [a_2, b_2]$. Additionally, a features analysis would reach the conclusion that these two features grow linearly with each other. The density function \n",
    "$\\begin{aligned}\n",
    "P(\\vec{x}) = \\prod_{i=1}^{n} P(x_j, \\mu_j, \\sigma^2_j)\\end{aligned}$ is likely to detect $x_1 \\notin R_1$ or $x_2 \\notin R_2$. Yet, it might fall short to detect anomalous non-linear growth of both features. Hence the use of the multivariate density function."
   ]
  },
  {
   "cell_type": "markdown",
   "metadata": {},
   "source": [
    "### 5.2 The multivariate Gaussian distribution.\n",
    "Having $\\vec{X} = (x_1, x_2, ... x_n)$ where $x_j \\sim N(\\mu_j, \\sigma_j ^ 2)$. The multivariate Guassian density function would be:\n",
    "$\\begin{aligned}\n",
    "f(\\vec{X}) = \\frac{1}{\\sqrt{2\\pi}^n \\sqrt{det \\Sigma}} exp(-\\frac{1}{2}(\\vec{X} - \\mu)^T \\Sigma^{-1}(\\vec{X} - \\mu))\n",
    "\\end{aligned}$\n",
    "where $\\mu$ = \n",
    "$\\begin{bmatrix} \\mu_1 \\\\ \\mu_2 \\\\ .. \\\\ .. \\\\ \\mu_n\n",
    "\\end{bmatrix}$ and \n",
    "$\\Sigma$ is covariance matrix \n",
    "$\\begin{bmatrix} cov(x_1, x_1) && cov(x_1, x_2) && .. && cov(x_1, x_n) \\\\\n",
    "cov(x_2, x_1) && cov(x_2, x_2) && .. && cov(x_2, x_n) \\\\\n",
    ".. && .. && .. && .. && \\\\\n",
    "cov(x_n, x_1) && cov(x_n, x_2) && .. && cov(x_n, x_n) \\\\\n",
    "\\end{bmatrix}$ reflecting the different correlations between features.\n",
    "Given a dataset $(x^{(1)}, x^{(2)},...,x^{(n)})$ the parametes $\\mu$ and $\\Sigma$ can be estimated as follows:\n",
    "$\\begin{aligned} \\begin{equation}\n",
    "    \\begin{cases}\n",
    "        \\mu = \\frac{1}{m} \\sum_{i=1}^{m} x^{(i)} \\\\\n",
    "        \\sigma ^ 2= \\frac{1}{m} \\sum_{i=1}^{m} (x^{(i)} - \\mu)(x^{(i)} - \\mu)^{T}\n",
    "    \\end{cases}\n",
    "\\end{equation} \\end{aligned}$"
   ]
  },
  {
   "cell_type": "markdown",
   "metadata": {},
   "source": [
    "### 5.3 Relation between basic and multivariate models\n",
    "It is possible to mathematically prove that original model is a subclass of the multivariate one. More formally, the first model is the same as the second one for \n",
    "$\\Sigma = \\begin{bmatrix} \\sigma_1^2 && 00 && 00 && .. && 00 \\\\ \n",
    "00 && \\sigma_2^2 && 00 && .. && 00\\\\\n",
    "00 && 00 && \\sigma_3^2 && 00 && 00 \\\\\n",
    ".. && .. && .. && .. && ..\\\\\n",
    "00 && 00 && 00 && 00 && \\sigma_n^2\n",
    "\\end{bmatrix}$\n",
    "To choose which of the models to use, certain considerations should be taken into account\n",
    "1. Basic model\n",
    "* requires manually devising more complex features that reflect correlation between features\n",
    "* computationally cheaper: scalles bettwe with large values of $n$\n",
    "* performs relatively well for small training datasets\n",
    "2. Multivariate model\n",
    "* automatically captures correlations\n",
    "* computationally more expensive, as the matrix inverse operation can be estimated as $O(n^3)$ \n",
    "* requires a large number of training samples $m$ is significantly larger than $n$"
   ]
  },
  {
   "cell_type": "markdown",
   "metadata": {},
   "source": [
    "### 5.4 Technical Notes\n",
    "In case the covariance matrix is not invertible, there are two main possible reasons:\n",
    "1. $m < n$, $\\Sigma$ is a symmetric $n * n$ matrix. Thus, it has $\\frac{n ^ 2}{2}$ variables which requires a large number of samples.\n",
    "2. certain features $x_j$ are redundant, or more formally, the vectors $x_i$ are not linearly independent."
   ]
  }
 ],
 "metadata": {
  "interpreter": {
   "hash": "0e6cc62e2280f752aa7e5178eced3fb8e0cbe7333ea77893546e6db4cefb4290"
  },
  "kernelspec": {
   "display_name": "Python 3.9.7",
   "language": "python",
   "name": "python3"
  },
  "language_info": {
   "codemirror_mode": {
    "name": "ipython",
    "version": 3
   },
   "file_extension": ".py",
   "mimetype": "text/x-python",
   "name": "python",
   "nbconvert_exporter": "python",
   "pygments_lexer": "ipython3",
   "version": "3.9.7"
  },
  "orig_nbformat": 4
 },
 "nbformat": 4,
 "nbformat_minor": 2
}
