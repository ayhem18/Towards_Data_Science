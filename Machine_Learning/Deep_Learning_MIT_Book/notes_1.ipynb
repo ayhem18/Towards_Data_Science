{
 "cells": [
  {
   "attachments": {},
   "cell_type": "markdown",
   "metadata": {},
   "source": [
    "# overview \n",
    "This notebook is created to save notes from the famous ***deep-learning-adaptive-computation-and-machine-learning-series*** book and learnt the concepts long-term."
   ]
  },
  {
   "attachments": {},
   "cell_type": "markdown",
   "metadata": {},
   "source": [
    "# Introduction\n",
    "Humans have always sought creating machines (let's say non-human presences/existences) that can think: or probably simulate the human's intelligence with different species. It turned out the most computationally demanding tasks for humans are among the simplest for computers. The real challenge is to **teach** the computer how to execute tasks that are quite simple and intuitive to humans. Humans function in this world thanks to simple set of unwritten, intuitive, extremely hard to formalize rules. This knowledge as it is hard to formalize seems extremely difficult for a computer to acquire.  \n",
    "\n",
    "In the merge of the Artificial intelligence area, several attempts were made to formalize humans' knowledge, hard coding a set of rules and feeding in it to the computer in the hope that inference rules will enable the computers to infer more complex premises about the world. Nevertheless, none of these attempts led to any major successes.   \n",
    "\n",
    "Representation in computer science and life in general has played a major role in solving complex problems, as one encoding of a problem can simply make the problem so trivial while another can complicate it even further. Machine Learning algorithms can map the given features (the extraction process might generally be guided by domain's knowledge) to the desired output. ML models have no conceptual understanding of the given numbers: are they the dimensions, number of rooms in a hourse, are they the price of a certain stock for the last 24 hours. Thus, the success of a ML model hugely depends on a good set of features as well as human supervision. One possible solution is to design models that extract the features themselves from the very raw data."
   ]
  },
  {
   "cell_type": "code",
   "execution_count": null,
   "metadata": {},
   "outputs": [],
   "source": []
  }
 ],
 "metadata": {
  "kernelspec": {
   "display_name": "Python 3.9.12 ('ds_env')",
   "language": "python",
   "name": "python3"
  },
  "language_info": {
   "name": "python",
   "version": "3.9.12"
  },
  "orig_nbformat": 4,
  "vscode": {
   "interpreter": {
    "hash": "7bb0ce5cb6b092cde9f0ba713d915425207ed6ea08d3ede97530b87c251a3aee"
   }
  }
 },
 "nbformat": 4,
 "nbformat_minor": 2
}
