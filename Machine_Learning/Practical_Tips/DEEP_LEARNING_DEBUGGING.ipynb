{
 "cells": [
  {
   "attachments": {},
   "cell_type": "markdown",
   "metadata": {},
   "source": [
    "# Overview\n",
    "These notes are taken to understand how to debug a Deep Learning model in general.   \n",
    "The next section is inspired from the following [site](https://neptune.ai/blog/debugging-deep-learning-model-training)"
   ]
  },
  {
   "cell_type": "code",
   "execution_count": null,
   "metadata": {},
   "outputs": [],
   "source": []
  }
 ],
 "metadata": {
  "language_info": {
   "name": "python"
  },
  "orig_nbformat": 4
 },
 "nbformat": 4,
 "nbformat_minor": 2
}
