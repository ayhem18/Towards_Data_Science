{
 "cells": [
  {
   "cell_type": "markdown",
   "metadata": {},
   "source": [
    "# Solutions to Data Science Problems\n",
    "This notebook is created to save notes and general guidelines on how to approach data science (well machine learning) problems."
   ]
  },
  {
   "cell_type": "markdown",
   "metadata": {},
   "source": [
    "## Resources\n",
    "* [link1](https://www.kaggle.com/code/startupsci/titanic-data-science-solutions)\n"
   ]
  },
  {
   "cell_type": "markdown",
   "metadata": {},
   "source": [
    "## 1st Step: understand your data\n",
    "Understanding is a process of asking questions and finding answers to those questions. Among the important questions:\n",
    "* which features are categorical ?\n",
    "* which features are numerical ?\n",
    "* which features are of mixed type ? (that will generally be set to dobject in pandas dataframe)\n",
    "* which features may contain errors or typos ?\n",
    "* which features may contain NaN values ?\n",
    "* getting insights about the numerical values, for example if we are considering the Titanic dataset:  \n",
    "\n",
    "    * $30\\%$ of passengers had siblings\n",
    "    * $38\\%$ of the samples survived, while the actual survival rate is around $32\\%$ \n",
    "\n",
    "* getting insights about the categorical values, sticking with the same example:  \n",
    "    * ticket features has a large ratio of duplicates: $22\\%$"
   ]
  },
  {
   "cell_type": "markdown",
   "metadata": {},
   "source": [
    "## 2nd step: forming basic assumptions on data\n",
    "The assumptions can be croadly be categorized into:\n",
    "1. ***completing***: which features are directly correlated with the solution and their missing values should be filled\n",
    "2. ***Correcting***: which features might be dropped, or manipulated to create a new feature out of it.\n",
    "3. ***Creating***: certain features are not meaningfull bythemselves: create familily size out of Parcha and SibSp, title out of name, dividing continous ages into bands and intervals."
   ]
  },
  {
   "cell_type": "markdown",
   "metadata": {},
   "source": [
    "It is important to confirm these assumptions with pivotting tables and visualizing the data. Based on these assumptions, we can drop the unncessary columns, extract or enginner useful ones."
   ]
  },
  {
   "cell_type": "markdown",
   "metadata": {},
   "source": [
    "### Completing missing values\n",
    "There are number of ways to complete missing values:\n",
    "1. generate random numbers that perserves the previous mean and variance\n",
    "2. a more accurate way is to use correlated features to guess the missing values: group the values by certain values and choose the median, mean of such groups\n",
    "3. combine methods 1 and 2 $\\implies$ random values based on the mean and variance of the created groups \n",
    "\n",
    "The most preferable option is the $2$-nd one as the other two introduce noise to our model and results might vary with every run."
   ]
  }
 ],
 "metadata": {
  "kernelspec": {
   "display_name": "Python 3.10.4 ('ds_env')",
   "language": "python",
   "name": "python3"
  },
  "language_info": {
   "name": "python",
   "version": "3.10.4"
  },
  "orig_nbformat": 4,
  "vscode": {
   "interpreter": {
    "hash": "08488e93894ea7be7272109919d40edb52233f14daf834f5f2387122a81730e1"
   }
  }
 },
 "nbformat": 4,
 "nbformat_minor": 2
}
