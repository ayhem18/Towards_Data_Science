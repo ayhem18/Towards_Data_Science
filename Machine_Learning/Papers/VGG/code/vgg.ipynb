{
 "cells": [
  {
   "attachments": {},
   "cell_type": "markdown",
   "metadata": {},
   "source": [
    "# VGG\n",
    "The most special thing about the [VGG](https://arxiv.org/abs/1409.1556) architecture is its simplicity. It emperically proved the significance of depth of Neural Networks. \n",
    "Theoretically, there is not much to say about the paper. Nevertheless, I would like to use the main idea to create my own shallower version of VGG architectures and experiment with them on simpler problems / datasets. "
   ]
  },
  {
   "cell_type": "code",
   "execution_count": null,
   "metadata": {},
   "outputs": [],
   "source": []
  }
 ],
 "metadata": {
  "language_info": {
   "name": "python"
  },
  "orig_nbformat": 4
 },
 "nbformat": 4,
 "nbformat_minor": 2
}
