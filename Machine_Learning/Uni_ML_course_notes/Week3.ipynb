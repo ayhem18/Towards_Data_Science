{
 "cells": [
  {
   "cell_type": "markdown",
   "metadata": {},
   "source": [
    "## Week3\n",
    "This notebook is created to track important notes on the material discussed in the 3rd week of the ML course at my university.\n",
    "\n",
    "* $F_1$ score is a more reliable metric mainly for class-unbalanced datasets where one class is much heavily represented than others: it can be interprested as teh model's ability to capture both postive and negative classes.\n",
    "\n",
    "\n",
    "* The effect of moving the threshold in  Logistic Regression:\n",
    "* One versus All: consider $n$ binary classificaiton problems where at each problem we consider the class $i$ and other classes as not $i$. \n",
    "* One versus One: take all $C^{2}_{n}$ combincations and make a hyperplane for each of them. The final target is determined by some aggregation methods."
   ]
  },
  {
   "cell_type": "markdown",
   "metadata": {},
   "source": [
    "* any preprocessing module should be run only on the training dataset. because in real world situations, we do not have access to the test dataset.\n",
    "* Precision, recall are used as performance metrics depending mainly on the model's usage. If we need to be sure about the negative class, then we use recall, if we need to sure about the positive class, it makes sense to use precision."
   ]
  }
 ],
 "metadata": {
  "kernelspec": {
   "display_name": "Python 3.10.4 ('ds_env')",
   "language": "python",
   "name": "python3"
  },
  "language_info": {
   "name": "python",
   "version": "3.10.4"
  },
  "orig_nbformat": 4,
  "vscode": {
   "interpreter": {
    "hash": "006414dea9a04848ce797b510a25f3f28ac8668e3d3244e777242cca6bed477f"
   }
  }
 },
 "nbformat": 4,
 "nbformat_minor": 2
}
