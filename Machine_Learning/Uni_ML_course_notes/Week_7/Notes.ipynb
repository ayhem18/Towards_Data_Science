{
 "cells": [
  {
   "cell_type": "markdown",
   "metadata": {},
   "source": [
    "# Notes\n",
    "*no_grad mode in pytorch can be used to optimze memory and computation resources, then if we want to evaluate the model, (at the end or, in the middle of traninig), we can perform this task more efficiently since no grad calculations are needed. \n",
    "\n",
    "* from a theoretical point of view, if we have a dataset that is large enough, then we do not need epochs. However, since in most cases, we use advanced optimizations algorithms that work on single instances/examples. This randomness compensates for iterating oevr the same exampl more than twice."
   ]
  }
 ],
 "metadata": {
  "language_info": {
   "name": "python"
  },
  "orig_nbformat": 4
 },
 "nbformat": 4,
 "nbformat_minor": 2
}
