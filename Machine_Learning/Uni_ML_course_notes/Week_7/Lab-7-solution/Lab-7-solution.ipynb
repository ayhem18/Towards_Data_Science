{
 "cells": [
  {
   "cell_type": "markdown",
   "metadata": {
    "collapsed": true,
    "pycharm": {
     "name": "#%% md\n"
    }
   },
   "source": [
    "# Lab-7: ANN in Pytorch\n",
    "\n",
    "In this lab, you will practice simple deep learning model in Pytorch.\n",
    "\n",
    "\n",
    "## Objectives:\n",
    "1. Theoretical issues\n",
    "2. Get starting in Pytorch\n",
    "___"
   ]
  },
  {
   "cell_type": "markdown",
   "metadata": {
    "pycharm": {
     "name": "#%% md\n"
    }
   },
   "source": [
    "### Theoretical issues\n",
    "Ordinary fully connected neural nets consists of Dense layers, activations, and output layer.\n",
    "\n",
    "1. What's the difference between deep learning and normal machine learning?\n",
    "<span style=\"color:blue\"> 1- Adding more data for traditional ML algorithms, won't improve\n",
    "\t  the performance and the learning curve will saturate (plateau), but for DL, you can get better performance.\n",
    "\t<br/>2- There's no feature extraction step in a lot of cases like in CNN\n",
    "\t<br/>3- It need high computational power in training.\n",
    "2. How does a neural network with no hidden layers and one output neuron compare to a logistic/linear regression?\n",
    "<span style=\"color:blue\"> There's no difference. NN with no hidden layers is perceptron which has the same architecture of logistic/linear regression. If the activation function in the output layer is linear and loss is mse then it is linear regression. If the activation function in the output layer is sigmoid and the loss is the logloss then it is logistic regression.\n",
    "3. How does a neural network with multiple hidden layers but with linear activation and one output neuron compared to logistic/linear regression?\n",
    "<span style=\"color:blue\"> Also, there's no difference. Take as an example this image:\n",
    "![alt text](https://ujwlkarn.files.wordpress.com/2016/08/screen-shot-2016-08-09-at-4-19-50-am.png?w=996&h=736)\n",
    "Derive the output neuron in this simple network, given the activation function is this linear function: f(x) = x, You will find it is a linear combination of the input variables.\n",
    "4. Can the perceptron find a non-linear decision boundary?\n",
    "<span style=\"color:blue\"> No, as long as the the logits (logOdds which is the input to the sigmoid function) is a linear combination of the input variables then it can only find a linear decision boundary.\n",
    "5. In multi-hidden layers network, what's the need of non-linear activation function?\n",
    "<span style=\"color:blue\"> To capture the non linear patterns in the relation between the input and the output.\n",
    "6. Is random weight assignment better than assigning same weights to the units in the hidden layer.\n",
    "<span style=\"color:blue\"> Yes, as assigning the same weight to the unit won't learn anything from the error signal propagated from the output layer as the error signal value depends on the value of the weight itels, so the hidden layer before the output layer all of the units will get the same value of the error and they will change to the same value as well and same for all units in the network.\n",
    "---"
   ]
  },
  {
   "cell_type": "markdown",
   "metadata": {},
   "source": [
    "## Pytorch: Getting started \n",
    "\n",
    "### Feed Forward Neural Network\n",
    "An artificial neural network wherein connections between the nodes do not form a cycle.\n",
    "It consists of : \n",
    "\n",
    "- Input Layer  \n",
    "- Hidden Layer(s)\n",
    "- Output Layer\n",
    "\n",
    "![alt text](https://images.deepai.org/django-summernote/2019-06-06/5c17d9c2-0ad4-474c-be8d-d6ae9b094e74.png)\n",
    "\n",
    "\n",
    "The neural network contents units, typically called \"neurons\".  Each unit has some number of weighted inputs. These weighted inputs are summed together (a linear combination) then passed through an activation function to get the unit's output.\n",
    "\n",
    "<center>\n",
    "<img src=\"./assets/simple_neuron.png\" alt=\"drawing\" style=\"width:400px;\"/> \n",
    "</center>\n",
    "\n",
    "Mathematically this equivalent to:\n",
    "<center>\n",
    "\n",
    "$ \n",
    " y = f(w_1x_1 + w_2x_2 + b)\n",
    "$\n",
    "\n",
    "$ \n",
    " y = f\\left(\\sum_{i=1}^{N} w_ix_i + b\\right)\n",
    "$\n",
    "\n",
    "</center>"
   ]
  },
  {
   "cell_type": "markdown",
   "metadata": {},
   "source": [
    "\n",
    "### Tensors\n",
    "\n",
    "It turns out neural network computations are just a bunch of linear algebra operations on tensors, a generalization of matrices. A vector is a 1-dimensional tensor, a matrix is a 2-dimensional tensor, an array with three indices is a 3-dimensional tensor (RGB color images for example). The fundamental data structure for neural networks are tensors and PyTorch (as well as pretty much every other deep learning framework) is built around tensors.\n",
    " \n",
    "\n",
    "<img src=\"./assets/tensor_examples.svg\" width=\"600px\">\n",
    "\n",
    "Just like Numpy arrays, Pytorch tensors can be added, multiplied, subtracted, etc.\n",
    "\n",
    "#### A simple neuron with tensors"
   ]
  },
  {
   "cell_type": "code",
   "execution_count": 1,
   "metadata": {},
   "outputs": [],
   "source": [
    "import torch \n",
    "\n",
    "def activation(x):\n",
    "    \"\"\" Sigmoid activation function \n",
    "    \n",
    "        Arguments\n",
    "        ---------\n",
    "        x: torch.Tensor\n",
    "    \"\"\"\n",
    "    return 1/(1+torch.exp(-x))"
   ]
  },
  {
   "cell_type": "markdown",
   "metadata": {},
   "source": [
    "We generate data we need to compute the output of the neuron. We have `5` input features, just random for now. "
   ]
  },
  {
   "cell_type": "code",
   "execution_count": 2,
   "metadata": {},
   "outputs": [],
   "source": [
    "### Generate some data\n",
    "torch.manual_seed(7) # Set the random seed so things are predictable\n",
    "\n",
    "# Features are 5 random normal variables\n",
    "features = torch.randn((1, 5))\n",
    "\n",
    "# True weights for our data, random normal variables again\n",
    "weights = torch.randn_like(features)\n",
    "\n",
    "# and a true bias term\n",
    "bias = torch.randn((1, 1))"
   ]
  },
  {
   "cell_type": "markdown",
   "metadata": {},
   "source": [
    "> **Task**: Calculate the output of the network with input features `features`, weights `weights`, and bias `bias`. Similar to Numpy, PyTorch has a [`torch.sum()`](https://pytorch.org/docs/stable/torch.html#torch.sum) function, as well as a `.sum()` method on tensors, for taking sums. Use the function `activation` defined above as the activation function."
   ]
  },
  {
   "cell_type": "code",
   "execution_count": 3,
   "metadata": {},
   "outputs": [
    {
     "data": {
      "text/plain": [
       "tensor([[0.1595]])"
      ]
     },
     "execution_count": 3,
     "metadata": {},
     "output_type": "execute_result"
    }
   ],
   "source": [
    "# Compute the output here\n",
    "y = activation(torch.sum(features * weights) + bias)\n",
    "y"
   ]
  },
  {
   "cell_type": "markdown",
   "metadata": {},
   "source": [
    "You can do the multiplication and sum in the same operation using a matrix multiplication. In general, you'll want to use matrix multiplications since they are more efficient and accelerated using modern libraries and high-performance computing on GPUs.\n",
    "\n",
    "We can perform the same operation using matrice multiplication. Useuse [`torch.mm()`](https://pytorch.org/docs/stable/torch.html#torch.mm) or [`torch.matmul()`](https://pytorch.org/docs/stable/torch.html#torch.matmul) which is somewhat more complicated and supports broadcasting. If we try to do it with `features` and `weights` as they are.\n",
    "\n",
    "**Note** When doing matrice multiplication consider reshaping matrix in correct shape to avoid error. \n",
    "\n",
    "There are a few options here: [`weights.reshape()`](https://pytorch.org/docs/stable/tensors.html#torch.Tensor.reshape), [`weights.resize_()`](https://pytorch.org/docs/stable/tensors.html#torch.Tensor.resize_), and [`weights.view()`](https://pytorch.org/docs/stable/tensors.html#torch.Tensor.view).\n",
    "\n",
    "* `weights.reshape(a, b)` will return a new tensor with the same data as `weights` with size `(a, b)` sometimes, and sometimes a clone, as in it copies the data to another part of memory.\n",
    "* `weights.resize_(a, b)` returns the same tensor with a different shape. However, if the new shape results in fewer elements than the original tensor, some elements will be removed from the tensor (but not from memory). If the new shape results in more elements than the original tensor, new elements will be uninitialized in memory. Here I should note that the underscore at the end of the method denotes that this method is performed **in-place**. Here is a great forum thread to [read more about in-place operations](https://discuss.pytorch.org/t/what-is-in-place-operation/16244) in PyTorch.\n",
    "* `weights.view(a, b)` will return a new tensor with the same data as `weights` with size `(a, b)`.\n",
    "\n",
    "> **Task**:  Compute the output of the single unit network using matrix multiplicatiom"
   ]
  },
  {
   "cell_type": "code",
   "execution_count": 4,
   "metadata": {},
   "outputs": [
    {
     "data": {
      "text/plain": [
       "tensor([[0.1595]])"
      ]
     },
     "execution_count": 4,
     "metadata": {},
     "output_type": "execute_result"
    }
   ],
   "source": [
    "# Your solution here\n",
    "y = activation(torch.mm(features, weights.view(5,1)) + bias)\n",
    "y"
   ]
  },
  {
   "cell_type": "markdown",
   "metadata": {},
   "source": [
    "### Multi layer network\n",
    "\n",
    "We saw how to compute the output of single unit network. The power of neural networks come when multiple units into layers. \n",
    "The output of one layer of neurons becomes the input for the next layer. With multiple input units and output units, we now need to express the weights as a matrix.\n",
    "\n",
    "<img src='./assets/multilayer_diagram_weights.png' width=450px>\n",
    "\n",
    "The first layer shown on the bottom here are the inputs, understandably called the **input layer**. The middle layer is called the **hidden layer**, and the final layer (on the right) is the **output layer**. We can express this network mathematically with matrices again and use matrix multiplication to get linear combinations for each unit in one operation. For example, the hidden layer ($h_1$ and $h_2$ here) can be calculated \n",
    "\n",
    "$$\n",
    "\\vec{h} = [h_1 \\, h_2] = \n",
    "\\begin{bmatrix}\n",
    "x_1 \\, x_2 \\cdots \\, x_n\n",
    "\\end{bmatrix}\n",
    "\\cdot \n",
    "\\begin{bmatrix}\n",
    "           w_{11} & w_{12} \\\\\n",
    "           w_{21} &w_{22} \\\\\n",
    "           \\vdots &\\vdots \\\\\n",
    "           w_{n1} &w_{n2}\n",
    "\\end{bmatrix}\n",
    "$$\n",
    "\n",
    "The output for this small network is found by treating the hidden layer as inputs for the output unit. The network output is expressed simply\n",
    "\n",
    "$$\n",
    "y =  f_2 \\! \\left(\\, f_1 \\! \\left(\\vec{x} \\, \\mathbf{W_1}\\right) \\mathbf{W_2} \\right)\n",
    "$$ "
   ]
  },
  {
   "cell_type": "code",
   "execution_count": 5,
   "metadata": {},
   "outputs": [],
   "source": [
    "### Generate some data\n",
    "torch.manual_seed(7) # Set the random seed so things are predictable\n",
    "\n",
    "# Features are 3 random normal variables\n",
    "features = torch.randn((1, 3))\n",
    "\n",
    "# Define the size of each layer in our network\n",
    "n_input = features.shape[1]     # Number of input units, must match number of input features\n",
    "n_hidden = 2                    # Number of hidden units \n",
    "n_output = 1                    # Number of output units\n",
    "\n",
    "# Weights for inputs to hidden layer\n",
    "W1 = torch.randn(n_input, n_hidden)\n",
    "# Weights for hidden layer to output layer\n",
    "W2 = torch.randn(n_hidden, n_output)\n",
    "\n",
    "# and bias terms for hidden and output layers\n",
    "B1 = torch.randn((1, n_hidden))\n",
    "B2 = torch.randn((1, n_output))"
   ]
  },
  {
   "cell_type": "markdown",
   "metadata": {},
   "source": [
    "> **Task:** Calculate and print the output for this multi-layer network using the weights `W1` & `W2`, and the biases, `B1` & `B2`. The correct value should be `tensor([[0.3171]])` "
   ]
  },
  {
   "cell_type": "code",
   "execution_count": 6,
   "metadata": {},
   "outputs": [
    {
     "name": "stdout",
     "output_type": "stream",
     "text": [
      "tensor([[0.3171]])\n"
     ]
    }
   ],
   "source": [
    "### Solution\n",
    "\n",
    "h = activation(torch.mm(features, W1) + B1)\n",
    "output = activation(torch.mm(h, W2) + B2)\n",
    "print(output)"
   ]
  },
  {
   "cell_type": "markdown",
   "metadata": {},
   "source": [
    "### Pytorch Autograd\n",
    "\n",
    "Automatic differentiation package : **No need to worry about back propagation partial derivatives and chain rule** \n",
    "\n",
    "Tensors track their computational history and support gradient computation\n",
    "\n",
    "`requires_grad=True` : Tells PyTorch that we want to compute gradients for the specific tensor"
   ]
  },
  {
   "cell_type": "code",
   "execution_count": 7,
   "metadata": {},
   "outputs": [
    {
     "name": "stdout",
     "output_type": "stream",
     "text": [
      "None\n"
     ]
    }
   ],
   "source": [
    "x = torch.tensor(5.0, requires_grad=True)\n",
    "print(x.grad) # no gradient at the initialization"
   ]
  },
  {
   "cell_type": "markdown",
   "metadata": {},
   "source": [
    "The `backward()` function is responsible for calculation of gradients and accumulate (not apply) them in respective tensors\n",
    "\n",
    "The tensor with `requires_grad=True`: has attribute to check the gradients values : `grad`\n",
    "\n",
    "Let's consider a function of x. \n",
    "$f(x) = x^2 + 2x + 1$\n",
    "\n",
    "\n",
    ">**Question** what is the gradient at the point $x=5$\n",
    "\n",
    "**the derivate of $f$ is $f'(x) = 2x + 2$. for $x=5$ the gradient is 12**\n",
    "\n",
    "The following code will compute and accumulate the gradient w.r.t $x$"
   ]
  },
  {
   "cell_type": "code",
   "execution_count": 8,
   "metadata": {},
   "outputs": [
    {
     "name": "stdout",
     "output_type": "stream",
     "text": [
      "tensor(36., grad_fn=<AddBackward0>) True\n",
      "tensor(12.)\n"
     ]
    }
   ],
   "source": [
    "# we compute some function f(x) = x^2 + 2x + 1\n",
    "z = x ** 2 + 2*x + 1\n",
    "\n",
    "print(z, z.requires_grad)\n",
    "\n",
    "z.backward() # compute and propagate the gradient\n",
    "\n",
    "print(x.grad)"
   ]
  },
  {
   "cell_type": "markdown",
   "metadata": {},
   "source": [
    "Run the previous cell several time and see how the value of the gradient changes\n",
    "\n",
    "**Note**: Because the gradient is accumulated everytime you call `backward()` it is important to zero the accumulated values before any calculations, i.e., `x.grad = None` or `zero_grad()` for optimizers.\n",
    "\n",
    "\n",
    "\n",
    "To stop PyTorch from tracking the history and forming the backward graph, the code can be wrapped inside with torch.no_grad(): It will make the code run faster whenever gradient tracking is not needed. "
   ]
  },
  {
   "cell_type": "code",
   "execution_count": 9,
   "metadata": {},
   "outputs": [
    {
     "name": "stdout",
     "output_type": "stream",
     "text": [
      "tensor(36.) False\n"
     ]
    }
   ],
   "source": [
    "with torch.no_grad():\n",
    "    # we compute some function f(x) = x^2 + 2x + 1\n",
    "    z = x ** 2 + 2*x + 1\n",
    "\n",
    "    print(z, z.requires_grad)\n",
    "\n",
    "    # z.backward()  will trigger an eoor no gradient is tracked"
   ]
  },
  {
   "cell_type": "markdown",
   "metadata": {},
   "source": [
    "Backward graph is created automatically and dynamically by autograd class during forward pass. Backward() simply calculates the gradients by passing its argument to the already made backward graph."
   ]
  },
  {
   "cell_type": "code",
   "execution_count": 10,
   "metadata": {},
   "outputs": [
    {
     "name": "stdout",
     "output_type": "stream",
     "text": [
      "Gradient w.r.t x =  tensor([0., 5., 3.])\n",
      "Gradient w.r.t y =  tensor([ 1.,  2., 10.])\n"
     ]
    }
   ],
   "source": [
    "x = torch.tensor([1.0, 2.0, 10.0], requires_grad = True)\n",
    "y = torch.tensor([0.0, 5.0, 3], requires_grad = True)\n",
    "\n",
    "z = x * y\n",
    "\n",
    "z.backward(torch.tensor([1.0, 1.0, 1.0])) # compute the gradient usinng an external gradient\n",
    "print(\"Gradient w.r.t x = \", x.grad)\n",
    "print(\"Gradient w.r.t y = \", y.grad)"
   ]
  },
  {
   "cell_type": "markdown",
   "metadata": {},
   "source": [
    "### Tensor to numpy array and vice-versa\n",
    "\n",
    "PyTorch has a great feature for converting between Numpy arrays and Torch tensors. To create a tensor from a Numpy array, use `torch.from_numpy()`. To convert a tensor to a Numpy array, use the `.numpy()` method."
   ]
  },
  {
   "cell_type": "code",
   "execution_count": 11,
   "metadata": {},
   "outputs": [
    {
     "data": {
      "text/plain": [
       "array([[0.81746892, 0.26997304, 0.15500502],\n",
       "       [0.77212426, 0.16101084, 0.76808677],\n",
       "       [0.66080116, 0.26276712, 0.57408233],\n",
       "       [0.95425432, 0.58564736, 0.41584042]])"
      ]
     },
     "execution_count": 11,
     "metadata": {},
     "output_type": "execute_result"
    }
   ],
   "source": [
    "import numpy as np\n",
    "a = np.random.rand(4,3)\n",
    "a"
   ]
  },
  {
   "cell_type": "code",
   "execution_count": 12,
   "metadata": {},
   "outputs": [
    {
     "data": {
      "text/plain": [
       "tensor([[0.8175, 0.2700, 0.1550],\n",
       "        [0.7721, 0.1610, 0.7681],\n",
       "        [0.6608, 0.2628, 0.5741],\n",
       "        [0.9543, 0.5856, 0.4158]], dtype=torch.float64)"
      ]
     },
     "execution_count": 12,
     "metadata": {},
     "output_type": "execute_result"
    }
   ],
   "source": [
    "b = torch.from_numpy(a)\n",
    "b"
   ]
  },
  {
   "cell_type": "code",
   "execution_count": 13,
   "metadata": {},
   "outputs": [
    {
     "data": {
      "text/plain": [
       "array([[0.81746892, 0.26997304, 0.15500502],\n",
       "       [0.77212426, 0.16101084, 0.76808677],\n",
       "       [0.66080116, 0.26276712, 0.57408233],\n",
       "       [0.95425432, 0.58564736, 0.41584042]])"
      ]
     },
     "execution_count": 13,
     "metadata": {},
     "output_type": "execute_result"
    }
   ],
   "source": [
    "b.numpy()"
   ]
  },
  {
   "cell_type": "markdown",
   "metadata": {
    "pycharm": {
     "name": "#%% md\n"
    }
   },
   "source": [
    "\n",
    "## Model Design in Pytorch\n",
    "Now we're going to build a larger network that can solve a (formerly) difficult problem, identifying text in an image. Here we'll use the MNIST dataset which consists of greyscale handwritten digits. Each image is 28x28 pixels, you can see a sample below.:\n",
    " \n",
    "<img src=\"./assets/mnist.png\" width=\"500px\"> \n",
    "\n",
    "Our goal is to build a neural network that can take one of these images and predict the digit in the image.\n",
    "\n",
    "we have three simple parts that we need to build:\n",
    "1. Data Loading process.\n",
    "2. Model building.\n",
    "3. the training loops.\n",
    "\n",
    "### 1. Data Loading\n",
    "\n",
    "Data Loading in pytorch is very easy and broken into 3 steps:\n",
    "1. Data Source.\n",
    "2. Data Transformations.\n",
    "3. Data Loader.\n",
    "\n",
    "\n",
    "\n",
    "#### Loading data\n",
    "\n",
    "Pytorch uses data loading utility which is called `DataLoader` that supports:\n",
    "automatic batching, transformation, single- and multi-process data loading and more.."
   ]
  },
  {
   "cell_type": "code",
   "execution_count": 14,
   "metadata": {
    "pycharm": {
     "name": "#%%\n"
    }
   },
   "outputs": [
    {
     "name": "stdout",
     "output_type": "stream",
     "text": [
      "Downloading http://yann.lecun.com/exdb/mnist/train-images-idx3-ubyte.gz\n",
      "Downloading http://yann.lecun.com/exdb/mnist/train-images-idx3-ubyte.gz to ../data/MNIST/raw/train-images-idx3-ubyte.gz\n"
     ]
    },
    {
     "data": {
      "application/json": {
       "ascii": false,
       "bar_format": null,
       "colour": null,
       "elapsed": 0.020907163619995117,
       "initial": 0,
       "n": 0,
       "ncols": null,
       "nrows": null,
       "postfix": null,
       "prefix": "",
       "rate": null,
       "total": 9912422,
       "unit": "it",
       "unit_divisor": 1000,
       "unit_scale": false
      },
      "application/vnd.jupyter.widget-view+json": {
       "model_id": "f194c59480704353b19b0a883277928a",
       "version_major": 2,
       "version_minor": 0
      },
      "text/plain": [
       "  0%|          | 0/9912422 [00:00<?, ?it/s]"
      ]
     },
     "metadata": {},
     "output_type": "display_data"
    },
    {
     "name": "stdout",
     "output_type": "stream",
     "text": [
      "Extracting ../data/MNIST/raw/train-images-idx3-ubyte.gz to ../data/MNIST/raw\n",
      "\n",
      "Downloading http://yann.lecun.com/exdb/mnist/train-labels-idx1-ubyte.gz\n",
      "Downloading http://yann.lecun.com/exdb/mnist/train-labels-idx1-ubyte.gz to ../data/MNIST/raw/train-labels-idx1-ubyte.gz\n"
     ]
    },
    {
     "data": {
      "application/json": {
       "ascii": false,
       "bar_format": null,
       "colour": null,
       "elapsed": 0.02372574806213379,
       "initial": 0,
       "n": 0,
       "ncols": null,
       "nrows": null,
       "postfix": null,
       "prefix": "",
       "rate": null,
       "total": 28881,
       "unit": "it",
       "unit_divisor": 1000,
       "unit_scale": false
      },
      "application/vnd.jupyter.widget-view+json": {
       "model_id": "c07ffe8a0ccd4f7db1804240c8993db0",
       "version_major": 2,
       "version_minor": 0
      },
      "text/plain": [
       "  0%|          | 0/28881 [00:00<?, ?it/s]"
      ]
     },
     "metadata": {},
     "output_type": "display_data"
    },
    {
     "name": "stdout",
     "output_type": "stream",
     "text": [
      "Extracting ../data/MNIST/raw/train-labels-idx1-ubyte.gz to ../data/MNIST/raw\n",
      "\n",
      "Downloading http://yann.lecun.com/exdb/mnist/t10k-images-idx3-ubyte.gz\n",
      "Downloading http://yann.lecun.com/exdb/mnist/t10k-images-idx3-ubyte.gz to ../data/MNIST/raw/t10k-images-idx3-ubyte.gz\n"
     ]
    },
    {
     "data": {
      "application/json": {
       "ascii": false,
       "bar_format": null,
       "colour": null,
       "elapsed": 0.04730963706970215,
       "initial": 0,
       "n": 0,
       "ncols": null,
       "nrows": null,
       "postfix": null,
       "prefix": "",
       "rate": null,
       "total": 1648877,
       "unit": "it",
       "unit_divisor": 1000,
       "unit_scale": false
      },
      "application/vnd.jupyter.widget-view+json": {
       "model_id": "4b3b9edb7aeb4d06bd1c0b9e9b4d8d92",
       "version_major": 2,
       "version_minor": 0
      },
      "text/plain": [
       "  0%|          | 0/1648877 [00:00<?, ?it/s]"
      ]
     },
     "metadata": {},
     "output_type": "display_data"
    },
    {
     "name": "stdout",
     "output_type": "stream",
     "text": [
      "Extracting ../data/MNIST/raw/t10k-images-idx3-ubyte.gz to ../data/MNIST/raw\n",
      "\n",
      "Downloading http://yann.lecun.com/exdb/mnist/t10k-labels-idx1-ubyte.gz\n",
      "Downloading http://yann.lecun.com/exdb/mnist/t10k-labels-idx1-ubyte.gz to ../data/MNIST/raw/t10k-labels-idx1-ubyte.gz\n"
     ]
    },
    {
     "data": {
      "application/json": {
       "ascii": false,
       "bar_format": null,
       "colour": null,
       "elapsed": 0.02995014190673828,
       "initial": 0,
       "n": 0,
       "ncols": null,
       "nrows": null,
       "postfix": null,
       "prefix": "",
       "rate": null,
       "total": 4542,
       "unit": "it",
       "unit_divisor": 1000,
       "unit_scale": false
      },
      "application/vnd.jupyter.widget-view+json": {
       "model_id": "4b623cf837a74471bedfe7eac4a0e257",
       "version_major": 2,
       "version_minor": 0
      },
      "text/plain": [
       "  0%|          | 0/4542 [00:00<?, ?it/s]"
      ]
     },
     "metadata": {},
     "output_type": "display_data"
    },
    {
     "name": "stdout",
     "output_type": "stream",
     "text": [
      "Extracting ../data/MNIST/raw/t10k-labels-idx1-ubyte.gz to ../data/MNIST/raw\n",
      "\n"
     ]
    }
   ],
   "source": [
    "from torchvision import datasets, transforms\n",
    "from torch. utils.data import DataLoader\n",
    "\n",
    "batch_size = 32\n",
    "test_batch_size = 100\n",
    "\n",
    "data_transformations = transforms.Compose([\n",
    "                           transforms.ToTensor(),\n",
    "                           transforms.Normalize((0.1307,), (0.3081,))\n",
    "                       ])\n",
    "\n",
    "mnist_train = datasets.MNIST('../data', train=True, download=True,\n",
    "                       transform=data_transformations)\n",
    "mnist_test = datasets.MNIST('../data', train=False,\n",
    "                            transform=data_transformations)\n",
    "\n",
    "train_loader = DataLoader(mnist_train,\n",
    "                          batch_size=batch_size, shuffle=True)\n",
    "test_loader = DataLoader(mnist_test,\n",
    "                         batch_size=test_batch_size, shuffle=True)"
   ]
  },
  {
   "cell_type": "code",
   "execution_count": 15,
   "metadata": {},
   "outputs": [
    {
     "name": "stdout",
     "output_type": "stream",
     "text": [
      "Label= tensor(0)\n"
     ]
    },
    {
     "data": {
      "text/plain": [
       "<matplotlib.image.AxesImage at 0x7f98e6d4da80>"
      ]
     },
     "execution_count": 15,
     "metadata": {},
     "output_type": "execute_result"
    },
    {
     "data": {
      "image/png": "[encoded data removed]",
      "text/plain": [
       "<Figure size 640x480 with 1 Axes>"
      ]
     },
     "metadata": {},
     "output_type": "display_data"
    }
   ],
   "source": [
    "import matplotlib.pyplot as plt\n",
    "images, labels = next(iter(train_loader))\n",
    "\n",
    "print('Label=', labels[0])\n",
    "plt.imshow(images[0].reshape(28,28), cmap=\"gray\")"
   ]
  },
  {
   "cell_type": "markdown",
   "metadata": {},
   "source": [
    "First, let's try to build a simple network for this dataset using weight matrices and matrix multiplications. Then, we'll see how to do it using PyTorch's `nn` module which provides a much more convenient and powerful method for defining network architectures.\n",
    "\n",
    "We will create fully connected layers (Each unit in one layer is connected to each unit in the next layer) with following architecture:\n",
    "\n",
    "- Input layer of size `784 = 28x28`: this correspond to the *flattening* of the input image, i.e., tranform the 2D images into 1D vectors. Having batch size of `32`, the input size will be `(32, 784)` \n",
    "- Two hidden layers with 256 and 100 units\n",
    "- Output layer with 10 units corresponding to number of classes\n",
    "\n",
    "> **Task**: Flatten the batch of images images. Then build a multi-layer network with 784 input units, 100 hidden units, 100 hidden units, and 10 output units using random tensors for the weights and biases. For now, use a sigmoid activation for the hidden layer. Leave the output layer without an activation, we'll add one that gives us a probability distribution next.\n"
   ]
  },
  {
   "cell_type": "code",
   "execution_count": 16,
   "metadata": {},
   "outputs": [
    {
     "data": {
      "text/plain": [
       "torch.Size([32, 10])"
      ]
     },
     "execution_count": 16,
     "metadata": {},
     "output_type": "execute_result"
    }
   ],
   "source": [
    "## Solution\n",
    "def activation(x):\n",
    "    return 1/(1+torch.exp(-x))\n",
    "\n",
    "# Flatten the input images\n",
    "inputs = images.view(images.shape[0], -1)\n",
    "\n",
    "# Create parameters with random initialization\n",
    "w1 = torch.randn(784, 256)\n",
    "b1 = torch.randn(256)\n",
    "\n",
    "w2 = torch.randn(256, 100)\n",
    "b2 = torch.randn(100)\n",
    "\n",
    "w3 = torch.randn(100, 10)\n",
    "b3 = torch.randn(10)\n",
    "\n",
    "# Write the code to compute the output of network from the image inputs\n",
    "h1 = activation(torch.mm(inputs, w1) + b1)\n",
    "\n",
    "h2 = activation(torch.mm(h1, w2) + b2)\n",
    "\n",
    "out = activation(torch.mm(h2, w3) + b3)\n",
    "\n",
    "out.shape"
   ]
  },
  {
   "cell_type": "markdown",
   "metadata": {},
   "source": [
    "Now we have 10 outputs for our network. We want to pass in an image to our network and get out a probability distribution over the classes that tells us the likely class(es) the image belongs to. Something that looks like this: \n",
    "\n",
    "<image src=\"./assets/image_distribution.png\" width=\"400px\">\n",
    "\n",
    "Here we see that the probability for each class is roughly the same. This is representing an untrained network, it hasn't seen any data yet so it just returns a uniform distribution with equal probabilities for each class.\n",
    "\n",
    "To calculate this probability distribution, we often use the softmax function. Mathematically this looks like:\n",
    "\n",
    "\n",
    "#### $\\sigma(x_i) = \\dfrac{e^{x_i}}{\\sum_{j=1}^{K}e^{x_j}}$\n",
    "\n",
    "\n",
    "What this does is squish each input between 0 and 1 and normalizes the values to give you a proper probability distribution where the probabilites sum up to one."
   ]
  },
  {
   "cell_type": "markdown",
   "metadata": {},
   "source": [
    "**Task**: Implement a function softmax that performs the softmax calculation and returns probability distributions for each example in the batch. Note that you'll need to pay attention to the shapes when doing this. If you have a tensor `a` with shape `(32, 10)` and a tensor `b` with shape `(32,)`, doing `a/b` will give you an error because PyTorch will try to do the division across the columns (called broadcasting) but you'll get a size mismatch. The way to think about this is for each of the 32 examples, you only want to divide by one value, the sum in the denominator. So you need b to have a shape of `(32, 1)`. This way PyTorch will divide the 10 values in each row of a by the one value in each row of b. Pay attention to how you take the sum as well. You'll need to define the dim keyword in torch.sum. Setting dim=0 takes the sum across the rows while `dim=1` takes the sum across the columns."
   ]
  },
  {
   "cell_type": "code",
   "execution_count": 17,
   "metadata": {},
   "outputs": [
    {
     "name": "stdout",
     "output_type": "stream",
     "text": [
      "torch.Size([32, 10])\n",
      "tensor([1.0000, 1.0000, 1.0000, 1.0000, 1.0000, 1.0000, 1.0000, 1.0000, 1.0000,\n",
      "        1.0000, 1.0000, 1.0000, 1.0000, 1.0000, 1.0000, 1.0000, 1.0000, 1.0000,\n",
      "        1.0000, 1.0000, 1.0000, 1.0000, 1.0000, 1.0000, 1.0000, 1.0000, 1.0000,\n",
      "        1.0000, 1.0000, 1.0000, 1.0000, 1.0000])\n"
     ]
    }
   ],
   "source": [
    "## Solution\n",
    "def softmax(x):\n",
    "    # return the softmax\n",
    "    return torch.exp(x)/torch.sum(torch.exp(x), dim=1).view(-1, 1)\n",
    "\n",
    "probabilities = softmax(out)\n",
    "\n",
    "# Does it have the right shape? Should be (64, 10)\n",
    "print(probabilities.shape)\n",
    "# Does it sum to 1?\n",
    "print(probabilities.sum(dim=1))"
   ]
  },
  {
   "cell_type": "markdown",
   "metadata": {
    "pycharm": {
     "name": "#%% md\n"
    }
   },
   "source": [
    "#### Model building\n",
    "\n",
    "PyTorch provides a module `nn` that makes building networks much simpler. Here I'll show you how to build the same one as above with 784 inputs, 256 hidden units,  100 hidden units,, 10 output units and a softmax output.\n",
    "\n",
    "1. Defining components: <br/>\n",
    "This step is done in the constructor, where you will define the layers that will be used accordingly in the next step.\n",
    "2. Network flow: <br/>\n",
    "This step is done in the forward function. Where you will get the input batch as an argument then you will use the defined layers in the previous step to define the flow of the network then you will return the output batch.\n",
    "\n",
    "\n",
    "Pytorch is a dynamic framework, where you can use primitive python keywords with it.\n",
    "You can use if and while statements. Also, it can accepts and returns more than one batch."
   ]
  },
  {
   "cell_type": "code",
   "execution_count": 18,
   "metadata": {
    "pycharm": {
     "name": "#%%\n"
    }
   },
   "outputs": [
    {
     "name": "stdout",
     "output_type": "stream",
     "text": [
      "Net(\n",
      "  (hidden1): Linear(in_features=784, out_features=256, bias=True)\n",
      "  (hidden2): Linear(in_features=256, out_features=100, bias=True)\n",
      "  (output): Linear(in_features=100, out_features=10, bias=True)\n",
      ")\n"
     ]
    }
   ],
   "source": [
    "import torch\n",
    "import torch.nn as nn\n",
    "import torch.nn.functional as F\n",
    "\n",
    "class Net(nn.Module):\n",
    "    def __init__(self):\n",
    "        super(Net, self).__init__()\n",
    "        self.hidden1 = nn.Linear(28*28, 256)        \n",
    "        # Write 2 lines to define 2 more linear layers.\n",
    "        # 1 hidden layers with number of neurons numbers: 250 and 100\n",
    "        # 1 output layer that should output 10 neurons, one for each class.\n",
    "        self.hidden2 = nn.Linear(256, 100) \n",
    "        self.output = nn.Linear(100, 10) \n",
    "\n",
    "\n",
    "    def forward(self, x):\n",
    "        # the linear layers fc1, fc2, fc3, and fc4\n",
    "        # accepts only flattened input (1D batches)\n",
    "        # while the batch x is of size (batch, 28 * 28)\n",
    "        # define one line to flatten the x to be of size (batch_sz, 28 * 28)\n",
    "        x = x.view(-1, 28*28)\n",
    "        x = F.relu(self.hidden1(x))\n",
    "        x = F.relu(self.hidden2(x))\n",
    "        x = self.output(x)\n",
    "        return F.log_softmax(x, dim=1)\n",
    "\n",
    "use_cuda = torch.cuda.is_available()\n",
    "device = torch.device(\"cuda\" if use_cuda else \"cpu\")\n",
    "model = Net().to(device)\n",
    "\n",
    "print(model)"
   ]
  },
  {
   "cell_type": "markdown",
   "metadata": {
    "pycharm": {
     "name": "#%% md\n"
    }
   },
   "source": [
    "### Training loops\n",
    "After that we should define the loops over tha batches and run the training on."
   ]
  },
  {
   "cell_type": "code",
   "execution_count": 19,
   "metadata": {
    "pycharm": {
     "name": "#%%\n"
    }
   },
   "outputs": [],
   "source": [
    "epochs = 10\n",
    "lr = 0.01\n",
    "momentum = 0.5\n",
    "log_interval = 10\n",
    "\n",
    "criterion = nn.NLLLoss() # negative log loss"
   ]
  },
  {
   "cell_type": "code",
   "execution_count": 20,
   "metadata": {
    "pycharm": {
     "name": "#%%\n"
    }
   },
   "outputs": [],
   "source": [
    "def train( model, device, train_loader, optimizer, epoch):\n",
    "    model.train()\n",
    "    for batch_idx, (data, target) in enumerate(train_loader):\n",
    "        data, target = data.to(device), target.to(device)\n",
    "        optimizer.zero_grad()\n",
    "        output = model(data)\n",
    "        loss = criterion(output, target)\n",
    "        loss.backward()\n",
    "        optimizer.step()\n",
    "        if batch_idx % log_interval == 0:\n",
    "            print('Train Epoch: {} [{}/{} ({:.0f}%)]\\tLoss: {:.6f}'.format(\n",
    "                epoch, batch_idx * len(data), len(train_loader.dataset),\n",
    "                       100. * batch_idx / len(train_loader), loss.item()))"
   ]
  },
  {
   "cell_type": "code",
   "execution_count": 21,
   "metadata": {
    "pycharm": {
     "name": "#%%\n"
    }
   },
   "outputs": [],
   "source": [
    "def test( model, device, test_loader):\n",
    "    model.eval()\n",
    "    test_loss = 0\n",
    "    correct = 0\n",
    "    with torch.no_grad():\n",
    "        for data, target in test_loader:\n",
    "            # Do the same that was done in the previous function.\n",
    "            # But without backprobagating the loss and without running the optimizers\n",
    "            # As this function is only for test.\n",
    "            # write 3 lines to transform the data to the device, get the output and compute the loss\n",
    "            data, target = data.to(device), target.to(device)\n",
    "            output = model(data)\n",
    "            test_loss += F.nll_loss(output, target, reduction='sum').item()  # sum up batch loss\n",
    "            pred = output.argmax(dim=1, keepdim=True)  # get the index of the max log-probability\n",
    "            correct += pred.eq(target.view_as(pred)).sum().item()\n",
    "\n",
    "    test_loss /= len(test_loader.dataset)\n",
    "\n",
    "    print('\\rTest set: Average loss: {:.4f}, Accuracy: {}/{} ({:.0f}%)\\n'.format(\n",
    "        test_loss, correct, len(test_loader.dataset),\n",
    "        100. * correct / len(test_loader.dataset)))"
   ]
  },
  {
   "cell_type": "markdown",
   "metadata": {},
   "source": [
    "> **Question**: How to check if the neural network model is overfitting?v\n",
    "\n",
    "<span style=\"color:blue\"> Track the training and the testing losses during the training, if the loss on test set starts increasing then the model is overfitting"
   ]
  },
  {
   "cell_type": "code",
   "execution_count": 22,
   "metadata": {
    "pycharm": {
     "name": "#%%\n"
    }
   },
   "outputs": [
    {
     "name": "stdout",
     "output_type": "stream",
     "text": [
      "Train Epoch: 1 [0/60000 (0%)]\tLoss: 2.314716\n",
      "Train Epoch: 1 [320/60000 (1%)]\tLoss: 2.294615\n",
      "Train Epoch: 1 [640/60000 (1%)]\tLoss: 2.200132\n",
      "Train Epoch: 1 [960/60000 (2%)]\tLoss: 2.117995\n",
      "Train Epoch: 1 [1280/60000 (2%)]\tLoss: 2.047817\n",
      "Train Epoch: 1 [1600/60000 (3%)]\tLoss: 1.972666\n",
      "Train Epoch: 1 [1920/60000 (3%)]\tLoss: 1.803920\n",
      "Train Epoch: 1 [2240/60000 (4%)]\tLoss: 1.646397\n",
      "Train Epoch: 1 [2560/60000 (4%)]\tLoss: 1.442107\n",
      "Train Epoch: 1 [2880/60000 (5%)]\tLoss: 1.394910\n",
      "Train Epoch: 1 [3200/60000 (5%)]\tLoss: 1.128933\n",
      "Train Epoch: 1 [3520/60000 (6%)]\tLoss: 1.220533\n",
      "Train Epoch: 1 [3840/60000 (6%)]\tLoss: 1.089290\n",
      "Train Epoch: 1 [4160/60000 (7%)]\tLoss: 1.013167\n",
      "Train Epoch: 1 [4480/60000 (7%)]\tLoss: 0.820810\n",
      "Train Epoch: 1 [4800/60000 (8%)]\tLoss: 0.626434\n",
      "Train Epoch: 1 [5120/60000 (9%)]\tLoss: 0.849811\n",
      "Train Epoch: 1 [5440/60000 (9%)]\tLoss: 0.699650\n",
      "Train Epoch: 1 [5760/60000 (10%)]\tLoss: 0.713503\n",
      "Train Epoch: 1 [6080/60000 (10%)]\tLoss: 0.597470\n",
      "Train Epoch: 1 [6400/60000 (11%)]\tLoss: 0.626098\n",
      "Train Epoch: 1 [6720/60000 (11%)]\tLoss: 0.692202\n",
      "Train Epoch: 1 [7040/60000 (12%)]\tLoss: 0.499127\n",
      "Train Epoch: 1 [7360/60000 (12%)]\tLoss: 0.670500\n",
      "Train Epoch: 1 [7680/60000 (13%)]\tLoss: 0.545045\n",
      "Train Epoch: 1 [8000/60000 (13%)]\tLoss: 0.264014\n",
      "Train Epoch: 1 [8320/60000 (14%)]\tLoss: 0.350187\n",
      "Train Epoch: 1 [8640/60000 (14%)]\tLoss: 0.472619\n",
      "Train Epoch: 1 [8960/60000 (15%)]\tLoss: 0.415042\n",
      "Train Epoch: 1 [9280/60000 (15%)]\tLoss: 0.403420\n",
      "Train Epoch: 1 [9600/60000 (16%)]\tLoss: 0.452328\n",
      "Train Epoch: 1 [9920/60000 (17%)]\tLoss: 0.652192\n",
      "Train Epoch: 1 [10240/60000 (17%)]\tLoss: 0.514286\n",
      "Train Epoch: 1 [10560/60000 (18%)]\tLoss: 0.391313\n",
      "Train Epoch: 1 [10880/60000 (18%)]\tLoss: 0.311616\n",
      "Train Epoch: 1 [11200/60000 (19%)]\tLoss: 0.357603\n",
      "Train Epoch: 1 [11520/60000 (19%)]\tLoss: 0.315414\n",
      "Train Epoch: 1 [11840/60000 (20%)]\tLoss: 0.437110\n",
      "Train Epoch: 1 [12160/60000 (20%)]\tLoss: 0.509628\n",
      "Train Epoch: 1 [12480/60000 (21%)]\tLoss: 0.236528\n",
      "Train Epoch: 1 [12800/60000 (21%)]\tLoss: 0.595422\n",
      "Train Epoch: 1 [13120/60000 (22%)]\tLoss: 0.507362\n",
      "Train Epoch: 1 [13440/60000 (22%)]\tLoss: 0.224542\n",
      "Train Epoch: 1 [13760/60000 (23%)]\tLoss: 0.335499\n",
      "Train Epoch: 1 [14080/60000 (23%)]\tLoss: 0.492058\n",
      "Train Epoch: 1 [14400/60000 (24%)]\tLoss: 0.661815\n",
      "Train Epoch: 1 [14720/60000 (25%)]\tLoss: 0.244539\n",
      "Train Epoch: 1 [15040/60000 (25%)]\tLoss: 0.329210\n",
      "Train Epoch: 1 [15360/60000 (26%)]\tLoss: 0.344126\n",
      "Train Epoch: 1 [15680/60000 (26%)]\tLoss: 0.092692\n",
      "Train Epoch: 1 [16000/60000 (27%)]\tLoss: 0.265987\n",
      "Train Epoch: 1 [16320/60000 (27%)]\tLoss: 0.444454\n",
      "Train Epoch: 1 [16640/60000 (28%)]\tLoss: 0.159557\n",
      "Train Epoch: 1 [16960/60000 (28%)]\tLoss: 0.565512\n",
      "Train Epoch: 1 [17280/60000 (29%)]\tLoss: 0.468222\n",
      "Train Epoch: 1 [17600/60000 (29%)]\tLoss: 0.349769\n",
      "Train Epoch: 1 [17920/60000 (30%)]\tLoss: 0.420628\n",
      "Train Epoch: 1 [18240/60000 (30%)]\tLoss: 0.447350\n",
      "Train Epoch: 1 [18560/60000 (31%)]\tLoss: 0.259314\n",
      "Train Epoch: 1 [18880/60000 (31%)]\tLoss: 0.499434\n",
      "Train Epoch: 1 [19200/60000 (32%)]\tLoss: 0.322636\n",
      "Train Epoch: 1 [19520/60000 (33%)]\tLoss: 0.361557\n",
      "Train Epoch: 1 [19840/60000 (33%)]\tLoss: 0.344355\n",
      "Train Epoch: 1 [20160/60000 (34%)]\tLoss: 0.073829\n",
      "Train Epoch: 1 [20480/60000 (34%)]\tLoss: 0.500013\n",
      "Train Epoch: 1 [20800/60000 (35%)]\tLoss: 0.313680\n",
      "Train Epoch: 1 [21120/60000 (35%)]\tLoss: 0.084413\n",
      "Train Epoch: 1 [21440/60000 (36%)]\tLoss: 0.446777\n",
      "Train Epoch: 1 [21760/60000 (36%)]\tLoss: 0.217178\n",
      "Train Epoch: 1 [22080/60000 (37%)]\tLoss: 0.196563\n",
      "Train Epoch: 1 [22400/60000 (37%)]\tLoss: 0.671747\n",
      "Train Epoch: 1 [22720/60000 (38%)]\tLoss: 0.516682\n",
      "Train Epoch: 1 [23040/60000 (38%)]\tLoss: 0.424101\n",
      "Train Epoch: 1 [23360/60000 (39%)]\tLoss: 0.394365\n",
      "Train Epoch: 1 [23680/60000 (39%)]\tLoss: 0.341221\n",
      "Train Epoch: 1 [24000/60000 (40%)]\tLoss: 0.222589\n",
      "Train Epoch: 1 [24320/60000 (41%)]\tLoss: 0.144035\n",
      "Train Epoch: 1 [24640/60000 (41%)]\tLoss: 0.518498\n",
      "Train Epoch: 1 [24960/60000 (42%)]\tLoss: 0.168937\n",
      "Train Epoch: 1 [25280/60000 (42%)]\tLoss: 0.087234\n",
      "Train Epoch: 1 [25600/60000 (43%)]\tLoss: 0.298701\n",
      "Train Epoch: 1 [25920/60000 (43%)]\tLoss: 0.462014\n",
      "Train Epoch: 1 [26240/60000 (44%)]\tLoss: 0.417924\n",
      "Train Epoch: 1 [26560/60000 (44%)]\tLoss: 0.151830\n",
      "Train Epoch: 1 [26880/60000 (45%)]\tLoss: 0.140215\n",
      "Train Epoch: 1 [27200/60000 (45%)]\tLoss: 0.279271\n",
      "Train Epoch: 1 [27520/60000 (46%)]\tLoss: 0.255690\n",
      "Train Epoch: 1 [27840/60000 (46%)]\tLoss: 0.377336\n",
      "Train Epoch: 1 [28160/60000 (47%)]\tLoss: 0.281144\n",
      "Train Epoch: 1 [28480/60000 (47%)]\tLoss: 0.348125\n",
      "Train Epoch: 1 [28800/60000 (48%)]\tLoss: 0.317416\n",
      "Train Epoch: 1 [29120/60000 (49%)]\tLoss: 0.341856\n",
      "Train Epoch: 1 [29440/60000 (49%)]\tLoss: 0.680021\n",
      "Train Epoch: 1 [29760/60000 (50%)]\tLoss: 0.158561\n",
      "Train Epoch: 1 [30080/60000 (50%)]\tLoss: 0.277441\n",
      "Train Epoch: 1 [30400/60000 (51%)]\tLoss: 0.203758\n",
      "Train Epoch: 1 [30720/60000 (51%)]\tLoss: 0.423990\n",
      "Train Epoch: 1 [31040/60000 (52%)]\tLoss: 0.500169\n",
      "Train Epoch: 1 [31360/60000 (52%)]\tLoss: 0.333899\n",
      "Train Epoch: 1 [31680/60000 (53%)]\tLoss: 0.118178\n",
      "Train Epoch: 1 [32000/60000 (53%)]\tLoss: 0.424516\n",
      "Train Epoch: 1 [32320/60000 (54%)]\tLoss: 0.145411\n",
      "Train Epoch: 1 [32640/60000 (54%)]\tLoss: 0.406143\n",
      "Train Epoch: 1 [32960/60000 (55%)]\tLoss: 0.687251\n",
      "Train Epoch: 1 [33280/60000 (55%)]\tLoss: 0.374248\n",
      "Train Epoch: 1 [33600/60000 (56%)]\tLoss: 0.296849\n",
      "Train Epoch: 1 [33920/60000 (57%)]\tLoss: 0.256353\n",
      "Train Epoch: 1 [34240/60000 (57%)]\tLoss: 0.327376\n",
      "Train Epoch: 1 [34560/60000 (58%)]\tLoss: 0.465749\n",
      "Train Epoch: 1 [34880/60000 (58%)]\tLoss: 0.426686\n",
      "Train Epoch: 1 [35200/60000 (59%)]\tLoss: 0.244778\n",
      "Train Epoch: 1 [35520/60000 (59%)]\tLoss: 0.145567\n",
      "Train Epoch: 1 [35840/60000 (60%)]\tLoss: 0.170308\n",
      "Train Epoch: 1 [36160/60000 (60%)]\tLoss: 0.346492\n",
      "Train Epoch: 1 [36480/60000 (61%)]\tLoss: 0.114816\n",
      "Train Epoch: 1 [36800/60000 (61%)]\tLoss: 0.257256\n",
      "Train Epoch: 1 [37120/60000 (62%)]\tLoss: 0.192193\n",
      "Train Epoch: 1 [37440/60000 (62%)]\tLoss: 0.179716\n",
      "Train Epoch: 1 [37760/60000 (63%)]\tLoss: 0.337254\n",
      "Train Epoch: 1 [38080/60000 (63%)]\tLoss: 0.302218\n",
      "Train Epoch: 1 [38400/60000 (64%)]\tLoss: 0.353275\n",
      "Train Epoch: 1 [38720/60000 (65%)]\tLoss: 0.217004\n",
      "Train Epoch: 1 [39040/60000 (65%)]\tLoss: 0.334480\n",
      "Train Epoch: 1 [39360/60000 (66%)]\tLoss: 0.498701\n",
      "Train Epoch: 1 [39680/60000 (66%)]\tLoss: 0.158088\n",
      "Train Epoch: 1 [40000/60000 (67%)]\tLoss: 0.093759\n",
      "Train Epoch: 1 [40320/60000 (67%)]\tLoss: 0.364946\n",
      "Train Epoch: 1 [40640/60000 (68%)]\tLoss: 0.180985\n",
      "Train Epoch: 1 [40960/60000 (68%)]\tLoss: 0.203965\n",
      "Train Epoch: 1 [41280/60000 (69%)]\tLoss: 0.205413\n",
      "Train Epoch: 1 [41600/60000 (69%)]\tLoss: 0.504234\n",
      "Train Epoch: 1 [41920/60000 (70%)]\tLoss: 0.361511\n",
      "Train Epoch: 1 [42240/60000 (70%)]\tLoss: 0.263542\n",
      "Train Epoch: 1 [42560/60000 (71%)]\tLoss: 0.390380\n",
      "Train Epoch: 1 [42880/60000 (71%)]\tLoss: 0.152863\n",
      "Train Epoch: 1 [43200/60000 (72%)]\tLoss: 0.300249\n",
      "Train Epoch: 1 [43520/60000 (73%)]\tLoss: 0.222916\n",
      "Train Epoch: 1 [43840/60000 (73%)]\tLoss: 0.332134\n",
      "Train Epoch: 1 [44160/60000 (74%)]\tLoss: 0.203331\n",
      "Train Epoch: 1 [44480/60000 (74%)]\tLoss: 0.190779\n",
      "Train Epoch: 1 [44800/60000 (75%)]\tLoss: 0.091304\n",
      "Train Epoch: 1 [45120/60000 (75%)]\tLoss: 0.327499\n",
      "Train Epoch: 1 [45440/60000 (76%)]\tLoss: 0.128144\n",
      "Train Epoch: 1 [45760/60000 (76%)]\tLoss: 0.262179\n",
      "Train Epoch: 1 [46080/60000 (77%)]\tLoss: 0.140509\n",
      "Train Epoch: 1 [46400/60000 (77%)]\tLoss: 0.337964\n",
      "Train Epoch: 1 [46720/60000 (78%)]\tLoss: 0.126102\n",
      "Train Epoch: 1 [47040/60000 (78%)]\tLoss: 0.080175\n",
      "Train Epoch: 1 [47360/60000 (79%)]\tLoss: 0.257556\n",
      "Train Epoch: 1 [47680/60000 (79%)]\tLoss: 0.376293\n",
      "Train Epoch: 1 [48000/60000 (80%)]\tLoss: 0.150311\n",
      "Train Epoch: 1 [48320/60000 (81%)]\tLoss: 0.318014\n",
      "Train Epoch: 1 [48640/60000 (81%)]\tLoss: 0.149664\n",
      "Train Epoch: 1 [48960/60000 (82%)]\tLoss: 0.244323\n",
      "Train Epoch: 1 [49280/60000 (82%)]\tLoss: 0.196262\n",
      "Train Epoch: 1 [49600/60000 (83%)]\tLoss: 0.293238\n",
      "Train Epoch: 1 [49920/60000 (83%)]\tLoss: 0.332821\n",
      "Train Epoch: 1 [50240/60000 (84%)]\tLoss: 0.282578\n",
      "Train Epoch: 1 [50560/60000 (84%)]\tLoss: 0.226728\n",
      "Train Epoch: 1 [50880/60000 (85%)]\tLoss: 0.214144\n",
      "Train Epoch: 1 [51200/60000 (85%)]\tLoss: 0.324901\n",
      "Train Epoch: 1 [51520/60000 (86%)]\tLoss: 0.103657\n",
      "Train Epoch: 1 [51840/60000 (86%)]\tLoss: 0.162029\n",
      "Train Epoch: 1 [52160/60000 (87%)]\tLoss: 0.271027\n",
      "Train Epoch: 1 [52480/60000 (87%)]\tLoss: 0.076598\n",
      "Train Epoch: 1 [52800/60000 (88%)]\tLoss: 0.118963\n",
      "Train Epoch: 1 [53120/60000 (89%)]\tLoss: 0.142841\n",
      "Train Epoch: 1 [53440/60000 (89%)]\tLoss: 0.272244\n",
      "Train Epoch: 1 [53760/60000 (90%)]\tLoss: 0.315269\n",
      "Train Epoch: 1 [54080/60000 (90%)]\tLoss: 0.075254\n",
      "Train Epoch: 1 [54400/60000 (91%)]\tLoss: 0.154652\n",
      "Train Epoch: 1 [54720/60000 (91%)]\tLoss: 0.418325\n",
      "Train Epoch: 1 [55040/60000 (92%)]\tLoss: 0.533841\n",
      "Train Epoch: 1 [55360/60000 (92%)]\tLoss: 0.144962\n",
      "Train Epoch: 1 [55680/60000 (93%)]\tLoss: 0.154420\n",
      "Train Epoch: 1 [56000/60000 (93%)]\tLoss: 0.292242\n",
      "Train Epoch: 1 [56320/60000 (94%)]\tLoss: 0.362866\n",
      "Train Epoch: 1 [56640/60000 (94%)]\tLoss: 0.317058\n",
      "Train Epoch: 1 [56960/60000 (95%)]\tLoss: 0.545831\n",
      "Train Epoch: 1 [57280/60000 (95%)]\tLoss: 0.152997\n",
      "Train Epoch: 1 [57600/60000 (96%)]\tLoss: 0.130112\n",
      "Train Epoch: 1 [57920/60000 (97%)]\tLoss: 0.140766\n",
      "Train Epoch: 1 [58240/60000 (97%)]\tLoss: 0.355794\n",
      "Train Epoch: 1 [58560/60000 (98%)]\tLoss: 0.124836\n",
      "Train Epoch: 1 [58880/60000 (98%)]\tLoss: 0.183800\n",
      "Train Epoch: 1 [59200/60000 (99%)]\tLoss: 0.199906\n",
      "Train Epoch: 1 [59520/60000 (99%)]\tLoss: 0.176819\n",
      "Train Epoch: 1 [59840/60000 (100%)]\tLoss: 0.451834\n",
      "Test set: Average loss: 0.2029, Accuracy: 9407/10000 (94%)\n",
      "\n",
      "Train Epoch: 2 [0/60000 (0%)]\tLoss: 0.157684\n",
      "Train Epoch: 2 [320/60000 (1%)]\tLoss: 0.038999\n",
      "Train Epoch: 2 [640/60000 (1%)]\tLoss: 0.447338\n",
      "Train Epoch: 2 [960/60000 (2%)]\tLoss: 0.149498\n",
      "Train Epoch: 2 [1280/60000 (2%)]\tLoss: 0.106698\n",
      "Train Epoch: 2 [1600/60000 (3%)]\tLoss: 0.128591\n",
      "Train Epoch: 2 [1920/60000 (3%)]\tLoss: 0.127063\n",
      "Train Epoch: 2 [2240/60000 (4%)]\tLoss: 0.105770\n",
      "Train Epoch: 2 [2560/60000 (4%)]\tLoss: 0.199945\n",
      "Train Epoch: 2 [2880/60000 (5%)]\tLoss: 0.076018\n",
      "Train Epoch: 2 [3200/60000 (5%)]\tLoss: 0.383270\n",
      "Train Epoch: 2 [3520/60000 (6%)]\tLoss: 0.391088\n",
      "Train Epoch: 2 [3840/60000 (6%)]\tLoss: 0.254616\n",
      "Train Epoch: 2 [4160/60000 (7%)]\tLoss: 0.430899\n",
      "Train Epoch: 2 [4480/60000 (7%)]\tLoss: 0.178623\n",
      "Train Epoch: 2 [4800/60000 (8%)]\tLoss: 0.353592\n",
      "Train Epoch: 2 [5120/60000 (9%)]\tLoss: 0.292209\n",
      "Train Epoch: 2 [5440/60000 (9%)]\tLoss: 0.239712\n",
      "Train Epoch: 2 [5760/60000 (10%)]\tLoss: 0.200970\n",
      "Train Epoch: 2 [6080/60000 (10%)]\tLoss: 0.093466\n",
      "Train Epoch: 2 [6400/60000 (11%)]\tLoss: 0.245939\n",
      "Train Epoch: 2 [6720/60000 (11%)]\tLoss: 0.232224\n",
      "Train Epoch: 2 [7040/60000 (12%)]\tLoss: 0.103571\n",
      "Train Epoch: 2 [7360/60000 (12%)]\tLoss: 0.298021\n",
      "Train Epoch: 2 [7680/60000 (13%)]\tLoss: 0.233501\n",
      "Train Epoch: 2 [8000/60000 (13%)]\tLoss: 0.247555\n",
      "Train Epoch: 2 [8320/60000 (14%)]\tLoss: 0.105987\n",
      "Train Epoch: 2 [8640/60000 (14%)]\tLoss: 0.080184\n",
      "Train Epoch: 2 [8960/60000 (15%)]\tLoss: 0.315612\n",
      "Train Epoch: 2 [9280/60000 (15%)]\tLoss: 0.447658\n",
      "Train Epoch: 2 [9600/60000 (16%)]\tLoss: 0.175144\n",
      "Train Epoch: 2 [9920/60000 (17%)]\tLoss: 0.174563\n",
      "Train Epoch: 2 [10240/60000 (17%)]\tLoss: 0.106502\n",
      "Train Epoch: 2 [10560/60000 (18%)]\tLoss: 0.168962\n",
      "Train Epoch: 2 [10880/60000 (18%)]\tLoss: 0.114494\n",
      "Train Epoch: 2 [11200/60000 (19%)]\tLoss: 0.121531\n",
      "Train Epoch: 2 [11520/60000 (19%)]\tLoss: 0.084430\n",
      "Train Epoch: 2 [11840/60000 (20%)]\tLoss: 0.163820\n",
      "Train Epoch: 2 [12160/60000 (20%)]\tLoss: 0.216179\n",
      "Train Epoch: 2 [12480/60000 (21%)]\tLoss: 0.036948\n",
      "Train Epoch: 2 [12800/60000 (21%)]\tLoss: 0.199025\n",
      "Train Epoch: 2 [13120/60000 (22%)]\tLoss: 0.212189\n",
      "Train Epoch: 2 [13440/60000 (22%)]\tLoss: 0.165175\n",
      "Train Epoch: 2 [13760/60000 (23%)]\tLoss: 0.300270\n",
      "Train Epoch: 2 [14080/60000 (23%)]\tLoss: 0.088344\n",
      "Train Epoch: 2 [14400/60000 (24%)]\tLoss: 0.186225\n",
      "Train Epoch: 2 [14720/60000 (25%)]\tLoss: 0.082250\n",
      "Train Epoch: 2 [15040/60000 (25%)]\tLoss: 0.163702\n",
      "Train Epoch: 2 [15360/60000 (26%)]\tLoss: 0.206252\n",
      "Train Epoch: 2 [15680/60000 (26%)]\tLoss: 0.135361\n",
      "Train Epoch: 2 [16000/60000 (27%)]\tLoss: 0.083446\n"
     ]
    },
    {
     "ename": "KeyboardInterrupt",
     "evalue": "",
     "output_type": "error",
     "traceback": [
      "\u001b[0;31m---------------------------------------------------------------------------\u001b[0m",
      "\u001b[0;31mKeyboardInterrupt\u001b[0m                         Traceback (most recent call last)",
      "\u001b[1;32m/home/ayhem18/Ayhem18/DEV/Data_science/Towards_Data_Science/Machine_Learning/Uni_ML_course_notes/Week_7/Lab-7-solution/Lab-7-solution.ipynb Cell 43\u001b[0m in \u001b[0;36m<cell line: 6>\u001b[0;34m()\u001b[0m\n\u001b[1;32m      <a href='vscode-notebook-cell:/home/ayhem18/Ayhem18/DEV/Data_science/Towards_Data_Science/Machine_Learning/Uni_ML_course_notes/Week_7/Lab-7-solution/Lab-7-solution.ipynb#X61sZmlsZQ%3D%3D?line=2'>3</a>\u001b[0m optimizer \u001b[39m=\u001b[39m optim\u001b[39m.\u001b[39mSGD(model\u001b[39m.\u001b[39mparameters(), lr\u001b[39m=\u001b[39mlr, momentum\u001b[39m=\u001b[39mmomentum)\n\u001b[1;32m      <a href='vscode-notebook-cell:/home/ayhem18/Ayhem18/DEV/Data_science/Towards_Data_Science/Machine_Learning/Uni_ML_course_notes/Week_7/Lab-7-solution/Lab-7-solution.ipynb#X61sZmlsZQ%3D%3D?line=5'>6</a>\u001b[0m \u001b[39mfor\u001b[39;00m epoch \u001b[39min\u001b[39;00m \u001b[39mrange\u001b[39m(\u001b[39m1\u001b[39m, epochs \u001b[39m+\u001b[39m \u001b[39m1\u001b[39m):\n\u001b[0;32m----> <a href='vscode-notebook-cell:/home/ayhem18/Ayhem18/DEV/Data_science/Towards_Data_Science/Machine_Learning/Uni_ML_course_notes/Week_7/Lab-7-solution/Lab-7-solution.ipynb#X61sZmlsZQ%3D%3D?line=6'>7</a>\u001b[0m     train(model, device, train_loader, optimizer, epoch)\n\u001b[1;32m      <a href='vscode-notebook-cell:/home/ayhem18/Ayhem18/DEV/Data_science/Towards_Data_Science/Machine_Learning/Uni_ML_course_notes/Week_7/Lab-7-solution/Lab-7-solution.ipynb#X61sZmlsZQ%3D%3D?line=7'>8</a>\u001b[0m     test(model, device, test_loader)\n\u001b[1;32m     <a href='vscode-notebook-cell:/home/ayhem18/Ayhem18/DEV/Data_science/Towards_Data_Science/Machine_Learning/Uni_ML_course_notes/Week_7/Lab-7-solution/Lab-7-solution.ipynb#X61sZmlsZQ%3D%3D?line=9'>10</a>\u001b[0m torch\u001b[39m.\u001b[39msave(model\u001b[39m.\u001b[39mstate_dict(), \u001b[39m\"\u001b[39m\u001b[39mmnist_model.pt\u001b[39m\u001b[39m\"\u001b[39m)\n",
      "\u001b[1;32m/home/ayhem18/Ayhem18/DEV/Data_science/Towards_Data_Science/Machine_Learning/Uni_ML_course_notes/Week_7/Lab-7-solution/Lab-7-solution.ipynb Cell 43\u001b[0m in \u001b[0;36mtrain\u001b[0;34m(model, device, train_loader, optimizer, epoch)\u001b[0m\n\u001b[1;32m      <a href='vscode-notebook-cell:/home/ayhem18/Ayhem18/DEV/Data_science/Towards_Data_Science/Machine_Learning/Uni_ML_course_notes/Week_7/Lab-7-solution/Lab-7-solution.ipynb#X61sZmlsZQ%3D%3D?line=0'>1</a>\u001b[0m \u001b[39mdef\u001b[39;00m \u001b[39mtrain\u001b[39m( model, device, train_loader, optimizer, epoch):\n\u001b[1;32m      <a href='vscode-notebook-cell:/home/ayhem18/Ayhem18/DEV/Data_science/Towards_Data_Science/Machine_Learning/Uni_ML_course_notes/Week_7/Lab-7-solution/Lab-7-solution.ipynb#X61sZmlsZQ%3D%3D?line=1'>2</a>\u001b[0m     model\u001b[39m.\u001b[39mtrain()\n\u001b[0;32m----> <a href='vscode-notebook-cell:/home/ayhem18/Ayhem18/DEV/Data_science/Towards_Data_Science/Machine_Learning/Uni_ML_course_notes/Week_7/Lab-7-solution/Lab-7-solution.ipynb#X61sZmlsZQ%3D%3D?line=2'>3</a>\u001b[0m     \u001b[39mfor\u001b[39;00m batch_idx, (data, target) \u001b[39min\u001b[39;00m \u001b[39menumerate\u001b[39m(train_loader):\n\u001b[1;32m      <a href='vscode-notebook-cell:/home/ayhem18/Ayhem18/DEV/Data_science/Towards_Data_Science/Machine_Learning/Uni_ML_course_notes/Week_7/Lab-7-solution/Lab-7-solution.ipynb#X61sZmlsZQ%3D%3D?line=3'>4</a>\u001b[0m         data, target \u001b[39m=\u001b[39m data\u001b[39m.\u001b[39mto(device), target\u001b[39m.\u001b[39mto(device)\n\u001b[1;32m      <a href='vscode-notebook-cell:/home/ayhem18/Ayhem18/DEV/Data_science/Towards_Data_Science/Machine_Learning/Uni_ML_course_notes/Week_7/Lab-7-solution/Lab-7-solution.ipynb#X61sZmlsZQ%3D%3D?line=4'>5</a>\u001b[0m         optimizer\u001b[39m.\u001b[39mzero_grad()\n",
      "File \u001b[0;32m~/.local/lib/python3.10/site-packages/torch/utils/data/dataloader.py:681\u001b[0m, in \u001b[0;36m_BaseDataLoaderIter.__next__\u001b[0;34m(self)\u001b[0m\n\u001b[1;32m    678\u001b[0m \u001b[39mif\u001b[39;00m \u001b[39mself\u001b[39m\u001b[39m.\u001b[39m_sampler_iter \u001b[39mis\u001b[39;00m \u001b[39mNone\u001b[39;00m:\n\u001b[1;32m    679\u001b[0m     \u001b[39m# TODO(https://github.com/pytorch/pytorch/issues/76750)\u001b[39;00m\n\u001b[1;32m    680\u001b[0m     \u001b[39mself\u001b[39m\u001b[39m.\u001b[39m_reset()  \u001b[39m# type: ignore[call-arg]\u001b[39;00m\n\u001b[0;32m--> 681\u001b[0m data \u001b[39m=\u001b[39m \u001b[39mself\u001b[39;49m\u001b[39m.\u001b[39;49m_next_data()\n\u001b[1;32m    682\u001b[0m \u001b[39mself\u001b[39m\u001b[39m.\u001b[39m_num_yielded \u001b[39m+\u001b[39m\u001b[39m=\u001b[39m \u001b[39m1\u001b[39m\n\u001b[1;32m    683\u001b[0m \u001b[39mif\u001b[39;00m \u001b[39mself\u001b[39m\u001b[39m.\u001b[39m_dataset_kind \u001b[39m==\u001b[39m _DatasetKind\u001b[39m.\u001b[39mIterable \u001b[39mand\u001b[39;00m \\\n\u001b[1;32m    684\u001b[0m         \u001b[39mself\u001b[39m\u001b[39m.\u001b[39m_IterableDataset_len_called \u001b[39mis\u001b[39;00m \u001b[39mnot\u001b[39;00m \u001b[39mNone\u001b[39;00m \u001b[39mand\u001b[39;00m \\\n\u001b[1;32m    685\u001b[0m         \u001b[39mself\u001b[39m\u001b[39m.\u001b[39m_num_yielded \u001b[39m>\u001b[39m \u001b[39mself\u001b[39m\u001b[39m.\u001b[39m_IterableDataset_len_called:\n",
      "File \u001b[0;32m~/.local/lib/python3.10/site-packages/torch/utils/data/dataloader.py:721\u001b[0m, in \u001b[0;36m_SingleProcessDataLoaderIter._next_data\u001b[0;34m(self)\u001b[0m\n\u001b[1;32m    719\u001b[0m \u001b[39mdef\u001b[39;00m \u001b[39m_next_data\u001b[39m(\u001b[39mself\u001b[39m):\n\u001b[1;32m    720\u001b[0m     index \u001b[39m=\u001b[39m \u001b[39mself\u001b[39m\u001b[39m.\u001b[39m_next_index()  \u001b[39m# may raise StopIteration\u001b[39;00m\n\u001b[0;32m--> 721\u001b[0m     data \u001b[39m=\u001b[39m \u001b[39mself\u001b[39;49m\u001b[39m.\u001b[39;49m_dataset_fetcher\u001b[39m.\u001b[39;49mfetch(index)  \u001b[39m# may raise StopIteration\u001b[39;00m\n\u001b[1;32m    722\u001b[0m     \u001b[39mif\u001b[39;00m \u001b[39mself\u001b[39m\u001b[39m.\u001b[39m_pin_memory:\n\u001b[1;32m    723\u001b[0m         data \u001b[39m=\u001b[39m _utils\u001b[39m.\u001b[39mpin_memory\u001b[39m.\u001b[39mpin_memory(data, \u001b[39mself\u001b[39m\u001b[39m.\u001b[39m_pin_memory_device)\n",
      "File \u001b[0;32m~/.local/lib/python3.10/site-packages/torch/utils/data/_utils/fetch.py:49\u001b[0m, in \u001b[0;36m_MapDatasetFetcher.fetch\u001b[0;34m(self, possibly_batched_index)\u001b[0m\n\u001b[1;32m     47\u001b[0m \u001b[39mdef\u001b[39;00m \u001b[39mfetch\u001b[39m(\u001b[39mself\u001b[39m, possibly_batched_index):\n\u001b[1;32m     48\u001b[0m     \u001b[39mif\u001b[39;00m \u001b[39mself\u001b[39m\u001b[39m.\u001b[39mauto_collation:\n\u001b[0;32m---> 49\u001b[0m         data \u001b[39m=\u001b[39m [\u001b[39mself\u001b[39m\u001b[39m.\u001b[39mdataset[idx] \u001b[39mfor\u001b[39;00m idx \u001b[39min\u001b[39;00m possibly_batched_index]\n\u001b[1;32m     50\u001b[0m     \u001b[39melse\u001b[39;00m:\n\u001b[1;32m     51\u001b[0m         data \u001b[39m=\u001b[39m \u001b[39mself\u001b[39m\u001b[39m.\u001b[39mdataset[possibly_batched_index]\n",
      "File \u001b[0;32m~/.local/lib/python3.10/site-packages/torch/utils/data/_utils/fetch.py:49\u001b[0m, in \u001b[0;36m<listcomp>\u001b[0;34m(.0)\u001b[0m\n\u001b[1;32m     47\u001b[0m \u001b[39mdef\u001b[39;00m \u001b[39mfetch\u001b[39m(\u001b[39mself\u001b[39m, possibly_batched_index):\n\u001b[1;32m     48\u001b[0m     \u001b[39mif\u001b[39;00m \u001b[39mself\u001b[39m\u001b[39m.\u001b[39mauto_collation:\n\u001b[0;32m---> 49\u001b[0m         data \u001b[39m=\u001b[39m [\u001b[39mself\u001b[39;49m\u001b[39m.\u001b[39;49mdataset[idx] \u001b[39mfor\u001b[39;00m idx \u001b[39min\u001b[39;00m possibly_batched_index]\n\u001b[1;32m     50\u001b[0m     \u001b[39melse\u001b[39;00m:\n\u001b[1;32m     51\u001b[0m         data \u001b[39m=\u001b[39m \u001b[39mself\u001b[39m\u001b[39m.\u001b[39mdataset[possibly_batched_index]\n",
      "File \u001b[0;32m~/.local/lib/python3.10/site-packages/torchvision/datasets/mnist.py:142\u001b[0m, in \u001b[0;36mMNIST.__getitem__\u001b[0;34m(self, index)\u001b[0m\n\u001b[1;32m    138\u001b[0m img, target \u001b[39m=\u001b[39m \u001b[39mself\u001b[39m\u001b[39m.\u001b[39mdata[index], \u001b[39mint\u001b[39m(\u001b[39mself\u001b[39m\u001b[39m.\u001b[39mtargets[index])\n\u001b[1;32m    140\u001b[0m \u001b[39m# doing this so that it is consistent with all other datasets\u001b[39;00m\n\u001b[1;32m    141\u001b[0m \u001b[39m# to return a PIL Image\u001b[39;00m\n\u001b[0;32m--> 142\u001b[0m img \u001b[39m=\u001b[39m Image\u001b[39m.\u001b[39;49mfromarray(img\u001b[39m.\u001b[39;49mnumpy(), mode\u001b[39m=\u001b[39;49m\u001b[39m\"\u001b[39;49m\u001b[39mL\u001b[39;49m\u001b[39m\"\u001b[39;49m)\n\u001b[1;32m    144\u001b[0m \u001b[39mif\u001b[39;00m \u001b[39mself\u001b[39m\u001b[39m.\u001b[39mtransform \u001b[39mis\u001b[39;00m \u001b[39mnot\u001b[39;00m \u001b[39mNone\u001b[39;00m:\n\u001b[1;32m    145\u001b[0m     img \u001b[39m=\u001b[39m \u001b[39mself\u001b[39m\u001b[39m.\u001b[39mtransform(img)\n",
      "File \u001b[0;32m~/Ayhem18/DEV/Data_science/Towards_Data_Science/ds_env/lib/python3.10/site-packages/PIL/Image.py:2974\u001b[0m, in \u001b[0;36mfromarray\u001b[0;34m(obj, mode)\u001b[0m\n\u001b[1;32m   2971\u001b[0m     \u001b[39melse\u001b[39;00m:\n\u001b[1;32m   2972\u001b[0m         obj \u001b[39m=\u001b[39m obj\u001b[39m.\u001b[39mtostring()\n\u001b[0;32m-> 2974\u001b[0m \u001b[39mreturn\u001b[39;00m frombuffer(mode, size, obj, \u001b[39m\"\u001b[39;49m\u001b[39mraw\u001b[39;49m\u001b[39m\"\u001b[39;49m, rawmode, \u001b[39m0\u001b[39;49m, \u001b[39m1\u001b[39;49m)\n",
      "File \u001b[0;32m~/Ayhem18/DEV/Data_science/Towards_Data_Science/ds_env/lib/python3.10/site-packages/PIL/Image.py:2847\u001b[0m, in \u001b[0;36mfrombuffer\u001b[0;34m(mode, size, data, decoder_name, *args)\u001b[0m\n\u001b[1;32m   2843\u001b[0m     im\u001b[39m.\u001b[39mfrombytes(data, decoder_name, args)\n\u001b[1;32m   2844\u001b[0m     \u001b[39mreturn\u001b[39;00m im\n\u001b[0;32m-> 2847\u001b[0m \u001b[39mdef\u001b[39;00m \u001b[39mfrombuffer\u001b[39m(mode, size, data, decoder_name\u001b[39m=\u001b[39m\u001b[39m\"\u001b[39m\u001b[39mraw\u001b[39m\u001b[39m\"\u001b[39m, \u001b[39m*\u001b[39margs):\n\u001b[1;32m   2848\u001b[0m     \u001b[39m\"\"\"\u001b[39;00m\n\u001b[1;32m   2849\u001b[0m \u001b[39m    Creates an image memory referencing pixel data in a byte buffer.\u001b[39;00m\n\u001b[1;32m   2850\u001b[0m \n\u001b[0;32m   (...)\u001b[0m\n\u001b[1;32m   2879\u001b[0m \u001b[39m    .. versionadded:: 1.1.4\u001b[39;00m\n\u001b[1;32m   2880\u001b[0m \u001b[39m    \"\"\"\u001b[39;00m\n\u001b[1;32m   2882\u001b[0m     _check_size(size)\n",
      "\u001b[0;31mKeyboardInterrupt\u001b[0m: "
     ]
    }
   ],
   "source": [
    "import torch.optim as optim\n",
    "\n",
    "optimizer = optim.SGD(model.parameters(), lr=lr, momentum=momentum)\n",
    "\n",
    "\n",
    "for epoch in range(1, epochs + 1):\n",
    "    train(model, device, train_loader, optimizer, epoch)\n",
    "    test(model, device, test_loader)\n",
    "\n",
    "torch.save(model.state_dict(), \"mnist_model.pt\")\n",
    "\n"
   ]
  }
 ],
 "metadata": {
  "kernelspec": {
   "display_name": "ds_env",
   "language": "python",
   "name": "ds_env"
  },
  "language_info": {
   "codemirror_mode": {
    "name": "ipython",
    "version": 3
   },
   "file_extension": ".py",
   "mimetype": "text/x-python",
   "name": "python",
   "nbconvert_exporter": "python",
   "pygments_lexer": "ipython3",
   "version": "3.10.6"
  },
  "vscode": {
   "interpreter": {
    "hash": "aee8b7b246df8f9039afb4144a1f6fd8d2ca17a180786b69acc140d282b71a49"
   }
  }
 },
 "nbformat": 4,
 "nbformat_minor": 1
}
