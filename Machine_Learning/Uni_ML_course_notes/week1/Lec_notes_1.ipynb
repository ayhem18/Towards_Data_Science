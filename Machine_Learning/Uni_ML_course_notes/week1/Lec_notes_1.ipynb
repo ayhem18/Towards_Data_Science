{
 "cells": [
  {
   "cell_type": "markdown",
   "metadata": {},
   "source": [
    "# Week1"
   ]
  },
  {
   "cell_type": "markdown",
   "metadata": {},
   "source": [
    "* Machine Learning algorithms are computer programs that improve performance at some task through experience.\n",
    "* The Experience presented in form of datasets and performance measured through a performance metric usually tailored to the problem at hand.\n",
    "* given $x_0, y_0$ an observation from the test datasets, we can evaluate the error of the prediction as follows:\n",
    "    $\\begin{align}E(y_0 - \\hat f (x_0))^2 = Var(\\hat f (x_0)) + Bias(\\hat f (x_0))^2 + Var(\\epsilon)\\end{align}$\n",
    "where $Var(\\epsilon)$ represents the irreducible error.\n",
    "As Variance and Bias and inheritedly negatively correlated, the best result that can be achieved is generally a tradeoff between both quantities."
   ]
  },
  {
   "cell_type": "markdown",
   "metadata": {},
   "source": [
    "# Week2"
   ]
  }
 ],
 "metadata": {
  "kernelspec": {
   "display_name": "Python 3.10.6 64-bit",
   "language": "python",
   "name": "python3"
  },
  "language_info": {
   "name": "python",
   "version": "3.10.6"
  },
  "orig_nbformat": 4,
  "vscode": {
   "interpreter": {
    "hash": "916dbcbb3f70747c44a77c7bcd40155683ae19c65e1c03b4aa3499c5328201f1"
   }
  }
 },
 "nbformat": 4,
 "nbformat_minor": 2
}
