{
 "cells": [
  {
   "attachments": {},
   "cell_type": "markdown",
   "metadata": {},
   "source": [
    "some links:\n",
    "* [l1](https://www.postgresqltutorial.com/postgresql-tutorial/postgresql-recursive-query/)\n",
    "* [Neo4j vocab](https://neo4j.com/docs/getting-started/current/)"
   ]
  },
  {
   "attachments": {},
   "cell_type": "markdown",
   "metadata": {},
   "source": [
    "* time to talk Neo4j\n",
    "* so a label is a class, a relation is between 2 nodes: a start and end node, has a direction and can have properties as well.\n",
    "* nodes as the single instances, they have properties: (key-value pairs) and also linked by relations\n",
    "* to keep in mind: \n",
    "    1. circular parentheses for nodes and arrows for relations\n"
   ]
  },
  {
   "attachments": {},
   "cell_type": "markdown",
   "metadata": {},
   "source": [
    "* MapReduce is a programming model capable of storing and analysing huge amounts of data as well as tackle the problem of multiple data sources. \n",
    "* MapReduce strongest points: fault tolerance, scalability\n",
    "* MapReduce steps:\n",
    "    1. splitting\n",
    "    2. Map\n",
    "    3. Reduce\n",
    "* The key point is to split the process into smaller subtasks and create multiple workers that would tackle each of the sub tasks simlutaneously\n",
    "* a bit more details on the pipeline:\n",
    "    1. Splitting: taking a job from the client and splitting it into subtasks\n",
    "    2. Mapping: generating a key-value pair for different components of the input\n",
    "    3. Shuffling: no more explanation there\n",
    "    4. Reduce: applying a transformation on the key-value pairs produced previously\n",
    "\n",
    "* again more details:\n",
    "1. Map Phase:\n",
    "    1. reads the input splits (a split is generally a file in hdfs)\n",
    "    2. prase the input into key-value pairs: sorted by bucket number and then by key value\n",
    "    3. map function applied to each pair\n",
    "    4. informs the master node of the completion\n",
    "2. Partition Phase:\n",
    "    1. Each mapper must determine the reducer to receive each key\n",
    "    2. The number of paritions == number of reducers\n",
    "    3. shuffle: \n",
    "    4. merge sorts into a single run\n",
    "    5. reduce: apply the user-defined function\n",
    "3. "
   ]
  },
  {
   "cell_type": "code",
   "execution_count": null,
   "metadata": {},
   "outputs": [],
   "source": []
  }
 ],
 "metadata": {
  "language_info": {
   "name": "python"
  },
  "orig_nbformat": 4
 },
 "nbformat": 4,
 "nbformat_minor": 2
}
