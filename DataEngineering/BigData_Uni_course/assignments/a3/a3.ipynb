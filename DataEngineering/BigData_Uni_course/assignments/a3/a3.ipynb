{
 "cells": [
  {
   "cell_type": "code",
   "execution_count": 4,
   "metadata": {},
   "outputs": [
    {
     "name": "stderr",
     "output_type": "stream",
     "text": [
      "  % Total    % Received % Xferd  Average Speed   Time    Time     Time  Current\n",
      "                                 Dload  Upload   Total   Spent    Left  Speed\n",
      "\n",
      "  0     0    0     0    0     0      0      0 --:--:-- --:--:-- --:--:--     0\n",
      "100  7874  100  7874    0     0  32528      0 --:--:-- --:--:-- --:--:-- 32808\n"
     ]
    }
   ],
   "source": [
    "# first download the file\n",
    "! curl -o project.csv https://raw.githubusercontent.com/firas-jolha/BigData-IU-S23/main/projects.csv"
   ]
  },
  {
   "cell_type": "code",
   "execution_count": 5,
   "metadata": {},
   "outputs": [
    {
     "name": "stdout",
     "output_type": "stream",
     "text": [
      "['JCRSERVLET', 'MPLUGIN', 'MPOM', 'DIRTSEC', 'PODLINGNAMESEARCH', 'MENFORCER', 'MAILBOX', 'AGE2', 'CHAINSAW', 'LAUNCHER', 'SB', 'PHOENIX', 'MRESOURCES']\n"
     ]
    }
   ],
   "source": [
    "import pandas as pd\n",
    "sid = 7\n",
    "df = pd.read_csv(\"project.csv\")\n",
    "projects = df[sid-1::50]['project_name'].values.tolist()\n",
    "print(projects)"
   ]
  },
  {
   "cell_type": "code",
   "execution_count": null,
   "metadata": {},
   "outputs": [],
   "source": []
  }
 ],
 "metadata": {
  "kernelspec": {
   "display_name": "ds_env",
   "language": "python",
   "name": "python3"
  },
  "language_info": {
   "codemirror_mode": {
    "name": "ipython",
    "version": 3
   },
   "file_extension": ".py",
   "mimetype": "text/x-python",
   "name": "python",
   "nbconvert_exporter": "python",
   "pygments_lexer": "ipython3",
   "version": "3.9.12"
  },
  "orig_nbformat": 4
 },
 "nbformat": 4,
 "nbformat_minor": 2
}
