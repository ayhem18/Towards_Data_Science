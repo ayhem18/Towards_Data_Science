{
 "cells": [
  {
   "attachments": {},
   "cell_type": "markdown",
   "metadata": {},
   "source": [
    "**LAB 2**"
   ]
  },
  {
   "cell_type": "code",
   "execution_count": null,
   "metadata": {},
   "outputs": [],
   "source": [
    "import numpy as np\n",
    "import matplotlib.pyplot as plt\n",
    "\n",
    "from thinkdsp import decorate\n",
    "from thinkdsp import read_wave"
   ]
  },
  {
   "cell_type": "code",
   "execution_count": null,
   "metadata": {},
   "outputs": [],
   "source": [
    "some_audio = read_wave('dsp_pack/code/tos-redalert.wav').make_audio()\n",
    "some_audio"
   ]
  },
  {
   "cell_type": "code",
   "execution_count": null,
   "metadata": {},
   "outputs": [],
   "source": [
    "some_wave = read_wave('dsp_pack/code/tos-redalert.wav')"
   ]
  },
  {
   "attachments": {},
   "cell_type": "markdown",
   "metadata": {},
   "source": [
    "**SPECTROGRAM**"
   ]
  },
  {
   "cell_type": "code",
   "execution_count": null,
   "metadata": {},
   "outputs": [],
   "source": [
    "sp = some_wave.make_spectrogram(256)\n",
    "sp.plot()\n",
    "decorate(xlabel='Time (s)', ylabel='Frequency (Hz)')"
   ]
  },
  {
   "cell_type": "code",
   "execution_count": null,
   "metadata": {},
   "outputs": [],
   "source": [
    "def plot_spectrogram(wave, seg_length):\n",
    "    spectrogram = wave.make_spectrogram(seg_length)\n",
    "    print('Time resolution (s)', spectrogram.time_res)\n",
    "    print('Frequency resolution (Hz)', spectrogram.freq_res)\n",
    "    spectrogram.plot(high=5000)\n",
    "    decorate(xlabel='Time(s)', ylabel='Frequency (Hz)')"
   ]
  },
  {
   "attachments": {},
   "cell_type": "markdown",
   "metadata": {},
   "source": [
    "If you increase the segment length, you get better frequency resolution, worse time resolution"
   ]
  },
  {
   "cell_type": "code",
   "execution_count": null,
   "metadata": {},
   "outputs": [],
   "source": [
    "plot_spectrogram(some_wave, 128)"
   ]
  },
  {
   "attachments": {},
   "cell_type": "markdown",
   "metadata": {},
   "source": [
    "A spectrogram is a visual representation of the spectrum of frequencies of a signal as it varies with time."
   ]
  },
  {
   "attachments": {},
   "cell_type": "markdown",
   "metadata": {},
   "source": [
    "**SPECTRUM**"
   ]
  },
  {
   "cell_type": "code",
   "execution_count": null,
   "metadata": {},
   "outputs": [],
   "source": [
    "some_spectrum = some_wave.make_spectrum()\n",
    "\n",
    "some_spectrum.plot()\n",
    "decorate(xlabel='Frequency (Hz)')"
   ]
  },
  {
   "attachments": {},
   "cell_type": "markdown",
   "metadata": {},
   "source": [
    "**POWER PLOT**"
   ]
  },
  {
   "cell_type": "code",
   "execution_count": null,
   "metadata": {},
   "outputs": [],
   "source": [
    "some_spectrum.plot_power()\n",
    "\n",
    "loglog = dict(xscale='log', yscale='log')\n",
    "decorate(xlabel='Frequency (Hz)',\n",
    "         ylabel='Power', \n",
    "         **loglog)"
   ]
  },
  {
   "attachments": {},
   "cell_type": "markdown",
   "metadata": {},
   "source": [
    "**Noise**"
   ]
  },
  {
   "attachments": {},
   "cell_type": "markdown",
   "metadata": {},
   "source": [
    "**Uncorrelated uniform (UU) noise**"
   ]
  },
  {
   "cell_type": "code",
   "execution_count": null,
   "metadata": {},
   "outputs": [],
   "source": [
    "# uncorrelated uniform (UU) noise\n",
    "\n",
    "from thinkdsp import UncorrelatedUniformNoise\n",
    "\n",
    "signal = UncorrelatedUniformNoise()\n",
    "wave = signal.make_wave(duration=0.5, framerate=11025)\n",
    "wave.make_audio()"
   ]
  },
  {
   "cell_type": "code",
   "execution_count": null,
   "metadata": {},
   "outputs": [],
   "source": [
    "segment = wave.segment(duration=0.1)\n",
    "segment.plot()\n",
    "decorate(xlabel='Time (s)',\n",
    "         ylabel='Amplitude')"
   ]
  },
  {
   "cell_type": "code",
   "execution_count": null,
   "metadata": {},
   "outputs": [],
   "source": [
    "spectrum = wave.make_spectrum()\n",
    "spectrum.plot(linewidth=0.5)\n",
    "decorate(xlabel='Frequency (Hz)',\n",
    "         ylabel='Amplitude')"
   ]
  },
  {
   "cell_type": "code",
   "execution_count": null,
   "metadata": {},
   "outputs": [],
   "source": [
    "# UU noise has the same power at all frequencies\n",
    "\n",
    "spectrum.plot_power(linewidth=0.5)\n",
    "decorate(xlabel='Frequency (Hz)',\n",
    "         ylabel='Power')"
   ]
  },
  {
   "cell_type": "code",
   "execution_count": null,
   "metadata": {},
   "outputs": [],
   "source": [
    "# normalized cumulative sum of power\n",
    "\n",
    "integ = spectrum.make_integrated_spectrum()\n",
    "integ.plot_power()\n",
    "decorate(xlabel='Frequency (Hz)',\n",
    "         ylabel='Cumulative power')"
   ]
  },
  {
   "cell_type": "code",
   "execution_count": null,
   "metadata": {},
   "outputs": [],
   "source": [
    "plot_spectrogram(wave, 256)"
   ]
  },
  {
   "attachments": {},
   "cell_type": "markdown",
   "metadata": {},
   "source": [
    "**Brownian noise**\n",
    "\n",
    "Brownian noise is generated by adding up a sequence of random steps"
   ]
  },
  {
   "cell_type": "code",
   "execution_count": null,
   "metadata": {},
   "outputs": [],
   "source": [
    "from thinkdsp import BrownianNoise\n",
    "\n",
    "signal = BrownianNoise()\n",
    "wave = signal.make_wave(duration=0.5, framerate=11025)\n",
    "wave.make_audio()"
   ]
  },
  {
   "cell_type": "code",
   "execution_count": null,
   "metadata": {},
   "outputs": [],
   "source": [
    "wave.plot(linewidth=1)\n",
    "decorate(xlabel='Time (s)',\n",
    "         ylabel='Amplitude')"
   ]
  },
  {
   "cell_type": "code",
   "execution_count": null,
   "metadata": {},
   "outputs": [],
   "source": [
    "# power at linear scale\n",
    "\n",
    "spectrum = wave.make_spectrum()\n",
    "spectrum.plot_power(linewidth=0.5)\n",
    "decorate(xlabel='Frequency (Hz)',\n",
    "         ylabel='Power')"
   ]
  },
  {
   "cell_type": "code",
   "execution_count": null,
   "metadata": {},
   "outputs": [],
   "source": [
    "# take a look at log scale\n",
    "spectrum.hs[0] = 0\n",
    "\n",
    "spectrum.plot_power(linewidth=0.5)\n",
    "\n",
    "loglog = dict(xscale='log', yscale='log')\n",
    "decorate(xlabel='Frequency (Hz)',\n",
    "         ylabel='Power',\n",
    "         **loglog)"
   ]
  },
  {
   "cell_type": "code",
   "execution_count": null,
   "metadata": {},
   "outputs": [],
   "source": [
    "plot_spectrogram(wave, 256)"
   ]
  },
  {
   "attachments": {},
   "cell_type": "markdown",
   "metadata": {},
   "source": [
    "**Pink Noise**"
   ]
  },
  {
   "attachments": {},
   "cell_type": "markdown",
   "metadata": {},
   "source": [
    "Pink noise is characterized by a parameter Beta"
   ]
  },
  {
   "cell_type": "code",
   "execution_count": null,
   "metadata": {},
   "outputs": [],
   "source": [
    "from thinkdsp import PinkNoise"
   ]
  },
  {
   "cell_type": "code",
   "execution_count": null,
   "metadata": {},
   "outputs": [],
   "source": [
    "signal = PinkNoise(beta=0)\n",
    "wave = signal.make_wave(duration=0.5)\n",
    "wave.make_audio()"
   ]
  },
  {
   "cell_type": "code",
   "execution_count": null,
   "metadata": {},
   "outputs": [],
   "source": [
    "signal = PinkNoise(beta=1)\n",
    "wave = signal.make_wave(duration=0.5)\n",
    "wave.make_audio()"
   ]
  },
  {
   "cell_type": "code",
   "execution_count": null,
   "metadata": {},
   "outputs": [],
   "source": [
    "signal = PinkNoise(beta=2)\n",
    "wave = signal.make_wave(duration=0.5)\n",
    "wave.make_audio()"
   ]
  },
  {
   "cell_type": "code",
   "execution_count": null,
   "metadata": {},
   "outputs": [],
   "source": [
    "betas = [0, 1, 2]\n",
    "\n",
    "for beta in betas:\n",
    "    signal = PinkNoise(beta=beta)\n",
    "    wave = signal.make_wave(duration=0.5, framerate=1024)\n",
    "    spectrum = wave.make_spectrum()\n",
    "    spectrum.hs[0] = 0\n",
    "    label = f'beta={beta}'\n",
    "    spectrum.plot_power(linewidth=1, alpha=0.7, label=label)\n",
    "    \n",
    "decorate(xlabel='Frequency (Hz)',\n",
    "         ylabel='Power',\n",
    "         **loglog)"
   ]
  },
  {
   "cell_type": "code",
   "execution_count": null,
   "metadata": {},
   "outputs": [],
   "source": [
    "plot_spectrogram(wave, 256)"
   ]
  },
  {
   "attachments": {},
   "cell_type": "markdown",
   "metadata": {},
   "source": [
    "**Uncorrelated Gaussian noise**"
   ]
  },
  {
   "cell_type": "code",
   "execution_count": null,
   "metadata": {},
   "outputs": [],
   "source": [
    "from thinkdsp import UncorrelatedGaussianNoise\n",
    "\n",
    "signal = UncorrelatedGaussianNoise()\n",
    "wave = signal.make_wave(duration=0.5, framerate=11025)\n",
    "wave.plot(linewidth=0.5)\n",
    "decorate(xlabel='Time (s)',\n",
    "         ylabel='Amplitude')"
   ]
  },
  {
   "cell_type": "code",
   "execution_count": null,
   "metadata": {},
   "outputs": [],
   "source": [
    "spectrum = wave.make_spectrum()\n",
    "spectrum.plot_power(linewidth=1)\n",
    "decorate(xlabel='Frequency (Hz)',\n",
    "         ylabel='Power')"
   ]
  },
  {
   "cell_type": "code",
   "execution_count": null,
   "metadata": {},
   "outputs": [],
   "source": [
    "plot_spectrogram(wave, 256)"
   ]
  },
  {
   "attachments": {},
   "cell_type": "markdown",
   "metadata": {},
   "source": [
    "**JOB FOR TODAY**"
   ]
  },
  {
   "cell_type": "code",
   "execution_count": null,
   "metadata": {},
   "outputs": [],
   "source": []
  },
  {
   "cell_type": "code",
   "execution_count": null,
   "metadata": {},
   "outputs": [],
   "source": [
    "cat_audio = read_wave('cats_dogs\\\\test\\cats\\cat_3.wav').make_audio()\n",
    "cat_audio"
   ]
  },
  {
   "cell_type": "code",
   "execution_count": null,
   "metadata": {},
   "outputs": [],
   "source": [
    "cat_wave = read_wave('cats_dogs\\\\test\\cats\\cat_3.wav')"
   ]
  },
  {
   "cell_type": "code",
   "execution_count": null,
   "metadata": {},
   "outputs": [],
   "source": [
    "dog_audio = read_wave('cats_dogs\\\\test\\dogs\\dog_barking_3.wav').make_audio()\n",
    "dog_audio"
   ]
  },
  {
   "cell_type": "code",
   "execution_count": null,
   "metadata": {},
   "outputs": [],
   "source": [
    "dog_wave = read_wave('cats_dogs\\\\test\\dogs\\dog_barking_3.wav')"
   ]
  },
  {
   "cell_type": "code",
   "execution_count": null,
   "metadata": {},
   "outputs": [],
   "source": [
    "plot_spectrogram(cat_wave, 128)"
   ]
  },
  {
   "cell_type": "code",
   "execution_count": null,
   "metadata": {},
   "outputs": [],
   "source": [
    "plot_spectrogram(dog_wave, 128)"
   ]
  },
  {
   "cell_type": "code",
   "execution_count": null,
   "metadata": {},
   "outputs": [],
   "source": [
    "dog_spectrum = dog_wave.make_spectrum()\n",
    "dog_spectrum.plot(linewidth=0.5)\n",
    "decorate(xlabel='Frequency (Hz)',\n",
    "         ylabel='Amplitude')"
   ]
  },
  {
   "cell_type": "code",
   "execution_count": null,
   "metadata": {},
   "outputs": [],
   "source": [
    "cat_spectrum = cat_wave.make_spectrum()\n",
    "cat_spectrum.plot(linewidth=0.5)\n",
    "decorate(xlabel='Frequency (Hz)',\n",
    "         ylabel='Amplitude')"
   ]
  },
  {
   "attachments": {},
   "cell_type": "markdown",
   "metadata": {},
   "source": [
    "**TO DO:**\n",
    "\n",
    "* Find a way to add some noise to cat/dog audio\n",
    "* Plot spectrograms for cat/dog audio\n",
    "* Play audio with added noise\n",
    "* Create spectrogram dataset for dogs/cats"
   ]
  }
 ],
 "metadata": {
  "kernelspec": {
   "display_name": "Python 3.9.12 ('ds_env')",
   "language": "python",
   "name": "python3"
  },
  "language_info": {
   "codemirror_mode": {
    "name": "ipython",
    "version": 3
   },
   "file_extension": ".py",
   "mimetype": "text/x-python",
   "name": "python",
   "nbconvert_exporter": "python",
   "pygments_lexer": "ipython3",
   "version": "3.9.12"
  },
  "orig_nbformat": 4,
  "vscode": {
   "interpreter": {
    "hash": "7bb0ce5cb6b092cde9f0ba713d915425207ed6ea08d3ede97530b87c251a3aee"
   }
  }
 },
 "nbformat": 4,
 "nbformat_minor": 2
}
