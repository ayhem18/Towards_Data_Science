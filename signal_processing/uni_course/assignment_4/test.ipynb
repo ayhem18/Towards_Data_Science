{
 "cells": [
  {
   "cell_type": "code",
   "execution_count": 1,
   "metadata": {},
   "outputs": [],
   "source": [
    "import tensorflow as tf\n",
    "from tensorflow import keras"
   ]
  },
  {
   "cell_type": "code",
   "execution_count": 2,
   "metadata": {},
   "outputs": [
    {
     "name": "stdout",
     "output_type": "stream",
     "text": [
      "Found 1600 images belonging to 8 classes.\n",
      "50/50 [==============================] - 15s 295ms/step - loss: 0.0000e+00 - categorical_accuracy: 0.6906\n"
     ]
    }
   ],
   "source": [
    "IMAGE_SHAPE = (369, 496)\n",
    "VALID_DATA_DIR = 'test_spec/' # replace with your generated test set in here\n",
    "datagen = tf.keras.preprocessing.image.ImageDataGenerator(\n",
    "    rescale=1./255\n",
    ")\n",
    "\n",
    "valid_generator = datagen.flow_from_directory(\n",
    "    VALID_DATA_DIR,\n",
    "    shuffle=False,\n",
    "    target_size=IMAGE_SHAPE,\n",
    ")\n",
    "\n",
    "with tf.device('cpu'):\n",
    "    model = keras.models.load_model('my_model', compile=False)\n",
    "    model.compile(\n",
    "        metrics=[tf.keras.metrics.CategoricalAccuracy()]\n",
    "    )\n",
    "    model.evaluate(valid_generator)"
   ]
  },
  {
   "cell_type": "code",
   "execution_count": 3,
   "metadata": {},
   "outputs": [
    {
     "name": "stdout",
     "output_type": "stream",
     "text": [
      "Found 1599 images belonging to 8 classes.\n",
      "50/50 [==============================] - 15s 284ms/step - loss: 0.0000e+00 - categorical_accuracy: 0.2183\n"
     ]
    }
   ],
   "source": [
    "IMAGE_SHAPE = (369, 496)\n",
    "VALID_DATA_DIR = 'adv_spec/' # replace with your generated test set in here\n",
    "datagen = tf.keras.preprocessing.image.ImageDataGenerator(\n",
    "    rescale=1./255\n",
    ")\n",
    "\n",
    "valid_generator = datagen.flow_from_directory(\n",
    "    VALID_DATA_DIR,\n",
    "    shuffle=False,\n",
    "    target_size=IMAGE_SHAPE,\n",
    ")\n",
    "\n",
    "with tf.device('cpu'):\n",
    "    model = keras.models.load_model('my_model', compile=False)\n",
    "    model.compile(\n",
    "        metrics=[tf.keras.metrics.CategoricalAccuracy()]\n",
    "    )\n",
    "    model.evaluate(valid_generator)"
   ]
  },
  {
   "cell_type": "code",
   "execution_count": null,
   "metadata": {},
   "outputs": [],
   "source": []
  }
 ],
 "metadata": {
  "kernelspec": {
   "display_name": "Python 3",
   "language": "python",
   "name": "python3"
  },
  "language_info": {
   "codemirror_mode": {
    "name": "ipython",
    "version": 3
   },
   "file_extension": ".py",
   "mimetype": "text/x-python",
   "name": "python",
   "nbconvert_exporter": "python",
   "pygments_lexer": "ipython3",
   "version": "3.8.10"
  }
 },
 "nbformat": 4,
 "nbformat_minor": 2
}
