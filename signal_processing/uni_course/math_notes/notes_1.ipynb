{
 "cells": [
  {
   "attachments": {},
   "cell_type": "markdown",
   "metadata": {},
   "source": [
    "# Overview\n",
    "This notebook was created to keep notes of the mathematical concepts needed in the Digital Signal Processing course. The notes are inspired from the following [textbook](https://www.mikrocontroller.net/attachment/341426/Understanding_digital_signal_processing.pdf)"
   ]
  },
  {
   "attachments": {},
   "cell_type": "markdown",
   "metadata": {},
   "source": [
    "## Chapter 1\n",
    "* This chapter is a more of an introduction to the topic. Additionally, it explains notation as well as terminology.  \n",
    "* A general definition of a signal processing is analysing time-variant physical processes. The latter can be either continous or digital. Digital Signal processing is the result of simplifying the signal to a sequence of values at well-known discrete points in time.\n",
    "* Roughly speaking, A signal processing system is any system that receives discrete-time signals and outputs other discrete-time signals after certain manipulation\n",
    "* amplitude is the actual value associated with the sinus / cosine wave\n",
    "* magnitude it the absolute value of the amplitude\n",
    "* For a system $S$ to be linear, if $S(x_1) = y_1$ and $S(x_2) = y_2$, then $$S(c_1 \\cdot x_1 + c_2 \\cdot x_2) = c_1\\cdot y_1 + c_2\\cdot y_2$$\n",
    "* a system is time invariant if, given $$S(x_n) = y_n \\implies S(x_n + k) = y_{n + k}~\\forall k \\in \\mathbb{N} $$\n",
    "*"
   ]
  },
  {
   "attachments": {},
   "cell_type": "markdown",
   "metadata": {},
   "source": [
    "## Chapter 2\n",
    "* so what is periodic sampling ? It is the process of representing a continous signal as a discrete sequence of values where each value is extracted after a specific period of time.\n",
    "* The question associated with sampling is: how well does the discrete sequence represent the original signal.\n",
    "* Let's introduce was simple implication of simpling. Assuming we have a sampling rate $t_s$, then we model the original signal $x_t$ as a sequence $x(n)$ where\n",
    "$$x(n) = amp \\cdot \\sin(2\\pi \\cdot  f_0 \\cdot n \\cdot t_s)$$\n",
    "As the $\\sin$ function is periodic then we have the following equalities:\n",
    "$\n",
    "\\begin{align}\n",
    "    x(n) &= amp \\cdot \\sin(2\\pi \\cdot  f_0 \\cdot n \\cdot t_s)  \\\\\n",
    "    x(n) &= amp \\cdot \\sin(2\\pi \\cdot  f_0 \\cdot n \\cdot t_s + 2\\pi \\cdot m) ~ \\forall m \\in \\mathbb{Z} \\\\\n",
    "    x(n) &= amp \\cdot \\sin(2\\pi \\cdot  (f_0 \\cdot n \\cdot t_s + m)) \\\\\n",
    "    x(n) &= amp \\cdot \\sin(2\\pi \\cdot  (f_0 + \\frac{m}{n \\cdot t_s}) \\cdot n t_s) \\\\\n",
    "    x(n) &= amp \\cdot \\sin(2\\pi \\cdot  (f_0 + k \\cdot f_s) \\cdot n t_s) && \\text{where $m = k \\cdot n $ }\n",
    "\\end{align}\n",
    "$\n",
    "The last equation holds for all $k, n$. leading to the conclusion that $f_0$ and $f_0 + k \\cdot f_s$ are perceived the same when sampling. This phenomena is referred to as ***aliasing*** "
   ]
  },
  {
   "attachments": {},
   "cell_type": "markdown",
   "metadata": {},
   "source": []
  },
  {
   "attachments": {},
   "cell_type": "markdown",
   "metadata": {},
   "source": [
    "# Lecture Topics 3"
   ]
  },
  {
   "attachments": {},
   "cell_type": "markdown",
   "metadata": {},
   "source": [
    "kroncker della sequence is two-side infinite sequence:\n",
    "* $0, 0, 0, 1, 0, 0$ denoted as $\\delta_k$ where $\\delta_{k}(k) = 1$ and $\\delta_{k}{i} = 0 ~\\forall i \\neq k$\n",
    "* A memoryless system can be defined as follows, Assuming sequence $X$, and sequence $X'$, if we have $X_k = X'_k$ (the $k$-th elements of each sequence are equal) and $Y$ and $Y'$ are the output of the system $T$ of the respective sequences, then $Y_k = Y'_k$\n",
    "* 3`\n"
   ]
  }
 ],
 "metadata": {
  "kernelspec": {
   "display_name": "Python 3.9.12 ('ds_env')",
   "language": "python",
   "name": "python3"
  },
  "language_info": {
   "name": "python",
   "version": "3.9.12"
  },
  "orig_nbformat": 4,
  "vscode": {
   "interpreter": {
    "hash": "7bb0ce5cb6b092cde9f0ba713d915425207ed6ea08d3ede97530b87c251a3aee"
   }
  }
 },
 "nbformat": 4,
 "nbformat_minor": 2
}
