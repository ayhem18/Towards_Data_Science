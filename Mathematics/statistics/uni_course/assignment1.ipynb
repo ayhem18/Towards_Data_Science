{
 "cells": [
  {
   "cell_type": "markdown",
   "metadata": {},
   "source": [
    "# Task Description\n",
    "Citizent of city I has recently complained about the quality of the central water supply. The main complains are a strong odor of chlorine and skin itching. \n",
    "\n",
    "Being a responsible person, highly respected Mayor of the city I invited a water quality control service to confirm the high concentration of chlorine in the water. Out of collected $n = 57$ samples, $x = 11$ had a concentration of Chlorine above the governmental standards. \n",
    "\n",
    "Let $\\theta$ denote a true probability that the concentration of Chlorine in a sample exceeds the governmental threshold."
   ]
  },
  {
   "cell_type": "markdown",
   "metadata": {},
   "source": [
    "# question1 \n",
    "What is the conditional distribution of X, the number of samples having a Chlorine concentration above the threshold, given $\\theta$?\n",
    "\n",
    "## Answer\n",
    "Given $\\theta$, $X$ follows a binomial distribution $X \\approx B(n, \\theta)$ which can be written as follows: \n",
    "\n",
    "$$ \n",
    "P(X = x | \\theta) = {n \\choose x} \\cdot \\theta ^ {x} \\cdot (1 - \\theta) ^ {n - x}\n",
    "$$"
   ]
  },
  {
   "cell_type": "markdown",
   "metadata": {},
   "source": [
    "# Question2\n",
    "Before the experiment, the control service experts elicited that the expected value of $\\theta$  is $0.2$ with a standard deviation of $0.16$. \n",
    "\n",
    "Determine the parameters $\\alpha$ and $\\beta$  of a Beta prior distribution for $\\theta$ with this prior mean and standard deviation. (Round $\\alpha$ and $\\beta$ to the nearest integer)\n",
    "\n",
    "## Answer\n",
    "The beta distribution with parameters $\\alpha$ and $\\beta$ satisfy the following equalities:\n",
    "\n",
    "\\begin{equation}\n",
    "\\begin{cases}\n",
    "\\frac{\\alpha}{\\alpha + \\beta} = \\mathbb{E}[B]\\\\\n",
    "\\frac{\\alpha \\cdot \\beta}{(\\alpha + \\beta) ^ 2 \\cdot (\\alpha + \\beta + 1)} = \\mathbb{Var}[B] \n",
    "\\end{cases}\n",
    "\\end{equation}\n",
    "\n",
    "For our problem, the concrete system will be: \n",
    "\\begin{equation}\n",
    "\\begin{cases}\n",
    "\\frac{\\alpha}{\\alpha + \\beta} = 0.2\\\\\n",
    "\\frac{\\alpha \\cdot \\beta}{(\\alpha + \\beta) ^ 2 \\cdot (\\alpha + \\beta + 1)} = 0.16 ^ 2 = 0.0256 \n",
    "\\end{cases} \n",
    "\\implies\n",
    "\\begin{cases}\n",
    "\\alpha = 0.2 \\cdot y \\\\ \n",
    "\\beta = 0.8 \\cdot y \\\\ \n",
    "\\frac{0.16 \\cdot y ^ 2}{(y) ^ 2 \\cdot (y + 1)} = 0.0256 \n",
    "\\end{cases} \n",
    "\\end{equation}\n",
    "\n",
    "\\begin{equation}\n",
    "\\implies\n",
    "\\begin{cases}\n",
    "y = \\frac{0.16}{0.0256} - 1 = 5.25 \\\\\n",
    "\\alpha = 0.2 \\cdot y \\\\ \n",
    "\\beta = 0.8 \\cdot y \\\\ \n",
    "\\end{cases} \n",
    "\\implies\n",
    "\\begin{cases}\n",
    "\\alpha = 0.2 \\cdot y = 1.05 \\approx 1\\\\ \n",
    "\\beta = 0.8 \\cdot y  = 4.2 \\approx 4\\\\ \n",
    "\\end{cases} \n",
    "\\end{equation}\n"
   ]
  },
  {
   "cell_type": "markdown",
   "metadata": {},
   "source": [
    "# Question 3\n",
    "Find the posterior distribution of $\\theta$ and summarize it by its posterior mean and standard deviation\n",
    "\n",
    "## Answer\n",
    "The posterior distribution will be computed as follows:\n",
    "\n",
    "$$\n",
    "P(\\theta | x) = \\frac{P(x | \\theta) \\cdot \\pi(\\theta)}{g(x)}\n",
    "$$ \n",
    "\n",
    "where \n",
    "\n",
    "* $P(x | \\theta) = {57 \\choose 11} \\cdot \\theta ^ {11} \\cdot (1 - \\theta) ^ {46}$ \n",
    "* $\\pi(\\theta) = \\frac{1}{B(1, 4)} \\cdot (1 - \\theta) ^ 3$\n",
    "* $g(x) = \\int_{0}^{1} {57 \\choose 11} \\cdot \\theta ^ {11} \\cdot (1 - \\theta) ^ {46} \\cdot \\frac{1}{B(1, 4)} \\cdot (1 - \\theta) ^ 3 \\, d\\theta $ (since $\\theta$ is a continous random variable)\n",
    "\n",
    "replacing each term by its expression: \n",
    "\n",
    "\n",
    "\\begin{align}\n",
    "\\pi(\\theta | x) &= \\frac{{57 \\choose 11} \\cdot \\theta ^ {11} \\cdot (1 - \\theta) ^ {46} \\cdot \\frac{1}{B(1, 4)} \\cdot (1 - \\theta) ^ 3 }{\\int_{0}^{1} {57 \\choose 11} \\cdot \\theta ^ {11} \\cdot (1 - \\theta) ^ {46} \\cdot \\frac{1}{B(1, 4)} \\cdot (1 - \\theta) ^ 3 \\, d\\theta} \\\\\n",
    "&= \\frac{\\theta ^ {11} \\cdot (1 - \\theta) ^ {49}} {\\int_{0}^{1} \\theta ^ {11} \\cdot (1 - \\theta) ^ {49} \\, d\\theta} & \\text{removing the constant terms}\\\\\n",
    "&= \\frac{\\theta ^ {11} \\cdot (1 - \\theta) ^ {49}} {B(12, 50) \\cdot \\int_{0}^{1}  \\frac{1}{B(12, 50)} \\theta ^ {11} \\cdot (1 - \\theta) ^ {49} \\, d\\theta} \\\\\n",
    "\\implies \\pi(\\theta | x) &= \\frac{1}{B(12, 50)} \\theta ^ {11} \\cdot (1 - \\theta) ^ {49}& \\text{since the denominator is the integral of the Beta function}\\\\\n",
    "\\end{align}\n",
    "\n",
    "We can see that the posterior follows a beta distribution with parameters $\\alpha = 12 $ and $\\beta = 50$\n",
    "\n",
    "The calculation of the mean and variance is then straightforward: \n",
    "\n",
    "$$ \\mathbb{E} (\\pi(\\theta | x)) = \\frac{\\alpha}{\\alpha + \\beta} = \\frac{6}{31} \\approx 0.194\\\\\n",
    "\\mathbb{Var} (\\pi(\\theta | x)) = \\frac{\\alpha \\cdot \\beta}{(\\alpha + \\beta) ^ 2 \\cdot (\\alpha + \\beta + 1)} \\approx 0.0025 \\\\\n",
    "\\mathbb{\\sigma} (\\pi(\\theta | x)) \\approx 0.05\n",
    "$$"
   ]
  },
  {
   "cell_type": "markdown",
   "metadata": {},
   "source": [
    "# Question 4:\n",
    "Plot the prior, posterior and normalized likelihood"
   ]
  },
  {
   "cell_type": "code",
   "execution_count": 1,
   "metadata": {},
   "outputs": [],
   "source": [
    "ALPHA = 12\n",
    "BETA = 50\n",
    "# code for plotting"
   ]
  },
  {
   "cell_type": "markdown",
   "metadata": {},
   "source": [
    "# Question 5:\n",
    "Find the posterior probability that $\\theta < 0.07$\n",
    "\n",
    "## Answer\n",
    "$$P(\\theta < 0.07) = \\mathbb{cdf}(0.07)$$\n",
    "\n",
    "Since the beta distribution does not have an analytical closed formula in general, we will use Python to provide an approximate value."
   ]
  },
  {
   "cell_type": "code",
   "execution_count": 2,
   "metadata": {},
   "outputs": [
    {
     "name": "stdout",
     "output_type": "stream",
     "text": [
      "0.0009493259260248556\n"
     ]
    }
   ],
   "source": [
    "from scipy.stats import beta\n",
    "beta_rv = beta(ALPHA, BETA)\n",
    "cdf_value = beta_rv.cdf([0.07]).item()\n",
    "print(cdf_value)"
   ]
  },
  {
   "cell_type": "markdown",
   "metadata": {},
   "source": [
    "# Question 6\n",
    "Find a central 95% posterior credible interval for $\\theta$\n",
    "\n",
    "The most common way to find a $\\alpha$ confidence interval (where $\\alpha$ in this context is the significance level), is to find the values $t1, t2$ satisfying: \n",
    "\n",
    "* $P(\\theta < t_1) = 1 - \\frac{\\alpha}{2}$\n",
    "* $P(\\theta < t_2) = \\frac{\\alpha}{2}$ \n",
    "\n",
    "and hence\n",
    "$$ P(t_2 < \\theta < t_1) = 1 - \\alpha$$ "
   ]
  },
  {
   "cell_type": "markdown",
   "metadata": {},
   "source": [
    "\n",
    "Finding the exact values $t1$ and $t2$ might not be possibly analytically. However, we can suggest the following algorithm to find them numerically. We make use of the following a facts: \n",
    "\n",
    "* the cdf is a continous function\n",
    "* the cdf is increasing\n",
    "\n",
    "Since we know that $\\theta$ can only take values from $0, 1$, I suggest the following algorithm to find $t$ such that $P(\\theta < t) \\approx y$ \n",
    "\n",
    "1. define $\\mathbb{left} \\leftarrow 0$, $\\mathbb{right} \\leftarrow 1$\n",
    "2. while $\\mathbb{right} - \\mathbb{left} \\leq 0.01$ \n",
    "\t* $\\mathbb{mid} =\\frac{\\mathbb{right} + \\mathbb{left}}{2}$\n",
    "\t* if $P(\\theta < \\mathbb{mid}) > y$:\n",
    "\n",
    "\t\t$\\mathbb{right} \\leftarrow \\mathbb{mid} $\n",
    "\n",
    "\t* else:\n",
    "\n",
    "\t\t$\\mathbb{left} \\leftarrow \\mathbb{mid}$\n",
    "\n",
    "\n",
    "3. return $\\mathbb{mid} =\\frac{\\mathbb{right} + \\mathbb{left}}{2}$"
   ]
  },
  {
   "cell_type": "code",
   "execution_count": 6,
   "metadata": {},
   "outputs": [],
   "source": [
    "def find_t(beta_random_variable, \n",
    "           t: float, \n",
    "           tolerance: float = 10 ** -6) -> float:\n",
    "\tleft = 0\n",
    "\tright = 1\n",
    "\twhile right - left >= tolerance:\n",
    "\t\tmid = (right + left) / 2\n",
    "\t\tmid_cdf = beta_random_variable.cdf([mid]).item()\n",
    "\t\tif mid_cdf > t:\n",
    "\t\t\tright = mid\n",
    "\t\telse:\n",
    "\t\t\tleft = mid\n",
    "\t\t\n",
    "\treturn (right + left) / 2"
   ]
  },
  {
   "cell_type": "code",
   "execution_count": 7,
   "metadata": {},
   "outputs": [
    {
     "name": "stdout",
     "output_type": "stream",
     "text": [
      "The cdf of 0.29979 is 0.9749997255436575\n",
      "The cdf of 0.10599 is 0.024999227127954795\n"
     ]
    }
   ],
   "source": [
    "t1, t2 = find_t(beta_random_variable=beta_rv, t = 0.975), find_t(beta_random_variable=beta_rv, t = 0.025)\n",
    "print(f\"The cdf of {round(t1, 5)} is {beta_rv.cdf(t1)}\")\n",
    "print(f\"The cdf of {round(t2, 5)} is {beta_rv.cdf(t2)}\")"
   ]
  },
  {
   "cell_type": "markdown",
   "metadata": {},
   "source": [
    "The final interval is: \n",
    "$$P( 0.10599 < \\theta < 0.29979) = 0.95$$"
   ]
  },
  {
   "cell_type": "code",
   "execution_count": 9,
   "metadata": {},
   "outputs": [
    {
     "data": {
      "text/plain": [
       "array([0.29978638, 0.10599422])"
      ]
     },
     "execution_count": 9,
     "metadata": {},
     "output_type": "execute_result"
    }
   ],
   "source": [
    "# let's see the answers from scipy\n",
    "beta_rv.ppf([0.975, 0.025]) # it seems that my algorithm is very close !!!! so the answers are the same xD "
   ]
  }
 ],
 "metadata": {
  "kernelspec": {
   "display_name": "tds_env",
   "language": "python",
   "name": "python3"
  },
  "language_info": {
   "codemirror_mode": {
    "name": "ipython",
    "version": 3
   },
   "file_extension": ".py",
   "mimetype": "text/x-python",
   "name": "python",
   "nbconvert_exporter": "python",
   "pygments_lexer": "ipython3",
   "version": "3.10.9"
  }
 },
 "nbformat": 4,
 "nbformat_minor": 2
}
