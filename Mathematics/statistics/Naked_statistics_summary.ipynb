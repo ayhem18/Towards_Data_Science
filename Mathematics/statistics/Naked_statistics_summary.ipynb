{
 "cells": [
  {
   "cell_type": "markdown",
   "metadata": {},
   "source": [
    "# Overview\n",
    "This is a brief summary of a great statistics book named ***Naked Statistics***. The book focuses on intuitive explanations rather than technical details:\n",
    "\n",
    "## Chapter 1: What is the point ?\n",
    "* A Gini Index is a summary statistics representing the equality of wealth distribution in a single country over a specific year. Is it a perfect description ? well not necessarily but it encapsulates a large amount of information into a single number which is quite desirable.\n",
    "\n",
    "* Absolutely relying on a single number can be quite misleading as well. It is indeed informative (and most importantly efficient) but misleading with the wrong hands.\n",
    "* statistics is mainly about learning more about our lives, a better, wiser and more informed decision making."
   ]
  },
  {
   "cell_type": "markdown",
   "metadata": {},
   "source": [
    "\n",
    "## Chapter2: Descriptive statistics:\n",
    "* The mean is misleading and quite sensitive to outliers. Well, Think of outliers as follows: Bill Gates in a bar attended by 10 mcdonald's employees. The mean of the sample with Bill Gates will probably significantly larger than the mean of the sample without him.\n",
    "\n",
    "* The median nevertheless isn't as sensitive. The difference between the median and the mean can reflect the data's balance.\n",
    "* absolute scores are informative as they are: The number of push ups I can do in one setting. A relative score is meaningful only within a predefined context. If I can do up to 40 push ups at one setting, that puts me in the $80$-th percentile$ meaning I can do more push ups than $80\\%$ of the population.\n",
    "\n",
    "* Okay. How can we use this information about the middle point of a population ? It is important how is these values spread the entire spectrum as well as in relation to the center/midpoint of the distribution. \n",
    "\n",
    "* Knowing the standard deviation as well as its mean does tell a lot about the distribution. The mean can be seen as the expected value. the standar deviation gives us an analytical tool to measure how abnormal / unexpected a certain value is... Value lower than $\\mu - \\sigma$ and larger than $\\mu + \\sigma$ are less expected than those lying within this range. How many values lie larger than the standard deviation, not many, right ?\n",
    "\n",
    "* Well here lies the beauty of probability and statistics. Most natural phenomenas follow a very specific and common pattern or as statisticians refer to it as ***distribution***. heights over a large enough population, the number of popcorns popping out in a kernel and (most importantly ???) GPAs in most well-studided carefully designed tests follow the so called ***Normal Distribution***.\n",
    "\n",
    "* Knowning the distribution generally allows us to know how many samples lie above one standard deviation unit and technically any percentile...\n",
    "\n",
    "* This chapters puts forth a very interesting point: The most significant advantage of statistics is that encapsulates an entire phenomena into a single number. That's its most significant disadvantage as well. with that being said, let's jump to the next chapter"
   ]
  },
  {
   "cell_type": "markdown",
   "metadata": {},
   "source": [
    "## Chapter3: Lies\n"
   ]
  }
 ],
 "metadata": {
  "language_info": {
   "name": "python"
  },
  "orig_nbformat": 4
 },
 "nbformat": 4,
 "nbformat_minor": 2
}
