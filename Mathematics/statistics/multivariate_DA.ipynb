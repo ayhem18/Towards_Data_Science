{
 "cells": [
  {
   "cell_type": "markdown",
   "metadata": {},
   "source": [
    "# Overview\n",
    "This is a summary of the Multivariate data analysis book.\n",
    "\n",
    "# Basic Concepts of Multivariate Analysis:\n",
    "* The variate is generally defined as a linear combination of other independent variables with an emperically calculated weights. So, basically a variate can mathematically expressed as follows:\n",
    "\n",
    "$$ Variate = \\sum_{i=1}^n w_i \\cdot x_i$$\n",
    "\n",
    "* types of the independent variables are quite important as they dictate the types of analysis as well as conclusions the anlyst can make.\n",
    "1. NonMetric Measurement scales:\n",
    "    * Nominal: usually present the presence of absence of a characteristics: It is simply nonsensical to determine the ***amount*** of such variable.\n",
    "    * ordinal: higher precision. This variable can have only few possible values where only the order relationship is known but no quantitive difference can be estimated. Such variables can have $4$ possible values: $A, B, C, D$ where $A > B > C> D$. However, expressions such as $A - C$ do not hold any intrinsic meaning or anlytical value.  \n",
    "\n",
    "2. Metric Measurement scales:\n",
    "    * Interval: The difference can be estimated. Nevertheless, there is no absolute zero point. Most importantly, the ratio operation is not necessarily sensical. \n",
    "    * ratio: Quite similar to the `interval` measure but with all mathematical operations valid.\n",
    "\n"
   ]
  },
  {
   "cell_type": "markdown",
   "metadata": {},
   "source": [
    "# Missing Data\n",
    "Here is the schema:\n",
    "\n",
    "1. Is it ignorable ? no generally means something that requires domain knowledge and should be investigated further or on case by case basis...\n",
    "\n",
    "2. non-ignorable missing data ? is it frequent enough ? well if not, can simply remove it (check both: samples wise and variable wise)\n",
    "\n",
    "3. it is frequent enough and should be imputed: well is it random or does it cover a hidden pattern: introducing bias ?\n",
    "\n",
    "4. if is non-random, there are some statistical techniques \n",
    "\n",
    "5. If it is, then well... there are some other techniques.\n",
    "\n",
    "\n",
    "* Keep in mind that Missing data can also be:\n",
    "    1. Personal: simply that very sample is a pain in the ass: a morbid respondent who does find every question offensive / too private in a survey\n",
    "    2. item level: should be imputed (mostly random: the one type for which missing-data analysis were introduced)\n",
    "    3. Construct level: what if the missing data has a common characteristic, a construct..., should be addressed\n",
    "\n",
    "* well the last point is a bit confusing. It seems as a parallel hiearachy to the one introduced in the schema."
   ]
  },
  {
   "cell_type": "code",
   "execution_count": null,
   "metadata": {},
   "outputs": [],
   "source": []
  }
 ],
 "metadata": {
  "language_info": {
   "name": "python"
  },
  "orig_nbformat": 4
 },
 "nbformat": 4,
 "nbformat_minor": 2
}
