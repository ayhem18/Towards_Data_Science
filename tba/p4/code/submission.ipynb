{
 "cells": [
  {
   "cell_type": "markdown",
   "metadata": {},
   "source": [
    "# Task1 \n",
    "Train a Convolutional Neural Network on the Flowers102 dataset"
   ]
  },
  {
   "cell_type": "code",
   "execution_count": null,
   "metadata": {},
   "outputs": [],
   "source": [
    "import os\n",
    "import torchvision.transforms as tr\n",
    "import importlib\n",
    "from common import load_data\n",
    "SCRIPT_DIR = os.getcwd()\n",
    "DATA_FOLDER = os.path.join(SCRIPT_DIR, 'data')\n",
    "os.makedirs(DATA_FOLDER, exist_ok=True)"
   ]
  },
  {
   "cell_type": "markdown",
   "metadata": {},
   "source": [
    "\n",
    "## Baseline\n",
    "\n",
    "The model definition as well as the code for training can be found on the `baseline.py` script"
   ]
  },
  {
   "cell_type": "code",
   "execution_count": null,
   "metadata": {},
   "outputs": [],
   "source": [
    "import baseline as bl\n",
    "importlib.reload(bl)\n",
    "bcnn = bl.BaselineCnn()\n",
    "\n",
    "# add mini-max scaling \n",
    "train_ds, val_ds, test_ds = load_data(parent_dir=DATA_FOLDER, augs=[tr.ToTensor(), # convert to a tensor \n",
    "                                                                    tr.Resize(size=(200, 200)), # resize to the same input shape\n",
    "                                                                    tr.Lambda(lambda x: x / 255.0) # min\n",
    "                                                                    ]) \n",
    "\n",
    "bl.train_baseline(train_ds, val_ds, net = bcnn, num_epochs=2, save_model_path=os.path.join(DATA_FOLDER, 'models', 'bcnn'))"
   ]
  },
  {
   "cell_type": "markdown",
   "metadata": {},
   "source": [
    "# Improved"
   ]
  },
  {
   "cell_type": "markdown",
   "metadata": {},
   "source": [
    "# Resnet50-Based"
   ]
  },
  {
   "cell_type": "markdown",
   "metadata": {},
   "source": [
    "# Task 2"
   ]
  }
 ],
 "metadata": {
  "kernelspec": {
   "display_name": "tus_env",
   "language": "python",
   "name": "python3"
  },
  "language_info": {
   "codemirror_mode": {
    "name": "ipython",
    "version": 3
   },
   "file_extension": ".py",
   "mimetype": "text/x-python",
   "name": "python",
   "nbconvert_exporter": "python",
   "pygments_lexer": "ipython3",
   "version": "3.10.14"
  }
 },
 "nbformat": 4,
 "nbformat_minor": 2
}
