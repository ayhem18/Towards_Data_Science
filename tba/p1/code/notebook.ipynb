{
 "cells": [
  {
   "cell_type": "markdown",
   "metadata": {},
   "source": [
    "# Overview"
   ]
  },
  {
   "cell_type": "code",
   "execution_count": 1,
   "metadata": {},
   "outputs": [],
   "source": [
    "import os, importlib\n",
    "import pandas as pd, numpy as np, matplotlib.pyplot as plt\n",
    "\n",
    "from pathlib import Path\n"
   ]
  },
  {
   "cell_type": "markdown",
   "metadata": {},
   "source": [
    "# Initial Data Preparation"
   ]
  },
  {
   "cell_type": "code",
   "execution_count": 2,
   "metadata": {},
   "outputs": [],
   "source": [
    "# a small piece of code to find the data folder\n",
    "\n",
    "NOTEBOOK_SCRIPT = os.getcwd()\n",
    "\n",
    "current = NOTEBOOK_SCRIPT\n",
    "while 'data' not in os.listdir(current):\n",
    "    current = Path(current).parent\n",
    "\n",
    "DATA_FOLDER = os.path.join(current, 'data')"
   ]
  },
  {
   "cell_type": "code",
   "execution_count": 3,
   "metadata": {},
   "outputs": [],
   "source": [
    "# let's extract all the features needed in the data. \n",
    "import data_preparation as dpre\n",
    "importlib.reload(dpre)\n",
    "\n",
    "\n",
    "db_file = os.path.join(DATA_FOLDER, 'F24.ML.Assignment.One.data.db')\n",
    "df_save_file = os.path.join(DATA_FOLDER, 'data.csv')\n",
    "df = dpre.data_to_df(db_file, \n",
    "           df_save_file, \n",
    "           overwrite=False # no need to execute the same lengthy query if the .csv file already exists...\n",
    "           )"
   ]
  },
  {
   "cell_type": "code",
   "execution_count": 4,
   "metadata": {},
   "outputs": [
    {
     "data": {
      "text/html": [
       "<div>\n",
       "<style scoped>\n",
       "    .dataframe tbody tr th:only-of-type {\n",
       "        vertical-align: middle;\n",
       "    }\n",
       "\n",
       "    .dataframe tbody tr th {\n",
       "        vertical-align: top;\n",
       "    }\n",
       "\n",
       "    .dataframe thead th {\n",
       "        text-align: right;\n",
       "    }\n",
       "</style>\n",
       "<table border=\"1\" class=\"dataframe\">\n",
       "  <thead>\n",
       "    <tr style=\"text-align: right;\">\n",
       "      <th></th>\n",
       "      <th>order_id</th>\n",
       "      <th>start_prep_date</th>\n",
       "      <th>finish_prep_date</th>\n",
       "      <th>profit</th>\n",
       "      <th>delivery_distance</th>\n",
       "      <th>status_id</th>\n",
       "      <th>planned_prep_time</th>\n",
       "      <th>product_id</th>\n",
       "      <th>store_id</th>\n",
       "      <th>price</th>\n",
       "    </tr>\n",
       "  </thead>\n",
       "  <tbody>\n",
       "    <tr>\n",
       "      <th>0</th>\n",
       "      <td>18671223</td>\n",
       "      <td>2024-05-08 00:01:21</td>\n",
       "      <td>2024-05-08 00:25:12</td>\n",
       "      <td>20.145</td>\n",
       "      <td>3934</td>\n",
       "      <td>F</td>\n",
       "      <td>35.0</td>\n",
       "      <td>99278</td>\n",
       "      <td>3750</td>\n",
       "      <td>26.07</td>\n",
       "    </tr>\n",
       "    <tr>\n",
       "      <th>1</th>\n",
       "      <td>18671223</td>\n",
       "      <td>2024-05-08 00:01:21</td>\n",
       "      <td>2024-05-08 00:25:12</td>\n",
       "      <td>20.145</td>\n",
       "      <td>3934</td>\n",
       "      <td>F</td>\n",
       "      <td>35.0</td>\n",
       "      <td>99283</td>\n",
       "      <td>3750</td>\n",
       "      <td>7.11</td>\n",
       "    </tr>\n",
       "    <tr>\n",
       "      <th>2</th>\n",
       "      <td>18671223</td>\n",
       "      <td>2024-05-08 00:01:21</td>\n",
       "      <td>2024-05-08 00:25:12</td>\n",
       "      <td>20.145</td>\n",
       "      <td>3934</td>\n",
       "      <td>F</td>\n",
       "      <td>35.0</td>\n",
       "      <td>99285</td>\n",
       "      <td>3750</td>\n",
       "      <td>7.11</td>\n",
       "    </tr>\n",
       "    <tr>\n",
       "      <th>3</th>\n",
       "      <td>18671225</td>\n",
       "      <td>2024-05-08 00:02:01</td>\n",
       "      <td>2024-05-08 00:10:29</td>\n",
       "      <td>15.800</td>\n",
       "      <td>560</td>\n",
       "      <td>F</td>\n",
       "      <td>15.0</td>\n",
       "      <td>298529</td>\n",
       "      <td>5863</td>\n",
       "      <td>31.60</td>\n",
       "    </tr>\n",
       "    <tr>\n",
       "      <th>4</th>\n",
       "      <td>18671227</td>\n",
       "      <td>2024-05-08 00:01:50</td>\n",
       "      <td>2024-05-08 00:49:19</td>\n",
       "      <td>6.004</td>\n",
       "      <td>4396</td>\n",
       "      <td>F</td>\n",
       "      <td>20.0</td>\n",
       "      <td>399309</td>\n",
       "      <td>8721</td>\n",
       "      <td>30.02</td>\n",
       "    </tr>\n",
       "  </tbody>\n",
       "</table>\n",
       "</div>"
      ],
      "text/plain": [
       "   order_id      start_prep_date     finish_prep_date  profit  \\\n",
       "0  18671223  2024-05-08 00:01:21  2024-05-08 00:25:12  20.145   \n",
       "1  18671223  2024-05-08 00:01:21  2024-05-08 00:25:12  20.145   \n",
       "2  18671223  2024-05-08 00:01:21  2024-05-08 00:25:12  20.145   \n",
       "3  18671225  2024-05-08 00:02:01  2024-05-08 00:10:29  15.800   \n",
       "4  18671227  2024-05-08 00:01:50  2024-05-08 00:49:19   6.004   \n",
       "\n",
       "   delivery_distance status_id  planned_prep_time  product_id  store_id  price  \n",
       "0               3934         F               35.0       99278      3750  26.07  \n",
       "1               3934         F               35.0       99283      3750   7.11  \n",
       "2               3934         F               35.0       99285      3750   7.11  \n",
       "3                560         F               15.0      298529      5863  31.60  \n",
       "4               4396         F               20.0      399309      8721  30.02  "
      ]
     },
     "execution_count": 4,
     "metadata": {},
     "output_type": "execute_result"
    }
   ],
   "source": [
    "df.head()"
   ]
  },
  {
   "cell_type": "markdown",
   "metadata": {},
   "source": [
    "## Observations\n",
    "\n",
    "\n",
    "* the preparation time (in mintues) which is defined as the difference between finish_prep_data and start_prep_date is common between all items in the same order. In this case it is important to have disjoint sets of orders in the train and test dataset to avoid data leakage. A SOPHITICATED MODEL (SUCH AS NEURAL NETWORK) CAN EASILY MEMORIZE THE ORDER ID, MAP IT TO ITS LABEL.\n",
    "\n",
    "* if the price + product_id do not provide any useful insights. I will keep only the information on the order-level reducing the number of samples.\n"
   ]
  },
  {
   "cell_type": "markdown",
   "metadata": {},
   "source": [
    "# Data Preparation"
   ]
  },
  {
   "cell_type": "markdown",
   "metadata": {},
   "source": [
    "## Missing data\n",
    "Before moving to data splitting, it is necessary to make sure the 'fields' needed to compute the label are not missing."
   ]
  },
  {
   "cell_type": "code",
   "execution_count": 5,
   "metadata": {},
   "outputs": [
    {
     "data": {
      "text/plain": [
       "order_id             0.000000\n",
       "start_prep_date      0.000000\n",
       "finish_prep_date     0.000000\n",
       "profit               0.099278\n",
       "delivery_distance    0.000000\n",
       "status_id            0.000000\n",
       "planned_prep_time    0.000004\n",
       "product_id           0.000000\n",
       "store_id             0.000000\n",
       "price                0.100164\n",
       "dtype: float64"
      ]
     },
     "execution_count": 5,
     "metadata": {},
     "output_type": "execute_result"
    }
   ],
   "source": [
    "import pandas as pd\n",
    "import numpy as np\n",
    "missing_data = np.mean(df.isna(), axis=0)\n",
    "missing_data"
   ]
  },
  {
   "cell_type": "markdown",
   "metadata": {},
   "source": [
    "The data has been prepared (with SQL) such that for a single order neither `finish_prep_date` nor `start_prep_date` would be missing and the natural relation `finish_prep_date` > `start_prep_date` is preserved. The label for a given order is the difference of these two values and hence a missing value in one of them would mean a missing label. Imputing missing labels is highly discouraged as it is prone to introduce bias according to [Multivariate Analysis](https://www.drnishikantjha.com/papersCollection/Multivariate%20Data%20Analysis.pdf).\n",
    "\n",
    "Since `planned_prep_time` is intuitively a very good indicator of the actual preparation time, we will also remove the very few samples with missing `planned_prep_time`. "
   ]
  },
  {
   "cell_type": "code",
   "execution_count": 6,
   "metadata": {},
   "outputs": [
    {
     "name": "stdout",
     "output_type": "stream",
     "text": [
      "missing ratio: 3.6493553413789454e-06\n"
     ]
    },
    {
     "data": {
      "text/html": [
       "<div>\n",
       "<style scoped>\n",
       "    .dataframe tbody tr th:only-of-type {\n",
       "        vertical-align: middle;\n",
       "    }\n",
       "\n",
       "    .dataframe tbody tr th {\n",
       "        vertical-align: top;\n",
       "    }\n",
       "\n",
       "    .dataframe thead th {\n",
       "        text-align: right;\n",
       "    }\n",
       "</style>\n",
       "<table border=\"1\" class=\"dataframe\">\n",
       "  <thead>\n",
       "    <tr style=\"text-align: right;\">\n",
       "      <th></th>\n",
       "      <th>order_id</th>\n",
       "      <th>start_prep_date</th>\n",
       "      <th>profit</th>\n",
       "      <th>delivery_distance</th>\n",
       "      <th>status_id</th>\n",
       "      <th>planned_prep_time</th>\n",
       "      <th>product_id</th>\n",
       "      <th>store_id</th>\n",
       "      <th>price</th>\n",
       "      <th>y</th>\n",
       "    </tr>\n",
       "  </thead>\n",
       "  <tbody>\n",
       "    <tr>\n",
       "      <th>0</th>\n",
       "      <td>18671223</td>\n",
       "      <td>2024-05-08 00:01:21</td>\n",
       "      <td>20.145</td>\n",
       "      <td>3934</td>\n",
       "      <td>F</td>\n",
       "      <td>35.0</td>\n",
       "      <td>99278</td>\n",
       "      <td>3750</td>\n",
       "      <td>26.07</td>\n",
       "      <td>23.0</td>\n",
       "    </tr>\n",
       "    <tr>\n",
       "      <th>1</th>\n",
       "      <td>18671223</td>\n",
       "      <td>2024-05-08 00:01:21</td>\n",
       "      <td>20.145</td>\n",
       "      <td>3934</td>\n",
       "      <td>F</td>\n",
       "      <td>35.0</td>\n",
       "      <td>99283</td>\n",
       "      <td>3750</td>\n",
       "      <td>7.11</td>\n",
       "      <td>23.0</td>\n",
       "    </tr>\n",
       "    <tr>\n",
       "      <th>2</th>\n",
       "      <td>18671223</td>\n",
       "      <td>2024-05-08 00:01:21</td>\n",
       "      <td>20.145</td>\n",
       "      <td>3934</td>\n",
       "      <td>F</td>\n",
       "      <td>35.0</td>\n",
       "      <td>99285</td>\n",
       "      <td>3750</td>\n",
       "      <td>7.11</td>\n",
       "      <td>23.0</td>\n",
       "    </tr>\n",
       "    <tr>\n",
       "      <th>3</th>\n",
       "      <td>18671225</td>\n",
       "      <td>2024-05-08 00:02:01</td>\n",
       "      <td>15.800</td>\n",
       "      <td>560</td>\n",
       "      <td>F</td>\n",
       "      <td>15.0</td>\n",
       "      <td>298529</td>\n",
       "      <td>5863</td>\n",
       "      <td>31.60</td>\n",
       "      <td>8.0</td>\n",
       "    </tr>\n",
       "    <tr>\n",
       "      <th>4</th>\n",
       "      <td>18671227</td>\n",
       "      <td>2024-05-08 00:01:50</td>\n",
       "      <td>6.004</td>\n",
       "      <td>4396</td>\n",
       "      <td>F</td>\n",
       "      <td>20.0</td>\n",
       "      <td>399309</td>\n",
       "      <td>8721</td>\n",
       "      <td>30.02</td>\n",
       "      <td>47.0</td>\n",
       "    </tr>\n",
       "  </tbody>\n",
       "</table>\n",
       "</div>"
      ],
      "text/plain": [
       "   order_id     start_prep_date  profit  delivery_distance status_id  \\\n",
       "0  18671223 2024-05-08 00:01:21  20.145               3934         F   \n",
       "1  18671223 2024-05-08 00:01:21  20.145               3934         F   \n",
       "2  18671223 2024-05-08 00:01:21  20.145               3934         F   \n",
       "3  18671225 2024-05-08 00:02:01  15.800                560         F   \n",
       "4  18671227 2024-05-08 00:01:50   6.004               4396         F   \n",
       "\n",
       "   planned_prep_time  product_id  store_id  price     y  \n",
       "0               35.0       99278      3750  26.07  23.0  \n",
       "1               35.0       99283      3750   7.11  23.0  \n",
       "2               35.0       99285      3750   7.11  23.0  \n",
       "3               15.0      298529      5863  31.60   8.0  \n",
       "4               20.0      399309      8721  30.02  47.0  "
      ]
     },
     "execution_count": 6,
     "metadata": {},
     "output_type": "execute_result"
    }
   ],
   "source": [
    "importlib.reload(dpre)\n",
    "samples_with_missing = dpre.samples_with_missing_data(df, columns=['planned_prep_time'], missing_data_rel='or', objective='locate')\n",
    "print(f\"missing ratio: {len(samples_with_missing) / len(df)}\") \n",
    "\n",
    "# we are barely losing any data...\n",
    "df = dpre.samples_with_missing_data(df, columns=['planned_prep_time'], missing_data_rel='or', objective='remove')\n",
    "\n",
    "# prepare the date\n",
    "df = dpre.prepare_labels(df)\n",
    "df.head()"
   ]
  },
  {
   "cell_type": "code",
   "execution_count": 7,
   "metadata": {},
   "outputs": [
    {
     "name": "stdout",
     "output_type": "stream",
     "text": [
      "0\n",
      "zero prep time portion:  0.0011595868914677761\n"
     ]
    }
   ],
   "source": [
    "## one final check; 'y' is expected to be strictly positive.\n",
    "print(len(df[df['y'] < 0]))\n",
    "## no 'y' stricly less than 0, but we still have labels as '0'.\n",
    "zero_prep_time = df[df['y'] == 0]\n",
    "print(\"zero prep time portion: \", len(zero_prep_time) / len(df)) # 0.1% of the data\n",
    "df = df[df['y'] > 0]"
   ]
  },
  {
   "cell_type": "markdown",
   "metadata": {},
   "source": [
    "## Split Data"
   ]
  },
  {
   "cell_type": "code",
   "execution_count": 8,
   "metadata": {},
   "outputs": [
    {
     "data": {
      "text/plain": [
       "(985287, 109522, 8.9962)"
      ]
     },
     "execution_count": 8,
     "metadata": {},
     "output_type": "execute_result"
    }
   ],
   "source": [
    "# according to the assignment requirements, the data must be split into train and test with test representing 10% of the data\n",
    "importlib.reload(dpre)\n",
    "df_train, df_test = dpre.df_split(df, splits=(0.9, 0.1))\n",
    "# everything seems to checkout !!!\n",
    "len(df_train), len(df_test), round(len(df_train) / len(df_test), 4) "
   ]
  },
  {
   "cell_type": "markdown",
   "metadata": {},
   "source": [
    "## Impute Missing data:  The price and profit columns"
   ]
  },
  {
   "cell_type": "markdown",
   "metadata": {},
   "source": [
    "\n",
    "### Price\n",
    "We can assume that the same product_id is associated with the same price tag."
   ]
  },
  {
   "cell_type": "code",
   "execution_count": 9,
   "metadata": {},
   "outputs": [
    {
     "data": {
      "text/html": [
       "<div>\n",
       "<style scoped>\n",
       "    .dataframe tbody tr th:only-of-type {\n",
       "        vertical-align: middle;\n",
       "    }\n",
       "\n",
       "    .dataframe tbody tr th {\n",
       "        vertical-align: top;\n",
       "    }\n",
       "\n",
       "    .dataframe thead tr th {\n",
       "        text-align: left;\n",
       "    }\n",
       "\n",
       "    .dataframe thead tr:last-of-type th {\n",
       "        text-align: right;\n",
       "    }\n",
       "</style>\n",
       "<table border=\"1\" class=\"dataframe\">\n",
       "  <thead>\n",
       "    <tr>\n",
       "      <th></th>\n",
       "      <th>min</th>\n",
       "      <th>median</th>\n",
       "      <th>mean</th>\n",
       "      <th>count</th>\n",
       "      <th>&lt;lambda&gt;</th>\n",
       "    </tr>\n",
       "    <tr>\n",
       "      <th></th>\n",
       "      <th>price</th>\n",
       "      <th>price</th>\n",
       "      <th>price</th>\n",
       "      <th>price</th>\n",
       "      <th>price</th>\n",
       "    </tr>\n",
       "    <tr>\n",
       "      <th>product_id</th>\n",
       "      <th></th>\n",
       "      <th></th>\n",
       "      <th></th>\n",
       "      <th></th>\n",
       "      <th></th>\n",
       "    </tr>\n",
       "  </thead>\n",
       "  <tbody>\n",
       "    <tr>\n",
       "      <th>29049</th>\n",
       "      <td>47.40</td>\n",
       "      <td>47.40</td>\n",
       "      <td>47.40</td>\n",
       "      <td>730</td>\n",
       "      <td>84</td>\n",
       "    </tr>\n",
       "    <tr>\n",
       "      <th>29060</th>\n",
       "      <td>94.80</td>\n",
       "      <td>94.80</td>\n",
       "      <td>94.80</td>\n",
       "      <td>43</td>\n",
       "      <td>7</td>\n",
       "    </tr>\n",
       "    <tr>\n",
       "      <th>29115</th>\n",
       "      <td>31.60</td>\n",
       "      <td>31.60</td>\n",
       "      <td>31.60</td>\n",
       "      <td>17</td>\n",
       "      <td>3</td>\n",
       "    </tr>\n",
       "    <tr>\n",
       "      <th>29127</th>\n",
       "      <td>79.00</td>\n",
       "      <td>79.00</td>\n",
       "      <td>79.00</td>\n",
       "      <td>16</td>\n",
       "      <td>2</td>\n",
       "    </tr>\n",
       "    <tr>\n",
       "      <th>29139</th>\n",
       "      <td>35.55</td>\n",
       "      <td>35.55</td>\n",
       "      <td>35.55</td>\n",
       "      <td>65</td>\n",
       "      <td>6</td>\n",
       "    </tr>\n",
       "    <tr>\n",
       "      <th>...</th>\n",
       "      <td>...</td>\n",
       "      <td>...</td>\n",
       "      <td>...</td>\n",
       "      <td>...</td>\n",
       "      <td>...</td>\n",
       "    </tr>\n",
       "    <tr>\n",
       "      <th>1314301</th>\n",
       "      <td>NaN</td>\n",
       "      <td>NaN</td>\n",
       "      <td>NaN</td>\n",
       "      <td>0</td>\n",
       "      <td>1</td>\n",
       "    </tr>\n",
       "    <tr>\n",
       "      <th>1314339</th>\n",
       "      <td>NaN</td>\n",
       "      <td>NaN</td>\n",
       "      <td>NaN</td>\n",
       "      <td>0</td>\n",
       "      <td>1</td>\n",
       "    </tr>\n",
       "    <tr>\n",
       "      <th>1314389</th>\n",
       "      <td>NaN</td>\n",
       "      <td>NaN</td>\n",
       "      <td>NaN</td>\n",
       "      <td>0</td>\n",
       "      <td>1</td>\n",
       "    </tr>\n",
       "    <tr>\n",
       "      <th>1314907</th>\n",
       "      <td>NaN</td>\n",
       "      <td>NaN</td>\n",
       "      <td>NaN</td>\n",
       "      <td>0</td>\n",
       "      <td>1</td>\n",
       "    </tr>\n",
       "    <tr>\n",
       "      <th>1315631</th>\n",
       "      <td>NaN</td>\n",
       "      <td>NaN</td>\n",
       "      <td>NaN</td>\n",
       "      <td>0</td>\n",
       "      <td>1</td>\n",
       "    </tr>\n",
       "  </tbody>\n",
       "</table>\n",
       "<p>52904 rows × 5 columns</p>\n",
       "</div>"
      ],
      "text/plain": [
       "              min median   mean count <lambda>\n",
       "            price  price  price price    price\n",
       "product_id                                    \n",
       "29049       47.40  47.40  47.40   730       84\n",
       "29060       94.80  94.80  94.80    43        7\n",
       "29115       31.60  31.60  31.60    17        3\n",
       "29127       79.00  79.00  79.00    16        2\n",
       "29139       35.55  35.55  35.55    65        6\n",
       "...           ...    ...    ...   ...      ...\n",
       "1314301       NaN    NaN    NaN     0        1\n",
       "1314339       NaN    NaN    NaN     0        1\n",
       "1314389       NaN    NaN    NaN     0        1\n",
       "1314907       NaN    NaN    NaN     0        1\n",
       "1315631       NaN    NaN    NaN     0        1\n",
       "\n",
       "[52904 rows x 5 columns]"
      ]
     },
     "execution_count": 9,
     "metadata": {},
     "output_type": "execute_result"
    }
   ],
   "source": [
    "PRODUCT_PRICE_TRAIN = pd.pivot_table(df_train, values=['price'], index='product_id', aggfunc=['min', 'median', 'mean', 'count', lambda x: x.isna().sum()])\n",
    "PRODUCT_PRICE_TRAIN"
   ]
  },
  {
   "cell_type": "markdown",
   "metadata": {},
   "source": [
    "product_ids have Nan prices in certain samples and non-na value in others. We can use the aggregated values to impute the nan values. However, we still have samples without a price value at all."
   ]
  },
  {
   "cell_type": "code",
   "execution_count": 10,
   "metadata": {},
   "outputs": [
    {
     "data": {
      "text/html": [
       "<div>\n",
       "<style scoped>\n",
       "    .dataframe tbody tr th:only-of-type {\n",
       "        vertical-align: middle;\n",
       "    }\n",
       "\n",
       "    .dataframe tbody tr th {\n",
       "        vertical-align: top;\n",
       "    }\n",
       "\n",
       "    .dataframe thead th {\n",
       "        text-align: right;\n",
       "    }\n",
       "</style>\n",
       "<table border=\"1\" class=\"dataframe\">\n",
       "  <thead>\n",
       "    <tr style=\"text-align: right;\">\n",
       "      <th></th>\n",
       "      <th>product_id</th>\n",
       "      <th>mean_price</th>\n",
       "    </tr>\n",
       "  </thead>\n",
       "  <tbody>\n",
       "    <tr>\n",
       "      <th>0</th>\n",
       "      <td>29049</td>\n",
       "      <td>47.40</td>\n",
       "    </tr>\n",
       "    <tr>\n",
       "      <th>1</th>\n",
       "      <td>29060</td>\n",
       "      <td>94.80</td>\n",
       "    </tr>\n",
       "    <tr>\n",
       "      <th>2</th>\n",
       "      <td>29115</td>\n",
       "      <td>31.60</td>\n",
       "    </tr>\n",
       "    <tr>\n",
       "      <th>3</th>\n",
       "      <td>29127</td>\n",
       "      <td>79.00</td>\n",
       "    </tr>\n",
       "    <tr>\n",
       "      <th>4</th>\n",
       "      <td>29139</td>\n",
       "      <td>35.55</td>\n",
       "    </tr>\n",
       "  </tbody>\n",
       "</table>\n",
       "</div>"
      ],
      "text/plain": [
       "   product_id  mean_price\n",
       "0       29049       47.40\n",
       "1       29060       94.80\n",
       "2       29115       31.60\n",
       "3       29127       79.00\n",
       "4       29139       35.55"
      ]
     },
     "execution_count": 10,
     "metadata": {},
     "output_type": "execute_result"
    }
   ],
   "source": [
    "PRODUCT_PRICE_TRAIN.isna().sum()\n",
    "# keep pnly the mean price\n",
    "PRODUCT_PRICE_TRAIN.columns = PRODUCT_PRICE_TRAIN.columns.droplevel(1)\n",
    "PRODUCT_PRICE_TRAIN = PRODUCT_PRICE_TRAIN.rename(columns={\"mean\": \"mean_price\"}).reset_index()\n",
    "PRODUCT_PRICE_TRAIN = PRODUCT_PRICE_TRAIN[['product_id', 'mean_price']]\n",
    "PRODUCT_PRICE_TRAIN.head()"
   ]
  },
  {
   "cell_type": "code",
   "execution_count": 11,
   "metadata": {},
   "outputs": [],
   "source": [
    "def impute_price(df: pd.DataFrame):\n",
    "\treturn pd.merge(df, PRODUCT_PRICE_TRAIN, \n",
    "\t\t\t\thow='left', \n",
    "\t\t\t\tleft_on='product_id', \n",
    "\t\t\t\tright_on='product_id')\n",
    "\n",
    "df_train = impute_price(df_train)"
   ]
  },
  {
   "cell_type": "code",
   "execution_count": 12,
   "metadata": {},
   "outputs": [],
   "source": [
    "df_train.isna().sum()\n",
    "# as we can see here the number of Nan 'prices' was reduced from  300k to a mere 1.5k\n",
    "# I am unlikely to use the exact price of an item.\n",
    "df_train = df_train.drop(columns=['price']).rename(columns={\"mean_price\": \"price\"})\n",
    "\n",
    "df_test = impute_price(df_test)\n",
    "df_test = df_test.drop(columns=['price']).rename(columns={\"mean_price\": \"price\"})"
   ]
  },
  {
   "cell_type": "markdown",
   "metadata": {},
   "source": [
    "### Profit \n",
    "Unlike the price, the profit is computed across the entire order. We can consider some aggregate across both the store and the product id; basically an estimation of how much profit a specific store makes on a specific product."
   ]
  },
  {
   "cell_type": "code",
   "execution_count": 13,
   "metadata": {},
   "outputs": [
    {
     "data": {
      "text/html": [
       "<div>\n",
       "<style scoped>\n",
       "    .dataframe tbody tr th:only-of-type {\n",
       "        vertical-align: middle;\n",
       "    }\n",
       "\n",
       "    .dataframe tbody tr th {\n",
       "        vertical-align: top;\n",
       "    }\n",
       "\n",
       "    .dataframe thead th {\n",
       "        text-align: right;\n",
       "    }\n",
       "</style>\n",
       "<table border=\"1\" class=\"dataframe\">\n",
       "  <thead>\n",
       "    <tr style=\"text-align: right;\">\n",
       "      <th></th>\n",
       "      <th></th>\n",
       "      <th>profit_agg</th>\n",
       "    </tr>\n",
       "    <tr>\n",
       "      <th>store_id</th>\n",
       "      <th>product_id</th>\n",
       "      <th></th>\n",
       "    </tr>\n",
       "  </thead>\n",
       "  <tbody>\n",
       "    <tr>\n",
       "      <th rowspan=\"5\" valign=\"top\">3053</th>\n",
       "      <th>29049</th>\n",
       "      <td>9.480</td>\n",
       "    </tr>\n",
       "    <tr>\n",
       "      <th>29060</th>\n",
       "      <td>26.860</td>\n",
       "    </tr>\n",
       "    <tr>\n",
       "      <th>29115</th>\n",
       "      <td>11.850</td>\n",
       "    </tr>\n",
       "    <tr>\n",
       "      <th>29848</th>\n",
       "      <td>9.875</td>\n",
       "    </tr>\n",
       "    <tr>\n",
       "      <th>30299</th>\n",
       "      <td>2.528</td>\n",
       "    </tr>\n",
       "    <tr>\n",
       "      <th>...</th>\n",
       "      <th>...</th>\n",
       "      <td>...</td>\n",
       "    </tr>\n",
       "    <tr>\n",
       "      <th rowspan=\"4\" valign=\"top\">11963</th>\n",
       "      <th>1089865</th>\n",
       "      <td>24.016</td>\n",
       "    </tr>\n",
       "    <tr>\n",
       "      <th>1089883</th>\n",
       "      <td>35.471</td>\n",
       "    </tr>\n",
       "    <tr>\n",
       "      <th>1248477</th>\n",
       "      <td>11.534</td>\n",
       "    </tr>\n",
       "    <tr>\n",
       "      <th>1248503</th>\n",
       "      <td>24.016</td>\n",
       "    </tr>\n",
       "    <tr>\n",
       "      <th>11965</th>\n",
       "      <th>1317371</th>\n",
       "      <td>13.430</td>\n",
       "    </tr>\n",
       "  </tbody>\n",
       "</table>\n",
       "<p>68756 rows × 1 columns</p>\n",
       "</div>"
      ],
      "text/plain": [
       "                     profit_agg\n",
       "store_id product_id            \n",
       "3053     29049            9.480\n",
       "         29060           26.860\n",
       "         29115           11.850\n",
       "         29848            9.875\n",
       "         30299            2.528\n",
       "...                         ...\n",
       "11963    1089865         24.016\n",
       "         1089883         35.471\n",
       "         1248477         11.534\n",
       "         1248503         24.016\n",
       "11965    1317371         13.430\n",
       "\n",
       "[68756 rows x 1 columns]"
      ]
     },
     "execution_count": 13,
     "metadata": {},
     "output_type": "execute_result"
    }
   ],
   "source": [
    "# choosing the min, gives us the best estimation of the profit that a certain store makes on a given product.\n",
    "TRAIN_PROFIT_PER_STORE_AND_PRODUCT = pd.pivot_table(df_train, values=['profit'], index=['store_id', 'product_id'], aggfunc='min')\n",
    "TRAIN_PROFIT_PER_STORE_AND_PRODUCT = TRAIN_PROFIT_PER_STORE_AND_PRODUCT.rename(columns={\"profit\": \"profit_agg\"}) \n",
    "TRAIN_PROFIT_PER_STORE_AND_PRODUCT"
   ]
  },
  {
   "cell_type": "code",
   "execution_count": 14,
   "metadata": {},
   "outputs": [
    {
     "data": {
      "text/plain": [
       "order_id                0\n",
       "start_prep_date         0\n",
       "profit                  0\n",
       "delivery_distance       0\n",
       "status_id               0\n",
       "planned_prep_time       0\n",
       "product_id              0\n",
       "store_id                0\n",
       "y                       0\n",
       "price                1423\n",
       "dtype: int64"
      ]
     },
     "execution_count": 14,
     "metadata": {},
     "output_type": "execute_result"
    }
   ],
   "source": [
    "# let's impute now:\n",
    "def impute_profit(df: pd.DataFrame) -> pd.DataFrame:\n",
    "\tnew_df = pd.merge(left=df, right=TRAIN_PROFIT_PER_STORE_AND_PRODUCT, \n",
    "\t\t\t\thow='left', \n",
    "\t\t\t\tright_index=True, \n",
    "\t\t\t\tleft_on=['store_id', 'product_id'])\n",
    "\n",
    "\tnew_df_agg = pd.pivot_table(new_df, values=['profit_agg'], index='order_id', aggfunc='sum') \n",
    "\n",
    "\t# merge again \n",
    "\tnew_df = pd.merge(new_df.drop(columns=['profit_agg']), new_df_agg, left_on='order_id', right_index=True)\n",
    "\t\n",
    "\tdef impute_by_row(row):\n",
    "\t\tif np.isnan(row['profit']):\n",
    "\t\t\trow['profit'] = row['profit_agg']\n",
    "\t\treturn row\n",
    "\t# impute and then remove the 'profit_agg' column\n",
    "\treturn new_df.apply(impute_by_row, axis=1).drop(columns='profit_agg')\n",
    "\n",
    "df_train = impute_profit(df_train)\n",
    "df_train.isna().sum()"
   ]
  },
  {
   "cell_type": "code",
   "execution_count": 15,
   "metadata": {},
   "outputs": [
    {
     "data": {
      "text/plain": [
       "order_id                0\n",
       "start_prep_date         0\n",
       "profit                  0\n",
       "delivery_distance       0\n",
       "status_id               0\n",
       "planned_prep_time       0\n",
       "product_id              0\n",
       "store_id                0\n",
       "y                       0\n",
       "price                1560\n",
       "dtype: int64"
      ]
     },
     "execution_count": 15,
     "metadata": {},
     "output_type": "execute_result"
    }
   ],
   "source": [
    "df_test = impute_profit(df_test)\n",
    "df_test.isna().sum()"
   ]
  },
  {
   "cell_type": "markdown",
   "metadata": {},
   "source": [
    "# EDA"
   ]
  },
  {
   "cell_type": "markdown",
   "metadata": {},
   "source": [
    "## Labels: preparation time"
   ]
  },
  {
   "cell_type": "code",
   "execution_count": 16,
   "metadata": {},
   "outputs": [
    {
     "data": {
      "image/png": "[encoded data removed]",
      "text/plain": [
       "<Figure size 1400x600 with 2 Axes>"
      ]
     },
     "metadata": {},
     "output_type": "display_data"
    }
   ],
   "source": [
    "# let's visualize the distribution of labels: both box plot and histograms\n",
    "import matplotlib.pyplot as plt\n",
    "\n",
    "y_train = df_train['y']\n",
    "\n",
    "fig = plt.figure(figsize=(14, 6)) \n",
    "fig.add_subplot(1, 2, 1) \n",
    "\n",
    "plt.hist(y_train, bins=100)\n",
    "plt.title(\"Histogram of `prep time`\")\n",
    "\n",
    "fig.add_subplot(1, 2, 2) \n",
    "plt.boxplot(y_train)\n",
    "plt.title(\"Box plot of `prep time`\")\n",
    "plt.show()"
   ]
  },
  {
   "cell_type": "markdown",
   "metadata": {},
   "source": [
    "The histogram clearly demonstrates the skewed distribution of preparation time. Furthermore, the box plot confirms the presence of a relatively large number of outliers. "
   ]
  },
  {
   "cell_type": "code",
   "execution_count": 17,
   "metadata": {},
   "outputs": [],
   "source": [
    "import eda\n",
    "importlib.reload(eda)\n",
    "mask = eda.iqr_outliers(df_train, 'y', add_column=True)\n",
    "df_train = df_train[df_train['is_outlier'] == False]\n",
    "df_train.drop(columns=['is_outlier'], inplace=True)"
   ]
  },
  {
   "cell_type": "markdown",
   "metadata": {},
   "source": [
    "## Feature clasification: Encoding categorical features"
   ]
  },
  {
   "cell_type": "markdown",
   "metadata": {},
   "source": [
    "\n",
    "Before applying feature enginnering techniques, it is important to understand the type of data we have: categorial, numerical..."
   ]
  },
  {
   "cell_type": "code",
   "execution_count": 18,
   "metadata": {},
   "outputs": [
    {
     "data": {
      "text/plain": [
       "order_id             371561\n",
       "start_prep_date      361364\n",
       "profit                18579\n",
       "delivery_distance     16682\n",
       "status_id                 2\n",
       "planned_prep_time        87\n",
       "product_id            52475\n",
       "store_id               1409\n",
       "y                        51\n",
       "price                  7999\n",
       "dtype: int64"
      ]
     },
     "execution_count": 18,
     "metadata": {},
     "output_type": "execute_result"
    }
   ],
   "source": [
    "df_train.nunique()"
   ]
  },
  {
   "cell_type": "markdown",
   "metadata": {},
   "source": [
    "The features can be classified as follows:\n",
    "\n",
    "1. Categorical: \n",
    "\t* product_id\n",
    "\t* store_id\n",
    "\t* order_id: if the product_id does not make a difference, then we will use group by the order id and reduce the number of samples...\n",
    "\n",
    "2. Continuous:\n",
    "\t* planned prep time\n",
    "\t* price\n",
    "\n",
    "3. time:\n",
    "\t* start_prep_time: extract the day of the week, the hour, the number of orders a store has received in the last \"x\" minutes\n",
    "\t* product creation time\n",
    "\n",
    "Few observations: \n",
    "\n",
    "* too many products\n",
    "* either discard products in general (if most of them were ordered only once or twice) or somehow laverage the frequntly ordered products\n",
    "* we have few stores which means we can build some \n",
    "* the price needs to aggregated across all items in the order\n"
   ]
  },
  {
   "cell_type": "markdown",
   "metadata": {},
   "source": [
    "### Product Id and number of products\n",
    "\n",
    "The number of products is huge. However, due to the low number of features, we do not have much of a choice but to use our features to the fullest. Categorial features with a larger number of unique values are the trickiest to encode. (the product id, although numerical, does not provide any value in and of itself)\n",
    "\n",
    "After exploring and messing around with the data, I applied a custom target encoding of products_id. I experimented with 2 ideas with common steps:\n",
    "\n",
    "\n",
    "* common steps: \n",
    "\t1. consider frequent products bought at least 25 times (25 is arbitrary) \n",
    "\t2. extract orders with at least one frequent product \n",
    "\n",
    "* idea 1: \n",
    "\n",
    "\t3. clip outliers: according to the iqr method, orders with more than 6 items are outliers, clip number of items to 10 \n",
    "\t4. compute the number of items per order, compute the average order prep time per item (for each order): `y_per_product`\n",
    "\t5. for each product: compute the average / median `y_per_product` for each product\n",
    "\t6. each order will have an estimated `y` as the sum of `y_per_product` of the order items\n",
    "\n",
    "* idea 2 a bit simpler (yet more effective):\n",
    "\n",
    "\t4. compute the average / median order time for each product\n",
    "\t5. estimate `y` as the maximum of the aggregated values for all products in the order\n",
    "\n",
    "\n",
    "MAE for idea 1: $\\approx 8.9$\n",
    "\n",
    "MAE for idea 2: $\\approx 6.4$"
   ]
  },
  {
   "cell_type": "code",
   "execution_count": 19,
   "metadata": {},
   "outputs": [],
   "source": [
    "# extract the frequent products from the train data\n",
    "TRAIN_FREQ_PRODUCTS = eda.select_frequent_orders(df_train, freq_threshold=15)"
   ]
  },
  {
   "cell_type": "code",
   "execution_count": 20,
   "metadata": {},
   "outputs": [
    {
     "data": {
      "text/html": [
       "<div>\n",
       "<style scoped>\n",
       "    .dataframe tbody tr th:only-of-type {\n",
       "        vertical-align: middle;\n",
       "    }\n",
       "\n",
       "    .dataframe tbody tr th {\n",
       "        vertical-align: top;\n",
       "    }\n",
       "\n",
       "    .dataframe thead th {\n",
       "        text-align: right;\n",
       "    }\n",
       "</style>\n",
       "<table border=\"1\" class=\"dataframe\">\n",
       "  <thead>\n",
       "    <tr style=\"text-align: right;\">\n",
       "      <th></th>\n",
       "      <th>y_prod_mean</th>\n",
       "      <th>y_prod_median</th>\n",
       "    </tr>\n",
       "    <tr>\n",
       "      <th>product_id</th>\n",
       "      <th></th>\n",
       "      <th></th>\n",
       "    </tr>\n",
       "  </thead>\n",
       "  <tbody>\n",
       "    <tr>\n",
       "      <th>29049</th>\n",
       "      <td>27.820766</td>\n",
       "      <td>27.0</td>\n",
       "    </tr>\n",
       "    <tr>\n",
       "      <th>29060</th>\n",
       "      <td>30.960000</td>\n",
       "      <td>31.0</td>\n",
       "    </tr>\n",
       "    <tr>\n",
       "      <th>29139</th>\n",
       "      <td>27.913043</td>\n",
       "      <td>27.0</td>\n",
       "    </tr>\n",
       "    <tr>\n",
       "      <th>29140</th>\n",
       "      <td>29.978947</td>\n",
       "      <td>29.0</td>\n",
       "    </tr>\n",
       "    <tr>\n",
       "      <th>29141</th>\n",
       "      <td>25.901961</td>\n",
       "      <td>26.0</td>\n",
       "    </tr>\n",
       "  </tbody>\n",
       "</table>\n",
       "</div>"
      ],
      "text/plain": [
       "            y_prod_mean  y_prod_median\n",
       "product_id                            \n",
       "29049         27.820766           27.0\n",
       "29060         30.960000           31.0\n",
       "29139         27.913043           27.0\n",
       "29140         29.978947           29.0\n",
       "29141         25.901961           26.0"
      ]
     },
     "execution_count": 20,
     "metadata": {},
     "output_type": "execute_result"
    }
   ],
   "source": [
    "importlib.reload(eda)\n",
    "TRAIN_FREQ_PROD_Y_STATS, train_freq_order = eda.build_product_id_prep_time_estimation(df_train)\n",
    "TRAIN_FREQ_PROD_Y_STATS.head()"
   ]
  },
  {
   "cell_type": "code",
   "execution_count": 21,
   "metadata": {},
   "outputs": [
    {
     "name": "stdout",
     "output_type": "stream",
     "text": [
      "6.5992944165280845 6.400483483636921\n",
      "8.366970588746284 8.331078101788126\n"
     ]
    }
   ],
   "source": [
    "df_est = pd.pivot_table(train_freq_order, \n",
    "\t\t\t\t\t\tindex='order_id', \n",
    "\t\t\t\t\t\tvalues=['y', 'y_prod_mean', 'y_prod_median'], \n",
    "\t\t\t\t\t\taggfunc='max')\n",
    "\n",
    "y_freq_train, y_mean_est, y_median_est = df_est['y'], df_est['y_prod_mean'], df_est['y_prod_median']\n",
    "\n",
    "mse_mean = np.mean(np.abs(y_freq_train.values - y_mean_est.values)) \n",
    "mse_median = np.mean(np.abs((y_freq_train.values - y_median_est.values))) \n",
    "print(mse_mean, mse_median)\n",
    "\n",
    "mse_mean = np.sqrt(np.mean((y_freq_train.values - y_mean_est.values) ** 2)) \n",
    "mse_median = np.sqrt(np.mean((y_freq_train.values - y_median_est.values)** 2)) \n",
    "print(mse_mean, mse_median)"
   ]
  },
  {
   "cell_type": "markdown",
   "metadata": {},
   "source": [
    "The only caveat so far is the following: \n",
    "\n",
    "the statistics have been computed solely on frequent products. Although this set of products (since we are aggregating by the `max` function) should cover the prevailing majority of orders, I still need to consider the case where all products in an order are non-frequent.\n",
    "\n",
    "The simplest solution is compute the average time for orders with only non-frequent orders and use it to encode products for such orders done as follows: \n",
    "\n",
    "Given a dataframe, and a list frequent products, first find the order with at least one frequent product. Join them and compute the `y` estimate from the products. \n",
    "\n",
    "Extract all products with non-frequent products, compute their average `y` time and then use it to all of such orders."
   ]
  },
  {
   "cell_type": "code",
   "execution_count": 22,
   "metadata": {},
   "outputs": [
    {
     "name": "stdout",
     "output_type": "stream",
     "text": [
      "number of non frequent orders:  127371\n",
      "total number of orders 965485\n",
      "number of non frequent orders:  15152\n",
      "total number of orders 109522\n"
     ]
    }
   ],
   "source": [
    "from sklearn.impute import SimpleImputer\n",
    "\n",
    "def encode_product_id(df: pd.DataFrame, non_freq_avg_y: float = None):\n",
    "\t# first let's find the orders with frequent products\n",
    "\tfreq_prod_orders_ids = pd.merge(df, TRAIN_FREQ_PROD_Y_STATS, left_on='product_id', right_index=True, how='inner')['order_id'].tolist()\n",
    "\n",
    "\t# filter the order with no frequent items\n",
    "\tnon_freq_orders = df[~df['order_id'].isin(freq_prod_orders_ids)]\n",
    "\n",
    "\t# calculate the average prep time for such orders\n",
    "\tif non_freq_avg_y is None:\n",
    "\t\tnon_freq_avg_y = np.mean(non_freq_orders['y']).item()\n",
    "\n",
    "\tprint(\"number of non frequent orders: \", len(non_freq_orders))\n",
    "\tprint(\"total number of orders\",len(df))\n",
    "\n",
    "\t# repeat the same join but 'left'\n",
    "\t# this should set the orders with no frequent products to None \n",
    "\tnew_df = pd.merge(df, TRAIN_FREQ_PROD_Y_STATS, left_on='product_id', right_index=True, how='left')\n",
    "\t# drop the 'y_prod_mean'\n",
    "\tnew_df.drop(columns=['y_prod_mean'], inplace=True)\n",
    "\n",
    "\t# impute the median with the constant value\n",
    "\timputer = SimpleImputer(strategy='constant', fill_value=non_freq_avg_y)\n",
    "\t# impute the nan values (for non-freq products) with the 'average value'\n",
    "\timputed_series = pd.Series(imputer.fit_transform(new_df[['y_prod_median']]).squeeze(), \n",
    "\t\t\t\t\t\t\tindex=new_df.index # make sure to set the index of the series to that of the dataframe to avoid mismatches and hence unexpected nan values\n",
    "\t\t\t\t\t\t\t)\n",
    "\n",
    "\tnew_df['y_prod_median'] = imputed_series\n",
    "\n",
    "\treturn new_df.drop(columns=['product_id']), non_freq_avg_y\n",
    "\n",
    "# encode the product_id in the train dataset|\n",
    "df_train, TRAIN_NON_FREQ_AVG_y= encode_product_id(df_train, non_freq_avg_y=None)\n",
    "\n",
    "# pass this value to the test split to avoid data leakage\n",
    "df_test, _ = encode_product_id(df_test, non_freq_avg_y=TRAIN_NON_FREQ_AVG_y)"
   ]
  },
  {
   "cell_type": "code",
   "execution_count": 23,
   "metadata": {},
   "outputs": [
    {
     "data": {
      "text/html": [
       "<div>\n",
       "<style scoped>\n",
       "    .dataframe tbody tr th:only-of-type {\n",
       "        vertical-align: middle;\n",
       "    }\n",
       "\n",
       "    .dataframe tbody tr th {\n",
       "        vertical-align: top;\n",
       "    }\n",
       "\n",
       "    .dataframe thead th {\n",
       "        text-align: right;\n",
       "    }\n",
       "</style>\n",
       "<table border=\"1\" class=\"dataframe\">\n",
       "  <thead>\n",
       "    <tr style=\"text-align: right;\">\n",
       "      <th></th>\n",
       "      <th>order_id</th>\n",
       "      <th>start_prep_date</th>\n",
       "      <th>profit</th>\n",
       "      <th>delivery_distance</th>\n",
       "      <th>status_id</th>\n",
       "      <th>planned_prep_time</th>\n",
       "      <th>store_id</th>\n",
       "      <th>y</th>\n",
       "      <th>price</th>\n",
       "      <th>y_prod_median</th>\n",
       "    </tr>\n",
       "  </thead>\n",
       "  <tbody>\n",
       "    <tr>\n",
       "      <th>0</th>\n",
       "      <td>18671223</td>\n",
       "      <td>2024-05-08 00:01:21</td>\n",
       "      <td>20.145</td>\n",
       "      <td>3934</td>\n",
       "      <td>F</td>\n",
       "      <td>35.0</td>\n",
       "      <td>3750</td>\n",
       "      <td>23.0</td>\n",
       "      <td>26.070000</td>\n",
       "      <td>26.0</td>\n",
       "    </tr>\n",
       "    <tr>\n",
       "      <th>1</th>\n",
       "      <td>18671223</td>\n",
       "      <td>2024-05-08 00:01:21</td>\n",
       "      <td>20.145</td>\n",
       "      <td>3934</td>\n",
       "      <td>F</td>\n",
       "      <td>35.0</td>\n",
       "      <td>3750</td>\n",
       "      <td>23.0</td>\n",
       "      <td>7.110000</td>\n",
       "      <td>24.0</td>\n",
       "    </tr>\n",
       "    <tr>\n",
       "      <th>2</th>\n",
       "      <td>18671223</td>\n",
       "      <td>2024-05-08 00:01:21</td>\n",
       "      <td>20.145</td>\n",
       "      <td>3934</td>\n",
       "      <td>F</td>\n",
       "      <td>35.0</td>\n",
       "      <td>3750</td>\n",
       "      <td>23.0</td>\n",
       "      <td>7.110000</td>\n",
       "      <td>26.0</td>\n",
       "    </tr>\n",
       "    <tr>\n",
       "      <th>3</th>\n",
       "      <td>18671225</td>\n",
       "      <td>2024-05-08 00:02:01</td>\n",
       "      <td>15.800</td>\n",
       "      <td>560</td>\n",
       "      <td>F</td>\n",
       "      <td>15.0</td>\n",
       "      <td>5863</td>\n",
       "      <td>8.0</td>\n",
       "      <td>31.680436</td>\n",
       "      <td>13.0</td>\n",
       "    </tr>\n",
       "    <tr>\n",
       "      <th>4</th>\n",
       "      <td>18671227</td>\n",
       "      <td>2024-05-08 00:01:50</td>\n",
       "      <td>6.004</td>\n",
       "      <td>4396</td>\n",
       "      <td>F</td>\n",
       "      <td>20.0</td>\n",
       "      <td>8721</td>\n",
       "      <td>47.0</td>\n",
       "      <td>30.020000</td>\n",
       "      <td>24.0</td>\n",
       "    </tr>\n",
       "  </tbody>\n",
       "</table>\n",
       "</div>"
      ],
      "text/plain": [
       "   order_id     start_prep_date  profit  delivery_distance status_id  \\\n",
       "0  18671223 2024-05-08 00:01:21  20.145               3934         F   \n",
       "1  18671223 2024-05-08 00:01:21  20.145               3934         F   \n",
       "2  18671223 2024-05-08 00:01:21  20.145               3934         F   \n",
       "3  18671225 2024-05-08 00:02:01  15.800                560         F   \n",
       "4  18671227 2024-05-08 00:01:50   6.004               4396         F   \n",
       "\n",
       "   planned_prep_time  store_id     y      price  y_prod_median  \n",
       "0               35.0      3750  23.0  26.070000           26.0  \n",
       "1               35.0      3750  23.0   7.110000           24.0  \n",
       "2               35.0      3750  23.0   7.110000           26.0  \n",
       "3               15.0      5863   8.0  31.680436           13.0  \n",
       "4               20.0      8721  47.0  30.020000           24.0  "
      ]
     },
     "execution_count": 23,
     "metadata": {},
     "output_type": "execute_result"
    }
   ],
   "source": [
    "df_train.head()"
   ]
  },
  {
   "cell_type": "markdown",
   "metadata": {},
   "source": [
    "### Store id\n",
    "\n",
    "We more 1.4k unique stores. One way to fully laverage the store_id is to compute the average deviation of the actual prep time from the planned one."
   ]
  },
  {
   "cell_type": "code",
   "execution_count": 24,
   "metadata": {},
   "outputs": [
    {
     "name": "stdout",
     "output_type": "stream",
     "text": [
      "0.8218594748048261\n"
     ]
    }
   ],
   "source": [
    "importlib.reload(eda)\n",
    "TRAIN_POPULAR_STORES = eda.select_popular_stores(df_train, popular_threshold=25)\n",
    "print(len(TRAIN_POPULAR_STORES) / len(df_train['store_id'].unique()))"
   ]
  },
  {
   "cell_type": "code",
   "execution_count": 25,
   "metadata": {},
   "outputs": [
    {
     "data": {
      "text/html": [
       "<div>\n",
       "<style scoped>\n",
       "    .dataframe tbody tr th:only-of-type {\n",
       "        vertical-align: middle;\n",
       "    }\n",
       "\n",
       "    .dataframe tbody tr th {\n",
       "        vertical-align: top;\n",
       "    }\n",
       "\n",
       "    .dataframe thead th {\n",
       "        text-align: right;\n",
       "    }\n",
       "</style>\n",
       "<table border=\"1\" class=\"dataframe\">\n",
       "  <thead>\n",
       "    <tr style=\"text-align: right;\">\n",
       "      <th></th>\n",
       "      <th>y_deviation</th>\n",
       "    </tr>\n",
       "    <tr>\n",
       "      <th>store_id</th>\n",
       "      <th></th>\n",
       "    </tr>\n",
       "  </thead>\n",
       "  <tbody>\n",
       "    <tr>\n",
       "      <th>3053.0</th>\n",
       "      <td>-2.167621</td>\n",
       "    </tr>\n",
       "    <tr>\n",
       "      <th>3055.0</th>\n",
       "      <td>-2.086207</td>\n",
       "    </tr>\n",
       "    <tr>\n",
       "      <th>3056.0</th>\n",
       "      <td>-4.518987</td>\n",
       "    </tr>\n",
       "    <tr>\n",
       "      <th>3058.0</th>\n",
       "      <td>0.258278</td>\n",
       "    </tr>\n",
       "    <tr>\n",
       "      <th>3059.0</th>\n",
       "      <td>-8.545918</td>\n",
       "    </tr>\n",
       "    <tr>\n",
       "      <th>...</th>\n",
       "      <td>...</td>\n",
       "    </tr>\n",
       "    <tr>\n",
       "      <th>11879.0</th>\n",
       "      <td>-2.000000</td>\n",
       "    </tr>\n",
       "    <tr>\n",
       "      <th>11883.0</th>\n",
       "      <td>-9.187500</td>\n",
       "    </tr>\n",
       "    <tr>\n",
       "      <th>11901.0</th>\n",
       "      <td>-6.882353</td>\n",
       "    </tr>\n",
       "    <tr>\n",
       "      <th>11905.0</th>\n",
       "      <td>2.600000</td>\n",
       "    </tr>\n",
       "    <tr>\n",
       "      <th>11929.0</th>\n",
       "      <td>4.153846</td>\n",
       "    </tr>\n",
       "  </tbody>\n",
       "</table>\n",
       "<p>1158 rows × 1 columns</p>\n",
       "</div>"
      ],
      "text/plain": [
       "          y_deviation\n",
       "store_id             \n",
       "3053.0      -2.167621\n",
       "3055.0      -2.086207\n",
       "3056.0      -4.518987\n",
       "3058.0       0.258278\n",
       "3059.0      -8.545918\n",
       "...               ...\n",
       "11879.0     -2.000000\n",
       "11883.0     -9.187500\n",
       "11901.0     -6.882353\n",
       "11905.0      2.600000\n",
       "11929.0      4.153846\n",
       "\n",
       "[1158 rows x 1 columns]"
      ]
     },
     "execution_count": 25,
     "metadata": {},
     "output_type": "execute_result"
    }
   ],
   "source": [
    "# let's see how it all goes\n",
    "importlib.reload(eda)\n",
    "TRAIN_STORE_TIME_DEVIATION = eda.build_store_id_deviation_estimation(df_train)\n",
    "# this is super powerful, simply because we can see that store `3053` always gets their orders on point (within +- 2 mins). encoding this information into the model would definitely enhance the performance.\n",
    "TRAIN_STORE_TIME_DEVIATION "
   ]
  },
  {
   "cell_type": "code",
   "execution_count": 26,
   "metadata": {},
   "outputs": [],
   "source": [
    "def encode_store_id(df: pd.DataFrame, non_pop_store_dev: float = None) -> pd.DataFrame:\n",
    "\tpop_stores_ids = TRAIN_STORE_TIME_DEVIATION.index.tolist()\n",
    "\n",
    "\t# filter orders from non-popular stores\n",
    "\tnon_pop_orders = df[~df['order_id'].isin(pop_stores_ids)]\n",
    "\n",
    "\t# compute the deviation\n",
    "\tif non_pop_store_dev is None:\n",
    "\t\tnon_pop_store_dev = np.mean(non_pop_orders['y'] - df['planned_prep_time']).item()\n",
    "\n",
    "\tnew_df = pd.merge(df, TRAIN_STORE_TIME_DEVIATION, left_on='store_id', right_index=True, how='left')\n",
    "\t# impute the missing vaue\n",
    "\n",
    "\timputer = SimpleImputer(strategy='constant', fill_value=non_pop_store_dev)\n",
    "\t# impute the nan values (for non-freq products) with the 'average value'\n",
    "\timputed_series = pd.Series(imputer.fit_transform(new_df[['y_deviation']]).squeeze(), \n",
    "\t\t\t\t\t\t\tindex=new_df.index # make sure to set the index of the series to that of the dataframe to avoid mismatches and hence unexpected nan values\n",
    "\t\t\t\t\t\t\t)\n",
    "\tnew_df['y_deviation'] = imputed_series\n",
    "\n",
    "\t# drop the 'store_id' feature\n",
    "\treturn new_df.drop(columns=['store_id']), non_pop_store_dev\n",
    "\n",
    "df_train, TRAIN_NON_POP_DEV = encode_store_id(df_train)\n",
    "df_test, _ = encode_store_id(df_test, TRAIN_NON_POP_DEV)"
   ]
  },
  {
   "cell_type": "markdown",
   "metadata": {},
   "source": [
    "# Train Data Final Form"
   ]
  },
  {
   "cell_type": "markdown",
   "metadata": {},
   "source": [
    "All we have done so far revolved around preparing the features: mainly imputing as much of the `price` and `profit` features and trying to embed as much information in the encoding of the `store_id` and `product_id` features.\n"
   ]
  },
  {
   "cell_type": "code",
   "execution_count": 27,
   "metadata": {},
   "outputs": [
    {
     "data": {
      "text/html": [
       "<div>\n",
       "<style scoped>\n",
       "    .dataframe tbody tr th:only-of-type {\n",
       "        vertical-align: middle;\n",
       "    }\n",
       "\n",
       "    .dataframe tbody tr th {\n",
       "        vertical-align: top;\n",
       "    }\n",
       "\n",
       "    .dataframe thead th {\n",
       "        text-align: right;\n",
       "    }\n",
       "</style>\n",
       "<table border=\"1\" class=\"dataframe\">\n",
       "  <thead>\n",
       "    <tr style=\"text-align: right;\">\n",
       "      <th></th>\n",
       "      <th>order_id</th>\n",
       "      <th>start_prep_date</th>\n",
       "      <th>profit</th>\n",
       "      <th>delivery_distance</th>\n",
       "      <th>status_id</th>\n",
       "      <th>planned_prep_time</th>\n",
       "      <th>y</th>\n",
       "      <th>price</th>\n",
       "      <th>y_prod_median</th>\n",
       "      <th>y_deviation</th>\n",
       "    </tr>\n",
       "  </thead>\n",
       "  <tbody>\n",
       "    <tr>\n",
       "      <th>0</th>\n",
       "      <td>18671223</td>\n",
       "      <td>2024-05-08 00:01:21</td>\n",
       "      <td>20.145</td>\n",
       "      <td>3934</td>\n",
       "      <td>F</td>\n",
       "      <td>35.0</td>\n",
       "      <td>23.0</td>\n",
       "      <td>26.070000</td>\n",
       "      <td>26.0</td>\n",
       "      <td>-2.559809</td>\n",
       "    </tr>\n",
       "    <tr>\n",
       "      <th>1</th>\n",
       "      <td>18671223</td>\n",
       "      <td>2024-05-08 00:01:21</td>\n",
       "      <td>20.145</td>\n",
       "      <td>3934</td>\n",
       "      <td>F</td>\n",
       "      <td>35.0</td>\n",
       "      <td>23.0</td>\n",
       "      <td>7.110000</td>\n",
       "      <td>24.0</td>\n",
       "      <td>-2.559809</td>\n",
       "    </tr>\n",
       "    <tr>\n",
       "      <th>2</th>\n",
       "      <td>18671223</td>\n",
       "      <td>2024-05-08 00:01:21</td>\n",
       "      <td>20.145</td>\n",
       "      <td>3934</td>\n",
       "      <td>F</td>\n",
       "      <td>35.0</td>\n",
       "      <td>23.0</td>\n",
       "      <td>7.110000</td>\n",
       "      <td>26.0</td>\n",
       "      <td>-2.559809</td>\n",
       "    </tr>\n",
       "    <tr>\n",
       "      <th>3</th>\n",
       "      <td>18671225</td>\n",
       "      <td>2024-05-08 00:02:01</td>\n",
       "      <td>15.800</td>\n",
       "      <td>560</td>\n",
       "      <td>F</td>\n",
       "      <td>15.0</td>\n",
       "      <td>8.0</td>\n",
       "      <td>31.680436</td>\n",
       "      <td>13.0</td>\n",
       "      <td>-3.562679</td>\n",
       "    </tr>\n",
       "    <tr>\n",
       "      <th>4</th>\n",
       "      <td>18671227</td>\n",
       "      <td>2024-05-08 00:01:50</td>\n",
       "      <td>6.004</td>\n",
       "      <td>4396</td>\n",
       "      <td>F</td>\n",
       "      <td>20.0</td>\n",
       "      <td>47.0</td>\n",
       "      <td>30.020000</td>\n",
       "      <td>24.0</td>\n",
       "      <td>-1.442516</td>\n",
       "    </tr>\n",
       "  </tbody>\n",
       "</table>\n",
       "</div>"
      ],
      "text/plain": [
       "   order_id     start_prep_date  profit  delivery_distance status_id  \\\n",
       "0  18671223 2024-05-08 00:01:21  20.145               3934         F   \n",
       "1  18671223 2024-05-08 00:01:21  20.145               3934         F   \n",
       "2  18671223 2024-05-08 00:01:21  20.145               3934         F   \n",
       "3  18671225 2024-05-08 00:02:01  15.800                560         F   \n",
       "4  18671227 2024-05-08 00:01:50   6.004               4396         F   \n",
       "\n",
       "   planned_prep_time     y      price  y_prod_median  y_deviation  \n",
       "0               35.0  23.0  26.070000           26.0    -2.559809  \n",
       "1               35.0  23.0   7.110000           24.0    -2.559809  \n",
       "2               35.0  23.0   7.110000           26.0    -2.559809  \n",
       "3               15.0   8.0  31.680436           13.0    -3.562679  \n",
       "4               20.0  47.0  30.020000           24.0    -1.442516  "
      ]
     },
     "execution_count": 27,
     "metadata": {},
     "output_type": "execute_result"
    }
   ],
   "source": [
    "df_train.head()"
   ]
  },
  {
   "cell_type": "code",
   "execution_count": 28,
   "metadata": {},
   "outputs": [],
   "source": [
    "importlib.reload(eda)\n",
    "def final_data_transform(df: pd.DataFrame) -> pd.DataFrame:\n",
    "\titem_level_data = pd.pivot_table(df, index='order_id', values=['y_deviation', 'y_prod_median', 'price'], aggfunc=['max', 'sum'])\n",
    "\n",
    "\t# extract the information needed: 'max of y_deviation (the same across orders), max y_prod_median, and the sum of prices\n",
    "\titem_level_data = item_level_data.loc[:, [('max', 'y_deviation'), ('max', 'y_prod_median'), ('sum', 'price')]]\n",
    "\titem_level_data.columns = item_level_data.columns.droplevel(0)\n",
    "\n",
    "\t# merge the item_level_data with the dataframe\n",
    "\tdf_ = pd.merge(df.drop(columns=['y_deviation', 'y_prod_median', 'price']), item_level_data, how='inner', left_on='order_id', right_index=True)\n",
    "\tdf_.rename(columns={\"y_prod_median\": \"y_estimate\"}, inplace=True)\n",
    "\tdf_.drop_duplicates(inplace=True)\n",
    "\n",
    "\t# remove the order_id + extract some time features \n",
    "\tdf_.drop(columns=['order_id', 'status_id'], inplace=True)\n",
    "\n",
    "\treturn eda.extract_prep_time_features(df_)\n",
    "\n",
    "df_train = final_data_transform(df_train)\n",
    "df_test = final_data_transform(df_test)"
   ]
  },
  {
   "cell_type": "code",
   "execution_count": 29,
   "metadata": {},
   "outputs": [],
   "source": [
    "df_train, y_train = df_train, df_train.pop('y')\n",
    "df_test, y_test = df_test, df_test.pop('y')"
   ]
  },
  {
   "cell_type": "code",
   "execution_count": 30,
   "metadata": {},
   "outputs": [],
   "source": [
    "df_train.to_csv(os.path.join(DATA_FOLDER, 'train.csv'), index=False)\n",
    "y_train.to_csv(os.path.join(DATA_FOLDER, 'y_train.csv'), index=False)\n",
    "\n",
    "df_test.to_csv(os.path.join(DATA_FOLDER, 'test.csv'), index=False)\n",
    "y_test.to_csv(os.path.join(DATA_FOLDER, 'y_test.csv'), index=False)"
   ]
  },
  {
   "cell_type": "code",
   "execution_count": 52,
   "metadata": {},
   "outputs": [],
   "source": [
    "from typing import List, Optional\n",
    "from sklearn.preprocessing import StandardScaler, RobustScaler\n",
    "\n",
    "def scale_num_features(df: pd.DataFrame, num_features: Optional[List[str]] = None, scaler: RobustScaler= None):\n",
    "\tif num_features is None:\n",
    "\t\tnum_features = ['profit', 'delivery_distance', 'price']\n",
    "\n",
    "\t# set the type of the numerical features to float\n",
    "\tdf.loc[:, num_features] = df.loc[:, num_features].astype(float)\n",
    "\n",
    "\tdf_to_scale = df.loc[:, num_features]\n",
    "\n",
    "\tif scaler is None:\n",
    "\t\tscaler = RobustScaler()\n",
    "\t\t# fit the scaler\n",
    "\t\tnum_feats_scaled = scaler.fit_transform(df_to_scale)\n",
    "\n",
    "\telse:\n",
    "\t\t# then the we will use the 'transform' method without fitting\n",
    "\t\tnum_feats_scaled = scaler.transform(df_to_scale)\n",
    "\n",
    "\t# set the scaled features in the new dataframe\n",
    "\tdf.loc[:, num_features] = num_feats_scaled\n",
    "\treturn df, scaler\n",
    "\n",
    "df_train_, TRAIN_SCALER = scale_num_features(df_train)\n",
    "df_test_, _ = scale_num_features(df_test, scaler=TRAIN_SCALER)"
   ]
  },
  {
   "cell_type": "code",
   "execution_count": 53,
   "metadata": {},
   "outputs": [
    {
     "data": {
      "text/plain": [
       "profit               float64\n",
       "delivery_distance    float64\n",
       "planned_prep_time    float64\n",
       "y_deviation          float64\n",
       "y_estimate           float64\n",
       "price                float64\n",
       "order_hour             int32\n",
       "order_day              int64\n",
       "dtype: object"
      ]
     },
     "execution_count": 53,
     "metadata": {},
     "output_type": "execute_result"
    }
   ],
   "source": [
    "df_train_.dtypes\n",
    "df_test_.dtypes"
   ]
  },
  {
   "cell_type": "code",
   "execution_count": 54,
   "metadata": {},
   "outputs": [
    {
     "data": {
      "text/html": [
       "<div>\n",
       "<style scoped>\n",
       "    .dataframe tbody tr th:only-of-type {\n",
       "        vertical-align: middle;\n",
       "    }\n",
       "\n",
       "    .dataframe tbody tr th {\n",
       "        vertical-align: top;\n",
       "    }\n",
       "\n",
       "    .dataframe thead th {\n",
       "        text-align: right;\n",
       "    }\n",
       "</style>\n",
       "<table border=\"1\" class=\"dataframe\">\n",
       "  <thead>\n",
       "    <tr style=\"text-align: right;\">\n",
       "      <th></th>\n",
       "      <th>profit</th>\n",
       "      <th>delivery_distance</th>\n",
       "      <th>planned_prep_time</th>\n",
       "      <th>y_deviation</th>\n",
       "      <th>y_estimate</th>\n",
       "      <th>price</th>\n",
       "      <th>order_hour</th>\n",
       "      <th>order_day</th>\n",
       "    </tr>\n",
       "  </thead>\n",
       "  <tbody>\n",
       "    <tr>\n",
       "      <th>0</th>\n",
       "      <td>-0.226908</td>\n",
       "      <td>0.109560</td>\n",
       "      <td>35.0</td>\n",
       "      <td>-2.559809</td>\n",
       "      <td>26.000000</td>\n",
       "      <td>-0.436892</td>\n",
       "      <td>0</td>\n",
       "      <td>2</td>\n",
       "    </tr>\n",
       "    <tr>\n",
       "      <th>3</th>\n",
       "      <td>-0.337349</td>\n",
       "      <td>-0.796455</td>\n",
       "      <td>15.0</td>\n",
       "      <td>-3.562679</td>\n",
       "      <td>13.000000</td>\n",
       "      <td>-0.569152</td>\n",
       "      <td>0</td>\n",
       "      <td>2</td>\n",
       "    </tr>\n",
       "    <tr>\n",
       "      <th>4</th>\n",
       "      <td>-0.586345</td>\n",
       "      <td>0.233620</td>\n",
       "      <td>20.0</td>\n",
       "      <td>-1.442516</td>\n",
       "      <td>24.000000</td>\n",
       "      <td>-0.594659</td>\n",
       "      <td>0</td>\n",
       "      <td>2</td>\n",
       "    </tr>\n",
       "    <tr>\n",
       "      <th>5</th>\n",
       "      <td>0.285141</td>\n",
       "      <td>0.529807</td>\n",
       "      <td>30.0</td>\n",
       "      <td>-5.926710</td>\n",
       "      <td>21.799648</td>\n",
       "      <td>0.478846</td>\n",
       "      <td>0</td>\n",
       "      <td>2</td>\n",
       "    </tr>\n",
       "    <tr>\n",
       "      <th>9</th>\n",
       "      <td>2.380723</td>\n",
       "      <td>0.506176</td>\n",
       "      <td>25.0</td>\n",
       "      <td>-0.803828</td>\n",
       "      <td>23.000000</td>\n",
       "      <td>1.310799</td>\n",
       "      <td>0</td>\n",
       "      <td>2</td>\n",
       "    </tr>\n",
       "  </tbody>\n",
       "</table>\n",
       "</div>"
      ],
      "text/plain": [
       "     profit  delivery_distance  planned_prep_time  y_deviation  y_estimate  \\\n",
       "0 -0.226908           0.109560               35.0    -2.559809   26.000000   \n",
       "3 -0.337349          -0.796455               15.0    -3.562679   13.000000   \n",
       "4 -0.586345           0.233620               20.0    -1.442516   24.000000   \n",
       "5  0.285141           0.529807               30.0    -5.926710   21.799648   \n",
       "9  2.380723           0.506176               25.0    -0.803828   23.000000   \n",
       "\n",
       "      price  order_hour  order_day  \n",
       "0 -0.436892           0          2  \n",
       "3 -0.569152           0          2  \n",
       "4 -0.594659           0          2  \n",
       "5  0.478846           0          2  \n",
       "9  1.310799           0          2  "
      ]
     },
     "execution_count": 54,
     "metadata": {},
     "output_type": "execute_result"
    }
   ],
   "source": [
    "df_train_.head()"
   ]
  },
  {
   "cell_type": "code",
   "execution_count": 55,
   "metadata": {},
   "outputs": [
    {
     "data": {
      "text/html": [
       "<div>\n",
       "<style scoped>\n",
       "    .dataframe tbody tr th:only-of-type {\n",
       "        vertical-align: middle;\n",
       "    }\n",
       "\n",
       "    .dataframe tbody tr th {\n",
       "        vertical-align: top;\n",
       "    }\n",
       "\n",
       "    .dataframe thead th {\n",
       "        text-align: right;\n",
       "    }\n",
       "</style>\n",
       "<table border=\"1\" class=\"dataframe\">\n",
       "  <thead>\n",
       "    <tr style=\"text-align: right;\">\n",
       "      <th></th>\n",
       "      <th>profit</th>\n",
       "      <th>delivery_distance</th>\n",
       "      <th>planned_prep_time</th>\n",
       "      <th>y_deviation</th>\n",
       "      <th>y_estimate</th>\n",
       "      <th>price</th>\n",
       "      <th>order_hour</th>\n",
       "      <th>order_day</th>\n",
       "    </tr>\n",
       "  </thead>\n",
       "  <tbody>\n",
       "    <tr>\n",
       "      <th>0</th>\n",
       "      <td>-0.188755</td>\n",
       "      <td>-0.195757</td>\n",
       "      <td>25.0</td>\n",
       "      <td>-2.046578</td>\n",
       "      <td>25.500000</td>\n",
       "      <td>0.606795</td>\n",
       "      <td>0</td>\n",
       "      <td>2</td>\n",
       "    </tr>\n",
       "    <tr>\n",
       "      <th>2</th>\n",
       "      <td>-0.114458</td>\n",
       "      <td>0.821697</td>\n",
       "      <td>15.0</td>\n",
       "      <td>-1.494090</td>\n",
       "      <td>21.799648</td>\n",
       "      <td>0.169903</td>\n",
       "      <td>0</td>\n",
       "      <td>2</td>\n",
       "    </tr>\n",
       "    <tr>\n",
       "      <th>6</th>\n",
       "      <td>0.287550</td>\n",
       "      <td>-0.546724</td>\n",
       "      <td>25.0</td>\n",
       "      <td>-0.366591</td>\n",
       "      <td>25.000000</td>\n",
       "      <td>-0.280339</td>\n",
       "      <td>0</td>\n",
       "      <td>2</td>\n",
       "    </tr>\n",
       "    <tr>\n",
       "      <th>8</th>\n",
       "      <td>-0.184739</td>\n",
       "      <td>-0.926692</td>\n",
       "      <td>30.0</td>\n",
       "      <td>-2.041570</td>\n",
       "      <td>29.000000</td>\n",
       "      <td>0.794941</td>\n",
       "      <td>0</td>\n",
       "      <td>2</td>\n",
       "    </tr>\n",
       "    <tr>\n",
       "      <th>14</th>\n",
       "      <td>0.112450</td>\n",
       "      <td>1.644468</td>\n",
       "      <td>30.0</td>\n",
       "      <td>-2.559809</td>\n",
       "      <td>27.000000</td>\n",
       "      <td>-0.412621</td>\n",
       "      <td>0</td>\n",
       "      <td>2</td>\n",
       "    </tr>\n",
       "  </tbody>\n",
       "</table>\n",
       "</div>"
      ],
      "text/plain": [
       "      profit  delivery_distance  planned_prep_time  y_deviation  y_estimate  \\\n",
       "0  -0.188755          -0.195757               25.0    -2.046578   25.500000   \n",
       "2  -0.114458           0.821697               15.0    -1.494090   21.799648   \n",
       "6   0.287550          -0.546724               25.0    -0.366591   25.000000   \n",
       "8  -0.184739          -0.926692               30.0    -2.041570   29.000000   \n",
       "14  0.112450           1.644468               30.0    -2.559809   27.000000   \n",
       "\n",
       "       price  order_hour  order_day  \n",
       "0   0.606795           0          2  \n",
       "2   0.169903           0          2  \n",
       "6  -0.280339           0          2  \n",
       "8   0.794941           0          2  \n",
       "14 -0.412621           0          2  "
      ]
     },
     "execution_count": 55,
     "metadata": {},
     "output_type": "execute_result"
    }
   ],
   "source": [
    "df_test_.head()"
   ]
  },
  {
   "cell_type": "markdown",
   "metadata": {},
   "source": [
    "# Modeling"
   ]
  },
  {
   "cell_type": "code",
   "execution_count": 7,
   "metadata": {},
   "outputs": [],
   "source": [
    "# df_train = pd.read_csv(os.path.join(DATA_FOLDER, 'train.csv'))\n",
    "# y_train = pd.read_csv(os.path.join(DATA_FOLDER, 'y_train.csv'))\n",
    "\n",
    "# df_test = pd.read_csv(os.path.join(DATA_FOLDER, 'test.csv'))\n",
    "# y_test = pd.read_csv(os.path.join(DATA_FOLDER, 'y_test.csv'))"
   ]
  },
  {
   "cell_type": "code",
   "execution_count": 56,
   "metadata": {},
   "outputs": [
    {
     "name": "stdout",
     "output_type": "stream",
     "text": [
      "LinearRegression ({'train_rmse': 7.5872, 'train_mae': 5.7857, 'train_r2': 0.4318}, {'test_rmse': 9.5817, 'test_mae': 6.1664, 'test_r2': 0.3662})\n",
      "Lasso ({'train_rmse': 7.6567, 'train_mae': 5.8375, 'train_r2': 0.4214}, {'test_rmse': 9.6566, 'test_mae': 6.2173, 'test_r2': 0.3563})\n",
      "Ridge ({'train_rmse': 7.5872, 'train_mae': 5.7857, 'train_r2': 0.4318}, {'test_rmse': 9.5817, 'test_mae': 6.1664, 'test_r2': 0.3662})\n"
     ]
    }
   ],
   "source": [
    "import models\n",
    "importlib.reload(models)\n",
    "\n",
    "from sklearn.linear_model import LinearRegression, Ridge, Lasso\n",
    "lr, lr1, lr2 = LinearRegression(), Lasso(alpha=1), Ridge(alpha=1), \n",
    "models_res = {}\n",
    "for m in [lr, lr1, lr2]:\n",
    "\tm_name = models._extract_model_name_from_cls(m)\n",
    "\tmodels_res[m_name] = models.pipeline(df_train_, y_train, df_test_, y_test, m)\n",
    "\tprint(m_name, models_res[m_name][1:])"
   ]
  },
  {
   "cell_type": "code",
   "execution_count": 57,
   "metadata": {},
   "outputs": [],
   "source": [
    "from sklearn.tree import DecisionTreeRegressor\n",
    "DecReg = DecisionTreeRegressor(max_depth=4, random_state=0)\n",
    "models_res[models._extract_model_name_from_cls(DecReg)] = models.pipeline(df_train_, y_train, df_test_, y_test, DecReg)"
   ]
  },
  {
   "cell_type": "code",
   "execution_count": 58,
   "metadata": {},
   "outputs": [
    {
     "data": {
      "text/plain": [
       "(DecisionTreeRegressor(max_depth=4, random_state=0),\n",
       " {'train_rmse': 7.7322, 'train_mae': 5.9252, 'train_r2': 0.4099},\n",
       " {'test_rmse': 9.7648, 'test_mae': 6.3213, 'test_r2': 0.3417})"
      ]
     },
     "execution_count": 58,
     "metadata": {},
     "output_type": "execute_result"
    }
   ],
   "source": [
    "models_res[models._extract_model_name_from_cls(DecisionTreeRegressor())]"
   ]
  },
  {
   "cell_type": "code",
   "execution_count": 62,
   "metadata": {},
   "outputs": [],
   "source": [
    "from sklearn.ensemble import RandomForestRegressor\n",
    "rf = RandomForestRegressor(n_estimators=20, max_depth=4)\n",
    "models_res[models._extract_model_name_from_cls(rf)] = models.pipeline(df_train_, y_train, df_test_, y_test, rf)"
   ]
  },
  {
   "cell_type": "code",
   "execution_count": 63,
   "metadata": {},
   "outputs": [
    {
     "data": {
      "text/plain": [
       "(RandomForestRegressor(max_depth=4, n_estimators=20),\n",
       " {'train_rmse': 7.7259, 'train_mae': 5.9193, 'train_r2': 0.4109},\n",
       " {'test_rmse': 9.7589, 'test_mae': 6.3146, 'test_r2': 0.3425})"
      ]
     },
     "execution_count": 63,
     "metadata": {},
     "output_type": "execute_result"
    }
   ],
   "source": [
    "models_res[models._extract_model_name_from_cls(RandomForestRegressor())]"
   ]
  },
  {
   "cell_type": "code",
   "execution_count": null,
   "metadata": {},
   "outputs": [],
   "source": []
  }
 ],
 "metadata": {
  "language_info": {
   "name": "python"
  }
 },
 "nbformat": 4,
 "nbformat_minor": 2
}
