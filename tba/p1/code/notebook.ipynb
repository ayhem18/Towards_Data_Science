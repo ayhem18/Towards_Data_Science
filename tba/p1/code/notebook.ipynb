{
 "cells": [
  {
   "cell_type": "markdown",
   "metadata": {},
   "source": [
    "# Overview"
   ]
  },
  {
   "cell_type": "code",
   "execution_count": 9,
   "metadata": {},
   "outputs": [],
   "source": [
    "import os, importlib\n",
    "import pandas as pd, numpy as np, matplotlib.pyplot as plt\n",
    "from pathlib import Path\n",
    "\n",
    "# a small piece of code to find the data folder\n",
    "NOTEBOOK_SCRIPT = os.getcwd()\n",
    "\n",
    "current = NOTEBOOK_SCRIPT\n",
    "while 'data' not in os.listdir(current):\n",
    "    current = Path(current).parent\n",
    "\n",
    "DATA_FOLDER = os.path.join(current, 'data')"
   ]
  },
  {
   "cell_type": "code",
   "execution_count": 10,
   "metadata": {},
   "outputs": [
    {
     "data": {
      "text/html": [
       "<div>\n",
       "<style scoped>\n",
       "    .dataframe tbody tr th:only-of-type {\n",
       "        vertical-align: middle;\n",
       "    }\n",
       "\n",
       "    .dataframe tbody tr th {\n",
       "        vertical-align: top;\n",
       "    }\n",
       "\n",
       "    .dataframe thead th {\n",
       "        text-align: right;\n",
       "    }\n",
       "</style>\n",
       "<table border=\"1\" class=\"dataframe\">\n",
       "  <thead>\n",
       "    <tr style=\"text-align: right;\">\n",
       "      <th></th>\n",
       "      <th>order_id</th>\n",
       "      <th>start_prep_date</th>\n",
       "      <th>finish_prep_date</th>\n",
       "      <th>profit</th>\n",
       "      <th>delivery_distance</th>\n",
       "      <th>status_id</th>\n",
       "      <th>planned_prep_time</th>\n",
       "      <th>product_id</th>\n",
       "      <th>store_id</th>\n",
       "      <th>price</th>\n",
       "    </tr>\n",
       "  </thead>\n",
       "  <tbody>\n",
       "    <tr>\n",
       "      <th>0</th>\n",
       "      <td>18671223</td>\n",
       "      <td>2024-05-08 00:01:21</td>\n",
       "      <td>2024-05-08 00:25:12</td>\n",
       "      <td>20.145</td>\n",
       "      <td>3934</td>\n",
       "      <td>F</td>\n",
       "      <td>35.0</td>\n",
       "      <td>99278</td>\n",
       "      <td>3750</td>\n",
       "      <td>26.07</td>\n",
       "    </tr>\n",
       "    <tr>\n",
       "      <th>1</th>\n",
       "      <td>18671223</td>\n",
       "      <td>2024-05-08 00:01:21</td>\n",
       "      <td>2024-05-08 00:25:12</td>\n",
       "      <td>20.145</td>\n",
       "      <td>3934</td>\n",
       "      <td>F</td>\n",
       "      <td>35.0</td>\n",
       "      <td>99283</td>\n",
       "      <td>3750</td>\n",
       "      <td>7.11</td>\n",
       "    </tr>\n",
       "    <tr>\n",
       "      <th>2</th>\n",
       "      <td>18671223</td>\n",
       "      <td>2024-05-08 00:01:21</td>\n",
       "      <td>2024-05-08 00:25:12</td>\n",
       "      <td>20.145</td>\n",
       "      <td>3934</td>\n",
       "      <td>F</td>\n",
       "      <td>35.0</td>\n",
       "      <td>99285</td>\n",
       "      <td>3750</td>\n",
       "      <td>7.11</td>\n",
       "    </tr>\n",
       "    <tr>\n",
       "      <th>3</th>\n",
       "      <td>18671225</td>\n",
       "      <td>2024-05-08 00:02:01</td>\n",
       "      <td>2024-05-08 00:10:29</td>\n",
       "      <td>15.800</td>\n",
       "      <td>560</td>\n",
       "      <td>F</td>\n",
       "      <td>15.0</td>\n",
       "      <td>298529</td>\n",
       "      <td>5863</td>\n",
       "      <td>31.60</td>\n",
       "    </tr>\n",
       "    <tr>\n",
       "      <th>4</th>\n",
       "      <td>18671227</td>\n",
       "      <td>2024-05-08 00:01:50</td>\n",
       "      <td>2024-05-08 00:49:19</td>\n",
       "      <td>6.004</td>\n",
       "      <td>4396</td>\n",
       "      <td>F</td>\n",
       "      <td>20.0</td>\n",
       "      <td>399309</td>\n",
       "      <td>8721</td>\n",
       "      <td>30.02</td>\n",
       "    </tr>\n",
       "  </tbody>\n",
       "</table>\n",
       "</div>"
      ],
      "text/plain": [
       "   order_id      start_prep_date     finish_prep_date  profit  \\\n",
       "0  18671223  2024-05-08 00:01:21  2024-05-08 00:25:12  20.145   \n",
       "1  18671223  2024-05-08 00:01:21  2024-05-08 00:25:12  20.145   \n",
       "2  18671223  2024-05-08 00:01:21  2024-05-08 00:25:12  20.145   \n",
       "3  18671225  2024-05-08 00:02:01  2024-05-08 00:10:29  15.800   \n",
       "4  18671227  2024-05-08 00:01:50  2024-05-08 00:49:19   6.004   \n",
       "\n",
       "   delivery_distance status_id  planned_prep_time  product_id  store_id  price  \n",
       "0               3934         F               35.0       99278      3750  26.07  \n",
       "1               3934         F               35.0       99283      3750   7.11  \n",
       "2               3934         F               35.0       99285      3750   7.11  \n",
       "3                560         F               15.0      298529      5863  31.60  \n",
       "4               4396         F               20.0      399309      8721  30.02  "
      ]
     },
     "execution_count": 10,
     "metadata": {},
     "output_type": "execute_result"
    }
   ],
   "source": [
    "import data_preparation as dpre\n",
    "db_file = os.path.join(DATA_FOLDER, 'F24.ML.Assignment.One.data.db')\n",
    "df_save_file = os.path.join(DATA_FOLDER, 'data.csv')\n",
    "df = dpre.data_to_df(db_file, \n",
    "           df_save_file, \n",
    "           overwrite=False # no need to execute the same lengthy query if the .csv file already exists...\n",
    "           )\n",
    "df.head()"
   ]
  },
  {
   "cell_type": "markdown",
   "metadata": {},
   "source": [
    "# Data Preparation"
   ]
  },
  {
   "cell_type": "markdown",
   "metadata": {},
   "source": [
    "## Whole-dataset preparation\n",
    "Before proceeding with the train-split procedure, it is necessary to apply few operations on the entire dataset: \n",
    "\n",
    "* compute the labels\n",
    "* sanity check: no samples have a negative label\n",
    "* remove few problematic samples (with prep time equal to 0)\n",
    "* remove samples with `planned_prep_time` missing \n",
    "\n",
    "The data has been prepared (with SQL) such that for a single order neither `finish_prep_date` nor `start_prep_date` would be missing and the natural relation `finish_prep_date` > `start_prep_date` is preserved. The label for a given order is the difference of these two values and hence a missing value in one of them would mean a missing label. Imputing missing labels is highly discouraged as it is prone to introduce bias according to [Multivariate Analysis](https://www.drnishikantjha.com/papersCollection/Multivariate%20Data%20Analysis.pdf).\n",
    "\n",
    "Since `planned_prep_time` is intuitively a very good indicator of the actual preparation time, we will also remove the very few samples with missing `planned_prep_time`. "
   ]
  },
  {
   "cell_type": "code",
   "execution_count": 11,
   "metadata": {},
   "outputs": [
    {
     "data": {
      "text/plain": [
       "order_id             0.000000\n",
       "start_prep_date      0.000000\n",
       "finish_prep_date     0.000000\n",
       "profit               0.099278\n",
       "delivery_distance    0.000000\n",
       "status_id            0.000000\n",
       "planned_prep_time    0.000004\n",
       "product_id           0.000000\n",
       "store_id             0.000000\n",
       "price                0.100164\n",
       "dtype: float64"
      ]
     },
     "execution_count": 11,
     "metadata": {},
     "output_type": "execute_result"
    }
   ],
   "source": [
    "missing_data = np.mean(df.isna(), axis=0)\n",
    "missing_data"
   ]
  },
  {
   "cell_type": "code",
   "execution_count": 12,
   "metadata": {},
   "outputs": [
    {
     "name": "stdout",
     "output_type": "stream",
     "text": [
      "zero prep time portion:  0.00115958265972316\n",
      "ratio of samples with missing `planned_prep_time`: 3.65359198328847e-06\n"
     ]
    },
    {
     "data": {
      "text/html": [
       "<div>\n",
       "<style scoped>\n",
       "    .dataframe tbody tr th:only-of-type {\n",
       "        vertical-align: middle;\n",
       "    }\n",
       "\n",
       "    .dataframe tbody tr th {\n",
       "        vertical-align: top;\n",
       "    }\n",
       "\n",
       "    .dataframe thead th {\n",
       "        text-align: right;\n",
       "    }\n",
       "</style>\n",
       "<table border=\"1\" class=\"dataframe\">\n",
       "  <thead>\n",
       "    <tr style=\"text-align: right;\">\n",
       "      <th></th>\n",
       "      <th>order_id</th>\n",
       "      <th>start_prep_date</th>\n",
       "      <th>profit</th>\n",
       "      <th>delivery_distance</th>\n",
       "      <th>status_id</th>\n",
       "      <th>planned_prep_time</th>\n",
       "      <th>product_id</th>\n",
       "      <th>store_id</th>\n",
       "      <th>price</th>\n",
       "      <th>y</th>\n",
       "    </tr>\n",
       "  </thead>\n",
       "  <tbody>\n",
       "    <tr>\n",
       "      <th>0</th>\n",
       "      <td>18671223</td>\n",
       "      <td>2024-05-08 00:01:21</td>\n",
       "      <td>20.145</td>\n",
       "      <td>3934</td>\n",
       "      <td>F</td>\n",
       "      <td>35.0</td>\n",
       "      <td>99278</td>\n",
       "      <td>3750</td>\n",
       "      <td>26.070</td>\n",
       "      <td>23.0</td>\n",
       "    </tr>\n",
       "    <tr>\n",
       "      <th>1</th>\n",
       "      <td>18671223</td>\n",
       "      <td>2024-05-08 00:01:21</td>\n",
       "      <td>20.145</td>\n",
       "      <td>3934</td>\n",
       "      <td>F</td>\n",
       "      <td>35.0</td>\n",
       "      <td>99283</td>\n",
       "      <td>3750</td>\n",
       "      <td>7.110</td>\n",
       "      <td>23.0</td>\n",
       "    </tr>\n",
       "    <tr>\n",
       "      <th>2</th>\n",
       "      <td>18671223</td>\n",
       "      <td>2024-05-08 00:01:21</td>\n",
       "      <td>20.145</td>\n",
       "      <td>3934</td>\n",
       "      <td>F</td>\n",
       "      <td>35.0</td>\n",
       "      <td>99285</td>\n",
       "      <td>3750</td>\n",
       "      <td>7.110</td>\n",
       "      <td>23.0</td>\n",
       "    </tr>\n",
       "    <tr>\n",
       "      <th>3</th>\n",
       "      <td>18671225</td>\n",
       "      <td>2024-05-08 00:02:01</td>\n",
       "      <td>15.800</td>\n",
       "      <td>560</td>\n",
       "      <td>F</td>\n",
       "      <td>15.0</td>\n",
       "      <td>298529</td>\n",
       "      <td>5863</td>\n",
       "      <td>31.600</td>\n",
       "      <td>8.0</td>\n",
       "    </tr>\n",
       "    <tr>\n",
       "      <th>4</th>\n",
       "      <td>18671227</td>\n",
       "      <td>2024-05-08 00:01:50</td>\n",
       "      <td>6.004</td>\n",
       "      <td>4396</td>\n",
       "      <td>F</td>\n",
       "      <td>20.0</td>\n",
       "      <td>399309</td>\n",
       "      <td>8721</td>\n",
       "      <td>30.020</td>\n",
       "      <td>47.0</td>\n",
       "    </tr>\n",
       "    <tr>\n",
       "      <th>...</th>\n",
       "      <td>...</td>\n",
       "      <td>...</td>\n",
       "      <td>...</td>\n",
       "      <td>...</td>\n",
       "      <td>...</td>\n",
       "      <td>...</td>\n",
       "      <td>...</td>\n",
       "      <td>...</td>\n",
       "      <td>...</td>\n",
       "      <td>...</td>\n",
       "    </tr>\n",
       "    <tr>\n",
       "      <th>1096079</th>\n",
       "      <td>20562723</td>\n",
       "      <td>2024-09-05 15:23:44</td>\n",
       "      <td>43.608</td>\n",
       "      <td>459</td>\n",
       "      <td>F</td>\n",
       "      <td>20.0</td>\n",
       "      <td>422385</td>\n",
       "      <td>10825</td>\n",
       "      <td>54.510</td>\n",
       "      <td>14.0</td>\n",
       "    </tr>\n",
       "    <tr>\n",
       "      <th>1096080</th>\n",
       "      <td>20562753</td>\n",
       "      <td>2024-09-05 15:25:19</td>\n",
       "      <td>30.336</td>\n",
       "      <td>1368</td>\n",
       "      <td>F</td>\n",
       "      <td>10.0</td>\n",
       "      <td>663639</td>\n",
       "      <td>3856</td>\n",
       "      <td>13.430</td>\n",
       "      <td>10.0</td>\n",
       "    </tr>\n",
       "    <tr>\n",
       "      <th>1096081</th>\n",
       "      <td>20562753</td>\n",
       "      <td>2024-09-05 15:25:19</td>\n",
       "      <td>30.336</td>\n",
       "      <td>1368</td>\n",
       "      <td>F</td>\n",
       "      <td>10.0</td>\n",
       "      <td>978719</td>\n",
       "      <td>3856</td>\n",
       "      <td>47.242</td>\n",
       "      <td>10.0</td>\n",
       "    </tr>\n",
       "    <tr>\n",
       "      <th>1096082</th>\n",
       "      <td>20562761</td>\n",
       "      <td>2024-09-05 15:25:33</td>\n",
       "      <td>45.504</td>\n",
       "      <td>2205</td>\n",
       "      <td>F</td>\n",
       "      <td>15.0</td>\n",
       "      <td>230021</td>\n",
       "      <td>5014</td>\n",
       "      <td>14.220</td>\n",
       "      <td>6.0</td>\n",
       "    </tr>\n",
       "    <tr>\n",
       "      <th>1096083</th>\n",
       "      <td>20562761</td>\n",
       "      <td>2024-09-05 15:25:33</td>\n",
       "      <td>45.504</td>\n",
       "      <td>2205</td>\n",
       "      <td>F</td>\n",
       "      <td>15.0</td>\n",
       "      <td>460217</td>\n",
       "      <td>5014</td>\n",
       "      <td>42.660</td>\n",
       "      <td>6.0</td>\n",
       "    </tr>\n",
       "  </tbody>\n",
       "</table>\n",
       "<p>1094809 rows × 10 columns</p>\n",
       "</div>"
      ],
      "text/plain": [
       "         order_id     start_prep_date  profit  delivery_distance status_id  \\\n",
       "0        18671223 2024-05-08 00:01:21  20.145               3934         F   \n",
       "1        18671223 2024-05-08 00:01:21  20.145               3934         F   \n",
       "2        18671223 2024-05-08 00:01:21  20.145               3934         F   \n",
       "3        18671225 2024-05-08 00:02:01  15.800                560         F   \n",
       "4        18671227 2024-05-08 00:01:50   6.004               4396         F   \n",
       "...           ...                 ...     ...                ...       ...   \n",
       "1096079  20562723 2024-09-05 15:23:44  43.608                459         F   \n",
       "1096080  20562753 2024-09-05 15:25:19  30.336               1368         F   \n",
       "1096081  20562753 2024-09-05 15:25:19  30.336               1368         F   \n",
       "1096082  20562761 2024-09-05 15:25:33  45.504               2205         F   \n",
       "1096083  20562761 2024-09-05 15:25:33  45.504               2205         F   \n",
       "\n",
       "         planned_prep_time  product_id  store_id   price     y  \n",
       "0                     35.0       99278      3750  26.070  23.0  \n",
       "1                     35.0       99283      3750   7.110  23.0  \n",
       "2                     35.0       99285      3750   7.110  23.0  \n",
       "3                     15.0      298529      5863  31.600   8.0  \n",
       "4                     20.0      399309      8721  30.020  47.0  \n",
       "...                    ...         ...       ...     ...   ...  \n",
       "1096079               20.0      422385     10825  54.510  14.0  \n",
       "1096080               10.0      663639      3856  13.430  10.0  \n",
       "1096081               10.0      978719      3856  47.242  10.0  \n",
       "1096082               15.0      230021      5014  14.220   6.0  \n",
       "1096083               15.0      460217      5014  42.660   6.0  \n",
       "\n",
       "[1094809 rows x 10 columns]"
      ]
     },
     "execution_count": 12,
     "metadata": {},
     "output_type": "execute_result"
    }
   ],
   "source": [
    "import data_preparation as dpre\n",
    "all_data = dpre.prepare_all_data_regression(df)\n",
    "all_data"
   ]
  },
  {
   "cell_type": "markdown",
   "metadata": {},
   "source": [
    "## Split Data"
   ]
  },
  {
   "cell_type": "markdown",
   "metadata": {},
   "source": [
    "The samples contains both order-level and item-level features. The samples belonging to the same order share most of the features and most importantly the label.\n",
    "\n",
    "Hence data splitting should take this information into account and split the data by order_id. In other words, the train and test splits must have disjoint set of orders (order_ids)"
   ]
  },
  {
   "cell_type": "code",
   "execution_count": 13,
   "metadata": {},
   "outputs": [
    {
     "data": {
      "text/plain": [
       "(985287, 109522, 8.9962)"
      ]
     },
     "execution_count": 13,
     "metadata": {},
     "output_type": "execute_result"
    }
   ],
   "source": [
    "# according to the assignment requirements, the data must be split into train and test with test representing 10% of the data\n",
    "importlib.reload(dpre)\n",
    "df_train, df_test = dpre.df_split_regression(all_data, splits=(0.9, 0.1))\n",
    "# everything seems to checkout !!!\n",
    "len(df_train), len(df_test), round(len(df_train) / len(df_test), 4) "
   ]
  },
  {
   "cell_type": "markdown",
   "metadata": {},
   "source": [
    "## Impute Missing data:  The price and profit columns"
   ]
  },
  {
   "cell_type": "markdown",
   "metadata": {},
   "source": [
    "### Price Feature Imputation\n",
    "Let's start with the idea. It seems reasonable to assume that a product would relatively close values. If we're lucky we can estimate the price of a product, by the aggregation of prices of other instances of the same product."
   ]
  },
  {
   "cell_type": "markdown",
   "metadata": {},
   "source": [
    "### Profit \n",
    "Unlike the price, the profit is computed across the entire order. We can consider some aggregate across both the store and the product id; basically an estimation of how much profit a specific store makes on a specific product."
   ]
  },
  {
   "cell_type": "markdown",
   "metadata": {},
   "source": [
    "# EDA"
   ]
  },
  {
   "cell_type": "markdown",
   "metadata": {},
   "source": [
    "## Labels: preparation time"
   ]
  },
  {
   "cell_type": "code",
   "execution_count": 14,
   "metadata": {},
   "outputs": [
    {
     "data": {
      "image/png": "[encoded data removed]",
      "text/plain": [
       "<Figure size 1400x600 with 2 Axes>"
      ]
     },
     "metadata": {},
     "output_type": "display_data"
    }
   ],
   "source": [
    "# let's visualize the distribution of labels: both box plot and histograms\n",
    "import matplotlib.pyplot as plt\n",
    "\n",
    "fig = plt.figure(figsize=(14, 6)) \n",
    "fig.add_subplot(1, 2, 1) \n",
    "\n",
    "plt.hist(df_train['y'], bins=100)\n",
    "plt.title(\"Histogram of `prep time`\")\n",
    "\n",
    "fig.add_subplot(1, 2, 2) \n",
    "plt.boxplot(df_train['y'])\n",
    "plt.title(\"Box plot of `prep time`\")\n",
    "plt.show()"
   ]
  },
  {
   "cell_type": "markdown",
   "metadata": {},
   "source": [
    "The histogram clearly demonstrates the skewed distribution of preparation time. Furthermore, the box plot confirms the presence of a relatively large number of outliers. "
   ]
  },
  {
   "cell_type": "markdown",
   "metadata": {},
   "source": [
    "## Feature clasification: Encoding categorical features"
   ]
  },
  {
   "cell_type": "markdown",
   "metadata": {},
   "source": [
    "\n",
    "Before applying feature enginnering techniques, it is important to understand the type of data we have: categorial, numerical..."
   ]
  },
  {
   "cell_type": "markdown",
   "metadata": {},
   "source": [
    "The features can be classified as follows:\n",
    "\n",
    "1. Categorical: \n",
    "\t* product_id\n",
    "\t* store_id\n",
    "\t* order_id: if the product_id does not make a difference, then we will use group by the order id and reduce the number of samples...\n",
    "\n",
    "2. Continuous:\n",
    "\t* planned prep time\n",
    "\t* price\n",
    "\n",
    "3. time:\n",
    "\t* start_prep_time: extract the day of the week, the hour, the number of orders a store has received in the last \"x\" minutes\n",
    "\t* product creation time\n",
    "\n",
    "Few observations: \n",
    "\n",
    "* too many products\n",
    "* either discard products in general (if most of them were ordered only once or twice) or somehow laverage the frequntly ordered products\n",
    "* we have few stores which means we can build some \n",
    "* the price needs to aggregated across all items in the order\n"
   ]
  },
  {
   "cell_type": "markdown",
   "metadata": {},
   "source": [
    "# Product Ids: \n",
    "too many products, consider only the $n$ most frequent products where $n$ represent the number of products that cover $70\\%$ of all orders. Out of 55k unique products, $n$ turns out to be aroun 6k: almost $10\\%$. Any product id that does belong to this set was set to $-1$ as an id. This is just an intermediate step as the product ids were further encoded using the target encoder implemented by SKlearn. Although I experimented with some  custom encoding ideas of mine, The battle-test Target encoder yielded significantly better resutls. "
   ]
  },
  {
   "cell_type": "markdown",
   "metadata": {},
   "source": [
    "### Store id\n",
    "\n",
    "We more 1.4k unique stores. One way to fully laverage the store_id is to compute the average deviation of the actual prep time from the planned one."
   ]
  },
  {
   "cell_type": "markdown",
   "metadata": {},
   "source": [
    "# Train Data Final Form"
   ]
  },
  {
   "cell_type": "markdown",
   "metadata": {},
   "source": [
    "All we have done so far revolved around preparing the features: mainly imputing as much of the `price` and `profit` features and trying to embed as much information in the encoding of the `store_id` and `product_id` features.\n"
   ]
  },
  {
   "cell_type": "code",
   "execution_count": 15,
   "metadata": {},
   "outputs": [
    {
     "name": "stderr",
     "output_type": "stream",
     "text": [
      "c:\\Users\\bouab\\DEV\\Towards_Data_Science\\tba\\p1\\code\\eda.py:35: SettingWithCopyWarning: \n",
      "A value is trying to be set on a copy of a slice from a DataFrame.\n",
      "Try using .loc[row_indexer,col_indexer] = value instead\n",
      "\n",
      "See the caveats in the documentation: https://pandas.pydata.org/pandas-docs/stable/user_guide/indexing.html#returning-a-view-versus-a-copy\n",
      "  df['is_outlier'] = ~mask\n",
      "c:\\Users\\bouab\\DEV\\Towards_Data_Science\\tba\\p1\\code\\data_processing.py:399: SettingWithCopyWarning: \n",
      "A value is trying to be set on a copy of a slice from a DataFrame\n",
      "\n",
      "See the caveats in the documentation: https://pandas.pydata.org/pandas-docs/stable/user_guide/indexing.html#returning-a-view-versus-a-copy\n",
      "  df_train.drop(columns=['is_outlier'], inplace=True)\n"
     ]
    }
   ],
   "source": [
    "import data_processing as pro\n",
    "df_train, df_test = pro.process_data_regression(df_train, df_test)\n",
    "y_train, y_test = df_train.pop('y'), df_test.pop('y')"
   ]
  },
  {
   "cell_type": "code",
   "execution_count": 16,
   "metadata": {},
   "outputs": [
    {
     "data": {
      "text/plain": [
       "(profit               0\n",
       " delivery_distance    0\n",
       " planned_prep_time    0\n",
       " product_id           0\n",
       " price                0\n",
       " y_deviation_mean     0\n",
       " y_deviation_u        0\n",
       " y_deviation_u2       0\n",
       " y_deviation_l        0\n",
       " y_deviation_l2       0\n",
       " order_hour           0\n",
       " order_day            0\n",
       " dtype: int64,\n",
       " profit               0\n",
       " delivery_distance    0\n",
       " planned_prep_time    0\n",
       " product_id           0\n",
       " price                0\n",
       " y_deviation_mean     0\n",
       " y_deviation_u        0\n",
       " y_deviation_u2       0\n",
       " y_deviation_l        0\n",
       " y_deviation_l2       0\n",
       " order_hour           0\n",
       " order_day            0\n",
       " dtype: int64)"
      ]
     },
     "execution_count": 16,
     "metadata": {},
     "output_type": "execute_result"
    }
   ],
   "source": [
    "df_train.isna().sum(), df_test.isna().sum()"
   ]
  },
  {
   "cell_type": "code",
   "execution_count": 17,
   "metadata": {},
   "outputs": [],
   "source": [
    "df_train.to_csv(os.path.join(DATA_FOLDER, 'train.csv'), index=False)\n",
    "y_train.to_csv(os.path.join(DATA_FOLDER, 'y_train.csv'), index=False)\n",
    "\n",
    "df_test.to_csv(os.path.join(DATA_FOLDER, 'test.csv'), index=False)\n",
    "y_test.to_csv(os.path.join(DATA_FOLDER, 'y_test.csv'), index=False)"
   ]
  },
  {
   "cell_type": "code",
   "execution_count": 52,
   "metadata": {},
   "outputs": [
    {
     "name": "stdout",
     "output_type": "stream",
     "text": [
      "zero prep time portion:  0.00115958265972316\n",
      "ratio of samples with missing `planned_prep_time`: 3.65359198328847e-06\n",
      "   order_id     start_prep_date  profit  delivery_distance status_id  \\\n",
      "0  18671223 2024-05-08 00:01:21  20.145               3934         F   \n",
      "1  18671223 2024-05-08 00:01:21  20.145               3934         F   \n",
      "2  18671223 2024-05-08 00:01:21  20.145               3934         F   \n",
      "3  18671225 2024-05-08 00:02:01  15.800                560         F   \n",
      "4  18671227 2024-05-08 00:01:50   6.004               4396         F   \n",
      "\n",
      "   planned_prep_time  product_id  store_id  price     y  y_cls  \n",
      "0               35.0       99278      3750  26.07  23.0      0  \n",
      "1               35.0       99283      3750   7.11  23.0      0  \n",
      "2               35.0       99285      3750   7.11  23.0      0  \n",
      "3               15.0      298529      5863  31.60   8.0      0  \n",
      "4               20.0      399309      8721  30.02  47.0      0  \n",
      "985386 109423 9.0053\n",
      "y_cls\n",
      "0    516470\n",
      "1    468916\n",
      "Name: count, dtype: int64\n",
      "y_cls\n",
      "0    57082\n",
      "1    52341\n",
      "Name: count, dtype: int64\n"
     ]
    }
   ],
   "source": [
    "import data_preparation as dpre\n",
    "db_file = os.path.join(DATA_FOLDER, 'F24.ML.Assignment.One.data.db')\n",
    "df_save_file = os.path.join(DATA_FOLDER, 'data.csv')\n",
    "df = dpre.data_to_df(db_file, \n",
    "\t\tdf_save_file, \n",
    "\t\toverwrite=False # no need to execute the same lengthy query if the .csv file already exists...\n",
    "\t\t)\n",
    "all_data = dpre.prepare_all_data_classification(df)\n",
    "\n",
    "# df_train, df_test = dpre.df_split(all_data, splits=(0.9, 0.1))\n",
    "# # everything seems to checkout !!!\n",
    "# len(df_train), len(df_test), round(len(df_train) / len(df_test), 4) \n",
    "\n",
    "# df_train, df_test = process_data_regression(df_train, df_test)\n",
    "print(all_data.head())\n",
    "\n",
    "# split the data\n",
    "df_train, df_test = dpre.df_split_classification(all_data, splits=(0.9, 0.1))\n",
    "\n",
    "# everything seems to checkout !!!\n",
    "print(len(df_train), len(df_test), round(len(df_train) / len(df_test), 4))\n",
    "\n",
    "print(df_train['y_cls'].value_counts())\n",
    "print(df_test['y_cls'].value_counts())"
   ]
  },
  {
   "cell_type": "code",
   "execution_count": 53,
   "metadata": {},
   "outputs": [],
   "source": [
    "df_train = df_train.drop(columns='y').rename(columns={\"y_cls\": \"y\"})\n",
    "df_test = df_test.drop(columns='y').rename(columns={\"y_cls\": \"y\"})"
   ]
  },
  {
   "cell_type": "code",
   "execution_count": 54,
   "metadata": {},
   "outputs": [
    {
     "data": {
      "text/html": [
       "<div>\n",
       "<style scoped>\n",
       "    .dataframe tbody tr th:only-of-type {\n",
       "        vertical-align: middle;\n",
       "    }\n",
       "\n",
       "    .dataframe tbody tr th {\n",
       "        vertical-align: top;\n",
       "    }\n",
       "\n",
       "    .dataframe thead th {\n",
       "        text-align: right;\n",
       "    }\n",
       "</style>\n",
       "<table border=\"1\" class=\"dataframe\">\n",
       "  <thead>\n",
       "    <tr style=\"text-align: right;\">\n",
       "      <th></th>\n",
       "      <th>order_id</th>\n",
       "      <th>start_prep_date</th>\n",
       "      <th>profit</th>\n",
       "      <th>delivery_distance</th>\n",
       "      <th>status_id</th>\n",
       "      <th>planned_prep_time</th>\n",
       "      <th>product_id</th>\n",
       "      <th>store_id</th>\n",
       "      <th>price</th>\n",
       "      <th>y</th>\n",
       "    </tr>\n",
       "  </thead>\n",
       "  <tbody>\n",
       "    <tr>\n",
       "      <th>0</th>\n",
       "      <td>18671223</td>\n",
       "      <td>2024-05-08 00:01:21</td>\n",
       "      <td>20.145</td>\n",
       "      <td>3934</td>\n",
       "      <td>F</td>\n",
       "      <td>35.0</td>\n",
       "      <td>99278</td>\n",
       "      <td>3750</td>\n",
       "      <td>26.07</td>\n",
       "      <td>0</td>\n",
       "    </tr>\n",
       "    <tr>\n",
       "      <th>1</th>\n",
       "      <td>18671223</td>\n",
       "      <td>2024-05-08 00:01:21</td>\n",
       "      <td>20.145</td>\n",
       "      <td>3934</td>\n",
       "      <td>F</td>\n",
       "      <td>35.0</td>\n",
       "      <td>99283</td>\n",
       "      <td>3750</td>\n",
       "      <td>7.11</td>\n",
       "      <td>0</td>\n",
       "    </tr>\n",
       "    <tr>\n",
       "      <th>2</th>\n",
       "      <td>18671223</td>\n",
       "      <td>2024-05-08 00:01:21</td>\n",
       "      <td>20.145</td>\n",
       "      <td>3934</td>\n",
       "      <td>F</td>\n",
       "      <td>35.0</td>\n",
       "      <td>99285</td>\n",
       "      <td>3750</td>\n",
       "      <td>7.11</td>\n",
       "      <td>0</td>\n",
       "    </tr>\n",
       "    <tr>\n",
       "      <th>3</th>\n",
       "      <td>18671225</td>\n",
       "      <td>2024-05-08 00:02:01</td>\n",
       "      <td>15.800</td>\n",
       "      <td>560</td>\n",
       "      <td>F</td>\n",
       "      <td>15.0</td>\n",
       "      <td>298529</td>\n",
       "      <td>5863</td>\n",
       "      <td>31.60</td>\n",
       "      <td>0</td>\n",
       "    </tr>\n",
       "    <tr>\n",
       "      <th>4</th>\n",
       "      <td>18671227</td>\n",
       "      <td>2024-05-08 00:01:50</td>\n",
       "      <td>6.004</td>\n",
       "      <td>4396</td>\n",
       "      <td>F</td>\n",
       "      <td>20.0</td>\n",
       "      <td>399309</td>\n",
       "      <td>8721</td>\n",
       "      <td>30.02</td>\n",
       "      <td>0</td>\n",
       "    </tr>\n",
       "  </tbody>\n",
       "</table>\n",
       "</div>"
      ],
      "text/plain": [
       "   order_id     start_prep_date  profit  delivery_distance status_id  \\\n",
       "0  18671223 2024-05-08 00:01:21  20.145               3934         F   \n",
       "1  18671223 2024-05-08 00:01:21  20.145               3934         F   \n",
       "2  18671223 2024-05-08 00:01:21  20.145               3934         F   \n",
       "3  18671225 2024-05-08 00:02:01  15.800                560         F   \n",
       "4  18671227 2024-05-08 00:01:50   6.004               4396         F   \n",
       "\n",
       "   planned_prep_time  product_id  store_id  price  y  \n",
       "0               35.0       99278      3750  26.07  0  \n",
       "1               35.0       99283      3750   7.11  0  \n",
       "2               35.0       99285      3750   7.11  0  \n",
       "3               15.0      298529      5863  31.60  0  \n",
       "4               20.0      399309      8721  30.02  0  "
      ]
     },
     "execution_count": 54,
     "metadata": {},
     "output_type": "execute_result"
    }
   ],
   "source": [
    "df_train.head()"
   ]
  },
  {
   "cell_type": "code",
   "execution_count": 55,
   "metadata": {},
   "outputs": [
    {
     "data": {
      "text/html": [
       "<div>\n",
       "<style scoped>\n",
       "    .dataframe tbody tr th:only-of-type {\n",
       "        vertical-align: middle;\n",
       "    }\n",
       "\n",
       "    .dataframe tbody tr th {\n",
       "        vertical-align: top;\n",
       "    }\n",
       "\n",
       "    .dataframe thead th {\n",
       "        text-align: right;\n",
       "    }\n",
       "</style>\n",
       "<table border=\"1\" class=\"dataframe\">\n",
       "  <thead>\n",
       "    <tr style=\"text-align: right;\">\n",
       "      <th></th>\n",
       "      <th>order_id</th>\n",
       "      <th>start_prep_date</th>\n",
       "      <th>profit</th>\n",
       "      <th>delivery_distance</th>\n",
       "      <th>status_id</th>\n",
       "      <th>planned_prep_time</th>\n",
       "      <th>product_id</th>\n",
       "      <th>store_id</th>\n",
       "      <th>y</th>\n",
       "      <th>price</th>\n",
       "    </tr>\n",
       "  </thead>\n",
       "  <tbody>\n",
       "    <tr>\n",
       "      <th>0</th>\n",
       "      <td>18671223</td>\n",
       "      <td>2024-05-08 00:01:21</td>\n",
       "      <td>20.145</td>\n",
       "      <td>3934</td>\n",
       "      <td>F</td>\n",
       "      <td>35.0</td>\n",
       "      <td>99278</td>\n",
       "      <td>3750</td>\n",
       "      <td>0</td>\n",
       "      <td>26.07000</td>\n",
       "    </tr>\n",
       "    <tr>\n",
       "      <th>1</th>\n",
       "      <td>18671223</td>\n",
       "      <td>2024-05-08 00:01:21</td>\n",
       "      <td>20.145</td>\n",
       "      <td>3934</td>\n",
       "      <td>F</td>\n",
       "      <td>35.0</td>\n",
       "      <td>99283</td>\n",
       "      <td>3750</td>\n",
       "      <td>0</td>\n",
       "      <td>7.11000</td>\n",
       "    </tr>\n",
       "    <tr>\n",
       "      <th>2</th>\n",
       "      <td>18671223</td>\n",
       "      <td>2024-05-08 00:01:21</td>\n",
       "      <td>20.145</td>\n",
       "      <td>3934</td>\n",
       "      <td>F</td>\n",
       "      <td>35.0</td>\n",
       "      <td>99285</td>\n",
       "      <td>3750</td>\n",
       "      <td>0</td>\n",
       "      <td>7.11000</td>\n",
       "    </tr>\n",
       "    <tr>\n",
       "      <th>3</th>\n",
       "      <td>18671225</td>\n",
       "      <td>2024-05-08 00:02:01</td>\n",
       "      <td>15.800</td>\n",
       "      <td>560</td>\n",
       "      <td>F</td>\n",
       "      <td>15.0</td>\n",
       "      <td>298529</td>\n",
       "      <td>5863</td>\n",
       "      <td>0</td>\n",
       "      <td>31.67844</td>\n",
       "    </tr>\n",
       "    <tr>\n",
       "      <th>4</th>\n",
       "      <td>18671227</td>\n",
       "      <td>2024-05-08 00:01:50</td>\n",
       "      <td>6.004</td>\n",
       "      <td>4396</td>\n",
       "      <td>F</td>\n",
       "      <td>20.0</td>\n",
       "      <td>399309</td>\n",
       "      <td>8721</td>\n",
       "      <td>0</td>\n",
       "      <td>30.02000</td>\n",
       "    </tr>\n",
       "  </tbody>\n",
       "</table>\n",
       "</div>"
      ],
      "text/plain": [
       "   order_id     start_prep_date  profit  delivery_distance status_id  \\\n",
       "0  18671223 2024-05-08 00:01:21  20.145               3934         F   \n",
       "1  18671223 2024-05-08 00:01:21  20.145               3934         F   \n",
       "2  18671223 2024-05-08 00:01:21  20.145               3934         F   \n",
       "3  18671225 2024-05-08 00:02:01  15.800                560         F   \n",
       "4  18671227 2024-05-08 00:01:50   6.004               4396         F   \n",
       "\n",
       "   planned_prep_time  product_id  store_id  y     price  \n",
       "0               35.0       99278      3750  0  26.07000  \n",
       "1               35.0       99283      3750  0   7.11000  \n",
       "2               35.0       99285      3750  0   7.11000  \n",
       "3               15.0      298529      5863  0  31.67844  \n",
       "4               20.0      399309      8721  0  30.02000  "
      ]
     },
     "execution_count": 55,
     "metadata": {},
     "output_type": "execute_result"
    }
   ],
   "source": [
    "# the first few steps \n",
    "importlib.reload(pro)\n",
    "df_train, df_test = pro.impute_prices(df_train, df_test)\n",
    "df_train.head()"
   ]
  },
  {
   "cell_type": "code",
   "execution_count": 56,
   "metadata": {},
   "outputs": [
    {
     "data": {
      "text/html": [
       "<div>\n",
       "<style scoped>\n",
       "    .dataframe tbody tr th:only-of-type {\n",
       "        vertical-align: middle;\n",
       "    }\n",
       "\n",
       "    .dataframe tbody tr th {\n",
       "        vertical-align: top;\n",
       "    }\n",
       "\n",
       "    .dataframe thead th {\n",
       "        text-align: right;\n",
       "    }\n",
       "</style>\n",
       "<table border=\"1\" class=\"dataframe\">\n",
       "  <thead>\n",
       "    <tr style=\"text-align: right;\">\n",
       "      <th></th>\n",
       "      <th>order_id</th>\n",
       "      <th>start_prep_date</th>\n",
       "      <th>profit</th>\n",
       "      <th>delivery_distance</th>\n",
       "      <th>status_id</th>\n",
       "      <th>planned_prep_time</th>\n",
       "      <th>product_id</th>\n",
       "      <th>store_id</th>\n",
       "      <th>y</th>\n",
       "      <th>price</th>\n",
       "    </tr>\n",
       "  </thead>\n",
       "  <tbody>\n",
       "    <tr>\n",
       "      <th>0</th>\n",
       "      <td>18671223</td>\n",
       "      <td>2024-05-08 00:01:21</td>\n",
       "      <td>20.145</td>\n",
       "      <td>3934</td>\n",
       "      <td>F</td>\n",
       "      <td>35.0</td>\n",
       "      <td>99278</td>\n",
       "      <td>3750</td>\n",
       "      <td>0</td>\n",
       "      <td>26.07000</td>\n",
       "    </tr>\n",
       "    <tr>\n",
       "      <th>1</th>\n",
       "      <td>18671223</td>\n",
       "      <td>2024-05-08 00:01:21</td>\n",
       "      <td>20.145</td>\n",
       "      <td>3934</td>\n",
       "      <td>F</td>\n",
       "      <td>35.0</td>\n",
       "      <td>99283</td>\n",
       "      <td>3750</td>\n",
       "      <td>0</td>\n",
       "      <td>7.11000</td>\n",
       "    </tr>\n",
       "    <tr>\n",
       "      <th>2</th>\n",
       "      <td>18671223</td>\n",
       "      <td>2024-05-08 00:01:21</td>\n",
       "      <td>20.145</td>\n",
       "      <td>3934</td>\n",
       "      <td>F</td>\n",
       "      <td>35.0</td>\n",
       "      <td>99285</td>\n",
       "      <td>3750</td>\n",
       "      <td>0</td>\n",
       "      <td>7.11000</td>\n",
       "    </tr>\n",
       "    <tr>\n",
       "      <th>3</th>\n",
       "      <td>18671225</td>\n",
       "      <td>2024-05-08 00:02:01</td>\n",
       "      <td>15.800</td>\n",
       "      <td>560</td>\n",
       "      <td>F</td>\n",
       "      <td>15.0</td>\n",
       "      <td>298529</td>\n",
       "      <td>5863</td>\n",
       "      <td>0</td>\n",
       "      <td>31.67844</td>\n",
       "    </tr>\n",
       "    <tr>\n",
       "      <th>4</th>\n",
       "      <td>18671227</td>\n",
       "      <td>2024-05-08 00:01:50</td>\n",
       "      <td>6.004</td>\n",
       "      <td>4396</td>\n",
       "      <td>F</td>\n",
       "      <td>20.0</td>\n",
       "      <td>399309</td>\n",
       "      <td>8721</td>\n",
       "      <td>0</td>\n",
       "      <td>30.02000</td>\n",
       "    </tr>\n",
       "  </tbody>\n",
       "</table>\n",
       "</div>"
      ],
      "text/plain": [
       "   order_id     start_prep_date  profit  delivery_distance status_id  \\\n",
       "0  18671223 2024-05-08 00:01:21  20.145               3934         F   \n",
       "1  18671223 2024-05-08 00:01:21  20.145               3934         F   \n",
       "2  18671223 2024-05-08 00:01:21  20.145               3934         F   \n",
       "3  18671225 2024-05-08 00:02:01  15.800                560         F   \n",
       "4  18671227 2024-05-08 00:01:50   6.004               4396         F   \n",
       "\n",
       "   planned_prep_time  product_id  store_id  y     price  \n",
       "0               35.0       99278      3750  0  26.07000  \n",
       "1               35.0       99283      3750  0   7.11000  \n",
       "2               35.0       99285      3750  0   7.11000  \n",
       "3               15.0      298529      5863  0  31.67844  \n",
       "4               20.0      399309      8721  0  30.02000  "
      ]
     },
     "execution_count": 56,
     "metadata": {},
     "output_type": "execute_result"
    }
   ],
   "source": [
    "# impute the missing price samples with median\n",
    "df_train, df_test = pro.impute_price_with_median(df_train, df_test)\n",
    "df_train.head()"
   ]
  },
  {
   "cell_type": "code",
   "execution_count": 57,
   "metadata": {},
   "outputs": [
    {
     "data": {
      "text/html": [
       "<div>\n",
       "<style scoped>\n",
       "    .dataframe tbody tr th:only-of-type {\n",
       "        vertical-align: middle;\n",
       "    }\n",
       "\n",
       "    .dataframe tbody tr th {\n",
       "        vertical-align: top;\n",
       "    }\n",
       "\n",
       "    .dataframe thead th {\n",
       "        text-align: right;\n",
       "    }\n",
       "</style>\n",
       "<table border=\"1\" class=\"dataframe\">\n",
       "  <thead>\n",
       "    <tr style=\"text-align: right;\">\n",
       "      <th></th>\n",
       "      <th>order_id</th>\n",
       "      <th>start_prep_date</th>\n",
       "      <th>profit</th>\n",
       "      <th>delivery_distance</th>\n",
       "      <th>status_id</th>\n",
       "      <th>planned_prep_time</th>\n",
       "      <th>product_id</th>\n",
       "      <th>store_id</th>\n",
       "      <th>y</th>\n",
       "      <th>price</th>\n",
       "    </tr>\n",
       "  </thead>\n",
       "  <tbody>\n",
       "    <tr>\n",
       "      <th>0</th>\n",
       "      <td>18671223</td>\n",
       "      <td>2024-05-08 00:01:21</td>\n",
       "      <td>20.145</td>\n",
       "      <td>3934</td>\n",
       "      <td>F</td>\n",
       "      <td>35.0</td>\n",
       "      <td>99278</td>\n",
       "      <td>3750</td>\n",
       "      <td>0</td>\n",
       "      <td>26.07000</td>\n",
       "    </tr>\n",
       "    <tr>\n",
       "      <th>1</th>\n",
       "      <td>18671223</td>\n",
       "      <td>2024-05-08 00:01:21</td>\n",
       "      <td>20.145</td>\n",
       "      <td>3934</td>\n",
       "      <td>F</td>\n",
       "      <td>35.0</td>\n",
       "      <td>99283</td>\n",
       "      <td>3750</td>\n",
       "      <td>0</td>\n",
       "      <td>7.11000</td>\n",
       "    </tr>\n",
       "    <tr>\n",
       "      <th>2</th>\n",
       "      <td>18671223</td>\n",
       "      <td>2024-05-08 00:01:21</td>\n",
       "      <td>20.145</td>\n",
       "      <td>3934</td>\n",
       "      <td>F</td>\n",
       "      <td>35.0</td>\n",
       "      <td>99285</td>\n",
       "      <td>3750</td>\n",
       "      <td>0</td>\n",
       "      <td>7.11000</td>\n",
       "    </tr>\n",
       "    <tr>\n",
       "      <th>3</th>\n",
       "      <td>18671225</td>\n",
       "      <td>2024-05-08 00:02:01</td>\n",
       "      <td>15.800</td>\n",
       "      <td>560</td>\n",
       "      <td>F</td>\n",
       "      <td>15.0</td>\n",
       "      <td>298529</td>\n",
       "      <td>5863</td>\n",
       "      <td>0</td>\n",
       "      <td>31.67844</td>\n",
       "    </tr>\n",
       "    <tr>\n",
       "      <th>4</th>\n",
       "      <td>18671227</td>\n",
       "      <td>2024-05-08 00:01:50</td>\n",
       "      <td>6.004</td>\n",
       "      <td>4396</td>\n",
       "      <td>F</td>\n",
       "      <td>20.0</td>\n",
       "      <td>399309</td>\n",
       "      <td>8721</td>\n",
       "      <td>0</td>\n",
       "      <td>30.02000</td>\n",
       "    </tr>\n",
       "  </tbody>\n",
       "</table>\n",
       "</div>"
      ],
      "text/plain": [
       "   order_id     start_prep_date  profit  delivery_distance status_id  \\\n",
       "0  18671223 2024-05-08 00:01:21  20.145               3934         F   \n",
       "1  18671223 2024-05-08 00:01:21  20.145               3934         F   \n",
       "2  18671223 2024-05-08 00:01:21  20.145               3934         F   \n",
       "3  18671225 2024-05-08 00:02:01  15.800                560         F   \n",
       "4  18671227 2024-05-08 00:01:50   6.004               4396         F   \n",
       "\n",
       "   planned_prep_time  product_id  store_id  y     price  \n",
       "0               35.0       99278      3750  0  26.07000  \n",
       "1               35.0       99283      3750  0   7.11000  \n",
       "2               35.0       99285      3750  0   7.11000  \n",
       "3               15.0      298529      5863  0  31.67844  \n",
       "4               20.0      399309      8721  0  30.02000  "
      ]
     },
     "execution_count": 57,
     "metadata": {},
     "output_type": "execute_result"
    }
   ],
   "source": [
    "# there should be non missing values from now on \n",
    "df_train, df_test = pro.impute_profit(df_train, df_test)\n",
    "df_train.head()"
   ]
  },
  {
   "cell_type": "code",
   "execution_count": 60,
   "metadata": {},
   "outputs": [
    {
     "data": {
      "text/html": [
       "<div>\n",
       "<style scoped>\n",
       "    .dataframe tbody tr th:only-of-type {\n",
       "        vertical-align: middle;\n",
       "    }\n",
       "\n",
       "    .dataframe tbody tr th {\n",
       "        vertical-align: top;\n",
       "    }\n",
       "\n",
       "    .dataframe thead th {\n",
       "        text-align: right;\n",
       "    }\n",
       "</style>\n",
       "<table border=\"1\" class=\"dataframe\">\n",
       "  <thead>\n",
       "    <tr style=\"text-align: right;\">\n",
       "      <th></th>\n",
       "      <th>order_id</th>\n",
       "      <th>start_prep_date</th>\n",
       "      <th>profit</th>\n",
       "      <th>delivery_distance</th>\n",
       "      <th>status_id</th>\n",
       "      <th>planned_prep_time</th>\n",
       "      <th>product_id</th>\n",
       "      <th>store_id</th>\n",
       "      <th>y</th>\n",
       "      <th>price</th>\n",
       "    </tr>\n",
       "  </thead>\n",
       "  <tbody>\n",
       "    <tr>\n",
       "      <th>0</th>\n",
       "      <td>18671223</td>\n",
       "      <td>2024-05-08 00:01:21</td>\n",
       "      <td>20.145</td>\n",
       "      <td>3934</td>\n",
       "      <td>F</td>\n",
       "      <td>35.0</td>\n",
       "      <td>0.473879</td>\n",
       "      <td>3750</td>\n",
       "      <td>0</td>\n",
       "      <td>26.07000</td>\n",
       "    </tr>\n",
       "    <tr>\n",
       "      <th>1</th>\n",
       "      <td>18671223</td>\n",
       "      <td>2024-05-08 00:01:21</td>\n",
       "      <td>20.145</td>\n",
       "      <td>3934</td>\n",
       "      <td>F</td>\n",
       "      <td>35.0</td>\n",
       "      <td>0.474677</td>\n",
       "      <td>3750</td>\n",
       "      <td>0</td>\n",
       "      <td>7.11000</td>\n",
       "    </tr>\n",
       "    <tr>\n",
       "      <th>2</th>\n",
       "      <td>18671223</td>\n",
       "      <td>2024-05-08 00:01:21</td>\n",
       "      <td>20.145</td>\n",
       "      <td>3934</td>\n",
       "      <td>F</td>\n",
       "      <td>35.0</td>\n",
       "      <td>0.474677</td>\n",
       "      <td>3750</td>\n",
       "      <td>0</td>\n",
       "      <td>7.11000</td>\n",
       "    </tr>\n",
       "    <tr>\n",
       "      <th>3</th>\n",
       "      <td>18671225</td>\n",
       "      <td>2024-05-08 00:02:01</td>\n",
       "      <td>15.800</td>\n",
       "      <td>560</td>\n",
       "      <td>F</td>\n",
       "      <td>15.0</td>\n",
       "      <td>0.474677</td>\n",
       "      <td>5863</td>\n",
       "      <td>0</td>\n",
       "      <td>31.67844</td>\n",
       "    </tr>\n",
       "    <tr>\n",
       "      <th>4</th>\n",
       "      <td>18671227</td>\n",
       "      <td>2024-05-08 00:01:50</td>\n",
       "      <td>6.004</td>\n",
       "      <td>4396</td>\n",
       "      <td>F</td>\n",
       "      <td>20.0</td>\n",
       "      <td>0.473277</td>\n",
       "      <td>8721</td>\n",
       "      <td>0</td>\n",
       "      <td>30.02000</td>\n",
       "    </tr>\n",
       "  </tbody>\n",
       "</table>\n",
       "</div>"
      ],
      "text/plain": [
       "   order_id     start_prep_date  profit  delivery_distance status_id  \\\n",
       "0  18671223 2024-05-08 00:01:21  20.145               3934         F   \n",
       "1  18671223 2024-05-08 00:01:21  20.145               3934         F   \n",
       "2  18671223 2024-05-08 00:01:21  20.145               3934         F   \n",
       "3  18671225 2024-05-08 00:02:01  15.800                560         F   \n",
       "4  18671227 2024-05-08 00:01:50   6.004               4396         F   \n",
       "\n",
       "   planned_prep_time  product_id  store_id  y     price  \n",
       "0               35.0    0.473879      3750  0  26.07000  \n",
       "1               35.0    0.474677      3750  0   7.11000  \n",
       "2               35.0    0.474677      3750  0   7.11000  \n",
       "3               15.0    0.474677      5863  0  31.67844  \n",
       "4               20.0    0.473277      8721  0  30.02000  "
      ]
     },
     "execution_count": 60,
     "metadata": {},
     "output_type": "execute_result"
    }
   ],
   "source": [
    "importlib.reload(pro)\n",
    "df_train, df_test = pro.encode_product_id(df_train, df_test, task='classification')\n",
    "df_train.head()"
   ]
  },
  {
   "cell_type": "code",
   "execution_count": 65,
   "metadata": {},
   "outputs": [],
   "source": [
    "importlib.reload(pro)\n",
    "df_train, df_test = pro.encode_store_id_classification(df_train, df_test)"
   ]
  },
  {
   "cell_type": "markdown",
   "metadata": {},
   "source": [
    "# Modeling"
   ]
  },
  {
   "cell_type": "code",
   "execution_count": 24,
   "metadata": {},
   "outputs": [],
   "source": [
    "df_train = pd.read_csv(os.path.join(DATA_FOLDER, 'train.csv'))\n",
    "y_train = pd.read_csv(os.path.join(DATA_FOLDER, 'y_train.csv')).squeeze()\n",
    "\n",
    "df_test = pd.read_csv(os.path.join(DATA_FOLDER, 'test.csv'))\n",
    "y_test = pd.read_csv(os.path.join(DATA_FOLDER, 'y_test.csv')).squeeze()"
   ]
  },
  {
   "cell_type": "code",
   "execution_count": 25,
   "metadata": {},
   "outputs": [
    {
     "data": {
      "text/plain": [
       "profit               0\n",
       "delivery_distance    0\n",
       "planned_prep_time    0\n",
       "product_id           0\n",
       "price                0\n",
       "y_deviation_mean     0\n",
       "y_deviation_u        0\n",
       "y_deviation_u2       0\n",
       "y_deviation_l        0\n",
       "y_deviation_l2       0\n",
       "order_hour           0\n",
       "order_day            0\n",
       "dtype: int64"
      ]
     },
     "execution_count": 25,
     "metadata": {},
     "output_type": "execute_result"
    }
   ],
   "source": [
    "df_train.isna().sum()\n",
    "df_test.isna().sum()"
   ]
  },
  {
   "cell_type": "code",
   "execution_count": 26,
   "metadata": {},
   "outputs": [
    {
     "name": "stdout",
     "output_type": "stream",
     "text": [
      "LinearRegression ({'train_rmse': 7.7058, 'train_mae': 5.9004, 'train_r2': 0.4467}, {'test_rmse': 9.6712, 'test_mae': 6.3376, 'test_r2': 0.3941})\n",
      "Lasso ({'train_rmse': 7.7725, 'train_mae': 5.9534, 'train_r2': 0.4371}, {'test_rmse': 9.7462, 'test_mae': 6.3922, 'test_r2': 0.3847})\n",
      "Ridge ({'train_rmse': 7.7058, 'train_mae': 5.9003, 'train_r2': 0.4467}, {'test_rmse': 9.6713, 'test_mae': 6.3375, 'test_r2': 0.3941})\n"
     ]
    }
   ],
   "source": [
    "import models\n",
    "importlib.reload(models)\n",
    "from sklearn.linear_model import LinearRegression, Ridge, Lasso\n",
    "lr, lr1, lr2 = LinearRegression(), Lasso(alpha=1), Ridge(alpha=1), \n",
    "models_res = {}\n",
    "for m in [lr, lr1, lr2]:\n",
    "\tm_name = models._extract_model_name_from_cls(m)\n",
    "\tmodels_res[m_name] = models.pipeline(df_train, y_train, df_test, y_test, m)\n",
    "\tprint(m_name, models_res[m_name][1:])"
   ]
  },
  {
   "cell_type": "code",
   "execution_count": 27,
   "metadata": {},
   "outputs": [],
   "source": [
    "from sklearn.tree import DecisionTreeRegressor\n",
    "DecReg = DecisionTreeRegressor(max_depth=4, random_state=0)\n",
    "models_res[models._extract_model_name_from_cls(DecReg)] = models.pipeline(df_train, y_train, df_test, y_test, DecReg)"
   ]
  },
  {
   "cell_type": "code",
   "execution_count": 28,
   "metadata": {},
   "outputs": [
    {
     "data": {
      "text/plain": [
       "(DecisionTreeRegressor(max_depth=4, random_state=0),\n",
       " {'train_rmse': 7.8389, 'train_mae': 6.0254, 'train_r2': 0.4274},\n",
       " {'test_rmse': 9.8491, 'test_mae': 6.4953, 'test_r2': 0.3717})"
      ]
     },
     "execution_count": 28,
     "metadata": {},
     "output_type": "execute_result"
    }
   ],
   "source": [
    "models_res[models._extract_model_name_from_cls(DecisionTreeRegressor())]"
   ]
  },
  {
   "cell_type": "code",
   "execution_count": 29,
   "metadata": {},
   "outputs": [],
   "source": [
    "from sklearn.ensemble import RandomForestRegressor\n",
    "rf = RandomForestRegressor(n_estimators=20, max_depth=4)\n",
    "models_res[models._extract_model_name_from_cls(rf)] = models.pipeline(df_train, y_train, df_test, y_test, rf)"
   ]
  },
  {
   "cell_type": "code",
   "execution_count": 30,
   "metadata": {},
   "outputs": [
    {
     "data": {
      "text/plain": [
       "(RandomForestRegressor(max_depth=4, n_estimators=20),\n",
       " {'train_rmse': 7.827, 'train_mae': 6.0151, 'train_r2': 0.4292},\n",
       " {'test_rmse': 9.8427, 'test_mae': 6.4847, 'test_r2': 0.3725})"
      ]
     },
     "execution_count": 30,
     "metadata": {},
     "output_type": "execute_result"
    }
   ],
   "source": [
    "models_res[models._extract_model_name_from_cls(RandomForestRegressor())]"
   ]
  }
 ],
 "metadata": {
  "language_info": {
   "name": "python"
  }
 },
 "nbformat": 4,
 "nbformat_minor": 2
}
