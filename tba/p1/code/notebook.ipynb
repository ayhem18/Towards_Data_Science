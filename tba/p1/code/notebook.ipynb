{
 "cells": [
  {
   "cell_type": "markdown",
   "metadata": {},
   "source": [
    "# Overview"
   ]
  },
  {
   "cell_type": "code",
   "execution_count": 39,
   "metadata": {},
   "outputs": [],
   "source": [
    "import os, importlib\n",
    "import pandas as pd, numpy as np, matplotlib.pyplot as plt\n",
    "from pathlib import Path\n",
    "import matplotlib.pyplot as plt\n",
    "\n",
    "import eda\n",
    "import data_preparation as dpre\n",
    "import data_processing as pro\n",
    "import visualize as vis\n",
    "\n",
    "# a small piece of code to find the data folder\n",
    "NOTEBOOK_SCRIPT = os.getcwd()\n",
    "\n",
    "current = NOTEBOOK_SCRIPT\n",
    "while 'data' not in os.listdir(current):\n",
    "    current = Path(current).parent\n",
    "\n",
    "DATA_FOLDER = os.path.join(current, 'data')"
   ]
  },
  {
   "cell_type": "code",
   "execution_count": 40,
   "metadata": {},
   "outputs": [
    {
     "data": {
      "text/html": [
       "<div>\n",
       "<style scoped>\n",
       "    .dataframe tbody tr th:only-of-type {\n",
       "        vertical-align: middle;\n",
       "    }\n",
       "\n",
       "    .dataframe tbody tr th {\n",
       "        vertical-align: top;\n",
       "    }\n",
       "\n",
       "    .dataframe thead th {\n",
       "        text-align: right;\n",
       "    }\n",
       "</style>\n",
       "<table border=\"1\" class=\"dataframe\">\n",
       "  <thead>\n",
       "    <tr style=\"text-align: right;\">\n",
       "      <th></th>\n",
       "      <th>order_id</th>\n",
       "      <th>start_prep_date</th>\n",
       "      <th>finish_prep_date</th>\n",
       "      <th>profit</th>\n",
       "      <th>delivery_distance</th>\n",
       "      <th>region_id</th>\n",
       "      <th>order_created_date</th>\n",
       "      <th>status_id</th>\n",
       "      <th>planned_prep_time</th>\n",
       "      <th>product_id</th>\n",
       "      <th>store_id</th>\n",
       "      <th>price</th>\n",
       "    </tr>\n",
       "  </thead>\n",
       "  <tbody>\n",
       "    <tr>\n",
       "      <th>0</th>\n",
       "      <td>18671223</td>\n",
       "      <td>2024-05-08 00:01:21</td>\n",
       "      <td>2024-05-08 00:25:12</td>\n",
       "      <td>20.145</td>\n",
       "      <td>3934</td>\n",
       "      <td>683</td>\n",
       "      <td>2024-05-08 00:01:12</td>\n",
       "      <td>F</td>\n",
       "      <td>35.0</td>\n",
       "      <td>99278</td>\n",
       "      <td>3750</td>\n",
       "      <td>26.07</td>\n",
       "    </tr>\n",
       "    <tr>\n",
       "      <th>1</th>\n",
       "      <td>18671223</td>\n",
       "      <td>2024-05-08 00:01:21</td>\n",
       "      <td>2024-05-08 00:25:12</td>\n",
       "      <td>20.145</td>\n",
       "      <td>3934</td>\n",
       "      <td>683</td>\n",
       "      <td>2024-05-08 00:01:12</td>\n",
       "      <td>F</td>\n",
       "      <td>35.0</td>\n",
       "      <td>99283</td>\n",
       "      <td>3750</td>\n",
       "      <td>7.11</td>\n",
       "    </tr>\n",
       "    <tr>\n",
       "      <th>2</th>\n",
       "      <td>18671223</td>\n",
       "      <td>2024-05-08 00:01:21</td>\n",
       "      <td>2024-05-08 00:25:12</td>\n",
       "      <td>20.145</td>\n",
       "      <td>3934</td>\n",
       "      <td>683</td>\n",
       "      <td>2024-05-08 00:01:12</td>\n",
       "      <td>F</td>\n",
       "      <td>35.0</td>\n",
       "      <td>99285</td>\n",
       "      <td>3750</td>\n",
       "      <td>7.11</td>\n",
       "    </tr>\n",
       "    <tr>\n",
       "      <th>3</th>\n",
       "      <td>18671225</td>\n",
       "      <td>2024-05-08 00:02:01</td>\n",
       "      <td>2024-05-08 00:10:29</td>\n",
       "      <td>15.800</td>\n",
       "      <td>560</td>\n",
       "      <td>703</td>\n",
       "      <td>2024-05-08 00:01:46</td>\n",
       "      <td>F</td>\n",
       "      <td>15.0</td>\n",
       "      <td>298529</td>\n",
       "      <td>5863</td>\n",
       "      <td>31.60</td>\n",
       "    </tr>\n",
       "    <tr>\n",
       "      <th>4</th>\n",
       "      <td>18671227</td>\n",
       "      <td>2024-05-08 00:01:50</td>\n",
       "      <td>2024-05-08 00:49:19</td>\n",
       "      <td>6.004</td>\n",
       "      <td>4396</td>\n",
       "      <td>691</td>\n",
       "      <td>2024-05-08 00:01:38</td>\n",
       "      <td>F</td>\n",
       "      <td>20.0</td>\n",
       "      <td>399309</td>\n",
       "      <td>8721</td>\n",
       "      <td>30.02</td>\n",
       "    </tr>\n",
       "  </tbody>\n",
       "</table>\n",
       "</div>"
      ],
      "text/plain": [
       "   order_id      start_prep_date     finish_prep_date  profit  \\\n",
       "0  18671223  2024-05-08 00:01:21  2024-05-08 00:25:12  20.145   \n",
       "1  18671223  2024-05-08 00:01:21  2024-05-08 00:25:12  20.145   \n",
       "2  18671223  2024-05-08 00:01:21  2024-05-08 00:25:12  20.145   \n",
       "3  18671225  2024-05-08 00:02:01  2024-05-08 00:10:29  15.800   \n",
       "4  18671227  2024-05-08 00:01:50  2024-05-08 00:49:19   6.004   \n",
       "\n",
       "   delivery_distance  region_id   order_created_date status_id  \\\n",
       "0               3934        683  2024-05-08 00:01:12         F   \n",
       "1               3934        683  2024-05-08 00:01:12         F   \n",
       "2               3934        683  2024-05-08 00:01:12         F   \n",
       "3                560        703  2024-05-08 00:01:46         F   \n",
       "4               4396        691  2024-05-08 00:01:38         F   \n",
       "\n",
       "   planned_prep_time  product_id  store_id  price  \n",
       "0               35.0       99278      3750  26.07  \n",
       "1               35.0       99283      3750   7.11  \n",
       "2               35.0       99285      3750   7.11  \n",
       "3               15.0      298529      5863  31.60  \n",
       "4               20.0      399309      8721  30.02  "
      ]
     },
     "execution_count": 40,
     "metadata": {},
     "output_type": "execute_result"
    }
   ],
   "source": [
    "db_file = os.path.join(DATA_FOLDER, 'F24.ML.Assignment.One.data.db')\n",
    "df_save_file = os.path.join(DATA_FOLDER, 'data.csv')\n",
    "df = dpre.data_to_df(db_file, \n",
    "           df_save_file, \n",
    "           overwrite=False # no need to execute the same lengthy query if the .csv file already exists...\n",
    "           )\n",
    "df.head()"
   ]
  },
  {
   "cell_type": "markdown",
   "metadata": {},
   "source": [
    "# Data Preparation"
   ]
  },
  {
   "cell_type": "markdown",
   "metadata": {},
   "source": [
    "## Whole-dataset preparation\n",
    "Before proceeding with the train-split procedure, it is necessary to apply few operations on the entire dataset: \n",
    "\n",
    "* compute the labels\n",
    "* sanity check: no samples have a negative label\n",
    "* remove few problematic samples (with prep time equal to 0)\n",
    "* remove samples with `planned_prep_time` missing \n",
    "\n",
    "The data has been prepared (with SQL) such that for a single order neither `finish_prep_date` nor `start_prep_date` would be missing and the natural relation `finish_prep_date` > `start_prep_date` is preserved. The label for a given order is the difference of these two values and hence a missing value in one of them would mean a missing label. \n",
    "\n",
    "Imputing missing labels is highly discouraged as it is likely to introduce bias according to the first chapter of [Multivariate Analysis](https://www.drnishikantjha.com/papersCollection/Multivariate%20Data%20Analysis.pdf). \n",
    "\n",
    "Since `planned_prep_time` is intuitively a very good indicator of the actual preparation time, we will also remove the very few samples with missing `planned_prep_time`. "
   ]
  },
  {
   "cell_type": "code",
   "execution_count": 41,
   "metadata": {},
   "outputs": [
    {
     "data": {
      "text/plain": [
       "order_id              0.000000\n",
       "start_prep_date       0.000000\n",
       "finish_prep_date      0.000000\n",
       "profit                0.099278\n",
       "delivery_distance     0.000000\n",
       "region_id             0.000000\n",
       "order_created_date    0.000587\n",
       "status_id             0.000000\n",
       "planned_prep_time     0.000004\n",
       "product_id            0.000000\n",
       "store_id              0.000000\n",
       "price                 0.100164\n",
       "dtype: float64"
      ]
     },
     "execution_count": 41,
     "metadata": {},
     "output_type": "execute_result"
    }
   ],
   "source": [
    "np.mean(df.isna(), axis=0)"
   ]
  },
  {
   "cell_type": "code",
   "execution_count": 42,
   "metadata": {},
   "outputs": [
    {
     "name": "stdout",
     "output_type": "stream",
     "text": [
      "zero prep time portion:  0.00115958265972316\n",
      "ratio of samples with missing `planned_prep_time`: 3.65359198328847e-06\n"
     ]
    },
    {
     "data": {
      "text/html": [
       "<div>\n",
       "<style scoped>\n",
       "    .dataframe tbody tr th:only-of-type {\n",
       "        vertical-align: middle;\n",
       "    }\n",
       "\n",
       "    .dataframe tbody tr th {\n",
       "        vertical-align: top;\n",
       "    }\n",
       "\n",
       "    .dataframe thead th {\n",
       "        text-align: right;\n",
       "    }\n",
       "</style>\n",
       "<table border=\"1\" class=\"dataframe\">\n",
       "  <thead>\n",
       "    <tr style=\"text-align: right;\">\n",
       "      <th></th>\n",
       "      <th>order_id</th>\n",
       "      <th>start_prep_date</th>\n",
       "      <th>profit</th>\n",
       "      <th>delivery_distance</th>\n",
       "      <th>region_id</th>\n",
       "      <th>order_created_date</th>\n",
       "      <th>status_id</th>\n",
       "      <th>planned_prep_time</th>\n",
       "      <th>product_id</th>\n",
       "      <th>store_id</th>\n",
       "      <th>price</th>\n",
       "      <th>y</th>\n",
       "    </tr>\n",
       "  </thead>\n",
       "  <tbody>\n",
       "    <tr>\n",
       "      <th>0</th>\n",
       "      <td>18671223</td>\n",
       "      <td>2024-05-08 00:01:21</td>\n",
       "      <td>20.145</td>\n",
       "      <td>3934</td>\n",
       "      <td>683</td>\n",
       "      <td>2024-05-08 00:01:12</td>\n",
       "      <td>F</td>\n",
       "      <td>35.0</td>\n",
       "      <td>99278</td>\n",
       "      <td>3750</td>\n",
       "      <td>26.070</td>\n",
       "      <td>23.0</td>\n",
       "    </tr>\n",
       "    <tr>\n",
       "      <th>1</th>\n",
       "      <td>18671223</td>\n",
       "      <td>2024-05-08 00:01:21</td>\n",
       "      <td>20.145</td>\n",
       "      <td>3934</td>\n",
       "      <td>683</td>\n",
       "      <td>2024-05-08 00:01:12</td>\n",
       "      <td>F</td>\n",
       "      <td>35.0</td>\n",
       "      <td>99283</td>\n",
       "      <td>3750</td>\n",
       "      <td>7.110</td>\n",
       "      <td>23.0</td>\n",
       "    </tr>\n",
       "    <tr>\n",
       "      <th>2</th>\n",
       "      <td>18671223</td>\n",
       "      <td>2024-05-08 00:01:21</td>\n",
       "      <td>20.145</td>\n",
       "      <td>3934</td>\n",
       "      <td>683</td>\n",
       "      <td>2024-05-08 00:01:12</td>\n",
       "      <td>F</td>\n",
       "      <td>35.0</td>\n",
       "      <td>99285</td>\n",
       "      <td>3750</td>\n",
       "      <td>7.110</td>\n",
       "      <td>23.0</td>\n",
       "    </tr>\n",
       "    <tr>\n",
       "      <th>3</th>\n",
       "      <td>18671225</td>\n",
       "      <td>2024-05-08 00:02:01</td>\n",
       "      <td>15.800</td>\n",
       "      <td>560</td>\n",
       "      <td>703</td>\n",
       "      <td>2024-05-08 00:01:46</td>\n",
       "      <td>F</td>\n",
       "      <td>15.0</td>\n",
       "      <td>298529</td>\n",
       "      <td>5863</td>\n",
       "      <td>31.600</td>\n",
       "      <td>8.0</td>\n",
       "    </tr>\n",
       "    <tr>\n",
       "      <th>4</th>\n",
       "      <td>18671227</td>\n",
       "      <td>2024-05-08 00:01:50</td>\n",
       "      <td>6.004</td>\n",
       "      <td>4396</td>\n",
       "      <td>691</td>\n",
       "      <td>2024-05-08 00:01:38</td>\n",
       "      <td>F</td>\n",
       "      <td>20.0</td>\n",
       "      <td>399309</td>\n",
       "      <td>8721</td>\n",
       "      <td>30.020</td>\n",
       "      <td>47.0</td>\n",
       "    </tr>\n",
       "    <tr>\n",
       "      <th>...</th>\n",
       "      <td>...</td>\n",
       "      <td>...</td>\n",
       "      <td>...</td>\n",
       "      <td>...</td>\n",
       "      <td>...</td>\n",
       "      <td>...</td>\n",
       "      <td>...</td>\n",
       "      <td>...</td>\n",
       "      <td>...</td>\n",
       "      <td>...</td>\n",
       "      <td>...</td>\n",
       "      <td>...</td>\n",
       "    </tr>\n",
       "    <tr>\n",
       "      <th>1096079</th>\n",
       "      <td>20562723</td>\n",
       "      <td>2024-09-05 15:23:44</td>\n",
       "      <td>43.608</td>\n",
       "      <td>459</td>\n",
       "      <td>683</td>\n",
       "      <td>2024-09-05 15:23:32</td>\n",
       "      <td>F</td>\n",
       "      <td>20.0</td>\n",
       "      <td>422385</td>\n",
       "      <td>10825</td>\n",
       "      <td>54.510</td>\n",
       "      <td>14.0</td>\n",
       "    </tr>\n",
       "    <tr>\n",
       "      <th>1096080</th>\n",
       "      <td>20562753</td>\n",
       "      <td>2024-09-05 15:25:19</td>\n",
       "      <td>30.336</td>\n",
       "      <td>1368</td>\n",
       "      <td>683</td>\n",
       "      <td>2024-09-05 15:25:12</td>\n",
       "      <td>F</td>\n",
       "      <td>10.0</td>\n",
       "      <td>663639</td>\n",
       "      <td>3856</td>\n",
       "      <td>13.430</td>\n",
       "      <td>10.0</td>\n",
       "    </tr>\n",
       "    <tr>\n",
       "      <th>1096081</th>\n",
       "      <td>20562753</td>\n",
       "      <td>2024-09-05 15:25:19</td>\n",
       "      <td>30.336</td>\n",
       "      <td>1368</td>\n",
       "      <td>683</td>\n",
       "      <td>2024-09-05 15:25:12</td>\n",
       "      <td>F</td>\n",
       "      <td>10.0</td>\n",
       "      <td>978719</td>\n",
       "      <td>3856</td>\n",
       "      <td>47.242</td>\n",
       "      <td>10.0</td>\n",
       "    </tr>\n",
       "    <tr>\n",
       "      <th>1096082</th>\n",
       "      <td>20562761</td>\n",
       "      <td>2024-09-05 15:25:33</td>\n",
       "      <td>45.504</td>\n",
       "      <td>2205</td>\n",
       "      <td>683</td>\n",
       "      <td>2024-09-05 15:25:25</td>\n",
       "      <td>F</td>\n",
       "      <td>15.0</td>\n",
       "      <td>230021</td>\n",
       "      <td>5014</td>\n",
       "      <td>14.220</td>\n",
       "      <td>6.0</td>\n",
       "    </tr>\n",
       "    <tr>\n",
       "      <th>1096083</th>\n",
       "      <td>20562761</td>\n",
       "      <td>2024-09-05 15:25:33</td>\n",
       "      <td>45.504</td>\n",
       "      <td>2205</td>\n",
       "      <td>683</td>\n",
       "      <td>2024-09-05 15:25:25</td>\n",
       "      <td>F</td>\n",
       "      <td>15.0</td>\n",
       "      <td>460217</td>\n",
       "      <td>5014</td>\n",
       "      <td>42.660</td>\n",
       "      <td>6.0</td>\n",
       "    </tr>\n",
       "  </tbody>\n",
       "</table>\n",
       "<p>1094809 rows × 12 columns</p>\n",
       "</div>"
      ],
      "text/plain": [
       "         order_id     start_prep_date  profit  delivery_distance  region_id  \\\n",
       "0        18671223 2024-05-08 00:01:21  20.145               3934        683   \n",
       "1        18671223 2024-05-08 00:01:21  20.145               3934        683   \n",
       "2        18671223 2024-05-08 00:01:21  20.145               3934        683   \n",
       "3        18671225 2024-05-08 00:02:01  15.800                560        703   \n",
       "4        18671227 2024-05-08 00:01:50   6.004               4396        691   \n",
       "...           ...                 ...     ...                ...        ...   \n",
       "1096079  20562723 2024-09-05 15:23:44  43.608                459        683   \n",
       "1096080  20562753 2024-09-05 15:25:19  30.336               1368        683   \n",
       "1096081  20562753 2024-09-05 15:25:19  30.336               1368        683   \n",
       "1096082  20562761 2024-09-05 15:25:33  45.504               2205        683   \n",
       "1096083  20562761 2024-09-05 15:25:33  45.504               2205        683   \n",
       "\n",
       "         order_created_date status_id  planned_prep_time  product_id  \\\n",
       "0       2024-05-08 00:01:12         F               35.0       99278   \n",
       "1       2024-05-08 00:01:12         F               35.0       99283   \n",
       "2       2024-05-08 00:01:12         F               35.0       99285   \n",
       "3       2024-05-08 00:01:46         F               15.0      298529   \n",
       "4       2024-05-08 00:01:38         F               20.0      399309   \n",
       "...                     ...       ...                ...         ...   \n",
       "1096079 2024-09-05 15:23:32         F               20.0      422385   \n",
       "1096080 2024-09-05 15:25:12         F               10.0      663639   \n",
       "1096081 2024-09-05 15:25:12         F               10.0      978719   \n",
       "1096082 2024-09-05 15:25:25         F               15.0      230021   \n",
       "1096083 2024-09-05 15:25:25         F               15.0      460217   \n",
       "\n",
       "         store_id   price     y  \n",
       "0            3750  26.070  23.0  \n",
       "1            3750   7.110  23.0  \n",
       "2            3750   7.110  23.0  \n",
       "3            5863  31.600   8.0  \n",
       "4            8721  30.020  47.0  \n",
       "...           ...     ...   ...  \n",
       "1096079     10825  54.510  14.0  \n",
       "1096080      3856  13.430  10.0  \n",
       "1096081      3856  47.242  10.0  \n",
       "1096082      5014  14.220   6.0  \n",
       "1096083      5014  42.660   6.0  \n",
       "\n",
       "[1094809 rows x 12 columns]"
      ]
     },
     "execution_count": 42,
     "metadata": {},
     "output_type": "execute_result"
    }
   ],
   "source": [
    "all_data_regression = dpre.prepare_all_data_regression(df)\n",
    "all_data_regression"
   ]
  },
  {
   "cell_type": "markdown",
   "metadata": {},
   "source": [
    "## Split Data"
   ]
  },
  {
   "cell_type": "markdown",
   "metadata": {},
   "source": [
    "The samples contains both order-level and item-level features. The samples belonging to the same order share most of the features and most importantly the label.\n",
    "\n",
    "Hence data splitting should take this information into account and split the data by order_id. In other words, the train and test splits must have disjoint set of orders (order_ids)"
   ]
  },
  {
   "cell_type": "code",
   "execution_count": 43,
   "metadata": {},
   "outputs": [
    {
     "data": {
      "text/plain": [
       "(985287, 109522, 8.9962)"
      ]
     },
     "execution_count": 43,
     "metadata": {},
     "output_type": "execute_result"
    }
   ],
   "source": [
    "# according to the assignment requirements, the data must be split into train and test with test representing 10% of the data\n",
    "importlib.reload(dpre)\n",
    "df_train, df_test = dpre.df_split_regression(all_data_regression, splits=(0.9, 0.1))\n",
    "# everything seems to checkout !!!\n",
    "len(df_train), len(df_test), round(len(df_train) / len(df_test), 4) "
   ]
  },
  {
   "cell_type": "code",
   "execution_count": 44,
   "metadata": {},
   "outputs": [
    {
     "data": {
      "text/plain": [
       "order_id              377106\n",
       "start_prep_date       366609\n",
       "profit                 15431\n",
       "delivery_distance      16801\n",
       "region_id                 13\n",
       "order_created_date    363319\n",
       "status_id                  2\n",
       "planned_prep_time        101\n",
       "product_id             52904\n",
       "store_id                1409\n",
       "price                   1899\n",
       "y                        161\n",
       "dtype: int64"
      ]
     },
     "execution_count": 44,
     "metadata": {},
     "output_type": "execute_result"
    }
   ],
   "source": [
    "df_train.nunique()"
   ]
  },
  {
   "cell_type": "markdown",
   "metadata": {},
   "source": [
    "## Impute Missing data:  The price and profit columns \n",
    "\n",
    "### Price Feature Imputation\n",
    "Let's start with the idea. It seems reasonable to assume that a product would relatively close values. If we're lucky we can estimate the price of a product, by the aggregation of prices of other instances of the same product. \n",
    "if some prices are still missing we will just impute them with the median\n",
    "\n",
    "### Profit \n",
    "Unlik the price feature, the profit is computed across the entire order. Considering every combination of store_id and product_id, the `min` statistics is the tightest estimation for the profit a store makes on a product.\n",
    "why ? simply because orders can have multiple products and hence the `profit` on the entire order is at least as large as that on a single product. the `min` statistics is the truth value for any product that has been purchased as a single product at least once."
   ]
  },
  {
   "cell_type": "code",
   "execution_count": 45,
   "metadata": {},
   "outputs": [],
   "source": [
    "# impute the price and profit columns\n",
    "importlib.reload(pro)\n",
    "df_train, df_test = pro.impute_prices(df_train, df_test)\n",
    "df_train, df_test = pro.impute_price_with_median(df_train, df_test)\n",
    "df_train, df_test = pro.impute_profit(df_train, df_test)"
   ]
  },
  {
   "cell_type": "code",
   "execution_count": 46,
   "metadata": {},
   "outputs": [
    {
     "data": {
      "text/plain": [
       "(order_id                0\n",
       " start_prep_date         0\n",
       " profit                  0\n",
       " delivery_distance       0\n",
       " region_id               0\n",
       " order_created_date    602\n",
       " status_id               0\n",
       " planned_prep_time       0\n",
       " product_id              0\n",
       " store_id                0\n",
       " y                       0\n",
       " price                   0\n",
       " dtype: int64,\n",
       " order_id               0\n",
       " start_prep_date        0\n",
       " profit                 0\n",
       " delivery_distance      0\n",
       " region_id              0\n",
       " order_created_date    34\n",
       " status_id              0\n",
       " planned_prep_time      0\n",
       " product_id             0\n",
       " store_id               0\n",
       " y                      0\n",
       " price                  0\n",
       " dtype: int64)"
      ]
     },
     "execution_count": 46,
     "metadata": {},
     "output_type": "execute_result"
    }
   ],
   "source": [
    "df_train.isna().sum(), df_test.isna().sum()"
   ]
  },
  {
   "cell_type": "markdown",
   "metadata": {},
   "source": [
    "# EDA"
   ]
  },
  {
   "cell_type": "markdown",
   "metadata": {},
   "source": [
    "## Labels: preparation time"
   ]
  },
  {
   "cell_type": "code",
   "execution_count": 48,
   "metadata": {},
   "outputs": [
    {
     "data": {
      "image/png": "[encoded data removed]",
      "text/plain": [
       "<Figure size 1400x600 with 2 Axes>"
      ]
     },
     "metadata": {},
     "output_type": "display_data"
    }
   ],
   "source": [
    "# let's visualize the distribution of labels: both box plot and histograms\n",
    "\n",
    "y_train_by_order_df = pd.pivot_table(df_train, index='order_id', values='y', aggfunc='mean').iloc[:, 0]\n",
    "vis.visualize_continuous_distribution(y_train_by_order_df, sequence_name='actual prep time')"
   ]
  },
  {
   "cell_type": "markdown",
   "metadata": {},
   "source": [
    "The histogram clearly demonstrates the skewed distribution of preparation time. Furthermore, the box plot confirms the presence of a relatively large number of outliers. "
   ]
  },
  {
   "cell_type": "code",
   "execution_count": 49,
   "metadata": {},
   "outputs": [
    {
     "data": {
      "image/png": "[encoded data removed]",
      "text/plain": [
       "<Figure size 1400x600 with 2 Axes>"
      ]
     },
     "metadata": {},
     "output_type": "display_data"
    }
   ],
   "source": [
    "# let's remove outliers using the iqr outliers detection techniques and plot the distribution again\n",
    "min_y, max_y = eda.compute_iqr_limiters(y_train_by_order_df)\n",
    "y_filtered = y_train_by_order_df[y_train_by_order_df.between(min_y, max_y)]\n",
    "vis.visualize_continuous_distribution(y_filtered, \"actual prep time (no outliers)\")"
   ]
  },
  {
   "cell_type": "markdown",
   "metadata": {},
   "source": [
    "The two visualizations above clearly demonstrate the significant of outliers on data distribution. Therefore, it seems reasonable to remove such samples. However, The only concern here is data loss: How much data would we lose ?"
   ]
  },
  {
   "cell_type": "code",
   "execution_count": 51,
   "metadata": {},
   "outputs": [
    {
     "name": "stdout",
     "output_type": "stream",
     "text": [
      "0.9785948778327579\n"
     ]
    },
    {
     "name": "stderr",
     "output_type": "stream",
     "text": [
      "C:\\Users\\bouab\\AppData\\Local\\Temp\\ipykernel_20240\\1513173471.py:7: SettingWithCopyWarning: \n",
      "A value is trying to be set on a copy of a slice from a DataFrame\n",
      "\n",
      "See the caveats in the documentation: https://pandas.pydata.org/pandas-docs/stable/user_guide/indexing.html#returning-a-view-versus-a-copy\n",
      "  df_train.drop(columns='y_is_outlier', inplace=True)\n"
     ]
    }
   ],
   "source": [
    "mask = y_train_by_order_df.between(min_y, max_y)\n",
    "print(np.mean(mask)) # less than 2% of the data... we can live with that...\n",
    "\n",
    "# remove the outliers\n",
    "eda.iqr_outliers(df_train, column='y', add_column=True)\n",
    "df_train = df_train[df_train['y_is_outlier'] == False]\n",
    "df_train.drop(columns='y_is_outlier', inplace=True)"
   ]
  },
  {
   "cell_type": "markdown",
   "metadata": {},
   "source": [
    "## Order Created date\n",
    "\n",
    "Order Created date by itself does not add much value. However, a large time difference between the time an order was created and started might reflect unusual difficulties in the store / restaurant. Let's see if this hypothesis holds"
   ]
  },
  {
   "cell_type": "code",
   "execution_count": 52,
   "metadata": {},
   "outputs": [
    {
     "data": {
      "image/png": "[encoded data removed]",
      "text/plain": [
       "<Figure size 1400x600 with 2 Axes>"
      ]
     },
     "metadata": {},
     "output_type": "display_data"
    }
   ],
   "source": [
    "\n",
    "# the order created feature by itself does not add much value. However, the difference etween order_created_date and order_prep_date might be useful\n",
    "df_train_unique  = df_train.drop_duplicates(subset=['order_id'])\n",
    "df_train_unique = df_train_unique[~df_train_unique['order_created_date'].isna()]\n",
    "# the next step is to get shit out of the way\n",
    "df_train_unique['delay'] = (df_train_unique['start_prep_date'] - df_train_unique['order_created_date']).dt.total_seconds()\n",
    "\n",
    "vis.visualize_continuous_distribution(df_train_unique['delay'], sequence_name=\"order start prep time delay\")"
   ]
  },
  {
   "cell_type": "code",
   "execution_count": 53,
   "metadata": {},
   "outputs": [
    {
     "name": "stdout",
     "output_type": "stream",
     "text": [
      "Min and Max delays: -121.5 226.5\n",
      "portion of outlier delays:  0.1596\n"
     ]
    }
   ],
   "source": [
    "d = df_train_unique['delay']\n",
    "min_d, max_d = eda.compute_iqr_limiters(d)\n",
    "print(\"Min and Max delays:\", min_d, max_d)\n",
    "print(\"portion of outlier delays: \", round((~d.between(min_d, max_d)).mean(), 4))"
   ]
  },
  {
   "cell_type": "code",
   "execution_count": 54,
   "metadata": {},
   "outputs": [
    {
     "data": {
      "text/html": [
       "<div>\n",
       "<style scoped>\n",
       "    .dataframe tbody tr th:only-of-type {\n",
       "        vertical-align: middle;\n",
       "    }\n",
       "\n",
       "    .dataframe tbody tr th {\n",
       "        vertical-align: top;\n",
       "    }\n",
       "\n",
       "    .dataframe thead th {\n",
       "        text-align: right;\n",
       "    }\n",
       "</style>\n",
       "<table border=\"1\" class=\"dataframe\">\n",
       "  <thead>\n",
       "    <tr style=\"text-align: right;\">\n",
       "      <th></th>\n",
       "      <th>deviation</th>\n",
       "      <th>delay</th>\n",
       "      <th>y</th>\n",
       "    </tr>\n",
       "  </thead>\n",
       "  <tbody>\n",
       "    <tr>\n",
       "      <th>deviation</th>\n",
       "      <td>1.000000</td>\n",
       "      <td>0.014338</td>\n",
       "      <td>0.647668</td>\n",
       "    </tr>\n",
       "    <tr>\n",
       "      <th>delay</th>\n",
       "      <td>0.014338</td>\n",
       "      <td>1.000000</td>\n",
       "      <td>-0.030080</td>\n",
       "    </tr>\n",
       "    <tr>\n",
       "      <th>y</th>\n",
       "      <td>0.647668</td>\n",
       "      <td>-0.030080</td>\n",
       "      <td>1.000000</td>\n",
       "    </tr>\n",
       "  </tbody>\n",
       "</table>\n",
       "</div>"
      ],
      "text/plain": [
       "           deviation     delay         y\n",
       "deviation   1.000000  0.014338  0.647668\n",
       "delay       0.014338  1.000000 -0.030080\n",
       "y           0.647668 -0.030080  1.000000"
      ]
     },
     "execution_count": 54,
     "metadata": {},
     "output_type": "execute_result"
    }
   ],
   "source": [
    "# let's see if a large delay affects the target or the difference between planned time and the targetd\\\n",
    "df_train_unique['deviation'] = df_train_unique['y'] - df_train['planned_prep_time']\n",
    "df_train_unique.loc[:, ['deviation', 'delay', 'y']].corr()"
   ]
  },
  {
   "cell_type": "markdown",
   "metadata": {},
   "source": [
    "## Discrete Features"
   ]
  },
  {
   "cell_type": "code",
   "execution_count": null,
   "metadata": {},
   "outputs": [],
   "source": [
    "import visualize as vis\n",
    "importlib.reload(vis)\n",
    "vis.visualize_discrete_values(df_train, feat_col=\"product_id\", label_col='y', label_name='actual prep time', n_most_freq=20)"
   ]
  },
  {
   "cell_type": "code",
   "execution_count": null,
   "metadata": {},
   "outputs": [],
   "source": [
    "vis.visualize_discrete_values(df_train, feat_col=\"store_id\", label_col='y', label_name='actual prep time', n_most_freq=20)"
   ]
  },
  {
   "cell_type": "markdown",
   "metadata": {},
   "source": [
    "The box plots perfectly illustrate the `store_id` and `product_id` (at least the top most frequent ones) have different target distributions and should be somehow encoded into the inputs of ML models."
   ]
  },
  {
   "cell_type": "markdown",
   "metadata": {},
   "source": [
    "# Region Id \n",
    "\n",
    "Region Id is a categorical feature with only 13 uniques values. A region is too general to be used as it is..."
   ]
  },
  {
   "cell_type": "code",
   "execution_count": 57,
   "metadata": {},
   "outputs": [
    {
     "data": {
      "text/plain": [
       "1.0"
      ]
     },
     "execution_count": 57,
     "metadata": {},
     "output_type": "execute_result"
    }
   ],
   "source": [
    "store_reg = pd.pivot_table(df_train, index='store_id', values='region_id', aggfunc=['max', 'min'])\n",
    "((store_reg.iloc[:, 0] - store_reg.iloc[:, 1]) == 0).mean() # basically each store is associated with a unique region id"
   ]
  },
  {
   "cell_type": "code",
   "execution_count": 58,
   "metadata": {},
   "outputs": [
    {
     "name": "stderr",
     "output_type": "stream",
     "text": [
      "c:\\Users\\bouab\\DEV\\Towards_Data_Science\\tba\\p1\\code\\data_processing.py:403: SettingWithCopyWarning: \n",
      "A value is trying to be set on a copy of a slice from a DataFrame\n",
      "\n",
      "See the caveats in the documentation: https://pandas.pydata.org/pandas-docs/stable/user_guide/indexing.html#returning-a-view-versus-a-copy\n",
      "  df.drop(columns='start_prep_date', inplace=True)\n"
     ]
    }
   ],
   "source": [
    "df_train = pro.extract_time_features_single_df(df_train)"
   ]
  },
  {
   "cell_type": "code",
   "execution_count": 61,
   "metadata": {},
   "outputs": [
    {
     "data": {
      "text/html": [
       "<div>\n",
       "<style scoped>\n",
       "    .dataframe tbody tr th:only-of-type {\n",
       "        vertical-align: middle;\n",
       "    }\n",
       "\n",
       "    .dataframe tbody tr th {\n",
       "        vertical-align: top;\n",
       "    }\n",
       "\n",
       "    .dataframe thead th {\n",
       "        text-align: right;\n",
       "    }\n",
       "</style>\n",
       "<table border=\"1\" class=\"dataframe\">\n",
       "  <thead>\n",
       "    <tr style=\"text-align: right;\">\n",
       "      <th>order_hour</th>\n",
       "      <th>0</th>\n",
       "      <th>1</th>\n",
       "      <th>2</th>\n",
       "      <th>3</th>\n",
       "      <th>4</th>\n",
       "      <th>5</th>\n",
       "      <th>6</th>\n",
       "      <th>7</th>\n",
       "      <th>8</th>\n",
       "      <th>9</th>\n",
       "      <th>...</th>\n",
       "      <th>14</th>\n",
       "      <th>15</th>\n",
       "      <th>16</th>\n",
       "      <th>17</th>\n",
       "      <th>18</th>\n",
       "      <th>19</th>\n",
       "      <th>20</th>\n",
       "      <th>21</th>\n",
       "      <th>22</th>\n",
       "      <th>23</th>\n",
       "    </tr>\n",
       "    <tr>\n",
       "      <th>product_id</th>\n",
       "      <th></th>\n",
       "      <th></th>\n",
       "      <th></th>\n",
       "      <th></th>\n",
       "      <th></th>\n",
       "      <th></th>\n",
       "      <th></th>\n",
       "      <th></th>\n",
       "      <th></th>\n",
       "      <th></th>\n",
       "      <th></th>\n",
       "      <th></th>\n",
       "      <th></th>\n",
       "      <th></th>\n",
       "      <th></th>\n",
       "      <th></th>\n",
       "      <th></th>\n",
       "      <th></th>\n",
       "      <th></th>\n",
       "      <th></th>\n",
       "      <th></th>\n",
       "    </tr>\n",
       "  </thead>\n",
       "  <tbody>\n",
       "    <tr>\n",
       "      <th>83140</th>\n",
       "      <td>NaN</td>\n",
       "      <td>NaN</td>\n",
       "      <td>NaN</td>\n",
       "      <td>NaN</td>\n",
       "      <td>NaN</td>\n",
       "      <td>NaN</td>\n",
       "      <td>NaN</td>\n",
       "      <td>NaN</td>\n",
       "      <td>NaN</td>\n",
       "      <td>NaN</td>\n",
       "      <td>...</td>\n",
       "      <td>19.613139</td>\n",
       "      <td>19.812207</td>\n",
       "      <td>19.306748</td>\n",
       "      <td>17.720000</td>\n",
       "      <td>19.309028</td>\n",
       "      <td>19.139456</td>\n",
       "      <td>20.608414</td>\n",
       "      <td>20.586466</td>\n",
       "      <td>20.268116</td>\n",
       "      <td>NaN</td>\n",
       "    </tr>\n",
       "    <tr>\n",
       "      <th>83142</th>\n",
       "      <td>NaN</td>\n",
       "      <td>NaN</td>\n",
       "      <td>NaN</td>\n",
       "      <td>NaN</td>\n",
       "      <td>NaN</td>\n",
       "      <td>NaN</td>\n",
       "      <td>NaN</td>\n",
       "      <td>NaN</td>\n",
       "      <td>NaN</td>\n",
       "      <td>NaN</td>\n",
       "      <td>...</td>\n",
       "      <td>18.794118</td>\n",
       "      <td>19.712500</td>\n",
       "      <td>18.594595</td>\n",
       "      <td>17.390000</td>\n",
       "      <td>18.565916</td>\n",
       "      <td>18.819209</td>\n",
       "      <td>20.148045</td>\n",
       "      <td>20.245791</td>\n",
       "      <td>20.006623</td>\n",
       "      <td>NaN</td>\n",
       "    </tr>\n",
       "    <tr>\n",
       "      <th>143022</th>\n",
       "      <td>29.567901</td>\n",
       "      <td>25.256410</td>\n",
       "      <td>29.375000</td>\n",
       "      <td>21.60</td>\n",
       "      <td>NaN</td>\n",
       "      <td>NaN</td>\n",
       "      <td>31.000000</td>\n",
       "      <td>13.500000</td>\n",
       "      <td>32.750000</td>\n",
       "      <td>26.739130</td>\n",
       "      <td>...</td>\n",
       "      <td>22.847458</td>\n",
       "      <td>22.379845</td>\n",
       "      <td>22.098684</td>\n",
       "      <td>23.179245</td>\n",
       "      <td>26.078431</td>\n",
       "      <td>27.188235</td>\n",
       "      <td>25.208861</td>\n",
       "      <td>25.819876</td>\n",
       "      <td>25.200000</td>\n",
       "      <td>22.579710</td>\n",
       "    </tr>\n",
       "    <tr>\n",
       "      <th>143036</th>\n",
       "      <td>29.753086</td>\n",
       "      <td>23.000000</td>\n",
       "      <td>27.600000</td>\n",
       "      <td>27.80</td>\n",
       "      <td>NaN</td>\n",
       "      <td>NaN</td>\n",
       "      <td>31.500000</td>\n",
       "      <td>17.000000</td>\n",
       "      <td>25.875000</td>\n",
       "      <td>23.312500</td>\n",
       "      <td>...</td>\n",
       "      <td>24.264957</td>\n",
       "      <td>22.666667</td>\n",
       "      <td>24.088889</td>\n",
       "      <td>23.491228</td>\n",
       "      <td>25.468750</td>\n",
       "      <td>25.635036</td>\n",
       "      <td>24.715190</td>\n",
       "      <td>26.076923</td>\n",
       "      <td>27.573770</td>\n",
       "      <td>25.085271</td>\n",
       "    </tr>\n",
       "    <tr>\n",
       "      <th>175000</th>\n",
       "      <td>NaN</td>\n",
       "      <td>NaN</td>\n",
       "      <td>NaN</td>\n",
       "      <td>NaN</td>\n",
       "      <td>NaN</td>\n",
       "      <td>NaN</td>\n",
       "      <td>NaN</td>\n",
       "      <td>NaN</td>\n",
       "      <td>NaN</td>\n",
       "      <td>NaN</td>\n",
       "      <td>...</td>\n",
       "      <td>19.088757</td>\n",
       "      <td>19.059701</td>\n",
       "      <td>18.505263</td>\n",
       "      <td>17.245902</td>\n",
       "      <td>18.209877</td>\n",
       "      <td>18.484694</td>\n",
       "      <td>20.211982</td>\n",
       "      <td>19.826816</td>\n",
       "      <td>19.678161</td>\n",
       "      <td>NaN</td>\n",
       "    </tr>\n",
       "    <tr>\n",
       "      <th>213410</th>\n",
       "      <td>14.887324</td>\n",
       "      <td>13.775862</td>\n",
       "      <td>15.700000</td>\n",
       "      <td>NaN</td>\n",
       "      <td>NaN</td>\n",
       "      <td>NaN</td>\n",
       "      <td>NaN</td>\n",
       "      <td>NaN</td>\n",
       "      <td>NaN</td>\n",
       "      <td>NaN</td>\n",
       "      <td>...</td>\n",
       "      <td>13.772487</td>\n",
       "      <td>14.878049</td>\n",
       "      <td>14.870000</td>\n",
       "      <td>14.806723</td>\n",
       "      <td>17.169014</td>\n",
       "      <td>15.456044</td>\n",
       "      <td>14.272727</td>\n",
       "      <td>14.401408</td>\n",
       "      <td>16.242424</td>\n",
       "      <td>14.205882</td>\n",
       "    </tr>\n",
       "    <tr>\n",
       "      <th>228863</th>\n",
       "      <td>12.580153</td>\n",
       "      <td>12.538095</td>\n",
       "      <td>10.966102</td>\n",
       "      <td>NaN</td>\n",
       "      <td>NaN</td>\n",
       "      <td>NaN</td>\n",
       "      <td>NaN</td>\n",
       "      <td>NaN</td>\n",
       "      <td>NaN</td>\n",
       "      <td>NaN</td>\n",
       "      <td>...</td>\n",
       "      <td>12.251534</td>\n",
       "      <td>11.950893</td>\n",
       "      <td>11.493392</td>\n",
       "      <td>11.786730</td>\n",
       "      <td>12.716599</td>\n",
       "      <td>12.332180</td>\n",
       "      <td>12.442424</td>\n",
       "      <td>12.279863</td>\n",
       "      <td>12.640580</td>\n",
       "      <td>12.239748</td>\n",
       "    </tr>\n",
       "    <tr>\n",
       "      <th>241603</th>\n",
       "      <td>12.555556</td>\n",
       "      <td>13.445455</td>\n",
       "      <td>11.515625</td>\n",
       "      <td>10.00</td>\n",
       "      <td>NaN</td>\n",
       "      <td>NaN</td>\n",
       "      <td>NaN</td>\n",
       "      <td>NaN</td>\n",
       "      <td>NaN</td>\n",
       "      <td>NaN</td>\n",
       "      <td>...</td>\n",
       "      <td>12.639175</td>\n",
       "      <td>12.183486</td>\n",
       "      <td>12.274336</td>\n",
       "      <td>12.633663</td>\n",
       "      <td>12.595890</td>\n",
       "      <td>13.136095</td>\n",
       "      <td>13.131313</td>\n",
       "      <td>13.538462</td>\n",
       "      <td>12.594444</td>\n",
       "      <td>12.469945</td>\n",
       "    </tr>\n",
       "    <tr>\n",
       "      <th>460217</th>\n",
       "      <td>13.555556</td>\n",
       "      <td>13.712121</td>\n",
       "      <td>16.104167</td>\n",
       "      <td>NaN</td>\n",
       "      <td>NaN</td>\n",
       "      <td>NaN</td>\n",
       "      <td>NaN</td>\n",
       "      <td>NaN</td>\n",
       "      <td>NaN</td>\n",
       "      <td>NaN</td>\n",
       "      <td>...</td>\n",
       "      <td>13.419540</td>\n",
       "      <td>14.228814</td>\n",
       "      <td>14.767677</td>\n",
       "      <td>14.453704</td>\n",
       "      <td>16.203252</td>\n",
       "      <td>14.158824</td>\n",
       "      <td>14.266304</td>\n",
       "      <td>14.115646</td>\n",
       "      <td>15.350877</td>\n",
       "      <td>13.780702</td>\n",
       "    </tr>\n",
       "    <tr>\n",
       "      <th>688359</th>\n",
       "      <td>15.265823</td>\n",
       "      <td>15.907895</td>\n",
       "      <td>15.418605</td>\n",
       "      <td>14.03</td>\n",
       "      <td>17.119565</td>\n",
       "      <td>18.379747</td>\n",
       "      <td>15.262295</td>\n",
       "      <td>17.857143</td>\n",
       "      <td>16.037037</td>\n",
       "      <td>16.931818</td>\n",
       "      <td>...</td>\n",
       "      <td>15.360825</td>\n",
       "      <td>15.268966</td>\n",
       "      <td>15.970370</td>\n",
       "      <td>14.826446</td>\n",
       "      <td>14.798817</td>\n",
       "      <td>17.079755</td>\n",
       "      <td>15.426357</td>\n",
       "      <td>15.494253</td>\n",
       "      <td>14.459770</td>\n",
       "      <td>15.815217</td>\n",
       "    </tr>\n",
       "  </tbody>\n",
       "</table>\n",
       "<p>10 rows × 24 columns</p>\n",
       "</div>"
      ],
      "text/plain": [
       "order_hour         0          1          2      3          4          5   \\\n",
       "product_id                                                                 \n",
       "83140             NaN        NaN        NaN    NaN        NaN        NaN   \n",
       "83142             NaN        NaN        NaN    NaN        NaN        NaN   \n",
       "143022      29.567901  25.256410  29.375000  21.60        NaN        NaN   \n",
       "143036      29.753086  23.000000  27.600000  27.80        NaN        NaN   \n",
       "175000            NaN        NaN        NaN    NaN        NaN        NaN   \n",
       "213410      14.887324  13.775862  15.700000    NaN        NaN        NaN   \n",
       "228863      12.580153  12.538095  10.966102    NaN        NaN        NaN   \n",
       "241603      12.555556  13.445455  11.515625  10.00        NaN        NaN   \n",
       "460217      13.555556  13.712121  16.104167    NaN        NaN        NaN   \n",
       "688359      15.265823  15.907895  15.418605  14.03  17.119565  18.379747   \n",
       "\n",
       "order_hour         6          7          8          9   ...         14  \\\n",
       "product_id                                              ...              \n",
       "83140             NaN        NaN        NaN        NaN  ...  19.613139   \n",
       "83142             NaN        NaN        NaN        NaN  ...  18.794118   \n",
       "143022      31.000000  13.500000  32.750000  26.739130  ...  22.847458   \n",
       "143036      31.500000  17.000000  25.875000  23.312500  ...  24.264957   \n",
       "175000            NaN        NaN        NaN        NaN  ...  19.088757   \n",
       "213410            NaN        NaN        NaN        NaN  ...  13.772487   \n",
       "228863            NaN        NaN        NaN        NaN  ...  12.251534   \n",
       "241603            NaN        NaN        NaN        NaN  ...  12.639175   \n",
       "460217            NaN        NaN        NaN        NaN  ...  13.419540   \n",
       "688359      15.262295  17.857143  16.037037  16.931818  ...  15.360825   \n",
       "\n",
       "order_hour         15         16         17         18         19         20  \\\n",
       "product_id                                                                     \n",
       "83140       19.812207  19.306748  17.720000  19.309028  19.139456  20.608414   \n",
       "83142       19.712500  18.594595  17.390000  18.565916  18.819209  20.148045   \n",
       "143022      22.379845  22.098684  23.179245  26.078431  27.188235  25.208861   \n",
       "143036      22.666667  24.088889  23.491228  25.468750  25.635036  24.715190   \n",
       "175000      19.059701  18.505263  17.245902  18.209877  18.484694  20.211982   \n",
       "213410      14.878049  14.870000  14.806723  17.169014  15.456044  14.272727   \n",
       "228863      11.950893  11.493392  11.786730  12.716599  12.332180  12.442424   \n",
       "241603      12.183486  12.274336  12.633663  12.595890  13.136095  13.131313   \n",
       "460217      14.228814  14.767677  14.453704  16.203252  14.158824  14.266304   \n",
       "688359      15.268966  15.970370  14.826446  14.798817  17.079755  15.426357   \n",
       "\n",
       "order_hour         21         22         23  \n",
       "product_id                                   \n",
       "83140       20.586466  20.268116        NaN  \n",
       "83142       20.245791  20.006623        NaN  \n",
       "143022      25.819876  25.200000  22.579710  \n",
       "143036      26.076923  27.573770  25.085271  \n",
       "175000      19.826816  19.678161        NaN  \n",
       "213410      14.401408  16.242424  14.205882  \n",
       "228863      12.279863  12.640580  12.239748  \n",
       "241603      13.538462  12.594444  12.469945  \n",
       "460217      14.115646  15.350877  13.780702  \n",
       "688359      15.494253  14.459770  15.815217  \n",
       "\n",
       "[10 rows x 24 columns]"
      ]
     },
     "execution_count": 61,
     "metadata": {},
     "output_type": "execute_result"
    }
   ],
   "source": [
    "# let's consider \n",
    "freq_prods = df_train['product_id'].value_counts().index[:10]\n",
    "\n",
    "# let's consider \n",
    "df_freq_prods = df_train[df_train['product_id'].isin(freq_prods)]\n",
    "\n",
    "pd.pivot_table(df_freq_prods, index='product_id', columns=['order_hour'], values='y', aggfunc='mean')"
   ]
  },
  {
   "cell_type": "markdown",
   "metadata": {},
   "source": [
    "## Continuous features "
   ]
  },
  {
   "cell_type": "code",
   "execution_count": 14,
   "metadata": {},
   "outputs": [],
   "source": [
    "import data_processing as pro\n",
    "df_train, df_test = pro.impute_prices(df_train, df_test)\n",
    "\n",
    "# impute the missing price samples with median\n",
    "df_train, df_test = pro.impute_price_with_median(df_train, df_test)\n",
    "\n",
    "# there should be non missing values from now on \n",
    "df_train, df_test = pro.impute_profit(df_train, df_test)"
   ]
  },
  {
   "cell_type": "code",
   "execution_count": null,
   "metadata": {},
   "outputs": [],
   "source": [
    "numerical_feats = ['profit', 'price', 'delivery_distance', 'planned_prep_time', 'y']\n",
    "# let's see the effect of outliers\n",
    "\n",
    "profit_outliers = eda.compute_iqr_limiters(df_train['profit'])\n",
    "price_outliers = eda.compute_iqr_limiters(df_train['price'])\n",
    "del_distance_outliers =eda.compute_iqr_limiters(df_train['delivery_distance'])\n",
    "\n",
    "profit_outliers, price_outliers, del_distance_outliers"
   ]
  },
  {
   "cell_type": "code",
   "execution_count": null,
   "metadata": {},
   "outputs": [],
   "source": [
    "import seaborn as sns\n",
    "fig, axes = plt.subplots(ncols=2, nrows=3, figsize=(22, 12))\n",
    "\n",
    "profit_all = df_train['profit'] \n",
    "profit_filtered = df_train[df_train['profit'].between(profit_outliers[0], profit_outliers[1])]['profit']\n",
    "\n",
    "del_distance_all = df_train['delivery_distance'] \n",
    "del_distance_filtered = df_train[df_train['delivery_distance'].between(del_distance_outliers[0], del_distance_outliers[1])]['delivery_distance']\n",
    "\n",
    "price_all = df_train['price'] \n",
    "price_filtered = df_train[df_train['price'].between(price_outliers[0], price_outliers[1])]['price']\n",
    "\n",
    "sns.histplot(data=profit_all,ax=axes[0, 0])\n",
    "axes[0, 0].set_title('profit')\n",
    "sns.histplot(data=profit_filtered,ax=axes[0, 1])\n",
    "axes[0, 1].set_title('profit filtered')\n",
    "\n",
    "\n",
    "sns.histplot(data=del_distance_all,ax=axes[1, 0])\n",
    "axes[1, 0].set_title('delivery distance')\n",
    "sns.histplot(data=del_distance_filtered,ax=axes[1, 1])\n",
    "axes[1, 1].set_title('delivery distance filtered')\n",
    "\n",
    "sns.histplot(data=price_all, ax=axes[2, 0])\n",
    "axes[2, 0].set_title('price')\n",
    "sns.histplot(data=price_filtered,ax=axes[2, 1])\n",
    "axes[2, 1].set_title('price filtered')\n",
    "\n",
    "plt.show()\n"
   ]
  },
  {
   "cell_type": "code",
   "execution_count": 19,
   "metadata": {},
   "outputs": [],
   "source": [
    "# let's create a new variable that represents whether a certain sample in an outlier with respect to the distribution of the continuous features\n",
    "importlib.reload(vis)\n",
    "feats = ['profit', 'price', 'delivery_distance']\n",
    "feats_extremes = [eda.compute_iqr_limiters(x=df_train[f]) for f in feats]\n",
    "for f, fext in zip(feats, feats_extremes):\n",
    "\tdf_train[f'{f}_is_outlier'] = (~df_train[f].between(fext[0], fext[1])).astype(int)\n",
    "\t"
   ]
  },
  {
   "cell_type": "code",
   "execution_count": null,
   "metadata": {},
   "outputs": [],
   "source": [
    "fig, axes = plt.subplots(nrows=3, ncols=2, sharex=False, sharey=False, figsize=(12, 12))\n",
    "for f_index, (f, fext) in enumerate(zip(feats, feats_extremes)):\n",
    "\tf1, f2 = df_train[df_train[f'{f}_is_outlier'] == True][f], df_train[df_train[f'{f}_is_outlier'] == False][f] \n",
    "\ty1, y2 = df_train[df_train[f'{f}_is_outlier'] == True][\"y\"], df_train[df_train[f'{f}_is_outlier'] == False][\"y\"], \n",
    "\n",
    "\tf1 = f1.sort_values()\n",
    "\tf2 = f2.sort_values()\n",
    "\n",
    "\taxes[f_index, 0].scatter(f1, y1)\n",
    "\taxes[f_index, 1].scatter(f2, y2)\n",
    "\n",
    "\taxes[f_index, 0].set_title(f\"{f} outliers\")\n",
    "\taxes[f_index, 1].set_title(f\"{f} non-outliers\")\n",
    "\n",
    "plt.show()"
   ]
  },
  {
   "cell_type": "code",
   "execution_count": null,
   "metadata": {},
   "outputs": [],
   "source": [
    "importlib.reload(vis)\n",
    "fig, axes = plt.subplots(nrows=3, ncols=1, sharex=False, sharey=False, figsize=(12, 12))\n",
    "for f_index, f in enumerate(feats):\n",
    "\tvis.visualize_discrete_values(df_train, \n",
    "\t\t\t\t\t\t\t   feat_col=f'{f}_is_outlier', \n",
    "\t\t\t\t\t\t\t   label_col='y', \n",
    "\t\t\t\t\t\t\t   axes=axes[f_index], \n",
    "\t\t\t\t\t\t\t   show=False, \n",
    "\t\t\t\t\t\t\t   n_most_freq=None)\n",
    "plt.show()"
   ]
  },
  {
   "cell_type": "markdown",
   "metadata": {},
   "source": [
    "* outliers removal\n",
    "* price imputation\n",
    "* profit imputation\n",
    "* product_id encoding\n",
    "* store_id encoding\n",
    "* time features\n",
    "* features scaling\n"
   ]
  },
  {
   "cell_type": "markdown",
   "metadata": {},
   "source": [
    "## Feature clasification: Encoding categorical features"
   ]
  },
  {
   "cell_type": "markdown",
   "metadata": {},
   "source": [
    "\n",
    "Before applying feature enginnering techniques, it is important to understand the type of data we have: categorial, numerical..."
   ]
  },
  {
   "cell_type": "markdown",
   "metadata": {},
   "source": [
    "The features can be classified as follows:\n",
    "\n",
    "1. Categorical: \n",
    "\t* product_id\n",
    "\t* store_id\n",
    "\t* order_id: if the product_id does not make a difference, then we will use group by the order id and reduce the number of samples...\n",
    "\n",
    "2. Continuous:\n",
    "\t* planned prep time\n",
    "\t* price\n",
    "\n",
    "3. time:\n",
    "\t* start_prep_time: extract the day of the week, the hour, the number of orders a store has received in the last \"x\" minutes\n",
    "\t* product creation time\n",
    "\n",
    "Few observations: \n",
    "\n",
    "* too many products\n",
    "* either discard products in general (if most of them were ordered only once or twice) or somehow laverage the frequntly ordered products\n",
    "* we have few stores which means we can build some \n",
    "* the price needs to aggregated across all items in the order\n"
   ]
  },
  {
   "cell_type": "markdown",
   "metadata": {},
   "source": [
    "# Product Ids: \n",
    "too many products, consider only the $n$ most frequent products where $n$ represent the number of products that cover $70\\%$ of all orders. Out of 55k unique products, $n$ turns out to be aroun 6k: almost $10\\%$. Any product id that does belong to this set was set to $-1$ as an id. This is just an intermediate step as the product ids were further encoded using the target encoder implemented by SKlearn. Although I experimented with some  custom encoding ideas of mine, The battle-test Target encoder led to better results"
   ]
  },
  {
   "cell_type": "markdown",
   "metadata": {},
   "source": [
    "### Store id\n",
    "\n",
    "We more 1.4k unique stores. One way to fully laverage the store_id is to compute the average deviation of the actual prep time from the planned one."
   ]
  },
  {
   "cell_type": "markdown",
   "metadata": {},
   "source": [
    "* region id\n",
    "* more time features\n",
    "* "
   ]
  },
  {
   "cell_type": "markdown",
   "metadata": {},
   "source": [
    "# Train Data Final Form"
   ]
  },
  {
   "cell_type": "markdown",
   "metadata": {},
   "source": [
    "All we have done so far revolved around preparing the features: mainly imputing as much of the `price` and `profit` features and trying to embed as much information in the encoding of the `store_id` and `product_id` features.\n"
   ]
  },
  {
   "cell_type": "code",
   "execution_count": null,
   "metadata": {},
   "outputs": [],
   "source": [
    "# making sure that the data is processed as intended, we will rerun everything with this concise piece of code\n",
    "db_file = os.path.join(DATA_FOLDER, 'F24.ML.Assignment.One.data.db')\n",
    "df_save_file = os.path.join(DATA_FOLDER, 'data.csv')\n",
    "initial_df = dpre.data_to_df(db_file, \n",
    "\t\tdf_save_file, \n",
    "\t\toverwrite=False # no need to execute the same lengthy query if the .csv file already exists...\n",
    "\t\t)\n",
    "all_data = dpre.prepare_all_data_regression(initial_df)\n",
    "\n",
    "df_train, df_test = dpre.df_split_regression(all_data, splits=(0.9, 0.1))\n",
    "# everything seems to checkout !!!\n",
    "len(df_train), len(df_test), round(len(df_train) / len(df_test), 4) \n",
    "\n",
    "df_train, df_test = pro.process_data_regression(df_train, df_test)\n",
    "y_train = df_train.pop('y')\n",
    "y_test = df_test.pop('y')"
   ]
  },
  {
   "cell_type": "code",
   "execution_count": null,
   "metadata": {},
   "outputs": [],
   "source": [
    "df_train.isna().sum(), df_test.isna().sum()"
   ]
  },
  {
   "cell_type": "code",
   "execution_count": 17,
   "metadata": {},
   "outputs": [],
   "source": [
    "# df_train.to_csv(os.path.join(DATA_FOLDER, 'train.csv'), index=False)\n",
    "# y_train.to_csv(os.path.join(DATA_FOLDER, 'y_train.csv'), index=False)\n",
    "\n",
    "# df_test.to_csv(os.path.join(DATA_FOLDER, 'test.csv'), index=False)\n",
    "# y_test.to_csv(os.path.join(DATA_FOLDER, 'y_test.csv'), index=False)"
   ]
  },
  {
   "cell_type": "markdown",
   "metadata": {},
   "source": [
    "# Regression Models"
   ]
  },
  {
   "cell_type": "code",
   "execution_count": 62,
   "metadata": {},
   "outputs": [],
   "source": [
    "df_train = pd.read_csv(os.path.join(DATA_FOLDER, 'regression', 'train_v2.csv'))\n",
    "y_train = pd.read_csv(os.path.join(DATA_FOLDER, 'regression', 'y_train_v2.csv')).squeeze()\n",
    "\n",
    "df_test = pd.read_csv(os.path.join(DATA_FOLDER, 'regression', 'test_v2.csv'))\n",
    "y_test = pd.read_csv(os.path.join(DATA_FOLDER, 'regression', 'y_test_v2.csv')).squeeze()"
   ]
  },
  {
   "cell_type": "code",
   "execution_count": 63,
   "metadata": {},
   "outputs": [
    {
     "data": {
      "text/plain": [
       "(profit                0\n",
       " delivery_distance     0\n",
       " region_id             0\n",
       " planned_prep_time     0\n",
       " product_id            0\n",
       " price                 0\n",
       " product_id_encoded    0\n",
       " y_deviation_mean      0\n",
       " y_deviation_u         0\n",
       " y_deviation_u2        0\n",
       " y_deviation_l         0\n",
       " y_deviation_l2        0\n",
       " order_hour            0\n",
       " order_day             0\n",
       " profit_is_outlier     0\n",
       " price_is_outlier      0\n",
       " dtype: int64,\n",
       " profit                0\n",
       " delivery_distance     0\n",
       " region_id             0\n",
       " planned_prep_time     0\n",
       " product_id            0\n",
       " price                 0\n",
       " product_id_encoded    0\n",
       " y_deviation_mean      0\n",
       " y_deviation_u         0\n",
       " y_deviation_u2        0\n",
       " y_deviation_l         0\n",
       " y_deviation_l2        0\n",
       " order_hour            0\n",
       " order_day             0\n",
       " profit_is_outlier     0\n",
       " price_is_outlier      0\n",
       " dtype: int64)"
      ]
     },
     "execution_count": 63,
     "metadata": {},
     "output_type": "execute_result"
    }
   ],
   "source": [
    "df_train.isna().sum(), df_test.isna().sum()"
   ]
  },
  {
   "cell_type": "code",
   "execution_count": 64,
   "metadata": {},
   "outputs": [
    {
     "name": "stdout",
     "output_type": "stream",
     "text": [
      "LinearRegression ({'train_rmse': 7.7039, 'train_mae': 5.8985, 'train_r2': 0.447}, {'test_rmse': 9.6701, 'test_mae': 6.3348, 'test_r2': 0.3943})\n",
      "Lasso ({'train_rmse': 7.7726, 'train_mae': 5.9537, 'train_r2': 0.4371}, {'test_rmse': 9.7461, 'test_mae': 6.3923, 'test_r2': 0.3847})\n",
      "Ridge ({'train_rmse': 7.7039, 'train_mae': 5.8985, 'train_r2': 0.447}, {'test_rmse': 9.6701, 'test_mae': 6.3348, 'test_r2': 0.3943})\n"
     ]
    },
    {
     "name": "stderr",
     "output_type": "stream",
     "text": [
      "c:\\Users\\bouab\\DEV\\Towards_Data_Science\\tds_env\\lib\\site-packages\\sklearn\\linear_model\\_ridge.py:204: LinAlgWarning: Ill-conditioned matrix (rcond=5.73134e-18): result may not be accurate.\n",
      "  return linalg.solve(A, Xy, assume_a=\"pos\", overwrite_a=True).T\n"
     ]
    }
   ],
   "source": [
    "import models\n",
    "importlib.reload(models)\n",
    "from sklearn.linear_model import LinearRegression, Ridge, Lasso\n",
    "lr, lr1, lr2 = LinearRegression(), Lasso(alpha=1), Ridge(alpha=1), \n",
    "models_res = {}\n",
    "for m in [lr, lr1, lr2]:\n",
    "\tm_name = models._extract_model_name_from_cls(m)\n",
    "\tmodels_res[m_name] = models.pipeline(df_train, y_train, df_test, y_test, m)\n",
    "\tprint(m_name, models_res[m_name][1:])"
   ]
  },
  {
   "cell_type": "code",
   "execution_count": 65,
   "metadata": {},
   "outputs": [],
   "source": [
    "from sklearn.tree import DecisionTreeRegressor\n",
    "DecReg = DecisionTreeRegressor(max_depth=4, random_state=0)\n",
    "models_res[models._extract_model_name_from_cls(DecReg)] = models.pipeline(df_train, y_train, df_test, y_test, DecReg)"
   ]
  },
  {
   "cell_type": "code",
   "execution_count": 66,
   "metadata": {},
   "outputs": [
    {
     "data": {
      "text/plain": [
       "(DecisionTreeRegressor(max_depth=4, random_state=0),\n",
       " {'train_rmse': 7.8389, 'train_mae': 6.0254, 'train_r2': 0.4274},\n",
       " {'test_rmse': 9.8491, 'test_mae': 6.4953, 'test_r2': 0.3717})"
      ]
     },
     "execution_count": 66,
     "metadata": {},
     "output_type": "execute_result"
    }
   ],
   "source": [
    "models_res[models._extract_model_name_from_cls(DecisionTreeRegressor())]"
   ]
  },
  {
   "cell_type": "code",
   "execution_count": 20,
   "metadata": {},
   "outputs": [],
   "source": [
    "from sklearn.ensemble import RandomForestRegressor\n",
    "rf = RandomForestRegressor(n_estimators=100, max_depth=4)\n",
    "models_res[models._extract_model_name_from_cls(rf)] = models.pipeline(df_train, y_train, df_test, y_test, rf)"
   ]
  },
  {
   "cell_type": "code",
   "execution_count": null,
   "metadata": {},
   "outputs": [],
   "source": [
    "models_res[models._extract_model_name_from_cls(RandomForestRegressor())]"
   ]
  },
  {
   "cell_type": "code",
   "execution_count": null,
   "metadata": {},
   "outputs": [],
   "source": [
    "stop"
   ]
  },
  {
   "cell_type": "markdown",
   "metadata": {},
   "source": [
    "# Classification"
   ]
  },
  {
   "cell_type": "code",
   "execution_count": null,
   "metadata": {},
   "outputs": [],
   "source": [
    "import data_preparation as dpre\n",
    "importlib.reload(dpre)\n",
    "db_file = os.path.join(DATA_FOLDER, 'F24.ML.Assignment.One.data.db')\n",
    "df_save_file = os.path.join(DATA_FOLDER, 'data.csv')\n",
    "initial_df= dpre.data_to_df(db_file, \n",
    "\t\tdf_save_file, \n",
    "\t\toverwrite=False # no need to execute the same lengthy query if the .csv file already exists...\n",
    "\t\t)\n",
    "all_data = dpre.prepare_all_data_classification(initial_df)\n",
    "\n",
    "# print(all_data.head())\n",
    "# split the data\n",
    "df_train, df_test = dpre.df_split_classification(all_data, splits=(0.9, 0.1))\n",
    "\n",
    "# # everything seems to checkout !!!\n",
    "# print(len(df_train), len(df_test), round(len(df_train) / len(df_test), 4))\n",
    "\n",
    "print(df_train['y_cls'].value_counts())\n",
    "print(df_test['y_cls'].value_counts())"
   ]
  },
  {
   "cell_type": "code",
   "execution_count": 21,
   "metadata": {},
   "outputs": [],
   "source": [
    "df_train = df_train.drop(columns='y').rename(columns={\"y_cls\": \"y\"})\n",
    "df_test = df_test.drop(columns='y').rename(columns={\"y_cls\": \"y\"})"
   ]
  },
  {
   "cell_type": "code",
   "execution_count": null,
   "metadata": {},
   "outputs": [],
   "source": [
    "d = df_train[~df_train['order_created_date'].isna()]\n",
    "d['delay'] = (d['start_prep_date'] - d['order_created_date']).dt.total_seconds()"
   ]
  },
  {
   "cell_type": "code",
   "execution_count": null,
   "metadata": {},
   "outputs": [],
   "source": [
    "min_d, max_d = eda.compute_iqr_limiters(d['delay'])\n",
    "d['delay_is_outlier'] = (~d['delay'].between(min_d, max_d)).astype(int)\n"
   ]
  },
  {
   "cell_type": "code",
   "execution_count": null,
   "metadata": {},
   "outputs": [],
   "source": [
    "d['delay_is_outlier'].mean()"
   ]
  },
  {
   "cell_type": "code",
   "execution_count": null,
   "metadata": {},
   "outputs": [],
   "source": [
    "d[d['delay_is_outlier']==True]['y'].mean(), d[d['delay_is_outlier']==False]['y'].mean()\n"
   ]
  },
  {
   "cell_type": "code",
   "execution_count": null,
   "metadata": {},
   "outputs": [],
   "source": [
    "d['delay_is_outlier'] = (~d['delay'].between(min_d, max_d)).astype(int)\n",
    "d['delay_is_outlier']"
   ]
  },
  {
   "cell_type": "code",
   "execution_count": null,
   "metadata": {},
   "outputs": [],
   "source": [
    "np.corrcoef(d['delay_is_outlier'], d['y'])"
   ]
  },
  {
   "cell_type": "code",
   "execution_count": null,
   "metadata": {},
   "outputs": [],
   "source": [
    "df_train, df_test = pro.process_data_classification(df_train, df_test)"
   ]
  },
  {
   "cell_type": "code",
   "execution_count": null,
   "metadata": {},
   "outputs": [],
   "source": [
    "# last idea is to check region_id\n"
   ]
  },
  {
   "cell_type": "markdown",
   "metadata": {},
   "source": [
    "# Classification Models"
   ]
  }
 ],
 "metadata": {
  "language_info": {
   "name": "python"
  }
 },
 "nbformat": 4,
 "nbformat_minor": 2
}
