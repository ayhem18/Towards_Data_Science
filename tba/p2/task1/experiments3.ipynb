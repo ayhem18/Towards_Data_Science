{
 "cells": [
  {
   "cell_type": "markdown",
   "metadata": {},
   "source": [
    "# Divide the scan into different brain sections "
   ]
  },
  {
   "cell_type": "code",
   "execution_count": 30,
   "metadata": {},
   "outputs": [],
   "source": [
    "from itertools import chain\n",
    "import seaborn as sns\n",
    "import matplotlib.pyplot as plt\n",
    "import os\n",
    "import numpy as np\n",
    "current_dir = os.getcwd()\n",
    "\n",
    "# let's see how it goes\n",
    "npy_file_path = os.path.join(current_dir, 'ihb.npy')\n",
    "\n",
    "all_data = np.load(npy_file_path)"
   ]
  },
  {
   "cell_type": "code",
   "execution_count": 31,
   "metadata": {},
   "outputs": [
    {
     "data": {
      "text/plain": [
       "(320, 10, 246)"
      ]
     },
     "execution_count": 31,
     "metadata": {},
     "output_type": "execute_result"
    }
   ],
   "source": [
    "all_data.shape"
   ]
  },
  {
   "cell_type": "code",
   "execution_count": 32,
   "metadata": {},
   "outputs": [
    {
     "data": {
      "text/plain": [
       "0      160\n",
       "460    160\n",
       "Name: count, dtype: int64"
      ]
     },
     "execution_count": 32,
     "metadata": {},
     "output_type": "execute_result"
    }
   ],
   "source": [
    "import pandas as pd\n",
    "num_nans = [np.isnan(all_data[i]).sum() for i in range(all_data.shape[0])]\n",
    "nan_values = pd.Series(num_nans)\n",
    "nan_values.value_counts()"
   ]
  },
  {
   "cell_type": "code",
   "execution_count": 33,
   "metadata": {},
   "outputs": [],
   "source": [
    "g1 = [all_data[i] for i in range(all_data.shape[0]) if np.isnan(all_data[i]).sum() == 0]\n",
    "g2 = [all_data[i] for i in range(all_data.shape[0]) if np.isnan(all_data[i]).sum() == 460]\n",
    "\n",
    "g2_nan_distribution = np.zeros(shape=(len(g2), len(g2)))\n",
    "\n",
    "for i1, element1 in enumerate(g2):\n",
    "\tfor i2, element2 in enumerate(g2):\n",
    "\t\tg2_nan_distribution[i1][i2] = all(np.sum(np.isnan(element1), axis=1) == np.sum(np.isnan(element2), axis=1))\n",
    "\n",
    "g2 = [scan[:, :-46] for scan in g2]"
   ]
  },
  {
   "cell_type": "markdown",
   "metadata": {},
   "source": [
    "# The first step: group scans of the same scan but with different smoothing"
   ]
  },
  {
   "cell_type": "code",
   "execution_count": 34,
   "metadata": {},
   "outputs": [],
   "source": [
    "# we know for a fact that we have 160 samples belonging to 20 subjects each having\n",
    "\n",
    "# let's calculate the auto correlation of each time sequence in each of scan\n",
    "from typing import Union, List\n",
    "from scipy.signal import correlate2d, correlate\n",
    "\n",
    "def autocorrelation_stats(scan: np.ndarray, aggregate:bool=True) -> Union[List, float]:\t\n",
    "\tassert len(scan) == 10\n",
    "\tauto_correlations =  [float(correlate(scan[i:], scan[:-i])) for i in range(1, 6)]\n",
    "\tif aggregate:\n",
    "\t\treturn np.mean(auto_correlations)\n",
    "\treturn auto_correlations\n",
    "\n",
    "def build_ac_pairs(scans: List[np.ndarray]) -> set:\n",
    "\tauto_corrs = np.zeros(shape=(len(scans), len(scans)))\n",
    "\n",
    "\tfor i1, element1 in enumerate(scans):\n",
    "\t\tfor i2, element2 in enumerate(scans):\n",
    "\t\t\tauto_corrs[i1][i2] = correlate2d(element1, element2, \"valid\").item()\t\n",
    "\t\n",
    "\t# for each row, row[0] represents the closest index to scan[i] in terms of auto correlation\n",
    "\t# row[1] represents the same index\n",
    "\tpaired_scans_by_ac = np.argsort(auto_corrs, axis=-1)[:, -2:]\n",
    "\n",
    "\tpairs = set()\n",
    "\n",
    "\tfor i in range(len(scans)):\n",
    "\t\tassert paired_scans_by_ac[i, 1] == i, \"check the code\"\n",
    "\t\tclosest_scan_index = paired_scans_by_ac[i, 0]\n",
    "\t\tif paired_scans_by_ac[closest_scan_index, 0] == i and (closest_scan_index, i) not in pairs:\n",
    "\t\t\tpairs.add((i, closest_scan_index)) \n",
    "\n",
    "\treturn pairs"
   ]
  },
  {
   "cell_type": "code",
   "execution_count": 35,
   "metadata": {},
   "outputs": [],
   "source": [
    "g1_pairs, g2_pairs = build_ac_pairs(g1), build_ac_pairs(g2)"
   ]
  },
  {
   "cell_type": "code",
   "execution_count": 36,
   "metadata": {},
   "outputs": [
    {
     "data": {
      "text/plain": [
       "(80, 80)"
      ]
     },
     "execution_count": 36,
     "metadata": {},
     "output_type": "execute_result"
    }
   ],
   "source": [
    "len(g1_pairs), len(g2_pairs)"
   ]
  },
  {
   "cell_type": "code",
   "execution_count": 37,
   "metadata": {},
   "outputs": [],
   "source": [
    "def unified_segment_rep(scans: List[np.ndarray], pairs_indices: set) -> List[np.ndarray]:\n",
    "\tavg_segments = []\n",
    "\tfor i1, i2 in pairs_indices:\n",
    "\t\ts1, s2  = scans[i1], scans[i2]\n",
    "\t\tif s1.shape != s2.shape:\n",
    "\t\t\traise ValueError(\"Make sure the code is correct. found pairs with different shapes\")\n",
    "\t\tavg_segments.append((s1 + s2) / 2)\n",
    "\treturn avg_segments"
   ]
  },
  {
   "cell_type": "code",
   "execution_count": 38,
   "metadata": {},
   "outputs": [],
   "source": [
    "avg_g1, avg_g2 = unified_segment_rep(g1, g1_pairs), unified_segment_rep(g2, g2_pairs)"
   ]
  },
  {
   "cell_type": "code",
   "execution_count": 39,
   "metadata": {},
   "outputs": [],
   "source": [
    "def compute_auto_corr_concatenation(seg1: np.ndarray, seg2: np.ndarray):\n",
    "\tassert seg1.shape == seg2.shape, \"both segments same shape\"\n",
    "\tc_seg1 = np.concatenate([seg1, seg2], axis=0)\n",
    "\tc_seg2 = np.concatenate([seg2, seg1], axis=0)\n",
    "\n",
    "\tassert c_seg1.shape[0] == 2 * seg1.shape[0] and c_seg1.shape[1] == seg1.shape[1], \"concatenation correct\"\n",
    "\tassert c_seg2.shape[0] == 2 * seg2.shape[0] and c_seg2.shape[1] == seg2.shape[1], \"concatenation correct\"\n",
    "\n",
    "\tc1 = np.mean([correlate2d(c_seg1[i:i + len(seg1), :], seg1, \"valid\").item() for i in range(len(seg1))])\n",
    "\tc2 = np.mean([correlate2d(c_seg2[i:i + len(seg1), :], seg2, \"valid\").item() for i in range(len(seg1))])\n",
    "\treturn max(c1, c2)\n"
   ]
  },
  {
   "cell_type": "markdown",
   "metadata": {},
   "source": [
    "# One final attempt to match segments belonging to the same sequence"
   ]
  },
  {
   "cell_type": "code",
   "execution_count": 40,
   "metadata": {},
   "outputs": [],
   "source": [
    "from sklearn.decomposition import PCA\n",
    "from sklearn.preprocessing import StandardScaler\n",
    "\n",
    "\n",
    "def estimate_consecutive_samples(seg1: np.ndarray, seg2: np.ndarray, eval_method: str) -> float:\n",
    "\tif eval_method not in ['avg', 'count']:\n",
    "\t\traise NotImplementedError(\"eval_method non-implemented\")\n",
    "\n",
    "\tassert seg1.shape == seg2.shape, \"both segments same shape\"\n",
    "\tc_seg1 = np.concatenate([seg1, seg2], axis=0)\n",
    "\tc_seg2 = np.concatenate([seg2, seg1], axis=0)\n",
    "\n",
    "\n",
    "\tassert c_seg1.shape[0] == 2 * seg1.shape[0] and c_seg1.shape[1] == seg1.shape[1], \"concatenation correct\"\n",
    "\tassert c_seg2.shape[0] == 2 * seg2.shape[0] and c_seg2.shape[1] == seg2.shape[1], \"concatenation correct\"\n",
    "\n",
    "\n",
    "\tscaler = StandardScaler()\n",
    "\n",
    "\tif eval_method == 'count':\n",
    "\t\tpca1 = PCA(n_components=0.9)\n",
    "\t\tpca2 = PCA(n_components=0.9)\n",
    "\telse:\n",
    "\t\tpca1 = PCA(n_components=3)\n",
    "\t\tpca2 = PCA(n_components=3)\n",
    "\n",
    "\tseg1 = scaler.fit_transform(seg1)\n",
    "\tseg2 = scaler.fit_transform(seg2)\n",
    "\n",
    "\tpca1.fit(seg1)\n",
    "\tpca2.fit(seg2)\n",
    "\n",
    "\t# extract the explained ratio\n",
    "\tvar_ratio1 = pca1.explained_variance_ratio_\n",
    "\tvar_ratio2 = pca2.explained_variance_ratio_\n",
    "\n",
    "\tif eval_method == 'count':\n",
    "\t\treturn min(len(var_ratio1), len(var_ratio2))\n",
    "\n",
    "\treturn max(np.mean(var_ratio1), np.mean(var_ratio2))"
   ]
  },
  {
   "cell_type": "code",
   "execution_count": 133,
   "metadata": {},
   "outputs": [
    {
     "data": {
      "text/plain": [
       "0.01555238615190042"
      ]
     },
     "execution_count": 133,
     "metadata": {},
     "output_type": "execute_result"
    }
   ],
   "source": [
    "def yet_another_estimate(seg1: np.ndarray, seg2: np.ndarray) -> float:\n",
    "\tassert seg1.shape == seg2.shape, \"both segments same shape\"\n",
    "\tc_seg = np.concatenate([seg1, seg2], axis=0)\n",
    "\n",
    "\tassert c_seg.shape[0] == 2 * seg1.shape[0] and c_seg.shape[1] == seg1.shape[1], \"concatenation correct\"\n",
    "\n",
    "\treturn np.mean(correlate2d(seg1, c_seg, \"full\")[:,  :len(seg1.shape)]).item()\n",
    "\n",
    "yet_another_estimate(avg_g1[0], avg_g1[0])"
   ]
  },
  {
   "cell_type": "code",
   "execution_count": 41,
   "metadata": {},
   "outputs": [],
   "source": [
    "# pca_estimates = np.zeros((len(avg_g1), len(avg_g1)))\n",
    "\n",
    "# for i in range(len(avg_g1)):\n",
    "# \tfor j in range(i, len(avg_g1)):\n",
    "# \t\tpca_estimates[i][j] = estimate_consecutive_samples(avg_g1[i], avg_g1[j], eval_method='avg')\n",
    "# \t\tpca_estimates[j][i] = pca_estimates[i][j]"
   ]
  },
  {
   "cell_type": "code",
   "execution_count": 42,
   "metadata": {},
   "outputs": [],
   "source": [
    "# plt.figure(figsize=(8, 8))\n",
    "# sns.heatmap(pca_estimates)\n",
    "# plt.show()"
   ]
  },
  {
   "cell_type": "markdown",
   "metadata": {},
   "source": [
    "# Reduce 80 to 20: find clusters of 4\n",
    "Most of the ideas tried to group the differnt time stamps of the same sequence failed. Let's just try to group them"
   ]
  },
  {
   "cell_type": "markdown",
   "metadata": {},
   "source": [
    "The first step is `feature extraction` from the time series signals. The different possible measures according to this [Nature scientific Report](https://www.nature.com/articles/s41598-020-57915-w) are the following: \n",
    "\n",
    "* Pearson's correlation \n",
    "* Auto Correlation: seems to work pretty well for us, let's give it a shot\n",
    "* Mutual Information"
   ]
  },
  {
   "cell_type": "code",
   "execution_count": 112,
   "metadata": {},
   "outputs": [
    {
     "data": {
      "text/plain": [
       "(10, 246)"
      ]
     },
     "execution_count": 112,
     "metadata": {},
     "output_type": "execute_result"
    }
   ],
   "source": [
    "def calculate_auto_corr_scan(scan: np.ndarray) -> np.ndarray:\n",
    "\treturn correlate2d(scan, scan, \"same\")\n",
    "\n",
    "# correlate(avg_g1[0][0], avg_g1[0][0],).shape\n",
    "f1 = calculate_auto_corr_scan(avg_g1[0])\n",
    "f1.shape"
   ]
  },
  {
   "cell_type": "code",
   "execution_count": 113,
   "metadata": {},
   "outputs": [],
   "source": [
    "g1_ac = np.concatenate([np.mean(calculate_auto_corr_scan(x), axis=0, keepdims=True) for x in avg_g1])\n",
    "g1_ac.shape\n",
    "scaler = StandardScaler()\n",
    "g1_ac = scaler.fit_transform(g1_ac) "
   ]
  },
  {
   "cell_type": "code",
   "execution_count": 114,
   "metadata": {},
   "outputs": [
    {
     "data": {
      "text/plain": [
       "(80, 246)"
      ]
     },
     "execution_count": 114,
     "metadata": {},
     "output_type": "execute_result"
    }
   ],
   "source": [
    "g1_ac.shape"
   ]
  },
  {
   "cell_type": "code",
   "execution_count": 115,
   "metadata": {},
   "outputs": [],
   "source": [
    "# use Pca to reduce it\n",
    "pca = PCA(n_components=0.9, random_state=0)\n",
    "g1_ac_reduced = pca.fit_transform(g1_ac)"
   ]
  },
  {
   "cell_type": "code",
   "execution_count": 116,
   "metadata": {},
   "outputs": [
    {
     "data": {
      "text/plain": [
       "array([0.15707637, 0.12567974, 0.10027906, 0.07119732, 0.05425904,\n",
       "       0.04505014, 0.0330016 , 0.02821455, 0.02294587, 0.0222722 ,\n",
       "       0.01960771, 0.01793751, 0.01594586, 0.01474107, 0.01409098,\n",
       "       0.0136403 , 0.01229518, 0.01133829, 0.01090905, 0.01022472,\n",
       "       0.00949182, 0.00930582, 0.00864933, 0.00854193, 0.00788716,\n",
       "       0.00757075, 0.00738373, 0.00692346, 0.00668352, 0.00628249,\n",
       "       0.00596272, 0.00567693, 0.00546646, 0.00517652])"
      ]
     },
     "execution_count": 116,
     "metadata": {},
     "output_type": "execute_result"
    }
   ],
   "source": [
    "pca.explained_variance_ratio_"
   ]
  },
  {
   "cell_type": "code",
   "execution_count": 87,
   "metadata": {},
   "outputs": [
    {
     "data": {
      "text/plain": [
       "(80, 34)"
      ]
     },
     "execution_count": 87,
     "metadata": {},
     "output_type": "execute_result"
    }
   ],
   "source": [
    "g1_ac_reduced.shape"
   ]
  },
  {
   "cell_type": "code",
   "execution_count": 92,
   "metadata": {},
   "outputs": [],
   "source": [
    "from sklearn.manifold import TSNE\n",
    "t = TSNE(n_components=2, random_state=0)\n",
    "tsne_embs = t.fit_transform(g1_ac_reduced)"
   ]
  },
  {
   "cell_type": "code",
   "execution_count": 93,
   "metadata": {},
   "outputs": [
    {
     "data": {
      "image/png": "[encoded data removed]",
      "text/plain": [
       "<Figure size 640x480 with 1 Axes>"
      ]
     },
     "metadata": {},
     "output_type": "display_data"
    }
   ],
   "source": [
    "plt.scatter(tsne_embs[0], tsne_embs[1])\n",
    "plt.show()"
   ]
  },
  {
   "cell_type": "code",
   "execution_count": 110,
   "metadata": {},
   "outputs": [],
   "source": [
    "# let's see if we can get some decent clusters with this representation\n",
    "from sklearn.cluster import AgglomerativeClustering\n",
    "\n",
    "agg = AgglomerativeClustering(n_clusters=20, linkage='single', metric='cosine')\n",
    "\n",
    "labels = agg.fit_predict(g1_ac_reduced)"
   ]
  },
  {
   "cell_type": "code",
   "execution_count": 111,
   "metadata": {},
   "outputs": [
    {
     "data": {
      "text/plain": [
       "1     59\n",
       "3      2\n",
       "0      2\n",
       "16     1\n",
       "8      1\n",
       "4      1\n",
       "5      1\n",
       "9      1\n",
       "10     1\n",
       "7      1\n",
       "12     1\n",
       "6      1\n",
       "15     1\n",
       "19     1\n",
       "18     1\n",
       "14     1\n",
       "13     1\n",
       "17     1\n",
       "11     1\n",
       "2      1\n",
       "Name: count, dtype: int64"
      ]
     },
     "execution_count": 111,
     "metadata": {},
     "output_type": "execute_result"
    }
   ],
   "source": [
    "pd.Series(labels).value_counts()"
   ]
  }
 ],
 "metadata": {
  "language_info": {
   "name": "python"
  }
 },
 "nbformat": 4,
 "nbformat_minor": 2
}
